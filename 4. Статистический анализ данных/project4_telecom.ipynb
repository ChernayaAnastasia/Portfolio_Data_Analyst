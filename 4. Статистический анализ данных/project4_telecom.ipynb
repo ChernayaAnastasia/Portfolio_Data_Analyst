{
 "cells": [
  {
   "cell_type": "markdown",
   "id": "300b0990-191a-452a-8cb5-ffd03aabcf30",
   "metadata": {},
   "source": [
    "# Исследование тарифов сотовой связи \"Мегалайн\"<a name=\"introduction\"></a>\n",
    "\n",
    "**КРАТКОЕ ОПИСАНИЕ ИССЛЕДОВАНИЯ** \n",
    "\n",
    "**Цель исследования** \n",
    "\n",
    "Научиться определять, какой тариф является более прибыльным, и проанализировать поведение клиентов разных тарифов. \n",
    "\n",
    "**Входные данные** \n",
    "\n",
    "Данные 500 пользователей «Мегалайна»: кто они, откуда, каким тарифом пользуются, сколько звонков и сообщений каждый отправил за 2018 год.\n",
    "\n",
    "**Заказчик исследования**\n",
    "\n",
    "Коммерческий департамент сотовой связи \"Мегалайн\". \n",
    "\n",
    "**Практическое применение результатов исследования**\n",
    "\n",
    "Исследование позволит коммерческому департаменту \"Мегалайн\" скорректировать рекламный бюджет"
   ]
  },
  {
   "cell_type": "markdown",
   "id": "92881ae0-2ad8-47dd-b1d9-e7df3809ffbe",
   "metadata": {
    "jupyter": {
     "outputs_hidden": true
    },
    "tags": []
   },
   "source": [
    "# <a name=\"contents\"> </a> Содержание исследования\n",
    "\n",
    "## [Обзор данных и предобработка](#stage_1)\n",
    "   \n",
    "* Обзор таблицы  users\n",
    "* Обзор таблицы calls \n",
    "* Обзор таблицы internet\n",
    "* Обзор таблицы messages\n",
    "\n",
    "## [Обогащение данных и создание сводных таблиц](#stage_2)\n",
    "\n",
    "* Добавление колонки с месяцемв \n",
    "* Добавление колонки с включенным в тариф интернет-трафиком, выраженного в гигабайтах\n",
    "* Создание сводной таблицы для каждого пользователя помесячно по звонкам\n",
    "* Создание сводной таблицы по количеству сообщений для каждого пользователя помесячно\n",
    "* Создание сводной таблицы по объему израсходованного интернет-трафика по месяцам для каждого пользователя\n",
    "* Объединение таблиц: объединение звонков и сообщений, добавление таблицы с интернет-трафиком, добавление таблицы с информацией о пользователях и о тарифе.\n",
    "* Проверка результирующей таблицы.\n",
    "\n",
    "## [Анализ данных финальной сводной таблицы](#stage_3)\n",
    "\n",
    "* Визуализация данных (построение гистограмм, ящиков с усами)\n",
    "* Ответы на вопросы\n",
    "\n",
    "## [Проверка гипотез](#stage_4)\n",
    "\n",
    "* Проверка гипотезы о равенстве средних выручек тарифов ultra и smart\n",
    "* Проверка гипотезы о равенстве средних выручек для Москвы и других городов\n",
    "\n",
    "## [Общий вывод](#stage_5)"
   ]
  },
  {
   "cell_type": "markdown",
   "id": "ef0d0a1d-58b3-432a-a5f3-5d798fd30b97",
   "metadata": {},
   "source": [
    "<a name=\"stage_1\"></a>\n",
    "\n",
    "# Этап 1. Обзор данных\n",
    "\n",
    "\n",
    "[Наверх к оглавлению](#contents)"
   ]
  },
  {
   "cell_type": "markdown",
   "id": "c5c8a396-b1db-4114-af2f-fd859edcb4b7",
   "metadata": {},
   "source": [
    "Импортируем библиотеки для проекта"
   ]
  },
  {
   "cell_type": "code",
   "execution_count": 1,
   "id": "cb0d71b9-2fa4-4e8a-bc44-ca364930c5da",
   "metadata": {},
   "outputs": [],
   "source": [
    "import pandas as pd\n",
    "import numpy as np\n",
    "import matplotlib.pyplot as plt\n",
    "import seaborn as sns\n",
    "from scipy import stats as st"
   ]
  },
  {
   "cell_type": "markdown",
   "id": "c00b64b7-86ac-4892-9695-c45f236e4997",
   "metadata": {},
   "source": [
    "Загрузим файлы"
   ]
  },
  {
   "cell_type": "code",
   "execution_count": 2,
   "id": "de86bfea-98c9-449b-8b52-217506ac435a",
   "metadata": {
    "tags": []
   },
   "outputs": [],
   "source": [
    "users = pd.read_csv('data/users.csv') \n",
    "calls = pd.read_csv('data/calls.csv')\n",
    "internet = pd.read_csv('data/internet.csv', index_col=0) \n",
    "messages = pd.read_csv('data/messages.csv') \n",
    "tariffs = pd.read_csv('data/tariffs.csv') "
   ]
  },
  {
   "cell_type": "markdown",
   "id": "85313312-018c-45fa-9144-a7d74dd50a7b",
   "metadata": {},
   "source": [
    "Бегло посмотрим, как загрузились наши данные"
   ]
  },
  {
   "cell_type": "code",
   "execution_count": 3,
   "id": "c06ba865-0ac4-4376-ac0d-d4a5044c8416",
   "metadata": {},
   "outputs": [
    {
     "name": "stdout",
     "output_type": "stream",
     "text": [
      "\n"
     ]
    },
    {
     "data": {
      "text/html": [
       "<div>\n",
       "<style scoped>\n",
       "    .dataframe tbody tr th:only-of-type {\n",
       "        vertical-align: middle;\n",
       "    }\n",
       "\n",
       "    .dataframe tbody tr th {\n",
       "        vertical-align: top;\n",
       "    }\n",
       "\n",
       "    .dataframe thead th {\n",
       "        text-align: right;\n",
       "    }\n",
       "</style>\n",
       "<table border=\"1\" class=\"dataframe\">\n",
       "  <thead>\n",
       "    <tr style=\"text-align: right;\">\n",
       "      <th></th>\n",
       "      <th>user_id</th>\n",
       "      <th>age</th>\n",
       "      <th>churn_date</th>\n",
       "      <th>city</th>\n",
       "      <th>first_name</th>\n",
       "      <th>last_name</th>\n",
       "      <th>reg_date</th>\n",
       "      <th>tariff</th>\n",
       "    </tr>\n",
       "  </thead>\n",
       "  <tbody>\n",
       "    <tr>\n",
       "      <th>0</th>\n",
       "      <td>1000</td>\n",
       "      <td>52</td>\n",
       "      <td>NaN</td>\n",
       "      <td>Краснодар</td>\n",
       "      <td>Рафаил</td>\n",
       "      <td>Верещагин</td>\n",
       "      <td>2018-05-25</td>\n",
       "      <td>ultra</td>\n",
       "    </tr>\n",
       "    <tr>\n",
       "      <th>1</th>\n",
       "      <td>1001</td>\n",
       "      <td>41</td>\n",
       "      <td>NaN</td>\n",
       "      <td>Москва</td>\n",
       "      <td>Иван</td>\n",
       "      <td>Ежов</td>\n",
       "      <td>2018-11-01</td>\n",
       "      <td>smart</td>\n",
       "    </tr>\n",
       "    <tr>\n",
       "      <th>2</th>\n",
       "      <td>1002</td>\n",
       "      <td>59</td>\n",
       "      <td>NaN</td>\n",
       "      <td>Стерлитамак</td>\n",
       "      <td>Евгений</td>\n",
       "      <td>Абрамович</td>\n",
       "      <td>2018-06-17</td>\n",
       "      <td>smart</td>\n",
       "    </tr>\n",
       "    <tr>\n",
       "      <th>3</th>\n",
       "      <td>1003</td>\n",
       "      <td>23</td>\n",
       "      <td>NaN</td>\n",
       "      <td>Москва</td>\n",
       "      <td>Белла</td>\n",
       "      <td>Белякова</td>\n",
       "      <td>2018-08-17</td>\n",
       "      <td>ultra</td>\n",
       "    </tr>\n",
       "    <tr>\n",
       "      <th>4</th>\n",
       "      <td>1004</td>\n",
       "      <td>68</td>\n",
       "      <td>NaN</td>\n",
       "      <td>Новокузнецк</td>\n",
       "      <td>Татьяна</td>\n",
       "      <td>Авдеенко</td>\n",
       "      <td>2018-05-14</td>\n",
       "      <td>ultra</td>\n",
       "    </tr>\n",
       "  </tbody>\n",
       "</table>\n",
       "</div>"
      ],
      "text/plain": [
       "   user_id  age churn_date         city first_name  last_name    reg_date  \\\n",
       "0     1000   52        NaN    Краснодар     Рафаил  Верещагин  2018-05-25   \n",
       "1     1001   41        NaN       Москва       Иван       Ежов  2018-11-01   \n",
       "2     1002   59        NaN  Стерлитамак    Евгений  Абрамович  2018-06-17   \n",
       "3     1003   23        NaN       Москва      Белла   Белякова  2018-08-17   \n",
       "4     1004   68        NaN  Новокузнецк    Татьяна   Авдеенко  2018-05-14   \n",
       "\n",
       "  tariff  \n",
       "0  ultra  \n",
       "1  smart  \n",
       "2  smart  \n",
       "3  ultra  \n",
       "4  ultra  "
      ]
     },
     "metadata": {},
     "output_type": "display_data"
    },
    {
     "name": "stdout",
     "output_type": "stream",
     "text": [
      "\n",
      "\n"
     ]
    },
    {
     "data": {
      "text/html": [
       "<div>\n",
       "<style scoped>\n",
       "    .dataframe tbody tr th:only-of-type {\n",
       "        vertical-align: middle;\n",
       "    }\n",
       "\n",
       "    .dataframe tbody tr th {\n",
       "        vertical-align: top;\n",
       "    }\n",
       "\n",
       "    .dataframe thead th {\n",
       "        text-align: right;\n",
       "    }\n",
       "</style>\n",
       "<table border=\"1\" class=\"dataframe\">\n",
       "  <thead>\n",
       "    <tr style=\"text-align: right;\">\n",
       "      <th></th>\n",
       "      <th>id</th>\n",
       "      <th>call_date</th>\n",
       "      <th>duration</th>\n",
       "      <th>user_id</th>\n",
       "    </tr>\n",
       "  </thead>\n",
       "  <tbody>\n",
       "    <tr>\n",
       "      <th>0</th>\n",
       "      <td>1000_0</td>\n",
       "      <td>2018-07-25</td>\n",
       "      <td>0.00</td>\n",
       "      <td>1000</td>\n",
       "    </tr>\n",
       "    <tr>\n",
       "      <th>1</th>\n",
       "      <td>1000_1</td>\n",
       "      <td>2018-08-17</td>\n",
       "      <td>0.00</td>\n",
       "      <td>1000</td>\n",
       "    </tr>\n",
       "    <tr>\n",
       "      <th>2</th>\n",
       "      <td>1000_2</td>\n",
       "      <td>2018-06-11</td>\n",
       "      <td>2.85</td>\n",
       "      <td>1000</td>\n",
       "    </tr>\n",
       "    <tr>\n",
       "      <th>3</th>\n",
       "      <td>1000_3</td>\n",
       "      <td>2018-09-21</td>\n",
       "      <td>13.80</td>\n",
       "      <td>1000</td>\n",
       "    </tr>\n",
       "    <tr>\n",
       "      <th>4</th>\n",
       "      <td>1000_4</td>\n",
       "      <td>2018-12-15</td>\n",
       "      <td>5.18</td>\n",
       "      <td>1000</td>\n",
       "    </tr>\n",
       "  </tbody>\n",
       "</table>\n",
       "</div>"
      ],
      "text/plain": [
       "       id   call_date  duration  user_id\n",
       "0  1000_0  2018-07-25      0.00     1000\n",
       "1  1000_1  2018-08-17      0.00     1000\n",
       "2  1000_2  2018-06-11      2.85     1000\n",
       "3  1000_3  2018-09-21     13.80     1000\n",
       "4  1000_4  2018-12-15      5.18     1000"
      ]
     },
     "metadata": {},
     "output_type": "display_data"
    },
    {
     "name": "stdout",
     "output_type": "stream",
     "text": [
      "\n",
      "\n"
     ]
    },
    {
     "data": {
      "text/html": [
       "<div>\n",
       "<style scoped>\n",
       "    .dataframe tbody tr th:only-of-type {\n",
       "        vertical-align: middle;\n",
       "    }\n",
       "\n",
       "    .dataframe tbody tr th {\n",
       "        vertical-align: top;\n",
       "    }\n",
       "\n",
       "    .dataframe thead th {\n",
       "        text-align: right;\n",
       "    }\n",
       "</style>\n",
       "<table border=\"1\" class=\"dataframe\">\n",
       "  <thead>\n",
       "    <tr style=\"text-align: right;\">\n",
       "      <th></th>\n",
       "      <th>id</th>\n",
       "      <th>mb_used</th>\n",
       "      <th>session_date</th>\n",
       "      <th>user_id</th>\n",
       "    </tr>\n",
       "  </thead>\n",
       "  <tbody>\n",
       "    <tr>\n",
       "      <th>0</th>\n",
       "      <td>1000_0</td>\n",
       "      <td>112.95</td>\n",
       "      <td>2018-11-25</td>\n",
       "      <td>1000</td>\n",
       "    </tr>\n",
       "    <tr>\n",
       "      <th>1</th>\n",
       "      <td>1000_1</td>\n",
       "      <td>1052.81</td>\n",
       "      <td>2018-09-07</td>\n",
       "      <td>1000</td>\n",
       "    </tr>\n",
       "    <tr>\n",
       "      <th>2</th>\n",
       "      <td>1000_2</td>\n",
       "      <td>1197.26</td>\n",
       "      <td>2018-06-25</td>\n",
       "      <td>1000</td>\n",
       "    </tr>\n",
       "    <tr>\n",
       "      <th>3</th>\n",
       "      <td>1000_3</td>\n",
       "      <td>550.27</td>\n",
       "      <td>2018-08-22</td>\n",
       "      <td>1000</td>\n",
       "    </tr>\n",
       "    <tr>\n",
       "      <th>4</th>\n",
       "      <td>1000_4</td>\n",
       "      <td>302.56</td>\n",
       "      <td>2018-09-24</td>\n",
       "      <td>1000</td>\n",
       "    </tr>\n",
       "  </tbody>\n",
       "</table>\n",
       "</div>"
      ],
      "text/plain": [
       "       id  mb_used session_date  user_id\n",
       "0  1000_0   112.95   2018-11-25     1000\n",
       "1  1000_1  1052.81   2018-09-07     1000\n",
       "2  1000_2  1197.26   2018-06-25     1000\n",
       "3  1000_3   550.27   2018-08-22     1000\n",
       "4  1000_4   302.56   2018-09-24     1000"
      ]
     },
     "metadata": {},
     "output_type": "display_data"
    },
    {
     "name": "stdout",
     "output_type": "stream",
     "text": [
      "\n",
      "\n"
     ]
    },
    {
     "data": {
      "text/html": [
       "<div>\n",
       "<style scoped>\n",
       "    .dataframe tbody tr th:only-of-type {\n",
       "        vertical-align: middle;\n",
       "    }\n",
       "\n",
       "    .dataframe tbody tr th {\n",
       "        vertical-align: top;\n",
       "    }\n",
       "\n",
       "    .dataframe thead th {\n",
       "        text-align: right;\n",
       "    }\n",
       "</style>\n",
       "<table border=\"1\" class=\"dataframe\">\n",
       "  <thead>\n",
       "    <tr style=\"text-align: right;\">\n",
       "      <th></th>\n",
       "      <th>id</th>\n",
       "      <th>message_date</th>\n",
       "      <th>user_id</th>\n",
       "    </tr>\n",
       "  </thead>\n",
       "  <tbody>\n",
       "    <tr>\n",
       "      <th>0</th>\n",
       "      <td>1000_0</td>\n",
       "      <td>2018-06-27</td>\n",
       "      <td>1000</td>\n",
       "    </tr>\n",
       "    <tr>\n",
       "      <th>1</th>\n",
       "      <td>1000_1</td>\n",
       "      <td>2018-10-08</td>\n",
       "      <td>1000</td>\n",
       "    </tr>\n",
       "    <tr>\n",
       "      <th>2</th>\n",
       "      <td>1000_2</td>\n",
       "      <td>2018-08-04</td>\n",
       "      <td>1000</td>\n",
       "    </tr>\n",
       "    <tr>\n",
       "      <th>3</th>\n",
       "      <td>1000_3</td>\n",
       "      <td>2018-06-16</td>\n",
       "      <td>1000</td>\n",
       "    </tr>\n",
       "    <tr>\n",
       "      <th>4</th>\n",
       "      <td>1000_4</td>\n",
       "      <td>2018-12-05</td>\n",
       "      <td>1000</td>\n",
       "    </tr>\n",
       "  </tbody>\n",
       "</table>\n",
       "</div>"
      ],
      "text/plain": [
       "       id message_date  user_id\n",
       "0  1000_0   2018-06-27     1000\n",
       "1  1000_1   2018-10-08     1000\n",
       "2  1000_2   2018-08-04     1000\n",
       "3  1000_3   2018-06-16     1000\n",
       "4  1000_4   2018-12-05     1000"
      ]
     },
     "metadata": {},
     "output_type": "display_data"
    },
    {
     "name": "stdout",
     "output_type": "stream",
     "text": [
      "\n",
      "\n"
     ]
    },
    {
     "data": {
      "text/html": [
       "<div>\n",
       "<style scoped>\n",
       "    .dataframe tbody tr th:only-of-type {\n",
       "        vertical-align: middle;\n",
       "    }\n",
       "\n",
       "    .dataframe tbody tr th {\n",
       "        vertical-align: top;\n",
       "    }\n",
       "\n",
       "    .dataframe thead th {\n",
       "        text-align: right;\n",
       "    }\n",
       "</style>\n",
       "<table border=\"1\" class=\"dataframe\">\n",
       "  <thead>\n",
       "    <tr style=\"text-align: right;\">\n",
       "      <th></th>\n",
       "      <th>messages_included</th>\n",
       "      <th>mb_per_month_included</th>\n",
       "      <th>minutes_included</th>\n",
       "      <th>rub_monthly_fee</th>\n",
       "      <th>rub_per_gb</th>\n",
       "      <th>rub_per_message</th>\n",
       "      <th>rub_per_minute</th>\n",
       "      <th>tariff_name</th>\n",
       "    </tr>\n",
       "  </thead>\n",
       "  <tbody>\n",
       "    <tr>\n",
       "      <th>0</th>\n",
       "      <td>50</td>\n",
       "      <td>15360</td>\n",
       "      <td>500</td>\n",
       "      <td>550</td>\n",
       "      <td>200</td>\n",
       "      <td>3</td>\n",
       "      <td>3</td>\n",
       "      <td>smart</td>\n",
       "    </tr>\n",
       "    <tr>\n",
       "      <th>1</th>\n",
       "      <td>1000</td>\n",
       "      <td>30720</td>\n",
       "      <td>3000</td>\n",
       "      <td>1950</td>\n",
       "      <td>150</td>\n",
       "      <td>1</td>\n",
       "      <td>1</td>\n",
       "      <td>ultra</td>\n",
       "    </tr>\n",
       "  </tbody>\n",
       "</table>\n",
       "</div>"
      ],
      "text/plain": [
       "   messages_included  mb_per_month_included  minutes_included  \\\n",
       "0                 50                  15360               500   \n",
       "1               1000                  30720              3000   \n",
       "\n",
       "   rub_monthly_fee  rub_per_gb  rub_per_message  rub_per_minute tariff_name  \n",
       "0              550         200                3               3       smart  \n",
       "1             1950         150                1               1       ultra  "
      ]
     },
     "metadata": {},
     "output_type": "display_data"
    },
    {
     "name": "stdout",
     "output_type": "stream",
     "text": [
      "\n"
     ]
    }
   ],
   "source": [
    "df_list = [users, calls, internet, messages, tariffs]\n",
    "\n",
    "for df in df_list:\n",
    "    print()\n",
    "    display(df.head())\n",
    "    print()"
   ]
  },
  {
   "cell_type": "markdown",
   "id": "e34231ed-866d-48b7-aa7e-2aaa0d43594d",
   "metadata": {},
   "source": [
    "Все ок, двигаемся дальше. "
   ]
  },
  {
   "cell_type": "markdown",
   "id": "8728092d-0ec6-4576-b1b5-d0ed69bbc765",
   "metadata": {},
   "source": [
    "## Таблица users"
   ]
  },
  {
   "cell_type": "markdown",
   "id": "0ae25e36-9939-4f3c-a274-ee8437908a9f",
   "metadata": {},
   "source": [
    "Информация о пользователях "
   ]
  },
  {
   "cell_type": "markdown",
   "id": "118271d6-7b16-449d-8a3a-6212c52985a1",
   "metadata": {},
   "source": [
    "**Описание данных согласно документации:**\n",
    "    \n",
    "    user_id — уникальный идентификатор пользователя\n",
    "\n",
    "    first_name — имя пользователя\n",
    "\n",
    "    last_name — фамилия пользователя\n",
    "\n",
    "    age — возраст пользователя (годы)\n",
    "\n",
    "    reg_date — дата подключения тарифа (день, месяц, год)\n",
    "\n",
    "    churn_date — дата прекращения пользования тарифом (если значение пропущено, то тариф ещё действовал на момент выгрузки данных)\n",
    "    \n",
    "    city — город проживания пользователя\n",
    "\n",
    "    tarif — название тарифного плана"
   ]
  },
  {
   "cell_type": "code",
   "execution_count": 4,
   "id": "a309d1a4-8286-4f7a-9239-6e68ac46955b",
   "metadata": {},
   "outputs": [
    {
     "name": "stdout",
     "output_type": "stream",
     "text": [
      "<class 'pandas.core.frame.DataFrame'>\n",
      "RangeIndex: 500 entries, 0 to 499\n",
      "Data columns (total 8 columns):\n",
      " #   Column      Non-Null Count  Dtype \n",
      "---  ------      --------------  ----- \n",
      " 0   user_id     500 non-null    int64 \n",
      " 1   age         500 non-null    int64 \n",
      " 2   churn_date  38 non-null     object\n",
      " 3   city        500 non-null    object\n",
      " 4   first_name  500 non-null    object\n",
      " 5   last_name   500 non-null    object\n",
      " 6   reg_date    500 non-null    object\n",
      " 7   tariff      500 non-null    object\n",
      "dtypes: int64(2), object(6)\n",
      "memory usage: 31.4+ KB\n"
     ]
    }
   ],
   "source": [
    "users.info()"
   ]
  },
  {
   "cell_type": "markdown",
   "id": "48561af3-eb11-4d17-a1a3-a8bdce46d681",
   "metadata": {},
   "source": [
    "В столбце churn_date пропущены значения. Согласно документации если значение пропущено, то тариф ещё действовал на момент выгрузки данных. Здесь ничего не трогаем."
   ]
  },
  {
   "cell_type": "markdown",
   "id": "a6ea0b52-523a-4048-96fb-61f003f23038",
   "metadata": {},
   "source": [
    "Можно было бы привести reg_date к типу данных datetime, но не будем тратить на это время, поскольку этот столбец не интересен нам для исследования. \n",
    "С остальными типами данных все в порядке."
   ]
  },
  {
   "cell_type": "markdown",
   "id": "7dffe82f-1317-40fd-a311-40d34ddc7aa6",
   "metadata": {},
   "source": [
    "Удобно, когда user_id не численный тип, чтобы ничего там не считать, поэтому приведем user_id к строке."
   ]
  },
  {
   "cell_type": "code",
   "execution_count": 5,
   "id": "f9750818-c352-459a-8605-a862878cb530",
   "metadata": {},
   "outputs": [],
   "source": [
    "users = users.astype({'user_id': 'str'}) "
   ]
  },
  {
   "cell_type": "code",
   "execution_count": 6,
   "id": "45e62a30-638b-4219-8a8a-9dab8a9f81d4",
   "metadata": {},
   "outputs": [
    {
     "data": {
      "text/plain": [
       "'Количество явных дубликатов: 0'"
      ]
     },
     "execution_count": 6,
     "metadata": {},
     "output_type": "execute_result"
    }
   ],
   "source": [
    "f'Количество явных дубликатов: {users.duplicated().sum()}'"
   ]
  },
  {
   "cell_type": "markdown",
   "id": "0e5a1204-b333-49c8-b5c3-baaab4216c6a",
   "metadata": {},
   "source": [
    "Выводим описательную статистику. Поскольку у нас только age имеет численный тип, то только по нему и получим статистику"
   ]
  },
  {
   "cell_type": "code",
   "execution_count": 7,
   "id": "683e59c9-81db-40c8-9c30-3950ee88f1ae",
   "metadata": {},
   "outputs": [
    {
     "data": {
      "text/html": [
       "<div>\n",
       "<style scoped>\n",
       "    .dataframe tbody tr th:only-of-type {\n",
       "        vertical-align: middle;\n",
       "    }\n",
       "\n",
       "    .dataframe tbody tr th {\n",
       "        vertical-align: top;\n",
       "    }\n",
       "\n",
       "    .dataframe thead th {\n",
       "        text-align: right;\n",
       "    }\n",
       "</style>\n",
       "<table border=\"1\" class=\"dataframe\">\n",
       "  <thead>\n",
       "    <tr style=\"text-align: right;\">\n",
       "      <th></th>\n",
       "      <th>age</th>\n",
       "    </tr>\n",
       "  </thead>\n",
       "  <tbody>\n",
       "    <tr>\n",
       "      <th>count</th>\n",
       "      <td>500.00000</td>\n",
       "    </tr>\n",
       "    <tr>\n",
       "      <th>mean</th>\n",
       "      <td>46.58800</td>\n",
       "    </tr>\n",
       "    <tr>\n",
       "      <th>std</th>\n",
       "      <td>16.66763</td>\n",
       "    </tr>\n",
       "    <tr>\n",
       "      <th>min</th>\n",
       "      <td>18.00000</td>\n",
       "    </tr>\n",
       "    <tr>\n",
       "      <th>25%</th>\n",
       "      <td>32.00000</td>\n",
       "    </tr>\n",
       "    <tr>\n",
       "      <th>50%</th>\n",
       "      <td>46.00000</td>\n",
       "    </tr>\n",
       "    <tr>\n",
       "      <th>75%</th>\n",
       "      <td>62.00000</td>\n",
       "    </tr>\n",
       "    <tr>\n",
       "      <th>max</th>\n",
       "      <td>75.00000</td>\n",
       "    </tr>\n",
       "  </tbody>\n",
       "</table>\n",
       "</div>"
      ],
      "text/plain": [
       "             age\n",
       "count  500.00000\n",
       "mean    46.58800\n",
       "std     16.66763\n",
       "min     18.00000\n",
       "25%     32.00000\n",
       "50%     46.00000\n",
       "75%     62.00000\n",
       "max     75.00000"
      ]
     },
     "execution_count": 7,
     "metadata": {},
     "output_type": "execute_result"
    }
   ],
   "source": [
    "users.describe()"
   ]
  },
  {
   "cell_type": "markdown",
   "id": "e22f4b6c-fffc-4ca8-a974-120ccf79c378",
   "metadata": {},
   "source": [
    "Проверяем, точно ли у нас два тарифа в датасете"
   ]
  },
  {
   "cell_type": "code",
   "execution_count": 8,
   "id": "ed4e87f9-f80b-41d7-ba5e-a10f78b2137d",
   "metadata": {},
   "outputs": [
    {
     "data": {
      "text/plain": [
       "array(['ultra', 'smart'], dtype=object)"
      ]
     },
     "execution_count": 8,
     "metadata": {},
     "output_type": "execute_result"
    }
   ],
   "source": [
    "users.tariff.unique()"
   ]
  },
  {
   "cell_type": "markdown",
   "id": "5563a2e9-c0f9-449a-83cb-c2f7494d05b0",
   "metadata": {},
   "source": [
    "Cмотрим на процент пользователей в зависимости от тарифа"
   ]
  },
  {
   "cell_type": "code",
   "execution_count": 9,
   "id": "3db0b84b-c6f7-484f-9225-81ae936dfdfd",
   "metadata": {
    "tags": []
   },
   "outputs": [
    {
     "data": {
      "text/plain": [
       "'Процент пользователей тарифа ультра: 29.8%'"
      ]
     },
     "execution_count": 9,
     "metadata": {},
     "output_type": "execute_result"
    }
   ],
   "source": [
    "f\"Процент пользователей тарифа ультра: {users[users['tariff']=='ultra'].count()[0]/len(users):.1%}\""
   ]
  },
  {
   "cell_type": "code",
   "execution_count": 10,
   "id": "650fe140-a50c-4787-a651-ae404907cb6a",
   "metadata": {},
   "outputs": [
    {
     "data": {
      "text/plain": [
       "'Процент пользователей тарифа смарт: 70.2%'"
      ]
     },
     "execution_count": 10,
     "metadata": {},
     "output_type": "execute_result"
    }
   ],
   "source": [
    "f\"Процент пользователей тарифа смарт: {users[users['tariff']=='smart'].count()[0]/len(users):.1%}\""
   ]
  },
  {
   "cell_type": "markdown",
   "id": "225ee955-4034-494e-9dd3-84ef61d31e68",
   "metadata": {},
   "source": [
    "Посмотрим на столбец city. Выведем на экран список уникальных названий городов, отсортированный в алфавитном порядке. "
   ]
  },
  {
   "cell_type": "code",
   "execution_count": 11,
   "id": "e595e44f-d71a-4486-9f40-662f56a3411b",
   "metadata": {},
   "outputs": [
    {
     "data": {
      "text/plain": [
       "array(['Архангельск', 'Астрахань', 'Балашиха', 'Барнаул', 'Белгород',\n",
       "       'Брянск', 'Владивосток', 'Владикавказ', 'Владимир', 'Волгоград',\n",
       "       'Волжский', 'Вологда', 'Воронеж', 'Грозный', 'Екатеринбург',\n",
       "       'Иваново', 'Ижевск', 'Иркутск', 'Казань', 'Калининград', 'Калуга',\n",
       "       'Кемерово', 'Киров', 'Кострома', 'Краснодар', 'Красноярск',\n",
       "       'Курган', 'Курск', 'Липецк', 'Магнитогорск', 'Махачкала', 'Москва',\n",
       "       'Мурманск', 'Набережные Челны', 'Нижневартовск', 'Нижний Новгород',\n",
       "       'Нижний Тагил', 'Новокузнецк', 'Новороссийск', 'Новосибирск',\n",
       "       'Омск', 'Оренбург', 'Орёл', 'Пенза', 'Пермь', 'Петрозаводск',\n",
       "       'Подольск', 'Ростов-на-Дону', 'Рязань', 'Самара',\n",
       "       'Санкт-Петербург', 'Саранск', 'Саратов', 'Севастополь', 'Смоленск',\n",
       "       'Сочи', 'Ставрополь', 'Стерлитамак', 'Сургут', 'Тамбов', 'Тверь',\n",
       "       'Тольятти', 'Томск', 'Тула', 'Тюмень', 'Улан-Удэ', 'Ульяновск',\n",
       "       'Уфа', 'Хабаровск', 'Химки', 'Чебоксары', 'Челябинск', 'Череповец',\n",
       "       'Чита', 'Якутск', 'Ярославль'], dtype=object)"
      ]
     },
     "execution_count": 11,
     "metadata": {},
     "output_type": "execute_result"
    }
   ],
   "source": [
    "users['city'].sort_values().unique()"
   ]
  },
  {
   "cell_type": "markdown",
   "id": "b51e89a3-4e0e-4bc0-bdd3-8201432d5216",
   "metadata": {},
   "source": [
    "В названии городов нарушений не обнаружено."
   ]
  },
  {
   "cell_type": "markdown",
   "id": "0e37e1a6-7244-4004-83ee-9d36997e43c8",
   "metadata": {},
   "source": [
    "Посмотрим на распределение пользователей по городам. Выведем процент пользователей по каждому городу от общего количества клиентов."
   ]
  },
  {
   "cell_type": "code",
   "execution_count": 12,
   "id": "e3600291-90b4-4227-bb99-fe5bb9621e31",
   "metadata": {
    "tags": []
   },
   "outputs": [
    {
     "data": {
      "text/html": [
       "<style type=\"text/css\">\n",
       "</style>\n",
       "<table id=\"T_93ead\">\n",
       "  <thead>\n",
       "    <tr>\n",
       "      <th class=\"blank level0\" >&nbsp;</th>\n",
       "      <th id=\"T_93ead_level0_col0\" class=\"col_heading level0 col0\" >percent_of_users</th>\n",
       "    </tr>\n",
       "  </thead>\n",
       "  <tbody>\n",
       "    <tr>\n",
       "      <th id=\"T_93ead_level0_row0\" class=\"row_heading level0 row0\" >Москва</th>\n",
       "      <td id=\"T_93ead_row0_col0\" class=\"data row0 col0\" >19.8%</td>\n",
       "    </tr>\n",
       "    <tr>\n",
       "      <th id=\"T_93ead_level0_row1\" class=\"row_heading level0 row1\" >Санкт-Петербург</th>\n",
       "      <td id=\"T_93ead_row1_col0\" class=\"data row1 col0\" >7.8%</td>\n",
       "    </tr>\n",
       "    <tr>\n",
       "      <th id=\"T_93ead_level0_row2\" class=\"row_heading level0 row2\" >Новосибирск</th>\n",
       "      <td id=\"T_93ead_row2_col0\" class=\"data row2 col0\" >3.2%</td>\n",
       "    </tr>\n",
       "    <tr>\n",
       "      <th id=\"T_93ead_level0_row3\" class=\"row_heading level0 row3\" >Омск</th>\n",
       "      <td id=\"T_93ead_row3_col0\" class=\"data row3 col0\" >2.8%</td>\n",
       "    </tr>\n",
       "    <tr>\n",
       "      <th id=\"T_93ead_level0_row4\" class=\"row_heading level0 row4\" >Казань</th>\n",
       "      <td id=\"T_93ead_row4_col0\" class=\"data row4 col0\" >2.8%</td>\n",
       "    </tr>\n",
       "    <tr>\n",
       "      <th id=\"T_93ead_level0_row5\" class=\"row_heading level0 row5\" >Уфа</th>\n",
       "      <td id=\"T_93ead_row5_col0\" class=\"data row5 col0\" >2.4%</td>\n",
       "    </tr>\n",
       "    <tr>\n",
       "      <th id=\"T_93ead_level0_row6\" class=\"row_heading level0 row6\" >Краснодар</th>\n",
       "      <td id=\"T_93ead_row6_col0\" class=\"data row6 col0\" >2.2%</td>\n",
       "    </tr>\n",
       "    <tr>\n",
       "      <th id=\"T_93ead_level0_row7\" class=\"row_heading level0 row7\" >Набережные Челны</th>\n",
       "      <td id=\"T_93ead_row7_col0\" class=\"data row7 col0\" >2.2%</td>\n",
       "    </tr>\n",
       "    <tr>\n",
       "      <th id=\"T_93ead_level0_row8\" class=\"row_heading level0 row8\" >Ульяновск</th>\n",
       "      <td id=\"T_93ead_row8_col0\" class=\"data row8 col0\" >2.2%</td>\n",
       "    </tr>\n",
       "    <tr>\n",
       "      <th id=\"T_93ead_level0_row9\" class=\"row_heading level0 row9\" >Екатеринбург</th>\n",
       "      <td id=\"T_93ead_row9_col0\" class=\"data row9 col0\" >2.2%</td>\n",
       "    </tr>\n",
       "    <tr>\n",
       "      <th id=\"T_93ead_level0_row10\" class=\"row_heading level0 row10\" >Челябинск</th>\n",
       "      <td id=\"T_93ead_row10_col0\" class=\"data row10 col0\" >1.8%</td>\n",
       "    </tr>\n",
       "    <tr>\n",
       "      <th id=\"T_93ead_level0_row11\" class=\"row_heading level0 row11\" >Самара</th>\n",
       "      <td id=\"T_93ead_row11_col0\" class=\"data row11 col0\" >1.8%</td>\n",
       "    </tr>\n",
       "    <tr>\n",
       "      <th id=\"T_93ead_level0_row12\" class=\"row_heading level0 row12\" >Нижний Новгород</th>\n",
       "      <td id=\"T_93ead_row12_col0\" class=\"data row12 col0\" >1.6%</td>\n",
       "    </tr>\n",
       "    <tr>\n",
       "      <th id=\"T_93ead_level0_row13\" class=\"row_heading level0 row13\" >Волгоград</th>\n",
       "      <td id=\"T_93ead_row13_col0\" class=\"data row13 col0\" >1.6%</td>\n",
       "    </tr>\n",
       "    <tr>\n",
       "      <th id=\"T_93ead_level0_row14\" class=\"row_heading level0 row14\" >Пермь</th>\n",
       "      <td id=\"T_93ead_row14_col0\" class=\"data row14 col0\" >1.6%</td>\n",
       "    </tr>\n",
       "    <tr>\n",
       "      <th id=\"T_93ead_level0_row15\" class=\"row_heading level0 row15\" >Улан-Удэ</th>\n",
       "      <td id=\"T_93ead_row15_col0\" class=\"data row15 col0\" >1.4%</td>\n",
       "    </tr>\n",
       "    <tr>\n",
       "      <th id=\"T_93ead_level0_row16\" class=\"row_heading level0 row16\" >Новокузнецк</th>\n",
       "      <td id=\"T_93ead_row16_col0\" class=\"data row16 col0\" >1.4%</td>\n",
       "    </tr>\n",
       "    <tr>\n",
       "      <th id=\"T_93ead_level0_row17\" class=\"row_heading level0 row17\" >Вологда</th>\n",
       "      <td id=\"T_93ead_row17_col0\" class=\"data row17 col0\" >1.4%</td>\n",
       "    </tr>\n",
       "    <tr>\n",
       "      <th id=\"T_93ead_level0_row18\" class=\"row_heading level0 row18\" >Красноярск</th>\n",
       "      <td id=\"T_93ead_row18_col0\" class=\"data row18 col0\" >1.4%</td>\n",
       "    </tr>\n",
       "    <tr>\n",
       "      <th id=\"T_93ead_level0_row19\" class=\"row_heading level0 row19\" >Сочи</th>\n",
       "      <td id=\"T_93ead_row19_col0\" class=\"data row19 col0\" >1.2%</td>\n",
       "    </tr>\n",
       "    <tr>\n",
       "      <th id=\"T_93ead_level0_row20\" class=\"row_heading level0 row20\" >Иркутск</th>\n",
       "      <td id=\"T_93ead_row20_col0\" class=\"data row20 col0\" >1.2%</td>\n",
       "    </tr>\n",
       "    <tr>\n",
       "      <th id=\"T_93ead_level0_row21\" class=\"row_heading level0 row21\" >Ростов-на-Дону</th>\n",
       "      <td id=\"T_93ead_row21_col0\" class=\"data row21 col0\" >1.2%</td>\n",
       "    </tr>\n",
       "    <tr>\n",
       "      <th id=\"T_93ead_level0_row22\" class=\"row_heading level0 row22\" >Тюмень</th>\n",
       "      <td id=\"T_93ead_row22_col0\" class=\"data row22 col0\" >1.2%</td>\n",
       "    </tr>\n",
       "    <tr>\n",
       "      <th id=\"T_93ead_level0_row23\" class=\"row_heading level0 row23\" >Пенза</th>\n",
       "      <td id=\"T_93ead_row23_col0\" class=\"data row23 col0\" >1.2%</td>\n",
       "    </tr>\n",
       "    <tr>\n",
       "      <th id=\"T_93ead_level0_row24\" class=\"row_heading level0 row24\" >Киров</th>\n",
       "      <td id=\"T_93ead_row24_col0\" class=\"data row24 col0\" >1.2%</td>\n",
       "    </tr>\n",
       "    <tr>\n",
       "      <th id=\"T_93ead_level0_row25\" class=\"row_heading level0 row25\" >Томск</th>\n",
       "      <td id=\"T_93ead_row25_col0\" class=\"data row25 col0\" >1.2%</td>\n",
       "    </tr>\n",
       "    <tr>\n",
       "      <th id=\"T_93ead_level0_row26\" class=\"row_heading level0 row26\" >Воронеж</th>\n",
       "      <td id=\"T_93ead_row26_col0\" class=\"data row26 col0\" >1.2%</td>\n",
       "    </tr>\n",
       "    <tr>\n",
       "      <th id=\"T_93ead_level0_row27\" class=\"row_heading level0 row27\" >Владивосток</th>\n",
       "      <td id=\"T_93ead_row27_col0\" class=\"data row27 col0\" >1.0%</td>\n",
       "    </tr>\n",
       "    <tr>\n",
       "      <th id=\"T_93ead_level0_row28\" class=\"row_heading level0 row28\" >Ставрополь</th>\n",
       "      <td id=\"T_93ead_row28_col0\" class=\"data row28 col0\" >1.0%</td>\n",
       "    </tr>\n",
       "    <tr>\n",
       "      <th id=\"T_93ead_level0_row29\" class=\"row_heading level0 row29\" >Махачкала</th>\n",
       "      <td id=\"T_93ead_row29_col0\" class=\"data row29 col0\" >1.0%</td>\n",
       "    </tr>\n",
       "    <tr>\n",
       "      <th id=\"T_93ead_level0_row30\" class=\"row_heading level0 row30\" >Балашиха</th>\n",
       "      <td id=\"T_93ead_row30_col0\" class=\"data row30 col0\" >1.0%</td>\n",
       "    </tr>\n",
       "    <tr>\n",
       "      <th id=\"T_93ead_level0_row31\" class=\"row_heading level0 row31\" >Магнитогорск</th>\n",
       "      <td id=\"T_93ead_row31_col0\" class=\"data row31 col0\" >1.0%</td>\n",
       "    </tr>\n",
       "    <tr>\n",
       "      <th id=\"T_93ead_level0_row32\" class=\"row_heading level0 row32\" >Тольятти</th>\n",
       "      <td id=\"T_93ead_row32_col0\" class=\"data row32 col0\" >0.8%</td>\n",
       "    </tr>\n",
       "    <tr>\n",
       "      <th id=\"T_93ead_level0_row33\" class=\"row_heading level0 row33\" >Саранск</th>\n",
       "      <td id=\"T_93ead_row33_col0\" class=\"data row33 col0\" >0.8%</td>\n",
       "    </tr>\n",
       "    <tr>\n",
       "      <th id=\"T_93ead_level0_row34\" class=\"row_heading level0 row34\" >Новороссийск</th>\n",
       "      <td id=\"T_93ead_row34_col0\" class=\"data row34 col0\" >0.8%</td>\n",
       "    </tr>\n",
       "    <tr>\n",
       "      <th id=\"T_93ead_level0_row35\" class=\"row_heading level0 row35\" >Кострома</th>\n",
       "      <td id=\"T_93ead_row35_col0\" class=\"data row35 col0\" >0.8%</td>\n",
       "    </tr>\n",
       "    <tr>\n",
       "      <th id=\"T_93ead_level0_row36\" class=\"row_heading level0 row36\" >Астрахань</th>\n",
       "      <td id=\"T_93ead_row36_col0\" class=\"data row36 col0\" >0.8%</td>\n",
       "    </tr>\n",
       "    <tr>\n",
       "      <th id=\"T_93ead_level0_row37\" class=\"row_heading level0 row37\" >Петрозаводск</th>\n",
       "      <td id=\"T_93ead_row37_col0\" class=\"data row37 col0\" >0.8%</td>\n",
       "    </tr>\n",
       "    <tr>\n",
       "      <th id=\"T_93ead_level0_row38\" class=\"row_heading level0 row38\" >Хабаровск</th>\n",
       "      <td id=\"T_93ead_row38_col0\" class=\"data row38 col0\" >0.8%</td>\n",
       "    </tr>\n",
       "    <tr>\n",
       "      <th id=\"T_93ead_level0_row39\" class=\"row_heading level0 row39\" >Чита</th>\n",
       "      <td id=\"T_93ead_row39_col0\" class=\"data row39 col0\" >0.8%</td>\n",
       "    </tr>\n",
       "    <tr>\n",
       "      <th id=\"T_93ead_level0_row40\" class=\"row_heading level0 row40\" >Калуга</th>\n",
       "      <td id=\"T_93ead_row40_col0\" class=\"data row40 col0\" >0.8%</td>\n",
       "    </tr>\n",
       "    <tr>\n",
       "      <th id=\"T_93ead_level0_row41\" class=\"row_heading level0 row41\" >Рязань</th>\n",
       "      <td id=\"T_93ead_row41_col0\" class=\"data row41 col0\" >0.8%</td>\n",
       "    </tr>\n",
       "    <tr>\n",
       "      <th id=\"T_93ead_level0_row42\" class=\"row_heading level0 row42\" >Мурманск</th>\n",
       "      <td id=\"T_93ead_row42_col0\" class=\"data row42 col0\" >0.8%</td>\n",
       "    </tr>\n",
       "    <tr>\n",
       "      <th id=\"T_93ead_level0_row43\" class=\"row_heading level0 row43\" >Тверь</th>\n",
       "      <td id=\"T_93ead_row43_col0\" class=\"data row43 col0\" >0.6%</td>\n",
       "    </tr>\n",
       "    <tr>\n",
       "      <th id=\"T_93ead_level0_row44\" class=\"row_heading level0 row44\" >Череповец</th>\n",
       "      <td id=\"T_93ead_row44_col0\" class=\"data row44 col0\" >0.6%</td>\n",
       "    </tr>\n",
       "    <tr>\n",
       "      <th id=\"T_93ead_level0_row45\" class=\"row_heading level0 row45\" >Чебоксары</th>\n",
       "      <td id=\"T_93ead_row45_col0\" class=\"data row45 col0\" >0.6%</td>\n",
       "    </tr>\n",
       "    <tr>\n",
       "      <th id=\"T_93ead_level0_row46\" class=\"row_heading level0 row46\" >Ярославль</th>\n",
       "      <td id=\"T_93ead_row46_col0\" class=\"data row46 col0\" >0.6%</td>\n",
       "    </tr>\n",
       "    <tr>\n",
       "      <th id=\"T_93ead_level0_row47\" class=\"row_heading level0 row47\" >Барнаул</th>\n",
       "      <td id=\"T_93ead_row47_col0\" class=\"data row47 col0\" >0.6%</td>\n",
       "    </tr>\n",
       "    <tr>\n",
       "      <th id=\"T_93ead_level0_row48\" class=\"row_heading level0 row48\" >Курган</th>\n",
       "      <td id=\"T_93ead_row48_col0\" class=\"data row48 col0\" >0.6%</td>\n",
       "    </tr>\n",
       "    <tr>\n",
       "      <th id=\"T_93ead_level0_row49\" class=\"row_heading level0 row49\" >Севастополь</th>\n",
       "      <td id=\"T_93ead_row49_col0\" class=\"data row49 col0\" >0.6%</td>\n",
       "    </tr>\n",
       "    <tr>\n",
       "      <th id=\"T_93ead_level0_row50\" class=\"row_heading level0 row50\" >Якутск</th>\n",
       "      <td id=\"T_93ead_row50_col0\" class=\"data row50 col0\" >0.6%</td>\n",
       "    </tr>\n",
       "    <tr>\n",
       "      <th id=\"T_93ead_level0_row51\" class=\"row_heading level0 row51\" >Орёл</th>\n",
       "      <td id=\"T_93ead_row51_col0\" class=\"data row51 col0\" >0.6%</td>\n",
       "    </tr>\n",
       "    <tr>\n",
       "      <th id=\"T_93ead_level0_row52\" class=\"row_heading level0 row52\" >Нижний Тагил</th>\n",
       "      <td id=\"T_93ead_row52_col0\" class=\"data row52 col0\" >0.6%</td>\n",
       "    </tr>\n",
       "    <tr>\n",
       "      <th id=\"T_93ead_level0_row53\" class=\"row_heading level0 row53\" >Брянск</th>\n",
       "      <td id=\"T_93ead_row53_col0\" class=\"data row53 col0\" >0.6%</td>\n",
       "    </tr>\n",
       "    <tr>\n",
       "      <th id=\"T_93ead_level0_row54\" class=\"row_heading level0 row54\" >Саратов</th>\n",
       "      <td id=\"T_93ead_row54_col0\" class=\"data row54 col0\" >0.6%</td>\n",
       "    </tr>\n",
       "    <tr>\n",
       "      <th id=\"T_93ead_level0_row55\" class=\"row_heading level0 row55\" >Владимир</th>\n",
       "      <td id=\"T_93ead_row55_col0\" class=\"data row55 col0\" >0.6%</td>\n",
       "    </tr>\n",
       "    <tr>\n",
       "      <th id=\"T_93ead_level0_row56\" class=\"row_heading level0 row56\" >Стерлитамак</th>\n",
       "      <td id=\"T_93ead_row56_col0\" class=\"data row56 col0\" >0.6%</td>\n",
       "    </tr>\n",
       "    <tr>\n",
       "      <th id=\"T_93ead_level0_row57\" class=\"row_heading level0 row57\" >Оренбург</th>\n",
       "      <td id=\"T_93ead_row57_col0\" class=\"data row57 col0\" >0.4%</td>\n",
       "    </tr>\n",
       "    <tr>\n",
       "      <th id=\"T_93ead_level0_row58\" class=\"row_heading level0 row58\" >Тамбов</th>\n",
       "      <td id=\"T_93ead_row58_col0\" class=\"data row58 col0\" >0.4%</td>\n",
       "    </tr>\n",
       "    <tr>\n",
       "      <th id=\"T_93ead_level0_row59\" class=\"row_heading level0 row59\" >Смоленск</th>\n",
       "      <td id=\"T_93ead_row59_col0\" class=\"data row59 col0\" >0.4%</td>\n",
       "    </tr>\n",
       "    <tr>\n",
       "      <th id=\"T_93ead_level0_row60\" class=\"row_heading level0 row60\" >Грозный</th>\n",
       "      <td id=\"T_93ead_row60_col0\" class=\"data row60 col0\" >0.4%</td>\n",
       "    </tr>\n",
       "    <tr>\n",
       "      <th id=\"T_93ead_level0_row61\" class=\"row_heading level0 row61\" >Калининград</th>\n",
       "      <td id=\"T_93ead_row61_col0\" class=\"data row61 col0\" >0.4%</td>\n",
       "    </tr>\n",
       "    <tr>\n",
       "      <th id=\"T_93ead_level0_row62\" class=\"row_heading level0 row62\" >Липецк</th>\n",
       "      <td id=\"T_93ead_row62_col0\" class=\"data row62 col0\" >0.4%</td>\n",
       "    </tr>\n",
       "    <tr>\n",
       "      <th id=\"T_93ead_level0_row63\" class=\"row_heading level0 row63\" >Сургут</th>\n",
       "      <td id=\"T_93ead_row63_col0\" class=\"data row63 col0\" >0.4%</td>\n",
       "    </tr>\n",
       "    <tr>\n",
       "      <th id=\"T_93ead_level0_row64\" class=\"row_heading level0 row64\" >Кемерово</th>\n",
       "      <td id=\"T_93ead_row64_col0\" class=\"data row64 col0\" >0.4%</td>\n",
       "    </tr>\n",
       "    <tr>\n",
       "      <th id=\"T_93ead_level0_row65\" class=\"row_heading level0 row65\" >Волжский</th>\n",
       "      <td id=\"T_93ead_row65_col0\" class=\"data row65 col0\" >0.4%</td>\n",
       "    </tr>\n",
       "    <tr>\n",
       "      <th id=\"T_93ead_level0_row66\" class=\"row_heading level0 row66\" >Белгород</th>\n",
       "      <td id=\"T_93ead_row66_col0\" class=\"data row66 col0\" >0.4%</td>\n",
       "    </tr>\n",
       "    <tr>\n",
       "      <th id=\"T_93ead_level0_row67\" class=\"row_heading level0 row67\" >Тула</th>\n",
       "      <td id=\"T_93ead_row67_col0\" class=\"data row67 col0\" >0.4%</td>\n",
       "    </tr>\n",
       "    <tr>\n",
       "      <th id=\"T_93ead_level0_row68\" class=\"row_heading level0 row68\" >Ижевск</th>\n",
       "      <td id=\"T_93ead_row68_col0\" class=\"data row68 col0\" >0.4%</td>\n",
       "    </tr>\n",
       "    <tr>\n",
       "      <th id=\"T_93ead_level0_row69\" class=\"row_heading level0 row69\" >Курск</th>\n",
       "      <td id=\"T_93ead_row69_col0\" class=\"data row69 col0\" >0.4%</td>\n",
       "    </tr>\n",
       "    <tr>\n",
       "      <th id=\"T_93ead_level0_row70\" class=\"row_heading level0 row70\" >Владикавказ</th>\n",
       "      <td id=\"T_93ead_row70_col0\" class=\"data row70 col0\" >0.4%</td>\n",
       "    </tr>\n",
       "    <tr>\n",
       "      <th id=\"T_93ead_level0_row71\" class=\"row_heading level0 row71\" >Архангельск</th>\n",
       "      <td id=\"T_93ead_row71_col0\" class=\"data row71 col0\" >0.2%</td>\n",
       "    </tr>\n",
       "    <tr>\n",
       "      <th id=\"T_93ead_level0_row72\" class=\"row_heading level0 row72\" >Иваново</th>\n",
       "      <td id=\"T_93ead_row72_col0\" class=\"data row72 col0\" >0.2%</td>\n",
       "    </tr>\n",
       "    <tr>\n",
       "      <th id=\"T_93ead_level0_row73\" class=\"row_heading level0 row73\" >Нижневартовск</th>\n",
       "      <td id=\"T_93ead_row73_col0\" class=\"data row73 col0\" >0.2%</td>\n",
       "    </tr>\n",
       "    <tr>\n",
       "      <th id=\"T_93ead_level0_row74\" class=\"row_heading level0 row74\" >Химки</th>\n",
       "      <td id=\"T_93ead_row74_col0\" class=\"data row74 col0\" >0.2%</td>\n",
       "    </tr>\n",
       "    <tr>\n",
       "      <th id=\"T_93ead_level0_row75\" class=\"row_heading level0 row75\" >Подольск</th>\n",
       "      <td id=\"T_93ead_row75_col0\" class=\"data row75 col0\" >0.2%</td>\n",
       "    </tr>\n",
       "  </tbody>\n",
       "</table>\n"
      ],
      "text/plain": [
       "<pandas.io.formats.style.Styler at 0x1285ae8e0>"
      ]
     },
     "execution_count": 12,
     "metadata": {},
     "output_type": "execute_result"
    }
   ],
   "source": [
    "users['city'].value_counts(normalize=True).to_frame().rename(columns={'city': 'percent_of_users'}).style.format('{:.1%}')"
   ]
  },
  {
   "cell_type": "markdown",
   "id": "61ae48f8-7b37-4187-ba5e-e7c26abe5f85",
   "metadata": {},
   "source": [
    "Больше всего пользователей - из Москвы. Они составляют 19.8% от всех пользователей."
   ]
  },
  {
   "cell_type": "markdown",
   "id": "c457597d-52ab-4cc7-88ae-c64086daa86c",
   "metadata": {},
   "source": [
    "### Вывод"
   ]
  },
  {
   "cell_type": "markdown",
   "id": "c6e56b88-99c0-40d9-88d3-3d3824fadb39",
   "metadata": {},
   "source": [
    "* В нашей выборке 500 пользователей. \n",
    "\n",
    "* Все они пользуются либо тарифом smart, либо тарифом ultra.\n",
    "\n",
    "* Самый молодой пользователь имеет возраст 18 лет. Самый старый - 75. Средний возраст пользователя сотовой связи - 46 лет. \n",
    "    \n",
    "* 70.2 % пользователей предпочитают тариф ультра. 29.8  % использут тариф смарт.\n",
    "    \n",
    "* Больше всего пользователей (19.8% от всей выборки) - жители Москвы.\n",
    "    \n",
    "* Явных дубликатов нет.\n",
    "    \n",
    "* Пропущены значения в столбце churn_date - для данного исследования не критично.\n",
    "\n",
    "\n"
   ]
  },
  {
   "cell_type": "markdown",
   "id": "7203e5af-1910-488e-909b-d3a14ddfbd4b",
   "metadata": {},
   "source": [
    "## Таблица calls"
   ]
  },
  {
   "cell_type": "markdown",
   "id": "aa94a74a-1443-4f22-8ba2-34cbc57c5ddf",
   "metadata": {},
   "source": [
    "Информация о звонках."
   ]
  },
  {
   "cell_type": "markdown",
   "id": "99eb150a-5101-4566-9a04-7479e07d1406",
   "metadata": {},
   "source": [
    "**Описание данных согласно документации:**\n",
    "\n",
    "* id — уникальный номер звонка\n",
    "\n",
    "* call_date — дата звонка\n",
    "\n",
    "* duration — длительность звонка в минутах\n",
    "\n",
    "* user_id — идентификатор пользователя, сделавшего звонок\n"
   ]
  },
  {
   "cell_type": "code",
   "execution_count": 13,
   "id": "e2360ae6-c03d-46f3-81a4-82b7f78d9474",
   "metadata": {},
   "outputs": [
    {
     "name": "stdout",
     "output_type": "stream",
     "text": [
      "<class 'pandas.core.frame.DataFrame'>\n",
      "RangeIndex: 202607 entries, 0 to 202606\n",
      "Data columns (total 4 columns):\n",
      " #   Column     Non-Null Count   Dtype  \n",
      "---  ------     --------------   -----  \n",
      " 0   id         202607 non-null  object \n",
      " 1   call_date  202607 non-null  object \n",
      " 2   duration   202607 non-null  float64\n",
      " 3   user_id    202607 non-null  int64  \n",
      "dtypes: float64(1), int64(1), object(2)\n",
      "memory usage: 6.2+ MB\n"
     ]
    }
   ],
   "source": [
    "calls.info()"
   ]
  },
  {
   "cell_type": "markdown",
   "id": "115cc954-47bd-4317-af25-1248de62e03b",
   "metadata": {},
   "source": [
    "Хорошая новость: пропусков нет. "
   ]
  },
  {
   "cell_type": "code",
   "execution_count": 14,
   "id": "a8263aa4-81a4-4862-baf2-55538b8777f6",
   "metadata": {},
   "outputs": [
    {
     "data": {
      "text/plain": [
       "'Количество явных дубликатов: 0'"
      ]
     },
     "execution_count": 14,
     "metadata": {},
     "output_type": "execute_result"
    }
   ],
   "source": [
    "f\"Количество явных дубликатов: {calls.duplicated().sum()}\""
   ]
  },
  {
   "cell_type": "markdown",
   "id": "29dfcc18-0bd8-43c7-a70d-96f442d4cbfd",
   "metadata": {},
   "source": [
    "Сначала глянем на значения в столбце с датой, чтобы увидеть формат, а потом приведем данные к типу datetime."
   ]
  },
  {
   "cell_type": "code",
   "execution_count": 15,
   "id": "fc9d493b-d053-4121-be35-3408288f7e0f",
   "metadata": {
    "tags": []
   },
   "outputs": [
    {
     "data": {
      "text/plain": [
       "173507    2018-09-30\n",
       "Name: call_date, dtype: object"
      ]
     },
     "execution_count": 15,
     "metadata": {},
     "output_type": "execute_result"
    }
   ],
   "source": [
    "calls['call_date'].sample(1)"
   ]
  },
  {
   "cell_type": "markdown",
   "id": "745b0618-af08-42fd-b9a7-0efbbdd1bc98",
   "metadata": {},
   "source": [
    "Меняем тип данных на datetime - запишем в отдельную колонку измененный тип."
   ]
  },
  {
   "cell_type": "code",
   "execution_count": 16,
   "id": "544c6f64-d2c9-4883-8a52-a573ef76eac3",
   "metadata": {},
   "outputs": [],
   "source": [
    "calls['call_date'] = pd.to_datetime(calls['call_date'],format='%Y-%m-%d')"
   ]
  },
  {
   "cell_type": "code",
   "execution_count": 17,
   "id": "3efbe8bb-898a-4062-b219-f73d77f0a205",
   "metadata": {},
   "outputs": [
    {
     "data": {
      "text/plain": [
       "0        2018-07-25\n",
       "1        2018-08-17\n",
       "2        2018-06-11\n",
       "3        2018-09-21\n",
       "4        2018-12-15\n",
       "            ...    \n",
       "202602   2018-12-26\n",
       "202603   2018-10-18\n",
       "202604   2018-11-10\n",
       "202605   2018-10-06\n",
       "202606   2018-12-14\n",
       "Name: call_date, Length: 202607, dtype: datetime64[ns]"
      ]
     },
     "execution_count": 17,
     "metadata": {},
     "output_type": "execute_result"
    }
   ],
   "source": [
    "calls['call_date']"
   ]
  },
  {
   "cell_type": "markdown",
   "id": "afdb335a-db51-4000-8766-f433041d3f80",
   "metadata": {},
   "source": [
    "User_id, id также приводим к строке, чтобы ничего там не считать."
   ]
  },
  {
   "cell_type": "code",
   "execution_count": 18,
   "id": "b588b2f3-0eee-40c4-929f-2c682d5dd949",
   "metadata": {},
   "outputs": [],
   "source": [
    "calls = calls.astype({'user_id': 'str', 'id': 'str'}) "
   ]
  },
  {
   "cell_type": "markdown",
   "id": "8564c681-9747-44ec-8047-10a172c7ae31",
   "metadata": {},
   "source": [
    "Проверяем тип данных"
   ]
  },
  {
   "cell_type": "code",
   "execution_count": 19,
   "id": "74d5a483-aa49-4bca-939d-8b9698ef69e0",
   "metadata": {},
   "outputs": [
    {
     "data": {
      "text/plain": [
       "id                   object\n",
       "call_date    datetime64[ns]\n",
       "duration            float64\n",
       "user_id              object\n",
       "dtype: object"
      ]
     },
     "execution_count": 19,
     "metadata": {},
     "output_type": "execute_result"
    }
   ],
   "source": [
    "calls.dtypes"
   ]
  },
  {
   "cell_type": "markdown",
   "id": "7b130331-c9e2-4e81-b1cc-fb2dfc5ca81a",
   "metadata": {},
   "source": [
    "Все хорошо. Теперь смотрим на статистику длительности звонков."
   ]
  },
  {
   "cell_type": "code",
   "execution_count": 20,
   "id": "fd25ffe1-d3c9-4aa8-8c98-7631f69c4db4",
   "metadata": {},
   "outputs": [
    {
     "data": {
      "text/html": [
       "<div>\n",
       "<style scoped>\n",
       "    .dataframe tbody tr th:only-of-type {\n",
       "        vertical-align: middle;\n",
       "    }\n",
       "\n",
       "    .dataframe tbody tr th {\n",
       "        vertical-align: top;\n",
       "    }\n",
       "\n",
       "    .dataframe thead th {\n",
       "        text-align: right;\n",
       "    }\n",
       "</style>\n",
       "<table border=\"1\" class=\"dataframe\">\n",
       "  <thead>\n",
       "    <tr style=\"text-align: right;\">\n",
       "      <th></th>\n",
       "      <th>duration</th>\n",
       "    </tr>\n",
       "  </thead>\n",
       "  <tbody>\n",
       "    <tr>\n",
       "      <th>count</th>\n",
       "      <td>202607.000000</td>\n",
       "    </tr>\n",
       "    <tr>\n",
       "      <th>mean</th>\n",
       "      <td>6.755887</td>\n",
       "    </tr>\n",
       "    <tr>\n",
       "      <th>std</th>\n",
       "      <td>5.843365</td>\n",
       "    </tr>\n",
       "    <tr>\n",
       "      <th>min</th>\n",
       "      <td>0.000000</td>\n",
       "    </tr>\n",
       "    <tr>\n",
       "      <th>25%</th>\n",
       "      <td>1.300000</td>\n",
       "    </tr>\n",
       "    <tr>\n",
       "      <th>50%</th>\n",
       "      <td>6.000000</td>\n",
       "    </tr>\n",
       "    <tr>\n",
       "      <th>75%</th>\n",
       "      <td>10.700000</td>\n",
       "    </tr>\n",
       "    <tr>\n",
       "      <th>max</th>\n",
       "      <td>38.000000</td>\n",
       "    </tr>\n",
       "  </tbody>\n",
       "</table>\n",
       "</div>"
      ],
      "text/plain": [
       "            duration\n",
       "count  202607.000000\n",
       "mean        6.755887\n",
       "std         5.843365\n",
       "min         0.000000\n",
       "25%         1.300000\n",
       "50%         6.000000\n",
       "75%        10.700000\n",
       "max        38.000000"
      ]
     },
     "execution_count": 20,
     "metadata": {},
     "output_type": "execute_result"
    }
   ],
   "source": [
    "calls.describe()"
   ]
  },
  {
   "cell_type": "markdown",
   "id": "21fcbaef-77ac-4418-86e0-4281461e1894",
   "metadata": {},
   "source": [
    "В среднем длительность звонок составляет около 7 минут."
   ]
  },
  {
   "cell_type": "markdown",
   "id": "eb9534a6-5c73-4a2b-88e0-d34a35f9db71",
   "metadata": {},
   "source": [
    "Посмотрим гистограмму звонков по длительности."
   ]
  },
  {
   "cell_type": "code",
   "execution_count": 21,
   "id": "e42dbf38-f4f0-4aca-ae78-7e0869dbaf7c",
   "metadata": {},
   "outputs": [
    {
     "data": {
      "image/png": "[encoded data removed]",
      "text/plain": [
       "<Figure size 640x480 with 1 Axes>"
      ]
     },
     "metadata": {},
     "output_type": "display_data"
    }
   ],
   "source": [
    "calls.hist('duration', bins=100)\n",
    "plt.grid(True)\n",
    "plt.title('Распределение звонков по длительности\\n')\n",
    "plt.xlabel('Длительность звонка в минутах')\n",
    "plt.ylabel('Количество звонков')\n",
    "plt.show();"
   ]
  },
  {
   "cell_type": "markdown",
   "id": "f905bb92-73d1-4726-af42-c5fcb63bacbb",
   "metadata": {},
   "source": [
    "Процент звонков длительностью 0 минут."
   ]
  },
  {
   "cell_type": "code",
   "execution_count": 22,
   "id": "6d5db434-b23a-4e62-bf23-c23daaca3780",
   "metadata": {
    "tags": []
   },
   "outputs": [
    {
     "data": {
      "text/plain": [
       "'Процент звонков длительностью 0 минут: 19.6%'"
      ]
     },
     "execution_count": 22,
     "metadata": {},
     "output_type": "execute_result"
    }
   ],
   "source": [
    "f\"Процент звонков длительностью 0 минут: {len(calls.query('duration == 0'))/len(calls):.1%}\"  "
   ]
  },
  {
   "cell_type": "markdown",
   "id": "c5dbc420-39e0-4b12-9780-98e3b7fd1b6a",
   "metadata": {},
   "source": [
    "Согласно документации нулями обозначены пропущенные звонки. То есть в данных 19.6 процентов пропущенных звонков."
   ]
  },
  {
   "cell_type": "markdown",
   "id": "71917fec-446b-4e8c-8253-e6975c819a7d",
   "metadata": {},
   "source": [
    "Посмотрим на количество звонков длительностью меньше минуты."
   ]
  },
  {
   "cell_type": "code",
   "execution_count": 23,
   "id": "1c280a72-b2f4-498e-9a38-fe630e2235fc",
   "metadata": {},
   "outputs": [
    {
     "name": "stdout",
     "output_type": "stream",
     "text": [
      "Количество звонков длительностью меньше 1 минуты: 8314 \n",
      "Процент от общей выборки: 4.1%\n"
     ]
    }
   ],
   "source": [
    "print('Количество звонков длительностью меньше 1 минуты:', len(calls.query('1 > duration > 0')),\n",
    "      '\\nПроцент от общей выборки: {:.1%}'.format(len(calls.query('1 > duration > 0'))/len(calls)))"
   ]
  },
  {
   "cell_type": "markdown",
   "id": "01cd8abc-ba21-401d-8759-9240b6aa4242",
   "metadata": {},
   "source": [
    "Посмотрим на количество уникальных пользователей:"
   ]
  },
  {
   "cell_type": "code",
   "execution_count": 24,
   "id": "e9985db5-060c-4959-8dee-94ccb3ac731e",
   "metadata": {},
   "outputs": [
    {
     "data": {
      "text/plain": [
       "'Количество уникальных пользователей: 492'"
      ]
     },
     "execution_count": 24,
     "metadata": {},
     "output_type": "execute_result"
    }
   ],
   "source": [
    "f\"Количество уникальных пользователей: {len(calls['user_id'].unique())}\""
   ]
  },
  {
   "cell_type": "markdown",
   "id": "5127bcd6-3b94-4ed2-be0a-88532202c3aa",
   "metadata": {},
   "source": [
    "Помним, что в таблице users у нас числится 500 уникальных пользователей."
   ]
  },
  {
   "cell_type": "markdown",
   "id": "a25964ee-b4d0-4369-94f0-a470d610a894",
   "metadata": {},
   "source": [
    "Проверяем, точно ли у нас все данные за 2018 год."
   ]
  },
  {
   "cell_type": "code",
   "execution_count": 25,
   "id": "19815e0a-1cc7-4d8c-9390-3350c1422a17",
   "metadata": {},
   "outputs": [
    {
     "name": "stdout",
     "output_type": "stream",
     "text": [
      "Левая граница временного интервала:  2018-01-01 00:00:00\n",
      "Правая граница временного интервала:  2018-12-31 00:00:00\n"
     ]
    }
   ],
   "source": [
    "print('Левая граница временного интервала: ', calls.call_date.min())\n",
    "print('Правая граница временного интервала: ', calls.call_date.max())"
   ]
  },
  {
   "cell_type": "markdown",
   "id": "47813c72-7b8d-43d6-8c0a-ce230923d830",
   "metadata": {},
   "source": [
    "Тут все в порядке."
   ]
  },
  {
   "cell_type": "markdown",
   "id": "bf0aecca-d91a-416a-a256-3071e31baebd",
   "metadata": {},
   "source": [
    "### Вывод"
   ]
  },
  {
   "cell_type": "markdown",
   "id": "d2001b9b-434a-4fbc-a0e8-cd7d7f7f532f",
   "metadata": {},
   "source": [
    "* Явных дубликатов нет\n",
    "\n",
    "* Пропусков в данных нет\n",
    "\n",
    "* Количество пользователей в данной таблице 492, то есть меньше, чем в users на 8 человек. \n",
    "\n",
    "* В среднем звонок длится 7 минут\n",
    "\n",
    "* Самый короткий звонок 0 минут, самый длинный - 38 минут.\n",
    "\n",
    "* 19.6 процентов пропущенных звонков, то есть звонков длительностью 0 минут.\n",
    "\n",
    "* Звонков длительностью меньше минуты крайне мало - 8314, или 4 процента от выборки. \n"
   ]
  },
  {
   "cell_type": "markdown",
   "id": "e6cdf16a-1015-4135-8081-37c3a2df143a",
   "metadata": {},
   "source": [
    "## Таблица internet"
   ]
  },
  {
   "cell_type": "markdown",
   "id": "5f0fdc0b-7d90-480d-87d5-705cd71b9956",
   "metadata": {},
   "source": [
    "Информация об интернет-сессиях"
   ]
  },
  {
   "cell_type": "markdown",
   "id": "bac72a4f-e35f-422a-9ed3-7690fe1e30a6",
   "metadata": {},
   "source": [
    "**Описание данных согласно документации:**\n",
    "\n",
    "* id — уникальный номер сессии\n",
    "\n",
    "* mb_used — объём потраченного за сессию интернет-трафика (в мегабайтах)\n",
    "\n",
    "* session_date — дата интернет-сессии\n",
    "\n",
    "* user_id — идентификатор пользователя"
   ]
  },
  {
   "cell_type": "code",
   "execution_count": 26,
   "id": "676a21bc-058b-47ed-aa7e-2d1f3674d0b3",
   "metadata": {},
   "outputs": [
    {
     "name": "stdout",
     "output_type": "stream",
     "text": [
      "<class 'pandas.core.frame.DataFrame'>\n",
      "Int64Index: 149396 entries, 0 to 149395\n",
      "Data columns (total 4 columns):\n",
      " #   Column        Non-Null Count   Dtype  \n",
      "---  ------        --------------   -----  \n",
      " 0   id            149396 non-null  object \n",
      " 1   mb_used       149396 non-null  float64\n",
      " 2   session_date  149396 non-null  object \n",
      " 3   user_id       149396 non-null  int64  \n",
      "dtypes: float64(1), int64(1), object(2)\n",
      "memory usage: 5.7+ MB\n"
     ]
    }
   ],
   "source": [
    "internet.info()"
   ]
  },
  {
   "cell_type": "markdown",
   "id": "6f22b15e-98ad-411a-8e24-9040703db7d7",
   "metadata": {},
   "source": [
    "\n",
    "Пропусков в данных нет"
   ]
  },
  {
   "cell_type": "code",
   "execution_count": 27,
   "id": "94836169-b8d5-4002-8fe8-bd82c34ad78c",
   "metadata": {},
   "outputs": [
    {
     "data": {
      "text/plain": [
       "'Количество явных дубликатов: 0'"
      ]
     },
     "execution_count": 27,
     "metadata": {},
     "output_type": "execute_result"
    }
   ],
   "source": [
    "f\"Количество явных дубликатов: {internet.duplicated().sum()}\""
   ]
  },
  {
   "cell_type": "markdown",
   "id": "44f39237-c0f2-4da6-b9c6-bfe0bd27d10f",
   "metadata": {},
   "source": [
    "user_id, id также приводим к строке, чтобы ничего там не считать"
   ]
  },
  {
   "cell_type": "code",
   "execution_count": 28,
   "id": "d46be990-39f9-4ee6-a615-de30b837ee11",
   "metadata": {},
   "outputs": [],
   "source": [
    "internet = internet.astype({'user_id': 'str', 'id': 'str'}) "
   ]
  },
  {
   "cell_type": "markdown",
   "id": "24c2d4e2-6725-4caf-be7e-a041cca97433",
   "metadata": {},
   "source": [
    "Посмотрим, какой формат у нам у даты интернет-сессии"
   ]
  },
  {
   "cell_type": "code",
   "execution_count": 29,
   "id": "02051eaa-1bfc-48c6-af61-45246b89c191",
   "metadata": {},
   "outputs": [
    {
     "data": {
      "text/plain": [
       "21133    2018-02-05\n",
       "Name: session_date, dtype: object"
      ]
     },
     "execution_count": 29,
     "metadata": {},
     "output_type": "execute_result"
    }
   ],
   "source": [
    "internet['session_date'].sample(1)"
   ]
  },
  {
   "cell_type": "markdown",
   "id": "5e8600c6-b03e-40dc-8f6f-b45ed26fdd2c",
   "metadata": {},
   "source": [
    "Меняем тип данных на datetime:"
   ]
  },
  {
   "cell_type": "code",
   "execution_count": 30,
   "id": "1429a459-8dfc-4189-a233-2d8217f09ad6",
   "metadata": {},
   "outputs": [],
   "source": [
    "internet['session_date'] = pd.to_datetime(internet['session_date'],format='%Y-%m-%d')"
   ]
  },
  {
   "cell_type": "markdown",
   "id": "5882698a-87fc-4cc1-9d45-da4fd39ad711",
   "metadata": {},
   "source": [
    "Проверяем тип данных"
   ]
  },
  {
   "cell_type": "code",
   "execution_count": 31,
   "id": "5ee4333a-30a6-4a58-8fcb-b27afbd9cc1b",
   "metadata": {},
   "outputs": [
    {
     "data": {
      "text/plain": [
       "id                      object\n",
       "mb_used                float64\n",
       "session_date    datetime64[ns]\n",
       "user_id                 object\n",
       "dtype: object"
      ]
     },
     "execution_count": 31,
     "metadata": {},
     "output_type": "execute_result"
    }
   ],
   "source": [
    "internet.dtypes"
   ]
  },
  {
   "cell_type": "markdown",
   "id": "e50fd55e-79d9-4af4-97a7-46822943c328",
   "metadata": {},
   "source": [
    "Все хорошо."
   ]
  },
  {
   "cell_type": "markdown",
   "id": "f318b335-44a8-4b2e-9ac6-952c2b7ccb78",
   "metadata": {},
   "source": [
    "Посмотрим на количество уникальных пользователей в таблице internet."
   ]
  },
  {
   "cell_type": "code",
   "execution_count": 32,
   "id": "67c9d738-271c-43a0-b643-4e20611d2e7a",
   "metadata": {},
   "outputs": [
    {
     "data": {
      "text/plain": [
       "'Количество уникальных пользователей: 497'"
      ]
     },
     "execution_count": 32,
     "metadata": {},
     "output_type": "execute_result"
    }
   ],
   "source": [
    "f\"Количество уникальных пользователей: {len(internet['user_id'].unique())}\""
   ]
  },
  {
   "cell_type": "markdown",
   "id": "59b1c270-9d94-48d0-bddd-5a2f86b33b49",
   "metadata": {},
   "source": [
    "Проверяем, точно ли у нас все данные за 2018 год"
   ]
  },
  {
   "cell_type": "code",
   "execution_count": 33,
   "id": "c5740fa9-3866-47a0-bfd8-9d99552207cc",
   "metadata": {},
   "outputs": [
    {
     "name": "stdout",
     "output_type": "stream",
     "text": [
      "Левая граница временного интервала:  2018-01-01 00:00:00\n",
      "Правая граница временного интервала:  2018-12-31 00:00:00\n"
     ]
    }
   ],
   "source": [
    "print('Левая граница временного интервала: ', internet.session_date.min())\n",
    "print('Правая граница временного интервала: ', internet.session_date.max())"
   ]
  },
  {
   "cell_type": "markdown",
   "id": "60abe188-911f-42b6-bed0-f7cd033c2daa",
   "metadata": {},
   "source": [
    "Посмотрим на описательную статистику количества использованных мегабайтов, столбец `mb_used`."
   ]
  },
  {
   "cell_type": "code",
   "execution_count": 34,
   "id": "e8e421bf-933a-4cf0-a56d-7490b4082659",
   "metadata": {},
   "outputs": [
    {
     "data": {
      "text/plain": [
       "count    149396.000000\n",
       "mean        370.192426\n",
       "std         278.300951\n",
       "min           0.000000\n",
       "25%         138.187500\n",
       "50%         348.015000\n",
       "75%         559.552500\n",
       "max        1724.830000\n",
       "Name: mb_used, dtype: float64"
      ]
     },
     "execution_count": 34,
     "metadata": {},
     "output_type": "execute_result"
    }
   ],
   "source": [
    "internet['mb_used'].describe()"
   ]
  },
  {
   "cell_type": "code",
   "execution_count": 35,
   "id": "68d11588-0daa-4cd2-8f57-5fe2fec4d501",
   "metadata": {},
   "outputs": [
    {
     "data": {
      "text/html": [
       "<div>\n",
       "<style scoped>\n",
       "    .dataframe tbody tr th:only-of-type {\n",
       "        vertical-align: middle;\n",
       "    }\n",
       "\n",
       "    .dataframe tbody tr th {\n",
       "        vertical-align: top;\n",
       "    }\n",
       "\n",
       "    .dataframe thead th {\n",
       "        text-align: right;\n",
       "    }\n",
       "</style>\n",
       "<table border=\"1\" class=\"dataframe\">\n",
       "  <thead>\n",
       "    <tr style=\"text-align: right;\">\n",
       "      <th></th>\n",
       "      <th>id</th>\n",
       "      <th>mb_used</th>\n",
       "      <th>session_date</th>\n",
       "      <th>user_id</th>\n",
       "    </tr>\n",
       "  </thead>\n",
       "  <tbody>\n",
       "    <tr>\n",
       "      <th>0</th>\n",
       "      <td>1000_0</td>\n",
       "      <td>112.95</td>\n",
       "      <td>2018-11-25</td>\n",
       "      <td>1000</td>\n",
       "    </tr>\n",
       "    <tr>\n",
       "      <th>1</th>\n",
       "      <td>1000_1</td>\n",
       "      <td>1052.81</td>\n",
       "      <td>2018-09-07</td>\n",
       "      <td>1000</td>\n",
       "    </tr>\n",
       "    <tr>\n",
       "      <th>2</th>\n",
       "      <td>1000_2</td>\n",
       "      <td>1197.26</td>\n",
       "      <td>2018-06-25</td>\n",
       "      <td>1000</td>\n",
       "    </tr>\n",
       "    <tr>\n",
       "      <th>3</th>\n",
       "      <td>1000_3</td>\n",
       "      <td>550.27</td>\n",
       "      <td>2018-08-22</td>\n",
       "      <td>1000</td>\n",
       "    </tr>\n",
       "    <tr>\n",
       "      <th>4</th>\n",
       "      <td>1000_4</td>\n",
       "      <td>302.56</td>\n",
       "      <td>2018-09-24</td>\n",
       "      <td>1000</td>\n",
       "    </tr>\n",
       "  </tbody>\n",
       "</table>\n",
       "</div>"
      ],
      "text/plain": [
       "       id  mb_used session_date user_id\n",
       "0  1000_0   112.95   2018-11-25    1000\n",
       "1  1000_1  1052.81   2018-09-07    1000\n",
       "2  1000_2  1197.26   2018-06-25    1000\n",
       "3  1000_3   550.27   2018-08-22    1000\n",
       "4  1000_4   302.56   2018-09-24    1000"
      ]
     },
     "execution_count": 35,
     "metadata": {},
     "output_type": "execute_result"
    }
   ],
   "source": [
    "internet.head()"
   ]
  },
  {
   "cell_type": "code",
   "execution_count": 36,
   "id": "e3a1001a-b8aa-4e4f-b3e7-6dc8f867b4a9",
   "metadata": {},
   "outputs": [
    {
     "data": {
      "image/png": "[encoded data removed]",
      "text/plain": [
       "<Figure size 640x480 with 1 Axes>"
      ]
     },
     "metadata": {},
     "output_type": "display_data"
    }
   ],
   "source": [
    "internet['mb_used'].hist()\n",
    "plt.title('Распределение пользователей по количеству использованных мегабайтов\\n')\n",
    "plt.xlabel('\\nИспользованные мегабайты интернет-трафика')\n",
    "plt.ylabel('Количество пользователей')\n",
    "plt.show();"
   ]
  },
  {
   "cell_type": "markdown",
   "id": "cb44dcd3-330a-4f6d-9cb1-d6f29169d478",
   "metadata": {},
   "source": [
    "На графике видим большое количество нулей. Посмотрим на процент пользователей, которые использовали 0 мегабайтов."
   ]
  },
  {
   "cell_type": "code",
   "execution_count": 37,
   "id": "a9a72480-f04b-45fd-80a3-52bb819d8d15",
   "metadata": {
    "tags": []
   },
   "outputs": [
    {
     "data": {
      "text/plain": [
       "'Процент пользователей, которые использовали 0 мегабайтов интернет-трафика: 13.1%'"
      ]
     },
     "execution_count": 37,
     "metadata": {},
     "output_type": "execute_result"
    }
   ],
   "source": [
    "f\"Процент пользователей, которые использовали 0 мегабайтов интернет-трафика: {len(internet.query('mb_used == 0'))/len(internet):.1%}\"  "
   ]
  },
  {
   "cell_type": "markdown",
   "id": "73bf86ec-c871-4208-a85d-e81e492cfa47",
   "metadata": {},
   "source": [
    "### Вывод"
   ]
  },
  {
   "cell_type": "markdown",
   "id": "0e1cf11e-0884-4058-a574-de3c1866d6c5",
   "metadata": {},
   "source": [
    "* Пропусков в данных нет.\n",
    "\n",
    "* Явных дубликатов не обнаружено.\n",
    "\n",
    "* Количество уникальных пользователей - 497, что на 3 человека меньше, чем в датасете users.\n",
    "\n",
    "* У 13% от всей выборки зафиксировано нулевое значение использованных мегабайтов интернет-траффика. \n",
    "\n",
    "    Возможно, либо это была слишком короткая интернет-сессия (которая по каким-то причинам не фиксировалась), \n",
    "либо были какие-то сбои в системе регистрации сессии, либо пользователь действительно не пользовался интернет-трафиком. \n",
    "\n",
    "* В среднем за 2018 год пользователь использует 348 мб интернет-траффика. "
   ]
  },
  {
   "cell_type": "markdown",
   "id": "691b993e-931f-4033-a30b-dfac518e86cd",
   "metadata": {},
   "source": [
    "## Таблица messages"
   ]
  },
  {
   "cell_type": "markdown",
   "id": "e54a28f7-1d44-4eeb-80fd-313d9590effc",
   "metadata": {},
   "source": [
    "Информация о сообщениях"
   ]
  },
  {
   "cell_type": "markdown",
   "id": "5b53f32a-3944-4066-a191-9a99cc651ed0",
   "metadata": {},
   "source": [
    "**Описание данных согласно документации:**\n",
    "\n",
    "* id — уникальный номер сообщения\n",
    "\n",
    "* message_date — дата сообщения\n",
    "\n",
    "* user_id — идентификатор пользователя, отправившего сообщение"
   ]
  },
  {
   "cell_type": "code",
   "execution_count": 38,
   "id": "32d5ad27-335f-4327-9012-25aad8aac201",
   "metadata": {},
   "outputs": [
    {
     "name": "stdout",
     "output_type": "stream",
     "text": [
      "<class 'pandas.core.frame.DataFrame'>\n",
      "RangeIndex: 123036 entries, 0 to 123035\n",
      "Data columns (total 3 columns):\n",
      " #   Column        Non-Null Count   Dtype \n",
      "---  ------        --------------   ----- \n",
      " 0   id            123036 non-null  object\n",
      " 1   message_date  123036 non-null  object\n",
      " 2   user_id       123036 non-null  int64 \n",
      "dtypes: int64(1), object(2)\n",
      "memory usage: 2.8+ MB\n"
     ]
    }
   ],
   "source": [
    "messages.info()"
   ]
  },
  {
   "cell_type": "markdown",
   "id": "349add55-85a2-4464-b1ba-375e2f0d7f05",
   "metadata": {},
   "source": [
    "Пропусков в данных нет"
   ]
  },
  {
   "cell_type": "code",
   "execution_count": 39,
   "id": "6b034cac-5206-4192-8154-fc106299e175",
   "metadata": {},
   "outputs": [
    {
     "data": {
      "text/plain": [
       "'Количество явных дубликатов: 0'"
      ]
     },
     "execution_count": 39,
     "metadata": {},
     "output_type": "execute_result"
    }
   ],
   "source": [
    "f\"Количество явных дубликатов: {messages.duplicated().sum()}\""
   ]
  },
  {
   "cell_type": "markdown",
   "id": "ad8440cf-f7e7-470e-8b06-e9b6a535e56e",
   "metadata": {},
   "source": [
    "user_id, id приводим к строке, чтобы ничего там не считать"
   ]
  },
  {
   "cell_type": "code",
   "execution_count": 40,
   "id": "678f1753-20f7-41d1-8f40-beb0f101b7ec",
   "metadata": {},
   "outputs": [],
   "source": [
    "messages = messages.astype({'user_id': 'str', 'id': 'str'}) "
   ]
  },
  {
   "cell_type": "markdown",
   "id": "c6d501ab-3b19-4db4-abd6-a643f73a4979",
   "metadata": {},
   "source": [
    "Смотрим, какой формат у нам у даты интернет-сессии"
   ]
  },
  {
   "cell_type": "code",
   "execution_count": 41,
   "id": "853946b7-ea13-4882-9a15-bb1ff359d397",
   "metadata": {},
   "outputs": [
    {
     "data": {
      "text/plain": [
       "61539    2018-10-18\n",
       "Name: message_date, dtype: object"
      ]
     },
     "execution_count": 41,
     "metadata": {},
     "output_type": "execute_result"
    }
   ],
   "source": [
    "messages['message_date'].sample(1)"
   ]
  },
  {
   "cell_type": "markdown",
   "id": "170f11f4-1f33-4344-b408-ebbe426fe38c",
   "metadata": {},
   "source": [
    "Меняем тип данных на datetime:"
   ]
  },
  {
   "cell_type": "code",
   "execution_count": 42,
   "id": "e838d961-7e52-4273-835a-22dc395c85ff",
   "metadata": {},
   "outputs": [],
   "source": [
    "messages.message_date = pd.to_datetime(messages['message_date'],format='%Y-%m-%d')"
   ]
  },
  {
   "cell_type": "markdown",
   "id": "b76e9629-aa52-4a5e-be0c-f5bc7af21d59",
   "metadata": {},
   "source": [
    "Проверяем тип данных"
   ]
  },
  {
   "cell_type": "code",
   "execution_count": 43,
   "id": "283f5c00-22cd-474b-a7c1-af919bca4f7d",
   "metadata": {},
   "outputs": [
    {
     "data": {
      "text/plain": [
       "id                      object\n",
       "message_date    datetime64[ns]\n",
       "user_id                 object\n",
       "dtype: object"
      ]
     },
     "execution_count": 43,
     "metadata": {},
     "output_type": "execute_result"
    }
   ],
   "source": [
    "messages.dtypes"
   ]
  },
  {
   "cell_type": "markdown",
   "id": "94de6e4f-7c11-4db6-83bc-ba5390dd80e7",
   "metadata": {},
   "source": [
    "Все в порядке"
   ]
  },
  {
   "cell_type": "markdown",
   "id": "23deb628-a4e1-4cba-ac8f-1be07b0464f8",
   "metadata": {},
   "source": [
    "Посмотрим на количество уникальных пользователей в таблице messages"
   ]
  },
  {
   "cell_type": "code",
   "execution_count": 44,
   "id": "db7aea57-a7cb-4995-aa92-adaf16a250eb",
   "metadata": {},
   "outputs": [
    {
     "data": {
      "text/plain": [
       "'Количество уникальных пользователей: 426'"
      ]
     },
     "execution_count": 44,
     "metadata": {},
     "output_type": "execute_result"
    }
   ],
   "source": [
    "f\"Количество уникальных пользователей: {len(messages['user_id'].unique())}\""
   ]
  },
  {
   "cell_type": "markdown",
   "id": "17b56c0c-6a93-4bdc-b97c-ed3c68d3ce9a",
   "metadata": {},
   "source": [
    "Снова количество уникальных пользователей меньше, чем в общей базе данных о пользователях."
   ]
  },
  {
   "cell_type": "markdown",
   "id": "da3430aa-fe99-4621-86ab-e9d8a4e19220",
   "metadata": {},
   "source": [
    "Проверяем, точно ли у нас все данные за 2018 год в датасете messages"
   ]
  },
  {
   "cell_type": "code",
   "execution_count": 45,
   "id": "f8781671-70be-4d9f-9828-47280fd20401",
   "metadata": {},
   "outputs": [
    {
     "name": "stdout",
     "output_type": "stream",
     "text": [
      "Левая граница временного интервала:  2018-01-02 00:00:00\n",
      "Правая граница временного интервала:  2018-12-31 00:00:00\n"
     ]
    }
   ],
   "source": [
    "print('Левая граница временного интервала: ', messages.message_date.min())\n",
    "print('Правая граница временного интервала: ', messages.message_date.max())"
   ]
  },
  {
   "cell_type": "markdown",
   "id": "d53318e9-4286-422b-ba6d-9dbe0d740996",
   "metadata": {},
   "source": [
    "Все в порядке. "
   ]
  },
  {
   "cell_type": "code",
   "execution_count": 46,
   "id": "5d7e5eae-6e34-425d-aa6f-6e0b49fdfd16",
   "metadata": {},
   "outputs": [],
   "source": [
    "#Посмотрим, сколько всего сообщений было сгенерировано за 2018 год:"
   ]
  },
  {
   "cell_type": "code",
   "execution_count": 47,
   "id": "edce3e2a-1024-4074-9acc-1c9b5b114d65",
   "metadata": {},
   "outputs": [
    {
     "data": {
      "text/plain": [
       "'Всего за 2018 год сгенерировано 123036 сообщений.'"
      ]
     },
     "execution_count": 47,
     "metadata": {},
     "output_type": "execute_result"
    }
   ],
   "source": [
    "f\"Всего за 2018 год сгенерировано {messages['message_date'].count()} сообщений.\""
   ]
  },
  {
   "cell_type": "markdown",
   "id": "41922e46-25d3-4929-b006-36f14336d5e5",
   "metadata": {},
   "source": [
    "### Вывод"
   ]
  },
  {
   "cell_type": "markdown",
   "id": "7c59a820-5875-4890-8a34-a3dc9cc89dd0",
   "metadata": {},
   "source": [
    "* Пропусков в данных нет.\n",
    "\n",
    "* Явных дубликатов не обнаружено.\n",
    "\n",
    "* Количество уникальных пользователей - 426, что на 74 человека меньше, чем в датасете users.\n",
    "\n",
    "* Всего за 2018 год сгенерировано 123036 сообщений.  "
   ]
  },
  {
   "cell_type": "markdown",
   "id": "9e87b639-9764-4fed-a400-15b7520b6db4",
   "metadata": {},
   "source": [
    "## Таблица tariffs"
   ]
  },
  {
   "cell_type": "markdown",
   "id": "bcf935bb-9fd9-41de-927a-79ea35b61f46",
   "metadata": {},
   "source": [
    "Информация о тарифах."
   ]
  },
  {
   "cell_type": "markdown",
   "id": "eb8b6f49-a47a-490f-8d0b-c465a11eea21",
   "metadata": {},
   "source": [
    "**Описание данных согласно документации:**\n",
    "\n",
    "* tariff_name — название тарифа\n",
    "\n",
    "* rub_monthly_fee — ежемесячная абонентская плата в рублях\n",
    "\n",
    "* minutes_included — количество минут разговора в месяц, включённых в абонентскую плату\n",
    "\n",
    "* messages_included — количество сообщений в месяц, включённых в абонентскую плату\n",
    "\n",
    "* mb_per_month_included — объём интернет-трафика, включённого в абонентскую плату (в мегабайтах)\n",
    "\n",
    "* rub_per_minute — стоимость минуты разговора сверх тарифного пакета (например, если в тарифе 100 минут разговора в месяц, то со 101 минуты будет взиматься плата)\n",
    "\n",
    "* rub_per_message — стоимость отправки сообщения сверх тарифного пакета\n",
    "\n",
    "* rub_per_gb — стоимость дополнительного гигабайта интернет-трафика сверх тарифного пакета (1 гигабайт = 1024 мегабайта)"
   ]
  },
  {
   "cell_type": "markdown",
   "id": "5b5b7492-713f-4de8-ad4f-953c5b043929",
   "metadata": {},
   "source": [
    "**Описание тарифов согласно документации**\n",
    "\n",
    "Тариф «Смарт»\n",
    "    \n",
    "    Ежемесячная плата: 550 рублей\n",
    "\n",
    "    Включено 500 минут разговора, 50 сообщений и 15 Гб интернет-трафика\n",
    "\n",
    "    Стоимость услуг сверх тарифного пакета:\n",
    "\n",
    "        минута разговора: 3 рубля\n",
    "\n",
    "        сообщение: 3 рубля\n",
    "\n",
    "        1 Гб интернет-трафика: 200 рублей\n",
    "\n",
    "Тариф «Ультра»\n",
    "\n",
    "    Ежемесячная плата: 1950 рублей\n",
    "    \n",
    "    Включено 3000 минут разговора, 1000 сообщений и 30 Гб интернет-трафика\n",
    "    \n",
    "    Стоимость услуг сверх тарифного пакета:\n",
    "\n",
    "        минута разговора: 1 рубль\n",
    "\n",
    "        сообщение: 1 рубль\n",
    "\n",
    "        1 Гб интернет-трафика: 150 рублей"
   ]
  },
  {
   "cell_type": "code",
   "execution_count": 48,
   "id": "d78837c9-8041-4727-a9c9-ecb103a0cc32",
   "metadata": {},
   "outputs": [
    {
     "data": {
      "text/html": [
       "<div>\n",
       "<style scoped>\n",
       "    .dataframe tbody tr th:only-of-type {\n",
       "        vertical-align: middle;\n",
       "    }\n",
       "\n",
       "    .dataframe tbody tr th {\n",
       "        vertical-align: top;\n",
       "    }\n",
       "\n",
       "    .dataframe thead th {\n",
       "        text-align: right;\n",
       "    }\n",
       "</style>\n",
       "<table border=\"1\" class=\"dataframe\">\n",
       "  <thead>\n",
       "    <tr style=\"text-align: right;\">\n",
       "      <th></th>\n",
       "      <th>messages_included</th>\n",
       "      <th>mb_per_month_included</th>\n",
       "      <th>minutes_included</th>\n",
       "      <th>rub_monthly_fee</th>\n",
       "      <th>rub_per_gb</th>\n",
       "      <th>rub_per_message</th>\n",
       "      <th>rub_per_minute</th>\n",
       "      <th>tariff_name</th>\n",
       "    </tr>\n",
       "  </thead>\n",
       "  <tbody>\n",
       "    <tr>\n",
       "      <th>0</th>\n",
       "      <td>50</td>\n",
       "      <td>15360</td>\n",
       "      <td>500</td>\n",
       "      <td>550</td>\n",
       "      <td>200</td>\n",
       "      <td>3</td>\n",
       "      <td>3</td>\n",
       "      <td>smart</td>\n",
       "    </tr>\n",
       "    <tr>\n",
       "      <th>1</th>\n",
       "      <td>1000</td>\n",
       "      <td>30720</td>\n",
       "      <td>3000</td>\n",
       "      <td>1950</td>\n",
       "      <td>150</td>\n",
       "      <td>1</td>\n",
       "      <td>1</td>\n",
       "      <td>ultra</td>\n",
       "    </tr>\n",
       "  </tbody>\n",
       "</table>\n",
       "</div>"
      ],
      "text/plain": [
       "   messages_included  mb_per_month_included  minutes_included  \\\n",
       "0                 50                  15360               500   \n",
       "1               1000                  30720              3000   \n",
       "\n",
       "   rub_monthly_fee  rub_per_gb  rub_per_message  rub_per_minute tariff_name  \n",
       "0              550         200                3               3       smart  \n",
       "1             1950         150                1               1       ultra  "
      ]
     },
     "execution_count": 48,
     "metadata": {},
     "output_type": "execute_result"
    }
   ],
   "source": [
    "tariffs"
   ]
  },
  {
   "cell_type": "markdown",
   "id": "1da4f80c-4e41-4689-9506-14eb4a1f12f0",
   "metadata": {},
   "source": [
    "Описание тарифа согласно документации немного расходится в разделе включенного в стоимость тарифа интернет-трафика. \n",
    "\n",
    "Данные же показывают, что в тариф включено чуть больше трафика: 15 гб 360 мб для тарифа smart, 30 гб 720 мб - для тарифа ultra."
   ]
  },
  {
   "cell_type": "markdown",
   "id": "d6d64ec4-885c-433d-945c-e784d5c98140",
   "metadata": {},
   "source": [
    "Далее в документации говорится о том, что трафик округляется в большую сторону и отдельные сессии не считаются, по этой причине нет смысла учитывать эти лишние мегабайты - следуем документации."
   ]
  },
  {
   "cell_type": "code",
   "execution_count": 49,
   "id": "124d7711-82e0-48b8-ad30-94541290c261",
   "metadata": {},
   "outputs": [
    {
     "name": "stdout",
     "output_type": "stream",
     "text": [
      "<class 'pandas.core.frame.DataFrame'>\n",
      "RangeIndex: 2 entries, 0 to 1\n",
      "Data columns (total 8 columns):\n",
      " #   Column                 Non-Null Count  Dtype \n",
      "---  ------                 --------------  ----- \n",
      " 0   messages_included      2 non-null      int64 \n",
      " 1   mb_per_month_included  2 non-null      int64 \n",
      " 2   minutes_included       2 non-null      int64 \n",
      " 3   rub_monthly_fee        2 non-null      int64 \n",
      " 4   rub_per_gb             2 non-null      int64 \n",
      " 5   rub_per_message        2 non-null      int64 \n",
      " 6   rub_per_minute         2 non-null      int64 \n",
      " 7   tariff_name            2 non-null      object\n",
      "dtypes: int64(7), object(1)\n",
      "memory usage: 256.0+ bytes\n"
     ]
    }
   ],
   "source": [
    "tariffs.info()"
   ]
  },
  {
   "cell_type": "markdown",
   "id": "2b774e54-1a3b-4e36-b97e-64bd6950c780",
   "metadata": {},
   "source": [
    "### Вывод"
   ]
  },
  {
   "cell_type": "markdown",
   "id": "3e08e62a-f759-4270-8e5e-77f055697c3a",
   "metadata": {},
   "source": [
    "Описание тарифа согласно документации немного расходится в разделе включенного в стоимость тарифа интернет-трафика. \n",
    "\n",
    "Данные показывают, что в тариф включено чуть больше трафика: 15 гб 360 мб для тарифа smart, 30 гб 720 мб - для тарифа ultra.\n",
    "\n",
    "Пропуски есть только в датафрейме users в столбце churn_date, но эти данные нам не потребуются при исследовании и мы можем оставить пропуски как есть.\n",
    "\n",
    "Мы поменяли для всех дат тип данных на datetime для удобства работы с датами, а также мы изменили тип данных у user_id на строковый, чтобы ничего здесь не считалось."
   ]
  },
  {
   "cell_type": "markdown",
   "id": "7b35ab90-f2dc-4958-826e-dd2e70a4e227",
   "metadata": {},
   "source": [
    "<a name=\"stage_2\"></a>\n",
    "\n",
    "# Этап 2. Обогащение данных и создание сводных таблиц\n",
    "\n",
    "\n",
    "[Наверх к оглавлению](#contents)"
   ]
  },
  {
   "cell_type": "markdown",
   "id": "d54f1790-990b-4508-8657-7bf5238b0a22",
   "metadata": {},
   "source": [
    "### Добавление колонки с месяцем"
   ]
  },
  {
   "cell_type": "markdown",
   "id": "e2838ad9-f7ba-490c-a78d-f054e41487c3",
   "metadata": {},
   "source": [
    "Добавим в наши таблицы услуг столбец с месяцем, чтобы потом по нему сгруппировать данные."
   ]
  },
  {
   "cell_type": "code",
   "execution_count": 50,
   "id": "9b2bf1b5-1e0f-434e-ac90-8a0a375c7935",
   "metadata": {},
   "outputs": [],
   "source": [
    "calls['month'] = calls['call_date'].values.astype('datetime64[M]')\n",
    "internet['month'] = internet['session_date'].values.astype('datetime64[M]')\n",
    "messages['month'] = messages['message_date'].values.astype('datetime64[M]')"
   ]
  },
  {
   "cell_type": "markdown",
   "id": "66336f9a-ad50-49df-b5b0-ddf512141353",
   "metadata": {},
   "source": [
    "Посмотрим, что у нас получилось "
   ]
  },
  {
   "cell_type": "code",
   "execution_count": 51,
   "id": "2ed3c0b7-8351-4609-baea-de8ad5eacedb",
   "metadata": {},
   "outputs": [
    {
     "name": "stdout",
     "output_type": "stream",
     "text": [
      "\n"
     ]
    },
    {
     "data": {
      "text/html": [
       "<div>\n",
       "<style scoped>\n",
       "    .dataframe tbody tr th:only-of-type {\n",
       "        vertical-align: middle;\n",
       "    }\n",
       "\n",
       "    .dataframe tbody tr th {\n",
       "        vertical-align: top;\n",
       "    }\n",
       "\n",
       "    .dataframe thead th {\n",
       "        text-align: right;\n",
       "    }\n",
       "</style>\n",
       "<table border=\"1\" class=\"dataframe\">\n",
       "  <thead>\n",
       "    <tr style=\"text-align: right;\">\n",
       "      <th></th>\n",
       "      <th>id</th>\n",
       "      <th>call_date</th>\n",
       "      <th>duration</th>\n",
       "      <th>user_id</th>\n",
       "      <th>month</th>\n",
       "    </tr>\n",
       "  </thead>\n",
       "  <tbody>\n",
       "    <tr>\n",
       "      <th>0</th>\n",
       "      <td>1000_0</td>\n",
       "      <td>2018-07-25</td>\n",
       "      <td>0.00</td>\n",
       "      <td>1000</td>\n",
       "      <td>2018-07-01</td>\n",
       "    </tr>\n",
       "    <tr>\n",
       "      <th>1</th>\n",
       "      <td>1000_1</td>\n",
       "      <td>2018-08-17</td>\n",
       "      <td>0.00</td>\n",
       "      <td>1000</td>\n",
       "      <td>2018-08-01</td>\n",
       "    </tr>\n",
       "    <tr>\n",
       "      <th>2</th>\n",
       "      <td>1000_2</td>\n",
       "      <td>2018-06-11</td>\n",
       "      <td>2.85</td>\n",
       "      <td>1000</td>\n",
       "      <td>2018-06-01</td>\n",
       "    </tr>\n",
       "    <tr>\n",
       "      <th>3</th>\n",
       "      <td>1000_3</td>\n",
       "      <td>2018-09-21</td>\n",
       "      <td>13.80</td>\n",
       "      <td>1000</td>\n",
       "      <td>2018-09-01</td>\n",
       "    </tr>\n",
       "    <tr>\n",
       "      <th>4</th>\n",
       "      <td>1000_4</td>\n",
       "      <td>2018-12-15</td>\n",
       "      <td>5.18</td>\n",
       "      <td>1000</td>\n",
       "      <td>2018-12-01</td>\n",
       "    </tr>\n",
       "  </tbody>\n",
       "</table>\n",
       "</div>"
      ],
      "text/plain": [
       "       id  call_date  duration user_id      month\n",
       "0  1000_0 2018-07-25      0.00    1000 2018-07-01\n",
       "1  1000_1 2018-08-17      0.00    1000 2018-08-01\n",
       "2  1000_2 2018-06-11      2.85    1000 2018-06-01\n",
       "3  1000_3 2018-09-21     13.80    1000 2018-09-01\n",
       "4  1000_4 2018-12-15      5.18    1000 2018-12-01"
      ]
     },
     "metadata": {},
     "output_type": "display_data"
    },
    {
     "name": "stdout",
     "output_type": "stream",
     "text": [
      "\n",
      "\n"
     ]
    },
    {
     "data": {
      "text/html": [
       "<div>\n",
       "<style scoped>\n",
       "    .dataframe tbody tr th:only-of-type {\n",
       "        vertical-align: middle;\n",
       "    }\n",
       "\n",
       "    .dataframe tbody tr th {\n",
       "        vertical-align: top;\n",
       "    }\n",
       "\n",
       "    .dataframe thead th {\n",
       "        text-align: right;\n",
       "    }\n",
       "</style>\n",
       "<table border=\"1\" class=\"dataframe\">\n",
       "  <thead>\n",
       "    <tr style=\"text-align: right;\">\n",
       "      <th></th>\n",
       "      <th>id</th>\n",
       "      <th>mb_used</th>\n",
       "      <th>session_date</th>\n",
       "      <th>user_id</th>\n",
       "      <th>month</th>\n",
       "    </tr>\n",
       "  </thead>\n",
       "  <tbody>\n",
       "    <tr>\n",
       "      <th>0</th>\n",
       "      <td>1000_0</td>\n",
       "      <td>112.95</td>\n",
       "      <td>2018-11-25</td>\n",
       "      <td>1000</td>\n",
       "      <td>2018-11-01</td>\n",
       "    </tr>\n",
       "    <tr>\n",
       "      <th>1</th>\n",
       "      <td>1000_1</td>\n",
       "      <td>1052.81</td>\n",
       "      <td>2018-09-07</td>\n",
       "      <td>1000</td>\n",
       "      <td>2018-09-01</td>\n",
       "    </tr>\n",
       "    <tr>\n",
       "      <th>2</th>\n",
       "      <td>1000_2</td>\n",
       "      <td>1197.26</td>\n",
       "      <td>2018-06-25</td>\n",
       "      <td>1000</td>\n",
       "      <td>2018-06-01</td>\n",
       "    </tr>\n",
       "    <tr>\n",
       "      <th>3</th>\n",
       "      <td>1000_3</td>\n",
       "      <td>550.27</td>\n",
       "      <td>2018-08-22</td>\n",
       "      <td>1000</td>\n",
       "      <td>2018-08-01</td>\n",
       "    </tr>\n",
       "    <tr>\n",
       "      <th>4</th>\n",
       "      <td>1000_4</td>\n",
       "      <td>302.56</td>\n",
       "      <td>2018-09-24</td>\n",
       "      <td>1000</td>\n",
       "      <td>2018-09-01</td>\n",
       "    </tr>\n",
       "  </tbody>\n",
       "</table>\n",
       "</div>"
      ],
      "text/plain": [
       "       id  mb_used session_date user_id      month\n",
       "0  1000_0   112.95   2018-11-25    1000 2018-11-01\n",
       "1  1000_1  1052.81   2018-09-07    1000 2018-09-01\n",
       "2  1000_2  1197.26   2018-06-25    1000 2018-06-01\n",
       "3  1000_3   550.27   2018-08-22    1000 2018-08-01\n",
       "4  1000_4   302.56   2018-09-24    1000 2018-09-01"
      ]
     },
     "metadata": {},
     "output_type": "display_data"
    },
    {
     "name": "stdout",
     "output_type": "stream",
     "text": [
      "\n",
      "\n"
     ]
    },
    {
     "data": {
      "text/html": [
       "<div>\n",
       "<style scoped>\n",
       "    .dataframe tbody tr th:only-of-type {\n",
       "        vertical-align: middle;\n",
       "    }\n",
       "\n",
       "    .dataframe tbody tr th {\n",
       "        vertical-align: top;\n",
       "    }\n",
       "\n",
       "    .dataframe thead th {\n",
       "        text-align: right;\n",
       "    }\n",
       "</style>\n",
       "<table border=\"1\" class=\"dataframe\">\n",
       "  <thead>\n",
       "    <tr style=\"text-align: right;\">\n",
       "      <th></th>\n",
       "      <th>id</th>\n",
       "      <th>message_date</th>\n",
       "      <th>user_id</th>\n",
       "      <th>month</th>\n",
       "    </tr>\n",
       "  </thead>\n",
       "  <tbody>\n",
       "    <tr>\n",
       "      <th>0</th>\n",
       "      <td>1000_0</td>\n",
       "      <td>2018-06-27</td>\n",
       "      <td>1000</td>\n",
       "      <td>2018-06-01</td>\n",
       "    </tr>\n",
       "    <tr>\n",
       "      <th>1</th>\n",
       "      <td>1000_1</td>\n",
       "      <td>2018-10-08</td>\n",
       "      <td>1000</td>\n",
       "      <td>2018-10-01</td>\n",
       "    </tr>\n",
       "    <tr>\n",
       "      <th>2</th>\n",
       "      <td>1000_2</td>\n",
       "      <td>2018-08-04</td>\n",
       "      <td>1000</td>\n",
       "      <td>2018-08-01</td>\n",
       "    </tr>\n",
       "    <tr>\n",
       "      <th>3</th>\n",
       "      <td>1000_3</td>\n",
       "      <td>2018-06-16</td>\n",
       "      <td>1000</td>\n",
       "      <td>2018-06-01</td>\n",
       "    </tr>\n",
       "    <tr>\n",
       "      <th>4</th>\n",
       "      <td>1000_4</td>\n",
       "      <td>2018-12-05</td>\n",
       "      <td>1000</td>\n",
       "      <td>2018-12-01</td>\n",
       "    </tr>\n",
       "  </tbody>\n",
       "</table>\n",
       "</div>"
      ],
      "text/plain": [
       "       id message_date user_id      month\n",
       "0  1000_0   2018-06-27    1000 2018-06-01\n",
       "1  1000_1   2018-10-08    1000 2018-10-01\n",
       "2  1000_2   2018-08-04    1000 2018-08-01\n",
       "3  1000_3   2018-06-16    1000 2018-06-01\n",
       "4  1000_4   2018-12-05    1000 2018-12-01"
      ]
     },
     "metadata": {},
     "output_type": "display_data"
    },
    {
     "name": "stdout",
     "output_type": "stream",
     "text": [
      "\n"
     ]
    }
   ],
   "source": [
    "df_list = [calls, internet, messages]\n",
    "for df in df_list:\n",
    "    print()\n",
    "    display(df.head())\n",
    "    print()"
   ]
  },
  {
   "cell_type": "markdown",
   "id": "5cb63b1f-4c63-4445-8585-3d6b68b04274",
   "metadata": {},
   "source": [
    "<a id='gb'></a>\n",
    "\n",
    "### Добавление колонки с включенным в тариф интернет-трафиком, выраженного в гигабайтах"
   ]
  },
  {
   "cell_type": "code",
   "execution_count": 52,
   "id": "750db686-c946-4cdb-88ac-59894844d18a",
   "metadata": {},
   "outputs": [
    {
     "data": {
      "text/html": [
       "<div>\n",
       "<style scoped>\n",
       "    .dataframe tbody tr th:only-of-type {\n",
       "        vertical-align: middle;\n",
       "    }\n",
       "\n",
       "    .dataframe tbody tr th {\n",
       "        vertical-align: top;\n",
       "    }\n",
       "\n",
       "    .dataframe thead th {\n",
       "        text-align: right;\n",
       "    }\n",
       "</style>\n",
       "<table border=\"1\" class=\"dataframe\">\n",
       "  <thead>\n",
       "    <tr style=\"text-align: right;\">\n",
       "      <th></th>\n",
       "      <th>messages_included</th>\n",
       "      <th>mb_per_month_included</th>\n",
       "      <th>minutes_included</th>\n",
       "      <th>rub_monthly_fee</th>\n",
       "      <th>rub_per_gb</th>\n",
       "      <th>rub_per_message</th>\n",
       "      <th>rub_per_minute</th>\n",
       "      <th>tariff_name</th>\n",
       "    </tr>\n",
       "  </thead>\n",
       "  <tbody>\n",
       "    <tr>\n",
       "      <th>0</th>\n",
       "      <td>50</td>\n",
       "      <td>15360</td>\n",
       "      <td>500</td>\n",
       "      <td>550</td>\n",
       "      <td>200</td>\n",
       "      <td>3</td>\n",
       "      <td>3</td>\n",
       "      <td>smart</td>\n",
       "    </tr>\n",
       "    <tr>\n",
       "      <th>1</th>\n",
       "      <td>1000</td>\n",
       "      <td>30720</td>\n",
       "      <td>3000</td>\n",
       "      <td>1950</td>\n",
       "      <td>150</td>\n",
       "      <td>1</td>\n",
       "      <td>1</td>\n",
       "      <td>ultra</td>\n",
       "    </tr>\n",
       "  </tbody>\n",
       "</table>\n",
       "</div>"
      ],
      "text/plain": [
       "   messages_included  mb_per_month_included  minutes_included  \\\n",
       "0                 50                  15360               500   \n",
       "1               1000                  30720              3000   \n",
       "\n",
       "   rub_monthly_fee  rub_per_gb  rub_per_message  rub_per_minute tariff_name  \n",
       "0              550         200                3               3       smart  \n",
       "1             1950         150                1               1       ultra  "
      ]
     },
     "execution_count": 52,
     "metadata": {},
     "output_type": "execute_result"
    }
   ],
   "source": [
    "tariffs"
   ]
  },
  {
   "cell_type": "markdown",
   "id": "25830e29-358a-43bd-a481-c141c3277c90",
   "metadata": {},
   "source": [
    "Согласно документации в тариф smart включено 15 гб, а в тариф ultra - 30. \n",
    "Для удобства расчета добавим столбец gb_per_month_included в исходный фрейм данных"
   ]
  },
  {
   "cell_type": "code",
   "execution_count": 53,
   "id": "7fead2a5-af0c-43c9-bea0-22029f502c77",
   "metadata": {},
   "outputs": [
    {
     "data": {
      "text/html": [
       "<div>\n",
       "<style scoped>\n",
       "    .dataframe tbody tr th:only-of-type {\n",
       "        vertical-align: middle;\n",
       "    }\n",
       "\n",
       "    .dataframe tbody tr th {\n",
       "        vertical-align: top;\n",
       "    }\n",
       "\n",
       "    .dataframe thead th {\n",
       "        text-align: right;\n",
       "    }\n",
       "</style>\n",
       "<table border=\"1\" class=\"dataframe\">\n",
       "  <thead>\n",
       "    <tr style=\"text-align: right;\">\n",
       "      <th></th>\n",
       "      <th>messages_included</th>\n",
       "      <th>mb_per_month_included</th>\n",
       "      <th>gb_per_month_included</th>\n",
       "      <th>minutes_included</th>\n",
       "      <th>rub_monthly_fee</th>\n",
       "      <th>rub_per_gb</th>\n",
       "      <th>rub_per_message</th>\n",
       "      <th>rub_per_minute</th>\n",
       "      <th>tariff_name</th>\n",
       "    </tr>\n",
       "  </thead>\n",
       "  <tbody>\n",
       "    <tr>\n",
       "      <th>0</th>\n",
       "      <td>50</td>\n",
       "      <td>15360</td>\n",
       "      <td>15</td>\n",
       "      <td>500</td>\n",
       "      <td>550</td>\n",
       "      <td>200</td>\n",
       "      <td>3</td>\n",
       "      <td>3</td>\n",
       "      <td>smart</td>\n",
       "    </tr>\n",
       "    <tr>\n",
       "      <th>1</th>\n",
       "      <td>1000</td>\n",
       "      <td>30720</td>\n",
       "      <td>30</td>\n",
       "      <td>3000</td>\n",
       "      <td>1950</td>\n",
       "      <td>150</td>\n",
       "      <td>1</td>\n",
       "      <td>1</td>\n",
       "      <td>ultra</td>\n",
       "    </tr>\n",
       "  </tbody>\n",
       "</table>\n",
       "</div>"
      ],
      "text/plain": [
       "   messages_included  mb_per_month_included  gb_per_month_included  \\\n",
       "0                 50                  15360                     15   \n",
       "1               1000                  30720                     30   \n",
       "\n",
       "   minutes_included  rub_monthly_fee  rub_per_gb  rub_per_message  \\\n",
       "0               500              550         200                3   \n",
       "1              3000             1950         150                1   \n",
       "\n",
       "   rub_per_minute tariff_name  \n",
       "0               3       smart  \n",
       "1               1       ultra  "
      ]
     },
     "execution_count": 53,
     "metadata": {},
     "output_type": "execute_result"
    }
   ],
   "source": [
    "tariffs.insert(2, \"gb_per_month_included\", [15, 30], True)\n",
    "tariffs"
   ]
  },
  {
   "cell_type": "markdown",
   "id": "25159f04-81a8-429b-80ea-4545311e71c2",
   "metadata": {},
   "source": [
    "### Создание сводных таблиц"
   ]
  },
  {
   "cell_type": "markdown",
   "id": "65bebeeb-f9a8-4346-8e9d-584ea608e3b8",
   "metadata": {},
   "source": [
    "#### Cводная таблица для каждого пользователя помесячно по звонкам"
   ]
  },
  {
   "cell_type": "markdown",
   "id": "8dcb98cf-df2f-4e5d-b482-7bf03408d5b3",
   "metadata": {},
   "source": [
    "Cоздадим сводную таблицу: для каждого пользователя помесячно посчитаем общую длительность звонков и количество звонков"
   ]
  },
  {
   "cell_type": "code",
   "execution_count": 54,
   "id": "f6cf47b1-98fa-4b11-be78-bf3ed9dc4ab6",
   "metadata": {},
   "outputs": [
    {
     "data": {
      "text/html": [
       "<div>\n",
       "<style scoped>\n",
       "    .dataframe tbody tr th:only-of-type {\n",
       "        vertical-align: middle;\n",
       "    }\n",
       "\n",
       "    .dataframe tbody tr th {\n",
       "        vertical-align: top;\n",
       "    }\n",
       "\n",
       "    .dataframe thead th {\n",
       "        text-align: right;\n",
       "    }\n",
       "</style>\n",
       "<table border=\"1\" class=\"dataframe\">\n",
       "  <thead>\n",
       "    <tr style=\"text-align: right;\">\n",
       "      <th></th>\n",
       "      <th>month</th>\n",
       "      <th>user_id</th>\n",
       "      <th>sum</th>\n",
       "      <th>count</th>\n",
       "    </tr>\n",
       "  </thead>\n",
       "  <tbody>\n",
       "    <tr>\n",
       "      <th>0</th>\n",
       "      <td>2018-01-01</td>\n",
       "      <td>1005</td>\n",
       "      <td>90.93</td>\n",
       "      <td>15</td>\n",
       "    </tr>\n",
       "    <tr>\n",
       "      <th>1</th>\n",
       "      <td>2018-01-01</td>\n",
       "      <td>1032</td>\n",
       "      <td>359.16</td>\n",
       "      <td>61</td>\n",
       "    </tr>\n",
       "    <tr>\n",
       "      <th>2</th>\n",
       "      <td>2018-01-01</td>\n",
       "      <td>1045</td>\n",
       "      <td>8.33</td>\n",
       "      <td>1</td>\n",
       "    </tr>\n",
       "    <tr>\n",
       "      <th>3</th>\n",
       "      <td>2018-01-01</td>\n",
       "      <td>1055</td>\n",
       "      <td>527.95</td>\n",
       "      <td>64</td>\n",
       "    </tr>\n",
       "    <tr>\n",
       "      <th>4</th>\n",
       "      <td>2018-01-01</td>\n",
       "      <td>1071</td>\n",
       "      <td>183.96</td>\n",
       "      <td>24</td>\n",
       "    </tr>\n",
       "    <tr>\n",
       "      <th>...</th>\n",
       "      <td>...</td>\n",
       "      <td>...</td>\n",
       "      <td>...</td>\n",
       "      <td>...</td>\n",
       "    </tr>\n",
       "    <tr>\n",
       "      <th>3169</th>\n",
       "      <td>2018-12-01</td>\n",
       "      <td>1494</td>\n",
       "      <td>388.29</td>\n",
       "      <td>62</td>\n",
       "    </tr>\n",
       "    <tr>\n",
       "      <th>3170</th>\n",
       "      <td>2018-12-01</td>\n",
       "      <td>1495</td>\n",
       "      <td>970.94</td>\n",
       "      <td>155</td>\n",
       "    </tr>\n",
       "    <tr>\n",
       "      <th>3171</th>\n",
       "      <td>2018-12-01</td>\n",
       "      <td>1496</td>\n",
       "      <td>483.91</td>\n",
       "      <td>80</td>\n",
       "    </tr>\n",
       "    <tr>\n",
       "      <th>3172</th>\n",
       "      <td>2018-12-01</td>\n",
       "      <td>1497</td>\n",
       "      <td>515.33</td>\n",
       "      <td>71</td>\n",
       "    </tr>\n",
       "    <tr>\n",
       "      <th>3173</th>\n",
       "      <td>2018-12-01</td>\n",
       "      <td>1499</td>\n",
       "      <td>465.16</td>\n",
       "      <td>69</td>\n",
       "    </tr>\n",
       "  </tbody>\n",
       "</table>\n",
       "<p>3174 rows × 4 columns</p>\n",
       "</div>"
      ],
      "text/plain": [
       "          month user_id     sum  count\n",
       "0    2018-01-01    1005   90.93     15\n",
       "1    2018-01-01    1032  359.16     61\n",
       "2    2018-01-01    1045    8.33      1\n",
       "3    2018-01-01    1055  527.95     64\n",
       "4    2018-01-01    1071  183.96     24\n",
       "...         ...     ...     ...    ...\n",
       "3169 2018-12-01    1494  388.29     62\n",
       "3170 2018-12-01    1495  970.94    155\n",
       "3171 2018-12-01    1496  483.91     80\n",
       "3172 2018-12-01    1497  515.33     71\n",
       "3173 2018-12-01    1499  465.16     69\n",
       "\n",
       "[3174 rows x 4 columns]"
      ]
     },
     "execution_count": 54,
     "metadata": {},
     "output_type": "execute_result"
    }
   ],
   "source": [
    "pivot_calls = calls.groupby(['month','user_id'])['duration'].agg(['sum', 'count']).reset_index()\n",
    "pivot_calls"
   ]
  },
  {
   "cell_type": "markdown",
   "id": "e38b6fde-d786-459d-831f-206f56f781ce",
   "metadata": {},
   "source": [
    "Переименуем столбцы sum и count"
   ]
  },
  {
   "cell_type": "code",
   "execution_count": 55,
   "id": "7ac39265-358a-4ce4-9637-d59cbf73ce1e",
   "metadata": {},
   "outputs": [
    {
     "data": {
      "text/html": [
       "<div>\n",
       "<style scoped>\n",
       "    .dataframe tbody tr th:only-of-type {\n",
       "        vertical-align: middle;\n",
       "    }\n",
       "\n",
       "    .dataframe tbody tr th {\n",
       "        vertical-align: top;\n",
       "    }\n",
       "\n",
       "    .dataframe thead th {\n",
       "        text-align: right;\n",
       "    }\n",
       "</style>\n",
       "<table border=\"1\" class=\"dataframe\">\n",
       "  <thead>\n",
       "    <tr style=\"text-align: right;\">\n",
       "      <th></th>\n",
       "      <th>month</th>\n",
       "      <th>user_id</th>\n",
       "      <th>calls_duration</th>\n",
       "      <th>calls_count</th>\n",
       "    </tr>\n",
       "  </thead>\n",
       "  <tbody>\n",
       "    <tr>\n",
       "      <th>0</th>\n",
       "      <td>2018-01-01</td>\n",
       "      <td>1005</td>\n",
       "      <td>90.93</td>\n",
       "      <td>15</td>\n",
       "    </tr>\n",
       "    <tr>\n",
       "      <th>1</th>\n",
       "      <td>2018-01-01</td>\n",
       "      <td>1032</td>\n",
       "      <td>359.16</td>\n",
       "      <td>61</td>\n",
       "    </tr>\n",
       "    <tr>\n",
       "      <th>2</th>\n",
       "      <td>2018-01-01</td>\n",
       "      <td>1045</td>\n",
       "      <td>8.33</td>\n",
       "      <td>1</td>\n",
       "    </tr>\n",
       "    <tr>\n",
       "      <th>3</th>\n",
       "      <td>2018-01-01</td>\n",
       "      <td>1055</td>\n",
       "      <td>527.95</td>\n",
       "      <td>64</td>\n",
       "    </tr>\n",
       "    <tr>\n",
       "      <th>4</th>\n",
       "      <td>2018-01-01</td>\n",
       "      <td>1071</td>\n",
       "      <td>183.96</td>\n",
       "      <td>24</td>\n",
       "    </tr>\n",
       "    <tr>\n",
       "      <th>...</th>\n",
       "      <td>...</td>\n",
       "      <td>...</td>\n",
       "      <td>...</td>\n",
       "      <td>...</td>\n",
       "    </tr>\n",
       "    <tr>\n",
       "      <th>3169</th>\n",
       "      <td>2018-12-01</td>\n",
       "      <td>1494</td>\n",
       "      <td>388.29</td>\n",
       "      <td>62</td>\n",
       "    </tr>\n",
       "    <tr>\n",
       "      <th>3170</th>\n",
       "      <td>2018-12-01</td>\n",
       "      <td>1495</td>\n",
       "      <td>970.94</td>\n",
       "      <td>155</td>\n",
       "    </tr>\n",
       "    <tr>\n",
       "      <th>3171</th>\n",
       "      <td>2018-12-01</td>\n",
       "      <td>1496</td>\n",
       "      <td>483.91</td>\n",
       "      <td>80</td>\n",
       "    </tr>\n",
       "    <tr>\n",
       "      <th>3172</th>\n",
       "      <td>2018-12-01</td>\n",
       "      <td>1497</td>\n",
       "      <td>515.33</td>\n",
       "      <td>71</td>\n",
       "    </tr>\n",
       "    <tr>\n",
       "      <th>3173</th>\n",
       "      <td>2018-12-01</td>\n",
       "      <td>1499</td>\n",
       "      <td>465.16</td>\n",
       "      <td>69</td>\n",
       "    </tr>\n",
       "  </tbody>\n",
       "</table>\n",
       "<p>3174 rows × 4 columns</p>\n",
       "</div>"
      ],
      "text/plain": [
       "          month user_id  calls_duration  calls_count\n",
       "0    2018-01-01    1005           90.93           15\n",
       "1    2018-01-01    1032          359.16           61\n",
       "2    2018-01-01    1045            8.33            1\n",
       "3    2018-01-01    1055          527.95           64\n",
       "4    2018-01-01    1071          183.96           24\n",
       "...         ...     ...             ...          ...\n",
       "3169 2018-12-01    1494          388.29           62\n",
       "3170 2018-12-01    1495          970.94          155\n",
       "3171 2018-12-01    1496          483.91           80\n",
       "3172 2018-12-01    1497          515.33           71\n",
       "3173 2018-12-01    1499          465.16           69\n",
       "\n",
       "[3174 rows x 4 columns]"
      ]
     },
     "execution_count": 55,
     "metadata": {},
     "output_type": "execute_result"
    }
   ],
   "source": [
    "pivot_calls.rename(columns={\"sum\": \"calls_duration\", \"count\": \"calls_count\"}, inplace=True)\n",
    "pivot_calls"
   ]
  },
  {
   "cell_type": "markdown",
   "id": "a848e07f-2309-442f-8cc6-d537a8df5895",
   "metadata": {},
   "source": [
    "**Из документации:**\n",
    "    \n",
    "«Мегалайн» всегда округляет секунды до минут... Каждый звонок округляется отдельно: даже если он длился всего 1 секунду, будет засчитан как 1 минута."
   ]
  },
  {
   "cell_type": "markdown",
   "id": "15413e41-1bdc-4d28-a896-dc13a4975ddb",
   "metadata": {},
   "source": [
    "<a id='ceiling_calls'></a> \n",
    "\n",
    "Округлим длительность звонков в большую сторону согласно правилу из документации"
   ]
  },
  {
   "cell_type": "code",
   "execution_count": 56,
   "id": "2976c3d4-902e-4d34-9222-9348b7ae2580",
   "metadata": {},
   "outputs": [
    {
     "data": {
      "text/plain": [
       "0        90.93\n",
       "1       359.16\n",
       "2         8.33\n",
       "3       527.95\n",
       "4       183.96\n",
       "         ...  \n",
       "3169    388.29\n",
       "3170    970.94\n",
       "3171    483.91\n",
       "3172    515.33\n",
       "3173    465.16\n",
       "Name: calls_duration, Length: 3174, dtype: float64"
      ]
     },
     "execution_count": 56,
     "metadata": {},
     "output_type": "execute_result"
    }
   ],
   "source": [
    "pivot_calls['calls_duration']"
   ]
  },
  {
   "cell_type": "markdown",
   "id": "7fc9003e-174e-4cbe-930e-c41c883c9e86",
   "metadata": {},
   "source": [
    "Округлим длительность звонков и поменяет тип на int, раз у нас тут точно целые числа, без секунд."
   ]
  },
  {
   "cell_type": "code",
   "execution_count": 57,
   "id": "89d6bf7e-9b59-46d5-a712-08869c286854",
   "metadata": {},
   "outputs": [
    {
     "data": {
      "text/plain": [
       "0        91\n",
       "1       360\n",
       "2         9\n",
       "3       528\n",
       "4       184\n",
       "       ... \n",
       "3169    389\n",
       "3170    971\n",
       "3171    484\n",
       "3172    516\n",
       "3173    466\n",
       "Name: calls_duration, Length: 3174, dtype: int64"
      ]
     },
     "execution_count": 57,
     "metadata": {},
     "output_type": "execute_result"
    }
   ],
   "source": [
    "pivot_calls['calls_duration'] = np.ceil(pivot_calls['calls_duration']).astype({'calls_duration': 'int64'}) \n",
    "pivot_calls['calls_duration']"
   ]
  },
  {
   "cell_type": "markdown",
   "id": "93f4e088-f238-42e0-a6cc-f825e60c58a1",
   "metadata": {},
   "source": [
    "Мы успешно в ячейке выше округлили в большую сторону длительность звонков согласно требованию в документации."
   ]
  },
  {
   "cell_type": "markdown",
   "id": "df41e50d-f10d-4415-9dfd-6b756628c2d8",
   "metadata": {},
   "source": [
    "<a id='debug'> </a> \n",
    "\n",
    "Небольшой дебаггинг"
   ]
  },
  {
   "cell_type": "markdown",
   "id": "df40781c-ff99-4d71-bc1e-800348134f1b",
   "metadata": {},
   "source": [
    "Проверим нашу сводную таблицу для разных пользователей"
   ]
  },
  {
   "cell_type": "markdown",
   "id": "3cfc81d7-d4c9-4639-a1ab-598403bdab05",
   "metadata": {},
   "source": [
    "Для случайного пользователя c айдишником 1497"
   ]
  },
  {
   "cell_type": "code",
   "execution_count": 58,
   "id": "27768593-8249-40f2-a535-4224e4c18c0b",
   "metadata": {},
   "outputs": [
    {
     "data": {
      "text/html": [
       "<div>\n",
       "<style scoped>\n",
       "    .dataframe tbody tr th:only-of-type {\n",
       "        vertical-align: middle;\n",
       "    }\n",
       "\n",
       "    .dataframe tbody tr th {\n",
       "        vertical-align: top;\n",
       "    }\n",
       "\n",
       "    .dataframe thead th {\n",
       "        text-align: right;\n",
       "    }\n",
       "</style>\n",
       "<table border=\"1\" class=\"dataframe\">\n",
       "  <thead>\n",
       "    <tr style=\"text-align: right;\">\n",
       "      <th></th>\n",
       "      <th>month</th>\n",
       "      <th>user_id</th>\n",
       "      <th>calls_duration</th>\n",
       "      <th>calls_count</th>\n",
       "    </tr>\n",
       "  </thead>\n",
       "  <tbody>\n",
       "    <tr>\n",
       "      <th>2257</th>\n",
       "      <td>2018-10-01</td>\n",
       "      <td>1497</td>\n",
       "      <td>464</td>\n",
       "      <td>66</td>\n",
       "    </tr>\n",
       "    <tr>\n",
       "      <th>2702</th>\n",
       "      <td>2018-11-01</td>\n",
       "      <td>1497</td>\n",
       "      <td>347</td>\n",
       "      <td>64</td>\n",
       "    </tr>\n",
       "    <tr>\n",
       "      <th>3172</th>\n",
       "      <td>2018-12-01</td>\n",
       "      <td>1497</td>\n",
       "      <td>516</td>\n",
       "      <td>71</td>\n",
       "    </tr>\n",
       "  </tbody>\n",
       "</table>\n",
       "</div>"
      ],
      "text/plain": [
       "          month user_id  calls_duration  calls_count\n",
       "2257 2018-10-01    1497             464           66\n",
       "2702 2018-11-01    1497             347           64\n",
       "3172 2018-12-01    1497             516           71"
      ]
     },
     "execution_count": 58,
     "metadata": {},
     "output_type": "execute_result"
    }
   ],
   "source": [
    "pivot_calls[pivot_calls['user_id'] == '1497']"
   ]
  },
  {
   "cell_type": "markdown",
   "id": "805411aa-9825-48f2-8edd-d107f9334ba9",
   "metadata": {},
   "source": [
    "Сложим длительность всех звонков у этого пользователя 1497 из исходной таблицы"
   ]
  },
  {
   "cell_type": "code",
   "execution_count": 59,
   "id": "e1764633-6d2f-4668-afc7-9689eb3d5674",
   "metadata": {},
   "outputs": [
    {
     "data": {
      "text/plain": [
       "1324.68"
      ]
     },
     "execution_count": 59,
     "metadata": {},
     "output_type": "execute_result"
    }
   ],
   "source": [
    "calls[calls['user_id'] == '1497']['duration'].sum()"
   ]
  },
  {
   "cell_type": "markdown",
   "id": "e450c92f-9c98-46a7-a81a-c7c092d91f09",
   "metadata": {},
   "source": [
    "Проверим длительность всех звонков у пользователя 1497 в сводной таблице"
   ]
  },
  {
   "cell_type": "code",
   "execution_count": 60,
   "id": "e4f6b171-a44e-42e5-adb7-4a553f14a8e7",
   "metadata": {},
   "outputs": [
    {
     "data": {
      "text/plain": [
       "1327"
      ]
     },
     "execution_count": 60,
     "metadata": {},
     "output_type": "execute_result"
    }
   ],
   "source": [
    "pivot_calls[pivot_calls['user_id'] == '1497']['calls_duration'].sum()"
   ]
  },
  {
   "cell_type": "markdown",
   "id": "227a2ec9-b4b4-4959-bff1-cb2acfb9419d",
   "metadata": {},
   "source": [
    "Все ок с учетом того, что в сводной у нас уже округлнные вверх значения. Запомним, что пользователь 1497 совершал звонки только в октябре-ноябре-декабре. Потом тоже проверим этот факт в финальной сводной таблице."
   ]
  },
  {
   "cell_type": "markdown",
   "id": "258041de-8ec3-4379-b92a-06ad6b0e9d5f",
   "metadata": {},
   "source": [
    "И еще возьмем случайного пользователя 1032"
   ]
  },
  {
   "cell_type": "code",
   "execution_count": 61,
   "id": "b5d7547c-2944-457f-ba2a-7c5038383a6d",
   "metadata": {},
   "outputs": [
    {
     "data": {
      "text/html": [
       "<div>\n",
       "<style scoped>\n",
       "    .dataframe tbody tr th:only-of-type {\n",
       "        vertical-align: middle;\n",
       "    }\n",
       "\n",
       "    .dataframe tbody tr th {\n",
       "        vertical-align: top;\n",
       "    }\n",
       "\n",
       "    .dataframe thead th {\n",
       "        text-align: right;\n",
       "    }\n",
       "</style>\n",
       "<table border=\"1\" class=\"dataframe\">\n",
       "  <thead>\n",
       "    <tr style=\"text-align: right;\">\n",
       "      <th></th>\n",
       "      <th>month</th>\n",
       "      <th>user_id</th>\n",
       "      <th>calls_duration</th>\n",
       "      <th>calls_count</th>\n",
       "    </tr>\n",
       "  </thead>\n",
       "  <tbody>\n",
       "    <tr>\n",
       "      <th>1</th>\n",
       "      <td>2018-01-01</td>\n",
       "      <td>1032</td>\n",
       "      <td>360</td>\n",
       "      <td>61</td>\n",
       "    </tr>\n",
       "    <tr>\n",
       "      <th>45</th>\n",
       "      <td>2018-02-01</td>\n",
       "      <td>1032</td>\n",
       "      <td>349</td>\n",
       "      <td>58</td>\n",
       "    </tr>\n",
       "    <tr>\n",
       "      <th>131</th>\n",
       "      <td>2018-03-01</td>\n",
       "      <td>1032</td>\n",
       "      <td>460</td>\n",
       "      <td>68</td>\n",
       "    </tr>\n",
       "    <tr>\n",
       "      <th>250</th>\n",
       "      <td>2018-04-01</td>\n",
       "      <td>1032</td>\n",
       "      <td>489</td>\n",
       "      <td>76</td>\n",
       "    </tr>\n",
       "    <tr>\n",
       "      <th>421</th>\n",
       "      <td>2018-05-01</td>\n",
       "      <td>1032</td>\n",
       "      <td>481</td>\n",
       "      <td>78</td>\n",
       "    </tr>\n",
       "    <tr>\n",
       "      <th>627</th>\n",
       "      <td>2018-06-01</td>\n",
       "      <td>1032</td>\n",
       "      <td>383</td>\n",
       "      <td>54</td>\n",
       "    </tr>\n",
       "    <tr>\n",
       "      <th>871</th>\n",
       "      <td>2018-07-01</td>\n",
       "      <td>1032</td>\n",
       "      <td>395</td>\n",
       "      <td>59</td>\n",
       "    </tr>\n",
       "    <tr>\n",
       "      <th>1162</th>\n",
       "      <td>2018-08-01</td>\n",
       "      <td>1032</td>\n",
       "      <td>420</td>\n",
       "      <td>58</td>\n",
       "    </tr>\n",
       "    <tr>\n",
       "      <th>1500</th>\n",
       "      <td>2018-09-01</td>\n",
       "      <td>1032</td>\n",
       "      <td>481</td>\n",
       "      <td>68</td>\n",
       "    </tr>\n",
       "    <tr>\n",
       "      <th>1875</th>\n",
       "      <td>2018-10-01</td>\n",
       "      <td>1032</td>\n",
       "      <td>365</td>\n",
       "      <td>60</td>\n",
       "    </tr>\n",
       "    <tr>\n",
       "      <th>2289</th>\n",
       "      <td>2018-11-01</td>\n",
       "      <td>1032</td>\n",
       "      <td>389</td>\n",
       "      <td>61</td>\n",
       "    </tr>\n",
       "    <tr>\n",
       "      <th>2735</th>\n",
       "      <td>2018-12-01</td>\n",
       "      <td>1032</td>\n",
       "      <td>458</td>\n",
       "      <td>67</td>\n",
       "    </tr>\n",
       "  </tbody>\n",
       "</table>\n",
       "</div>"
      ],
      "text/plain": [
       "          month user_id  calls_duration  calls_count\n",
       "1    2018-01-01    1032             360           61\n",
       "45   2018-02-01    1032             349           58\n",
       "131  2018-03-01    1032             460           68\n",
       "250  2018-04-01    1032             489           76\n",
       "421  2018-05-01    1032             481           78\n",
       "627  2018-06-01    1032             383           54\n",
       "871  2018-07-01    1032             395           59\n",
       "1162 2018-08-01    1032             420           58\n",
       "1500 2018-09-01    1032             481           68\n",
       "1875 2018-10-01    1032             365           60\n",
       "2289 2018-11-01    1032             389           61\n",
       "2735 2018-12-01    1032             458           67"
      ]
     },
     "execution_count": 61,
     "metadata": {},
     "output_type": "execute_result"
    }
   ],
   "source": [
    "pivot_calls[pivot_calls['user_id'] == '1032']"
   ]
  },
  {
   "cell_type": "code",
   "execution_count": 62,
   "id": "462e81d5-bac2-4a44-aefa-96f12aa52f17",
   "metadata": {},
   "outputs": [
    {
     "data": {
      "text/plain": [
       "12"
      ]
     },
     "execution_count": 62,
     "metadata": {},
     "output_type": "execute_result"
    }
   ],
   "source": [
    "len(pivot_calls[pivot_calls['user_id'] == '1032'])"
   ]
  },
  {
   "cell_type": "markdown",
   "id": "0d5e67a1-4c1a-4a2e-b355-f88af7d9b7af",
   "metadata": {},
   "source": [
    "Пользователь 1032 совершал звонки каждый месяц"
   ]
  },
  {
   "cell_type": "markdown",
   "id": "1e02a9ff-3a2d-4c6b-845e-0670c3430966",
   "metadata": {},
   "source": [
    "#### Cводная таблица по количеству сообщений для каждого пользователя помесячно"
   ]
  },
  {
   "cell_type": "code",
   "execution_count": 63,
   "id": "c8b594d0-d74f-49fd-ac05-fe4fa3882a68",
   "metadata": {},
   "outputs": [
    {
     "data": {
      "text/html": [
       "<div>\n",
       "<style scoped>\n",
       "    .dataframe tbody tr th:only-of-type {\n",
       "        vertical-align: middle;\n",
       "    }\n",
       "\n",
       "    .dataframe tbody tr th {\n",
       "        vertical-align: top;\n",
       "    }\n",
       "\n",
       "    .dataframe thead th {\n",
       "        text-align: right;\n",
       "    }\n",
       "</style>\n",
       "<table border=\"1\" class=\"dataframe\">\n",
       "  <thead>\n",
       "    <tr style=\"text-align: right;\">\n",
       "      <th></th>\n",
       "      <th>month</th>\n",
       "      <th>user_id</th>\n",
       "      <th>message_date</th>\n",
       "    </tr>\n",
       "  </thead>\n",
       "  <tbody>\n",
       "    <tr>\n",
       "      <th>0</th>\n",
       "      <td>2018-01-01</td>\n",
       "      <td>1005</td>\n",
       "      <td>7</td>\n",
       "    </tr>\n",
       "    <tr>\n",
       "      <th>1</th>\n",
       "      <td>2018-01-01</td>\n",
       "      <td>1032</td>\n",
       "      <td>38</td>\n",
       "    </tr>\n",
       "    <tr>\n",
       "      <th>2</th>\n",
       "      <td>2018-01-01</td>\n",
       "      <td>1045</td>\n",
       "      <td>5</td>\n",
       "    </tr>\n",
       "    <tr>\n",
       "      <th>3</th>\n",
       "      <td>2018-01-01</td>\n",
       "      <td>1055</td>\n",
       "      <td>30</td>\n",
       "    </tr>\n",
       "    <tr>\n",
       "      <th>4</th>\n",
       "      <td>2018-01-01</td>\n",
       "      <td>1071</td>\n",
       "      <td>16</td>\n",
       "    </tr>\n",
       "    <tr>\n",
       "      <th>...</th>\n",
       "      <td>...</td>\n",
       "      <td>...</td>\n",
       "      <td>...</td>\n",
       "    </tr>\n",
       "    <tr>\n",
       "      <th>2712</th>\n",
       "      <td>2018-12-01</td>\n",
       "      <td>1493</td>\n",
       "      <td>78</td>\n",
       "    </tr>\n",
       "    <tr>\n",
       "      <th>2713</th>\n",
       "      <td>2018-12-01</td>\n",
       "      <td>1495</td>\n",
       "      <td>84</td>\n",
       "    </tr>\n",
       "    <tr>\n",
       "      <th>2714</th>\n",
       "      <td>2018-12-01</td>\n",
       "      <td>1496</td>\n",
       "      <td>51</td>\n",
       "    </tr>\n",
       "    <tr>\n",
       "      <th>2715</th>\n",
       "      <td>2018-12-01</td>\n",
       "      <td>1497</td>\n",
       "      <td>17</td>\n",
       "    </tr>\n",
       "    <tr>\n",
       "      <th>2716</th>\n",
       "      <td>2018-12-01</td>\n",
       "      <td>1499</td>\n",
       "      <td>66</td>\n",
       "    </tr>\n",
       "  </tbody>\n",
       "</table>\n",
       "<p>2717 rows × 3 columns</p>\n",
       "</div>"
      ],
      "text/plain": [
       "          month user_id  message_date\n",
       "0    2018-01-01    1005             7\n",
       "1    2018-01-01    1032            38\n",
       "2    2018-01-01    1045             5\n",
       "3    2018-01-01    1055            30\n",
       "4    2018-01-01    1071            16\n",
       "...         ...     ...           ...\n",
       "2712 2018-12-01    1493            78\n",
       "2713 2018-12-01    1495            84\n",
       "2714 2018-12-01    1496            51\n",
       "2715 2018-12-01    1497            17\n",
       "2716 2018-12-01    1499            66\n",
       "\n",
       "[2717 rows x 3 columns]"
      ]
     },
     "execution_count": 63,
     "metadata": {},
     "output_type": "execute_result"
    }
   ],
   "source": [
    "pivot_messages = messages.groupby(['month','user_id'])['message_date'].count().reset_index()\n",
    "pivot_messages"
   ]
  },
  {
   "cell_type": "markdown",
   "id": "7bfa0daf-7877-4a7e-bcf0-0ff272b82285",
   "metadata": {},
   "source": [
    "Переименуем столбец count "
   ]
  },
  {
   "cell_type": "code",
   "execution_count": 64,
   "id": "bf44b5dd-a9c9-46c7-bbae-a0a1d96e4a90",
   "metadata": {},
   "outputs": [
    {
     "data": {
      "text/html": [
       "<div>\n",
       "<style scoped>\n",
       "    .dataframe tbody tr th:only-of-type {\n",
       "        vertical-align: middle;\n",
       "    }\n",
       "\n",
       "    .dataframe tbody tr th {\n",
       "        vertical-align: top;\n",
       "    }\n",
       "\n",
       "    .dataframe thead th {\n",
       "        text-align: right;\n",
       "    }\n",
       "</style>\n",
       "<table border=\"1\" class=\"dataframe\">\n",
       "  <thead>\n",
       "    <tr style=\"text-align: right;\">\n",
       "      <th></th>\n",
       "      <th>month</th>\n",
       "      <th>user_id</th>\n",
       "      <th>msg_count</th>\n",
       "    </tr>\n",
       "  </thead>\n",
       "  <tbody>\n",
       "    <tr>\n",
       "      <th>0</th>\n",
       "      <td>2018-01-01</td>\n",
       "      <td>1005</td>\n",
       "      <td>7</td>\n",
       "    </tr>\n",
       "    <tr>\n",
       "      <th>1</th>\n",
       "      <td>2018-01-01</td>\n",
       "      <td>1032</td>\n",
       "      <td>38</td>\n",
       "    </tr>\n",
       "    <tr>\n",
       "      <th>2</th>\n",
       "      <td>2018-01-01</td>\n",
       "      <td>1045</td>\n",
       "      <td>5</td>\n",
       "    </tr>\n",
       "    <tr>\n",
       "      <th>3</th>\n",
       "      <td>2018-01-01</td>\n",
       "      <td>1055</td>\n",
       "      <td>30</td>\n",
       "    </tr>\n",
       "    <tr>\n",
       "      <th>4</th>\n",
       "      <td>2018-01-01</td>\n",
       "      <td>1071</td>\n",
       "      <td>16</td>\n",
       "    </tr>\n",
       "    <tr>\n",
       "      <th>...</th>\n",
       "      <td>...</td>\n",
       "      <td>...</td>\n",
       "      <td>...</td>\n",
       "    </tr>\n",
       "    <tr>\n",
       "      <th>2712</th>\n",
       "      <td>2018-12-01</td>\n",
       "      <td>1493</td>\n",
       "      <td>78</td>\n",
       "    </tr>\n",
       "    <tr>\n",
       "      <th>2713</th>\n",
       "      <td>2018-12-01</td>\n",
       "      <td>1495</td>\n",
       "      <td>84</td>\n",
       "    </tr>\n",
       "    <tr>\n",
       "      <th>2714</th>\n",
       "      <td>2018-12-01</td>\n",
       "      <td>1496</td>\n",
       "      <td>51</td>\n",
       "    </tr>\n",
       "    <tr>\n",
       "      <th>2715</th>\n",
       "      <td>2018-12-01</td>\n",
       "      <td>1497</td>\n",
       "      <td>17</td>\n",
       "    </tr>\n",
       "    <tr>\n",
       "      <th>2716</th>\n",
       "      <td>2018-12-01</td>\n",
       "      <td>1499</td>\n",
       "      <td>66</td>\n",
       "    </tr>\n",
       "  </tbody>\n",
       "</table>\n",
       "<p>2717 rows × 3 columns</p>\n",
       "</div>"
      ],
      "text/plain": [
       "          month user_id  msg_count\n",
       "0    2018-01-01    1005          7\n",
       "1    2018-01-01    1032         38\n",
       "2    2018-01-01    1045          5\n",
       "3    2018-01-01    1055         30\n",
       "4    2018-01-01    1071         16\n",
       "...         ...     ...        ...\n",
       "2712 2018-12-01    1493         78\n",
       "2713 2018-12-01    1495         84\n",
       "2714 2018-12-01    1496         51\n",
       "2715 2018-12-01    1497         17\n",
       "2716 2018-12-01    1499         66\n",
       "\n",
       "[2717 rows x 3 columns]"
      ]
     },
     "execution_count": 64,
     "metadata": {},
     "output_type": "execute_result"
    }
   ],
   "source": [
    "pivot_messages.rename(columns={\"message_date\": \"msg_count\"}, inplace=True)\n",
    "pivot_messages"
   ]
  },
  {
   "cell_type": "markdown",
   "id": "05fd775a-48ab-4a6f-8caf-7e435ff76b30",
   "metadata": {},
   "source": [
    "Проверим, как отработал groupby по случайному пользователю"
   ]
  },
  {
   "cell_type": "code",
   "execution_count": 65,
   "id": "547ffa47-2d84-4e1b-bd17-0fd4280ef63a",
   "metadata": {},
   "outputs": [
    {
     "data": {
      "text/html": [
       "<div>\n",
       "<style scoped>\n",
       "    .dataframe tbody tr th:only-of-type {\n",
       "        vertical-align: middle;\n",
       "    }\n",
       "\n",
       "    .dataframe tbody tr th {\n",
       "        vertical-align: top;\n",
       "    }\n",
       "\n",
       "    .dataframe thead th {\n",
       "        text-align: right;\n",
       "    }\n",
       "</style>\n",
       "<table border=\"1\" class=\"dataframe\">\n",
       "  <thead>\n",
       "    <tr style=\"text-align: right;\">\n",
       "      <th></th>\n",
       "      <th>month</th>\n",
       "      <th>user_id</th>\n",
       "      <th>msg_count</th>\n",
       "    </tr>\n",
       "  </thead>\n",
       "  <tbody>\n",
       "    <tr>\n",
       "      <th>0</th>\n",
       "      <td>2018-01-01</td>\n",
       "      <td>1005</td>\n",
       "      <td>7</td>\n",
       "    </tr>\n",
       "    <tr>\n",
       "      <th>38</th>\n",
       "      <td>2018-02-01</td>\n",
       "      <td>1005</td>\n",
       "      <td>38</td>\n",
       "    </tr>\n",
       "    <tr>\n",
       "      <th>104</th>\n",
       "      <td>2018-03-01</td>\n",
       "      <td>1005</td>\n",
       "      <td>56</td>\n",
       "    </tr>\n",
       "    <tr>\n",
       "      <th>198</th>\n",
       "      <td>2018-04-01</td>\n",
       "      <td>1005</td>\n",
       "      <td>41</td>\n",
       "    </tr>\n",
       "    <tr>\n",
       "      <th>335</th>\n",
       "      <td>2018-05-01</td>\n",
       "      <td>1005</td>\n",
       "      <td>42</td>\n",
       "    </tr>\n",
       "    <tr>\n",
       "      <th>510</th>\n",
       "      <td>2018-06-01</td>\n",
       "      <td>1005</td>\n",
       "      <td>47</td>\n",
       "    </tr>\n",
       "    <tr>\n",
       "      <th>719</th>\n",
       "      <td>2018-07-01</td>\n",
       "      <td>1005</td>\n",
       "      <td>56</td>\n",
       "    </tr>\n",
       "    <tr>\n",
       "      <th>967</th>\n",
       "      <td>2018-08-01</td>\n",
       "      <td>1005</td>\n",
       "      <td>64</td>\n",
       "    </tr>\n",
       "    <tr>\n",
       "      <th>1259</th>\n",
       "      <td>2018-09-01</td>\n",
       "      <td>1005</td>\n",
       "      <td>52</td>\n",
       "    </tr>\n",
       "    <tr>\n",
       "      <th>1577</th>\n",
       "      <td>2018-10-01</td>\n",
       "      <td>1005</td>\n",
       "      <td>44</td>\n",
       "    </tr>\n",
       "    <tr>\n",
       "      <th>1934</th>\n",
       "      <td>2018-11-01</td>\n",
       "      <td>1005</td>\n",
       "      <td>51</td>\n",
       "    </tr>\n",
       "    <tr>\n",
       "      <th>2317</th>\n",
       "      <td>2018-12-01</td>\n",
       "      <td>1005</td>\n",
       "      <td>54</td>\n",
       "    </tr>\n",
       "  </tbody>\n",
       "</table>\n",
       "</div>"
      ],
      "text/plain": [
       "          month user_id  msg_count\n",
       "0    2018-01-01    1005          7\n",
       "38   2018-02-01    1005         38\n",
       "104  2018-03-01    1005         56\n",
       "198  2018-04-01    1005         41\n",
       "335  2018-05-01    1005         42\n",
       "510  2018-06-01    1005         47\n",
       "719  2018-07-01    1005         56\n",
       "967  2018-08-01    1005         64\n",
       "1259 2018-09-01    1005         52\n",
       "1577 2018-10-01    1005         44\n",
       "1934 2018-11-01    1005         51\n",
       "2317 2018-12-01    1005         54"
      ]
     },
     "execution_count": 65,
     "metadata": {},
     "output_type": "execute_result"
    }
   ],
   "source": [
    "pivot_messages[pivot_messages['user_id'] == '1005']"
   ]
  },
  {
   "cell_type": "markdown",
   "id": "cbeb1208-0e34-42b8-afca-165c3049a487",
   "metadata": {},
   "source": [
    "Количество отправленных сообщений за 1 января пользователем 1005 сходится со значением в сводной таблице"
   ]
  },
  {
   "cell_type": "code",
   "execution_count": 66,
   "id": "1a695f4d-fbcb-402e-bbe9-23632fa6c1f4",
   "metadata": {},
   "outputs": [
    {
     "data": {
      "text/html": [
       "<div>\n",
       "<style scoped>\n",
       "    .dataframe tbody tr th:only-of-type {\n",
       "        vertical-align: middle;\n",
       "    }\n",
       "\n",
       "    .dataframe tbody tr th {\n",
       "        vertical-align: top;\n",
       "    }\n",
       "\n",
       "    .dataframe thead th {\n",
       "        text-align: right;\n",
       "    }\n",
       "</style>\n",
       "<table border=\"1\" class=\"dataframe\">\n",
       "  <thead>\n",
       "    <tr style=\"text-align: right;\">\n",
       "      <th></th>\n",
       "      <th>id</th>\n",
       "      <th>message_date</th>\n",
       "      <th>user_id</th>\n",
       "      <th>month</th>\n",
       "    </tr>\n",
       "  </thead>\n",
       "  <tbody>\n",
       "    <tr>\n",
       "      <th>2242</th>\n",
       "      <td>1005_104</td>\n",
       "      <td>2018-01-25</td>\n",
       "      <td>1005</td>\n",
       "      <td>2018-01-01</td>\n",
       "    </tr>\n",
       "    <tr>\n",
       "      <th>2255</th>\n",
       "      <td>1005_117</td>\n",
       "      <td>2018-01-26</td>\n",
       "      <td>1005</td>\n",
       "      <td>2018-01-01</td>\n",
       "    </tr>\n",
       "    <tr>\n",
       "      <th>2268</th>\n",
       "      <td>1005_130</td>\n",
       "      <td>2018-01-28</td>\n",
       "      <td>1005</td>\n",
       "      <td>2018-01-01</td>\n",
       "    </tr>\n",
       "    <tr>\n",
       "      <th>2406</th>\n",
       "      <td>1005_268</td>\n",
       "      <td>2018-01-28</td>\n",
       "      <td>1005</td>\n",
       "      <td>2018-01-01</td>\n",
       "    </tr>\n",
       "    <tr>\n",
       "      <th>2565</th>\n",
       "      <td>1005_427</td>\n",
       "      <td>2018-01-28</td>\n",
       "      <td>1005</td>\n",
       "      <td>2018-01-01</td>\n",
       "    </tr>\n",
       "    <tr>\n",
       "      <th>2641</th>\n",
       "      <td>1005_503</td>\n",
       "      <td>2018-01-29</td>\n",
       "      <td>1005</td>\n",
       "      <td>2018-01-01</td>\n",
       "    </tr>\n",
       "    <tr>\n",
       "      <th>2676</th>\n",
       "      <td>1005_538</td>\n",
       "      <td>2018-01-27</td>\n",
       "      <td>1005</td>\n",
       "      <td>2018-01-01</td>\n",
       "    </tr>\n",
       "  </tbody>\n",
       "</table>\n",
       "</div>"
      ],
      "text/plain": [
       "            id message_date user_id      month\n",
       "2242  1005_104   2018-01-25    1005 2018-01-01\n",
       "2255  1005_117   2018-01-26    1005 2018-01-01\n",
       "2268  1005_130   2018-01-28    1005 2018-01-01\n",
       "2406  1005_268   2018-01-28    1005 2018-01-01\n",
       "2565  1005_427   2018-01-28    1005 2018-01-01\n",
       "2641  1005_503   2018-01-29    1005 2018-01-01\n",
       "2676  1005_538   2018-01-27    1005 2018-01-01"
      ]
     },
     "execution_count": 66,
     "metadata": {},
     "output_type": "execute_result"
    }
   ],
   "source": [
    "messages.query('month == \"2018-01-01\" and user_id == \"1005\"')"
   ]
  },
  {
   "cell_type": "markdown",
   "id": "5c833bc3-8791-458f-8a78-5d8f9c3d1c04",
   "metadata": {},
   "source": [
    "#### Cводная таблица по объему израсходованного интернет-трафика по месяцам для каждого пользователя\n"
   ]
  },
  {
   "cell_type": "code",
   "execution_count": 67,
   "id": "db11bfe6-409f-4fa0-963c-9e3eae651200",
   "metadata": {},
   "outputs": [
    {
     "data": {
      "text/html": [
       "<div>\n",
       "<style scoped>\n",
       "    .dataframe tbody tr th:only-of-type {\n",
       "        vertical-align: middle;\n",
       "    }\n",
       "\n",
       "    .dataframe tbody tr th {\n",
       "        vertical-align: top;\n",
       "    }\n",
       "\n",
       "    .dataframe thead th {\n",
       "        text-align: right;\n",
       "    }\n",
       "</style>\n",
       "<table border=\"1\" class=\"dataframe\">\n",
       "  <thead>\n",
       "    <tr style=\"text-align: right;\">\n",
       "      <th></th>\n",
       "      <th>month</th>\n",
       "      <th>user_id</th>\n",
       "      <th>mb_used</th>\n",
       "    </tr>\n",
       "  </thead>\n",
       "  <tbody>\n",
       "    <tr>\n",
       "      <th>0</th>\n",
       "      <td>2018-01-01</td>\n",
       "      <td>1005</td>\n",
       "      <td>2727.97</td>\n",
       "    </tr>\n",
       "    <tr>\n",
       "      <th>1</th>\n",
       "      <td>2018-01-01</td>\n",
       "      <td>1032</td>\n",
       "      <td>24127.69</td>\n",
       "    </tr>\n",
       "    <tr>\n",
       "      <th>2</th>\n",
       "      <td>2018-01-01</td>\n",
       "      <td>1045</td>\n",
       "      <td>2346.71</td>\n",
       "    </tr>\n",
       "    <tr>\n",
       "      <th>3</th>\n",
       "      <td>2018-01-01</td>\n",
       "      <td>1055</td>\n",
       "      <td>17090.88</td>\n",
       "    </tr>\n",
       "    <tr>\n",
       "      <th>4</th>\n",
       "      <td>2018-01-01</td>\n",
       "      <td>1071</td>\n",
       "      <td>15604.34</td>\n",
       "    </tr>\n",
       "    <tr>\n",
       "      <th>...</th>\n",
       "      <td>...</td>\n",
       "      <td>...</td>\n",
       "      <td>...</td>\n",
       "    </tr>\n",
       "    <tr>\n",
       "      <th>3198</th>\n",
       "      <td>2018-12-01</td>\n",
       "      <td>1494</td>\n",
       "      <td>17621.21</td>\n",
       "    </tr>\n",
       "    <tr>\n",
       "      <th>3199</th>\n",
       "      <td>2018-12-01</td>\n",
       "      <td>1495</td>\n",
       "      <td>23426.76</td>\n",
       "    </tr>\n",
       "    <tr>\n",
       "      <th>3200</th>\n",
       "      <td>2018-12-01</td>\n",
       "      <td>1496</td>\n",
       "      <td>20736.15</td>\n",
       "    </tr>\n",
       "    <tr>\n",
       "      <th>3201</th>\n",
       "      <td>2018-12-01</td>\n",
       "      <td>1497</td>\n",
       "      <td>19918.60</td>\n",
       "    </tr>\n",
       "    <tr>\n",
       "      <th>3202</th>\n",
       "      <td>2018-12-01</td>\n",
       "      <td>1499</td>\n",
       "      <td>13055.58</td>\n",
       "    </tr>\n",
       "  </tbody>\n",
       "</table>\n",
       "<p>3203 rows × 3 columns</p>\n",
       "</div>"
      ],
      "text/plain": [
       "          month user_id   mb_used\n",
       "0    2018-01-01    1005   2727.97\n",
       "1    2018-01-01    1032  24127.69\n",
       "2    2018-01-01    1045   2346.71\n",
       "3    2018-01-01    1055  17090.88\n",
       "4    2018-01-01    1071  15604.34\n",
       "...         ...     ...       ...\n",
       "3198 2018-12-01    1494  17621.21\n",
       "3199 2018-12-01    1495  23426.76\n",
       "3200 2018-12-01    1496  20736.15\n",
       "3201 2018-12-01    1497  19918.60\n",
       "3202 2018-12-01    1499  13055.58\n",
       "\n",
       "[3203 rows x 3 columns]"
      ]
     },
     "execution_count": 67,
     "metadata": {},
     "output_type": "execute_result"
    }
   ],
   "source": [
    "pivot_internet = internet.groupby(['month','user_id'])['mb_used'].sum().reset_index()\n",
    "pivot_internet"
   ]
  },
  {
   "cell_type": "markdown",
   "id": "2e9074ab-b55b-471b-8f1a-b222527c0f7d",
   "metadata": {},
   "source": [
    "<a id='ceiling_gb'></a> \n",
    "\n",
    "Согласно документации «Мегалайн» всегда округляет мегабайты — до гигабайт. \n",
    "Для веб-трафика отдельные сессии не считаются. Вместо этого общая сумма за месяц округляется в бо́льшую сторону. Если абонент использует 1025 мегабайт в этом месяце, с него возьмут плату за 2 гигабайта.\n",
    "\n",
    "Следуя этому требованию создадим отдельно столбец с гигабайтами, округлим в большую сторону."
   ]
  },
  {
   "cell_type": "code",
   "execution_count": 68,
   "id": "4cedf7dc-af57-4c92-92ff-6bb0572dbf9d",
   "metadata": {},
   "outputs": [
    {
     "data": {
      "text/html": [
       "<div>\n",
       "<style scoped>\n",
       "    .dataframe tbody tr th:only-of-type {\n",
       "        vertical-align: middle;\n",
       "    }\n",
       "\n",
       "    .dataframe tbody tr th {\n",
       "        vertical-align: top;\n",
       "    }\n",
       "\n",
       "    .dataframe thead th {\n",
       "        text-align: right;\n",
       "    }\n",
       "</style>\n",
       "<table border=\"1\" class=\"dataframe\">\n",
       "  <thead>\n",
       "    <tr style=\"text-align: right;\">\n",
       "      <th></th>\n",
       "      <th>month</th>\n",
       "      <th>user_id</th>\n",
       "      <th>mb_used</th>\n",
       "      <th>gb_used</th>\n",
       "    </tr>\n",
       "  </thead>\n",
       "  <tbody>\n",
       "    <tr>\n",
       "      <th>0</th>\n",
       "      <td>2018-01-01</td>\n",
       "      <td>1005</td>\n",
       "      <td>2727.97</td>\n",
       "      <td>2.664033</td>\n",
       "    </tr>\n",
       "    <tr>\n",
       "      <th>1</th>\n",
       "      <td>2018-01-01</td>\n",
       "      <td>1032</td>\n",
       "      <td>24127.69</td>\n",
       "      <td>23.562197</td>\n",
       "    </tr>\n",
       "    <tr>\n",
       "      <th>2</th>\n",
       "      <td>2018-01-01</td>\n",
       "      <td>1045</td>\n",
       "      <td>2346.71</td>\n",
       "      <td>2.291709</td>\n",
       "    </tr>\n",
       "    <tr>\n",
       "      <th>3</th>\n",
       "      <td>2018-01-01</td>\n",
       "      <td>1055</td>\n",
       "      <td>17090.88</td>\n",
       "      <td>16.690313</td>\n",
       "    </tr>\n",
       "    <tr>\n",
       "      <th>4</th>\n",
       "      <td>2018-01-01</td>\n",
       "      <td>1071</td>\n",
       "      <td>15604.34</td>\n",
       "      <td>15.238613</td>\n",
       "    </tr>\n",
       "  </tbody>\n",
       "</table>\n",
       "</div>"
      ],
      "text/plain": [
       "       month user_id   mb_used    gb_used\n",
       "0 2018-01-01    1005   2727.97   2.664033\n",
       "1 2018-01-01    1032  24127.69  23.562197\n",
       "2 2018-01-01    1045   2346.71   2.291709\n",
       "3 2018-01-01    1055  17090.88  16.690313\n",
       "4 2018-01-01    1071  15604.34  15.238613"
      ]
     },
     "execution_count": 68,
     "metadata": {},
     "output_type": "execute_result"
    }
   ],
   "source": [
    "pivot_internet['gb_used'] = pivot_internet['mb_used'] / 1024\n",
    "pivot_internet.head()"
   ]
  },
  {
   "cell_type": "markdown",
   "id": "2e850689-1b4c-45df-a544-19b2f2318c62",
   "metadata": {},
   "source": [
    "Округлим количество использованных мегабайтов в большую сторону и поменяем тип на int, раз у нас тут точно целые числа, без мегабайт"
   ]
  },
  {
   "cell_type": "code",
   "execution_count": 69,
   "id": "63e8bd93-da59-4e32-97f9-f062abff27d2",
   "metadata": {},
   "outputs": [
    {
     "data": {
      "text/html": [
       "<div>\n",
       "<style scoped>\n",
       "    .dataframe tbody tr th:only-of-type {\n",
       "        vertical-align: middle;\n",
       "    }\n",
       "\n",
       "    .dataframe tbody tr th {\n",
       "        vertical-align: top;\n",
       "    }\n",
       "\n",
       "    .dataframe thead th {\n",
       "        text-align: right;\n",
       "    }\n",
       "</style>\n",
       "<table border=\"1\" class=\"dataframe\">\n",
       "  <thead>\n",
       "    <tr style=\"text-align: right;\">\n",
       "      <th></th>\n",
       "      <th>month</th>\n",
       "      <th>user_id</th>\n",
       "      <th>mb_used</th>\n",
       "      <th>gb_used</th>\n",
       "    </tr>\n",
       "  </thead>\n",
       "  <tbody>\n",
       "    <tr>\n",
       "      <th>0</th>\n",
       "      <td>2018-01-01</td>\n",
       "      <td>1005</td>\n",
       "      <td>2727.97</td>\n",
       "      <td>3</td>\n",
       "    </tr>\n",
       "    <tr>\n",
       "      <th>1</th>\n",
       "      <td>2018-01-01</td>\n",
       "      <td>1032</td>\n",
       "      <td>24127.69</td>\n",
       "      <td>24</td>\n",
       "    </tr>\n",
       "    <tr>\n",
       "      <th>2</th>\n",
       "      <td>2018-01-01</td>\n",
       "      <td>1045</td>\n",
       "      <td>2346.71</td>\n",
       "      <td>3</td>\n",
       "    </tr>\n",
       "    <tr>\n",
       "      <th>3</th>\n",
       "      <td>2018-01-01</td>\n",
       "      <td>1055</td>\n",
       "      <td>17090.88</td>\n",
       "      <td>17</td>\n",
       "    </tr>\n",
       "    <tr>\n",
       "      <th>4</th>\n",
       "      <td>2018-01-01</td>\n",
       "      <td>1071</td>\n",
       "      <td>15604.34</td>\n",
       "      <td>16</td>\n",
       "    </tr>\n",
       "  </tbody>\n",
       "</table>\n",
       "</div>"
      ],
      "text/plain": [
       "       month user_id   mb_used  gb_used\n",
       "0 2018-01-01    1005   2727.97        3\n",
       "1 2018-01-01    1032  24127.69       24\n",
       "2 2018-01-01    1045   2346.71        3\n",
       "3 2018-01-01    1055  17090.88       17\n",
       "4 2018-01-01    1071  15604.34       16"
      ]
     },
     "execution_count": 69,
     "metadata": {},
     "output_type": "execute_result"
    }
   ],
   "source": [
    "pivot_internet['gb_used'] = np.ceil(pivot_internet['gb_used']).astype({'gb_used': 'int64'}) \n",
    "pivot_internet.head()"
   ]
  },
  {
   "cell_type": "markdown",
   "id": "e9313597-6ee6-4429-ba24-823cc4eff60a",
   "metadata": {},
   "source": [
    "Мы успешно добавили столбец с гигабайтами и округлили значения в нем в большую сторону."
   ]
  },
  {
   "cell_type": "markdown",
   "id": "5087eda2-2e67-438a-9c52-53f987bfa985",
   "metadata": {},
   "source": [
    "### Объединение таблиц"
   ]
  },
  {
   "cell_type": "markdown",
   "id": "9bd84c8e-2e2f-404a-a3c7-25cd855efe31",
   "metadata": {},
   "source": [
    "#### Объединение звонков и сообщений"
   ]
  },
  {
   "cell_type": "code",
   "execution_count": 70,
   "id": "9e091232-73a5-4d3b-9bb7-8080137d9a98",
   "metadata": {},
   "outputs": [
    {
     "data": {
      "text/html": [
       "<div>\n",
       "<style scoped>\n",
       "    .dataframe tbody tr th:only-of-type {\n",
       "        vertical-align: middle;\n",
       "    }\n",
       "\n",
       "    .dataframe tbody tr th {\n",
       "        vertical-align: top;\n",
       "    }\n",
       "\n",
       "    .dataframe thead th {\n",
       "        text-align: right;\n",
       "    }\n",
       "</style>\n",
       "<table border=\"1\" class=\"dataframe\">\n",
       "  <thead>\n",
       "    <tr style=\"text-align: right;\">\n",
       "      <th></th>\n",
       "      <th>month</th>\n",
       "      <th>user_id</th>\n",
       "      <th>calls_duration</th>\n",
       "      <th>calls_count</th>\n",
       "      <th>msg_count</th>\n",
       "    </tr>\n",
       "  </thead>\n",
       "  <tbody>\n",
       "    <tr>\n",
       "      <th>0</th>\n",
       "      <td>2018-01-01</td>\n",
       "      <td>1005</td>\n",
       "      <td>91.0</td>\n",
       "      <td>15.0</td>\n",
       "      <td>7.0</td>\n",
       "    </tr>\n",
       "    <tr>\n",
       "      <th>1</th>\n",
       "      <td>2018-01-01</td>\n",
       "      <td>1032</td>\n",
       "      <td>360.0</td>\n",
       "      <td>61.0</td>\n",
       "      <td>38.0</td>\n",
       "    </tr>\n",
       "    <tr>\n",
       "      <th>2</th>\n",
       "      <td>2018-01-01</td>\n",
       "      <td>1045</td>\n",
       "      <td>9.0</td>\n",
       "      <td>1.0</td>\n",
       "      <td>5.0</td>\n",
       "    </tr>\n",
       "    <tr>\n",
       "      <th>3</th>\n",
       "      <td>2018-01-01</td>\n",
       "      <td>1055</td>\n",
       "      <td>528.0</td>\n",
       "      <td>64.0</td>\n",
       "      <td>30.0</td>\n",
       "    </tr>\n",
       "    <tr>\n",
       "      <th>4</th>\n",
       "      <td>2018-01-01</td>\n",
       "      <td>1071</td>\n",
       "      <td>184.0</td>\n",
       "      <td>24.0</td>\n",
       "      <td>16.0</td>\n",
       "    </tr>\n",
       "    <tr>\n",
       "      <th>...</th>\n",
       "      <td>...</td>\n",
       "      <td>...</td>\n",
       "      <td>...</td>\n",
       "      <td>...</td>\n",
       "      <td>...</td>\n",
       "    </tr>\n",
       "    <tr>\n",
       "      <th>3208</th>\n",
       "      <td>2018-12-01</td>\n",
       "      <td>1106</td>\n",
       "      <td>NaN</td>\n",
       "      <td>NaN</td>\n",
       "      <td>24.0</td>\n",
       "    </tr>\n",
       "    <tr>\n",
       "      <th>3209</th>\n",
       "      <td>2018-12-01</td>\n",
       "      <td>1231</td>\n",
       "      <td>NaN</td>\n",
       "      <td>NaN</td>\n",
       "      <td>191.0</td>\n",
       "    </tr>\n",
       "    <tr>\n",
       "      <th>3210</th>\n",
       "      <td>2018-12-01</td>\n",
       "      <td>1328</td>\n",
       "      <td>NaN</td>\n",
       "      <td>NaN</td>\n",
       "      <td>7.0</td>\n",
       "    </tr>\n",
       "    <tr>\n",
       "      <th>3211</th>\n",
       "      <td>2018-12-01</td>\n",
       "      <td>1473</td>\n",
       "      <td>NaN</td>\n",
       "      <td>NaN</td>\n",
       "      <td>20.0</td>\n",
       "    </tr>\n",
       "    <tr>\n",
       "      <th>3212</th>\n",
       "      <td>2018-12-01</td>\n",
       "      <td>1489</td>\n",
       "      <td>NaN</td>\n",
       "      <td>NaN</td>\n",
       "      <td>35.0</td>\n",
       "    </tr>\n",
       "  </tbody>\n",
       "</table>\n",
       "<p>3213 rows × 5 columns</p>\n",
       "</div>"
      ],
      "text/plain": [
       "          month user_id  calls_duration  calls_count  msg_count\n",
       "0    2018-01-01    1005            91.0         15.0        7.0\n",
       "1    2018-01-01    1032           360.0         61.0       38.0\n",
       "2    2018-01-01    1045             9.0          1.0        5.0\n",
       "3    2018-01-01    1055           528.0         64.0       30.0\n",
       "4    2018-01-01    1071           184.0         24.0       16.0\n",
       "...         ...     ...             ...          ...        ...\n",
       "3208 2018-12-01    1106             NaN          NaN       24.0\n",
       "3209 2018-12-01    1231             NaN          NaN      191.0\n",
       "3210 2018-12-01    1328             NaN          NaN        7.0\n",
       "3211 2018-12-01    1473             NaN          NaN       20.0\n",
       "3212 2018-12-01    1489             NaN          NaN       35.0\n",
       "\n",
       "[3213 rows x 5 columns]"
      ]
     },
     "execution_count": 70,
     "metadata": {},
     "output_type": "execute_result"
    }
   ],
   "source": [
    "t1 = pivot_calls.merge(pivot_messages, how='outer', on=['month', 'user_id'])\n",
    "t1"
   ]
  },
  {
   "cell_type": "markdown",
   "id": "9edfdffe-7fe4-4a76-b485-c30c82b96514",
   "metadata": {},
   "source": [
    "#### Добавление таблицы c интернет-трафиком"
   ]
  },
  {
   "cell_type": "code",
   "execution_count": 71,
   "id": "a47695d0-9979-41de-9912-09e609419b70",
   "metadata": {},
   "outputs": [
    {
     "data": {
      "text/html": [
       "<div>\n",
       "<style scoped>\n",
       "    .dataframe tbody tr th:only-of-type {\n",
       "        vertical-align: middle;\n",
       "    }\n",
       "\n",
       "    .dataframe tbody tr th {\n",
       "        vertical-align: top;\n",
       "    }\n",
       "\n",
       "    .dataframe thead th {\n",
       "        text-align: right;\n",
       "    }\n",
       "</style>\n",
       "<table border=\"1\" class=\"dataframe\">\n",
       "  <thead>\n",
       "    <tr style=\"text-align: right;\">\n",
       "      <th></th>\n",
       "      <th>month</th>\n",
       "      <th>user_id</th>\n",
       "      <th>calls_duration</th>\n",
       "      <th>calls_count</th>\n",
       "      <th>msg_count</th>\n",
       "      <th>mb_used</th>\n",
       "      <th>gb_used</th>\n",
       "    </tr>\n",
       "  </thead>\n",
       "  <tbody>\n",
       "    <tr>\n",
       "      <th>0</th>\n",
       "      <td>2018-01-01</td>\n",
       "      <td>1005</td>\n",
       "      <td>91.0</td>\n",
       "      <td>15.0</td>\n",
       "      <td>7.0</td>\n",
       "      <td>2727.97</td>\n",
       "      <td>3.0</td>\n",
       "    </tr>\n",
       "    <tr>\n",
       "      <th>1</th>\n",
       "      <td>2018-01-01</td>\n",
       "      <td>1032</td>\n",
       "      <td>360.0</td>\n",
       "      <td>61.0</td>\n",
       "      <td>38.0</td>\n",
       "      <td>24127.69</td>\n",
       "      <td>24.0</td>\n",
       "    </tr>\n",
       "    <tr>\n",
       "      <th>2</th>\n",
       "      <td>2018-01-01</td>\n",
       "      <td>1045</td>\n",
       "      <td>9.0</td>\n",
       "      <td>1.0</td>\n",
       "      <td>5.0</td>\n",
       "      <td>2346.71</td>\n",
       "      <td>3.0</td>\n",
       "    </tr>\n",
       "    <tr>\n",
       "      <th>3</th>\n",
       "      <td>2018-01-01</td>\n",
       "      <td>1055</td>\n",
       "      <td>528.0</td>\n",
       "      <td>64.0</td>\n",
       "      <td>30.0</td>\n",
       "      <td>17090.88</td>\n",
       "      <td>17.0</td>\n",
       "    </tr>\n",
       "    <tr>\n",
       "      <th>4</th>\n",
       "      <td>2018-01-01</td>\n",
       "      <td>1071</td>\n",
       "      <td>184.0</td>\n",
       "      <td>24.0</td>\n",
       "      <td>16.0</td>\n",
       "      <td>15604.34</td>\n",
       "      <td>16.0</td>\n",
       "    </tr>\n",
       "    <tr>\n",
       "      <th>...</th>\n",
       "      <td>...</td>\n",
       "      <td>...</td>\n",
       "      <td>...</td>\n",
       "      <td>...</td>\n",
       "      <td>...</td>\n",
       "      <td>...</td>\n",
       "      <td>...</td>\n",
       "    </tr>\n",
       "    <tr>\n",
       "      <th>3209</th>\n",
       "      <td>2018-12-01</td>\n",
       "      <td>1231</td>\n",
       "      <td>NaN</td>\n",
       "      <td>NaN</td>\n",
       "      <td>191.0</td>\n",
       "      <td>32448.00</td>\n",
       "      <td>32.0</td>\n",
       "    </tr>\n",
       "    <tr>\n",
       "      <th>3210</th>\n",
       "      <td>2018-12-01</td>\n",
       "      <td>1328</td>\n",
       "      <td>NaN</td>\n",
       "      <td>NaN</td>\n",
       "      <td>7.0</td>\n",
       "      <td>39419.73</td>\n",
       "      <td>39.0</td>\n",
       "    </tr>\n",
       "    <tr>\n",
       "      <th>3211</th>\n",
       "      <td>2018-12-01</td>\n",
       "      <td>1473</td>\n",
       "      <td>NaN</td>\n",
       "      <td>NaN</td>\n",
       "      <td>20.0</td>\n",
       "      <td>18418.26</td>\n",
       "      <td>18.0</td>\n",
       "    </tr>\n",
       "    <tr>\n",
       "      <th>3212</th>\n",
       "      <td>2018-12-01</td>\n",
       "      <td>1489</td>\n",
       "      <td>NaN</td>\n",
       "      <td>NaN</td>\n",
       "      <td>35.0</td>\n",
       "      <td>17322.51</td>\n",
       "      <td>17.0</td>\n",
       "    </tr>\n",
       "    <tr>\n",
       "      <th>3213</th>\n",
       "      <td>2018-04-01</td>\n",
       "      <td>1476</td>\n",
       "      <td>NaN</td>\n",
       "      <td>NaN</td>\n",
       "      <td>NaN</td>\n",
       "      <td>530.78</td>\n",
       "      <td>1.0</td>\n",
       "    </tr>\n",
       "  </tbody>\n",
       "</table>\n",
       "<p>3214 rows × 7 columns</p>\n",
       "</div>"
      ],
      "text/plain": [
       "          month user_id  calls_duration  calls_count  msg_count   mb_used  \\\n",
       "0    2018-01-01    1005            91.0         15.0        7.0   2727.97   \n",
       "1    2018-01-01    1032           360.0         61.0       38.0  24127.69   \n",
       "2    2018-01-01    1045             9.0          1.0        5.0   2346.71   \n",
       "3    2018-01-01    1055           528.0         64.0       30.0  17090.88   \n",
       "4    2018-01-01    1071           184.0         24.0       16.0  15604.34   \n",
       "...         ...     ...             ...          ...        ...       ...   \n",
       "3209 2018-12-01    1231             NaN          NaN      191.0  32448.00   \n",
       "3210 2018-12-01    1328             NaN          NaN        7.0  39419.73   \n",
       "3211 2018-12-01    1473             NaN          NaN       20.0  18418.26   \n",
       "3212 2018-12-01    1489             NaN          NaN       35.0  17322.51   \n",
       "3213 2018-04-01    1476             NaN          NaN        NaN    530.78   \n",
       "\n",
       "      gb_used  \n",
       "0         3.0  \n",
       "1        24.0  \n",
       "2         3.0  \n",
       "3        17.0  \n",
       "4        16.0  \n",
       "...       ...  \n",
       "3209     32.0  \n",
       "3210     39.0  \n",
       "3211     18.0  \n",
       "3212     17.0  \n",
       "3213      1.0  \n",
       "\n",
       "[3214 rows x 7 columns]"
      ]
     },
     "execution_count": 71,
     "metadata": {},
     "output_type": "execute_result"
    }
   ],
   "source": [
    "t2 = t1.merge(pivot_internet, how='outer', on=['month', 'user_id'])\n",
    "t2"
   ]
  },
  {
   "cell_type": "markdown",
   "id": "6a0bb456-22cb-4cfd-a457-85f6a93c5843",
   "metadata": {},
   "source": [
    "#### Добавление таблицы с информацией о пользователях"
   ]
  },
  {
   "cell_type": "code",
   "execution_count": 72,
   "id": "bc8146ed-83eb-4312-9879-28c4d45592d7",
   "metadata": {},
   "outputs": [
    {
     "data": {
      "text/html": [
       "<div>\n",
       "<style scoped>\n",
       "    .dataframe tbody tr th:only-of-type {\n",
       "        vertical-align: middle;\n",
       "    }\n",
       "\n",
       "    .dataframe tbody tr th {\n",
       "        vertical-align: top;\n",
       "    }\n",
       "\n",
       "    .dataframe thead th {\n",
       "        text-align: right;\n",
       "    }\n",
       "</style>\n",
       "<table border=\"1\" class=\"dataframe\">\n",
       "  <thead>\n",
       "    <tr style=\"text-align: right;\">\n",
       "      <th></th>\n",
       "      <th>month</th>\n",
       "      <th>user_id</th>\n",
       "      <th>calls_duration</th>\n",
       "      <th>calls_count</th>\n",
       "      <th>msg_count</th>\n",
       "      <th>mb_used</th>\n",
       "      <th>gb_used</th>\n",
       "      <th>tariff</th>\n",
       "      <th>city</th>\n",
       "    </tr>\n",
       "  </thead>\n",
       "  <tbody>\n",
       "    <tr>\n",
       "      <th>0</th>\n",
       "      <td>2018-01-01</td>\n",
       "      <td>1005</td>\n",
       "      <td>91.0</td>\n",
       "      <td>15.0</td>\n",
       "      <td>7.0</td>\n",
       "      <td>2727.97</td>\n",
       "      <td>3.0</td>\n",
       "      <td>smart</td>\n",
       "      <td>Набережные Челны</td>\n",
       "    </tr>\n",
       "    <tr>\n",
       "      <th>1</th>\n",
       "      <td>2018-01-01</td>\n",
       "      <td>1032</td>\n",
       "      <td>360.0</td>\n",
       "      <td>61.0</td>\n",
       "      <td>38.0</td>\n",
       "      <td>24127.69</td>\n",
       "      <td>24.0</td>\n",
       "      <td>smart</td>\n",
       "      <td>Ульяновск</td>\n",
       "    </tr>\n",
       "    <tr>\n",
       "      <th>2</th>\n",
       "      <td>2018-01-01</td>\n",
       "      <td>1045</td>\n",
       "      <td>9.0</td>\n",
       "      <td>1.0</td>\n",
       "      <td>5.0</td>\n",
       "      <td>2346.71</td>\n",
       "      <td>3.0</td>\n",
       "      <td>smart</td>\n",
       "      <td>Улан-Удэ</td>\n",
       "    </tr>\n",
       "    <tr>\n",
       "      <th>3</th>\n",
       "      <td>2018-01-01</td>\n",
       "      <td>1055</td>\n",
       "      <td>528.0</td>\n",
       "      <td>64.0</td>\n",
       "      <td>30.0</td>\n",
       "      <td>17090.88</td>\n",
       "      <td>17.0</td>\n",
       "      <td>smart</td>\n",
       "      <td>Казань</td>\n",
       "    </tr>\n",
       "    <tr>\n",
       "      <th>4</th>\n",
       "      <td>2018-01-01</td>\n",
       "      <td>1071</td>\n",
       "      <td>184.0</td>\n",
       "      <td>24.0</td>\n",
       "      <td>16.0</td>\n",
       "      <td>15604.34</td>\n",
       "      <td>16.0</td>\n",
       "      <td>smart</td>\n",
       "      <td>Омск</td>\n",
       "    </tr>\n",
       "    <tr>\n",
       "      <th>...</th>\n",
       "      <td>...</td>\n",
       "      <td>...</td>\n",
       "      <td>...</td>\n",
       "      <td>...</td>\n",
       "      <td>...</td>\n",
       "      <td>...</td>\n",
       "      <td>...</td>\n",
       "      <td>...</td>\n",
       "      <td>...</td>\n",
       "    </tr>\n",
       "    <tr>\n",
       "      <th>3209</th>\n",
       "      <td>2018-12-01</td>\n",
       "      <td>1231</td>\n",
       "      <td>NaN</td>\n",
       "      <td>NaN</td>\n",
       "      <td>191.0</td>\n",
       "      <td>32448.00</td>\n",
       "      <td>32.0</td>\n",
       "      <td>ultra</td>\n",
       "      <td>Чебоксары</td>\n",
       "    </tr>\n",
       "    <tr>\n",
       "      <th>3210</th>\n",
       "      <td>2018-12-01</td>\n",
       "      <td>1328</td>\n",
       "      <td>NaN</td>\n",
       "      <td>NaN</td>\n",
       "      <td>7.0</td>\n",
       "      <td>39419.73</td>\n",
       "      <td>39.0</td>\n",
       "      <td>ultra</td>\n",
       "      <td>Мурманск</td>\n",
       "    </tr>\n",
       "    <tr>\n",
       "      <th>3211</th>\n",
       "      <td>2018-12-01</td>\n",
       "      <td>1473</td>\n",
       "      <td>NaN</td>\n",
       "      <td>NaN</td>\n",
       "      <td>20.0</td>\n",
       "      <td>18418.26</td>\n",
       "      <td>18.0</td>\n",
       "      <td>ultra</td>\n",
       "      <td>Красноярск</td>\n",
       "    </tr>\n",
       "    <tr>\n",
       "      <th>3212</th>\n",
       "      <td>2018-12-01</td>\n",
       "      <td>1489</td>\n",
       "      <td>NaN</td>\n",
       "      <td>NaN</td>\n",
       "      <td>35.0</td>\n",
       "      <td>17322.51</td>\n",
       "      <td>17.0</td>\n",
       "      <td>smart</td>\n",
       "      <td>Санкт-Петербург</td>\n",
       "    </tr>\n",
       "    <tr>\n",
       "      <th>3213</th>\n",
       "      <td>2018-04-01</td>\n",
       "      <td>1476</td>\n",
       "      <td>NaN</td>\n",
       "      <td>NaN</td>\n",
       "      <td>NaN</td>\n",
       "      <td>530.78</td>\n",
       "      <td>1.0</td>\n",
       "      <td>ultra</td>\n",
       "      <td>Москва</td>\n",
       "    </tr>\n",
       "  </tbody>\n",
       "</table>\n",
       "<p>3214 rows × 9 columns</p>\n",
       "</div>"
      ],
      "text/plain": [
       "          month user_id  calls_duration  calls_count  msg_count   mb_used  \\\n",
       "0    2018-01-01    1005            91.0         15.0        7.0   2727.97   \n",
       "1    2018-01-01    1032           360.0         61.0       38.0  24127.69   \n",
       "2    2018-01-01    1045             9.0          1.0        5.0   2346.71   \n",
       "3    2018-01-01    1055           528.0         64.0       30.0  17090.88   \n",
       "4    2018-01-01    1071           184.0         24.0       16.0  15604.34   \n",
       "...         ...     ...             ...          ...        ...       ...   \n",
       "3209 2018-12-01    1231             NaN          NaN      191.0  32448.00   \n",
       "3210 2018-12-01    1328             NaN          NaN        7.0  39419.73   \n",
       "3211 2018-12-01    1473             NaN          NaN       20.0  18418.26   \n",
       "3212 2018-12-01    1489             NaN          NaN       35.0  17322.51   \n",
       "3213 2018-04-01    1476             NaN          NaN        NaN    530.78   \n",
       "\n",
       "      gb_used tariff              city  \n",
       "0         3.0  smart  Набережные Челны  \n",
       "1        24.0  smart         Ульяновск  \n",
       "2         3.0  smart          Улан-Удэ  \n",
       "3        17.0  smart            Казань  \n",
       "4        16.0  smart              Омск  \n",
       "...       ...    ...               ...  \n",
       "3209     32.0  ultra         Чебоксары  \n",
       "3210     39.0  ultra          Мурманск  \n",
       "3211     18.0  ultra        Красноярск  \n",
       "3212     17.0  smart   Санкт-Петербург  \n",
       "3213      1.0  ultra            Москва  \n",
       "\n",
       "[3214 rows x 9 columns]"
      ]
     },
     "execution_count": 72,
     "metadata": {},
     "output_type": "execute_result"
    }
   ],
   "source": [
    "t3 = t2.merge(users[['user_id', 'tariff', 'city']], on='user_id', how='left')\n",
    "t3"
   ]
  },
  {
   "cell_type": "markdown",
   "id": "c1f81025-28f7-445f-9e19-92a14730fde4",
   "metadata": {},
   "source": [
    "#### Добавление таблицы с информацией о тарифе"
   ]
  },
  {
   "cell_type": "markdown",
   "id": "40b34369-b11f-4ab7-8347-b87935b0b853",
   "metadata": {},
   "source": [
    "Поскольку в таблице с тарифами иное название столбца с тарифом, пропишу параметры left_on=['tariff'] и right_on=['tariff_name'] у метода merge."
   ]
  },
  {
   "cell_type": "code",
   "execution_count": 73,
   "id": "96594d7d-423e-4ea7-b31e-5aed3ac3b7de",
   "metadata": {},
   "outputs": [
    {
     "data": {
      "text/html": [
       "<div>\n",
       "<style scoped>\n",
       "    .dataframe tbody tr th:only-of-type {\n",
       "        vertical-align: middle;\n",
       "    }\n",
       "\n",
       "    .dataframe tbody tr th {\n",
       "        vertical-align: top;\n",
       "    }\n",
       "\n",
       "    .dataframe thead th {\n",
       "        text-align: right;\n",
       "    }\n",
       "</style>\n",
       "<table border=\"1\" class=\"dataframe\">\n",
       "  <thead>\n",
       "    <tr style=\"text-align: right;\">\n",
       "      <th></th>\n",
       "      <th>month</th>\n",
       "      <th>user_id</th>\n",
       "      <th>calls_duration</th>\n",
       "      <th>calls_count</th>\n",
       "      <th>msg_count</th>\n",
       "      <th>mb_used</th>\n",
       "      <th>gb_used</th>\n",
       "      <th>tariff</th>\n",
       "      <th>city</th>\n",
       "      <th>messages_included</th>\n",
       "      <th>mb_per_month_included</th>\n",
       "      <th>gb_per_month_included</th>\n",
       "      <th>minutes_included</th>\n",
       "      <th>rub_monthly_fee</th>\n",
       "      <th>rub_per_gb</th>\n",
       "      <th>rub_per_message</th>\n",
       "      <th>rub_per_minute</th>\n",
       "      <th>tariff_name</th>\n",
       "    </tr>\n",
       "  </thead>\n",
       "  <tbody>\n",
       "    <tr>\n",
       "      <th>0</th>\n",
       "      <td>2018-01-01</td>\n",
       "      <td>1005</td>\n",
       "      <td>91.0</td>\n",
       "      <td>15.0</td>\n",
       "      <td>7.0</td>\n",
       "      <td>2727.97</td>\n",
       "      <td>3.0</td>\n",
       "      <td>smart</td>\n",
       "      <td>Набережные Челны</td>\n",
       "      <td>50</td>\n",
       "      <td>15360</td>\n",
       "      <td>15</td>\n",
       "      <td>500</td>\n",
       "      <td>550</td>\n",
       "      <td>200</td>\n",
       "      <td>3</td>\n",
       "      <td>3</td>\n",
       "      <td>smart</td>\n",
       "    </tr>\n",
       "    <tr>\n",
       "      <th>1</th>\n",
       "      <td>2018-01-01</td>\n",
       "      <td>1032</td>\n",
       "      <td>360.0</td>\n",
       "      <td>61.0</td>\n",
       "      <td>38.0</td>\n",
       "      <td>24127.69</td>\n",
       "      <td>24.0</td>\n",
       "      <td>smart</td>\n",
       "      <td>Ульяновск</td>\n",
       "      <td>50</td>\n",
       "      <td>15360</td>\n",
       "      <td>15</td>\n",
       "      <td>500</td>\n",
       "      <td>550</td>\n",
       "      <td>200</td>\n",
       "      <td>3</td>\n",
       "      <td>3</td>\n",
       "      <td>smart</td>\n",
       "    </tr>\n",
       "    <tr>\n",
       "      <th>2</th>\n",
       "      <td>2018-01-01</td>\n",
       "      <td>1045</td>\n",
       "      <td>9.0</td>\n",
       "      <td>1.0</td>\n",
       "      <td>5.0</td>\n",
       "      <td>2346.71</td>\n",
       "      <td>3.0</td>\n",
       "      <td>smart</td>\n",
       "      <td>Улан-Удэ</td>\n",
       "      <td>50</td>\n",
       "      <td>15360</td>\n",
       "      <td>15</td>\n",
       "      <td>500</td>\n",
       "      <td>550</td>\n",
       "      <td>200</td>\n",
       "      <td>3</td>\n",
       "      <td>3</td>\n",
       "      <td>smart</td>\n",
       "    </tr>\n",
       "    <tr>\n",
       "      <th>3</th>\n",
       "      <td>2018-01-01</td>\n",
       "      <td>1055</td>\n",
       "      <td>528.0</td>\n",
       "      <td>64.0</td>\n",
       "      <td>30.0</td>\n",
       "      <td>17090.88</td>\n",
       "      <td>17.0</td>\n",
       "      <td>smart</td>\n",
       "      <td>Казань</td>\n",
       "      <td>50</td>\n",
       "      <td>15360</td>\n",
       "      <td>15</td>\n",
       "      <td>500</td>\n",
       "      <td>550</td>\n",
       "      <td>200</td>\n",
       "      <td>3</td>\n",
       "      <td>3</td>\n",
       "      <td>smart</td>\n",
       "    </tr>\n",
       "    <tr>\n",
       "      <th>4</th>\n",
       "      <td>2018-01-01</td>\n",
       "      <td>1071</td>\n",
       "      <td>184.0</td>\n",
       "      <td>24.0</td>\n",
       "      <td>16.0</td>\n",
       "      <td>15604.34</td>\n",
       "      <td>16.0</td>\n",
       "      <td>smart</td>\n",
       "      <td>Омск</td>\n",
       "      <td>50</td>\n",
       "      <td>15360</td>\n",
       "      <td>15</td>\n",
       "      <td>500</td>\n",
       "      <td>550</td>\n",
       "      <td>200</td>\n",
       "      <td>3</td>\n",
       "      <td>3</td>\n",
       "      <td>smart</td>\n",
       "    </tr>\n",
       "    <tr>\n",
       "      <th>...</th>\n",
       "      <td>...</td>\n",
       "      <td>...</td>\n",
       "      <td>...</td>\n",
       "      <td>...</td>\n",
       "      <td>...</td>\n",
       "      <td>...</td>\n",
       "      <td>...</td>\n",
       "      <td>...</td>\n",
       "      <td>...</td>\n",
       "      <td>...</td>\n",
       "      <td>...</td>\n",
       "      <td>...</td>\n",
       "      <td>...</td>\n",
       "      <td>...</td>\n",
       "      <td>...</td>\n",
       "      <td>...</td>\n",
       "      <td>...</td>\n",
       "      <td>...</td>\n",
       "    </tr>\n",
       "    <tr>\n",
       "      <th>3209</th>\n",
       "      <td>2018-12-01</td>\n",
       "      <td>1231</td>\n",
       "      <td>NaN</td>\n",
       "      <td>NaN</td>\n",
       "      <td>191.0</td>\n",
       "      <td>32448.00</td>\n",
       "      <td>32.0</td>\n",
       "      <td>ultra</td>\n",
       "      <td>Чебоксары</td>\n",
       "      <td>1000</td>\n",
       "      <td>30720</td>\n",
       "      <td>30</td>\n",
       "      <td>3000</td>\n",
       "      <td>1950</td>\n",
       "      <td>150</td>\n",
       "      <td>1</td>\n",
       "      <td>1</td>\n",
       "      <td>ultra</td>\n",
       "    </tr>\n",
       "    <tr>\n",
       "      <th>3210</th>\n",
       "      <td>2018-12-01</td>\n",
       "      <td>1328</td>\n",
       "      <td>NaN</td>\n",
       "      <td>NaN</td>\n",
       "      <td>7.0</td>\n",
       "      <td>39419.73</td>\n",
       "      <td>39.0</td>\n",
       "      <td>ultra</td>\n",
       "      <td>Мурманск</td>\n",
       "      <td>1000</td>\n",
       "      <td>30720</td>\n",
       "      <td>30</td>\n",
       "      <td>3000</td>\n",
       "      <td>1950</td>\n",
       "      <td>150</td>\n",
       "      <td>1</td>\n",
       "      <td>1</td>\n",
       "      <td>ultra</td>\n",
       "    </tr>\n",
       "    <tr>\n",
       "      <th>3211</th>\n",
       "      <td>2018-12-01</td>\n",
       "      <td>1473</td>\n",
       "      <td>NaN</td>\n",
       "      <td>NaN</td>\n",
       "      <td>20.0</td>\n",
       "      <td>18418.26</td>\n",
       "      <td>18.0</td>\n",
       "      <td>ultra</td>\n",
       "      <td>Красноярск</td>\n",
       "      <td>1000</td>\n",
       "      <td>30720</td>\n",
       "      <td>30</td>\n",
       "      <td>3000</td>\n",
       "      <td>1950</td>\n",
       "      <td>150</td>\n",
       "      <td>1</td>\n",
       "      <td>1</td>\n",
       "      <td>ultra</td>\n",
       "    </tr>\n",
       "    <tr>\n",
       "      <th>3212</th>\n",
       "      <td>2018-12-01</td>\n",
       "      <td>1489</td>\n",
       "      <td>NaN</td>\n",
       "      <td>NaN</td>\n",
       "      <td>35.0</td>\n",
       "      <td>17322.51</td>\n",
       "      <td>17.0</td>\n",
       "      <td>smart</td>\n",
       "      <td>Санкт-Петербург</td>\n",
       "      <td>50</td>\n",
       "      <td>15360</td>\n",
       "      <td>15</td>\n",
       "      <td>500</td>\n",
       "      <td>550</td>\n",
       "      <td>200</td>\n",
       "      <td>3</td>\n",
       "      <td>3</td>\n",
       "      <td>smart</td>\n",
       "    </tr>\n",
       "    <tr>\n",
       "      <th>3213</th>\n",
       "      <td>2018-04-01</td>\n",
       "      <td>1476</td>\n",
       "      <td>NaN</td>\n",
       "      <td>NaN</td>\n",
       "      <td>NaN</td>\n",
       "      <td>530.78</td>\n",
       "      <td>1.0</td>\n",
       "      <td>ultra</td>\n",
       "      <td>Москва</td>\n",
       "      <td>1000</td>\n",
       "      <td>30720</td>\n",
       "      <td>30</td>\n",
       "      <td>3000</td>\n",
       "      <td>1950</td>\n",
       "      <td>150</td>\n",
       "      <td>1</td>\n",
       "      <td>1</td>\n",
       "      <td>ultra</td>\n",
       "    </tr>\n",
       "  </tbody>\n",
       "</table>\n",
       "<p>3214 rows × 18 columns</p>\n",
       "</div>"
      ],
      "text/plain": [
       "          month user_id  calls_duration  calls_count  msg_count   mb_used  \\\n",
       "0    2018-01-01    1005            91.0         15.0        7.0   2727.97   \n",
       "1    2018-01-01    1032           360.0         61.0       38.0  24127.69   \n",
       "2    2018-01-01    1045             9.0          1.0        5.0   2346.71   \n",
       "3    2018-01-01    1055           528.0         64.0       30.0  17090.88   \n",
       "4    2018-01-01    1071           184.0         24.0       16.0  15604.34   \n",
       "...         ...     ...             ...          ...        ...       ...   \n",
       "3209 2018-12-01    1231             NaN          NaN      191.0  32448.00   \n",
       "3210 2018-12-01    1328             NaN          NaN        7.0  39419.73   \n",
       "3211 2018-12-01    1473             NaN          NaN       20.0  18418.26   \n",
       "3212 2018-12-01    1489             NaN          NaN       35.0  17322.51   \n",
       "3213 2018-04-01    1476             NaN          NaN        NaN    530.78   \n",
       "\n",
       "      gb_used tariff              city  messages_included  \\\n",
       "0         3.0  smart  Набережные Челны                 50   \n",
       "1        24.0  smart         Ульяновск                 50   \n",
       "2         3.0  smart          Улан-Удэ                 50   \n",
       "3        17.0  smart            Казань                 50   \n",
       "4        16.0  smart              Омск                 50   \n",
       "...       ...    ...               ...                ...   \n",
       "3209     32.0  ultra         Чебоксары               1000   \n",
       "3210     39.0  ultra          Мурманск               1000   \n",
       "3211     18.0  ultra        Красноярск               1000   \n",
       "3212     17.0  smart   Санкт-Петербург                 50   \n",
       "3213      1.0  ultra            Москва               1000   \n",
       "\n",
       "      mb_per_month_included  gb_per_month_included  minutes_included  \\\n",
       "0                     15360                     15               500   \n",
       "1                     15360                     15               500   \n",
       "2                     15360                     15               500   \n",
       "3                     15360                     15               500   \n",
       "4                     15360                     15               500   \n",
       "...                     ...                    ...               ...   \n",
       "3209                  30720                     30              3000   \n",
       "3210                  30720                     30              3000   \n",
       "3211                  30720                     30              3000   \n",
       "3212                  15360                     15               500   \n",
       "3213                  30720                     30              3000   \n",
       "\n",
       "      rub_monthly_fee  rub_per_gb  rub_per_message  rub_per_minute tariff_name  \n",
       "0                 550         200                3               3       smart  \n",
       "1                 550         200                3               3       smart  \n",
       "2                 550         200                3               3       smart  \n",
       "3                 550         200                3               3       smart  \n",
       "4                 550         200                3               3       smart  \n",
       "...               ...         ...              ...             ...         ...  \n",
       "3209             1950         150                1               1       ultra  \n",
       "3210             1950         150                1               1       ultra  \n",
       "3211             1950         150                1               1       ultra  \n",
       "3212              550         200                3               3       smart  \n",
       "3213             1950         150                1               1       ultra  \n",
       "\n",
       "[3214 rows x 18 columns]"
      ]
     },
     "execution_count": 73,
     "metadata": {},
     "output_type": "execute_result"
    }
   ],
   "source": [
    "df = t3.merge(tariffs, left_on=['tariff'], right_on=['tariff_name'], how='left')\n",
    "df"
   ]
  },
  {
   "cell_type": "markdown",
   "id": "abdd7a5a-90a7-4606-9a80-089c7b4bd28f",
   "metadata": {},
   "source": [
    "Удалим столбец с дублирующей информацией о тарифе"
   ]
  },
  {
   "cell_type": "code",
   "execution_count": 74,
   "id": "8fa7dd5c-32db-4a1b-9f85-59fcef7df0bc",
   "metadata": {},
   "outputs": [],
   "source": [
    "df = df.drop(['tariff_name', 'mb_per_month_included'],axis=1)"
   ]
  },
  {
   "cell_type": "code",
   "execution_count": 75,
   "id": "7b42ddbf-4ae1-4ceb-8a38-99410629a228",
   "metadata": {},
   "outputs": [
    {
     "name": "stdout",
     "output_type": "stream",
     "text": [
      "<class 'pandas.core.frame.DataFrame'>\n",
      "Int64Index: 3214 entries, 0 to 3213\n",
      "Data columns (total 16 columns):\n",
      " #   Column                 Non-Null Count  Dtype         \n",
      "---  ------                 --------------  -----         \n",
      " 0   month                  3214 non-null   datetime64[ns]\n",
      " 1   user_id                3214 non-null   object        \n",
      " 2   calls_duration         3174 non-null   float64       \n",
      " 3   calls_count            3174 non-null   float64       \n",
      " 4   msg_count              2717 non-null   float64       \n",
      " 5   mb_used                3203 non-null   float64       \n",
      " 6   gb_used                3203 non-null   float64       \n",
      " 7   tariff                 3214 non-null   object        \n",
      " 8   city                   3214 non-null   object        \n",
      " 9   messages_included      3214 non-null   int64         \n",
      " 10  gb_per_month_included  3214 non-null   int64         \n",
      " 11  minutes_included       3214 non-null   int64         \n",
      " 12  rub_monthly_fee        3214 non-null   int64         \n",
      " 13  rub_per_gb             3214 non-null   int64         \n",
      " 14  rub_per_message        3214 non-null   int64         \n",
      " 15  rub_per_minute         3214 non-null   int64         \n",
      "dtypes: datetime64[ns](1), float64(5), int64(7), object(3)\n",
      "memory usage: 426.9+ KB\n"
     ]
    }
   ],
   "source": [
    "df.info()"
   ]
  },
  {
   "cell_type": "markdown",
   "id": "60b42967-17c5-4192-80ae-2c106b594ea8",
   "metadata": {},
   "source": [
    "Количество строк не сократилось."
   ]
  },
  {
   "cell_type": "markdown",
   "id": "28a91005-fea1-405e-8442-1628baeaf46b",
   "metadata": {},
   "source": [
    "Проверим все ли месяцы у нас на месте"
   ]
  },
  {
   "cell_type": "code",
   "execution_count": 76,
   "id": "15b1c19b-0b41-4a26-9716-b40339e6397c",
   "metadata": {},
   "outputs": [
    {
     "data": {
      "text/plain": [
       "min   2018-01-01\n",
       "max   2018-12-01\n",
       "Name: month, dtype: datetime64[ns]"
      ]
     },
     "execution_count": 76,
     "metadata": {},
     "output_type": "execute_result"
    }
   ],
   "source": [
    "df['month'].agg(['min','max'])"
   ]
  },
  {
   "cell_type": "markdown",
   "id": "b8567a07-355e-4a4e-92f4-7fc48536df02",
   "metadata": {},
   "source": [
    "Проверим, сколько в итоге у нас пользователей:"
   ]
  },
  {
   "cell_type": "code",
   "execution_count": 77,
   "id": "7201252a-13de-46d6-aac1-d2ee6c83177a",
   "metadata": {},
   "outputs": [
    {
     "data": {
      "text/plain": [
       "498"
      ]
     },
     "execution_count": 77,
     "metadata": {},
     "output_type": "execute_result"
    }
   ],
   "source": [
    "len(df['user_id'].unique())"
   ]
  },
  {
   "cell_type": "markdown",
   "id": "e26c048c-6821-4717-b37d-13154bf80760",
   "metadata": {},
   "source": [
    "Проверим нашего случайного пользователя 1497 в финальной таблице. "
   ]
  },
  {
   "cell_type": "code",
   "execution_count": 78,
   "id": "e45de514-6c72-4d92-b7a5-5b5ff0bcc7a5",
   "metadata": {},
   "outputs": [
    {
     "data": {
      "text/html": [
       "<div>\n",
       "<style scoped>\n",
       "    .dataframe tbody tr th:only-of-type {\n",
       "        vertical-align: middle;\n",
       "    }\n",
       "\n",
       "    .dataframe tbody tr th {\n",
       "        vertical-align: top;\n",
       "    }\n",
       "\n",
       "    .dataframe thead th {\n",
       "        text-align: right;\n",
       "    }\n",
       "</style>\n",
       "<table border=\"1\" class=\"dataframe\">\n",
       "  <thead>\n",
       "    <tr style=\"text-align: right;\">\n",
       "      <th></th>\n",
       "      <th>month</th>\n",
       "      <th>user_id</th>\n",
       "      <th>calls_duration</th>\n",
       "      <th>calls_count</th>\n",
       "      <th>msg_count</th>\n",
       "      <th>mb_used</th>\n",
       "      <th>gb_used</th>\n",
       "      <th>tariff</th>\n",
       "      <th>city</th>\n",
       "      <th>messages_included</th>\n",
       "      <th>gb_per_month_included</th>\n",
       "      <th>minutes_included</th>\n",
       "      <th>rub_monthly_fee</th>\n",
       "      <th>rub_per_gb</th>\n",
       "      <th>rub_per_message</th>\n",
       "      <th>rub_per_minute</th>\n",
       "    </tr>\n",
       "  </thead>\n",
       "  <tbody>\n",
       "    <tr>\n",
       "      <th>2257</th>\n",
       "      <td>2018-10-01</td>\n",
       "      <td>1497</td>\n",
       "      <td>464.0</td>\n",
       "      <td>66.0</td>\n",
       "      <td>20.0</td>\n",
       "      <td>11500.29</td>\n",
       "      <td>12.0</td>\n",
       "      <td>smart</td>\n",
       "      <td>Челябинск</td>\n",
       "      <td>50</td>\n",
       "      <td>15</td>\n",
       "      <td>500</td>\n",
       "      <td>550</td>\n",
       "      <td>200</td>\n",
       "      <td>3</td>\n",
       "      <td>3</td>\n",
       "    </tr>\n",
       "    <tr>\n",
       "      <th>2702</th>\n",
       "      <td>2018-11-01</td>\n",
       "      <td>1497</td>\n",
       "      <td>347.0</td>\n",
       "      <td>64.0</td>\n",
       "      <td>14.0</td>\n",
       "      <td>14156.08</td>\n",
       "      <td>14.0</td>\n",
       "      <td>smart</td>\n",
       "      <td>Челябинск</td>\n",
       "      <td>50</td>\n",
       "      <td>15</td>\n",
       "      <td>500</td>\n",
       "      <td>550</td>\n",
       "      <td>200</td>\n",
       "      <td>3</td>\n",
       "      <td>3</td>\n",
       "    </tr>\n",
       "    <tr>\n",
       "      <th>3172</th>\n",
       "      <td>2018-12-01</td>\n",
       "      <td>1497</td>\n",
       "      <td>516.0</td>\n",
       "      <td>71.0</td>\n",
       "      <td>17.0</td>\n",
       "      <td>19918.60</td>\n",
       "      <td>20.0</td>\n",
       "      <td>smart</td>\n",
       "      <td>Челябинск</td>\n",
       "      <td>50</td>\n",
       "      <td>15</td>\n",
       "      <td>500</td>\n",
       "      <td>550</td>\n",
       "      <td>200</td>\n",
       "      <td>3</td>\n",
       "      <td>3</td>\n",
       "    </tr>\n",
       "  </tbody>\n",
       "</table>\n",
       "</div>"
      ],
      "text/plain": [
       "          month user_id  calls_duration  calls_count  msg_count   mb_used  \\\n",
       "2257 2018-10-01    1497           464.0         66.0       20.0  11500.29   \n",
       "2702 2018-11-01    1497           347.0         64.0       14.0  14156.08   \n",
       "3172 2018-12-01    1497           516.0         71.0       17.0  19918.60   \n",
       "\n",
       "      gb_used tariff       city  messages_included  gb_per_month_included  \\\n",
       "2257     12.0  smart  Челябинск                 50                     15   \n",
       "2702     14.0  smart  Челябинск                 50                     15   \n",
       "3172     20.0  smart  Челябинск                 50                     15   \n",
       "\n",
       "      minutes_included  rub_monthly_fee  rub_per_gb  rub_per_message  \\\n",
       "2257               500              550         200                3   \n",
       "2702               500              550         200                3   \n",
       "3172               500              550         200                3   \n",
       "\n",
       "      rub_per_minute  \n",
       "2257               3  \n",
       "2702               3  \n",
       "3172               3  "
      ]
     },
     "execution_count": 78,
     "metadata": {},
     "output_type": "execute_result"
    }
   ],
   "source": [
    "df[df['user_id'] == '1497']"
   ]
  },
  {
   "cell_type": "code",
   "execution_count": 79,
   "id": "4f33e993-4374-4094-a530-554b9a6b072e",
   "metadata": {},
   "outputs": [
    {
     "data": {
      "text/html": [
       "<div>\n",
       "<style scoped>\n",
       "    .dataframe tbody tr th:only-of-type {\n",
       "        vertical-align: middle;\n",
       "    }\n",
       "\n",
       "    .dataframe tbody tr th {\n",
       "        vertical-align: top;\n",
       "    }\n",
       "\n",
       "    .dataframe thead th {\n",
       "        text-align: right;\n",
       "    }\n",
       "</style>\n",
       "<table border=\"1\" class=\"dataframe\">\n",
       "  <thead>\n",
       "    <tr style=\"text-align: right;\">\n",
       "      <th></th>\n",
       "      <th>month</th>\n",
       "      <th>user_id</th>\n",
       "      <th>calls_duration</th>\n",
       "      <th>calls_count</th>\n",
       "    </tr>\n",
       "  </thead>\n",
       "  <tbody>\n",
       "    <tr>\n",
       "      <th>2257</th>\n",
       "      <td>2018-10-01</td>\n",
       "      <td>1497</td>\n",
       "      <td>464</td>\n",
       "      <td>66</td>\n",
       "    </tr>\n",
       "    <tr>\n",
       "      <th>2702</th>\n",
       "      <td>2018-11-01</td>\n",
       "      <td>1497</td>\n",
       "      <td>347</td>\n",
       "      <td>64</td>\n",
       "    </tr>\n",
       "    <tr>\n",
       "      <th>3172</th>\n",
       "      <td>2018-12-01</td>\n",
       "      <td>1497</td>\n",
       "      <td>516</td>\n",
       "      <td>71</td>\n",
       "    </tr>\n",
       "  </tbody>\n",
       "</table>\n",
       "</div>"
      ],
      "text/plain": [
       "          month user_id  calls_duration  calls_count\n",
       "2257 2018-10-01    1497             464           66\n",
       "2702 2018-11-01    1497             347           64\n",
       "3172 2018-12-01    1497             516           71"
      ]
     },
     "execution_count": 79,
     "metadata": {},
     "output_type": "execute_result"
    }
   ],
   "source": [
    "pivot_calls[pivot_calls['user_id'] == '1497']"
   ]
  },
  {
   "cell_type": "code",
   "execution_count": 80,
   "id": "03fab1df-c1bc-4359-81d8-51106800ba0d",
   "metadata": {},
   "outputs": [
    {
     "data": {
      "text/html": [
       "<div>\n",
       "<style scoped>\n",
       "    .dataframe tbody tr th:only-of-type {\n",
       "        vertical-align: middle;\n",
       "    }\n",
       "\n",
       "    .dataframe tbody tr th {\n",
       "        vertical-align: top;\n",
       "    }\n",
       "\n",
       "    .dataframe thead th {\n",
       "        text-align: right;\n",
       "    }\n",
       "</style>\n",
       "<table border=\"1\" class=\"dataframe\">\n",
       "  <thead>\n",
       "    <tr style=\"text-align: right;\">\n",
       "      <th></th>\n",
       "      <th>user_id</th>\n",
       "      <th>age</th>\n",
       "      <th>churn_date</th>\n",
       "      <th>city</th>\n",
       "      <th>first_name</th>\n",
       "      <th>last_name</th>\n",
       "      <th>reg_date</th>\n",
       "      <th>tariff</th>\n",
       "    </tr>\n",
       "  </thead>\n",
       "  <tbody>\n",
       "    <tr>\n",
       "      <th>497</th>\n",
       "      <td>1497</td>\n",
       "      <td>32</td>\n",
       "      <td>NaN</td>\n",
       "      <td>Челябинск</td>\n",
       "      <td>Каролина</td>\n",
       "      <td>Агеева</td>\n",
       "      <td>2018-10-09</td>\n",
       "      <td>smart</td>\n",
       "    </tr>\n",
       "  </tbody>\n",
       "</table>\n",
       "</div>"
      ],
      "text/plain": [
       "    user_id  age churn_date       city first_name last_name    reg_date tariff\n",
       "497    1497   32        NaN  Челябинск   Каролина    Агеева  2018-10-09  smart"
      ]
     },
     "execution_count": 80,
     "metadata": {},
     "output_type": "execute_result"
    }
   ],
   "source": [
    "users[users['user_id'] == '1497']"
   ]
  },
  {
   "cell_type": "markdown",
   "id": "f50387b9-0ee5-4f3a-b2f4-645244ff84b4",
   "metadata": {},
   "source": [
    "Отлично. Так же 3 месяца (октябрь-ноябрь-декабрь), те же значения в столбцах, тот же тариф и город. "
   ]
  },
  {
   "cell_type": "markdown",
   "id": "a0143ff2-8732-482e-9435-c7b399db9de4",
   "metadata": {},
   "source": [
    "#### Заполнение пропусков"
   ]
  },
  {
   "cell_type": "markdown",
   "id": "9999fa85-bbf9-488e-bfb8-978868071923",
   "metadata": {},
   "source": [
    "Наши сводные таблицы имели разное количество строк. \n",
    "Так может быть потому, что у некоторых пользователей отсутствовала информация по конкретным месяцам, то есть они могли не отправлять в месяц ни одного сообщения, или не выходить в интернет. \n",
    "А это значит, что в нашей финальной сводной таблице образовались пропуски. \n",
    "Заполним эти пропуски нулями, исходя из той логики, что пользователь не совершал никаких действий в определенный период."
   ]
  },
  {
   "cell_type": "code",
   "execution_count": 81,
   "id": "d589a47c-4e80-43cd-9a58-ccb45cd62e06",
   "metadata": {},
   "outputs": [
    {
     "name": "stdout",
     "output_type": "stream",
     "text": [
      "Доля пропусков в финальном датафрейме:\n",
      "\n"
     ]
    },
    {
     "data": {
      "text/plain": [
       "month                    0.000000\n",
       "user_id                  0.000000\n",
       "calls_duration           0.012446\n",
       "calls_count              0.012446\n",
       "msg_count                0.154636\n",
       "mb_used                  0.003423\n",
       "gb_used                  0.003423\n",
       "tariff                   0.000000\n",
       "city                     0.000000\n",
       "messages_included        0.000000\n",
       "gb_per_month_included    0.000000\n",
       "minutes_included         0.000000\n",
       "rub_monthly_fee          0.000000\n",
       "rub_per_gb               0.000000\n",
       "rub_per_message          0.000000\n",
       "rub_per_minute           0.000000\n",
       "dtype: float64"
      ]
     },
     "execution_count": 81,
     "metadata": {},
     "output_type": "execute_result"
    }
   ],
   "source": [
    "print('Доля пропусков в финальном датафрейме:\\n')\n",
    "df.isna().mean()"
   ]
  },
  {
   "cell_type": "code",
   "execution_count": 82,
   "id": "b90bf04b-936f-4198-9449-f846787e2b1a",
   "metadata": {},
   "outputs": [
    {
     "data": {
      "text/plain": [
       "month                      0\n",
       "user_id                    0\n",
       "calls_duration            40\n",
       "calls_count               40\n",
       "msg_count                497\n",
       "mb_used                   11\n",
       "gb_used                   11\n",
       "tariff                     0\n",
       "city                       0\n",
       "messages_included          0\n",
       "gb_per_month_included      0\n",
       "minutes_included           0\n",
       "rub_monthly_fee            0\n",
       "rub_per_gb                 0\n",
       "rub_per_message            0\n",
       "rub_per_minute             0\n",
       "dtype: int64"
      ]
     },
     "execution_count": 82,
     "metadata": {},
     "output_type": "execute_result"
    }
   ],
   "source": [
    "df.isna().sum()"
   ]
  },
  {
   "cell_type": "markdown",
   "id": "d01af893-85a2-47b8-bc4f-e2fc3175e864",
   "metadata": {},
   "source": [
    "Проверим, сколько у нас звонков длительностью 0"
   ]
  },
  {
   "cell_type": "code",
   "execution_count": 83,
   "id": "196da28d-9fce-4f7f-b918-de5070db5a72",
   "metadata": {},
   "outputs": [
    {
     "data": {
      "text/plain": [
       "6"
      ]
     },
     "execution_count": 83,
     "metadata": {},
     "output_type": "execute_result"
    }
   ],
   "source": [
    "len(df[df['calls_duration'] == 0])"
   ]
  },
  {
   "cell_type": "markdown",
   "id": "54c766c7-d52e-4bb3-a2db-febdb2a665bf",
   "metadata": {},
   "source": [
    "Заполним пропущенные значения в финальном датафрейме значением 0."
   ]
  },
  {
   "cell_type": "code",
   "execution_count": 84,
   "id": "92a60afd-2559-4513-bfc3-f7f9dbe92474",
   "metadata": {},
   "outputs": [
    {
     "name": "stdout",
     "output_type": "stream",
     "text": [
      "Доля пропусков в финальном датафрейме:\n",
      "\n"
     ]
    },
    {
     "data": {
      "text/plain": [
       "month                    0.0\n",
       "user_id                  0.0\n",
       "calls_duration           0.0\n",
       "calls_count              0.0\n",
       "msg_count                0.0\n",
       "mb_used                  0.0\n",
       "gb_used                  0.0\n",
       "tariff                   0.0\n",
       "city                     0.0\n",
       "messages_included        0.0\n",
       "gb_per_month_included    0.0\n",
       "minutes_included         0.0\n",
       "rub_monthly_fee          0.0\n",
       "rub_per_gb               0.0\n",
       "rub_per_message          0.0\n",
       "rub_per_minute           0.0\n",
       "dtype: float64"
      ]
     },
     "execution_count": 84,
     "metadata": {},
     "output_type": "execute_result"
    }
   ],
   "source": [
    "df = df.fillna(0)\n",
    "print('Доля пропусков в финальном датафрейме:\\n')\n",
    "df.isna().mean()"
   ]
  },
  {
   "cell_type": "markdown",
   "id": "e9e07007-3b78-4920-b5e0-e63a0122ae01",
   "metadata": {},
   "source": [
    "Проверим результат."
   ]
  },
  {
   "cell_type": "code",
   "execution_count": 85,
   "id": "46597de3-aedd-4d42-9f6e-f14fb437cb23",
   "metadata": {},
   "outputs": [
    {
     "data": {
      "text/plain": [
       "46"
      ]
     },
     "execution_count": 85,
     "metadata": {},
     "output_type": "execute_result"
    }
   ],
   "source": [
    "len(df[df['calls_duration'] == 0])"
   ]
  },
  {
   "cell_type": "markdown",
   "id": "0fdc8ade-2090-47ff-b222-b256a36d0c14",
   "metadata": {},
   "source": [
    "Все сходится. "
   ]
  },
  {
   "cell_type": "markdown",
   "id": "f4fa8a71-b155-4bfa-9e7a-a8e2a20229d4",
   "metadata": {},
   "source": [
    "#### Корректировка типа данных"
   ]
  },
  {
   "cell_type": "markdown",
   "id": "971b2215-e207-4312-9302-02f80c42be20",
   "metadata": {},
   "source": [
    "После объединения у нас типы данных изменились."
   ]
  },
  {
   "cell_type": "code",
   "execution_count": 86,
   "id": "6a1dee99-8cd3-482a-80da-17e2d5f08b7a",
   "metadata": {},
   "outputs": [
    {
     "data": {
      "text/plain": [
       "month                    datetime64[ns]\n",
       "user_id                          object\n",
       "calls_duration                  float64\n",
       "calls_count                     float64\n",
       "msg_count                       float64\n",
       "mb_used                         float64\n",
       "gb_used                         float64\n",
       "tariff                           object\n",
       "city                             object\n",
       "messages_included                 int64\n",
       "gb_per_month_included             int64\n",
       "minutes_included                  int64\n",
       "rub_monthly_fee                   int64\n",
       "rub_per_gb                        int64\n",
       "rub_per_message                   int64\n",
       "rub_per_minute                    int64\n",
       "dtype: object"
      ]
     },
     "execution_count": 86,
     "metadata": {},
     "output_type": "execute_result"
    }
   ],
   "source": [
    "#Посмотрим на типы данных:\n",
    "df.dtypes"
   ]
  },
  {
   "cell_type": "markdown",
   "id": "cdc78036-a887-4cf7-ba76-f322bb04d7b9",
   "metadata": {},
   "source": [
    "Изменим в количестве звонков, сообщений, интернет трафика тип данных на целое число"
   ]
  },
  {
   "cell_type": "code",
   "execution_count": 87,
   "id": "561e3256-c045-4af4-8c4b-37f8e2225e85",
   "metadata": {
    "tags": []
   },
   "outputs": [],
   "source": [
    "df = df.astype({'calls_count': 'int64', 'msg_count': 'int64', 'calls_duration': 'int64', 'gb_used': 'int64'}) "
   ]
  },
  {
   "cell_type": "code",
   "execution_count": 88,
   "id": "ac9c4ae2-38b1-48d7-83b7-0718eee32846",
   "metadata": {},
   "outputs": [
    {
     "data": {
      "text/plain": [
       "month                    datetime64[ns]\n",
       "user_id                          object\n",
       "calls_duration                    int64\n",
       "calls_count                       int64\n",
       "msg_count                         int64\n",
       "mb_used                         float64\n",
       "gb_used                           int64\n",
       "tariff                           object\n",
       "city                             object\n",
       "messages_included                 int64\n",
       "gb_per_month_included             int64\n",
       "minutes_included                  int64\n",
       "rub_monthly_fee                   int64\n",
       "rub_per_gb                        int64\n",
       "rub_per_message                   int64\n",
       "rub_per_minute                    int64\n",
       "dtype: object"
      ]
     },
     "execution_count": 88,
     "metadata": {},
     "output_type": "execute_result"
    }
   ],
   "source": [
    "df.dtypes"
   ]
  },
  {
   "cell_type": "markdown",
   "id": "bbb94a40-55c2-46a6-a85f-248f74244677",
   "metadata": {},
   "source": [
    "#### Добавление выручки в финальную сводную таблицу"
   ]
  },
  {
   "cell_type": "markdown",
   "id": "b7785a94-25d3-47d5-ac11-8b76410e5de0",
   "metadata": {},
   "source": [
    "Напишем функцию для расчета месячной выручки для каждого пользователя"
   ]
  },
  {
   "cell_type": "code",
   "execution_count": 89,
   "id": "8a225953-1055-4c29-8be7-b02761f58171",
   "metadata": {},
   "outputs": [],
   "source": [
    "\"\"\"\n",
    "Функция возращает значение выручки исходя из следующей логики:\n",
    "Мы смотрим, есть ли превышение лимитов по звонкам, смс и интернет-трафику, \n",
    "Если есть, то вычисляем, во сколько обходится пользователю превышения: over_calls, over_msg, over_mb.\n",
    "Далее складываем эти значения со стоимостью тарифа в месяц. Если превышений нет, то over_calls, over_msg, over_mb имеют значения по умолчанию, то есть 0.\n",
    "\n",
    "\n",
    "\"\"\"\n",
    "\n",
    "def get_month_revenue(row):\n",
    "    \n",
    "    calls_duration = row['calls_duration']\n",
    "    msg_count = row['msg_count']\n",
    "    gb_used = row['gb_used']\n",
    "    minutes_included = row['minutes_included']\n",
    "    msg_included = row['messages_included']\n",
    "    gb_included = row['gb_per_month_included']\n",
    "    per_minute = row['rub_per_minute']\n",
    "    per_msg = row['rub_per_message']\n",
    "    per_gb = row['rub_per_gb']\n",
    "    payment = row['rub_monthly_fee']\n",
    "    over_calls = 0\n",
    "    over_msg = 0\n",
    "    over_gb = 0\n",
    "\n",
    "    if calls_duration > minutes_included:\n",
    "        over_calls = (calls_duration - minutes_included) * per_minute\n",
    "\n",
    "    elif msg_count > msg_included:\n",
    "        over_msg = (msg_count - msg_included) * per_msg \n",
    "        \n",
    "    elif gb_used > gb_included:\n",
    "        over_gb = (gb_used - gb_included) * per_gb \n",
    "        \n",
    "    else:\n",
    "        return payment \n",
    "    \n",
    "    return payment + over_calls + over_msg + over_gb\n",
    "                    "
   ]
  },
  {
   "cell_type": "markdown",
   "id": "5229b13b-26ed-41c6-a3cd-883b2dd65150",
   "metadata": {},
   "source": [
    "Я возьму случайную выборку, сохраню в отдельный тестовый датафрейм и протестирую там свою функцию"
   ]
  },
  {
   "cell_type": "code",
   "execution_count": 90,
   "id": "4b77d6d4-359b-4985-9a1b-b1c3dd2c646c",
   "metadata": {},
   "outputs": [],
   "source": [
    "test = df.sample(5)"
   ]
  },
  {
   "cell_type": "code",
   "execution_count": 91,
   "id": "b16efada-6370-42ab-abed-bc8fdd95bfe1",
   "metadata": {},
   "outputs": [
    {
     "data": {
      "text/html": [
       "<div>\n",
       "<style scoped>\n",
       "    .dataframe tbody tr th:only-of-type {\n",
       "        vertical-align: middle;\n",
       "    }\n",
       "\n",
       "    .dataframe tbody tr th {\n",
       "        vertical-align: top;\n",
       "    }\n",
       "\n",
       "    .dataframe thead th {\n",
       "        text-align: right;\n",
       "    }\n",
       "</style>\n",
       "<table border=\"1\" class=\"dataframe\">\n",
       "  <thead>\n",
       "    <tr style=\"text-align: right;\">\n",
       "      <th></th>\n",
       "      <th>month</th>\n",
       "      <th>user_id</th>\n",
       "      <th>calls_duration</th>\n",
       "      <th>calls_count</th>\n",
       "      <th>msg_count</th>\n",
       "      <th>mb_used</th>\n",
       "      <th>gb_used</th>\n",
       "      <th>tariff</th>\n",
       "      <th>city</th>\n",
       "      <th>messages_included</th>\n",
       "      <th>gb_per_month_included</th>\n",
       "      <th>minutes_included</th>\n",
       "      <th>rub_monthly_fee</th>\n",
       "      <th>rub_per_gb</th>\n",
       "      <th>rub_per_message</th>\n",
       "      <th>rub_per_minute</th>\n",
       "    </tr>\n",
       "  </thead>\n",
       "  <tbody>\n",
       "    <tr>\n",
       "      <th>795</th>\n",
       "      <td>2018-06-01</td>\n",
       "      <td>1378</td>\n",
       "      <td>458</td>\n",
       "      <td>71</td>\n",
       "      <td>17</td>\n",
       "      <td>13536.42</td>\n",
       "      <td>14</td>\n",
       "      <td>smart</td>\n",
       "      <td>Иркутск</td>\n",
       "      <td>50</td>\n",
       "      <td>15</td>\n",
       "      <td>500</td>\n",
       "      <td>550</td>\n",
       "      <td>200</td>\n",
       "      <td>3</td>\n",
       "      <td>3</td>\n",
       "    </tr>\n",
       "    <tr>\n",
       "      <th>1109</th>\n",
       "      <td>2018-07-01</td>\n",
       "      <td>1435</td>\n",
       "      <td>219</td>\n",
       "      <td>41</td>\n",
       "      <td>0</td>\n",
       "      <td>20292.20</td>\n",
       "      <td>20</td>\n",
       "      <td>smart</td>\n",
       "      <td>Москва</td>\n",
       "      <td>50</td>\n",
       "      <td>15</td>\n",
       "      <td>500</td>\n",
       "      <td>550</td>\n",
       "      <td>200</td>\n",
       "      <td>3</td>\n",
       "      <td>3</td>\n",
       "    </tr>\n",
       "    <tr>\n",
       "      <th>1345</th>\n",
       "      <td>2018-08-01</td>\n",
       "      <td>1310</td>\n",
       "      <td>498</td>\n",
       "      <td>75</td>\n",
       "      <td>51</td>\n",
       "      <td>22818.72</td>\n",
       "      <td>23</td>\n",
       "      <td>ultra</td>\n",
       "      <td>Уфа</td>\n",
       "      <td>1000</td>\n",
       "      <td>30</td>\n",
       "      <td>3000</td>\n",
       "      <td>1950</td>\n",
       "      <td>150</td>\n",
       "      <td>1</td>\n",
       "      <td>1</td>\n",
       "    </tr>\n",
       "    <tr>\n",
       "      <th>1764</th>\n",
       "      <td>2018-09-01</td>\n",
       "      <td>1386</td>\n",
       "      <td>327</td>\n",
       "      <td>69</td>\n",
       "      <td>53</td>\n",
       "      <td>31014.49</td>\n",
       "      <td>31</td>\n",
       "      <td>smart</td>\n",
       "      <td>Новосибирск</td>\n",
       "      <td>50</td>\n",
       "      <td>15</td>\n",
       "      <td>500</td>\n",
       "      <td>550</td>\n",
       "      <td>200</td>\n",
       "      <td>3</td>\n",
       "      <td>3</td>\n",
       "    </tr>\n",
       "    <tr>\n",
       "      <th>397</th>\n",
       "      <td>2018-04-01</td>\n",
       "      <td>1480</td>\n",
       "      <td>516</td>\n",
       "      <td>79</td>\n",
       "      <td>20</td>\n",
       "      <td>15401.89</td>\n",
       "      <td>16</td>\n",
       "      <td>smart</td>\n",
       "      <td>Новокузнецк</td>\n",
       "      <td>50</td>\n",
       "      <td>15</td>\n",
       "      <td>500</td>\n",
       "      <td>550</td>\n",
       "      <td>200</td>\n",
       "      <td>3</td>\n",
       "      <td>3</td>\n",
       "    </tr>\n",
       "  </tbody>\n",
       "</table>\n",
       "</div>"
      ],
      "text/plain": [
       "          month user_id  calls_duration  calls_count  msg_count   mb_used  \\\n",
       "795  2018-06-01    1378             458           71         17  13536.42   \n",
       "1109 2018-07-01    1435             219           41          0  20292.20   \n",
       "1345 2018-08-01    1310             498           75         51  22818.72   \n",
       "1764 2018-09-01    1386             327           69         53  31014.49   \n",
       "397  2018-04-01    1480             516           79         20  15401.89   \n",
       "\n",
       "      gb_used tariff         city  messages_included  gb_per_month_included  \\\n",
       "795        14  smart      Иркутск                 50                     15   \n",
       "1109       20  smart       Москва                 50                     15   \n",
       "1345       23  ultra          Уфа               1000                     30   \n",
       "1764       31  smart  Новосибирск                 50                     15   \n",
       "397        16  smart  Новокузнецк                 50                     15   \n",
       "\n",
       "      minutes_included  rub_monthly_fee  rub_per_gb  rub_per_message  \\\n",
       "795                500              550         200                3   \n",
       "1109               500              550         200                3   \n",
       "1345              3000             1950         150                1   \n",
       "1764               500              550         200                3   \n",
       "397                500              550         200                3   \n",
       "\n",
       "      rub_per_minute  \n",
       "795                3  \n",
       "1109               3  \n",
       "1345               1  \n",
       "1764               3  \n",
       "397                3  "
      ]
     },
     "execution_count": 91,
     "metadata": {},
     "output_type": "execute_result"
    }
   ],
   "source": [
    "test"
   ]
  },
  {
   "cell_type": "markdown",
   "id": "1261618a-4e9e-43fd-b1b5-3cd7794be8cd",
   "metadata": {},
   "source": [
    "Применим нашу функцию к тестовому датафрейму"
   ]
  },
  {
   "cell_type": "code",
   "execution_count": 92,
   "id": "75b77caf-af9b-4afd-aa9f-533b9e733482",
   "metadata": {
    "tags": []
   },
   "outputs": [],
   "source": [
    "test['revenue'] = test.apply(get_month_revenue, axis=1)"
   ]
  },
  {
   "cell_type": "code",
   "execution_count": 93,
   "id": "4d94a56b-e58a-4f59-8a84-957b942d3514",
   "metadata": {},
   "outputs": [
    {
     "data": {
      "text/html": [
       "<div>\n",
       "<style scoped>\n",
       "    .dataframe tbody tr th:only-of-type {\n",
       "        vertical-align: middle;\n",
       "    }\n",
       "\n",
       "    .dataframe tbody tr th {\n",
       "        vertical-align: top;\n",
       "    }\n",
       "\n",
       "    .dataframe thead th {\n",
       "        text-align: right;\n",
       "    }\n",
       "</style>\n",
       "<table border=\"1\" class=\"dataframe\">\n",
       "  <thead>\n",
       "    <tr style=\"text-align: right;\">\n",
       "      <th></th>\n",
       "      <th>month</th>\n",
       "      <th>user_id</th>\n",
       "      <th>calls_duration</th>\n",
       "      <th>calls_count</th>\n",
       "      <th>msg_count</th>\n",
       "      <th>mb_used</th>\n",
       "      <th>gb_used</th>\n",
       "      <th>tariff</th>\n",
       "      <th>city</th>\n",
       "      <th>messages_included</th>\n",
       "      <th>gb_per_month_included</th>\n",
       "      <th>minutes_included</th>\n",
       "      <th>rub_monthly_fee</th>\n",
       "      <th>rub_per_gb</th>\n",
       "      <th>rub_per_message</th>\n",
       "      <th>rub_per_minute</th>\n",
       "      <th>revenue</th>\n",
       "    </tr>\n",
       "  </thead>\n",
       "  <tbody>\n",
       "    <tr>\n",
       "      <th>795</th>\n",
       "      <td>2018-06-01</td>\n",
       "      <td>1378</td>\n",
       "      <td>458</td>\n",
       "      <td>71</td>\n",
       "      <td>17</td>\n",
       "      <td>13536.42</td>\n",
       "      <td>14</td>\n",
       "      <td>smart</td>\n",
       "      <td>Иркутск</td>\n",
       "      <td>50</td>\n",
       "      <td>15</td>\n",
       "      <td>500</td>\n",
       "      <td>550</td>\n",
       "      <td>200</td>\n",
       "      <td>3</td>\n",
       "      <td>3</td>\n",
       "      <td>550</td>\n",
       "    </tr>\n",
       "    <tr>\n",
       "      <th>1109</th>\n",
       "      <td>2018-07-01</td>\n",
       "      <td>1435</td>\n",
       "      <td>219</td>\n",
       "      <td>41</td>\n",
       "      <td>0</td>\n",
       "      <td>20292.20</td>\n",
       "      <td>20</td>\n",
       "      <td>smart</td>\n",
       "      <td>Москва</td>\n",
       "      <td>50</td>\n",
       "      <td>15</td>\n",
       "      <td>500</td>\n",
       "      <td>550</td>\n",
       "      <td>200</td>\n",
       "      <td>3</td>\n",
       "      <td>3</td>\n",
       "      <td>1550</td>\n",
       "    </tr>\n",
       "    <tr>\n",
       "      <th>1345</th>\n",
       "      <td>2018-08-01</td>\n",
       "      <td>1310</td>\n",
       "      <td>498</td>\n",
       "      <td>75</td>\n",
       "      <td>51</td>\n",
       "      <td>22818.72</td>\n",
       "      <td>23</td>\n",
       "      <td>ultra</td>\n",
       "      <td>Уфа</td>\n",
       "      <td>1000</td>\n",
       "      <td>30</td>\n",
       "      <td>3000</td>\n",
       "      <td>1950</td>\n",
       "      <td>150</td>\n",
       "      <td>1</td>\n",
       "      <td>1</td>\n",
       "      <td>1950</td>\n",
       "    </tr>\n",
       "    <tr>\n",
       "      <th>1764</th>\n",
       "      <td>2018-09-01</td>\n",
       "      <td>1386</td>\n",
       "      <td>327</td>\n",
       "      <td>69</td>\n",
       "      <td>53</td>\n",
       "      <td>31014.49</td>\n",
       "      <td>31</td>\n",
       "      <td>smart</td>\n",
       "      <td>Новосибирск</td>\n",
       "      <td>50</td>\n",
       "      <td>15</td>\n",
       "      <td>500</td>\n",
       "      <td>550</td>\n",
       "      <td>200</td>\n",
       "      <td>3</td>\n",
       "      <td>3</td>\n",
       "      <td>559</td>\n",
       "    </tr>\n",
       "    <tr>\n",
       "      <th>397</th>\n",
       "      <td>2018-04-01</td>\n",
       "      <td>1480</td>\n",
       "      <td>516</td>\n",
       "      <td>79</td>\n",
       "      <td>20</td>\n",
       "      <td>15401.89</td>\n",
       "      <td>16</td>\n",
       "      <td>smart</td>\n",
       "      <td>Новокузнецк</td>\n",
       "      <td>50</td>\n",
       "      <td>15</td>\n",
       "      <td>500</td>\n",
       "      <td>550</td>\n",
       "      <td>200</td>\n",
       "      <td>3</td>\n",
       "      <td>3</td>\n",
       "      <td>598</td>\n",
       "    </tr>\n",
       "  </tbody>\n",
       "</table>\n",
       "</div>"
      ],
      "text/plain": [
       "          month user_id  calls_duration  calls_count  msg_count   mb_used  \\\n",
       "795  2018-06-01    1378             458           71         17  13536.42   \n",
       "1109 2018-07-01    1435             219           41          0  20292.20   \n",
       "1345 2018-08-01    1310             498           75         51  22818.72   \n",
       "1764 2018-09-01    1386             327           69         53  31014.49   \n",
       "397  2018-04-01    1480             516           79         20  15401.89   \n",
       "\n",
       "      gb_used tariff         city  messages_included  gb_per_month_included  \\\n",
       "795        14  smart      Иркутск                 50                     15   \n",
       "1109       20  smart       Москва                 50                     15   \n",
       "1345       23  ultra          Уфа               1000                     30   \n",
       "1764       31  smart  Новосибирск                 50                     15   \n",
       "397        16  smart  Новокузнецк                 50                     15   \n",
       "\n",
       "      minutes_included  rub_monthly_fee  rub_per_gb  rub_per_message  \\\n",
       "795                500              550         200                3   \n",
       "1109               500              550         200                3   \n",
       "1345              3000             1950         150                1   \n",
       "1764               500              550         200                3   \n",
       "397                500              550         200                3   \n",
       "\n",
       "      rub_per_minute  revenue  \n",
       "795                3      550  \n",
       "1109               3     1550  \n",
       "1345               1     1950  \n",
       "1764               3      559  \n",
       "397                3      598  "
      ]
     },
     "execution_count": 93,
     "metadata": {},
     "output_type": "execute_result"
    }
   ],
   "source": [
    "test"
   ]
  },
  {
   "cell_type": "markdown",
   "id": "02820543-2334-4876-a6cf-043431197844",
   "metadata": {},
   "source": [
    "Все в порядке. Можно применять функцию к нашему датафрейму."
   ]
  },
  {
   "cell_type": "markdown",
   "id": "db989002-e7f0-4359-a12f-3df778b4eff4",
   "metadata": {},
   "source": [
    "Применяем функцию ко всей строке с помощью apply и параметра axis=1"
   ]
  },
  {
   "cell_type": "code",
   "execution_count": 94,
   "id": "2d990516-4043-4395-bc6f-c6c9e13aac39",
   "metadata": {
    "tags": []
   },
   "outputs": [],
   "source": [
    "df['revenue'] = df.apply(get_month_revenue, axis=1) "
   ]
  },
  {
   "cell_type": "code",
   "execution_count": 95,
   "id": "2e0374ae-7f78-4047-92c0-3ae1b799af6d",
   "metadata": {},
   "outputs": [
    {
     "data": {
      "text/html": [
       "<div>\n",
       "<style scoped>\n",
       "    .dataframe tbody tr th:only-of-type {\n",
       "        vertical-align: middle;\n",
       "    }\n",
       "\n",
       "    .dataframe tbody tr th {\n",
       "        vertical-align: top;\n",
       "    }\n",
       "\n",
       "    .dataframe thead th {\n",
       "        text-align: right;\n",
       "    }\n",
       "</style>\n",
       "<table border=\"1\" class=\"dataframe\">\n",
       "  <thead>\n",
       "    <tr style=\"text-align: right;\">\n",
       "      <th></th>\n",
       "      <th>month</th>\n",
       "      <th>user_id</th>\n",
       "      <th>calls_duration</th>\n",
       "      <th>calls_count</th>\n",
       "      <th>msg_count</th>\n",
       "      <th>mb_used</th>\n",
       "      <th>gb_used</th>\n",
       "      <th>tariff</th>\n",
       "      <th>city</th>\n",
       "      <th>messages_included</th>\n",
       "      <th>gb_per_month_included</th>\n",
       "      <th>minutes_included</th>\n",
       "      <th>rub_monthly_fee</th>\n",
       "      <th>rub_per_gb</th>\n",
       "      <th>rub_per_message</th>\n",
       "      <th>rub_per_minute</th>\n",
       "      <th>revenue</th>\n",
       "    </tr>\n",
       "  </thead>\n",
       "  <tbody>\n",
       "    <tr>\n",
       "      <th>0</th>\n",
       "      <td>2018-01-01</td>\n",
       "      <td>1005</td>\n",
       "      <td>91</td>\n",
       "      <td>15</td>\n",
       "      <td>7</td>\n",
       "      <td>2727.97</td>\n",
       "      <td>3</td>\n",
       "      <td>smart</td>\n",
       "      <td>Набережные Челны</td>\n",
       "      <td>50</td>\n",
       "      <td>15</td>\n",
       "      <td>500</td>\n",
       "      <td>550</td>\n",
       "      <td>200</td>\n",
       "      <td>3</td>\n",
       "      <td>3</td>\n",
       "      <td>550</td>\n",
       "    </tr>\n",
       "    <tr>\n",
       "      <th>1</th>\n",
       "      <td>2018-01-01</td>\n",
       "      <td>1032</td>\n",
       "      <td>360</td>\n",
       "      <td>61</td>\n",
       "      <td>38</td>\n",
       "      <td>24127.69</td>\n",
       "      <td>24</td>\n",
       "      <td>smart</td>\n",
       "      <td>Ульяновск</td>\n",
       "      <td>50</td>\n",
       "      <td>15</td>\n",
       "      <td>500</td>\n",
       "      <td>550</td>\n",
       "      <td>200</td>\n",
       "      <td>3</td>\n",
       "      <td>3</td>\n",
       "      <td>2350</td>\n",
       "    </tr>\n",
       "    <tr>\n",
       "      <th>2</th>\n",
       "      <td>2018-01-01</td>\n",
       "      <td>1045</td>\n",
       "      <td>9</td>\n",
       "      <td>1</td>\n",
       "      <td>5</td>\n",
       "      <td>2346.71</td>\n",
       "      <td>3</td>\n",
       "      <td>smart</td>\n",
       "      <td>Улан-Удэ</td>\n",
       "      <td>50</td>\n",
       "      <td>15</td>\n",
       "      <td>500</td>\n",
       "      <td>550</td>\n",
       "      <td>200</td>\n",
       "      <td>3</td>\n",
       "      <td>3</td>\n",
       "      <td>550</td>\n",
       "    </tr>\n",
       "    <tr>\n",
       "      <th>3</th>\n",
       "      <td>2018-01-01</td>\n",
       "      <td>1055</td>\n",
       "      <td>528</td>\n",
       "      <td>64</td>\n",
       "      <td>30</td>\n",
       "      <td>17090.88</td>\n",
       "      <td>17</td>\n",
       "      <td>smart</td>\n",
       "      <td>Казань</td>\n",
       "      <td>50</td>\n",
       "      <td>15</td>\n",
       "      <td>500</td>\n",
       "      <td>550</td>\n",
       "      <td>200</td>\n",
       "      <td>3</td>\n",
       "      <td>3</td>\n",
       "      <td>634</td>\n",
       "    </tr>\n",
       "    <tr>\n",
       "      <th>4</th>\n",
       "      <td>2018-01-01</td>\n",
       "      <td>1071</td>\n",
       "      <td>184</td>\n",
       "      <td>24</td>\n",
       "      <td>16</td>\n",
       "      <td>15604.34</td>\n",
       "      <td>16</td>\n",
       "      <td>smart</td>\n",
       "      <td>Омск</td>\n",
       "      <td>50</td>\n",
       "      <td>15</td>\n",
       "      <td>500</td>\n",
       "      <td>550</td>\n",
       "      <td>200</td>\n",
       "      <td>3</td>\n",
       "      <td>3</td>\n",
       "      <td>750</td>\n",
       "    </tr>\n",
       "  </tbody>\n",
       "</table>\n",
       "</div>"
      ],
      "text/plain": [
       "       month user_id  calls_duration  calls_count  msg_count   mb_used  \\\n",
       "0 2018-01-01    1005              91           15          7   2727.97   \n",
       "1 2018-01-01    1032             360           61         38  24127.69   \n",
       "2 2018-01-01    1045               9            1          5   2346.71   \n",
       "3 2018-01-01    1055             528           64         30  17090.88   \n",
       "4 2018-01-01    1071             184           24         16  15604.34   \n",
       "\n",
       "   gb_used tariff              city  messages_included  gb_per_month_included  \\\n",
       "0        3  smart  Набережные Челны                 50                     15   \n",
       "1       24  smart         Ульяновск                 50                     15   \n",
       "2        3  smart          Улан-Удэ                 50                     15   \n",
       "3       17  smart            Казань                 50                     15   \n",
       "4       16  smart              Омск                 50                     15   \n",
       "\n",
       "   minutes_included  rub_monthly_fee  rub_per_gb  rub_per_message  \\\n",
       "0               500              550         200                3   \n",
       "1               500              550         200                3   \n",
       "2               500              550         200                3   \n",
       "3               500              550         200                3   \n",
       "4               500              550         200                3   \n",
       "\n",
       "   rub_per_minute  revenue  \n",
       "0               3      550  \n",
       "1               3     2350  \n",
       "2               3      550  \n",
       "3               3      634  \n",
       "4               3      750  "
      ]
     },
     "execution_count": 95,
     "metadata": {},
     "output_type": "execute_result"
    }
   ],
   "source": [
    "#Проверим, как отработала функция\n",
    "df.head()"
   ]
  },
  {
   "cell_type": "markdown",
   "id": "9fed7dbf-379c-4c3c-bcb3-3c43bb5714b1",
   "metadata": {},
   "source": [
    "Проверяем, что нет пропусков в финальной таблице"
   ]
  },
  {
   "cell_type": "code",
   "execution_count": 96,
   "id": "e14a1667-11d0-41a3-b3dd-a5a48092d7bf",
   "metadata": {},
   "outputs": [
    {
     "data": {
      "text/plain": [
       "month                    0\n",
       "user_id                  0\n",
       "calls_duration           0\n",
       "calls_count              0\n",
       "msg_count                0\n",
       "mb_used                  0\n",
       "gb_used                  0\n",
       "tariff                   0\n",
       "city                     0\n",
       "messages_included        0\n",
       "gb_per_month_included    0\n",
       "minutes_included         0\n",
       "rub_monthly_fee          0\n",
       "rub_per_gb               0\n",
       "rub_per_message          0\n",
       "rub_per_minute           0\n",
       "revenue                  0\n",
       "dtype: int64"
      ]
     },
     "execution_count": 96,
     "metadata": {},
     "output_type": "execute_result"
    }
   ],
   "source": [
    "df.isna().sum()"
   ]
  },
  {
   "cell_type": "markdown",
   "id": "4d53f26b-595b-400f-9257-6b8568aed567",
   "metadata": {},
   "source": [
    "#### Небольшой дебаггинг финальной таблицы"
   ]
  },
  {
   "cell_type": "markdown",
   "id": "97cd4243-2b0b-49d5-9bb1-d08fd69eec77",
   "metadata": {},
   "source": [
    "Проверим нашего случайного пользователя с айдишником 1497"
   ]
  },
  {
   "cell_type": "code",
   "execution_count": 97,
   "id": "a1ad32fa-75b7-4a29-9b0f-2aa9cb26435b",
   "metadata": {},
   "outputs": [
    {
     "data": {
      "text/html": [
       "<div>\n",
       "<style scoped>\n",
       "    .dataframe tbody tr th:only-of-type {\n",
       "        vertical-align: middle;\n",
       "    }\n",
       "\n",
       "    .dataframe tbody tr th {\n",
       "        vertical-align: top;\n",
       "    }\n",
       "\n",
       "    .dataframe thead th {\n",
       "        text-align: right;\n",
       "    }\n",
       "</style>\n",
       "<table border=\"1\" class=\"dataframe\">\n",
       "  <thead>\n",
       "    <tr style=\"text-align: right;\">\n",
       "      <th></th>\n",
       "      <th>month</th>\n",
       "      <th>user_id</th>\n",
       "      <th>calls_duration</th>\n",
       "      <th>calls_count</th>\n",
       "      <th>msg_count</th>\n",
       "      <th>mb_used</th>\n",
       "      <th>gb_used</th>\n",
       "      <th>tariff</th>\n",
       "      <th>city</th>\n",
       "      <th>messages_included</th>\n",
       "      <th>gb_per_month_included</th>\n",
       "      <th>minutes_included</th>\n",
       "      <th>rub_monthly_fee</th>\n",
       "      <th>rub_per_gb</th>\n",
       "      <th>rub_per_message</th>\n",
       "      <th>rub_per_minute</th>\n",
       "      <th>revenue</th>\n",
       "    </tr>\n",
       "  </thead>\n",
       "  <tbody>\n",
       "    <tr>\n",
       "      <th>2257</th>\n",
       "      <td>2018-10-01</td>\n",
       "      <td>1497</td>\n",
       "      <td>464</td>\n",
       "      <td>66</td>\n",
       "      <td>20</td>\n",
       "      <td>11500.29</td>\n",
       "      <td>12</td>\n",
       "      <td>smart</td>\n",
       "      <td>Челябинск</td>\n",
       "      <td>50</td>\n",
       "      <td>15</td>\n",
       "      <td>500</td>\n",
       "      <td>550</td>\n",
       "      <td>200</td>\n",
       "      <td>3</td>\n",
       "      <td>3</td>\n",
       "      <td>550</td>\n",
       "    </tr>\n",
       "    <tr>\n",
       "      <th>2702</th>\n",
       "      <td>2018-11-01</td>\n",
       "      <td>1497</td>\n",
       "      <td>347</td>\n",
       "      <td>64</td>\n",
       "      <td>14</td>\n",
       "      <td>14156.08</td>\n",
       "      <td>14</td>\n",
       "      <td>smart</td>\n",
       "      <td>Челябинск</td>\n",
       "      <td>50</td>\n",
       "      <td>15</td>\n",
       "      <td>500</td>\n",
       "      <td>550</td>\n",
       "      <td>200</td>\n",
       "      <td>3</td>\n",
       "      <td>3</td>\n",
       "      <td>550</td>\n",
       "    </tr>\n",
       "    <tr>\n",
       "      <th>3172</th>\n",
       "      <td>2018-12-01</td>\n",
       "      <td>1497</td>\n",
       "      <td>516</td>\n",
       "      <td>71</td>\n",
       "      <td>17</td>\n",
       "      <td>19918.60</td>\n",
       "      <td>20</td>\n",
       "      <td>smart</td>\n",
       "      <td>Челябинск</td>\n",
       "      <td>50</td>\n",
       "      <td>15</td>\n",
       "      <td>500</td>\n",
       "      <td>550</td>\n",
       "      <td>200</td>\n",
       "      <td>3</td>\n",
       "      <td>3</td>\n",
       "      <td>598</td>\n",
       "    </tr>\n",
       "  </tbody>\n",
       "</table>\n",
       "</div>"
      ],
      "text/plain": [
       "          month user_id  calls_duration  calls_count  msg_count   mb_used  \\\n",
       "2257 2018-10-01    1497             464           66         20  11500.29   \n",
       "2702 2018-11-01    1497             347           64         14  14156.08   \n",
       "3172 2018-12-01    1497             516           71         17  19918.60   \n",
       "\n",
       "      gb_used tariff       city  messages_included  gb_per_month_included  \\\n",
       "2257       12  smart  Челябинск                 50                     15   \n",
       "2702       14  smart  Челябинск                 50                     15   \n",
       "3172       20  smart  Челябинск                 50                     15   \n",
       "\n",
       "      minutes_included  rub_monthly_fee  rub_per_gb  rub_per_message  \\\n",
       "2257               500              550         200                3   \n",
       "2702               500              550         200                3   \n",
       "3172               500              550         200                3   \n",
       "\n",
       "      rub_per_minute  revenue  \n",
       "2257               3      550  \n",
       "2702               3      550  \n",
       "3172               3      598  "
      ]
     },
     "execution_count": 97,
     "metadata": {},
     "output_type": "execute_result"
    }
   ],
   "source": [
    "df[df['user_id'] == '1497']"
   ]
  },
  {
   "cell_type": "markdown",
   "id": "daacdbb6-7843-450c-82ae-a9d647450241",
   "metadata": {},
   "source": [
    "Сложим снова длительность всех его звонков и сверим с предыдущим результатом."
   ]
  },
  {
   "cell_type": "code",
   "execution_count": 98,
   "id": "9899b9b7-106b-42b6-8fec-fbd2b88e151f",
   "metadata": {},
   "outputs": [
    {
     "data": {
      "text/plain": [
       "1327"
      ]
     },
     "execution_count": 98,
     "metadata": {},
     "output_type": "execute_result"
    }
   ],
   "source": [
    "df[df['user_id'] == '1497']['calls_duration'].sum()"
   ]
  },
  {
   "cell_type": "markdown",
   "id": "356c4475-c8c9-4aa5-9e6c-88067d74f75c",
   "metadata": {},
   "source": [
    "Понним, что мы округляли длительность звонков в большую сторону. У этого юзера звонки за 3 месяца. Все сходится."
   ]
  },
  {
   "cell_type": "markdown",
   "id": "573cc80c-befa-40b3-8ae2-9e4c8f056e5c",
   "metadata": {},
   "source": [
    "И проверим пользователя 1032"
   ]
  },
  {
   "cell_type": "markdown",
   "id": "1032e607-0155-456d-aafc-d0446e316956",
   "metadata": {},
   "source": [
    "Посмотрим, сколько месяцев он совершал звонки"
   ]
  },
  {
   "cell_type": "code",
   "execution_count": 99,
   "id": "cd0dc6f4-779b-40a9-9a79-acf5a2e54872",
   "metadata": {},
   "outputs": [
    {
     "data": {
      "text/plain": [
       "12"
      ]
     },
     "execution_count": 99,
     "metadata": {},
     "output_type": "execute_result"
    }
   ],
   "source": [
    "len(df[df['user_id'] == '1032'])"
   ]
  },
  {
   "cell_type": "markdown",
   "id": "c9cad796-e81b-4328-b15e-93ffeebfd96c",
   "metadata": {},
   "source": [
    "Все сходится: все 12 месяцев есть. "
   ]
  },
  {
   "cell_type": "markdown",
   "id": "9e1d7257-2808-48a9-b7b9-6ae431a010dc",
   "metadata": {},
   "source": [
    "Посмотрим на количество уникальных пользователей в финальной таблице"
   ]
  },
  {
   "cell_type": "code",
   "execution_count": 100,
   "id": "b879b352-8ae5-4239-b93f-c1eb343c3609",
   "metadata": {},
   "outputs": [
    {
     "data": {
      "text/plain": [
       "498"
      ]
     },
     "execution_count": 100,
     "metadata": {},
     "output_type": "execute_result"
    }
   ],
   "source": [
    "len(df.user_id.unique())"
   ]
  },
  {
   "cell_type": "markdown",
   "id": "61fbad7c-03c1-475f-8f15-49d178646bbc",
   "metadata": {},
   "source": [
    "Данные в финальной таблицы не искажены - можно двигаться дальше."
   ]
  },
  {
   "cell_type": "markdown",
   "id": "7c58094b-e0f1-40de-a3c8-bff815eb5aac",
   "metadata": {},
   "source": [
    "<a name=\"stage_3\"></a>\n",
    "\n",
    "# Этап 3. Анализ данных финальной сводной таблицы\n",
    "\n",
    "\n",
    "[Наверх к оглавлению](#contents)"
   ]
  },
  {
   "cell_type": "markdown",
   "id": "87ab4b0f-8820-45b0-8a54-06065016f213",
   "metadata": {},
   "source": [
    "\n",
    "* Опишите поведение клиентов оператора, исходя из выборки. \n",
    "\n",
    "* Сколько минут разговора, сколько сообщений и какой объём интернет-трафика требуется пользователям каждого тарифа в месяц? \n",
    "\n",
    "* Посчитайте среднее количество, дисперсию и стандартное отклонение. Постройте гистограммы. Опишите распределения."
   ]
  },
  {
   "cell_type": "markdown",
   "id": "a6db74db-2bcf-4abe-b6ee-138554d182fa",
   "metadata": {},
   "source": [
    "### Сводные таблицы"
   ]
  },
  {
   "cell_type": "markdown",
   "id": "70db943f-5d89-4350-8f78-42b3ebb3f625",
   "metadata": {},
   "source": [
    "Построим сводную таблицу по тарифам для каждого месяца:"
   ]
  },
  {
   "cell_type": "code",
   "execution_count": 101,
   "id": "abc7ab32-7b10-4867-8742-b2cf798897ba",
   "metadata": {},
   "outputs": [
    {
     "data": {
      "text/html": [
       "<div>\n",
       "<style scoped>\n",
       "    .dataframe tbody tr th:only-of-type {\n",
       "        vertical-align: middle;\n",
       "    }\n",
       "\n",
       "    .dataframe tbody tr th {\n",
       "        vertical-align: top;\n",
       "    }\n",
       "\n",
       "    .dataframe thead tr th {\n",
       "        text-align: left;\n",
       "    }\n",
       "\n",
       "    .dataframe thead tr:last-of-type th {\n",
       "        text-align: right;\n",
       "    }\n",
       "</style>\n",
       "<table border=\"1\" class=\"dataframe\">\n",
       "  <thead>\n",
       "    <tr>\n",
       "      <th></th>\n",
       "      <th></th>\n",
       "      <th colspan=\"4\" halign=\"left\">calls_duration</th>\n",
       "      <th colspan=\"4\" halign=\"left\">gb_used</th>\n",
       "      <th colspan=\"4\" halign=\"left\">msg_count</th>\n",
       "      <th>revenue</th>\n",
       "    </tr>\n",
       "    <tr>\n",
       "      <th></th>\n",
       "      <th></th>\n",
       "      <th>mean</th>\n",
       "      <th>median</th>\n",
       "      <th>std</th>\n",
       "      <th>var</th>\n",
       "      <th>mean</th>\n",
       "      <th>median</th>\n",
       "      <th>std</th>\n",
       "      <th>var</th>\n",
       "      <th>mean</th>\n",
       "      <th>median</th>\n",
       "      <th>std</th>\n",
       "      <th>var</th>\n",
       "      <th>sum</th>\n",
       "    </tr>\n",
       "    <tr>\n",
       "      <th>tariff</th>\n",
       "      <th>month</th>\n",
       "      <th></th>\n",
       "      <th></th>\n",
       "      <th></th>\n",
       "      <th></th>\n",
       "      <th></th>\n",
       "      <th></th>\n",
       "      <th></th>\n",
       "      <th></th>\n",
       "      <th></th>\n",
       "      <th></th>\n",
       "      <th></th>\n",
       "      <th></th>\n",
       "      <th></th>\n",
       "    </tr>\n",
       "  </thead>\n",
       "  <tbody>\n",
       "    <tr>\n",
       "      <th rowspan=\"12\" valign=\"top\">smart</th>\n",
       "      <th>2018-01-01</th>\n",
       "      <td>193.470588</td>\n",
       "      <td>156.5</td>\n",
       "      <td>146.298830</td>\n",
       "      <td>21403.347594</td>\n",
       "      <td>8.735294</td>\n",
       "      <td>7.0</td>\n",
       "      <td>6.277950</td>\n",
       "      <td>39.412656</td>\n",
       "      <td>18.235294</td>\n",
       "      <td>15.0</td>\n",
       "      <td>16.197753</td>\n",
       "      <td>262.367201</td>\n",
       "      <td>24056</td>\n",
       "    </tr>\n",
       "    <tr>\n",
       "      <th>2018-02-01</th>\n",
       "      <td>283.413793</td>\n",
       "      <td>243.5</td>\n",
       "      <td>180.973783</td>\n",
       "      <td>32751.509982</td>\n",
       "      <td>11.844828</td>\n",
       "      <td>13.0</td>\n",
       "      <td>6.095157</td>\n",
       "      <td>37.150938</td>\n",
       "      <td>24.086207</td>\n",
       "      <td>20.0</td>\n",
       "      <td>21.750809</td>\n",
       "      <td>473.097701</td>\n",
       "      <td>41044</td>\n",
       "    </tr>\n",
       "    <tr>\n",
       "      <th>2018-03-01</th>\n",
       "      <td>368.337662</td>\n",
       "      <td>387.0</td>\n",
       "      <td>181.538137</td>\n",
       "      <td>32956.095010</td>\n",
       "      <td>15.233766</td>\n",
       "      <td>16.0</td>\n",
       "      <td>5.705252</td>\n",
       "      <td>32.549897</td>\n",
       "      <td>31.857143</td>\n",
       "      <td>23.0</td>\n",
       "      <td>26.804710</td>\n",
       "      <td>718.492481</td>\n",
       "      <td>66486</td>\n",
       "    </tr>\n",
       "    <tr>\n",
       "      <th>2018-04-01</th>\n",
       "      <td>346.767857</td>\n",
       "      <td>350.0</td>\n",
       "      <td>176.135134</td>\n",
       "      <td>31023.585264</td>\n",
       "      <td>13.625000</td>\n",
       "      <td>14.0</td>\n",
       "      <td>5.594600</td>\n",
       "      <td>31.299550</td>\n",
       "      <td>30.741071</td>\n",
       "      <td>28.0</td>\n",
       "      <td>24.538532</td>\n",
       "      <td>602.139559</td>\n",
       "      <td>89248</td>\n",
       "    </tr>\n",
       "    <tr>\n",
       "      <th>2018-05-01</th>\n",
       "      <td>365.709220</td>\n",
       "      <td>408.0</td>\n",
       "      <td>176.560210</td>\n",
       "      <td>31173.507700</td>\n",
       "      <td>15.907801</td>\n",
       "      <td>16.0</td>\n",
       "      <td>5.862594</td>\n",
       "      <td>34.370010</td>\n",
       "      <td>33.773050</td>\n",
       "      <td>30.0</td>\n",
       "      <td>27.036845</td>\n",
       "      <td>730.990983</td>\n",
       "      <td>132834</td>\n",
       "    </tr>\n",
       "    <tr>\n",
       "      <th>2018-06-01</th>\n",
       "      <td>373.670732</td>\n",
       "      <td>379.0</td>\n",
       "      <td>165.698822</td>\n",
       "      <td>27456.099506</td>\n",
       "      <td>15.951220</td>\n",
       "      <td>16.0</td>\n",
       "      <td>5.649046</td>\n",
       "      <td>31.911716</td>\n",
       "      <td>33.402439</td>\n",
       "      <td>28.0</td>\n",
       "      <td>28.404337</td>\n",
       "      <td>806.806374</td>\n",
       "      <td>145755</td>\n",
       "    </tr>\n",
       "    <tr>\n",
       "      <th>2018-07-01</th>\n",
       "      <td>386.000000</td>\n",
       "      <td>389.0</td>\n",
       "      <td>169.739595</td>\n",
       "      <td>28811.530000</td>\n",
       "      <td>15.875622</td>\n",
       "      <td>16.0</td>\n",
       "      <td>5.780956</td>\n",
       "      <td>33.419453</td>\n",
       "      <td>33.751244</td>\n",
       "      <td>29.0</td>\n",
       "      <td>28.282288</td>\n",
       "      <td>799.887811</td>\n",
       "      <td>184971</td>\n",
       "    </tr>\n",
       "    <tr>\n",
       "      <th>2018-08-01</th>\n",
       "      <td>398.357447</td>\n",
       "      <td>409.0</td>\n",
       "      <td>176.483819</td>\n",
       "      <td>31146.538352</td>\n",
       "      <td>16.736170</td>\n",
       "      <td>17.0</td>\n",
       "      <td>5.480986</td>\n",
       "      <td>30.041207</td>\n",
       "      <td>33.638298</td>\n",
       "      <td>27.0</td>\n",
       "      <td>28.952677</td>\n",
       "      <td>838.257501</td>\n",
       "      <td>235955</td>\n",
       "    </tr>\n",
       "    <tr>\n",
       "      <th>2018-09-01</th>\n",
       "      <td>405.007692</td>\n",
       "      <td>410.5</td>\n",
       "      <td>173.292664</td>\n",
       "      <td>30030.347431</td>\n",
       "      <td>16.392308</td>\n",
       "      <td>16.0</td>\n",
       "      <td>5.087643</td>\n",
       "      <td>25.884110</td>\n",
       "      <td>33.638462</td>\n",
       "      <td>30.0</td>\n",
       "      <td>28.117927</td>\n",
       "      <td>790.617820</td>\n",
       "      <td>240671</td>\n",
       "    </tr>\n",
       "    <tr>\n",
       "      <th>2018-10-01</th>\n",
       "      <td>402.761905</td>\n",
       "      <td>405.0</td>\n",
       "      <td>177.992516</td>\n",
       "      <td>31681.335609</td>\n",
       "      <td>16.880952</td>\n",
       "      <td>17.0</td>\n",
       "      <td>5.735594</td>\n",
       "      <td>32.897042</td>\n",
       "      <td>33.765306</td>\n",
       "      <td>30.0</td>\n",
       "      <td>28.567673</td>\n",
       "      <td>816.111966</td>\n",
       "      <td>287209</td>\n",
       "    </tr>\n",
       "    <tr>\n",
       "      <th>2018-11-01</th>\n",
       "      <td>411.101266</td>\n",
       "      <td>404.5</td>\n",
       "      <td>168.105964</td>\n",
       "      <td>28259.615110</td>\n",
       "      <td>17.000000</td>\n",
       "      <td>17.0</td>\n",
       "      <td>5.213535</td>\n",
       "      <td>27.180952</td>\n",
       "      <td>34.075949</td>\n",
       "      <td>28.0</td>\n",
       "      <td>28.389031</td>\n",
       "      <td>805.937071</td>\n",
       "      <td>311497</td>\n",
       "    </tr>\n",
       "    <tr>\n",
       "      <th>2018-12-01</th>\n",
       "      <td>452.195846</td>\n",
       "      <td>446.0</td>\n",
       "      <td>188.487266</td>\n",
       "      <td>35527.449626</td>\n",
       "      <td>18.201780</td>\n",
       "      <td>18.0</td>\n",
       "      <td>5.457705</td>\n",
       "      <td>29.786544</td>\n",
       "      <td>35.994065</td>\n",
       "      <td>29.0</td>\n",
       "      <td>30.576990</td>\n",
       "      <td>934.952346</td>\n",
       "      <td>347106</td>\n",
       "    </tr>\n",
       "    <tr>\n",
       "      <th rowspan=\"12\" valign=\"top\">ultra</th>\n",
       "      <th>2018-01-01</th>\n",
       "      <td>405.333333</td>\n",
       "      <td>360.0</td>\n",
       "      <td>254.725833</td>\n",
       "      <td>64885.250000</td>\n",
       "      <td>13.222222</td>\n",
       "      <td>15.0</td>\n",
       "      <td>6.666667</td>\n",
       "      <td>44.444444</td>\n",
       "      <td>33.777778</td>\n",
       "      <td>32.0</td>\n",
       "      <td>30.670742</td>\n",
       "      <td>940.694444</td>\n",
       "      <td>17550</td>\n",
       "    </tr>\n",
       "    <tr>\n",
       "      <th>2018-02-01</th>\n",
       "      <td>281.083333</td>\n",
       "      <td>157.0</td>\n",
       "      <td>281.023273</td>\n",
       "      <td>78974.079710</td>\n",
       "      <td>12.000000</td>\n",
       "      <td>7.5</td>\n",
       "      <td>10.446551</td>\n",
       "      <td>109.130435</td>\n",
       "      <td>21.958333</td>\n",
       "      <td>5.5</td>\n",
       "      <td>26.773574</td>\n",
       "      <td>716.824275</td>\n",
       "      <td>47400</td>\n",
       "    </tr>\n",
       "    <tr>\n",
       "      <th>2018-03-01</th>\n",
       "      <td>462.972973</td>\n",
       "      <td>381.0</td>\n",
       "      <td>315.652894</td>\n",
       "      <td>99636.749249</td>\n",
       "      <td>17.648649</td>\n",
       "      <td>18.0</td>\n",
       "      <td>10.693238</td>\n",
       "      <td>114.345345</td>\n",
       "      <td>32.297297</td>\n",
       "      <td>20.0</td>\n",
       "      <td>41.621886</td>\n",
       "      <td>1732.381381</td>\n",
       "      <td>74550</td>\n",
       "    </tr>\n",
       "    <tr>\n",
       "      <th>2018-04-01</th>\n",
       "      <td>432.363636</td>\n",
       "      <td>428.0</td>\n",
       "      <td>253.085358</td>\n",
       "      <td>64052.198653</td>\n",
       "      <td>16.963636</td>\n",
       "      <td>17.0</td>\n",
       "      <td>9.457436</td>\n",
       "      <td>89.443098</td>\n",
       "      <td>31.563636</td>\n",
       "      <td>17.0</td>\n",
       "      <td>37.513831</td>\n",
       "      <td>1407.287542</td>\n",
       "      <td>110100</td>\n",
       "    </tr>\n",
       "    <tr>\n",
       "      <th>2018-05-01</th>\n",
       "      <td>482.208955</td>\n",
       "      <td>486.0</td>\n",
       "      <td>273.429761</td>\n",
       "      <td>74763.834464</td>\n",
       "      <td>19.373134</td>\n",
       "      <td>19.0</td>\n",
       "      <td>9.779130</td>\n",
       "      <td>95.631389</td>\n",
       "      <td>37.850746</td>\n",
       "      <td>25.0</td>\n",
       "      <td>40.306874</td>\n",
       "      <td>1624.644052</td>\n",
       "      <td>138000</td>\n",
       "    </tr>\n",
       "    <tr>\n",
       "      <th>2018-06-01</th>\n",
       "      <td>453.452381</td>\n",
       "      <td>452.0</td>\n",
       "      <td>286.471320</td>\n",
       "      <td>82065.816982</td>\n",
       "      <td>18.940476</td>\n",
       "      <td>19.5</td>\n",
       "      <td>9.077114</td>\n",
       "      <td>82.394005</td>\n",
       "      <td>41.726190</td>\n",
       "      <td>27.5</td>\n",
       "      <td>44.567899</td>\n",
       "      <td>1986.297619</td>\n",
       "      <td>171300</td>\n",
       "    </tr>\n",
       "    <tr>\n",
       "      <th>2018-07-01</th>\n",
       "      <td>515.692308</td>\n",
       "      <td>511.0</td>\n",
       "      <td>290.152707</td>\n",
       "      <td>84188.593162</td>\n",
       "      <td>20.505495</td>\n",
       "      <td>20.0</td>\n",
       "      <td>9.819905</td>\n",
       "      <td>96.430525</td>\n",
       "      <td>49.846154</td>\n",
       "      <td>38.0</td>\n",
       "      <td>48.703621</td>\n",
       "      <td>2372.042735</td>\n",
       "      <td>192750</td>\n",
       "    </tr>\n",
       "    <tr>\n",
       "      <th>2018-08-01</th>\n",
       "      <td>482.383178</td>\n",
       "      <td>472.0</td>\n",
       "      <td>295.346060</td>\n",
       "      <td>87229.295186</td>\n",
       "      <td>19.598131</td>\n",
       "      <td>19.0</td>\n",
       "      <td>10.254184</td>\n",
       "      <td>105.148298</td>\n",
       "      <td>48.439252</td>\n",
       "      <td>40.0</td>\n",
       "      <td>46.601923</td>\n",
       "      <td>2171.739199</td>\n",
       "      <td>222900</td>\n",
       "    </tr>\n",
       "    <tr>\n",
       "      <th>2018-09-01</th>\n",
       "      <td>509.600000</td>\n",
       "      <td>495.0</td>\n",
       "      <td>306.742271</td>\n",
       "      <td>94090.821053</td>\n",
       "      <td>19.243478</td>\n",
       "      <td>20.0</td>\n",
       "      <td>9.287410</td>\n",
       "      <td>86.255988</td>\n",
       "      <td>52.286957</td>\n",
       "      <td>43.0</td>\n",
       "      <td>46.398874</td>\n",
       "      <td>2152.855530</td>\n",
       "      <td>232800</td>\n",
       "    </tr>\n",
       "    <tr>\n",
       "      <th>2018-10-01</th>\n",
       "      <td>527.300813</td>\n",
       "      <td>503.0</td>\n",
       "      <td>308.049388</td>\n",
       "      <td>94894.425163</td>\n",
       "      <td>20.065041</td>\n",
       "      <td>20.0</td>\n",
       "      <td>9.552907</td>\n",
       "      <td>91.258030</td>\n",
       "      <td>58.430894</td>\n",
       "      <td>49.0</td>\n",
       "      <td>51.934398</td>\n",
       "      <td>2697.181661</td>\n",
       "      <td>254100</td>\n",
       "    </tr>\n",
       "    <tr>\n",
       "      <th>2018-11-01</th>\n",
       "      <td>511.358209</td>\n",
       "      <td>515.5</td>\n",
       "      <td>293.543388</td>\n",
       "      <td>86167.720346</td>\n",
       "      <td>19.805970</td>\n",
       "      <td>18.5</td>\n",
       "      <td>9.684867</td>\n",
       "      <td>93.796656</td>\n",
       "      <td>55.791045</td>\n",
       "      <td>43.0</td>\n",
       "      <td>49.768951</td>\n",
       "      <td>2476.948491</td>\n",
       "      <td>280350</td>\n",
       "    </tr>\n",
       "    <tr>\n",
       "      <th>2018-12-01</th>\n",
       "      <td>560.079137</td>\n",
       "      <td>550.0</td>\n",
       "      <td>322.993585</td>\n",
       "      <td>104324.856011</td>\n",
       "      <td>21.741007</td>\n",
       "      <td>22.0</td>\n",
       "      <td>10.160550</td>\n",
       "      <td>103.236784</td>\n",
       "      <td>60.611511</td>\n",
       "      <td>51.0</td>\n",
       "      <td>51.787821</td>\n",
       "      <td>2681.978417</td>\n",
       "      <td>297300</td>\n",
       "    </tr>\n",
       "  </tbody>\n",
       "</table>\n",
       "</div>"
      ],
      "text/plain": [
       "                  calls_duration                                      gb_used  \\\n",
       "                            mean median         std            var       mean   \n",
       "tariff month                                                                    \n",
       "smart  2018-01-01     193.470588  156.5  146.298830   21403.347594   8.735294   \n",
       "       2018-02-01     283.413793  243.5  180.973783   32751.509982  11.844828   \n",
       "       2018-03-01     368.337662  387.0  181.538137   32956.095010  15.233766   \n",
       "       2018-04-01     346.767857  350.0  176.135134   31023.585264  13.625000   \n",
       "       2018-05-01     365.709220  408.0  176.560210   31173.507700  15.907801   \n",
       "       2018-06-01     373.670732  379.0  165.698822   27456.099506  15.951220   \n",
       "       2018-07-01     386.000000  389.0  169.739595   28811.530000  15.875622   \n",
       "       2018-08-01     398.357447  409.0  176.483819   31146.538352  16.736170   \n",
       "       2018-09-01     405.007692  410.5  173.292664   30030.347431  16.392308   \n",
       "       2018-10-01     402.761905  405.0  177.992516   31681.335609  16.880952   \n",
       "       2018-11-01     411.101266  404.5  168.105964   28259.615110  17.000000   \n",
       "       2018-12-01     452.195846  446.0  188.487266   35527.449626  18.201780   \n",
       "ultra  2018-01-01     405.333333  360.0  254.725833   64885.250000  13.222222   \n",
       "       2018-02-01     281.083333  157.0  281.023273   78974.079710  12.000000   \n",
       "       2018-03-01     462.972973  381.0  315.652894   99636.749249  17.648649   \n",
       "       2018-04-01     432.363636  428.0  253.085358   64052.198653  16.963636   \n",
       "       2018-05-01     482.208955  486.0  273.429761   74763.834464  19.373134   \n",
       "       2018-06-01     453.452381  452.0  286.471320   82065.816982  18.940476   \n",
       "       2018-07-01     515.692308  511.0  290.152707   84188.593162  20.505495   \n",
       "       2018-08-01     482.383178  472.0  295.346060   87229.295186  19.598131   \n",
       "       2018-09-01     509.600000  495.0  306.742271   94090.821053  19.243478   \n",
       "       2018-10-01     527.300813  503.0  308.049388   94894.425163  20.065041   \n",
       "       2018-11-01     511.358209  515.5  293.543388   86167.720346  19.805970   \n",
       "       2018-12-01     560.079137  550.0  322.993585  104324.856011  21.741007   \n",
       "\n",
       "                                                 msg_count                    \\\n",
       "                  median        std         var       mean median        std   \n",
       "tariff month                                                                   \n",
       "smart  2018-01-01    7.0   6.277950   39.412656  18.235294   15.0  16.197753   \n",
       "       2018-02-01   13.0   6.095157   37.150938  24.086207   20.0  21.750809   \n",
       "       2018-03-01   16.0   5.705252   32.549897  31.857143   23.0  26.804710   \n",
       "       2018-04-01   14.0   5.594600   31.299550  30.741071   28.0  24.538532   \n",
       "       2018-05-01   16.0   5.862594   34.370010  33.773050   30.0  27.036845   \n",
       "       2018-06-01   16.0   5.649046   31.911716  33.402439   28.0  28.404337   \n",
       "       2018-07-01   16.0   5.780956   33.419453  33.751244   29.0  28.282288   \n",
       "       2018-08-01   17.0   5.480986   30.041207  33.638298   27.0  28.952677   \n",
       "       2018-09-01   16.0   5.087643   25.884110  33.638462   30.0  28.117927   \n",
       "       2018-10-01   17.0   5.735594   32.897042  33.765306   30.0  28.567673   \n",
       "       2018-11-01   17.0   5.213535   27.180952  34.075949   28.0  28.389031   \n",
       "       2018-12-01   18.0   5.457705   29.786544  35.994065   29.0  30.576990   \n",
       "ultra  2018-01-01   15.0   6.666667   44.444444  33.777778   32.0  30.670742   \n",
       "       2018-02-01    7.5  10.446551  109.130435  21.958333    5.5  26.773574   \n",
       "       2018-03-01   18.0  10.693238  114.345345  32.297297   20.0  41.621886   \n",
       "       2018-04-01   17.0   9.457436   89.443098  31.563636   17.0  37.513831   \n",
       "       2018-05-01   19.0   9.779130   95.631389  37.850746   25.0  40.306874   \n",
       "       2018-06-01   19.5   9.077114   82.394005  41.726190   27.5  44.567899   \n",
       "       2018-07-01   20.0   9.819905   96.430525  49.846154   38.0  48.703621   \n",
       "       2018-08-01   19.0  10.254184  105.148298  48.439252   40.0  46.601923   \n",
       "       2018-09-01   20.0   9.287410   86.255988  52.286957   43.0  46.398874   \n",
       "       2018-10-01   20.0   9.552907   91.258030  58.430894   49.0  51.934398   \n",
       "       2018-11-01   18.5   9.684867   93.796656  55.791045   43.0  49.768951   \n",
       "       2018-12-01   22.0  10.160550  103.236784  60.611511   51.0  51.787821   \n",
       "\n",
       "                               revenue  \n",
       "                           var     sum  \n",
       "tariff month                            \n",
       "smart  2018-01-01   262.367201   24056  \n",
       "       2018-02-01   473.097701   41044  \n",
       "       2018-03-01   718.492481   66486  \n",
       "       2018-04-01   602.139559   89248  \n",
       "       2018-05-01   730.990983  132834  \n",
       "       2018-06-01   806.806374  145755  \n",
       "       2018-07-01   799.887811  184971  \n",
       "       2018-08-01   838.257501  235955  \n",
       "       2018-09-01   790.617820  240671  \n",
       "       2018-10-01   816.111966  287209  \n",
       "       2018-11-01   805.937071  311497  \n",
       "       2018-12-01   934.952346  347106  \n",
       "ultra  2018-01-01   940.694444   17550  \n",
       "       2018-02-01   716.824275   47400  \n",
       "       2018-03-01  1732.381381   74550  \n",
       "       2018-04-01  1407.287542  110100  \n",
       "       2018-05-01  1624.644052  138000  \n",
       "       2018-06-01  1986.297619  171300  \n",
       "       2018-07-01  2372.042735  192750  \n",
       "       2018-08-01  2171.739199  222900  \n",
       "       2018-09-01  2152.855530  232800  \n",
       "       2018-10-01  2697.181661  254100  \n",
       "       2018-11-01  2476.948491  280350  \n",
       "       2018-12-01  2681.978417  297300  "
      ]
     },
     "execution_count": 101,
     "metadata": {},
     "output_type": "execute_result"
    }
   ],
   "source": [
    "month_pivot = df.pivot_table(index=['tariff', 'month'], values=['calls_duration', 'msg_count', 'gb_used', 'revenue'],\n",
    "              aggfunc={'calls_duration':['mean', 'median', 'var', 'std'],\n",
    "                        'gb_used':['mean', 'median', 'var', 'std'],\n",
    "                        'msg_count':['mean', 'median', 'var', 'std'],\n",
    "                      'revenue': 'sum'})\n",
    "month_pivot"
   ]
  },
  {
   "cell_type": "markdown",
   "id": "9a8bb6d1-5793-41db-b19c-140f16cef64d",
   "metadata": {},
   "source": [
    "Интересно, что декабрь самый прибыльный месяц для обоих тарифов: больше всего звонков, больше всего смс, интернет-трафика."
   ]
  },
  {
   "cell_type": "markdown",
   "id": "a5d2b8a8-8324-4030-857c-c7c289c7c83e",
   "metadata": {},
   "source": [
    "Создадим сводную таблицу, сгруппировав данные по тарифу и посчитаем для каждого тарифа среднее, медиану, дисперсию, стандартное отклонение для длительности звонков, смс-сообщений, интернет-трафика.\n",
    "Так мы узнаем, сколько в среднем в месяц пользователь разговаривает, отправляет смс и сколько интернет-траффика использует. Посчитаем также сумму выручки для каждого тарифа за год и среднюю выручку в месяц."
   ]
  },
  {
   "cell_type": "code",
   "execution_count": 102,
   "id": "91292d58-6119-441d-b249-65726de344c2",
   "metadata": {},
   "outputs": [
    {
     "data": {
      "text/html": [
       "<div>\n",
       "<style scoped>\n",
       "    .dataframe tbody tr th:only-of-type {\n",
       "        vertical-align: middle;\n",
       "    }\n",
       "\n",
       "    .dataframe tbody tr th {\n",
       "        vertical-align: top;\n",
       "    }\n",
       "\n",
       "    .dataframe thead tr th {\n",
       "        text-align: left;\n",
       "    }\n",
       "\n",
       "    .dataframe thead tr:last-of-type th {\n",
       "        text-align: right;\n",
       "    }\n",
       "</style>\n",
       "<table border=\"1\" class=\"dataframe\">\n",
       "  <thead>\n",
       "    <tr>\n",
       "      <th></th>\n",
       "      <th colspan=\"4\" halign=\"left\">calls_duration</th>\n",
       "      <th colspan=\"4\" halign=\"left\">gb_used</th>\n",
       "      <th colspan=\"4\" halign=\"left\">msg_count</th>\n",
       "      <th colspan=\"2\" halign=\"left\">revenue</th>\n",
       "    </tr>\n",
       "    <tr>\n",
       "      <th></th>\n",
       "      <th>mean</th>\n",
       "      <th>median</th>\n",
       "      <th>std</th>\n",
       "      <th>var</th>\n",
       "      <th>mean</th>\n",
       "      <th>median</th>\n",
       "      <th>std</th>\n",
       "      <th>var</th>\n",
       "      <th>mean</th>\n",
       "      <th>median</th>\n",
       "      <th>std</th>\n",
       "      <th>var</th>\n",
       "      <th>median</th>\n",
       "      <th>sum</th>\n",
       "    </tr>\n",
       "    <tr>\n",
       "      <th>tariff</th>\n",
       "      <th></th>\n",
       "      <th></th>\n",
       "      <th></th>\n",
       "      <th></th>\n",
       "      <th></th>\n",
       "      <th></th>\n",
       "      <th></th>\n",
       "      <th></th>\n",
       "      <th></th>\n",
       "      <th></th>\n",
       "      <th></th>\n",
       "      <th></th>\n",
       "      <th></th>\n",
       "      <th></th>\n",
       "    </tr>\n",
       "  </thead>\n",
       "  <tbody>\n",
       "    <tr>\n",
       "      <th>smart</th>\n",
       "      <td>394.919246</td>\n",
       "      <td>398.0</td>\n",
       "      <td>179.981207</td>\n",
       "      <td>32393.234948</td>\n",
       "      <td>16.328847</td>\n",
       "      <td>17.0</td>\n",
       "      <td>5.747061</td>\n",
       "      <td>33.028705</td>\n",
       "      <td>33.384029</td>\n",
       "      <td>28.0</td>\n",
       "      <td>28.227876</td>\n",
       "      <td>796.812958</td>\n",
       "      <td>700.0</td>\n",
       "      <td>2106832</td>\n",
       "    </tr>\n",
       "    <tr>\n",
       "      <th>ultra</th>\n",
       "      <td>497.543147</td>\n",
       "      <td>489.0</td>\n",
       "      <td>299.929417</td>\n",
       "      <td>89957.654895</td>\n",
       "      <td>19.494416</td>\n",
       "      <td>19.0</td>\n",
       "      <td>9.853511</td>\n",
       "      <td>97.091686</td>\n",
       "      <td>49.363452</td>\n",
       "      <td>38.0</td>\n",
       "      <td>47.804457</td>\n",
       "      <td>2285.266143</td>\n",
       "      <td>1950.0</td>\n",
       "      <td>2039100</td>\n",
       "    </tr>\n",
       "  </tbody>\n",
       "</table>\n",
       "</div>"
      ],
      "text/plain": [
       "       calls_duration                                     gb_used         \\\n",
       "                 mean median         std           var       mean median   \n",
       "tariff                                                                     \n",
       "smart      394.919246  398.0  179.981207  32393.234948  16.328847   17.0   \n",
       "ultra      497.543147  489.0  299.929417  89957.654895  19.494416   19.0   \n",
       "\n",
       "                             msg_count                                revenue  \\\n",
       "             std        var       mean median        std          var  median   \n",
       "tariff                                                                          \n",
       "smart   5.747061  33.028705  33.384029   28.0  28.227876   796.812958   700.0   \n",
       "ultra   9.853511  97.091686  49.363452   38.0  47.804457  2285.266143  1950.0   \n",
       "\n",
       "                 \n",
       "            sum  \n",
       "tariff           \n",
       "smart   2106832  \n",
       "ultra   2039100  "
      ]
     },
     "execution_count": 102,
     "metadata": {},
     "output_type": "execute_result"
    }
   ],
   "source": [
    "tariff_pivot = df.pivot_table(index = ['tariff'], values=['calls_duration', 'msg_count', 'gb_used', 'revenue'],\n",
    "               aggfunc={'calls_duration':['mean', 'median', 'var', 'std'],\n",
    "                        'gb_used':['mean', 'median', 'var', 'std'],\n",
    "                        'msg_count':['mean', 'median', 'var', 'std'],\n",
    "                       'revenue': ['sum', 'median']})\n",
    "tariff_pivot"
   ]
  },
  {
   "cell_type": "markdown",
   "id": "5725b2a2-0463-42c2-8d3a-b7c8b8208ec6",
   "metadata": {},
   "source": [
    "### Гистограммы"
   ]
  },
  {
   "cell_type": "markdown",
   "id": "772c099a-9e69-4403-97f7-07e413bdf25f",
   "metadata": {},
   "source": [
    "Создадим гистограммы для каждого изучаемого нами параметра"
   ]
  },
  {
   "cell_type": "markdown",
   "id": "d5899488-ec8d-43e4-ad38-9686f17406d1",
   "metadata": {},
   "source": [
    "Напишем функцию для автоматизации создания диаграмм."
   ]
  },
  {
   "cell_type": "code",
   "execution_count": 103,
   "id": "58d9fe0a-629e-4d6d-b00e-1a933672d595",
   "metadata": {},
   "outputs": [],
   "source": [
    "def get_histplot(column_name):\n",
    "    plt.figure(figsize=(12,6))\n",
    "    tariffs = ['ultra', 'smart'] \n",
    "    colors = ['orange','blue']\n",
    "    \n",
    "    for indx, itm in enumerate(tariffs):\n",
    "        tariff = tariffs[indx]\n",
    "        color = colors[indx]\n",
    "        sns.histplot(df.query('tariff == @tariff')[column_name], bins=12, color=color, fill=False)\n",
    "        plt.legend(['ultra', 'smart'])"
   ]
  },
  {
   "cell_type": "code",
   "execution_count": 104,
   "id": "ac1ebd8a-e513-40e8-8ed9-043296b10717",
   "metadata": {},
   "outputs": [
    {
     "data": {
      "image/png": "[encoded data removed]",
      "text/plain": [
       "<Figure size 1200x600 with 1 Axes>"
      ]
     },
     "metadata": {},
     "output_type": "display_data"
    }
   ],
   "source": [
    "get_histplot('calls_duration')\n",
    "plt.xlim(0,1600)\n",
    "plt.xlabel('\\nПродолжительность разговора в минутах');"
   ]
  },
  {
   "cell_type": "markdown",
   "id": "87cfb681-91a0-4359-bc68-a69b074538da",
   "metadata": {},
   "source": [
    "Распределение близко к нормальному. "
   ]
  },
  {
   "cell_type": "code",
   "execution_count": 105,
   "id": "e1b4984c-4211-403f-84f3-f8615ea77a21",
   "metadata": {},
   "outputs": [
    {
     "data": {
      "image/png": "[encoded data removed]",
      "text/plain": [
       "<Figure size 1200x600 with 1 Axes>"
      ]
     },
     "metadata": {},
     "output_type": "display_data"
    }
   ],
   "source": [
    "get_histplot('msg_count')\n",
    "plt.xlim(0,250)\n",
    "plt.xlabel('\\nКоличество отправленных сообщений');"
   ]
  },
  {
   "cell_type": "markdown",
   "id": "77959d82-da0a-402b-9281-96a0fa297fdd",
   "metadata": {},
   "source": [
    "Распределение ассиметрично, сильно скошено вправо. "
   ]
  },
  {
   "cell_type": "code",
   "execution_count": 106,
   "id": "c15957cc-75c7-469d-a56d-a68d924ff3c7",
   "metadata": {},
   "outputs": [
    {
     "data": {
      "image/png": "[encoded data removed]",
      "text/plain": [
       "<Figure size 1200x600 with 1 Axes>"
      ]
     },
     "metadata": {},
     "output_type": "display_data"
    }
   ],
   "source": [
    "get_histplot('gb_used')   \n",
    "plt.xlim(0,50)\n",
    "plt.xlabel('\\nКоличество израсходованного траффика, гб');"
   ]
  },
  {
   "cell_type": "markdown",
   "id": "8753c074-833e-427c-b1a7-84f6d80847fd",
   "metadata": {},
   "source": [
    "Распределение близко к нормальному. "
   ]
  },
  {
   "cell_type": "markdown",
   "id": "24cc857b-7ecb-47ee-8ee2-4b43c91a010e",
   "metadata": {},
   "source": [
    "### Ящики с усами"
   ]
  },
  {
   "cell_type": "markdown",
   "id": "16468f1e-2b97-45ed-95df-d71dbdaa1933",
   "metadata": {},
   "source": [
    "Построим и ящики с усами, чтобы лучше оценить разброс значений"
   ]
  },
  {
   "cell_type": "code",
   "execution_count": 107,
   "id": "07d29a10-6000-4dd6-ac56-ae38d947fe49",
   "metadata": {},
   "outputs": [
    {
     "data": {
      "image/png": "[encoded data removed]",
      "text/plain": [
       "<Figure size 500x500 with 1 Axes>"
      ]
     },
     "metadata": {},
     "output_type": "display_data"
    },
    {
     "data": {
      "image/png": "[encoded data removed]",
      "text/plain": [
       "<Figure size 500x500 with 1 Axes>"
      ]
     },
     "metadata": {},
     "output_type": "display_data"
    },
    {
     "data": {
      "image/png": "[encoded data removed]",
      "text/plain": [
       "<Figure size 500x500 with 1 Axes>"
      ]
     },
     "metadata": {},
     "output_type": "display_data"
    }
   ],
   "source": [
    "for column in ['calls_duration', 'msg_count', 'gb_used']:\n",
    "    sns.catplot(x='tariff', y=column, data=df, kind='box')\n",
    "    plt.title(column, fontsize=15)"
   ]
  },
  {
   "cell_type": "markdown",
   "id": "3b37c3f2-f164-418c-be99-f7834efdb072",
   "metadata": {},
   "source": [
    "У пользователей ultra гораздо больший размах значений. А среди значений тарифа smart гораздо больше выбросов."
   ]
  },
  {
   "cell_type": "markdown",
   "id": "935c5da7-10ff-44be-8e65-70f542124c6c",
   "metadata": {},
   "source": [
    "Посмотрим, сколько у нас всего пользователей для каждого тарифа"
   ]
  },
  {
   "cell_type": "code",
   "execution_count": 108,
   "id": "32a3b724-085b-400b-991e-bf2ecf170cea",
   "metadata": {},
   "outputs": [
    {
     "name": "stdout",
     "output_type": "stream",
     "text": [
      "Количество пользователей тарифа smart: 350\n",
      "Количество пользователей тарифа ultra: 148\n"
     ]
    }
   ],
   "source": [
    "sm = df[df['tariff'] == 'smart']\n",
    "print('Количество пользователей тарифа smart:', len(sm.user_id.unique()))\n",
    "ult = df[df['tariff'] == 'ultra']\n",
    "print('Количество пользователей тарифа ultra:', len(ult.user_id.unique()))"
   ]
  },
  {
   "cell_type": "markdown",
   "id": "306bebac-147e-4e61-bd28-6d350656c52d",
   "metadata": {},
   "source": [
    "У нас разное количество уникальных пользователей для тарифов smart и ultra. "
   ]
  },
  {
   "cell_type": "markdown",
   "id": "6ce5bbc7-8242-47c6-9cc1-0b004033aceb",
   "metadata": {},
   "source": [
    "### Вывод"
   ]
  },
  {
   "cell_type": "markdown",
   "id": "02b54b76-7e4f-417d-9bad-3afaaa98adf7",
   "metadata": {},
   "source": [
    "* Пользователей smart - 350 человек, а пользователей ultra -  148.\n",
    "\n",
    "* В среднем у пользователей тарифа ultra длительность звонков больше, чем у пользователей тарифа smart. Пользователь ultra в среднем тратит 489 минут в месяц, а пользователь smart - 398.\n",
    "\n",
    "* В среднем пользователи ultra используют больше интернет-трафика. Пользователь ultra в среднем тратит 19 гб в месяц, а пользователь smart - 17гб.\n",
    "\n",
    "* В среднем пользователи ultra отправляют больше сообщений, чем пользователи smart. Пользователь ultra в среднем отправляет 38 сообщений в месяц, а пользователь smart - 28.\n",
    "\n",
    "* Медиана количества сообщений и у ultra, и у smart сильно меньше среднего - данные по смс скошены вправо для обоих тарифов. Очень хорошо это видно и на нашей гистограмме. \n",
    "\n",
    "* Дисперсии (var), а значит размахи значений больше у тарифа ultra, а так же средние и медианы смещены для тарифа ultra в большую сторону, чем для тарифа smart. Это хорошо видно на ящиках с усами.\n",
    "    \n",
    "* Среди значений тарифа smart заметно больше выбросов в сравнении с тарифом ultra. \n",
    "\n",
    "* Распределения продолжительности звонков и использованного трафика для обоих тарифов близки к нормальному распределению и относительно симметричны. \n",
    "        \n",
    "* Тариф smart принес компании Мегалайн в 2018 году прибыль в 2 121 032 млн. руб, а тариф ultra - 2 041 350 млн. руб.  Однако мы не можем говорить о том, что тариф смарт выгоднее для компании, поскольку пользователей тарифа smart в нашей выборке - 350 человек, а пользователей ultra значительно меньше (в 2 раза) - 148 пользователей. \n",
    "    \n",
    "В следующем шаге выясним, различаются ли средние выручки от пользователей тарифов. "
   ]
  },
  {
   "cell_type": "markdown",
   "id": "cac18dcd-671c-43c0-b914-63b3149d9be3",
   "metadata": {},
   "source": [
    "<a name=\"stage_4\"></a>\n",
    "\n",
    "# Этап 4. Проверка гипотез\n",
    "\n",
    "\n",
    "[Наверх к оглавлению](#contents)"
   ]
  },
  {
   "cell_type": "markdown",
   "id": "0428e523-ee6f-4206-bd53-2262ee679c91",
   "metadata": {},
   "source": [
    "### Проверка гипотезы о равенстве средних выручек тарифов ultra и smart"
   ]
  },
  {
   "cell_type": "markdown",
   "id": "b641253b-60be-43b5-91cf-104563acecba",
   "metadata": {},
   "source": [
    "В данном исследовании также требуется проверить, что средняя выручка пользователей тарифов ultra и smart различаются.\n",
    "\n",
    "Сформулируем нулевую гипотезу:\n",
    "\n",
    "**H₀: Средняя выручка пользователей тарифов ultra и smart равна.**\n",
    "    \n",
    "Сформулируем альтерантивную гипотезу - это утверждение, которое становится верным, если отбрасывается нулевая гипотеза:\n",
    "\n",
    "**H₁: Средняя выручка пользователей тарифов ultra и smart не равны** (то есть различаются, что и просят нас понять  в данном исследовании).\n",
    "Такая альтернативная гипотеза называется двусторонней, потому что есть возможное отклонение и в большую, и в меньшую стороны.     \n",
    "    \n",
    "    "
   ]
  },
  {
   "cell_type": "markdown",
   "id": "bf343345-5c38-4da9-b0f2-b1c18f4502d5",
   "metadata": {},
   "source": [
    "Зададим уровень статистической значимости"
   ]
  },
  {
   "cell_type": "code",
   "execution_count": 109,
   "id": "e0ad625a-3b3d-4cb0-a3e2-c0672e453912",
   "metadata": {},
   "outputs": [],
   "source": [
    "alpha=.001 "
   ]
  },
  {
   "cell_type": "markdown",
   "id": "0830fdaf-0602-47e8-9460-69cde4a0c580",
   "metadata": {},
   "source": [
    "Делаем две подвыборки - для тарифа смарт и для тарифа ультра"
   ]
  },
  {
   "cell_type": "code",
   "execution_count": 110,
   "id": "742c0846-033f-4c51-a416-9cf8744214a9",
   "metadata": {},
   "outputs": [],
   "source": [
    "smart = df.query('tariff==\"smart\"')['revenue']\n",
    "ultra = df.query('tariff==\"ultra\"')['revenue']"
   ]
  },
  {
   "cell_type": "code",
   "execution_count": 111,
   "id": "77ff1419-01d0-4121-bef7-674700fa4dda",
   "metadata": {},
   "outputs": [
    {
     "name": "stdout",
     "output_type": "stream",
     "text": [
      "Размер выброки smart: 2229\n",
      "Размер выброки ultra: 985\n"
     ]
    }
   ],
   "source": [
    "print(\"Размер выброки smart:\", len(smart))\n",
    "print(\"Размер выброки ultra:\", len(ultra))"
   ]
  },
  {
   "cell_type": "markdown",
   "id": "648f7423-2b41-4dc6-881f-9f1f67412083",
   "metadata": {},
   "source": [
    "Выборки большие, но разного размера."
   ]
  },
  {
   "cell_type": "markdown",
   "id": "99eb5dc0-17e7-427c-b734-f7f51b7e432a",
   "metadata": {},
   "source": [
    "Посмотрим на дисперсии выборок по тарифам. Поскольку мы имеем дело не с генеральной совокупностью, а с выборками установим параметр ddof=1"
   ]
  },
  {
   "cell_type": "code",
   "execution_count": 112,
   "id": "3aa8deb2-c4b4-439c-b096-d365c3f0d4b1",
   "metadata": {},
   "outputs": [
    {
     "name": "stdout",
     "output_type": "stream",
     "text": [
      "Дисперсия выборки пользователей тарифа smart: 316604.3066433723\n",
      "Дисперсия выборки пользователей тарифа ultra: 141516.745078617\n"
     ]
    }
   ],
   "source": [
    "print('Дисперсия выборки пользователей тарифа smart:', smart.var(ddof=1))\n",
    "print('Дисперсия выборки пользователей тарифа ultra:', ultra.var(ddof=1))"
   ]
  },
  {
   "cell_type": "markdown",
   "id": "73cb0799-b7bc-485a-ba3e-fdb80a605f7f",
   "metadata": {},
   "source": [
    "Дисперсии различаются."
   ]
  },
  {
   "cell_type": "markdown",
   "id": "6d09f26c-3eda-444a-a6e3-322d799aae4e",
   "metadata": {},
   "source": [
    "Благодаря ЦПТ если размер выборки составляет хотя бы несколько десятков значений, выборочные средние, которые можно получить из одной и той же генеральной совокупности, будут распределены нормально вокруг истинного среднего этой совокупности. \n",
    "\n",
    "У нас достаточно большие выборки, чтобы не проверять нормальность распределения. К тому же, средние выручки выборок не зависят друг от друга. Поэтому проверим гипотезу, используя встроенную в библиотеку scipy функцию `ttest_ind, которая вычисляет уровень значимости критерия Стьюдента для двух независимых выборок`. \n",
    "\n",
    "Поскольку выборки у нас разного размера и есть сомнения, что дисперсии у совокупностей одинаковые, укажим параметр `equal_var` как False, и тест посчитает дисперсии выборок по отдельности.\n"
   ]
  },
  {
   "cell_type": "code",
   "execution_count": 113,
   "id": "7ce264f6-04db-42fe-abd3-8d532000da0a",
   "metadata": {},
   "outputs": [
    {
     "name": "stdout",
     "output_type": "stream",
     "text": [
      "p-значение: 0.0\n",
      "Отвергаем нулевую гипотезу\n"
     ]
    }
   ],
   "source": [
    "results = st.ttest_ind(smart, ultra, equal_var=False) \n",
    "print('p-значение:', results.pvalue)\n",
    "\n",
    "if (results.pvalue < alpha): #если p-value окажется меньше критического уровня значимости - отвегнем нулевую гипотезу \n",
    "    print(\"Отвергаем нулевую гипотезу\")\n",
    "else:\n",
    "    print(\"Не получилось отвергнуть нулевую гипотезу\")"
   ]
  },
  {
   "cell_type": "markdown",
   "id": "a7a69ced-6ef2-4053-95ee-ffec26859521",
   "metadata": {},
   "source": [
    "Тест показал, что средняя выручка тарифов смарт и ультра различаются."
   ]
  },
  {
   "cell_type": "markdown",
   "id": "ec9480d3-497e-4791-90bd-d63a2a5e0881",
   "metadata": {},
   "source": [
    "Посмотрим также на средние выручек по тарифам в сводной таблице:"
   ]
  },
  {
   "cell_type": "code",
   "execution_count": 114,
   "id": "e66a1f23-3233-4c5f-afef-367ba85b9c91",
   "metadata": {},
   "outputs": [
    {
     "data": {
      "text/plain": [
       "tariff\n",
       "smart     945.191566\n",
       "ultra    2070.152284\n",
       "Name: revenue, dtype: float64"
      ]
     },
     "execution_count": 114,
     "metadata": {},
     "output_type": "execute_result"
    }
   ],
   "source": [
    "df.groupby('tariff')['revenue'].mean()"
   ]
  },
  {
   "cell_type": "markdown",
   "id": "96f97855-aaef-492f-8008-08df782a1915",
   "metadata": {},
   "source": [
    "Да, средние выручки значительно (в 2 раза) отличаются."
   ]
  },
  {
   "cell_type": "markdown",
   "id": "79efda74-a30c-45fa-98e4-bab3680cc97d",
   "metadata": {},
   "source": [
    "### Проверка гипотезы о равенстве средних выручек для Москвы и других городов"
   ]
  },
  {
   "cell_type": "markdown",
   "id": "71e393e8-1555-4ef1-bf17-edcb2718843a",
   "metadata": {},
   "source": [
    "Нам нужно проверить, отличается ли средняя выручка для пользователей из Москвы от выручки пользователей других регионовю"
   ]
  },
  {
   "cell_type": "markdown",
   "id": "07d7f870-3980-49c2-8324-4472b28e625d",
   "metadata": {},
   "source": [
    "Сформулируем нулевую и альтернативную гипотезы:\n",
    "\n",
    "**H₀:  средняя выручка от пользователей из г. Москва равна средней выручке пользователей других городов**\n",
    "\n",
    "**H₁:  средние выручки не равны** (то есть отличаются, что нас и просят проверить)"
   ]
  },
  {
   "cell_type": "markdown",
   "id": "5fef466e-119a-4621-a8cc-f00d092ee08d",
   "metadata": {},
   "source": [
    "Зададим уровень критической статистической значимости"
   ]
  },
  {
   "cell_type": "code",
   "execution_count": 115,
   "id": "38272a87-082f-4bfb-85eb-83842658c0be",
   "metadata": {},
   "outputs": [],
   "source": [
    "alpha=.001"
   ]
  },
  {
   "cell_type": "markdown",
   "id": "794ebe40-9aaa-4883-b74b-38f20c1c0c22",
   "metadata": {},
   "source": [
    "Создадим две выборки: сохраним пользователей из Москвы и из других городов."
   ]
  },
  {
   "cell_type": "code",
   "execution_count": 116,
   "id": "703ee4fc-3984-45ff-9726-6867a9c2a032",
   "metadata": {},
   "outputs": [],
   "source": [
    "moscow = df[df['city'] == 'Москва']\n",
    "others = df[df['city'] != 'Москва']"
   ]
  },
  {
   "cell_type": "code",
   "execution_count": 117,
   "id": "92e8a8b0-8709-4310-8297-b99c32cedf75",
   "metadata": {},
   "outputs": [
    {
     "name": "stdout",
     "output_type": "stream",
     "text": [
      "Размер выброки пользователей г. Москвы: 611\n",
      "Размер выброки пользователей других городов: 2603\n"
     ]
    }
   ],
   "source": [
    "print(\"Размер выброки пользователей г. Москвы:\", len(moscow))\n",
    "print(\"Размер выброки пользователей других городов:\", len(others))"
   ]
  },
  {
   "cell_type": "markdown",
   "id": "4c01b667-c136-4e0d-a5c3-4bed82352fc9",
   "metadata": {},
   "source": [
    "Выборки достаточно большие, разного размера."
   ]
  },
  {
   "cell_type": "code",
   "execution_count": 118,
   "id": "99fc793c-8bb7-4c48-8a23-a2d8ee81aa51",
   "metadata": {},
   "outputs": [
    {
     "name": "stdout",
     "output_type": "stream",
     "text": [
      "Дисперсия выборки пользователей г. Москвы: 512180.68758552097\n",
      "Дисперсия выборки пользователей остальных городов: 535568.9834726234\n"
     ]
    }
   ],
   "source": [
    "print('Дисперсия выборки пользователей г. Москвы:', moscow['revenue'].var(ddof=1))\n",
    "print('Дисперсия выборки пользователей остальных городов:', others['revenue'].var(ddof=1))"
   ]
  },
  {
   "cell_type": "markdown",
   "id": "599fbffa-41fe-4b7e-bd4b-efcbc9aac0f3",
   "metadata": {},
   "source": [
    "Дисперсии несильно отличаются. "
   ]
  },
  {
   "cell_type": "markdown",
   "id": "9d80a0d2-bcc5-4768-a486-abf481792f87",
   "metadata": {},
   "source": [
    "Проведем t-тест, equal_var по умолчанию не трогаем, поскольку дисперсии не сильно отличаются. "
   ]
  },
  {
   "cell_type": "code",
   "execution_count": 119,
   "id": "4b9bcd70-2bc3-438c-ab41-3c0d4ef6c4e4",
   "metadata": {},
   "outputs": [
    {
     "name": "stdout",
     "output_type": "stream",
     "text": [
      "p-значение: 0.014365215901608927\n",
      "Не получилось отвергнуть нулевую гипотезу\n"
     ]
    }
   ],
   "source": [
    "results = st.ttest_ind(moscow['revenue'], others['revenue']) \n",
    "print('p-значение:', results.pvalue)\n",
    "\n",
    "if (results.pvalue < alpha): #если p-value окажется меньше критического уровня значимости - отвегнем нулевую гипотезу \n",
    "    print(\"Отвергаем нулевую гипотезу\")\n",
    "else:\n",
    "    print(\"Не получилось отвергнуть нулевую гипотезу\")"
   ]
  },
  {
   "cell_type": "markdown",
   "id": "69509120-338d-436a-81f4-976490b58150",
   "metadata": {},
   "source": [
    "В данном случае нам не удалось отвергнуть нулевую гипотезу. \n",
    "\n",
    "Хотя уровень значимости критерия Стьюдента получился невысоким, то есть всего с вероятностью чуть больше 1%, сравнивая средние выручки Москвы и других пользователей, мы бы получали схожие значения."
   ]
  },
  {
   "cell_type": "markdown",
   "id": "10f11ae2-ffae-425c-ac1c-a8639d77fefb",
   "metadata": {},
   "source": [
    "Проверим средние выручки в наших выборках для наглядности"
   ]
  },
  {
   "cell_type": "code",
   "execution_count": 120,
   "id": "516515a5-8dcb-4523-9f51-92ff678434d3",
   "metadata": {},
   "outputs": [
    {
     "name": "stdout",
     "output_type": "stream",
     "text": [
      "Средняя выручка пользователей Москвы:  1355\n",
      "Средняя выручка пользователей других городов:  1275\n"
     ]
    }
   ],
   "source": [
    "print('Средняя выручка пользователей Москвы: ', round(moscow['revenue'].mean()))\n",
    "print('Средняя выручка пользователей других городов: ', round(others['revenue'].mean()))"
   ]
  },
  {
   "cell_type": "markdown",
   "id": "4a399a0c-12e9-4c08-b9f7-403572401c4e",
   "metadata": {},
   "source": [
    "Как видим, действительно средние выручек не особо отличаются друг от друга по размеру. "
   ]
  },
  {
   "cell_type": "markdown",
   "id": "41a49f2d-151a-4661-b379-9baf422cdf03",
   "metadata": {},
   "source": [
    "<a name=\"stage_5\"></a>\n",
    "\n",
    "# Этап 5. Общий вывод\n",
    "\n",
    "[Наверх к оглавлению](#contents)"
   ]
  },
  {
   "cell_type": "markdown",
   "id": "fcc95552-0d16-416e-8f51-9cfea365a795",
   "metadata": {},
   "source": [
    "На этапе анализа данных мы вычислили основные показатели пользователей двух тарифов: среднее, медиану, дисперсию и стандартное отклонение, и смогли сделать следующие выводы:\n",
    "\n",
    "* В среднем пользователь smart проговаривает 398 минуты в месяц, а пользователь ultra - 489 минут.\n",
    "\n",
    "* В среднем пользователь smart использует 16.5 гб. трафика, а пользователь тарифа ultra - 19 гб.\n",
    "\n",
    "* В среднем пользователь smart отправляет 28 сообщений, а пользователь тарифа ultra - 38.\n",
    "\n",
    "* Дисперсии тарифа ultra больше, чем у тарифа smart, это значит, размах значений у ultra больше, чем у смарт.\n",
    "\n",
    "Мы провели статистический анализ и c помощью t-критерия Стьюдента, выбрав уровень значимости  𝛼=0.1%, проверили следующие две нулевые гипотезы:\n",
    "    \n",
    "   1. Средние выручки от пользователей smart и ultra равны.\n",
    "   \n",
    "   2. Средние выручки от пользователей-жителей Москвы равны средним выручкам из других городов.\n",
    "    \n",
    "Альтернативные гипотезы звучали как: средние выручки не равны. \n",
    "\n",
    "* В случае с разными тарифами мы отвергли нулевую гипотезу, и сделали вывод о том, что мы можем с вероятностью 99,9% утверждать, что средняя выручка пользователя тарифа smart и тарифа ultra отличаются.\n",
    "\n",
    "* В случае с пользователями из Москвы и других городов мы не смогли отвергнуть нулевую гипотезу и сделали вывод о том, что, сравнивая средние выручки, мы бы получали схожие значения.\n",
    "\n",
    "Исследуя выручку по каждому тарифу, мы выяснили следующее:\n",
    "\n",
    "* Годовая выручка от пользователей тарифа smart составляет 2 121 032 млн. руб, а от пользователей ultra - 2 041 350 млн. руб. \n",
    "При этом стоит помнить, что количество поьзователей для каждого тарифа разное: 350 - для smart и 148 - для ultra. \n",
    "\n",
    "* В среднем в месяц пользователь тарифа ultra приносит 1950 рублей, а пользователь тарифа smart - 700 рублей, что говорит нам о том, что среднестатистический пользователь тарифа smart выходит за лимиты тарифа и переплачивает.\n",
    "Возможно, это может приводить таких клиентов к более дорогому тарифу ultra. В целом тариф ultra выглядит более прибыльным тарифом и привлечение здесь клиентов значительно бы увеличило доход компании. \n",
    "\n",
    "\n",
    "\n"
   ]
  },
  {
   "cell_type": "markdown",
   "id": "dbf0783e-30d1-4053-a0b3-8c7218535760",
   "metadata": {},
   "source": [
    "# Спасибо за внимание!"
   ]
  }
 ],
 "metadata": {
  "kernelspec": {
   "display_name": "Python 3 (ipykernel)",
   "language": "python",
   "name": "python3"
  },
  "language_info": {
   "codemirror_mode": {
    "name": "ipython",
    "version": 3
   },
   "file_extension": ".py",
   "mimetype": "text/x-python",
   "name": "python",
   "nbconvert_exporter": "python",
   "pygments_lexer": "ipython3",
   "version": "3.9.13"
  }
 },
 "nbformat": 4,
 "nbformat_minor": 5
}
