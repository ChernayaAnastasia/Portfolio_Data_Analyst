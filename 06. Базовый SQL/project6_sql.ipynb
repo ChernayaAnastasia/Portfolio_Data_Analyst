{
 "cells": [
  {
   "cell_type": "markdown",
   "id": "4e78b619-3cad-42d1-a7c2-b914c325e6c4",
   "metadata": {},
   "source": [
    "# Проект по Базовому SQL "
   ]
  },
  {
   "cell_type": "markdown",
   "id": "29b6e480-161c-4d2d-b1c1-8b45d5c01229",
   "metadata": {},
   "source": [
    "<a name=\"contents\"></a> \n",
    "\n",
    "# Содержание исследования\n",
    "\n",
    "## [Знакомство с базой данных](#stage_1)\n",
    "\n",
    "* Важные понятия из БД\n",
    "* ER-диаграмма\n",
    "* Подробное описание таблиц \n",
    "   \n",
    "## [Задачи проекта и их решения](#stage_2)\n"
   ]
  },
  {
   "cell_type": "markdown",
   "id": "b74d967a-4f8c-466e-8fa6-608c450679b8",
   "metadata": {
    "tags": []
   },
   "source": [
    "<a name='stage_1'></a>\n",
    "\n",
    "# Знакомство с базой данных\n",
    "\n",
    "[Наверх к оглавлению](#contents)\n"
   ]
  },
  {
   "cell_type": "markdown",
   "id": "c62dff8c-430b-488d-acc7-fa870fad392a",
   "metadata": {},
   "source": [
    "В самостоятельном проекте этого курса вы будете работать с базой данных, которая хранит информацию о венчурных фондах и инвестициях в компании-стартапы. \n",
    "\n",
    "Эта база данных основана на датасете [Startup Investments](https://www.kaggle.com/justinas/startup-investments), опубликованном на популярной платформе для соревнований по исследованию данных Kaggle.\n",
    "\n",
    "Анализировать рынок инвестиций без подготовки может быть непросто. Поэтому сначала познакомьтесь с важными понятиями, которые вам встретятся в работе с базой данных.\n",
    "\n",
    "*Венчурные фонды* — это финансовые организации, которые могут позволить себе высокий риск и инвестировать в компании с инновационной бизнес-идеей или разработанной новой технологией, то есть в стартапы.\n",
    "Цель венчурных фондов — в будущем получить значительную прибыль, которая в разы превысит размер их трат на инвестиции в компанию. Если стартап подорожает, венчурный фонд может получить долю в компании или фиксированный процент от её выручки.\n",
    "\n",
    "Чтобы процесс финансирования стал менее рискованным, его делят на стадии — *раунды*. Тот или иной раунд зависит от того, какого уровня развития достигла компания.\n",
    "\n",
    "Первые этапы — **предпосевной и посевной раунды**. \n",
    "\n",
    "Предпосевной раунд предполагает, что компания как таковая ещё не создана и находится в стадии замысла. \n",
    "\n",
    "Следующий — посевной — раунд знаменует рост проекта: создатели компании разрабатывают бизнес-модель и привлекают инвесторов.\n",
    "\n",
    "Если компании требуется ментор или наставник — она привлекает бизнес-ангела. *Бизнес-ангелы* — инвесторы, которые помимо финансовой поддержки предлагают экспертную помощь. Такой раунд называют **ангельским**.\n",
    "\n",
    "Когда стартап становится компанией с проверенной бизнес-моделью и начинает зарабатывать самостоятельно, предложений инвесторов становится больше. Это **раунд A**, а за ним следуют и другие: **B, C, D** — на этих этапах компания активно развивается и готовится к IPO (первое публичное размещение акций компаний).\n",
    "\n",
    "Иногда выделяют **венчурный раунд** — финансирование, которое могло поступить от венчурного фонда на любом этапе: начальном или более позднем.\n",
    "\n",
    "В данных об инвестициях вам встретятся упоминания раундов, но самостоятельный проект не предполагает, что вы должны разбираться в их специфике лучше любого инвестора. Главное — понимать, как устроены данные."
   ]
  },
  {
   "cell_type": "markdown",
   "id": "cfbb8590-4565-4b95-b448-e3bfa5305768",
   "metadata": {},
   "source": [
    "Вы уже знаете, что такое ER-диаграмма. Работу с новой базой данных лучше начать с изучения схемы."
   ]
  },
  {
   "cell_type": "markdown",
   "id": "8eddc3f3-f9ef-4cd5-8546-71610361ffe0",
   "metadata": {},
   "source": [
    "![title](ER-схема_для_проекта.png)"
   ]
  },
  {
   "cell_type": "markdown",
   "id": "67598851-f46e-4050-80d8-165f2d186813",
   "metadata": {},
   "source": [
    "Теперь можно познакомиться с данными, которые хранят таблицы."
   ]
  },
  {
   "cell_type": "markdown",
   "id": "7943bf7e-3bd9-4f99-8d19-d39eebea2f7d",
   "metadata": {},
   "source": [
    "## acquisition\n"
   ]
  },
  {
   "cell_type": "markdown",
   "id": "31b35a27-d769-4e38-b763-a89dcc3fdcb8",
   "metadata": {},
   "source": [
    "Содержит информацию о покупках одних компаний другими.\n",
    "\n",
    "Таблица включает такие поля:\n",
    "\n",
    "* первичный ключ id — идентификатор или уникальный номер покупки;\n",
    "\n",
    "* внешний ключ acquiring_company_id — ссылается на таблицу company — идентификатор компании-покупателя, то есть той, что покупает другую компанию;\n",
    "\n",
    "* внешний ключ acquired_company_id — ссылается на таблицу company — идентификатор компании, которую покупают;\n",
    "\n",
    "* term_code — способ оплаты сделки:\n",
    "\n",
    "    cash — наличными;\n",
    "\n",
    "     stock — акциями компании;\n",
    "\n",
    "    cash_and_stock — смешанный тип оплаты: наличные и акции.\n",
    "\n",
    "* price_amount — сумма покупки в долларах;\n",
    "\n",
    "* acquired_at — дата совершения сделки;\n",
    "\n",
    "* created_at — дата и время создания записи в таблице;\n",
    "\n",
    "* updated_at — дата и время обновления записи в таблице."
   ]
  },
  {
   "cell_type": "markdown",
   "id": "e10a992b-76e8-4851-98fe-d0d8f1692c37",
   "metadata": {},
   "source": [
    "## company\n"
   ]
  },
  {
   "cell_type": "markdown",
   "id": "1d20417e-bcad-46cc-b08e-0abd43c576ee",
   "metadata": {},
   "source": [
    "\n",
    "Содержит информацию о компаниях-стартапах."
   ]
  },
  {
   "cell_type": "markdown",
   "id": "b84f318f-88c6-407e-9aa1-9a550fb701ea",
   "metadata": {},
   "source": [
    "* первичный ключ id — идентификатор, или уникальный номер компании;\n",
    "\n",
    "* name — название компании;\n",
    "\n",
    "* category_code — категория деятельности компании, например:\n",
    "\n",
    "    news — специализируется на работе с новостями;\n",
    "\n",
    "    social — специализируется на социальной работе.\n",
    "\n",
    "* status — статус компании:\n",
    "\n",
    "        acquired — приобретена;\n",
    "\n",
    "        operating — действует;\n",
    "\n",
    "        ipo — вышла на IPO;\n",
    "\n",
    "        closed — перестала существовать.\n",
    "\n",
    "* founded_at — дата основания компании;\n",
    "\n",
    "* closed_at — дата закрытия компании, которую указывают в том случае, если компании больше не существует;\n",
    "\n",
    "* domain — домен сайта компании;\n",
    "\n",
    "* twitter_username — название профиля компании в твиттере;\n",
    "\n",
    "* country_code — код страны, например, USA для США, GBR для Великобритании;\n",
    "\n",
    "* investment_rounds — число раундов, в которых компания участвовала как инвестор;\n",
    "\n",
    "* funding_rounds — число раундов, в которых компания привлекала инвестиции;\n",
    "\n",
    "* funding_total — сумма привлечённых инвестиций в долларах;\n",
    "\n",
    "* milestones — количество важных этапов в истории компании;\n",
    "\n",
    "* created_at — дата и время создания записи в таблице;\n",
    "\n",
    "* updated_at — дата и время обновления записи в таблице.\n",
    "\n"
   ]
  },
  {
   "cell_type": "markdown",
   "id": "a3e30344-9400-4230-a5c8-aeeef8cd1156",
   "metadata": {},
   "source": [
    "## education"
   ]
  },
  {
   "cell_type": "markdown",
   "id": "acbbc212-c265-4bb1-8171-3a5dc8b885fe",
   "metadata": {},
   "source": [
    "\n",
    "\n",
    "\n",
    "Хранит информацию об уровне образования сотрудников компаний.\n",
    "\n",
    "* первичный ключ id — уникальный номер записи с информацией об образовании;\n",
    "\n",
    "* внешний ключ person_id — ссылается на таблицу people — идентификатор человека, информация о котором представлена в записи;\n",
    "\n",
    "* degree_type — учебная степень, например:\n",
    "\n",
    "    BA — Bachelor of Arts — бакалавр гуманитарных наук;\n",
    "\n",
    "    MS — Master of Science — магистр естественных наук.\n",
    "\n",
    "* instituition — учебное заведение, название университета;\n",
    "\n",
    "* graduated_at — дата завершения обучения, выпуска;\n",
    "\n",
    "* created_at — дата и время создания записи в таблице;\n",
    "\n",
    "* updated_at — дата и время обновления записи в таблице.\n"
   ]
  },
  {
   "cell_type": "markdown",
   "id": "adfedbf5-278d-4488-9051-6f7d4ec1c5b4",
   "metadata": {
    "tags": []
   },
   "source": [
    "## fund"
   ]
  },
  {
   "cell_type": "markdown",
   "id": "2a4ac964-0304-47a2-8466-1672c7cca7e0",
   "metadata": {},
   "source": [
    "Хранит информацию о венчурных фондах.\n",
    "\n",
    "* первичный ключ id — уникальный номер венчурного фонда;\n",
    "\n",
    "* name — название венчурного фонда;\n",
    "\n",
    "* founded_at — дата основания фонда;\n",
    "\n",
    "* domain — домен сайта фонда;\n",
    "\n",
    "* twitter_username — профиль фонда в твиттере;\n",
    "\n",
    "* country_code — код страны фонда;\n",
    "\n",
    "* investment_rounds — число инвестиционных раундов, в которых фонд принимал участие;\n",
    "\n",
    "* invested_companies — число компаний, в которые инвестировал фонд;\n",
    "\n",
    "* milestones — количество важных этапов в истории фонда;\n",
    "\n",
    "* created_at — дата и время создания записи в таблице;\n",
    "\n",
    "* updated_at — дата и время обновления записи в таблице."
   ]
  },
  {
   "cell_type": "markdown",
   "id": "1d8a6bf2-432e-4fdc-b5a5-5869e4ee35bf",
   "metadata": {},
   "source": [
    "## funding_round"
   ]
  },
  {
   "cell_type": "markdown",
   "id": "ca80c236-300d-40cb-b0b3-3d5ab07cb3c8",
   "metadata": {},
   "source": [
    "Содержит информацию о раундах инвестиций.\n",
    "\n",
    "* первичный ключ id — уникальный номер инвестиционного раунда;\n",
    "\n",
    "* внешний ключ company_id — ссылается на таблицу company — уникальный номер компании, участвовавшей в инвестиционном раунде;\n",
    "\n",
    "* funded_at — дата проведения раунда;\n",
    "\n",
    "* funding_round_type — тип инвестиционного раунда, например:\n",
    "\n",
    "    venture — венчурный раунд;\n",
    "\n",
    "    angel — ангельский раунд;\n",
    "\n",
    "    series_a — раунд А.\n",
    "\n",
    "* raised_amount — сумма инвестиций, которую привлекла компания в этом раунде в долларах;\n",
    "\n",
    "* pre_money_valuation — предварительная, проведённая до инвестиций оценка стоимости компании в долларах;\n",
    "\n",
    "* participants — количество участников инвестиционного раунда;\n",
    "\n",
    "* is_first_round — является ли этот раунд первым для компании;\n",
    "\n",
    "* is_last_round — является ли этот раунд последним для компании;\n",
    "\n",
    "* created_at — дата и время создания записи в таблице;\n",
    "\n",
    "* updated_at — дата и время обновления записи в таблице.\n",
    "\n"
   ]
  },
  {
   "cell_type": "markdown",
   "id": "26e69bf1-8c26-4200-b012-5957dff16ff4",
   "metadata": {},
   "source": [
    "## investment\n"
   ]
  },
  {
   "cell_type": "markdown",
   "id": "fa5a1d4b-5c0e-462e-8f9f-09b8ed7bd61f",
   "metadata": {},
   "source": [
    "Содержит информацию об инвестициях венчурных фондов в компании-стартапы.\n",
    "\n",
    "* первичный ключ id — уникальный номер инвестиции;\n",
    "\n",
    "* внешний ключ funding_round_id — ссылается на таблицу funding_round — уникальный номер раунда инвестиции;\n",
    "\n",
    "* внешний ключ company_id — ссылается на таблицу company — уникальный номер компании-стартапа, в которую инвестируют;\n",
    "\n",
    "* внешний ключ fund_id — ссылается на таблицу fund — уникальный номер фонда, инвестирующего в компанию-стартап;\n",
    "\n",
    "* created_at — дата и время создания записи в таблице;\n",
    "\n",
    "* updated_at — дата и время обновления записи в таблице."
   ]
  },
  {
   "cell_type": "markdown",
   "id": "041433ec-1cc5-4207-9d5b-54f9f9c70628",
   "metadata": {},
   "source": [
    "## people"
   ]
  },
  {
   "cell_type": "markdown",
   "id": "b6716cdb-9ba1-4a7c-a40c-638bb9535c99",
   "metadata": {},
   "source": [
    "\n",
    "Содержит информацию о сотрудниках компаний-стартапов.\n",
    "\n",
    "* первичный ключ id — уникальный номер сотрудника;\n",
    "\n",
    "* first_name — имя сотрудника;\n",
    "\n",
    "* last_name — фамилия сотрудника;\n",
    "\n",
    "* внешний ключ company_id — ссылается на таблицу company — уникальный номер компании-стартапа;\n",
    "\n",
    "* twitter_username — профиль сотрудника в твиттере;\n",
    "\n",
    "* created_at — дата и время создания записи в таблице;\n",
    "\n",
    "* updated_at — дата и время обновления записи в таблице."
   ]
  },
  {
   "cell_type": "markdown",
   "id": "330d6e20-d9f3-4e23-a7d4-be83ecf390da",
   "metadata": {},
   "source": [
    "<a name='stage_2'></a>\n",
    "# ЗАДАЧИ ПРОЕКТА\n",
    "[Назад к оглавлению](#contents)"
   ]
  },
  {
   "cell_type": "markdown",
   "id": "89a93bab-e677-4791-9ffb-55139e701fec",
   "metadata": {},
   "source": [
    "## Задача 1\n",
    "\n",
    "Посчитайте, сколько компаний закрылось."
   ]
  },
  {
   "cell_type": "markdown",
   "id": "03fd58be-527b-4f20-9123-33c617d7ddfe",
   "metadata": {},
   "source": [
    "SELECT COUNT(status)\n",
    "FROM company\n",
    "WHERE status = 'closed'"
   ]
  },
  {
   "cell_type": "markdown",
   "id": "e36959d5-280e-43fb-84f4-cff42f8e8213",
   "metadata": {},
   "source": [
    "## Задача 2\n",
    "Отобразите количество привлечённых средств для новостных компаний США. Используйте данные из таблицы company. Отсортируйте таблицу по убыванию значений в поле funding_total ."
   ]
  },
  {
   "cell_type": "code",
   "execution_count": null,
   "id": "37343a83-5b8c-4170-9c41-cb884c8b5ed7",
   "metadata": {},
   "outputs": [],
   "source": [
    "SELECT funding_total \n",
    "FROM company\n",
    "WHERE category_code = 'news' AND country_code = 'USA'\n",
    "ORDER BY funding_total DESC; "
   ]
  },
  {
   "cell_type": "markdown",
   "id": "07738bfb-7cbf-4605-91ce-4f4d3823f4b6",
   "metadata": {},
   "source": [
    "## Задача 3\n",
    "Найдите общую сумму сделок по покупке одних компаний другими в долларах. Отберите сделки, которые осуществлялись только за наличные с 2011 по 2013 год включительно."
   ]
  },
  {
   "cell_type": "code",
   "execution_count": null,
   "id": "59905998-f4ef-47ae-8277-0cebb163df06",
   "metadata": {},
   "outputs": [],
   "source": [
    "SELECT SUM(price_amount)\n",
    "FROM acquisition\n",
    "WHERE term_code = 'cash' AND EXTRACT (YEAR FROM CAST (acquired_at as date)) BETWEEN 2011 AND 2013;"
   ]
  },
  {
   "cell_type": "markdown",
   "id": "928f83ba-81c9-49c7-a31e-15788b19544b",
   "metadata": {},
   "source": [
    "## Задача 4\n",
    "Отобразите имя, фамилию и названия аккаунтов людей в твиттере, у которых названия аккаунтов начинаются на 'Silver'."
   ]
  },
  {
   "cell_type": "code",
   "execution_count": null,
   "id": "2a971d89-3734-466d-aecd-93f889ed4fab",
   "metadata": {},
   "outputs": [],
   "source": [
    "SELECT first_name, last_name, twitter_username\n",
    "FROM people\n",
    "WHERE twitter_username LIKE 'Silver%';"
   ]
  },
  {
   "cell_type": "markdown",
   "id": "fd594b94-9300-489e-af35-28c056b05e3a",
   "metadata": {},
   "source": [
    "## Задача 5\n",
    "\n",
    "Выведите на экран всю информацию о людях, у которых названия аккаунтов в твиттере содержат подстроку 'money', а фамилия начинается на 'K'."
   ]
  },
  {
   "cell_type": "code",
   "execution_count": null,
   "id": "a8a2bd94-6775-4b8f-9753-b23a9a042f76",
   "metadata": {},
   "outputs": [],
   "source": [
    "SELECT *\n",
    "FROM people\n",
    "WHERE twitter_username LIKE '%money%' AND last_name LIKE 'K%';"
   ]
  },
  {
   "cell_type": "markdown",
   "id": "c551d674-1ec2-455c-a54f-5f51343d9985",
   "metadata": {},
   "source": [
    "## 6. Задача 6\n",
    "Для каждой страны отобразите общую сумму привлечённых инвестиций, которые получили компании, зарегистрированные в этой стране. \n",
    "Страну, в которой зарегистрирована компания, можно определить по коду страны. Отсортируйте данные по убыванию суммы."
   ]
  },
  {
   "cell_type": "code",
   "execution_count": null,
   "id": "a3cbadf1-581a-45ff-94fa-c0834d27995c",
   "metadata": {},
   "outputs": [],
   "source": [
    "SELECT SUM(funding_total), country_code\n",
    "FROM company\n",
    "GROUP BY country_code\n",
    "ORDER BY sum DESC;"
   ]
  },
  {
   "cell_type": "markdown",
   "id": "2e6b9188-2b70-4817-be6b-01b466ecb4c4",
   "metadata": {},
   "source": [
    "## Задача 7\n",
    "\n",
    "Составьте таблицу, в которую войдёт дата проведения раунда, а также минимальное и максимальное значения суммы инвестиций, привлечённых в эту дату.\n",
    "\n",
    "Оставьте в итоговой таблице только те записи, в которых минимальное значение суммы инвестиций не равно нулю и не равно максимальному значению."
   ]
  },
  {
   "cell_type": "code",
   "execution_count": null,
   "id": "827280a9-b20e-4cca-b800-fcbf3ee7ea54",
   "metadata": {},
   "outputs": [],
   "source": [
    "SELECT funded_at,\n",
    "    MIN(raised_amount),\n",
    "    MAX(raised_amount)\n",
    "FROM funding_round\n",
    "GROUP BY funded_at\n",
    "HAVING MIN(raised_amount) <> 0 AND MIN(raised_amount) <> MAX(raised_amount)"
   ]
  },
  {
   "cell_type": "markdown",
   "id": "07247ca4-778a-480a-8a9d-d2722900d2e2",
   "metadata": {},
   "source": [
    "## Задача 8\n",
    "\n",
    "Создайте поле с категориями:\n",
    "\n",
    "    Для фондов, которые инвестируют в 100 и более компаний, назначьте категорию high_activity.\n",
    "\n",
    "    Для фондов, которые инвестируют в 20 и более компаний до 100, назначьте категорию middle_activity.\n",
    "\n",
    "Если количество инвестируемых компаний фонда не достигает 20, назначьте категорию low_activity.\n",
    "Отобразите все поля таблицы fund и новое поле с категориями."
   ]
  },
  {
   "cell_type": "code",
   "execution_count": null,
   "id": "099d8221-e59f-431f-bd7a-4aae56d96cea",
   "metadata": {},
   "outputs": [],
   "source": [
    "SELECT *,\n",
    "    CASE\n",
    "        WHEN invested_companies >= 100  THEN 'high_activity'\n",
    "        WHEN invested_companies >= 20 AND invested_companies < 100 THEN 'middle_activity'\n",
    "        WHEN invested_companies < 20 THEN 'low_activity'\n",
    "    END AS activity\n",
    "FROM fund;\n",
    "\n"
   ]
  },
  {
   "cell_type": "markdown",
   "id": "3337c2e1-96df-4d30-963f-1a5c6fd02db8",
   "metadata": {},
   "source": [
    "## Задача 9\n",
    "\n",
    "Для каждой из категорий, назначенных в предыдущем задании, посчитайте округлённое до ближайшего целого числа среднее количество инвестиционных раундов, в которых фонд принимал участие. Выведите на экран категории и среднее число инвестиционных раундов. Отсортируйте таблицу по возрастанию среднего."
   ]
  },
  {
   "cell_type": "code",
   "execution_count": null,
   "id": "514473be-2725-4338-89ec-b3e97bac29f6",
   "metadata": {},
   "outputs": [],
   "source": [
    "SELECT ROUND(AVG(investment_rounds)) AS average_rounds,\n",
    "       CASE\n",
    "           WHEN invested_companies>=100 THEN 'high_activity'\n",
    "           WHEN invested_companies>=20 THEN 'middle_activity'\n",
    "           ELSE 'low_activity'\n",
    "       END AS activity\n",
    "FROM fund\n",
    "GROUP BY activity\n",
    "ORDER BY average_rounds;"
   ]
  },
  {
   "cell_type": "markdown",
   "id": "8fbb4edd-dee1-45b1-ac78-539a7ad33714",
   "metadata": {},
   "source": [
    "## Задача 10\n",
    "\n",
    "Выгрузите таблицу с десятью самыми активными инвестирующими странами. Активность страны определите по среднему количеству компаний, в которые инвестируют фонды этой страны.\n",
    "\n",
    "Для каждой страны посчитайте минимальное, максимальное и среднее число компаний, в которые инвестировали фонды, основанные с 2010 по 2012 год включительно.\n",
    "\n",
    "Исключите из таблицы страны с фондами, у которых минимальное число компаний, получивших инвестиции, равно нулю. Отсортируйте таблицу по среднему количеству компаний от большего к меньшему.\n",
    "\n",
    "Для фильтрации диапазона по годам используйте оператор BETWEEN."
   ]
  },
  {
   "cell_type": "code",
   "execution_count": null,
   "id": "fec6366a-ca68-4087-b3e2-c7f434e7c7ae",
   "metadata": {},
   "outputs": [],
   "source": [
    "SELECT AVG(invested_companies),\n",
    "    MIN(invested_companies),\n",
    "    MAX(invested_companies),\n",
    "    country_code\n",
    "FROM fund\n",
    "WHERE EXTRACT(YEAR FROM CAST(founded_at AS date)) BETWEEN 2010 AND 2012\n",
    "GROUP BY country_code\n",
    "HAVING MIN(invested_companies) <> 0\n",
    "ORDER BY AVG(invested_companies) DESC\n",
    "LIMIT 10;"
   ]
  },
  {
   "cell_type": "markdown",
   "id": "4e97a695-906d-4e92-b048-07a702a0bf92",
   "metadata": {},
   "source": [
    "Такой вариант ниже **не работает** (column “fund.founded_at” must appear in the GROUP BY clause or be used in an aggregate function). \n",
    "Почему - поясняет преподаватель Олег Булыгин:\n",
    "\"стоит запомнить, что столбцы, по которым делается отбор через агрегтаные функции по having (а это отбор после группировки) обязательно должны быть в группировке (group by)\""
   ]
  },
  {
   "cell_type": "code",
   "execution_count": null,
   "id": "97f53385-d809-4dc7-9094-acb3b7d465df",
   "metadata": {},
   "outputs": [],
   "source": [
    "SELECT AVG(invested_companies),\n",
    "    MIN(invested_companies),\n",
    "    MAX(invested_companies),\n",
    "    country_code\n",
    "FROM fund\n",
    "GROUP BY country_code\n",
    "HAVING MIN(invested_companies) <> 0 AND EXTRACT(YEAR FROM CAST(founded_at AS date)) BETWEEN 2010 AND 2012\n",
    "ORDER BY AVG(invested_companies) DESC\n",
    "LIMIT 10;"
   ]
  },
  {
   "cell_type": "markdown",
   "id": "56a7a9f6-14b1-4bcf-bcea-e4444b00ae63",
   "metadata": {},
   "source": [
    "## Задача 11\n",
    "Отобразите имя и фамилию всех сотрудников стартапов. Добавьте поле с названием учебного заведения, которое окончил сотрудник, если эта информация известна."
   ]
  },
  {
   "cell_type": "code",
   "execution_count": null,
   "id": "2db4a5c0-1446-4633-8b27-38aac2418e5d",
   "metadata": {},
   "outputs": [],
   "source": [
    "SELECT first_name ,\n",
    "        last_name,\n",
    "    e.instituition    \n",
    "FROM people AS p\n",
    "LEFT JOIN education AS e ON p.id = e.person_id;"
   ]
  },
  {
   "cell_type": "markdown",
   "id": "82b6b480-0136-456c-9d77-82243675f149",
   "metadata": {},
   "source": [
    "## Задача 12\n",
    "Для каждой компании найдите количество учебных заведений, которые окончили её сотрудники. \n",
    "\n",
    "Выведите название компании и число уникальных названий учебных заведений. Составьте топ-5 компаний по количеству университетов."
   ]
  },
  {
   "cell_type": "code",
   "execution_count": null,
   "id": "7d2c9223-95f0-40c9-b27a-064e52da98a4",
   "metadata": {},
   "outputs": [],
   "source": [
    "SELECT COUNT(DISTINCT(e.instituition)) AS count_inst,\n",
    "        c.name\n",
    "FROM people AS p\n",
    "LEFT JOIN company AS c ON p.company_id = c.id\n",
    "LEFT JOIN education AS e ON p.id = e.person_id\n",
    "WHERE c.name IS NOT NULL \n",
    "GROUP BY c.name\n",
    "ORDER BY count_inst DESC\n",
    "LIMIT 5;\n",
    "        "
   ]
  },
  {
   "cell_type": "markdown",
   "id": "97b3b266-e20a-4a18-b24c-84ffd7f5146d",
   "metadata": {},
   "source": [
    "## Задача 13\n",
    "Составьте список с уникальными названиями закрытых компаний, для которых первый раунд финансирования оказался последним."
   ]
  },
  {
   "cell_type": "code",
   "execution_count": null,
   "id": "96d271d5-18cb-4b7a-a283-51e6c6764815",
   "metadata": {},
   "outputs": [],
   "source": [
    "SELECT DISTINCT(name)\n",
    "FROM company AS c\n",
    "WHERE status = 'closed' \n",
    "AND c.id IN (SELECT fr.company_id\n",
    "                  FROM funding_round AS fr\n",
    "                  WHERE fr.is_first_round = 1 AND fr.is_last_round = 1)"
   ]
  },
  {
   "cell_type": "markdown",
   "id": "e0ac3476-2205-4931-affd-f39ce8979d20",
   "metadata": {},
   "source": [
    "## Задача 14\n",
    "Составьте список уникальных номеров сотрудников, которые работают в компаниях, отобранных в предыдущем задании."
   ]
  },
  {
   "cell_type": "code",
   "execution_count": null,
   "id": "83ec74be-0967-492f-9fb1-ddaf590421bc",
   "metadata": {},
   "outputs": [],
   "source": [
    "SELECT DISTINCT(p.id)\n",
    "FROM people as p\n",
    "WHERE p.company_id IN (SELECT id\n",
    "                       FROM company\n",
    "                        WHERE company.name IN (SELECT DISTINCT(name)\n",
    "                                               FROM company AS c\n",
    "                                               WHERE status = 'closed' \n",
    "                                               AND c.id IN (SELECT fr.company_id\n",
    "                                               FROM funding_round AS fr\n",
    "                                               WHERE fr.is_first_round = 1 AND fr.is_last_round = 1)));"
   ]
  },
  {
   "cell_type": "markdown",
   "id": "e9a888c9-b160-4f04-a996-410313b727ac",
   "metadata": {},
   "source": [
    "## Задача 15\n",
    "Составьте таблицу, куда войдут уникальные пары с номерами сотрудников из предыдущей задачи и учебным заведением, которое окончил сотрудник."
   ]
  },
  {
   "cell_type": "markdown",
   "id": "a53292db-74d7-46be-9637-7070c64c6bf1",
   "metadata": {},
   "source": [
    "WITH\n",
    "--- Сохраняем во временную таблицу наш фильтр для основного запроса\n",
    "filt_data AS (SELECT DISTINCT(p.id)\n",
    "FROM people as p\n",
    "WHERE p.company_id IN (SELECT id\n",
    "                       FROM company\n",
    "                        WHERE company.name IN (SELECT DISTINCT(name)\n",
    "                                               FROM company AS c\n",
    "                                               WHERE status = 'closed' \n",
    "                                               AND c.id IN (SELECT fr.company_id\n",
    "                                               FROM funding_round AS fr\n",
    "                                               WHERE fr.is_first_round = 1 AND fr.is_last_round = 1))))\n",
    "\n",
    "SELECT filt_data.id,\n",
    "       e.instituition\n",
    "FROM filt_data\n",
    "LEFT JOIN education AS e ON filt_data.id = e.person_id\n",
    "WHERE e.instituition IS NOT NULL;\n"
   ]
  },
  {
   "cell_type": "markdown",
   "id": "e430944d-abec-434a-ad44-f8d4a90a1732",
   "metadata": {},
   "source": [
    "## Задача 16\n",
    "Посчитайте количество учебных заведений для каждого сотрудника из предыдущего задания."
   ]
  },
  {
   "cell_type": "code",
   "execution_count": null,
   "id": "c0738c0b-6ac2-4841-8216-d3b521a8c70c",
   "metadata": {},
   "outputs": [],
   "source": [
    "WITH\n",
    "--- Сохраняем во временную таблицу наш фильтр для основного запроса\n",
    "filt_data AS (SELECT DISTINCT(p.id)\n",
    "FROM people as p\n",
    "WHERE p.company_id IN (SELECT id\n",
    "                       FROM company\n",
    "                        WHERE company.name IN (SELECT DISTINCT(name)\n",
    "                                               FROM company AS c\n",
    "                                               WHERE status = 'closed' \n",
    "                                               AND c.id IN (SELECT fr.company_id\n",
    "                                               FROM funding_round AS fr\n",
    "                                               WHERE fr.is_first_round = 1 AND fr.is_last_round = 1))))\n",
    "\n",
    "SELECT filt_data.id,\n",
    "       ---e.instituition,\n",
    "       COUNT( e.instituition)\n",
    "FROM filt_data\n",
    "LEFT JOIN education AS e ON filt_data.id = e.person_id\n",
    "WHERE e.instituition IS NOT NULL\n",
    "GROUP BY filt_data.id;"
   ]
  },
  {
   "cell_type": "markdown",
   "id": "9b255a1e-147c-4084-9bca-83da4dd407be",
   "metadata": {},
   "source": [
    "![title](124.png)"
   ]
  },
  {
   "cell_type": "markdown",
   "id": "6ffbd6e0-3879-4e82-9491-661a307345f3",
   "metadata": {},
   "source": [
    "## Задача 17\n",
    "Выведите среднее число учебных заведений, которые окончили сотрудники разных компаний. Нужно вывести только одну запись, группировка здесь не понадобится."
   ]
  },
  {
   "cell_type": "code",
   "execution_count": null,
   "id": "0507082b-0d0a-4f53-b045-5fb44183843a",
   "metadata": {},
   "outputs": [],
   "source": [
    "WITH\n",
    "--- Сохраняем во временную таблицу наш фильтр для основного запроса\n",
    "filt_data AS (SELECT DISTINCT(p.id)\n",
    "FROM people as p\n",
    "WHERE p.company_id IN (SELECT id\n",
    "                       FROM company\n",
    "                        WHERE company.name IN (SELECT DISTINCT(name)\n",
    "                                               FROM company AS c\n",
    "                                               WHERE status = 'closed' \n",
    "                                               AND c.id IN (SELECT fr.company_id\n",
    "                                               FROM funding_round AS fr\n",
    "                                               WHERE fr.is_first_round = 1 AND fr.is_last_round = 1)))),\n",
    " \n",
    "filt_data2 AS \n",
    "(SELECT filt_data.id,\n",
    "       ---e.instituition,\n",
    "       COUNT( e.instituition)\n",
    "FROM filt_data\n",
    "LEFT JOIN education AS e ON filt_data.id = e.person_id\n",
    "WHERE e.instituition IS NOT NULL\n",
    "GROUP BY filt_data.id)\n",
    "\n",
    "SELECT AVG(filt_data2.count)\n",
    "FROM  filt_data2;"
   ]
  },
  {
   "cell_type": "code",
   "execution_count": null,
   "id": "3b4bedbd-3890-4e28-860f-f801063f5dd1",
   "metadata": {},
   "outputs": [],
   "source": [
    "avg\n",
    "1.41509"
   ]
  },
  {
   "cell_type": "markdown",
   "id": "f56381d1-121d-4cd2-9f4c-5d942f6fb4a1",
   "metadata": {},
   "source": [
    "**Второй способ решения с подзапросами**:"
   ]
  },
  {
   "cell_type": "code",
   "execution_count": null,
   "id": "c0a0c26e-c4ce-48d8-991f-e09717cd02fe",
   "metadata": {},
   "outputs": [],
   "source": [
    "SELECT AVG(t.total_instituition)\n",
    "FROM (SELECT p.id, \n",
    "      COUNT(e.instituition) AS total_instituition\n",
    "      FROM people AS p JOIN education AS e ON p.id = e.person_id\n",
    "      WHERE p.company_id IN (SELECT id  \n",
    "                    FROM company \n",
    "                    WHERE status = 'closed' \n",
    "                     AND id IN \n",
    "                     (SELECT company_id FROM funding_round \n",
    "                     WHERE is_first_round = 1 \n",
    "                     AND is_last_round = 1))\n",
    "     GROUP BY p.id) AS t"
   ]
  },
  {
   "cell_type": "markdown",
   "id": "e3cf5dd1-a758-4799-b15d-ccec749de28d",
   "metadata": {},
   "source": [
    "## Задача 18\n",
    "Выведите среднее число учебных заведений, которые окончили сотрудники компании Facebook."
   ]
  },
  {
   "cell_type": "code",
   "execution_count": null,
   "id": "cf2a4829-8e1e-4c8d-b8a3-52eb9d715444",
   "metadata": {},
   "outputs": [],
   "source": [
    "SELECT AVG(t.total_instituition)\n",
    "FROM (SELECT p.id, \n",
    "      COUNT(e.instituition) AS total_instituition\n",
    "      FROM people AS p JOIN education AS e ON p.id = e.person_id\n",
    "      WHERE p.company_id IN (SELECT id  \n",
    "                    FROM company \n",
    "                    WHERE company.name = 'Facebook')\n",
    "     GROUP BY p.id) AS t"
   ]
  },
  {
   "cell_type": "markdown",
   "id": "10338760-02af-464c-81d6-5285b8f3303d",
   "metadata": {},
   "source": [
    "## Задача 19\n",
    "\n",
    "Составьте таблицу из полей:\n",
    "\n",
    "    name_of_fund — название фонда;\n",
    "\n",
    "    name_of_company — название компании;\n",
    "\n",
    "    amount — сумма инвестиций, которую привлекла компания во всех раундах 2012 и 2013 годов.\n",
    "\n",
    "В таблицу войдут данные о компаниях, в истории которых было больше шести важных этапов, а раунды финансирования проходили с 2012 по 2013 год включительно."
   ]
  },
  {
   "cell_type": "code",
   "execution_count": null,
   "id": "f20589b4-6172-44de-8dd3-f9f2a62063b7",
   "metadata": {},
   "outputs": [],
   "source": [
    "SELECT c.name AS name_of_company, \n",
    "        fr.raised_amount AS amount,\n",
    "        f.name AS name_of_fund\n",
    "FROM investment  AS i\n",
    "INNER JOIN company AS c ON i.company_id = c.id \n",
    "INNER JOIN fund AS f ON f.id = i.fund_id\n",
    "INNER JOIN funding_round AS fr ON i.funding_round_id = fr.id\n",
    "WHERE c.milestones > 6 AND EXTRACT (YEAR FROM CAST(fr.funded_at as date)) BETWEEN 2012 AND 2013;"
   ]
  },
  {
   "cell_type": "markdown",
   "id": "adbe2106-6e21-416d-9fd9-e6595eed5fe8",
   "metadata": {},
   "source": [
    "## Задача 20\n",
    "\n",
    "Выгрузите таблицу, в которой будут такие поля:\n",
    "\n",
    "    название компании-покупателя;\n",
    "\n",
    "    сумма сделки;\n",
    "\n",
    "    название компании, которую купили;\n",
    "\n",
    "    сумма инвестиций, вложенных в купленную компанию;\n",
    "\n",
    "    доля, которая отображает, во сколько раз сумма покупки превысила сумму вложенных в компанию инвестиций, округлённая до ближайшего целого числа.\n",
    "\n",
    "Не учитывайте те сделки, в которых сумма покупки равна нулю. Если сумма инвестиций в компанию равна нулю, исключите такую компанию из таблицы.\n",
    "Отсортируйте таблицу по сумме сделки от большей к меньшей, а затем по названию купленной компании в алфавитном порядке. Ограничьте таблицу первыми десятью записями."
   ]
  },
  {
   "cell_type": "code",
   "execution_count": null,
   "id": "42a5fb79-8768-4c32-9cf5-cab679d46182",
   "metadata": {},
   "outputs": [],
   "source": [
    "SELECT acquiring_company.name AS acquiring_company_name, \n",
    "       a.price_amount AS amount, \n",
    "       acquired_company.name AS acquired_company_name, \n",
    "       acquired_company.funding_total AS total, \n",
    "       ROUND(a.price_amount/acquired_company.funding_total)\n",
    "FROM acquisition AS a \n",
    "INNER JOIN company AS acquiring_company ON a.acquiring_company_id=acquiring_company.id\n",
    "INNER JOIN company AS acquired_company ON a.acquired_company_id=acquired_company.id\n",
    "WHERE a.price_amount > 0\n",
    "  AND acquired_company.funding_total > 0\n",
    "ORDER BY amount DESC,\n",
    "         acquired_company_name\n",
    "LIMIT 10;\n"
   ]
  },
  {
   "cell_type": "markdown",
   "id": "243003a9-3959-45a9-b1bd-ebf818d67649",
   "metadata": {},
   "source": [
    "## Задача 21\n",
    "\n",
    "Выгрузите таблицу, в которую войдут названия компаний из категории social, получившие финансирование с 2010 по 2013 год. Выведите также номер месяца, в котором проходил раунд финансирования."
   ]
  },
  {
   "cell_type": "code",
   "execution_count": null,
   "id": "94a926cc-6615-4beb-9826-204e37692e7c",
   "metadata": {},
   "outputs": [],
   "source": [
    "SELECT EXTRACT (MONTH FROM CAST(funded_at as date)) as month,\n",
    "        c.name\n",
    "FROM funding_round AS fr\n",
    "LEFT JOIN company AS c ON fr.company_id = c.id\n",
    "WHERE EXTRACT (YEAR FROM CAST(fr.funded_at as date)) BETWEEN 2010 AND 2013 AND\n",
    "        c.category_code = 'social'"
   ]
  },
  {
   "cell_type": "markdown",
   "id": "ff144c86-c975-433a-aae7-606f3489e262",
   "metadata": {},
   "source": [
    "## Задача 22\n",
    "\n",
    "Отберите данные по месяцам с 2010 по 2013 год, когда проходили инвестиционные раунды. Сгруппируйте данные по номеру месяца и получите таблицу, в которой будут поля:\n",
    "\n",
    "    номер месяца, в котором проходили раунды;\n",
    "\n",
    "    количество уникальных названий фондов из США, которые инвестировали в этом месяце;\n",
    "\n",
    "    количество компаний, купленных за этот месяц;\n",
    "\n",
    "    общая сумма сделок по покупкам в этом месяце."
   ]
  },
  {
   "cell_type": "code",
   "execution_count": null,
   "id": "da131deb-2fa0-4989-819b-165bf1a06985",
   "metadata": {},
   "outputs": [],
   "source": [
    "WITH\n",
    "--- временная таблица с количеством уникальных названий фондов из США  + месяцы\n",
    "tab1 AS (SELECT EXTRACT(MONTH\n",
    "                  FROM fr.funded_at) AS month,\n",
    "        COUNT(DISTINCT f.name) AS count_fund_companies\n",
    "FROM funding_round AS fr\n",
    "LEFT JOIN investment AS i ON i.funding_round_id = fr.id\n",
    "LEFT JOIN fund AS f ON i.fund_id = f.id\n",
    "WHERE EXTRACT(YEAR\n",
    "                 FROM fr.funded_at) BETWEEN 2010 AND 2013\n",
    "     AND f.country_code = 'USA'\n",
    "GROUP BY MONTH),\n",
    "\n",
    "---временная таблица с количеством уникальных купленных компаний за период 2010-2013 + общая сумма сделок + месяцы\n",
    "\n",
    "tab2 AS (SELECT COUNT(a.acquired_company_id) as count_acquired_companies,\n",
    "                SUM(a.price_amount) AS total_sum,\n",
    "                EXTRACT (MONTH FROM a.acquired_at) AS month\n",
    "        FROM acquisition AS a\n",
    "        WHERE EXTRACT (YEAR FROM a.acquired_at) BETWEEN 2010 AND 2013\n",
    "        GROUP BY month)\n",
    "        \n",
    "SELECT tab1.month,\n",
    "        tab1.count_fund_companies,\n",
    "        tab2.count_acquired_companies,\n",
    "        tab2.total_sum\n",
    "FROM tab1\n",
    "LEFT JOIN tab2 ON tab1.month = tab2.month;"
   ]
  },
  {
   "cell_type": "markdown",
   "id": "f35a5926-ba8e-46c3-a1ab-545a0e7518da",
   "metadata": {},
   "source": [
    "Код ниже неверный, потому что тут нельзя объединить подсчет count_unique_fund_names и count_acquired_companies в одном запросе, потому что их отбор выполняется по разным условиям."
   ]
  },
  {
   "cell_type": "code",
   "execution_count": null,
   "id": "10aada5a-ea41-438e-8994-637f174e4c1e",
   "metadata": {},
   "outputs": [],
   "source": [
    "SELECT EXTRACT (MONTH FROM CAST(funded_at as date)) as month,\n",
    "        COUNT(DISTINCT(f.name)),\n",
    "       COUNT(a.acquired_company_id),\n",
    "        SUM(a.price_amount) \n",
    "FROM funding_round AS fr\n",
    "LEFT JOIN company AS c ON fr.company_id = c.id\n",
    "LEFT JOIN investment AS i ON fr.id = i.funding_round_id \n",
    "LEFT JOIN fund AS f ON i.fund_id = f.id\n",
    "LEFT JOIN acquisition AS a ON c.id = a.acquired_company_id\n",
    "WHERE EXTRACT (YEAR FROM CAST(fr.funded_at as date)) BETWEEN 2010 AND 2013 \n",
    "    AND f.country_code = 'USA'\n",
    "       "
   ]
  },
  {
   "cell_type": "markdown",
   "id": "5400c64f-4c5c-4901-b486-5ced4ab2cc03",
   "metadata": {},
   "source": [
    "## Задача 23\n",
    "\n",
    "Составьте сводную таблицу и выведите среднюю сумму инвестиций для стран, в которых есть стартапы, зарегистрированные в 2011, 2012 и 2013 годах. Данные за каждый год должны быть в отдельном поле. Отсортируйте таблицу по среднему значению инвестиций за 2011 год от большего к меньшему."
   ]
  },
  {
   "cell_type": "markdown",
   "id": "1da37a83-c2da-467a-87b5-a176da72ee81",
   "metadata": {},
   "source": [
    "Поле c DISTINCT должно идти первым в селекте, \"т.к. сначала должны отбрасываться дубли и только потом делать отборы в соответствие с оставшимися значениями\""
   ]
  },
  {
   "cell_type": "code",
   "execution_count": null,
   "id": "f010a38e-e53f-4452-a5b3-d54389fb5f26",
   "metadata": {},
   "outputs": [],
   "source": [
    "WITH\n",
    "t_2011 AS (SELECT DISTINCT(country_code) as country,\n",
    "               AVG(funding_total) AS average --- сумма привлеченных инвестиций             \n",
    "           FROM company \n",
    "           WHERE EXTRACT(YEAR FROM founded_at) = 2011\n",
    "           GROUP BY country),\n",
    "\n",
    "t_2012 AS (SELECT DISTINCT(country_code) AS country,\n",
    "                  AVG(funding_total) AS average --- сумма привлеченных инвестиций              \n",
    "           FROM company \n",
    "           WHERE EXTRACT(YEAR FROM founded_at) = 2012\n",
    "            GROUP BY country), \n",
    "\n",
    "t_2013 AS (SELECT DISTINCT(country_code) AS country,\n",
    "                  AVG(funding_total) AS average --- сумма привлеченных инвестиций\n",
    "           FROM company \n",
    "           WHERE EXTRACT(YEAR FROM founded_at) = 2013\n",
    "           GROUP BY country)\n",
    "\n",
    "SELECT t_2011.average,\n",
    "       t_2012.average,\n",
    "       t_2013.average,\n",
    "       t_2011.country\n",
    "FROM t_2011 INNER JOIN t_2012 ON t_2011.country = t_2012.country\n",
    "INNER JOIN t_2013 ON t_2012.country = t_2013.country\n",
    "ORDER BY t_2011.average DESC"
   ]
  }
 ],
 "metadata": {
  "kernelspec": {
   "display_name": "Python 3 (ipykernel)",
   "language": "python",
   "name": "python3"
  },
  "language_info": {
   "codemirror_mode": {
    "name": "ipython",
    "version": 3
   },
   "file_extension": ".py",
   "mimetype": "text/x-python",
   "name": "python",
   "nbconvert_exporter": "python",
   "pygments_lexer": "ipython3",
   "version": "3.9.13"
  }
 },
 "nbformat": 4,
 "nbformat_minor": 5
}
