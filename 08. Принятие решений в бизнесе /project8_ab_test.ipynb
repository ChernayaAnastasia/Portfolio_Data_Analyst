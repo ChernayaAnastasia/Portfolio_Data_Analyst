{
 "cells": [
  {
   "cell_type": "markdown",
   "id": "5f6e013a-4942-4907-8288-b0f7ee77974f",
   "metadata": {},
   "source": [
    "# А/B тестирование"
   ]
  },
  {
   "cell_type": "markdown",
   "id": "2f8a73af-6dee-4f64-ad8f-e638d49b25a3",
   "metadata": {},
   "source": [
    "**Цель исследования** \n",
    "\n",
    "Приоритизировать гипотезы для увеличения выручки и проанализировать результат A/B-теста.\n",
    "\n",
    "**Задачи исследования**\n",
    "\n",
    "ПЕРВАЯ ЧАСТЬ:\n",
    "* Применить фреймворк ICE для приоритизации гипотез.\n",
    "* Применить фреймворк RICE для приоритизации гипотез.\n",
    "* Сделать вывод о том, какая гипотеза наиболее перспективная для тестирования.\n",
    "\n",
    "ВТОРАЯ ЧАСТЬ:\n",
    "* Построить график кумулятивной выручки по группам. Сделать выводы и предположения.\n",
    "* Построить график кумулятивного среднего чека по группам. Сделать выводы и предположения.\n",
    "* Построить график относительного изменения кумулятивного среднего чека группы B к группе A. Сделать выводы и предположения.\n",
    "* Построить график кумулятивной конверсии по группам. Сделать выводы и предположения.\n",
    "* Построить график относительного изменения кумулятивной конверсии группы B к группе A. Сделать выводы и предположения.\n",
    "* Построить точечный график количества заказов по пользователям. Сделать выводы и предположения.\n",
    "* Посчитать 95-й и 99-й перцентили количества заказов на пользователя. Выбрать границу для определения аномальных пользователей.\n",
    "* Построить точечный график стоимостей заказов. Сделать выводы и предположения.\n",
    "* Посчитать 95-й и 99-й перцентили стоимости заказов. Выбрать границу для определения аномальных заказов.\n",
    "* Посчитать статистическую значимость различий в конверсии между группами по «сырым» данным. Сделать выводы и предположения.\n",
    "* Посчитать статистическую значимость различий в среднем чеке заказа между группами по «сырым» данным. Сделать выводы и предположения.\n",
    "* Посчитать статистическую значимость различий в конверсии между группами по «очищенным» данным. Сделать выводы и предположения.\n",
    "* Посчитать статистическую значимость различий в среднем чеке заказа между группами по «очищенным» данным. Сделайте выводы и предположения.\n",
    "* Принять решение по результатам теста и объяснить его. \n",
    "\n",
    "**Входные данные** \n",
    "\n",
    "Файл hypothesis.csv, в котором 9 гипотез по увеличению выручки интернет-магазина с указанными параметрами Reach, Impact, Confidence, Effort.\n",
    "\n",
    "Файлы  orders.csv и visitors.csv, в которых описаны результаты A/B-теста.   \n",
    "\n",
    "**Практическое применение результатов исследования**\n",
    "\n",
    "Помочь руководству крупного интернет-магазина выбрать наиоблее перспективную идею о том, как увеличить выручку, либо определить неэффективные идеи."
   ]
  },
  {
   "cell_type": "markdown",
   "id": "88a850c2-fcde-4db7-a8b5-1ef9a07b8031",
   "metadata": {},
   "source": [
    "<a name='contents'> </a> \n",
    "# Содержание исследования\n",
    "\n",
    "## [Загрузка и предобработка данных](#stage_1)\n",
    "\n",
    "* Описание данных\n",
    "* Промежуточный вывод\n",
    "\n",
    "## [Приоритизация гипотез](#stage_2)\n",
    "\n",
    "* Применение фреймворка ICE для приоритизации гипотез\n",
    "* Применение фреймворка RICE для приоритизации гипотез\n",
    "\n",
    "## [Анализ A/B-теста](#stage_3)\n",
    "\n",
    "* График кумулятивной выручки по группам.\n",
    "* График кумулятивного среднего чека по группам.\n",
    "* График относительного изменения кумулятивного среднего чека группы B к группе  A.\n",
    "* График кумулятивной конверсии по группам.\n",
    "* График относительного изменения кумулятивной конверсии группы B к группе A.\n",
    "* Точечный график количества заказов по посетителям.\n",
    "* 95-й и 99-й перцентили стоимости заказов\n",
    "* Статистическая значимость различий в конверсии между группами по сырым данным.\n",
    "* Статистическая значимость различий в среднем чеке заказа между группами по сырым данным.\n",
    "* Статистическая значимость различий в конверсии между группами по очищенным данным. \n",
    "* Статистическая значимость различий в среднем чеке заказа между группами по очищенным данным. \n",
    "\n",
    "## [Общий вывод](#stage_4)"
   ]
  },
  {
   "cell_type": "markdown",
   "id": "a671b5e6-d7c6-4622-ac8b-e0097838fddd",
   "metadata": {},
   "source": [
    "<a name='stage_1'></a>\n",
    "# Шаг 1. Загрузка и предобработка данных\n",
    "\n",
    "[Назад к оглавлению](#contents)"
   ]
  },
  {
   "cell_type": "markdown",
   "id": "126534ba-8e6a-433f-9f0a-21292740d2e0",
   "metadata": {},
   "source": [
    "Импорт библиотек "
   ]
  },
  {
   "cell_type": "code",
   "execution_count": 1,
   "id": "77e9ac6b-0bc0-418a-b829-8263ec43dfe8",
   "metadata": {},
   "outputs": [],
   "source": [
    "import pandas as pd\n",
    "import numpy as np\n",
    "import datetime as dt\n",
    "from matplotlib import pyplot as plt\n",
    "from scipy import stats\n",
    "import warnings\n",
    "warnings.filterwarnings('ignore')"
   ]
  },
  {
   "cell_type": "code",
   "execution_count": 2,
   "id": "aeb9384c-c31f-4fcb-a506-d3cc6a668b0d",
   "metadata": {},
   "outputs": [],
   "source": [
    "hypothesis = pd.read_csv('data/hypothesis.csv')\n",
    "visitors = pd.read_csv('data/visitors.csv') \n",
    "orders = pd.read_csv('data/orders.csv')"
   ]
  },
  {
   "cell_type": "markdown",
   "id": "75051740-0019-46cc-b120-1cf988fa11a7",
   "metadata": {},
   "source": [
    "Посмотрим, как загрузились наши данные"
   ]
  },
  {
   "cell_type": "code",
   "execution_count": 3,
   "id": "1a3f7d91-606a-4871-8e3b-299692400bc6",
   "metadata": {
    "tags": []
   },
   "outputs": [
    {
     "name": "stdout",
     "output_type": "stream",
     "text": [
      "\n"
     ]
    },
    {
     "data": {
      "text/html": [
       "<div>\n",
       "<style scoped>\n",
       "    .dataframe tbody tr th:only-of-type {\n",
       "        vertical-align: middle;\n",
       "    }\n",
       "\n",
       "    .dataframe tbody tr th {\n",
       "        vertical-align: top;\n",
       "    }\n",
       "\n",
       "    .dataframe thead th {\n",
       "        text-align: right;\n",
       "    }\n",
       "</style>\n",
       "<table border=\"1\" class=\"dataframe\">\n",
       "  <thead>\n",
       "    <tr style=\"text-align: right;\">\n",
       "      <th></th>\n",
       "      <th>Hypothesis</th>\n",
       "      <th>Reach</th>\n",
       "      <th>Impact</th>\n",
       "      <th>Confidence</th>\n",
       "      <th>Efforts</th>\n",
       "    </tr>\n",
       "  </thead>\n",
       "  <tbody>\n",
       "    <tr>\n",
       "      <th>0</th>\n",
       "      <td>Добавить два новых канала привлечения трафика,...</td>\n",
       "      <td>3</td>\n",
       "      <td>10</td>\n",
       "      <td>8</td>\n",
       "      <td>6</td>\n",
       "    </tr>\n",
       "    <tr>\n",
       "      <th>1</th>\n",
       "      <td>Запустить собственную службу доставки, что сок...</td>\n",
       "      <td>2</td>\n",
       "      <td>5</td>\n",
       "      <td>4</td>\n",
       "      <td>10</td>\n",
       "    </tr>\n",
       "    <tr>\n",
       "      <th>2</th>\n",
       "      <td>Добавить блоки рекомендаций товаров на сайт ин...</td>\n",
       "      <td>8</td>\n",
       "      <td>3</td>\n",
       "      <td>7</td>\n",
       "      <td>3</td>\n",
       "    </tr>\n",
       "    <tr>\n",
       "      <th>3</th>\n",
       "      <td>Изменить структура категорий, что увеличит кон...</td>\n",
       "      <td>8</td>\n",
       "      <td>3</td>\n",
       "      <td>3</td>\n",
       "      <td>8</td>\n",
       "    </tr>\n",
       "    <tr>\n",
       "      <th>4</th>\n",
       "      <td>Изменить цвет фона главной страницы, чтобы уве...</td>\n",
       "      <td>3</td>\n",
       "      <td>1</td>\n",
       "      <td>1</td>\n",
       "      <td>1</td>\n",
       "    </tr>\n",
       "  </tbody>\n",
       "</table>\n",
       "</div>"
      ],
      "text/plain": [
       "                                          Hypothesis  Reach  Impact  \\\n",
       "0  Добавить два новых канала привлечения трафика,...      3      10   \n",
       "1  Запустить собственную службу доставки, что сок...      2       5   \n",
       "2  Добавить блоки рекомендаций товаров на сайт ин...      8       3   \n",
       "3  Изменить структура категорий, что увеличит кон...      8       3   \n",
       "4  Изменить цвет фона главной страницы, чтобы уве...      3       1   \n",
       "\n",
       "   Confidence  Efforts  \n",
       "0           8        6  \n",
       "1           4       10  \n",
       "2           7        3  \n",
       "3           3        8  \n",
       "4           1        1  "
      ]
     },
     "metadata": {},
     "output_type": "display_data"
    },
    {
     "name": "stdout",
     "output_type": "stream",
     "text": [
      "\n",
      "\n"
     ]
    },
    {
     "data": {
      "text/html": [
       "<div>\n",
       "<style scoped>\n",
       "    .dataframe tbody tr th:only-of-type {\n",
       "        vertical-align: middle;\n",
       "    }\n",
       "\n",
       "    .dataframe tbody tr th {\n",
       "        vertical-align: top;\n",
       "    }\n",
       "\n",
       "    .dataframe thead th {\n",
       "        text-align: right;\n",
       "    }\n",
       "</style>\n",
       "<table border=\"1\" class=\"dataframe\">\n",
       "  <thead>\n",
       "    <tr style=\"text-align: right;\">\n",
       "      <th></th>\n",
       "      <th>date</th>\n",
       "      <th>group</th>\n",
       "      <th>visitors</th>\n",
       "    </tr>\n",
       "  </thead>\n",
       "  <tbody>\n",
       "    <tr>\n",
       "      <th>0</th>\n",
       "      <td>2019-08-01</td>\n",
       "      <td>A</td>\n",
       "      <td>719</td>\n",
       "    </tr>\n",
       "    <tr>\n",
       "      <th>1</th>\n",
       "      <td>2019-08-02</td>\n",
       "      <td>A</td>\n",
       "      <td>619</td>\n",
       "    </tr>\n",
       "    <tr>\n",
       "      <th>2</th>\n",
       "      <td>2019-08-03</td>\n",
       "      <td>A</td>\n",
       "      <td>507</td>\n",
       "    </tr>\n",
       "    <tr>\n",
       "      <th>3</th>\n",
       "      <td>2019-08-04</td>\n",
       "      <td>A</td>\n",
       "      <td>717</td>\n",
       "    </tr>\n",
       "    <tr>\n",
       "      <th>4</th>\n",
       "      <td>2019-08-05</td>\n",
       "      <td>A</td>\n",
       "      <td>756</td>\n",
       "    </tr>\n",
       "  </tbody>\n",
       "</table>\n",
       "</div>"
      ],
      "text/plain": [
       "         date group  visitors\n",
       "0  2019-08-01     A       719\n",
       "1  2019-08-02     A       619\n",
       "2  2019-08-03     A       507\n",
       "3  2019-08-04     A       717\n",
       "4  2019-08-05     A       756"
      ]
     },
     "metadata": {},
     "output_type": "display_data"
    },
    {
     "name": "stdout",
     "output_type": "stream",
     "text": [
      "\n",
      "\n"
     ]
    },
    {
     "data": {
      "text/html": [
       "<div>\n",
       "<style scoped>\n",
       "    .dataframe tbody tr th:only-of-type {\n",
       "        vertical-align: middle;\n",
       "    }\n",
       "\n",
       "    .dataframe tbody tr th {\n",
       "        vertical-align: top;\n",
       "    }\n",
       "\n",
       "    .dataframe thead th {\n",
       "        text-align: right;\n",
       "    }\n",
       "</style>\n",
       "<table border=\"1\" class=\"dataframe\">\n",
       "  <thead>\n",
       "    <tr style=\"text-align: right;\">\n",
       "      <th></th>\n",
       "      <th>transactionId</th>\n",
       "      <th>visitorId</th>\n",
       "      <th>date</th>\n",
       "      <th>revenue</th>\n",
       "      <th>group</th>\n",
       "    </tr>\n",
       "  </thead>\n",
       "  <tbody>\n",
       "    <tr>\n",
       "      <th>0</th>\n",
       "      <td>3667963787</td>\n",
       "      <td>3312258926</td>\n",
       "      <td>2019-08-15</td>\n",
       "      <td>1650</td>\n",
       "      <td>B</td>\n",
       "    </tr>\n",
       "    <tr>\n",
       "      <th>1</th>\n",
       "      <td>2804400009</td>\n",
       "      <td>3642806036</td>\n",
       "      <td>2019-08-15</td>\n",
       "      <td>730</td>\n",
       "      <td>B</td>\n",
       "    </tr>\n",
       "    <tr>\n",
       "      <th>2</th>\n",
       "      <td>2961555356</td>\n",
       "      <td>4069496402</td>\n",
       "      <td>2019-08-15</td>\n",
       "      <td>400</td>\n",
       "      <td>A</td>\n",
       "    </tr>\n",
       "    <tr>\n",
       "      <th>3</th>\n",
       "      <td>3797467345</td>\n",
       "      <td>1196621759</td>\n",
       "      <td>2019-08-15</td>\n",
       "      <td>9759</td>\n",
       "      <td>B</td>\n",
       "    </tr>\n",
       "    <tr>\n",
       "      <th>4</th>\n",
       "      <td>2282983706</td>\n",
       "      <td>2322279887</td>\n",
       "      <td>2019-08-15</td>\n",
       "      <td>2308</td>\n",
       "      <td>B</td>\n",
       "    </tr>\n",
       "  </tbody>\n",
       "</table>\n",
       "</div>"
      ],
      "text/plain": [
       "   transactionId   visitorId        date  revenue group\n",
       "0     3667963787  3312258926  2019-08-15     1650     B\n",
       "1     2804400009  3642806036  2019-08-15      730     B\n",
       "2     2961555356  4069496402  2019-08-15      400     A\n",
       "3     3797467345  1196621759  2019-08-15     9759     B\n",
       "4     2282983706  2322279887  2019-08-15     2308     B"
      ]
     },
     "metadata": {},
     "output_type": "display_data"
    },
    {
     "name": "stdout",
     "output_type": "stream",
     "text": [
      "\n"
     ]
    }
   ],
   "source": [
    "for df in [hypothesis, visitors, orders]:\n",
    "    print()\n",
    "    display(df.head())\n",
    "    print()"
   ]
  },
  {
   "cell_type": "markdown",
   "id": "e4983749-1226-48b2-b547-69800ba4cb56",
   "metadata": {},
   "source": [
    "Изменим названия столбцов в датафрейме с гипотезами для удобства работы с ним."
   ]
  },
  {
   "cell_type": "code",
   "execution_count": 4,
   "id": "e3632c35-050b-48de-92a6-7ff94c20431e",
   "metadata": {},
   "outputs": [
    {
     "data": {
      "text/html": [
       "<div>\n",
       "<style scoped>\n",
       "    .dataframe tbody tr th:only-of-type {\n",
       "        vertical-align: middle;\n",
       "    }\n",
       "\n",
       "    .dataframe tbody tr th {\n",
       "        vertical-align: top;\n",
       "    }\n",
       "\n",
       "    .dataframe thead th {\n",
       "        text-align: right;\n",
       "    }\n",
       "</style>\n",
       "<table border=\"1\" class=\"dataframe\">\n",
       "  <thead>\n",
       "    <tr style=\"text-align: right;\">\n",
       "      <th></th>\n",
       "      <th>hypothesis</th>\n",
       "      <th>reach</th>\n",
       "      <th>impact</th>\n",
       "      <th>confidence</th>\n",
       "      <th>efforts</th>\n",
       "    </tr>\n",
       "  </thead>\n",
       "  <tbody>\n",
       "    <tr>\n",
       "      <th>0</th>\n",
       "      <td>Добавить два новых канала привлечения трафика,...</td>\n",
       "      <td>3</td>\n",
       "      <td>10</td>\n",
       "      <td>8</td>\n",
       "      <td>6</td>\n",
       "    </tr>\n",
       "    <tr>\n",
       "      <th>1</th>\n",
       "      <td>Запустить собственную службу доставки, что сок...</td>\n",
       "      <td>2</td>\n",
       "      <td>5</td>\n",
       "      <td>4</td>\n",
       "      <td>10</td>\n",
       "    </tr>\n",
       "    <tr>\n",
       "      <th>2</th>\n",
       "      <td>Добавить блоки рекомендаций товаров на сайт ин...</td>\n",
       "      <td>8</td>\n",
       "      <td>3</td>\n",
       "      <td>7</td>\n",
       "      <td>3</td>\n",
       "    </tr>\n",
       "    <tr>\n",
       "      <th>3</th>\n",
       "      <td>Изменить структура категорий, что увеличит кон...</td>\n",
       "      <td>8</td>\n",
       "      <td>3</td>\n",
       "      <td>3</td>\n",
       "      <td>8</td>\n",
       "    </tr>\n",
       "    <tr>\n",
       "      <th>4</th>\n",
       "      <td>Изменить цвет фона главной страницы, чтобы уве...</td>\n",
       "      <td>3</td>\n",
       "      <td>1</td>\n",
       "      <td>1</td>\n",
       "      <td>1</td>\n",
       "    </tr>\n",
       "    <tr>\n",
       "      <th>5</th>\n",
       "      <td>Добавить страницу отзывов клиентов о магазине,...</td>\n",
       "      <td>3</td>\n",
       "      <td>2</td>\n",
       "      <td>2</td>\n",
       "      <td>3</td>\n",
       "    </tr>\n",
       "    <tr>\n",
       "      <th>6</th>\n",
       "      <td>Показать на главной странице баннеры с актуаль...</td>\n",
       "      <td>5</td>\n",
       "      <td>3</td>\n",
       "      <td>8</td>\n",
       "      <td>3</td>\n",
       "    </tr>\n",
       "    <tr>\n",
       "      <th>7</th>\n",
       "      <td>Добавить форму подписки на все основные страни...</td>\n",
       "      <td>10</td>\n",
       "      <td>7</td>\n",
       "      <td>8</td>\n",
       "      <td>5</td>\n",
       "    </tr>\n",
       "    <tr>\n",
       "      <th>8</th>\n",
       "      <td>Запустить акцию, дающую скидку на товар в день...</td>\n",
       "      <td>1</td>\n",
       "      <td>9</td>\n",
       "      <td>9</td>\n",
       "      <td>5</td>\n",
       "    </tr>\n",
       "  </tbody>\n",
       "</table>\n",
       "</div>"
      ],
      "text/plain": [
       "                                          hypothesis  reach  impact  \\\n",
       "0  Добавить два новых канала привлечения трафика,...      3      10   \n",
       "1  Запустить собственную службу доставки, что сок...      2       5   \n",
       "2  Добавить блоки рекомендаций товаров на сайт ин...      8       3   \n",
       "3  Изменить структура категорий, что увеличит кон...      8       3   \n",
       "4  Изменить цвет фона главной страницы, чтобы уве...      3       1   \n",
       "5  Добавить страницу отзывов клиентов о магазине,...      3       2   \n",
       "6  Показать на главной странице баннеры с актуаль...      5       3   \n",
       "7  Добавить форму подписки на все основные страни...     10       7   \n",
       "8  Запустить акцию, дающую скидку на товар в день...      1       9   \n",
       "\n",
       "   confidence  efforts  \n",
       "0           8        6  \n",
       "1           4       10  \n",
       "2           7        3  \n",
       "3           3        8  \n",
       "4           1        1  \n",
       "5           2        3  \n",
       "6           8        3  \n",
       "7           8        5  \n",
       "8           9        5  "
      ]
     },
     "execution_count": 4,
     "metadata": {},
     "output_type": "execute_result"
    }
   ],
   "source": [
    "hypothesis.columns = hypothesis.columns.str.lower()\n",
    "hypothesis"
   ]
  },
  {
   "cell_type": "markdown",
   "id": "ba1d57b7-0538-4a6e-a090-626542eb7f06",
   "metadata": {},
   "source": [
    "Создадим функцию для беглого знакомства с данными."
   ]
  },
  {
   "cell_type": "code",
   "execution_count": 5,
   "id": "ff7c20af-a057-451d-a895-6c86849502cf",
   "metadata": {},
   "outputs": [],
   "source": [
    "def get_glimpse_at_data(df):\n",
    "    df.info()\n",
    "    print()\n",
    "    print('Доля пропущенных данных:\\n', df.isna().mean(), '\\n')\n",
    "    print('Количество явных дубликатов:', df.duplicated().sum())"
   ]
  },
  {
   "cell_type": "markdown",
   "id": "3d1be5df-d2f4-42ed-9aa7-b5709d1a48de",
   "metadata": {},
   "source": [
    "**Таблица с гипотезами**"
   ]
  },
  {
   "cell_type": "code",
   "execution_count": 6,
   "id": "7110ddc2-36f2-4bba-8bfb-9c2db8dd073f",
   "metadata": {
    "tags": []
   },
   "outputs": [
    {
     "name": "stdout",
     "output_type": "stream",
     "text": [
      "<class 'pandas.core.frame.DataFrame'>\n",
      "RangeIndex: 9 entries, 0 to 8\n",
      "Data columns (total 5 columns):\n",
      " #   Column      Non-Null Count  Dtype \n",
      "---  ------      --------------  ----- \n",
      " 0   hypothesis  9 non-null      object\n",
      " 1   reach       9 non-null      int64 \n",
      " 2   impact      9 non-null      int64 \n",
      " 3   confidence  9 non-null      int64 \n",
      " 4   efforts     9 non-null      int64 \n",
      "dtypes: int64(4), object(1)\n",
      "memory usage: 488.0+ bytes\n",
      "\n",
      "Доля пропущенных данных:\n",
      " hypothesis    0.0\n",
      "reach         0.0\n",
      "impact        0.0\n",
      "confidence    0.0\n",
      "efforts       0.0\n",
      "dtype: float64 \n",
      "\n",
      "Количество явных дубликатов: 0\n"
     ]
    }
   ],
   "source": [
    "get_glimpse_at_data(hypothesis)"
   ]
  },
  {
   "cell_type": "markdown",
   "id": "f320b0a7-bb48-408f-9032-e44ded8b016e",
   "metadata": {},
   "source": [
    "В данных 9 гипотез. Это сходится с описанием данных в документации."
   ]
  },
  {
   "cell_type": "markdown",
   "id": "a704b349-acee-41f1-bd3a-ded6d3ea2350",
   "metadata": {},
   "source": [
    "**Таблица с посетителями**"
   ]
  },
  {
   "cell_type": "code",
   "execution_count": 7,
   "id": "cfb9ee63-8809-472c-a691-6cb191be7c30",
   "metadata": {},
   "outputs": [
    {
     "name": "stdout",
     "output_type": "stream",
     "text": [
      "<class 'pandas.core.frame.DataFrame'>\n",
      "RangeIndex: 62 entries, 0 to 61\n",
      "Data columns (total 3 columns):\n",
      " #   Column    Non-Null Count  Dtype \n",
      "---  ------    --------------  ----- \n",
      " 0   date      62 non-null     object\n",
      " 1   group     62 non-null     object\n",
      " 2   visitors  62 non-null     int64 \n",
      "dtypes: int64(1), object(2)\n",
      "memory usage: 1.6+ KB\n",
      "\n",
      "Доля пропущенных данных:\n",
      " date        0.0\n",
      "group       0.0\n",
      "visitors    0.0\n",
      "dtype: float64 \n",
      "\n",
      "Количество явных дубликатов: 0\n"
     ]
    }
   ],
   "source": [
    "get_glimpse_at_data(visitors)"
   ]
  },
  {
   "cell_type": "markdown",
   "id": "ece07e0b-5a34-42aa-81ab-acff520b0a7b",
   "metadata": {},
   "source": [
    "**Таблица с заказами**"
   ]
  },
  {
   "cell_type": "code",
   "execution_count": 8,
   "id": "996a7b0b-85b0-4bce-889b-ed6ca6aec695",
   "metadata": {},
   "outputs": [
    {
     "name": "stdout",
     "output_type": "stream",
     "text": [
      "<class 'pandas.core.frame.DataFrame'>\n",
      "RangeIndex: 1197 entries, 0 to 1196\n",
      "Data columns (total 5 columns):\n",
      " #   Column         Non-Null Count  Dtype \n",
      "---  ------         --------------  ----- \n",
      " 0   transactionId  1197 non-null   int64 \n",
      " 1   visitorId      1197 non-null   int64 \n",
      " 2   date           1197 non-null   object\n",
      " 3   revenue        1197 non-null   int64 \n",
      " 4   group          1197 non-null   object\n",
      "dtypes: int64(3), object(2)\n",
      "memory usage: 46.9+ KB\n",
      "\n",
      "Доля пропущенных данных:\n",
      " transactionId    0.0\n",
      "visitorId        0.0\n",
      "date             0.0\n",
      "revenue          0.0\n",
      "group            0.0\n",
      "dtype: float64 \n",
      "\n",
      "Количество явных дубликатов: 0\n"
     ]
    }
   ],
   "source": [
    "get_glimpse_at_data(orders)"
   ]
  },
  {
   "cell_type": "markdown",
   "id": "37a50787-edea-4cce-8f6c-df06fc92496d",
   "metadata": {},
   "source": [
    "## Описание данных"
   ]
  },
  {
   "cell_type": "markdown",
   "id": "af7b78e5-01c6-4e13-ad3f-a322cbb9537e",
   "metadata": {},
   "source": [
    "Столбцы таблицы с заказами (orders):\n",
    "\n",
    "* transactionId — идентификатор заказа;\n",
    "* visitorId — идентификатор посетителя, совершившего заказ;\n",
    "* group — группа A/B-теста;\n",
    "* revenue — выручка заказа;\n",
    "* date — дата заказа.\n",
    "\n",
    "Столбцы таблицы с посетителями (visitors):\n",
    "\n",
    "* date — дата;\n",
    "* group — группа A/B-теста;\n",
    "* visitors — количество посетителей интернет-магазина в указанной группе A/B-теста в указанную дату."
   ]
  },
  {
   "cell_type": "markdown",
   "id": "b541e84e-948a-4f2f-b0e9-03e1ea160ef4",
   "metadata": {},
   "source": [
    "Посмотрим, сколько всего посетителей в каждой группе. "
   ]
  },
  {
   "cell_type": "code",
   "execution_count": 9,
   "id": "42d0e9ef-ddff-468a-bd73-7e95a3d8380c",
   "metadata": {},
   "outputs": [
    {
     "data": {
      "text/html": [
       "<div>\n",
       "<style scoped>\n",
       "    .dataframe tbody tr th:only-of-type {\n",
       "        vertical-align: middle;\n",
       "    }\n",
       "\n",
       "    .dataframe tbody tr th {\n",
       "        vertical-align: top;\n",
       "    }\n",
       "\n",
       "    .dataframe thead th {\n",
       "        text-align: right;\n",
       "    }\n",
       "</style>\n",
       "<table border=\"1\" class=\"dataframe\">\n",
       "  <thead>\n",
       "    <tr style=\"text-align: right;\">\n",
       "      <th></th>\n",
       "      <th>group</th>\n",
       "      <th>visitors</th>\n",
       "    </tr>\n",
       "  </thead>\n",
       "  <tbody>\n",
       "    <tr>\n",
       "      <th>0</th>\n",
       "      <td>A</td>\n",
       "      <td>18736</td>\n",
       "    </tr>\n",
       "    <tr>\n",
       "      <th>1</th>\n",
       "      <td>B</td>\n",
       "      <td>18916</td>\n",
       "    </tr>\n",
       "  </tbody>\n",
       "</table>\n",
       "</div>"
      ],
      "text/plain": [
       "  group  visitors\n",
       "0     A     18736\n",
       "1     B     18916"
      ]
     },
     "execution_count": 9,
     "metadata": {},
     "output_type": "execute_result"
    }
   ],
   "source": [
    "visitors_piv = visitors.groupby('group', as_index=False).agg({'visitors':'sum'})\n",
    "visitors_piv"
   ]
  },
  {
   "cell_type": "markdown",
   "id": "f056665a-5ffb-48f0-815d-3c1f37bb9130",
   "metadata": {},
   "source": [
    "Выборки немного разные по размеру. Посмотрим на относительное различие количества посетителей."
   ]
  },
  {
   "cell_type": "code",
   "execution_count": 10,
   "id": "1ea0b802-fd83-4f11-930a-6d898d8dc52f",
   "metadata": {},
   "outputs": [
    {
     "data": {
      "text/plain": [
       "'Относительное различие составляет 1.0%'"
      ]
     },
     "execution_count": 10,
     "metadata": {},
     "output_type": "execute_result"
    }
   ],
   "source": [
    "f\"Относительное различие составляет {(1 - (visitors_piv['visitors'][0] / visitors_piv['visitors'][1])):.1%}\""
   ]
  },
  {
   "cell_type": "markdown",
   "id": "b1e9d64d-6bfc-47f6-b9ef-af2765dd99c9",
   "metadata": {},
   "source": [
    "Это некритичная разница. "
   ]
  },
  {
   "cell_type": "markdown",
   "id": "0bbb3e1a-6b4e-450e-b581-1e7bf25e4a88",
   "metadata": {},
   "source": [
    "Посмотрим, сколько у нас всего уникальных посетителей в таблице с заказами:"
   ]
  },
  {
   "cell_type": "code",
   "execution_count": 11,
   "id": "550520d0-e219-4821-a46b-2da2111b3553",
   "metadata": {},
   "outputs": [
    {
     "data": {
      "text/plain": [
       "'Количество уникальных пользователей в таблице c заказами: 1031'"
      ]
     },
     "execution_count": 11,
     "metadata": {},
     "output_type": "execute_result"
    }
   ],
   "source": [
    "f\"Количество уникальных пользователей в таблице c заказами: {len(orders['visitorId'].unique())}\""
   ]
  },
  {
   "cell_type": "markdown",
   "id": "e8750d39-a993-4d54-8550-d9e20529e6f3",
   "metadata": {},
   "source": [
    "Смотрим, сколько уникальных пользователей в каждой группе."
   ]
  },
  {
   "cell_type": "code",
   "execution_count": 12,
   "id": "12d3dc31-5dc2-43f6-ab33-a110839a10da",
   "metadata": {},
   "outputs": [
    {
     "data": {
      "text/html": [
       "<div>\n",
       "<style scoped>\n",
       "    .dataframe tbody tr th:only-of-type {\n",
       "        vertical-align: middle;\n",
       "    }\n",
       "\n",
       "    .dataframe tbody tr th {\n",
       "        vertical-align: top;\n",
       "    }\n",
       "\n",
       "    .dataframe thead th {\n",
       "        text-align: right;\n",
       "    }\n",
       "</style>\n",
       "<table border=\"1\" class=\"dataframe\">\n",
       "  <thead>\n",
       "    <tr style=\"text-align: right;\">\n",
       "      <th></th>\n",
       "      <th>visitorId</th>\n",
       "    </tr>\n",
       "    <tr>\n",
       "      <th>group</th>\n",
       "      <th></th>\n",
       "    </tr>\n",
       "  </thead>\n",
       "  <tbody>\n",
       "    <tr>\n",
       "      <th>A</th>\n",
       "      <td>503</td>\n",
       "    </tr>\n",
       "    <tr>\n",
       "      <th>B</th>\n",
       "      <td>586</td>\n",
       "    </tr>\n",
       "  </tbody>\n",
       "</table>\n",
       "</div>"
      ],
      "text/plain": [
       "       visitorId\n",
       "group           \n",
       "A            503\n",
       "B            586"
      ]
     },
     "execution_count": 12,
     "metadata": {},
     "output_type": "execute_result"
    }
   ],
   "source": [
    "orders.groupby('group').agg({'visitorId': 'nunique'})"
   ]
  },
  {
   "cell_type": "markdown",
   "id": "9209e7d6-f791-468e-9968-8cbe112b0a40",
   "metadata": {},
   "source": [
    "Выходит, 58 посетителей делали заказы и в группе A и в группе B. Это исказит нам результаты. Таких пользователей нужно будет удалить. "
   ]
  },
  {
   "cell_type": "markdown",
   "id": "1e7c59b2-8b4e-40de-9428-6429cce77b52",
   "metadata": {},
   "source": [
    "Найдем этих повторяющихся посетителей, чтобы потом исключить из анализа AB-теста."
   ]
  },
  {
   "cell_type": "code",
   "execution_count": 13,
   "id": "da4d54a1-01f3-4137-acdf-3dff3ac4d559",
   "metadata": {},
   "outputs": [],
   "source": [
    "arB = orders.query('group == \"B\"')['visitorId'].unique()\n",
    "arA = orders.query('group == \"A\"')['visitorId'].unique()\n",
    "intersected_visitors_list = np.intersect1d(arB, arA)"
   ]
  },
  {
   "cell_type": "markdown",
   "id": "6700450c-0b6a-466a-b9df-30df053bcf2f",
   "metadata": {},
   "source": [
    "Посмотрим на длину списка и проверим, что их 58."
   ]
  },
  {
   "cell_type": "code",
   "execution_count": 14,
   "id": "e70d0cd7-ee4b-411c-be8a-3d724087a60f",
   "metadata": {},
   "outputs": [
    {
     "name": "stdout",
     "output_type": "stream",
     "text": [
      "Количество уникальных посетителей: 58\n",
      "[   8300375  199603092  232979603  237748145  276558944  351125977\n",
      "  393266494  457167155  471551937  477780734  818047933  963407295\n",
      " 1230306981 1294878855 1316129916 1333886533 1404934699 1602967004\n",
      " 1614305549 1648269707 1668030113 1738359350 1801183820 1959144690\n",
      " 2038680547 2044997962 2378935119 2458001652 2579882178 2587333274\n",
      " 2600415354 2654030115 2686716486 2712142231 2716752286 2780786433\n",
      " 2927087541 2949041841 2954449915 3062433592 3202540741 3234906277\n",
      " 3656415546 3717692402 3766097110 3803269165 3891541246 3941795274\n",
      " 3951559397 3957174400 3963646447 3972127743 3984495233 4069496402\n",
      " 4120364173 4186807279 4256040402 4266935830]\n"
     ]
    }
   ],
   "source": [
    "print('Количество уникальных посетителей:', len(intersected_visitors_list))\n",
    "print(intersected_visitors_list)"
   ]
  },
  {
   "cell_type": "markdown",
   "id": "a0d1e4e8-9f6e-4326-ad9f-7de7730fc44a",
   "metadata": {},
   "source": [
    "Создадим новый датафрейм для заказов без повторяющихся посетителей. Его и будем потом анализировать."
   ]
  },
  {
   "cell_type": "code",
   "execution_count": 15,
   "id": "4f59f433-c0bd-4f69-a527-35d66dcc94ce",
   "metadata": {},
   "outputs": [],
   "source": [
    "orders_new = orders.query('visitorId not in @intersected_visitors_list')"
   ]
  },
  {
   "cell_type": "code",
   "execution_count": 16,
   "id": "1432525c-ee5d-42fa-8156-344c32a5ae50",
   "metadata": {},
   "outputs": [
    {
     "data": {
      "text/plain": [
       "'Количество уникальных пользователей в таблице c заказами после исключения:973'"
      ]
     },
     "execution_count": 16,
     "metadata": {},
     "output_type": "execute_result"
    }
   ],
   "source": [
    "f\"Количество уникальных пользователей в таблице c заказами после исключения:{len(orders_new['visitorId'].unique())}\""
   ]
  },
  {
   "cell_type": "code",
   "execution_count": 17,
   "id": "72dcfe76-de43-4e4e-8ba3-c600a08295f2",
   "metadata": {},
   "outputs": [
    {
     "data": {
      "text/html": [
       "<div>\n",
       "<style scoped>\n",
       "    .dataframe tbody tr th:only-of-type {\n",
       "        vertical-align: middle;\n",
       "    }\n",
       "\n",
       "    .dataframe tbody tr th {\n",
       "        vertical-align: top;\n",
       "    }\n",
       "\n",
       "    .dataframe thead th {\n",
       "        text-align: right;\n",
       "    }\n",
       "</style>\n",
       "<table border=\"1\" class=\"dataframe\">\n",
       "  <thead>\n",
       "    <tr style=\"text-align: right;\">\n",
       "      <th></th>\n",
       "      <th>group</th>\n",
       "      <th>visitorId</th>\n",
       "    </tr>\n",
       "  </thead>\n",
       "  <tbody>\n",
       "    <tr>\n",
       "      <th>0</th>\n",
       "      <td>A</td>\n",
       "      <td>445</td>\n",
       "    </tr>\n",
       "    <tr>\n",
       "      <th>1</th>\n",
       "      <td>B</td>\n",
       "      <td>528</td>\n",
       "    </tr>\n",
       "  </tbody>\n",
       "</table>\n",
       "</div>"
      ],
      "text/plain": [
       "  group  visitorId\n",
       "0     A        445\n",
       "1     B        528"
      ]
     },
     "execution_count": 17,
     "metadata": {},
     "output_type": "execute_result"
    }
   ],
   "source": [
    "pivot_vis = orders_new.groupby('group', as_index=False).agg({'visitorId': 'nunique'})\n",
    "pivot_vis"
   ]
  },
  {
   "cell_type": "markdown",
   "id": "bd3ff099-ff48-42ee-a83a-486fbb220153",
   "metadata": {},
   "source": [
    "Cмотрим на общее количество уникальных посетителей в двух группах."
   ]
  },
  {
   "cell_type": "code",
   "execution_count": 18,
   "id": "bf83f06e-4333-4b46-87c6-2a10581d8414",
   "metadata": {},
   "outputs": [
    {
     "data": {
      "text/plain": [
       "973"
      ]
     },
     "execution_count": 18,
     "metadata": {},
     "output_type": "execute_result"
    }
   ],
   "source": [
    "pivot_vis['visitorId'][0] + pivot_vis['visitorId'][1]"
   ]
  },
  {
   "cell_type": "markdown",
   "id": "31a506d6-274a-4784-b8a8-a75da5a4c058",
   "metadata": {},
   "source": [
    "Теперь у нас все сходится: в тесте мы оставили 973 уникальных посетителя, из них 445 посетителей, совершивших заказ, участвовали в группе A и 528 - в группе B. Выборки не одинаковые по размеру.  "
   ]
  },
  {
   "cell_type": "markdown",
   "id": "1b118db2-055a-4d64-a281-12a6c37ff959",
   "metadata": {},
   "source": [
    "Посмотрим еще на количество заказов по каждой группе."
   ]
  },
  {
   "cell_type": "code",
   "execution_count": 19,
   "id": "a77f59a4-3407-45b5-93c2-d5c173cd3de4",
   "metadata": {},
   "outputs": [
    {
     "data": {
      "text/html": [
       "<div>\n",
       "<style scoped>\n",
       "    .dataframe tbody tr th:only-of-type {\n",
       "        vertical-align: middle;\n",
       "    }\n",
       "\n",
       "    .dataframe tbody tr th {\n",
       "        vertical-align: top;\n",
       "    }\n",
       "\n",
       "    .dataframe thead th {\n",
       "        text-align: right;\n",
       "    }\n",
       "</style>\n",
       "<table border=\"1\" class=\"dataframe\">\n",
       "  <thead>\n",
       "    <tr style=\"text-align: right;\">\n",
       "      <th></th>\n",
       "      <th>group</th>\n",
       "      <th>transactionId</th>\n",
       "    </tr>\n",
       "  </thead>\n",
       "  <tbody>\n",
       "    <tr>\n",
       "      <th>0</th>\n",
       "      <td>A</td>\n",
       "      <td>468</td>\n",
       "    </tr>\n",
       "    <tr>\n",
       "      <th>1</th>\n",
       "      <td>B</td>\n",
       "      <td>548</td>\n",
       "    </tr>\n",
       "  </tbody>\n",
       "</table>\n",
       "</div>"
      ],
      "text/plain": [
       "  group  transactionId\n",
       "0     A            468\n",
       "1     B            548"
      ]
     },
     "execution_count": 19,
     "metadata": {},
     "output_type": "execute_result"
    }
   ],
   "source": [
    "piv_trn = orders_new.groupby('group', as_index=False).agg({'transactionId': 'count'})\n",
    "piv_trn"
   ]
  },
  {
   "cell_type": "markdown",
   "id": "7f7d33f9-ca99-4232-9ce2-7cbe81100ff7",
   "metadata": {},
   "source": [
    "Смотрим на относительное различие количества заказов по каждой группе."
   ]
  },
  {
   "cell_type": "code",
   "execution_count": 20,
   "id": "af4da869-0656-4e76-a4f6-e6fdaca9438e",
   "metadata": {},
   "outputs": [
    {
     "data": {
      "text/plain": [
       "'Относительное различие составляет 14.6%'"
      ]
     },
     "execution_count": 20,
     "metadata": {},
     "output_type": "execute_result"
    }
   ],
   "source": [
    "f\"Относительное различие составляет {(1 - (piv_trn['transactionId'][0] / piv_trn['transactionId'][1])):.1%}\""
   ]
  },
  {
   "cell_type": "markdown",
   "id": "9cb0e317-41df-4908-ad2f-1f1eb0d49862",
   "metadata": {},
   "source": [
    "Более многочисленная группа совершила больше транзакций. Тут все ожидаемо логично."
   ]
  },
  {
   "cell_type": "markdown",
   "id": "a07f0e9d-f050-41cf-9f70-aa3579a00c94",
   "metadata": {
    "tags": []
   },
   "source": [
    "## Вывод"
   ]
  },
  {
   "cell_type": "markdown",
   "id": "9b56d407-3c17-41b7-990e-b55301e2e636",
   "metadata": {},
   "source": [
    "* В данных не выявлены пропуски и дубликаты.\n",
    "    \n",
    "* В датафрейме с гипотезами представлено 9 гипотез - это сходится с тем, что было сказано в описании данных.\n",
    "\n",
    "* 58 посетителей участвовали и в группе A, и в группе B. Это может исказить результат, поэтому мы исключаем их из анализа AB-теста. \n",
    "\n",
    "* В A/B-тесте участвовало достаточное количество посетителей - большие выборки: 18736 (группа A) и 18916 (группа B). Мы можем доверять результатам такого теста. Относительное различие количества посетителей составило всего 1%. Это допустимо. \n",
    "    \n",
    "* Среди участвующих в тесте заказ совершило 973 уникальных пользователя. \n",
    "\n",
    "* Предварительный анализ данных A/B-теста показал, что группа B совершила заказов больше. Относительное различие количества заказов составило 14.6%. Далее мы сделаем более глубокий анализ результатов AB-тестирования. "
   ]
  },
  {
   "cell_type": "markdown",
   "id": "822faeb6-5e28-4d5a-8375-59044c406ca8",
   "metadata": {},
   "source": [
    "<a name='stage_2'></a>\n",
    "# Шаг 2. Приоритизация гипотез\n",
    "\n",
    "[Назад к оглавлению](#contents)"
   ]
  },
  {
   "cell_type": "markdown",
   "id": "c352cf96-5661-4059-919d-118dd286f7c5",
   "metadata": {},
   "source": [
    "## Применение фреймворка ICE для приоритизации гипотез"
   ]
  },
  {
   "cell_type": "markdown",
   "id": "e4ddcce2-c656-4888-973f-a0da4ca0adab",
   "metadata": {},
   "source": [
    "Сначала приоритизируем наши 9 гипотез с помощью фреймворка ICE (impact confidence efforts). \n",
    "\n",
    "Формула расчета ICE:"
   ]
  },
  {
   "cell_type": "markdown",
   "id": "bdec1be7-1af1-4d76-895e-17323ca0ed56",
   "metadata": {},
   "source": [
    "`ICE SCORE = impact * confidence / efforts`"
   ]
  },
  {
   "cell_type": "markdown",
   "id": "dfd73d59-f690-43eb-90f4-c64c55694e36",
   "metadata": {},
   "source": [
    "Глянем, какие у нас оценки в efforts, нет ли нулей."
   ]
  },
  {
   "cell_type": "code",
   "execution_count": 21,
   "id": "ffdf1758-834f-475f-839b-2b619486de76",
   "metadata": {},
   "outputs": [
    {
     "data": {
      "text/plain": [
       "array([ 6, 10,  3,  8,  1,  5])"
      ]
     },
     "execution_count": 21,
     "metadata": {},
     "output_type": "execute_result"
    }
   ],
   "source": [
    "hypothesis['efforts'].unique()"
   ]
  },
  {
   "cell_type": "code",
   "execution_count": 22,
   "id": "2e9847e8-d09c-4e08-a8af-77145c62001f",
   "metadata": {},
   "outputs": [],
   "source": [
    "hypothesis['ICE'] = (hypothesis['impact'] * hypothesis['confidence']) / hypothesis['efforts']"
   ]
  },
  {
   "cell_type": "markdown",
   "id": "4021f348-2be0-4fc2-b639-5fb7a31bf78e",
   "metadata": {},
   "source": [
    "Выводим на экран гипотезы и ICE, отсортированное по убыванию приоритета."
   ]
  },
  {
   "cell_type": "code",
   "execution_count": 23,
   "id": "37f97a61-b611-4bee-9f82-3ee025a0ea70",
   "metadata": {},
   "outputs": [
    {
     "data": {
      "text/html": [
       "<style type=\"text/css\">\n",
       "#T_6af76_row0_col1 {\n",
       "  background-color: #08306b;\n",
       "  color: #f1f1f1;\n",
       "}\n",
       "#T_6af76_row1_col1 {\n",
       "  background-color: #1561a9;\n",
       "  color: #f1f1f1;\n",
       "}\n",
       "#T_6af76_row2_col1 {\n",
       "  background-color: #3686c0;\n",
       "  color: #f1f1f1;\n",
       "}\n",
       "#T_6af76_row3_col1 {\n",
       "  background-color: #7cb7da;\n",
       "  color: #000000;\n",
       "}\n",
       "#T_6af76_row4_col1 {\n",
       "  background-color: #95c5df;\n",
       "  color: #000000;\n",
       "}\n",
       "#T_6af76_row5_col1 {\n",
       "  background-color: #eaf3fb;\n",
       "  color: #000000;\n",
       "}\n",
       "#T_6af76_row6_col1 {\n",
       "  background-color: #f3f8fe;\n",
       "  color: #000000;\n",
       "}\n",
       "#T_6af76_row7_col1 {\n",
       "  background-color: #f5fafe;\n",
       "  color: #000000;\n",
       "}\n",
       "#T_6af76_row8_col1 {\n",
       "  background-color: #f7fbff;\n",
       "  color: #000000;\n",
       "}\n",
       "</style>\n",
       "<table id=\"T_6af76\">\n",
       "  <thead>\n",
       "    <tr>\n",
       "      <th class=\"blank level0\" >&nbsp;</th>\n",
       "      <th id=\"T_6af76_level0_col0\" class=\"col_heading level0 col0\" >hypothesis</th>\n",
       "      <th id=\"T_6af76_level0_col1\" class=\"col_heading level0 col1\" >ICE</th>\n",
       "    </tr>\n",
       "  </thead>\n",
       "  <tbody>\n",
       "    <tr>\n",
       "      <th id=\"T_6af76_level0_row0\" class=\"row_heading level0 row0\" >8</th>\n",
       "      <td id=\"T_6af76_row0_col0\" class=\"data row0 col0\" >Запустить акцию, дающую скидку на товар в день рождения</td>\n",
       "      <td id=\"T_6af76_row0_col1\" class=\"data row0 col1\" >16.20</td>\n",
       "    </tr>\n",
       "    <tr>\n",
       "      <th id=\"T_6af76_level0_row1\" class=\"row_heading level0 row1\" >0</th>\n",
       "      <td id=\"T_6af76_row1_col0\" class=\"data row1 col0\" >Добавить два новых канала привлечения трафика, что позволит привлекать на 30% больше пользователей</td>\n",
       "      <td id=\"T_6af76_row1_col1\" class=\"data row1 col1\" >13.33</td>\n",
       "    </tr>\n",
       "    <tr>\n",
       "      <th id=\"T_6af76_level0_row2\" class=\"row_heading level0 row2\" >7</th>\n",
       "      <td id=\"T_6af76_row2_col0\" class=\"data row2 col0\" >Добавить форму подписки на все основные страницы, чтобы собрать базу клиентов для email-рассылок</td>\n",
       "      <td id=\"T_6af76_row2_col1\" class=\"data row2 col1\" >11.20</td>\n",
       "    </tr>\n",
       "    <tr>\n",
       "      <th id=\"T_6af76_level0_row3\" class=\"row_heading level0 row3\" >6</th>\n",
       "      <td id=\"T_6af76_row3_col0\" class=\"data row3 col0\" >Показать на главной странице баннеры с актуальными акциями и распродажами, чтобы увеличить конверсию</td>\n",
       "      <td id=\"T_6af76_row3_col1\" class=\"data row3 col1\" >8.00</td>\n",
       "    </tr>\n",
       "    <tr>\n",
       "      <th id=\"T_6af76_level0_row4\" class=\"row_heading level0 row4\" >2</th>\n",
       "      <td id=\"T_6af76_row4_col0\" class=\"data row4 col0\" >Добавить блоки рекомендаций товаров на сайт интернет магазина, чтобы повысить конверсию и средний чек заказа</td>\n",
       "      <td id=\"T_6af76_row4_col1\" class=\"data row4 col1\" >7.00</td>\n",
       "    </tr>\n",
       "    <tr>\n",
       "      <th id=\"T_6af76_level0_row5\" class=\"row_heading level0 row5\" >1</th>\n",
       "      <td id=\"T_6af76_row5_col0\" class=\"data row5 col0\" >Запустить собственную службу доставки, что сократит срок доставки заказов</td>\n",
       "      <td id=\"T_6af76_row5_col1\" class=\"data row5 col1\" >2.00</td>\n",
       "    </tr>\n",
       "    <tr>\n",
       "      <th id=\"T_6af76_level0_row6\" class=\"row_heading level0 row6\" >5</th>\n",
       "      <td id=\"T_6af76_row6_col0\" class=\"data row6 col0\" >Добавить страницу отзывов клиентов о магазине, что позволит увеличить количество заказов</td>\n",
       "      <td id=\"T_6af76_row6_col1\" class=\"data row6 col1\" >1.33</td>\n",
       "    </tr>\n",
       "    <tr>\n",
       "      <th id=\"T_6af76_level0_row7\" class=\"row_heading level0 row7\" >3</th>\n",
       "      <td id=\"T_6af76_row7_col0\" class=\"data row7 col0\" >Изменить структура категорий, что увеличит конверсию, т.к. пользователи быстрее найдут нужный товар</td>\n",
       "      <td id=\"T_6af76_row7_col1\" class=\"data row7 col1\" >1.12</td>\n",
       "    </tr>\n",
       "    <tr>\n",
       "      <th id=\"T_6af76_level0_row8\" class=\"row_heading level0 row8\" >4</th>\n",
       "      <td id=\"T_6af76_row8_col0\" class=\"data row8 col0\" >Изменить цвет фона главной страницы, чтобы увеличить вовлеченность пользователей</td>\n",
       "      <td id=\"T_6af76_row8_col1\" class=\"data row8 col1\" >1.00</td>\n",
       "    </tr>\n",
       "  </tbody>\n",
       "</table>\n"
      ],
      "text/plain": [
       "<pandas.io.formats.style.Styler at 0x12200e4f0>"
      ]
     },
     "execution_count": 23,
     "metadata": {},
     "output_type": "execute_result"
    }
   ],
   "source": [
    "(hypothesis[['hypothesis', 'ICE']].sort_values('ICE', ascending=False)\n",
    "                                  .style.format({'ICE': '{:.2f}'})\n",
    "                                  .background_gradient(cmap='Blues', axis=0)\n",
    ")"
   ]
  },
  {
   "cell_type": "markdown",
   "id": "d4b09eb9-fa57-461b-a73e-f113e0401a30",
   "metadata": {},
   "source": [
    "Наиболее перспективные гипотезы по фреймворку ICE: восьмая, нулевая, седьмая."
   ]
  },
  {
   "cell_type": "markdown",
   "id": "ce0621a8-746a-43ff-ad58-a7e47321c983",
   "metadata": {},
   "source": [
    "## Применение фреймворка RICE для приоритизации гипотез"
   ]
  },
  {
   "cell_type": "markdown",
   "id": "47e47058-3077-4a1f-8991-382a3cefd5c8",
   "metadata": {},
   "source": [
    "Фреймворк RICE состоит из четырех компонентов: \n",
    "    \n",
    "* reach (охват): сколько пользователей затронет изменение, которое мы хотим внести\n",
    "* impact (влияние): насколько сильно изменение повлияет на пользователей, их опыт, удовлетворение от продукта\n",
    "* confidence (уверенность): насколько мы уверены, что изменение повлияет на пользователей именно так\n",
    "* efforts (усилия): сколько стоит протестировать эту гипотезу"
   ]
  },
  {
   "cell_type": "markdown",
   "id": "cb37c836-1242-4a40-9a46-3bda656f715a",
   "metadata": {},
   "source": [
    "Формула вычисления RICE score:\n",
    "\n",
    "`RICE score = (reach * impact * confidence) / efforts`"
   ]
  },
  {
   "cell_type": "code",
   "execution_count": 24,
   "id": "ea2fd9f3-7146-4980-9f6a-ecc7c0571fa1",
   "metadata": {},
   "outputs": [],
   "source": [
    "hypothesis['RICE'] = hypothesis['reach'] * hypothesis['impact'] * hypothesis['confidence'] / hypothesis ['efforts']"
   ]
  },
  {
   "cell_type": "code",
   "execution_count": 25,
   "id": "952d7fd1-8cd4-4751-8a7b-493c7ad30a21",
   "metadata": {},
   "outputs": [
    {
     "data": {
      "text/html": [
       "<style type=\"text/css\">\n",
       "#T_8c218_row0_col1, #T_8c218_row0_col2 {\n",
       "  background-color: #08306b;\n",
       "  color: #f1f1f1;\n",
       "}\n",
       "#T_8c218_row1_col1, #T_8c218_row5_col1 {\n",
       "  background-color: #1b69af;\n",
       "  color: #f1f1f1;\n",
       "}\n",
       "#T_8c218_row1_col2 {\n",
       "  background-color: #71b1d7;\n",
       "  color: #f1f1f1;\n",
       "}\n",
       "#T_8c218_row2_col1, #T_8c218_row7_col1, #T_8c218_row8_col1 {\n",
       "  background-color: #ccdff1;\n",
       "  color: #000000;\n",
       "}\n",
       "#T_8c218_row2_col2, #T_8c218_row3_col2 {\n",
       "  background-color: #aacfe5;\n",
       "  color: #000000;\n",
       "}\n",
       "#T_8c218_row3_col1 {\n",
       "  background-color: #82bbdb;\n",
       "  color: #000000;\n",
       "}\n",
       "#T_8c218_row4_col1, #T_8c218_row8_col2 {\n",
       "  background-color: #f7fbff;\n",
       "  color: #000000;\n",
       "}\n",
       "#T_8c218_row4_col2 {\n",
       "  background-color: #dfebf7;\n",
       "  color: #000000;\n",
       "}\n",
       "#T_8c218_row5_col2 {\n",
       "  background-color: #ecf4fb;\n",
       "  color: #000000;\n",
       "}\n",
       "#T_8c218_row6_col1 {\n",
       "  background-color: #e1edf8;\n",
       "  color: #000000;\n",
       "}\n",
       "#T_8c218_row6_col2, #T_8c218_row7_col2 {\n",
       "  background-color: #f5fafe;\n",
       "  color: #000000;\n",
       "}\n",
       "</style>\n",
       "<table id=\"T_8c218\">\n",
       "  <thead>\n",
       "    <tr>\n",
       "      <th class=\"blank level0\" >&nbsp;</th>\n",
       "      <th id=\"T_8c218_level0_col0\" class=\"col_heading level0 col0\" >hypothesis</th>\n",
       "      <th id=\"T_8c218_level0_col1\" class=\"col_heading level0 col1\" >reach</th>\n",
       "      <th id=\"T_8c218_level0_col2\" class=\"col_heading level0 col2\" >RICE</th>\n",
       "    </tr>\n",
       "  </thead>\n",
       "  <tbody>\n",
       "    <tr>\n",
       "      <th id=\"T_8c218_level0_row0\" class=\"row_heading level0 row0\" >7</th>\n",
       "      <td id=\"T_8c218_row0_col0\" class=\"data row0 col0\" >Добавить форму подписки на все основные страницы, чтобы собрать базу клиентов для email-рассылок</td>\n",
       "      <td id=\"T_8c218_row0_col1\" class=\"data row0 col1\" >10</td>\n",
       "      <td id=\"T_8c218_row0_col2\" class=\"data row0 col2\" >112.00</td>\n",
       "    </tr>\n",
       "    <tr>\n",
       "      <th id=\"T_8c218_level0_row1\" class=\"row_heading level0 row1\" >2</th>\n",
       "      <td id=\"T_8c218_row1_col0\" class=\"data row1 col0\" >Добавить блоки рекомендаций товаров на сайт интернет магазина, чтобы повысить конверсию и средний чек заказа</td>\n",
       "      <td id=\"T_8c218_row1_col1\" class=\"data row1 col1\" >8</td>\n",
       "      <td id=\"T_8c218_row1_col2\" class=\"data row1 col2\" >56.00</td>\n",
       "    </tr>\n",
       "    <tr>\n",
       "      <th id=\"T_8c218_level0_row2\" class=\"row_heading level0 row2\" >0</th>\n",
       "      <td id=\"T_8c218_row2_col0\" class=\"data row2 col0\" >Добавить два новых канала привлечения трафика, что позволит привлекать на 30% больше пользователей</td>\n",
       "      <td id=\"T_8c218_row2_col1\" class=\"data row2 col1\" >3</td>\n",
       "      <td id=\"T_8c218_row2_col2\" class=\"data row2 col2\" >40.00</td>\n",
       "    </tr>\n",
       "    <tr>\n",
       "      <th id=\"T_8c218_level0_row3\" class=\"row_heading level0 row3\" >6</th>\n",
       "      <td id=\"T_8c218_row3_col0\" class=\"data row3 col0\" >Показать на главной странице баннеры с актуальными акциями и распродажами, чтобы увеличить конверсию</td>\n",
       "      <td id=\"T_8c218_row3_col1\" class=\"data row3 col1\" >5</td>\n",
       "      <td id=\"T_8c218_row3_col2\" class=\"data row3 col2\" >40.00</td>\n",
       "    </tr>\n",
       "    <tr>\n",
       "      <th id=\"T_8c218_level0_row4\" class=\"row_heading level0 row4\" >8</th>\n",
       "      <td id=\"T_8c218_row4_col0\" class=\"data row4 col0\" >Запустить акцию, дающую скидку на товар в день рождения</td>\n",
       "      <td id=\"T_8c218_row4_col1\" class=\"data row4 col1\" >1</td>\n",
       "      <td id=\"T_8c218_row4_col2\" class=\"data row4 col2\" >16.20</td>\n",
       "    </tr>\n",
       "    <tr>\n",
       "      <th id=\"T_8c218_level0_row5\" class=\"row_heading level0 row5\" >3</th>\n",
       "      <td id=\"T_8c218_row5_col0\" class=\"data row5 col0\" >Изменить структура категорий, что увеличит конверсию, т.к. пользователи быстрее найдут нужный товар</td>\n",
       "      <td id=\"T_8c218_row5_col1\" class=\"data row5 col1\" >8</td>\n",
       "      <td id=\"T_8c218_row5_col2\" class=\"data row5 col2\" >9.00</td>\n",
       "    </tr>\n",
       "    <tr>\n",
       "      <th id=\"T_8c218_level0_row6\" class=\"row_heading level0 row6\" >1</th>\n",
       "      <td id=\"T_8c218_row6_col0\" class=\"data row6 col0\" >Запустить собственную службу доставки, что сократит срок доставки заказов</td>\n",
       "      <td id=\"T_8c218_row6_col1\" class=\"data row6 col1\" >2</td>\n",
       "      <td id=\"T_8c218_row6_col2\" class=\"data row6 col2\" >4.00</td>\n",
       "    </tr>\n",
       "    <tr>\n",
       "      <th id=\"T_8c218_level0_row7\" class=\"row_heading level0 row7\" >5</th>\n",
       "      <td id=\"T_8c218_row7_col0\" class=\"data row7 col0\" >Добавить страницу отзывов клиентов о магазине, что позволит увеличить количество заказов</td>\n",
       "      <td id=\"T_8c218_row7_col1\" class=\"data row7 col1\" >3</td>\n",
       "      <td id=\"T_8c218_row7_col2\" class=\"data row7 col2\" >4.00</td>\n",
       "    </tr>\n",
       "    <tr>\n",
       "      <th id=\"T_8c218_level0_row8\" class=\"row_heading level0 row8\" >4</th>\n",
       "      <td id=\"T_8c218_row8_col0\" class=\"data row8 col0\" >Изменить цвет фона главной страницы, чтобы увеличить вовлеченность пользователей</td>\n",
       "      <td id=\"T_8c218_row8_col1\" class=\"data row8 col1\" >3</td>\n",
       "      <td id=\"T_8c218_row8_col2\" class=\"data row8 col2\" >3.00</td>\n",
       "    </tr>\n",
       "  </tbody>\n",
       "</table>\n"
      ],
      "text/plain": [
       "<pandas.io.formats.style.Styler at 0x121fc9700>"
      ]
     },
     "execution_count": 25,
     "metadata": {},
     "output_type": "execute_result"
    }
   ],
   "source": [
    "(hypothesis[['hypothesis','reach','RICE']]\n",
    ".sort_values('RICE', ascending=False)\n",
    ".style.format({'RICE': '{:.2f}'})\n",
    ".background_gradient(cmap='Blues', axis=0)\n",
    ")"
   ]
  },
  {
   "cell_type": "markdown",
   "id": "c13c1628-739f-4a80-baa4-ee5ee6c8b2af",
   "metadata": {},
   "source": [
    "Наиболее перспективные гипотезы по фреймворку RICE: седьмая (по ICE на 3 месте), вторая, нулевая (по ICE на 2 месте)."
   ]
  },
  {
   "cell_type": "markdown",
   "id": "191656d9-098d-4f9a-847e-1c7d652fb312",
   "metadata": {},
   "source": [
    "Представим окончательные результаты."
   ]
  },
  {
   "cell_type": "code",
   "execution_count": 26,
   "id": "56a2b1ec-ee57-4e12-bc2c-583759b6d5db",
   "metadata": {},
   "outputs": [
    {
     "data": {
      "text/html": [
       "<style type=\"text/css\">\n",
       "#T_b1831_row0_col1 {\n",
       "  background-color: #e7f1fa;\n",
       "  color: #000000;\n",
       "}\n",
       "#T_b1831_row0_col2 {\n",
       "  background-color: #e5eff9;\n",
       "  color: #000000;\n",
       "}\n",
       "#T_b1831_row0_col3 {\n",
       "  background-color: #08306b;\n",
       "  color: #f1f1f1;\n",
       "}\n",
       "#T_b1831_row1_col1, #T_b1831_row3_col2, #T_b1831_row5_col1 {\n",
       "  background-color: #eaf3fb;\n",
       "  color: #000000;\n",
       "}\n",
       "#T_b1831_row1_col2 {\n",
       "  background-color: #edf4fc;\n",
       "  color: #000000;\n",
       "}\n",
       "#T_b1831_row1_col3 {\n",
       "  background-color: #6dafd7;\n",
       "  color: #f1f1f1;\n",
       "}\n",
       "#T_b1831_row2_col1, #T_b1831_row7_col1, #T_b1831_row8_col1, #T_b1831_row8_col3 {\n",
       "  background-color: #f4f9fe;\n",
       "  color: #000000;\n",
       "}\n",
       "#T_b1831_row2_col2 {\n",
       "  background-color: #e1edf8;\n",
       "  color: #000000;\n",
       "}\n",
       "#T_b1831_row2_col3, #T_b1831_row3_col3 {\n",
       "  background-color: #a6cee4;\n",
       "  color: #000000;\n",
       "}\n",
       "#T_b1831_row3_col1 {\n",
       "  background-color: #f0f6fd;\n",
       "  color: #000000;\n",
       "}\n",
       "#T_b1831_row4_col1, #T_b1831_row5_col2, #T_b1831_row7_col2, #T_b1831_row8_col2 {\n",
       "  background-color: #f7fbff;\n",
       "  color: #000000;\n",
       "}\n",
       "#T_b1831_row4_col2, #T_b1831_row4_col3 {\n",
       "  background-color: #dce9f6;\n",
       "  color: #000000;\n",
       "}\n",
       "#T_b1831_row5_col3 {\n",
       "  background-color: #e9f2fa;\n",
       "  color: #000000;\n",
       "}\n",
       "#T_b1831_row6_col1, #T_b1831_row6_col2 {\n",
       "  background-color: #f5fafe;\n",
       "  color: #000000;\n",
       "}\n",
       "#T_b1831_row6_col3, #T_b1831_row7_col3 {\n",
       "  background-color: #f2f8fd;\n",
       "  color: #000000;\n",
       "}\n",
       "</style>\n",
       "<table id=\"T_b1831\">\n",
       "  <thead>\n",
       "    <tr>\n",
       "      <th class=\"blank level0\" >&nbsp;</th>\n",
       "      <th id=\"T_b1831_level0_col0\" class=\"col_heading level0 col0\" >hypothesis</th>\n",
       "      <th id=\"T_b1831_level0_col1\" class=\"col_heading level0 col1\" >reach</th>\n",
       "      <th id=\"T_b1831_level0_col2\" class=\"col_heading level0 col2\" >ICE</th>\n",
       "      <th id=\"T_b1831_level0_col3\" class=\"col_heading level0 col3\" >RICE</th>\n",
       "    </tr>\n",
       "  </thead>\n",
       "  <tbody>\n",
       "    <tr>\n",
       "      <th id=\"T_b1831_level0_row0\" class=\"row_heading level0 row0\" >7</th>\n",
       "      <td id=\"T_b1831_row0_col0\" class=\"data row0 col0\" >Добавить форму подписки на все основные страницы, чтобы собрать базу клиентов для email-рассылок</td>\n",
       "      <td id=\"T_b1831_row0_col1\" class=\"data row0 col1\" >10</td>\n",
       "      <td id=\"T_b1831_row0_col2\" class=\"data row0 col2\" >11.2</td>\n",
       "      <td id=\"T_b1831_row0_col3\" class=\"data row0 col3\" >112.0</td>\n",
       "    </tr>\n",
       "    <tr>\n",
       "      <th id=\"T_b1831_level0_row1\" class=\"row_heading level0 row1\" >2</th>\n",
       "      <td id=\"T_b1831_row1_col0\" class=\"data row1 col0\" >Добавить блоки рекомендаций товаров на сайт интернет магазина, чтобы повысить конверсию и средний чек заказа</td>\n",
       "      <td id=\"T_b1831_row1_col1\" class=\"data row1 col1\" >8</td>\n",
       "      <td id=\"T_b1831_row1_col2\" class=\"data row1 col2\" >7.0</td>\n",
       "      <td id=\"T_b1831_row1_col3\" class=\"data row1 col3\" >56.0</td>\n",
       "    </tr>\n",
       "    <tr>\n",
       "      <th id=\"T_b1831_level0_row2\" class=\"row_heading level0 row2\" >0</th>\n",
       "      <td id=\"T_b1831_row2_col0\" class=\"data row2 col0\" >Добавить два новых канала привлечения трафика, что позволит привлекать на 30% больше пользователей</td>\n",
       "      <td id=\"T_b1831_row2_col1\" class=\"data row2 col1\" >3</td>\n",
       "      <td id=\"T_b1831_row2_col2\" class=\"data row2 col2\" >13.3</td>\n",
       "      <td id=\"T_b1831_row2_col3\" class=\"data row2 col3\" >40.0</td>\n",
       "    </tr>\n",
       "    <tr>\n",
       "      <th id=\"T_b1831_level0_row3\" class=\"row_heading level0 row3\" >6</th>\n",
       "      <td id=\"T_b1831_row3_col0\" class=\"data row3 col0\" >Показать на главной странице баннеры с актуальными акциями и распродажами, чтобы увеличить конверсию</td>\n",
       "      <td id=\"T_b1831_row3_col1\" class=\"data row3 col1\" >5</td>\n",
       "      <td id=\"T_b1831_row3_col2\" class=\"data row3 col2\" >8.0</td>\n",
       "      <td id=\"T_b1831_row3_col3\" class=\"data row3 col3\" >40.0</td>\n",
       "    </tr>\n",
       "    <tr>\n",
       "      <th id=\"T_b1831_level0_row4\" class=\"row_heading level0 row4\" >8</th>\n",
       "      <td id=\"T_b1831_row4_col0\" class=\"data row4 col0\" >Запустить акцию, дающую скидку на товар в день рождения</td>\n",
       "      <td id=\"T_b1831_row4_col1\" class=\"data row4 col1\" >1</td>\n",
       "      <td id=\"T_b1831_row4_col2\" class=\"data row4 col2\" >16.2</td>\n",
       "      <td id=\"T_b1831_row4_col3\" class=\"data row4 col3\" >16.2</td>\n",
       "    </tr>\n",
       "    <tr>\n",
       "      <th id=\"T_b1831_level0_row5\" class=\"row_heading level0 row5\" >3</th>\n",
       "      <td id=\"T_b1831_row5_col0\" class=\"data row5 col0\" >Изменить структура категорий, что увеличит конверсию, т.к. пользователи быстрее найдут нужный товар</td>\n",
       "      <td id=\"T_b1831_row5_col1\" class=\"data row5 col1\" >8</td>\n",
       "      <td id=\"T_b1831_row5_col2\" class=\"data row5 col2\" >1.1</td>\n",
       "      <td id=\"T_b1831_row5_col3\" class=\"data row5 col3\" >9.0</td>\n",
       "    </tr>\n",
       "    <tr>\n",
       "      <th id=\"T_b1831_level0_row6\" class=\"row_heading level0 row6\" >1</th>\n",
       "      <td id=\"T_b1831_row6_col0\" class=\"data row6 col0\" >Запустить собственную службу доставки, что сократит срок доставки заказов</td>\n",
       "      <td id=\"T_b1831_row6_col1\" class=\"data row6 col1\" >2</td>\n",
       "      <td id=\"T_b1831_row6_col2\" class=\"data row6 col2\" >2.0</td>\n",
       "      <td id=\"T_b1831_row6_col3\" class=\"data row6 col3\" >4.0</td>\n",
       "    </tr>\n",
       "    <tr>\n",
       "      <th id=\"T_b1831_level0_row7\" class=\"row_heading level0 row7\" >5</th>\n",
       "      <td id=\"T_b1831_row7_col0\" class=\"data row7 col0\" >Добавить страницу отзывов клиентов о магазине, что позволит увеличить количество заказов</td>\n",
       "      <td id=\"T_b1831_row7_col1\" class=\"data row7 col1\" >3</td>\n",
       "      <td id=\"T_b1831_row7_col2\" class=\"data row7 col2\" >1.3</td>\n",
       "      <td id=\"T_b1831_row7_col3\" class=\"data row7 col3\" >4.0</td>\n",
       "    </tr>\n",
       "    <tr>\n",
       "      <th id=\"T_b1831_level0_row8\" class=\"row_heading level0 row8\" >4</th>\n",
       "      <td id=\"T_b1831_row8_col0\" class=\"data row8 col0\" >Изменить цвет фона главной страницы, чтобы увеличить вовлеченность пользователей</td>\n",
       "      <td id=\"T_b1831_row8_col1\" class=\"data row8 col1\" >3</td>\n",
       "      <td id=\"T_b1831_row8_col2\" class=\"data row8 col2\" >1.0</td>\n",
       "      <td id=\"T_b1831_row8_col3\" class=\"data row8 col3\" >3.0</td>\n",
       "    </tr>\n",
       "  </tbody>\n",
       "</table>\n"
      ],
      "text/plain": [
       "<pandas.io.formats.style.Styler at 0x12213ff70>"
      ]
     },
     "execution_count": 26,
     "metadata": {},
     "output_type": "execute_result"
    }
   ],
   "source": [
    "(hypothesis[['hypothesis','reach', 'ICE', 'RICE']]\n",
    " .sort_values(by='RICE', ascending=False)\n",
    " .style\n",
    " .format({'ICE': '{:.1f}', 'RICE': '{:.1f}'})\n",
    " .background_gradient(cmap='Blues', axis=None)\n",
    ")"
   ]
  },
  {
   "cell_type": "markdown",
   "id": "8e6c1efc-e09b-49bc-84df-b44672040670",
   "metadata": {},
   "source": [
    "## Вывод"
   ]
  },
  {
   "cell_type": "markdown",
   "id": "259dfa16-4714-4c31-9810-1f417558ce92",
   "metadata": {},
   "source": [
    "* Наиболее успешная гипотеза для тестирования - гипотеза 7: \n",
    "\"Добавить форму подписки на все основные страницы, чтобы собрать базу клиентов для email-рассылок\". \n",
    "Оба фреймфорка ICE и RICE показали эту гипотезу в тройке лидеров. А согласно RICE эта гипотеза занимает 1 место, поскольку имеет максимальный балл (10) по охвату пользователей. \n",
    "\n",
    "* Приоритизация по фреймворку ICE и RICE показала немного разные результаты в отношении позиций для второй, нулевой и восьмой гипотез: на втором месте по RICE гипотеза два, так как у нее высокая оценка по охвату пользователей (reach) - 8 баллов, а нулевая только на третьем месте, поскольку имеет охват значительно ниже, а именно 3 балла, восьмая гипотеза совсем не попала в тройку лидеров, поскольку имеет максимально низкий охват пользователей - 1 балл.    "
   ]
  },
  {
   "cell_type": "markdown",
   "id": "720938c5-1d2d-4af3-b2e6-459fa957b6b4",
   "metadata": {},
   "source": [
    "<a name='stage_3'></a>\n",
    "# Шаг 3. Анализ A/B-теста\n",
    "[Назад к оглавлению](#contents)"
   ]
  },
  {
   "cell_type": "markdown",
   "id": "ff214c15-993c-4236-87ab-770e3c8c030f",
   "metadata": {},
   "source": [
    "## График кумулятивной выручки по группам"
   ]
  },
  {
   "cell_type": "markdown",
   "id": "bfb0f748-d368-4f09-82e9-c47d7fa29eea",
   "metadata": {},
   "source": [
    "Чтобы построить графики, нужно собрать кумулятивные данные."
   ]
  },
  {
   "cell_type": "markdown",
   "id": "06bc73cc-a442-4fbd-9bd8-4f9d9896c43d",
   "metadata": {},
   "source": [
    "Соберем кумулятивные данные. Объявим датафрейм cumulativeData со столбцами:\n",
    "\n",
    "* date — дата;\n",
    "* group — группа A/B-теста (A или B);\n",
    "* orders — кумулятивное количество заказов на указанную дату в указанной группе;\n",
    "* buyers — кумулятивное количество пользователей, совершивших хотя бы один заказ, на указанную дату в указанной группе;\n",
    "* revenue — кумулятивная выручка на указанную дату в указанной группе (средний чек);\n",
    "* visitors — кумулятивное количество посетителей интернет-магазина на указанную дату в определённой группе."
   ]
  },
  {
   "cell_type": "code",
   "execution_count": 27,
   "id": "5e4d3ddc-a270-48a4-a555-63b914c58ac6",
   "metadata": {
    "tags": []
   },
   "outputs": [],
   "source": [
    "#Создадим массив уникальных пар значений дат и групп теста методом drop_duplicates():\n",
    "datesGroups = orders_new[['date', 'group']].drop_duplicates()\n",
    "\n",
    "#агрегированные кумулятивные по дням данные о заказах\n",
    "ordersAggregated = datesGroups.apply(\n",
    "    lambda x: orders_new[\n",
    "        np.logical_and(\n",
    "            orders_new['date'] <= x['date'], orders_new['group'] == x['group']\n",
    "        )\n",
    "    ].agg(\n",
    "        {\n",
    "            'date': 'max',\n",
    "            'group': 'max',\n",
    "            'visitorId': 'nunique',\n",
    "            'transactionId': 'nunique',\n",
    "            'revenue': 'sum',\n",
    "        }\n",
    "    ),\n",
    "    axis=1,\n",
    ").sort_values(by=['date', 'group'])\n",
    "\n",
    "#агрегированные кумулятивные по дням данные о посетителях интернет-магазина\n",
    "visitorsAggregated = datesGroups.apply(\n",
    "    lambda x: visitors[\n",
    "        np.logical_and(\n",
    "            visitors['date'] <= x['date'], visitors['group'] == x['group']\n",
    "        )\n",
    "    ].agg({'date': 'max', 'group': 'max', 'visitors': 'sum'}),\n",
    "    axis=1,\n",
    ").sort_values(by=['date', 'group'])\n",
    "\n",
    "\n",
    "# объединяем кумулятивные данные в одной таблице и присваиваем ее столбцам понятные названия\n",
    "cumulativeData = ordersAggregated.merge(\n",
    "    visitorsAggregated, left_on=['date', 'group'], right_on=['date', 'group']\n",
    ")\n",
    "cumulativeData.columns = [\n",
    "    'date',\n",
    "    'group',\n",
    "    'orders',\n",
    "    'buyers',\n",
    "    'revenue',\n",
    "    'visitors',\n",
    "]"
   ]
  },
  {
   "cell_type": "markdown",
   "id": "42f49daa-4fd4-45bb-b71a-a7bd9fd0a2af",
   "metadata": {},
   "source": [
    "Посмотрим на наши кумулятивные данные."
   ]
  },
  {
   "cell_type": "code",
   "execution_count": 28,
   "id": "096cad5e-4cc3-42c9-87ad-820608fb7141",
   "metadata": {},
   "outputs": [
    {
     "data": {
      "text/html": [
       "<div>\n",
       "<style scoped>\n",
       "    .dataframe tbody tr th:only-of-type {\n",
       "        vertical-align: middle;\n",
       "    }\n",
       "\n",
       "    .dataframe tbody tr th {\n",
       "        vertical-align: top;\n",
       "    }\n",
       "\n",
       "    .dataframe thead th {\n",
       "        text-align: right;\n",
       "    }\n",
       "</style>\n",
       "<table border=\"1\" class=\"dataframe\">\n",
       "  <thead>\n",
       "    <tr style=\"text-align: right;\">\n",
       "      <th></th>\n",
       "      <th>orders</th>\n",
       "      <th>buyers</th>\n",
       "      <th>revenue</th>\n",
       "      <th>visitors</th>\n",
       "    </tr>\n",
       "  </thead>\n",
       "  <tbody>\n",
       "    <tr>\n",
       "      <th>count</th>\n",
       "      <td>62.000000</td>\n",
       "      <td>62.000000</td>\n",
       "      <td>6.200000e+01</td>\n",
       "      <td>62.000000</td>\n",
       "    </tr>\n",
       "    <tr>\n",
       "      <th>mean</th>\n",
       "      <td>262.112903</td>\n",
       "      <td>273.258065</td>\n",
       "      <td>2.101886e+06</td>\n",
       "      <td>9883.306452</td>\n",
       "    </tr>\n",
       "    <tr>\n",
       "      <th>std</th>\n",
       "      <td>141.251213</td>\n",
       "      <td>146.415301</td>\n",
       "      <td>1.441952e+06</td>\n",
       "      <td>5378.074717</td>\n",
       "    </tr>\n",
       "    <tr>\n",
       "      <th>min</th>\n",
       "      <td>17.000000</td>\n",
       "      <td>17.000000</td>\n",
       "      <td>5.975800e+04</td>\n",
       "      <td>713.000000</td>\n",
       "    </tr>\n",
       "    <tr>\n",
       "      <th>25%</th>\n",
       "      <td>145.750000</td>\n",
       "      <td>155.500000</td>\n",
       "      <td>9.356732e+05</td>\n",
       "      <td>5437.500000</td>\n",
       "    </tr>\n",
       "    <tr>\n",
       "      <th>50%</th>\n",
       "      <td>261.000000</td>\n",
       "      <td>271.500000</td>\n",
       "      <td>1.846950e+06</td>\n",
       "      <td>10030.000000</td>\n",
       "    </tr>\n",
       "    <tr>\n",
       "      <th>75%</th>\n",
       "      <td>376.000000</td>\n",
       "      <td>392.000000</td>\n",
       "      <td>3.184158e+06</td>\n",
       "      <td>14259.000000</td>\n",
       "    </tr>\n",
       "    <tr>\n",
       "      <th>max</th>\n",
       "      <td>528.000000</td>\n",
       "      <td>548.000000</td>\n",
       "      <td>5.068972e+06</td>\n",
       "      <td>18916.000000</td>\n",
       "    </tr>\n",
       "  </tbody>\n",
       "</table>\n",
       "</div>"
      ],
      "text/plain": [
       "           orders      buyers       revenue      visitors\n",
       "count   62.000000   62.000000  6.200000e+01     62.000000\n",
       "mean   262.112903  273.258065  2.101886e+06   9883.306452\n",
       "std    141.251213  146.415301  1.441952e+06   5378.074717\n",
       "min     17.000000   17.000000  5.975800e+04    713.000000\n",
       "25%    145.750000  155.500000  9.356732e+05   5437.500000\n",
       "50%    261.000000  271.500000  1.846950e+06  10030.000000\n",
       "75%    376.000000  392.000000  3.184158e+06  14259.000000\n",
       "max    528.000000  548.000000  5.068972e+06  18916.000000"
      ]
     },
     "execution_count": 28,
     "metadata": {},
     "output_type": "execute_result"
    }
   ],
   "source": [
    "cumulativeData.describe()"
   ]
  },
  {
   "cell_type": "markdown",
   "id": "9233d90a-58fa-481c-baf5-6c7a5de8a491",
   "metadata": {},
   "source": [
    "Строим график кумулятивной выручки по дням по группам."
   ]
  },
  {
   "cell_type": "code",
   "execution_count": 29,
   "id": "602c0365-8d20-4922-8d24-66b64439325a",
   "metadata": {},
   "outputs": [
    {
     "data": {
      "image/png": "[encoded data removed]",
      "text/plain": [
       "<Figure size 1200x1000 with 1 Axes>"
      ]
     },
     "metadata": {},
     "output_type": "display_data"
    }
   ],
   "source": [
    "# датафрейм с кумулятивным количеством заказов и кумулятивной выручкой по дням в группе А\n",
    "cumulativeRevenueA = cumulativeData[cumulativeData['group']=='A'][['date','revenue', 'orders']]\n",
    "\n",
    "# датафрейм с кумулятивным количеством заказов и кумулятивной выручкой по дням в группе B\n",
    "cumulativeRevenueB = cumulativeData[cumulativeData['group']=='B'][['date','revenue', 'orders']]\n",
    "\n",
    "# Строим график выручки группы А\n",
    "plt.figure(figsize=(12,10))\n",
    "plt.plot(cumulativeRevenueA['date'], cumulativeRevenueA['revenue'], label='A')\n",
    "plt.legend()\n",
    "\n",
    "# Строим график выручки группы B\n",
    "plt.plot(cumulativeRevenueB['date'], cumulativeRevenueB['revenue'], label='B')\n",
    "plt.legend()\n",
    "\n",
    "#Добавляем заголовок\n",
    "plt.title('График кумулятивной выручки по дням по группам \\n')\n",
    "\n",
    "#Делаем подписи на оси x читаемыми\n",
    "plt.xticks(rotation= 45);"
   ]
  },
  {
   "cell_type": "markdown",
   "id": "dc0ae493-7338-4603-ab55-9dd3581a6895",
   "metadata": {},
   "source": [
    "Рост выручки у группы B скачкообразный. 19 августа мы наблюдаем резкий рост. Похоже на аномалию. Посмотрим на выручку в группе B, отсортируем значения по убыванию."
   ]
  },
  {
   "cell_type": "code",
   "execution_count": 30,
   "id": "ea3c810a-f508-43c6-a8b3-c54b326acecb",
   "metadata": {
    "tags": []
   },
   "outputs": [
    {
     "data": {
      "text/html": [
       "<div>\n",
       "<style scoped>\n",
       "    .dataframe tbody tr th:only-of-type {\n",
       "        vertical-align: middle;\n",
       "    }\n",
       "\n",
       "    .dataframe tbody tr th {\n",
       "        vertical-align: top;\n",
       "    }\n",
       "\n",
       "    .dataframe thead th {\n",
       "        text-align: right;\n",
       "    }\n",
       "</style>\n",
       "<table border=\"1\" class=\"dataframe\">\n",
       "  <thead>\n",
       "    <tr style=\"text-align: right;\">\n",
       "      <th></th>\n",
       "      <th>date</th>\n",
       "      <th>revenue</th>\n",
       "      <th>orders</th>\n",
       "    </tr>\n",
       "  </thead>\n",
       "  <tbody>\n",
       "    <tr>\n",
       "      <th>61</th>\n",
       "      <td>2019-08-31</td>\n",
       "      <td>5068972</td>\n",
       "      <td>528</td>\n",
       "    </tr>\n",
       "    <tr>\n",
       "      <th>59</th>\n",
       "      <td>2019-08-30</td>\n",
       "      <td>4955833</td>\n",
       "      <td>511</td>\n",
       "    </tr>\n",
       "    <tr>\n",
       "      <th>57</th>\n",
       "      <td>2019-08-29</td>\n",
       "      <td>4746610</td>\n",
       "      <td>490</td>\n",
       "    </tr>\n",
       "    <tr>\n",
       "      <th>55</th>\n",
       "      <td>2019-08-28</td>\n",
       "      <td>4640510</td>\n",
       "      <td>476</td>\n",
       "    </tr>\n",
       "    <tr>\n",
       "      <th>53</th>\n",
       "      <td>2019-08-27</td>\n",
       "      <td>4579312</td>\n",
       "      <td>456</td>\n",
       "    </tr>\n",
       "    <tr>\n",
       "      <th>51</th>\n",
       "      <td>2019-08-26</td>\n",
       "      <td>4467965</td>\n",
       "      <td>446</td>\n",
       "    </tr>\n",
       "    <tr>\n",
       "      <th>49</th>\n",
       "      <td>2019-08-25</td>\n",
       "      <td>4294526</td>\n",
       "      <td>424</td>\n",
       "    </tr>\n",
       "    <tr>\n",
       "      <th>47</th>\n",
       "      <td>2019-08-24</td>\n",
       "      <td>4215269</td>\n",
       "      <td>412</td>\n",
       "    </tr>\n",
       "    <tr>\n",
       "      <th>45</th>\n",
       "      <td>2019-08-23</td>\n",
       "      <td>4127403</td>\n",
       "      <td>400</td>\n",
       "    </tr>\n",
       "    <tr>\n",
       "      <th>43</th>\n",
       "      <td>2019-08-22</td>\n",
       "      <td>4050134</td>\n",
       "      <td>388</td>\n",
       "    </tr>\n",
       "    <tr>\n",
       "      <th>41</th>\n",
       "      <td>2019-08-21</td>\n",
       "      <td>3908406</td>\n",
       "      <td>370</td>\n",
       "    </tr>\n",
       "    <tr>\n",
       "      <th>39</th>\n",
       "      <td>2019-08-20</td>\n",
       "      <td>3768059</td>\n",
       "      <td>360</td>\n",
       "    </tr>\n",
       "    <tr>\n",
       "      <th>37</th>\n",
       "      <td>2019-08-19</td>\n",
       "      <td>3620785</td>\n",
       "      <td>341</td>\n",
       "    </tr>\n",
       "    <tr>\n",
       "      <th>35</th>\n",
       "      <td>2019-08-18</td>\n",
       "      <td>2190865</td>\n",
       "      <td>321</td>\n",
       "    </tr>\n",
       "    <tr>\n",
       "      <th>33</th>\n",
       "      <td>2019-08-17</td>\n",
       "      <td>2155542</td>\n",
       "      <td>314</td>\n",
       "    </tr>\n",
       "    <tr>\n",
       "      <th>31</th>\n",
       "      <td>2019-08-16</td>\n",
       "      <td>2074677</td>\n",
       "      <td>302</td>\n",
       "    </tr>\n",
       "    <tr>\n",
       "      <th>29</th>\n",
       "      <td>2019-08-15</td>\n",
       "      <td>1960427</td>\n",
       "      <td>284</td>\n",
       "    </tr>\n",
       "    <tr>\n",
       "      <th>27</th>\n",
       "      <td>2019-08-14</td>\n",
       "      <td>1650268</td>\n",
       "      <td>258</td>\n",
       "    </tr>\n",
       "    <tr>\n",
       "      <th>25</th>\n",
       "      <td>2019-08-13</td>\n",
       "      <td>1542928</td>\n",
       "      <td>244</td>\n",
       "    </tr>\n",
       "    <tr>\n",
       "      <th>23</th>\n",
       "      <td>2019-08-12</td>\n",
       "      <td>1425237</td>\n",
       "      <td>225</td>\n",
       "    </tr>\n",
       "    <tr>\n",
       "      <th>21</th>\n",
       "      <td>2019-08-11</td>\n",
       "      <td>1321183</td>\n",
       "      <td>207</td>\n",
       "    </tr>\n",
       "    <tr>\n",
       "      <th>19</th>\n",
       "      <td>2019-08-10</td>\n",
       "      <td>1268123</td>\n",
       "      <td>195</td>\n",
       "    </tr>\n",
       "    <tr>\n",
       "      <th>17</th>\n",
       "      <td>2019-08-09</td>\n",
       "      <td>1162961</td>\n",
       "      <td>173</td>\n",
       "    </tr>\n",
       "    <tr>\n",
       "      <th>15</th>\n",
       "      <td>2019-08-08</td>\n",
       "      <td>1059795</td>\n",
       "      <td>154</td>\n",
       "    </tr>\n",
       "    <tr>\n",
       "      <th>13</th>\n",
       "      <td>2019-08-07</td>\n",
       "      <td>909654</td>\n",
       "      <td>132</td>\n",
       "    </tr>\n",
       "    <tr>\n",
       "      <th>11</th>\n",
       "      <td>2019-08-06</td>\n",
       "      <td>690490</td>\n",
       "      <td>109</td>\n",
       "    </tr>\n",
       "    <tr>\n",
       "      <th>9</th>\n",
       "      <td>2019-08-05</td>\n",
       "      <td>475648</td>\n",
       "      <td>87</td>\n",
       "    </tr>\n",
       "    <tr>\n",
       "      <th>7</th>\n",
       "      <td>2019-08-04</td>\n",
       "      <td>385740</td>\n",
       "      <td>66</td>\n",
       "    </tr>\n",
       "    <tr>\n",
       "      <th>5</th>\n",
       "      <td>2019-08-03</td>\n",
       "      <td>288850</td>\n",
       "      <td>53</td>\n",
       "    </tr>\n",
       "    <tr>\n",
       "      <th>3</th>\n",
       "      <td>2019-08-02</td>\n",
       "      <td>221801</td>\n",
       "      <td>39</td>\n",
       "    </tr>\n",
       "    <tr>\n",
       "      <th>1</th>\n",
       "      <td>2019-08-01</td>\n",
       "      <td>59758</td>\n",
       "      <td>17</td>\n",
       "    </tr>\n",
       "  </tbody>\n",
       "</table>\n",
       "</div>"
      ],
      "text/plain": [
       "          date  revenue  orders\n",
       "61  2019-08-31  5068972     528\n",
       "59  2019-08-30  4955833     511\n",
       "57  2019-08-29  4746610     490\n",
       "55  2019-08-28  4640510     476\n",
       "53  2019-08-27  4579312     456\n",
       "51  2019-08-26  4467965     446\n",
       "49  2019-08-25  4294526     424\n",
       "47  2019-08-24  4215269     412\n",
       "45  2019-08-23  4127403     400\n",
       "43  2019-08-22  4050134     388\n",
       "41  2019-08-21  3908406     370\n",
       "39  2019-08-20  3768059     360\n",
       "37  2019-08-19  3620785     341\n",
       "35  2019-08-18  2190865     321\n",
       "33  2019-08-17  2155542     314\n",
       "31  2019-08-16  2074677     302\n",
       "29  2019-08-15  1960427     284\n",
       "27  2019-08-14  1650268     258\n",
       "25  2019-08-13  1542928     244\n",
       "23  2019-08-12  1425237     225\n",
       "21  2019-08-11  1321183     207\n",
       "19  2019-08-10  1268123     195\n",
       "17  2019-08-09  1162961     173\n",
       "15  2019-08-08  1059795     154\n",
       "13  2019-08-07   909654     132\n",
       "11  2019-08-06   690490     109\n",
       "9   2019-08-05   475648      87\n",
       "7   2019-08-04   385740      66\n",
       "5   2019-08-03   288850      53\n",
       "3   2019-08-02   221801      39\n",
       "1   2019-08-01    59758      17"
      ]
     },
     "execution_count": 30,
     "metadata": {},
     "output_type": "execute_result"
    }
   ],
   "source": [
    "cumulativeRevenueB.sort_values(by='revenue', ascending=False)"
   ]
  },
  {
   "cell_type": "code",
   "execution_count": 31,
   "id": "8c27a1e6-813e-4167-b895-8e6c62699686",
   "metadata": {},
   "outputs": [
    {
     "data": {
      "text/plain": [
       "'Прибыль 19 августа увеличилась на 65.3%'"
      ]
     },
     "execution_count": 31,
     "metadata": {},
     "output_type": "execute_result"
    }
   ],
   "source": [
    "(\"Прибыль 19 августа увеличилась на {:.1%}\".\n",
    "format((cumulativeRevenueB['revenue'][37] - cumulativeRevenueB['revenue'][35])/cumulativeRevenueB['revenue'][35]))"
   ]
  },
  {
   "cell_type": "markdown",
   "id": "ddb3ab2f-14ac-4066-9aef-6d552646e71c",
   "metadata": {},
   "source": [
    "При этом число заказов так резко не увеличилось. Видимо, это были какие-то аномально крупные заказы. Более детально мы рассмотрим выбросы позже."
   ]
  },
  {
   "cell_type": "markdown",
   "id": "52ad28f7-c18f-4443-a132-4ba4da6a6aea",
   "metadata": {},
   "source": [
    "### Вывод"
   ]
  },
  {
   "cell_type": "markdown",
   "id": "3f5b8da5-6dc2-430d-ac07-4d2461285c2c",
   "metadata": {},
   "source": [
    "* Только первые несколько дней выручка у обеих групп была стабильно одинаковой, с 5 мая пользователи группы B вырываются вперед  и показывают более высокую выручку.\n",
    "\n",
    "* Рост выручки у группы B при этом скачкообразный. 19 августа прибыль увеличилась аж на 65%. Это были аномально крупные дорогие заказы. Аномально большие заказы влияют на результаты. На этапе заключительного анализа результатов AB-теста их нужно будет удалить."
   ]
  },
  {
   "cell_type": "markdown",
   "id": "c0f39103-c24b-407b-9e3c-ac86321cfde3",
   "metadata": {},
   "source": [
    "## График кумулятивного среднего чека по группам. "
   ]
  },
  {
   "cell_type": "markdown",
   "id": "ee916908-0602-4fbf-bd01-6f0e4e6cb3e1",
   "metadata": {},
   "source": [
    "Построим график кумулятивного среднего чека по дням по группам."
   ]
  },
  {
   "cell_type": "code",
   "execution_count": 32,
   "id": "5d995b36-4fc8-4e9a-8251-ca17fde85742",
   "metadata": {},
   "outputs": [
    {
     "data": {
      "image/png": "[encoded data removed]",
      "text/plain": [
       "<Figure size 1200x1000 with 1 Axes>"
      ]
     },
     "metadata": {},
     "output_type": "display_data"
    }
   ],
   "source": [
    "cumulativeRevenueA = cumulativeData[cumulativeData['group'] == 'A'][\n",
    "    ['date', 'revenue', 'orders']\n",
    "]\n",
    "cumulativeRevenueB = cumulativeData[cumulativeData['group'] == 'B'][\n",
    "    ['date', 'revenue', 'orders']\n",
    "]\n",
    "plt.figure(figsize=(12,10))\n",
    "plt.plot(cumulativeRevenueA['date'], cumulativeRevenueA['revenue']/cumulativeRevenueA['orders'], label='A')\n",
    "plt.plot(cumulativeRevenueB['date'], cumulativeRevenueB['revenue']/cumulativeRevenueB['orders'], label='B')\n",
    "plt.legend() \n",
    "\n",
    "#Добавляем заголовок\n",
    "plt.title('График кумулятивного среднего чека по дням по группам \\n')\n",
    "\n",
    "#Делаем подписи на оси x читаемыми\n",
    "plt.xticks(rotation= 40);"
   ]
  },
  {
   "cell_type": "markdown",
   "id": "c3447478-e5ba-42ad-8efa-662bb0c5dd32",
   "metadata": {},
   "source": [
    "### Вывод"
   ]
  },
  {
   "cell_type": "markdown",
   "id": "c493d69b-8da9-4049-911f-86daca8cdf22",
   "metadata": {},
   "source": [
    "* Кумулятивное значение среднего чека по группам также колеблется. \n",
    "\n",
    "* Принимать решение по этой метрике рано."
   ]
  },
  {
   "cell_type": "markdown",
   "id": "36a9f002-fea4-455f-8abc-947401d895a0",
   "metadata": {},
   "source": [
    "## График относительного изменения кумулятивного среднего чека группы B к группе A."
   ]
  },
  {
   "cell_type": "markdown",
   "id": "03415544-9295-4c23-aec9-f5122b6adfd7",
   "metadata": {},
   "source": [
    "Чтобы нагляднее увидеть разницу между группами, построим график относительного различия кумулятивного среднего чека группы B к группе A.\n",
    "\n",
    "Каждую его точку рассчитывают так: **кумулятивная метрика группы B / кумулятивная метрика группы A - 1**."
   ]
  },
  {
   "cell_type": "code",
   "execution_count": 33,
   "id": "1b3aae13-424b-4a26-a8ab-97da880d49dd",
   "metadata": {},
   "outputs": [
    {
     "data": {
      "image/png": "[encoded data removed]",
      "text/plain": [
       "<Figure size 1200x1000 with 1 Axes>"
      ]
     },
     "metadata": {},
     "output_type": "display_data"
    }
   ],
   "source": [
    "# собираем данные в одном датафрейме\n",
    "mergedCumulativeRevenue = cumulativeRevenueA.merge(cumulativeRevenueB, on='date', how='left', suffixes=['A', 'B'])\n",
    "\n",
    "# cтроим отношение средних чеков\n",
    "plt.figure(figsize=(12,10))\n",
    "(plt.plot(mergedCumulativeRevenue['date'], \n",
    "          (mergedCumulativeRevenue['revenueB']/mergedCumulativeRevenue['ordersB'])\n",
    "          /(mergedCumulativeRevenue['revenueA']/mergedCumulativeRevenue['ordersA'])-1))\n",
    "\n",
    "# добавляем ось X\n",
    "plt.axhline(y=0, color='black', linestyle='--')\n",
    "plt.axhline(y=-0.1, color='grey', linestyle='--')\n",
    "\n",
    "#Добавляем заголовок\n",
    "plt.title('График относительного различия среднего чека группы B к группе A \\n')\n",
    "\n",
    "#Делаем подписи на оси x читаемыми\n",
    "plt.xticks(rotation= 90);"
   ]
  },
  {
   "cell_type": "markdown",
   "id": "4d903e8b-1866-47a1-9bc1-20ef70e54de2",
   "metadata": {},
   "source": [
    "### Вывод"
   ]
  },
  {
   "cell_type": "markdown",
   "id": "295186f6-ba5a-4369-a344-d1a4437fbe89",
   "metadata": {},
   "source": [
    "* В начале теста средний чек в группе B был значительно ниже, чем у группы A.\n",
    "\n",
    "* В нескольких точках график различия между группами резко «скачет». Там спрятались крупные заказы и выбросы. "
   ]
  },
  {
   "cell_type": "markdown",
   "id": "57a1b821-1f1e-4079-9be7-48b5f1789391",
   "metadata": {},
   "source": [
    "## График кумулятивной конверсии по группам"
   ]
  },
  {
   "cell_type": "markdown",
   "id": "cfcef2f1-5309-4699-9455-ad8df6b02eb5",
   "metadata": {},
   "source": [
    "Для этого сначла посчитаем кумулятивную конверсию."
   ]
  },
  {
   "cell_type": "code",
   "execution_count": 34,
   "id": "d24386fd-0efc-4fde-9ebc-126caf69a2f4",
   "metadata": {},
   "outputs": [
    {
     "data": {
      "image/png": "[encoded data removed]",
      "text/plain": [
       "<Figure size 1200x1000 with 1 Axes>"
      ]
     },
     "metadata": {},
     "output_type": "display_data"
    }
   ],
   "source": [
    "# считаем кумулятивную конверсию\n",
    "cumulativeData['conversion'] = cumulativeData['orders']/cumulativeData['visitors']\n",
    "\n",
    "# отделяем данные по группе A\n",
    "cumulativeDataA = cumulativeData[cumulativeData['group']=='A']\n",
    "\n",
    "# отделяем данные по группе B\n",
    "cumulativeDataB = cumulativeData[cumulativeData['group']=='B']\n",
    "\n",
    "# строим графики\n",
    "plt.figure(figsize=(12,10))\n",
    "plt.plot(cumulativeDataA['date'], cumulativeDataA['conversion'], label='A')\n",
    "plt.plot(cumulativeDataB['date'], cumulativeDataB['conversion'], label='B')\n",
    "plt.legend()\n",
    "\n",
    "# задаем масштаб осей \n",
    "#передаем plt.axis минимальное и максимальное значения оси x:\n",
    "plt.axis([\"2019-08-01\", '2019-08-31', 0, 0.05])\n",
    "\n",
    "#Добавляем заголовок\n",
    "plt.title('График кумулятивной конверсии \\n')\n",
    "\n",
    "#Делаем подписи на оси x читаемыми\n",
    "plt.xticks(rotation= 45);"
   ]
  },
  {
   "cell_type": "markdown",
   "id": "1ade19d6-46b4-49bd-ac15-b89744a19c2d",
   "metadata": {},
   "source": [
    "### Вывод"
   ]
  },
  {
   "cell_type": "markdown",
   "id": "67c29e51-ede7-4840-94a4-044f0bc0d961",
   "metadata": {},
   "source": [
    "Конверсии у обоих групп в самом начале росли, причем у группы A она была выше. \n",
    "После 3 августа конверсии упали. После 5 августа конверсия у группы B стабильно выше, чем у группы A. "
   ]
  },
  {
   "cell_type": "markdown",
   "id": "b8351bc2-16eb-4eed-bb9b-9c34716b4801",
   "metadata": {},
   "source": [
    "## График относительного изменения кумулятивной конверсии группы B к группе A"
   ]
  },
  {
   "cell_type": "markdown",
   "id": "129255cd-814f-479d-b1d4-5408d532c2cf",
   "metadata": {},
   "source": [
    "Построим график относительного различия кумулятивных конверсий."
   ]
  },
  {
   "cell_type": "code",
   "execution_count": 35,
   "id": "fb446b64-bcb8-4783-a9ed-51124f929566",
   "metadata": {},
   "outputs": [
    {
     "data": {
      "image/png": "[encoded data removed]",
      "text/plain": [
       "<Figure size 1200x1000 with 1 Axes>"
      ]
     },
     "metadata": {},
     "output_type": "display_data"
    }
   ],
   "source": [
    "mergedCumCnvs = cumulativeDataA[['date','conversion']].merge(cumulativeDataB[['date','conversion']], \n",
    "                                                                           on='date', how='left', suffixes=['A', 'B'])\n",
    "plt.figure(figsize=(12,10))\n",
    "plt.plot(mergedCumCnvs['date'], mergedCumCnvs['conversionB']/mergedCumCnvs['conversionA']-1, \n",
    "         label=\"Относительный прирост конверсии группы B относительно группы A\")\n",
    "plt.legend()\n",
    "\n",
    "plt.axhline(y=0, color='black', linestyle='--')\n",
    "plt.axhline(y=-0.1, color='grey', linestyle='--')\n",
    "\n",
    "# задаем масштаб осей \n",
    "plt.axis([\"2019-08-01\", '2019-08-31', -0.6, 0.6])\n",
    "\n",
    "#Добавляем заголовок\n",
    "plt.title('График кумулятивной конверсии \\n')\n",
    "\n",
    "#Делаем подписи на оси x читаемыми\n",
    "plt.xticks(rotation= 90);"
   ]
  },
  {
   "cell_type": "markdown",
   "id": "5916ca51-4097-4635-8d01-d72e79e36f5b",
   "metadata": {},
   "source": [
    "### Вывод"
   ]
  },
  {
   "cell_type": "markdown",
   "id": "e7d00e52-2c01-46b0-bf08-1825aa366bd6",
   "metadata": {},
   "source": [
    "Разница в кумулятивной конверсии группы B резко колебалась в начале, а потом стала стабильно выше, чем у группы A. \n",
    "\n",
    "Наблюдается стабилизация результатов. Но пока рано делать какие-либо окончательные выводы. Нужно сначала тщательно проанализировать выбросы. \n"
   ]
  },
  {
   "cell_type": "markdown",
   "id": "20d06965-dee4-4df0-bb3c-7cd2cbd0ace0",
   "metadata": {},
   "source": [
    "## Точечный график количества заказов по посетителям"
   ]
  },
  {
   "cell_type": "markdown",
   "id": "175af36a-f916-47e6-8e52-aa03561bf730",
   "metadata": {},
   "source": [
    "Для начала соберем нужные данные для диаграммы: \n",
    "сгруппируем данные по идентификатору посетителя и посчитаем количество транзакций на каждого посетителя."
   ]
  },
  {
   "cell_type": "code",
   "execution_count": 36,
   "id": "cd671a7f-780f-4b23-aaea-95a89a4734a0",
   "metadata": {},
   "outputs": [
    {
     "data": {
      "text/plain": [
       "1    937\n",
       "2     29\n",
       "3      7\n",
       "Name: orders, dtype: int64"
      ]
     },
     "execution_count": 36,
     "metadata": {},
     "output_type": "execute_result"
    }
   ],
   "source": [
    "ordersByVisitors = (\n",
    "    orders_new.groupby('visitorId', as_index=False)\n",
    "    .agg({'transactionId': 'nunique'})\n",
    ")\n",
    "ordersByVisitors.columns = ['visitorId', 'orders']\n",
    "\n",
    "#Посмотрим на распределение числа заказов с помощью value_counts()\n",
    "ordersByVisitors['orders'].value_counts()"
   ]
  },
  {
   "cell_type": "markdown",
   "id": "30ab8b63-d8fd-4ba0-a409-91c1ad43b438",
   "metadata": {},
   "source": [
    "Посмотрим также на описательную статистику сгруппированных данных."
   ]
  },
  {
   "cell_type": "code",
   "execution_count": 37,
   "id": "641b0690-7055-457d-81f9-170c8c45e1c8",
   "metadata": {},
   "outputs": [
    {
     "data": {
      "text/html": [
       "<div>\n",
       "<style scoped>\n",
       "    .dataframe tbody tr th:only-of-type {\n",
       "        vertical-align: middle;\n",
       "    }\n",
       "\n",
       "    .dataframe tbody tr th {\n",
       "        vertical-align: top;\n",
       "    }\n",
       "\n",
       "    .dataframe thead th {\n",
       "        text-align: right;\n",
       "    }\n",
       "</style>\n",
       "<table border=\"1\" class=\"dataframe\">\n",
       "  <thead>\n",
       "    <tr style=\"text-align: right;\">\n",
       "      <th></th>\n",
       "      <th>visitorId</th>\n",
       "      <th>orders</th>\n",
       "    </tr>\n",
       "  </thead>\n",
       "  <tbody>\n",
       "    <tr>\n",
       "      <th>count</th>\n",
       "      <td>9.730000e+02</td>\n",
       "      <td>973.000000</td>\n",
       "    </tr>\n",
       "    <tr>\n",
       "      <th>mean</th>\n",
       "      <td>2.118387e+09</td>\n",
       "      <td>1.044193</td>\n",
       "    </tr>\n",
       "    <tr>\n",
       "      <th>std</th>\n",
       "      <td>1.221446e+09</td>\n",
       "      <td>0.238090</td>\n",
       "    </tr>\n",
       "    <tr>\n",
       "      <th>min</th>\n",
       "      <td>5.114589e+06</td>\n",
       "      <td>1.000000</td>\n",
       "    </tr>\n",
       "    <tr>\n",
       "      <th>25%</th>\n",
       "      <td>1.028756e+09</td>\n",
       "      <td>1.000000</td>\n",
       "    </tr>\n",
       "    <tr>\n",
       "      <th>50%</th>\n",
       "      <td>2.138109e+09</td>\n",
       "      <td>1.000000</td>\n",
       "    </tr>\n",
       "    <tr>\n",
       "      <th>75%</th>\n",
       "      <td>3.141508e+09</td>\n",
       "      <td>1.000000</td>\n",
       "    </tr>\n",
       "    <tr>\n",
       "      <th>max</th>\n",
       "      <td>4.283872e+09</td>\n",
       "      <td>3.000000</td>\n",
       "    </tr>\n",
       "  </tbody>\n",
       "</table>\n",
       "</div>"
      ],
      "text/plain": [
       "          visitorId      orders\n",
       "count  9.730000e+02  973.000000\n",
       "mean   2.118387e+09    1.044193\n",
       "std    1.221446e+09    0.238090\n",
       "min    5.114589e+06    1.000000\n",
       "25%    1.028756e+09    1.000000\n",
       "50%    2.138109e+09    1.000000\n",
       "75%    3.141508e+09    1.000000\n",
       "max    4.283872e+09    3.000000"
      ]
     },
     "execution_count": 37,
     "metadata": {},
     "output_type": "execute_result"
    }
   ],
   "source": [
    "ordersByVisitors.describe()"
   ]
  },
  {
   "cell_type": "markdown",
   "id": "25c7b6a3-7c35-422a-ad76-dd253c259b25",
   "metadata": {},
   "source": [
    "Построим диаграмму рассеивания количества заказов по посетителям магазина."
   ]
  },
  {
   "cell_type": "code",
   "execution_count": 38,
   "id": "247019b5-ae43-4b3d-a62d-844972cff7cd",
   "metadata": {},
   "outputs": [
    {
     "data": {
      "image/png": "[encoded data removed]",
      "text/plain": [
       "<Figure size 640x480 with 1 Axes>"
      ]
     },
     "metadata": {},
     "output_type": "display_data"
    }
   ],
   "source": [
    "x_values = pd.Series(range(0,len(ordersByVisitors)))\n",
    "plt.scatter(x_values, ordersByVisitors['orders'])\n",
    "plt.title('Построим диаграмму рассеивания количества заказов по посетителям магазина \\n');"
   ]
  },
  {
   "cell_type": "markdown",
   "id": "11b98ac4-e61e-499c-9a65-e98cbb0ba6b8",
   "metadata": {},
   "source": [
    "### Вывод"
   ]
  },
  {
   "cell_type": "markdown",
   "id": "aaddf70c-65b3-4a27-941d-c89241ce0bd7",
   "metadata": {},
   "source": [
    "* Чаще всего посетитель совершал 1 заказ - 75 % случаев, \n",
    "* далее чаще встречаются посетители с 2 заказами и     \n",
    "* лишь 7 посетителей совершили 3 заказа. Таких посетителей можно будет считать выбросами в данных."
   ]
  },
  {
   "cell_type": "markdown",
   "id": "beea17e4-3806-4d5f-a123-f06ca2fd6236",
   "metadata": {},
   "source": [
    "## 95-й и 99-й перцентили количества заказов на посетителя\n"
   ]
  },
  {
   "cell_type": "markdown",
   "id": "e72b4418-71ac-41e7-b56c-e5ee12b354c3",
   "metadata": {},
   "source": [
    "Посчитаем выборочные перцентили количества заказов на одного пользователя c помощью метод percentile() библиотеки Numpy. "
   ]
  },
  {
   "cell_type": "code",
   "execution_count": 39,
   "id": "f89c3ec0-f7bd-4ae8-87ea-939c29748bf5",
   "metadata": {},
   "outputs": [
    {
     "name": "stdout",
     "output_type": "stream",
     "text": [
      "[1. 2.]\n"
     ]
    }
   ],
   "source": [
    "print(np.percentile(ordersByVisitors['orders'], [95, 99]))"
   ]
  },
  {
   "cell_type": "markdown",
   "id": "0154e464-3c8f-42bf-8f13-cca54bd76e93",
   "metadata": {},
   "source": [
    "### Вывод"
   ]
  },
  {
   "cell_type": "markdown",
   "id": "9801f9c0-66ff-4dc3-9657-5b63fe3a688a",
   "metadata": {},
   "source": [
    "* Не более 5 процентов пользователей оформляли более 1 заказа. \n",
    "* Определим 2 как границу аномальных посетителей. Исключим из анализа посетителей, которые совершили больше 2 заказов.     "
   ]
  },
  {
   "cell_type": "markdown",
   "id": "6ee0ac40-eec0-4435-8a81-ceb7683b8060",
   "metadata": {},
   "source": [
    "## Точечный график стоимостей заказов"
   ]
  },
  {
   "cell_type": "code",
   "execution_count": 40,
   "id": "a84ff055-55d7-46bc-8348-6707c9054207",
   "metadata": {},
   "outputs": [
    {
     "data": {
      "image/png": "[encoded data removed]",
      "text/plain": [
       "<Figure size 640x480 with 1 Axes>"
      ]
     },
     "metadata": {},
     "output_type": "display_data"
    }
   ],
   "source": [
    "x_values = pd.Series(range(0,len(orders_new['revenue'])))\n",
    "plt.scatter(x_values, orders_new['revenue']);"
   ]
  },
  {
   "cell_type": "code",
   "execution_count": 41,
   "id": "861329bc-9092-46b3-a80e-a111ca4bcbd1",
   "metadata": {},
   "outputs": [
    {
     "data": {
      "text/plain": [
       "count    1.016000e+03\n",
       "mean     8.300815e+03\n",
       "std      4.212199e+04\n",
       "min      5.000000e+01\n",
       "25%      1.190000e+03\n",
       "50%      2.955000e+03\n",
       "75%      8.134250e+03\n",
       "max      1.294500e+06\n",
       "Name: revenue, dtype: float64"
      ]
     },
     "execution_count": 41,
     "metadata": {},
     "output_type": "execute_result"
    }
   ],
   "source": [
    "orders_new['revenue'].describe()"
   ]
  },
  {
   "cell_type": "markdown",
   "id": "cb389af0-9ba6-4403-8b68-75ed79d01144",
   "metadata": {},
   "source": [
    "### Вывод"
   ]
  },
  {
   "cell_type": "markdown",
   "id": "05bfea28-a0e3-4fcc-bc35-a10ea0aa0b37",
   "metadata": {},
   "source": [
    "* На графике видны выбросы на отметке в 200 000 рублей  и более 1 200 000. \n",
    "* Посмотрим подробнее на перцентилях. "
   ]
  },
  {
   "cell_type": "markdown",
   "id": "7ecd1abf-dad3-4de8-baba-48d2e0e9dc99",
   "metadata": {},
   "source": [
    "## 95-й и 99-й перцентили стоимости заказов"
   ]
  },
  {
   "cell_type": "code",
   "execution_count": 42,
   "id": "1eef9b0f-8781-4962-bb2b-cc8f962d4e1b",
   "metadata": {},
   "outputs": [
    {
     "name": "stdout",
     "output_type": "stream",
     "text": [
      "[26785. 53904.]\n"
     ]
    }
   ],
   "source": [
    "print(np.percentile(orders_new['revenue'], [95, 99]))"
   ]
  },
  {
   "cell_type": "markdown",
   "id": "8cdb6443-a3cf-48f1-ba00-9e57f52b5be5",
   "metadata": {},
   "source": [
    "### Вывод"
   ]
  },
  {
   "cell_type": "markdown",
   "id": "e8c193ef-d53b-4f3c-b364-c24b56955610",
   "metadata": {},
   "source": [
    "* Не более 5% заказов дороже 26 785 рублей и не более 1% дороже 53 904 рублей. \n",
    "* Возьмем за границу определения аномальных по стоимости заказов сумму в 53904 рублей. Так мы отрежем не более 1 процента данных."
   ]
  },
  {
   "cell_type": "markdown",
   "id": "4247dce3-8a80-4ff8-822b-11bc3e309abc",
   "metadata": {},
   "source": [
    "## Статистическая значимость различий в конверсии между группами по «сырым» данным"
   ]
  },
  {
   "cell_type": "markdown",
   "id": "afc733bd-30d6-4070-b84a-1a026cd135d7",
   "metadata": {},
   "source": [
    "Посчитаем статистическую значимость различий в конверсии между группами А и B по «сырым» данным — без удаления аномальных пользователей."
   ]
  },
  {
   "cell_type": "markdown",
   "id": "8d86cbf9-010c-4b36-9e59-76679a7a512b",
   "metadata": {},
   "source": [
    "Сформулируем гипотезы. \n",
    "\n",
    "- H0 - различий в конверсии между группами A и B нет.\n",
    "- H1 - различия в конверсии между группами A и B есть."
   ]
  },
  {
   "cell_type": "markdown",
   "id": "17e5069e-89be-47fe-94bf-66df6d0ce1b5",
   "metadata": {},
   "source": [
    "Подготовим данные для проверки статистической значимости."
   ]
  },
  {
   "cell_type": "code",
   "execution_count": 43,
   "id": "e7ddc5a3-c6f0-4a1e-8900-6792f527cbac",
   "metadata": {
    "tags": []
   },
   "outputs": [
    {
     "data": {
      "text/html": [
       "<div>\n",
       "<style scoped>\n",
       "    .dataframe tbody tr th:only-of-type {\n",
       "        vertical-align: middle;\n",
       "    }\n",
       "\n",
       "    .dataframe tbody tr th {\n",
       "        vertical-align: top;\n",
       "    }\n",
       "\n",
       "    .dataframe thead th {\n",
       "        text-align: right;\n",
       "    }\n",
       "</style>\n",
       "<table border=\"1\" class=\"dataframe\">\n",
       "  <thead>\n",
       "    <tr style=\"text-align: right;\">\n",
       "      <th></th>\n",
       "      <th>date</th>\n",
       "      <th>ordersPerDateA</th>\n",
       "      <th>revenuePerDateA</th>\n",
       "      <th>ordersPerDateB</th>\n",
       "      <th>revenuePerDateB</th>\n",
       "      <th>visitorsPerDateA</th>\n",
       "      <th>visitorsPerDateB</th>\n",
       "    </tr>\n",
       "  </thead>\n",
       "  <tbody>\n",
       "    <tr>\n",
       "      <th>0</th>\n",
       "      <td>2019-08-01</td>\n",
       "      <td>23</td>\n",
       "      <td>142779</td>\n",
       "      <td>17</td>\n",
       "      <td>59758</td>\n",
       "      <td>719</td>\n",
       "      <td>713</td>\n",
       "    </tr>\n",
       "    <tr>\n",
       "      <th>1</th>\n",
       "      <td>2019-08-02</td>\n",
       "      <td>19</td>\n",
       "      <td>91602</td>\n",
       "      <td>23</td>\n",
       "      <td>162043</td>\n",
       "      <td>619</td>\n",
       "      <td>581</td>\n",
       "    </tr>\n",
       "    <tr>\n",
       "      <th>2</th>\n",
       "      <td>2019-08-03</td>\n",
       "      <td>24</td>\n",
       "      <td>112473</td>\n",
       "      <td>14</td>\n",
       "      <td>67049</td>\n",
       "      <td>507</td>\n",
       "      <td>509</td>\n",
       "    </tr>\n",
       "    <tr>\n",
       "      <th>3</th>\n",
       "      <td>2019-08-04</td>\n",
       "      <td>11</td>\n",
       "      <td>41176</td>\n",
       "      <td>14</td>\n",
       "      <td>96890</td>\n",
       "      <td>717</td>\n",
       "      <td>770</td>\n",
       "    </tr>\n",
       "    <tr>\n",
       "      <th>4</th>\n",
       "      <td>2019-08-05</td>\n",
       "      <td>22</td>\n",
       "      <td>86383</td>\n",
       "      <td>21</td>\n",
       "      <td>89908</td>\n",
       "      <td>756</td>\n",
       "      <td>707</td>\n",
       "    </tr>\n",
       "  </tbody>\n",
       "</table>\n",
       "</div>"
      ],
      "text/plain": [
       "         date  ordersPerDateA  revenuePerDateA  ordersPerDateB  \\\n",
       "0  2019-08-01              23           142779              17   \n",
       "1  2019-08-02              19            91602              23   \n",
       "2  2019-08-03              24           112473              14   \n",
       "3  2019-08-04              11            41176              14   \n",
       "4  2019-08-05              22            86383              21   \n",
       "\n",
       "   revenuePerDateB  visitorsPerDateA  visitorsPerDateB  \n",
       "0            59758               719               713  \n",
       "1           162043               619               581  \n",
       "2            67049               507               509  \n",
       "3            96890               717               770  \n",
       "4            89908               756               707  "
      ]
     },
     "execution_count": 43,
     "metadata": {},
     "output_type": "execute_result"
    }
   ],
   "source": [
    "visitorsADaily = visitors[visitors['group'] == 'A'][['date', 'visitors']]\n",
    "visitorsADaily.columns = ['date', 'visitorsPerDateA']\n",
    "\n",
    "visitorsBDaily = visitors[visitors['group'] == 'B'][['date', 'visitors']]\n",
    "visitorsBDaily.columns = ['date', 'visitorsPerDateB']\n",
    "\n",
    "ordersADaily = (\n",
    "    orders_new[orders_new['group'] == 'A'][['date', 'transactionId', 'visitorId', 'revenue']]\n",
    "    .groupby('date', as_index=False)\n",
    "    .agg({'transactionId': 'nunique', 'revenue': 'sum'})\n",
    ")\n",
    "ordersADaily.columns = ['date', 'ordersPerDateA', 'revenuePerDateA']\n",
    "\n",
    "\n",
    "ordersBDaily = (\n",
    "    orders_new[orders_new['group'] == 'B'][['date', 'transactionId', 'visitorId', 'revenue']]\n",
    "    .groupby('date', as_index=False)\n",
    "    .agg({'transactionId': 'nunique', 'revenue': 'sum'})\n",
    ")\n",
    "ordersBDaily.columns = ['date', 'ordersPerDateB', 'revenuePerDateB']\n",
    "\n",
    "\n",
    "data = (\n",
    "    ordersADaily.merge(\n",
    "        ordersBDaily, on='date', how='left'\n",
    "    )\n",
    "    .merge(visitorsADaily, on='date', how='left')\n",
    "    .merge(visitorsBDaily, on='date', how='left')\n",
    "   \n",
    ")\n",
    "\n",
    "data.head(5)"
   ]
  },
  {
   "cell_type": "markdown",
   "id": "58233ccc-997b-4c9c-9510-e485acc68c60",
   "metadata": {},
   "source": [
    "Названия столбцов данных:\n",
    "\n",
    "* date — дата;\n",
    "* ordersPerDateA — количество заказов в выбранную дату в группе A;\n",
    "* revenuePerDateA — суммарная выручка в выбранную дату в группе A;\n",
    "* ordersPerDateB — количество заказов в выбранную дату в группе B;\n",
    "* revenuePerDateB — суммарная выручка в выбранную дату в группе B;\n",
    "* visitorsPerDateA — количество посетителей в выбранную дату в группе A;\n",
    "* visitorsPerDateB — количество посетителей в выбранную дату в группе B;"
   ]
  },
  {
   "cell_type": "markdown",
   "id": "84f6d007-62e9-4e9c-9540-6b32e2315040",
   "metadata": {},
   "source": [
    "Создадим переменные ordersVisitorsA и ordersByVisitorsB со столбцами ['visitorId', 'orders']. \n",
    "\n",
    "В них для посетителей, которые совершали покупку, укажем число совершённых заказов."
   ]
  },
  {
   "cell_type": "code",
   "execution_count": 44,
   "id": "091f85f0-c909-4192-913f-6d9bb47097cb",
   "metadata": {},
   "outputs": [],
   "source": [
    "ordersByVisitorsA = (\n",
    "    orders_new[orders_new['group'] == 'A']\n",
    "    .groupby('visitorId', as_index=False)\n",
    "    .agg({'transactionId': 'nunique'})\n",
    ")\n",
    "ordersByVisitorsA.columns = ['visitorId', 'orders']\n",
    "\n",
    "ordersByVisitorsB = (\n",
    "    orders_new[orders_new['group'] == 'B']\n",
    "    .groupby('visitorId', as_index=False)\n",
    "    .agg({'transactionId': 'nunique'})\n",
    ")\n",
    "ordersByVisitorsB.columns = ['visitorId', 'orders']"
   ]
  },
  {
   "cell_type": "code",
   "execution_count": 45,
   "id": "ea80a71c-f835-47a0-9bb6-b1efe09e5f2c",
   "metadata": {
    "tags": []
   },
   "outputs": [
    {
     "data": {
      "text/html": [
       "<div>\n",
       "<style scoped>\n",
       "    .dataframe tbody tr th:only-of-type {\n",
       "        vertical-align: middle;\n",
       "    }\n",
       "\n",
       "    .dataframe tbody tr th {\n",
       "        vertical-align: top;\n",
       "    }\n",
       "\n",
       "    .dataframe thead th {\n",
       "        text-align: right;\n",
       "    }\n",
       "</style>\n",
       "<table border=\"1\" class=\"dataframe\">\n",
       "  <thead>\n",
       "    <tr style=\"text-align: right;\">\n",
       "      <th></th>\n",
       "      <th>visitorId</th>\n",
       "      <th>orders</th>\n",
       "    </tr>\n",
       "  </thead>\n",
       "  <tbody>\n",
       "    <tr>\n",
       "      <th>0</th>\n",
       "      <td>11685486</td>\n",
       "      <td>1</td>\n",
       "    </tr>\n",
       "    <tr>\n",
       "      <th>1</th>\n",
       "      <td>54447517</td>\n",
       "      <td>1</td>\n",
       "    </tr>\n",
       "    <tr>\n",
       "      <th>2</th>\n",
       "      <td>66685450</td>\n",
       "      <td>1</td>\n",
       "    </tr>\n",
       "    <tr>\n",
       "      <th>3</th>\n",
       "      <td>78758296</td>\n",
       "      <td>1</td>\n",
       "    </tr>\n",
       "    <tr>\n",
       "      <th>4</th>\n",
       "      <td>85103373</td>\n",
       "      <td>1</td>\n",
       "    </tr>\n",
       "  </tbody>\n",
       "</table>\n",
       "</div>"
      ],
      "text/plain": [
       "   visitorId  orders\n",
       "0   11685486       1\n",
       "1   54447517       1\n",
       "2   66685450       1\n",
       "3   78758296       1\n",
       "4   85103373       1"
      ]
     },
     "execution_count": 45,
     "metadata": {},
     "output_type": "execute_result"
    }
   ],
   "source": [
    "ordersByVisitorsA.head()"
   ]
  },
  {
   "cell_type": "markdown",
   "id": "cff4535b-73f2-4dab-b991-56683a8a86c4",
   "metadata": {},
   "source": [
    "Объявим переменные sampleA и sampleB, в которых посетителям из разных групп будет соответствовать количество заказов. \n",
    "Тем, кто ничего не заказал, будут соответствовать нули. Это нужно, чтобы подготовить выборки к проверке критерием Манна-Уитни."
   ]
  },
  {
   "cell_type": "markdown",
   "id": "fb4fce18-aead-4a02-a15e-899a2ef07fcf",
   "metadata": {},
   "source": [
    "Переменная sampleA должна состоять из двух частей: \n",
    "\n",
    "* Список с количеством заказов для каждого из посетителей: ordersVisitorsA['orders'].\n",
    "\n",
    "* Нули для посетителей, которые ничего не заказывали. \n",
    "\n",
    "Их количество равно разнице между суммой посетителей и количеством записей о заказах: data['visitorsPerDateA'].sum() - len(ordersVisitorsA['orders']). То же самое и для посетителей группы B.\n"
   ]
  },
  {
   "cell_type": "code",
   "execution_count": 46,
   "id": "56873e38-8195-4f1d-b057-efc7b140f6e4",
   "metadata": {},
   "outputs": [],
   "source": [
    "sampleA = pd.concat([ordersByVisitorsA['orders'],\n",
    "                     pd.Series(0, \n",
    "                               index=np.arange(data['visitorsPerDateA'].sum() - len(ordersByVisitorsA['orders']))\n",
    "                               , name='orders')],axis=0)\n",
    "\n",
    "sampleB = pd.concat([ordersByVisitorsB['orders'],\n",
    "                     pd.Series(0, \n",
    "                               index=np.arange(data['visitorsPerDateB'].sum() - len(ordersByVisitorsB['orders']))\n",
    "                               , name='orders')],axis=0)"
   ]
  },
  {
   "cell_type": "markdown",
   "id": "d66f2e5f-6646-4525-b91a-6d3b6d453dc6",
   "metadata": {},
   "source": [
    "<a id='len'></a>\n",
    "\n",
    "Проверим, что у нас получилось."
   ]
  },
  {
   "cell_type": "code",
   "execution_count": 47,
   "id": "cfdeb404-e47b-4aca-9c8d-9108f011f6e9",
   "metadata": {},
   "outputs": [
    {
     "name": "stdout",
     "output_type": "stream",
     "text": [
      "Длина списка: 18736\n",
      "0    1\n",
      "1    1\n",
      "2    1\n",
      "3    1\n",
      "4    1\n",
      "Name: orders, dtype: int64\n"
     ]
    }
   ],
   "source": [
    "print('Длина списка:', len(sampleA))\n",
    "print(sampleA[0:5])"
   ]
  },
  {
   "cell_type": "code",
   "execution_count": 48,
   "id": "278ca4ca-19e3-4966-bf2c-934f9644851d",
   "metadata": {},
   "outputs": [
    {
     "name": "stdout",
     "output_type": "stream",
     "text": [
      "Длина списка: 18916\n",
      "0    1\n",
      "1    1\n",
      "2    1\n",
      "3    1\n",
      "4    1\n",
      "Name: orders, dtype: int64\n"
     ]
    }
   ],
   "source": [
    "print('Длина списка:', len(sampleB))\n",
    "print(sampleB[0:5])"
   ]
  },
  {
   "cell_type": "markdown",
   "id": "50873db2-cd6d-4766-9153-37e277b34bf6",
   "metadata": {},
   "source": [
    "Применим критерий Шапиро-Уилка, чтобы проверить, нормально ли распределены наши данные. \n",
    "\n",
    "Определим функцию для проведения теста Шапиро-Уилка."
   ]
  },
  {
   "cell_type": "code",
   "execution_count": 49,
   "id": "2461dcf5-1a14-4dfa-a499-23f8db7a6344",
   "metadata": {},
   "outputs": [],
   "source": [
    "\"\"\"Функция для проведения теста Шапиро-Уилка\n",
    "Критический уровень статистической значимости по умолчанию равен 0.05.\"\"\"\n",
    "\n",
    "def shapiro_test (sample, alpha = 0.05): \n",
    "    results = stats.shapiro(sample)\n",
    "    p_value = results[1]  # второе значение в массиве результатов (с индексом 1) - p-value\n",
    "    print('p-значение: ', p_value)\n",
    "    if p_value < alpha:\n",
    "        print('Отвергаем нулевую гипотезу: распределение не нормально')\n",
    "    else:\n",
    "        print('Не получилось отвергнуть нулевую гипотезу, всё нормально')"
   ]
  },
  {
   "cell_type": "code",
   "execution_count": 50,
   "id": "770dfdff-d7ff-43e6-967f-57e96d7a699b",
   "metadata": {},
   "outputs": [
    {
     "name": "stdout",
     "output_type": "stream",
     "text": [
      "p-значение:  0.0\n",
      "Отвергаем нулевую гипотезу: распределение не нормально\n"
     ]
    }
   ],
   "source": [
    "shapiro_test(sampleA)"
   ]
  },
  {
   "cell_type": "code",
   "execution_count": 51,
   "id": "9049017b-5aca-421b-9fc2-9e766543b5f8",
   "metadata": {},
   "outputs": [
    {
     "name": "stdout",
     "output_type": "stream",
     "text": [
      "p-значение:  0.0\n",
      "Отвергаем нулевую гипотезу: распределение не нормально\n"
     ]
    }
   ],
   "source": [
    "shapiro_test(sampleB)"
   ]
  },
  {
   "cell_type": "markdown",
   "id": "49c1a71e-5705-4279-a87d-a8b22eacf490",
   "metadata": {},
   "source": [
    "Поскольку наши данные распределены не нормально и небольшие по размеру, для определения статистической значимости мы применим критерий Манна-Уитни."
   ]
  },
  {
   "cell_type": "markdown",
   "id": "f46b7ede-f1c8-4c94-91fb-90fa309dd7e9",
   "metadata": {},
   "source": [
    "Определим функцию для проведения теста Манна-Уитни."
   ]
  },
  {
   "cell_type": "code",
   "execution_count": 52,
   "id": "df260024-a805-4620-b33e-f43f8943caec",
   "metadata": {},
   "outputs": [],
   "source": [
    "\"\"\"Функция для проведения теста Манна-Уитни\n",
    "Критический уровень статистической значимости по умолчанию равен 0.05.\"\"\"\n",
    "\n",
    "def mannwhitneyu_test(sample1, sample2, alpha = 0.05):   \n",
    "    results = stats.mannwhitneyu(sample1, sample2)\n",
    "    print(\"P-value:{0:.3f}\".format(results[1]))\n",
    "    if results.pvalue < alpha:\n",
    "        print('Отвергаем нулевую гипотезу: разница статистически значима.')\n",
    "    else:\n",
    "        print('Не получилось отвергнуть нулевую гипотезу, вывод о различии сделать нельзя.')"
   ]
  },
  {
   "cell_type": "markdown",
   "id": "7fd389a0-be96-4c6c-8a29-6a393026931b",
   "metadata": {},
   "source": [
    "Вспомним, что такое у нас sampleA и sampleB. \n",
    "Это объекты series, в которых каждый элемент — число заказов определённого пользователя, в том числе ноль.\n",
    "Число элементов (index) — это количество пользователей, сумма всех элементов (value) — это количество заказов. \n",
    "Чтобы получить конверсию в группе, поделим сумму заказов на число пользователей — найдём среднее в выборке sampleA и sampleB методом mean()."
   ]
  },
  {
   "cell_type": "code",
   "execution_count": 53,
   "id": "2a4bfd76-4e05-4297-a708-ab05bc42d296",
   "metadata": {},
   "outputs": [
    {
     "name": "stdout",
     "output_type": "stream",
     "text": [
      "P-value:0.011\n",
      "Отвергаем нулевую гипотезу: разница статистически значима.\n"
     ]
    }
   ],
   "source": [
    "mannwhitneyu_test(sampleA, sampleB)"
   ]
  },
  {
   "cell_type": "code",
   "execution_count": 54,
   "id": "151c761b-1dd6-4eea-9542-5ef70affdce7",
   "metadata": {},
   "outputs": [
    {
     "data": {
      "text/plain": [
       "'Относительный прирост конверсии группы B по отношению к группе A: 16.0%'"
      ]
     },
     "execution_count": 54,
     "metadata": {},
     "output_type": "execute_result"
    }
   ],
   "source": [
    "\"Относительный прирост конверсии группы B по отношению к группе A: {0:.1%}\".format(sampleB.mean() / sampleA.mean() - 1)"
   ]
  },
  {
   "cell_type": "markdown",
   "id": "3250f6c0-d054-4043-a731-da76369ce6d1",
   "metadata": {},
   "source": [
    "### Вывод"
   ]
  },
  {
   "cell_type": "markdown",
   "id": "5cd3e05f-c9cc-4e9d-bb92-9de5d60431f5",
   "metadata": {},
   "source": [
    "* По «сырым» данным, в конверсии групп A и B есть различия.\n",
    "* Относительный прирост конверсии группы B по отношению к группе A составляет 16%.\n",
    "* Но это пока предварительные выводы. Нужно исключить аномалии.\n"
   ]
  },
  {
   "cell_type": "markdown",
   "id": "be41072a-eed0-4935-8d2a-fbf2b7f0b86c",
   "metadata": {},
   "source": [
    "## Cтатистическая значимость различий в среднем чеке заказа между группами по «сырым» данным"
   ]
  },
  {
   "cell_type": "markdown",
   "id": "bea6fc46-900d-4150-abb6-710fd109f708",
   "metadata": {},
   "source": [
    "Теперь проверим статистическую значимость различий в среднем чеке между группами A и B. \n",
    "\n",
    "* Нулевая гипотеза: различий в среднем чеке между группами нет. \n",
    "\n",
    "* Альтернативная гипотеза: различия в среднем чеке между группами есть.\n"
   ]
  },
  {
   "cell_type": "markdown",
   "id": "86b3e99f-01eb-4696-bc38-8ac8b3c6d54a",
   "metadata": {},
   "source": [
    "Для начала сделаем две выборки с выручкой для посетителей группы A и B."
   ]
  },
  {
   "cell_type": "code",
   "execution_count": 55,
   "id": "5b64a029-1dee-49e0-877f-8bca43a2fa9d",
   "metadata": {},
   "outputs": [],
   "source": [
    "sample_revA = orders_new[orders_new['group']=='A']['revenue']\n",
    "sample_revB = orders_new[orders_new['group']=='B']['revenue']"
   ]
  },
  {
   "cell_type": "code",
   "execution_count": 56,
   "id": "e7265910-55b6-4411-bf8d-2957b1d6b0c3",
   "metadata": {},
   "outputs": [
    {
     "data": {
      "text/plain": [
       "7      1044\n",
       "8     13710\n",
       "10     4008\n",
       "12     7370\n",
       "14    10980\n",
       "Name: revenue, dtype: int64"
      ]
     },
     "execution_count": 56,
     "metadata": {},
     "output_type": "execute_result"
    }
   ],
   "source": [
    "sample_revA.head()"
   ]
  },
  {
   "cell_type": "markdown",
   "id": "9f2c51bb-761c-43fe-81a8-81afcbecacb2",
   "metadata": {},
   "source": [
    "Проверим рапсределение в наших выборках."
   ]
  },
  {
   "cell_type": "code",
   "execution_count": 57,
   "id": "0a8a2b4b-09cd-4897-af75-914801dc880c",
   "metadata": {},
   "outputs": [
    {
     "name": "stdout",
     "output_type": "stream",
     "text": [
      "p-значение:  2.8240222045454137e-31\n",
      "Отвергаем нулевую гипотезу: распределение не нормально\n"
     ]
    }
   ],
   "source": [
    "shapiro_test(sample_revA)"
   ]
  },
  {
   "cell_type": "code",
   "execution_count": 58,
   "id": "7efb35e8-6425-4dbd-9146-2463126e8c61",
   "metadata": {},
   "outputs": [
    {
     "name": "stdout",
     "output_type": "stream",
     "text": [
      "p-значение:  4.203895392974451e-45\n",
      "Отвергаем нулевую гипотезу: распределение не нормально\n"
     ]
    }
   ],
   "source": [
    "shapiro_test(sample_revB)"
   ]
  },
  {
   "cell_type": "markdown",
   "id": "0f0c3865-ebaf-4607-93f9-beb9a0626abe",
   "metadata": {},
   "source": [
    "Поскольку распределение не является нормальным и выборки небольшие по размеру, применим тест Манна-Уитни."
   ]
  },
  {
   "cell_type": "code",
   "execution_count": 59,
   "id": "f5d6b039-3d4d-49a2-a323-fa1696f7f734",
   "metadata": {},
   "outputs": [
    {
     "name": "stdout",
     "output_type": "stream",
     "text": [
      "P-value:0.829\n",
      "Не получилось отвергнуть нулевую гипотезу, вывод о различии сделать нельзя.\n"
     ]
    }
   ],
   "source": [
    "mannwhitneyu_test(sample_revA, sample_revB)"
   ]
  },
  {
   "cell_type": "markdown",
   "id": "982bb3b8-12c3-4d03-a906-4f9053c8ce4d",
   "metadata": {},
   "source": [
    "И посмотрим на относительные различия в среднем чеке между группами."
   ]
  },
  {
   "cell_type": "code",
   "execution_count": 60,
   "id": "57346569-02b1-405a-ad34-1318b72e0942",
   "metadata": {},
   "outputs": [
    {
     "data": {
      "text/plain": [
       "'Относительные различия в среднем чеке: 28.7%'"
      ]
     },
     "execution_count": 60,
     "metadata": {},
     "output_type": "execute_result"
    }
   ],
   "source": [
    "\"Относительные различия в среднем чеке: {0:.1%}\".format(sample_revB.mean() / sample_revA.mean() - 1)"
   ]
  },
  {
   "cell_type": "markdown",
   "id": "e2b79285-5078-40fc-a477-5e89c0943b72",
   "metadata": {},
   "source": [
    "### Вывод"
   ]
  },
  {
   "cell_type": "markdown",
   "id": "c4bea758-f512-4833-b5df-ad78258ad5bf",
   "metadata": {},
   "source": [
    "* По «сырым» данным, средние чеки группы A и группы B не отличаются.\n",
    "* Наблюдаемое различие в среднем чеке между группами в 28.7% не является статистически значимым.\n",
    "* Нужно исключить аномалии."
   ]
  },
  {
   "cell_type": "markdown",
   "id": "1b8d1109-b2bb-47b3-94e1-71a229df5690",
   "metadata": {},
   "source": [
    "## Статистическая значимость различий в конверсии между группами по «очищенным» данным"
   ]
  },
  {
   "cell_type": "markdown",
   "id": "81c48f56-561b-4523-ba7a-c3e5d6d0afb3",
   "metadata": {},
   "source": [
    "Исключим аномалии из данных и еще раз проведем тест Манна-Уитни. "
   ]
  },
  {
   "cell_type": "markdown",
   "id": "3590ef57-3c11-40fe-86ea-7cf085998b80",
   "metadata": {},
   "source": [
    "Сделаем срезы аномальных пользователей, используя 99-й перцентили. Объединим их в таблице abnormalUsers."
   ]
  },
  {
   "cell_type": "code",
   "execution_count": 61,
   "id": "d7c8760d-6c3b-4f44-b053-191a5fc06b3f",
   "metadata": {},
   "outputs": [
    {
     "name": "stdout",
     "output_type": "stream",
     "text": [
      "53904.0\n",
      "2.0\n"
     ]
    }
   ],
   "source": [
    "revenue_lim = np.percentile(orders_new['revenue'], 99)\n",
    "orders_lim = np.percentile(ordersByVisitors['orders'], 99)\n",
    "print(revenue_lim)\n",
    "print(orders_lim)"
   ]
  },
  {
   "cell_type": "code",
   "execution_count": 62,
   "id": "fecd10bf-c626-405f-bc1b-b8a8b9afe830",
   "metadata": {
    "tags": []
   },
   "outputs": [
    {
     "name": "stdout",
     "output_type": "stream",
     "text": [
      "1099    148427295\n",
      "33      249864742\n",
      "58      611059232\n",
      "949     887908475\n",
      "744     888512513\n",
      "Name: visitorId, dtype: int64\n",
      "\n",
      "Количество аномальных посетителей: 19\n"
     ]
    }
   ],
   "source": [
    "usersWithManyOrders = pd.concat(\n",
    "    [\n",
    "        ordersByVisitorsA[ordersByVisitorsA['orders'] > 2]['visitorId'],\n",
    "        ordersByVisitorsB[ordersByVisitorsB['orders'] > 2]['visitorId'],\n",
    "    ],\n",
    "    axis=0,\n",
    ")\n",
    "usersWithExpensiveOrders = orders_new[orders_new['revenue'] > 53000]['visitorId']\n",
    "abnormalUsers = (\n",
    "    pd.concat([usersWithManyOrders, usersWithExpensiveOrders], axis=0)\n",
    "    .drop_duplicates()\n",
    "    .sort_values()\n",
    ")\n",
    "print(abnormalUsers.head(5))\n",
    "print('\\nКоличество аномальных посетителей:', abnormalUsers.shape[0])"
   ]
  },
  {
   "cell_type": "markdown",
   "id": "90b3fe58-9359-430b-af2e-abc05f548be0",
   "metadata": {},
   "source": [
    "Проверим, сколько данных мы отрежем, если исключим из анализа 19 аномальных посетителя."
   ]
  },
  {
   "cell_type": "code",
   "execution_count": 63,
   "id": "f4f04efd-5f2f-40cf-b4b3-82397f1318a8",
   "metadata": {},
   "outputs": [
    {
     "data": {
      "text/plain": [
       "'Мы отрезали 3.2% данных'"
      ]
     },
     "execution_count": 63,
     "metadata": {},
     "output_type": "execute_result"
    }
   ],
   "source": [
    "'Мы отрезали {:.1%} данных'.format(1 - orders_new.query('visitorId not in @abnormalUsers').shape[0] / orders_new.shape[0]) "
   ]
  },
  {
   "cell_type": "markdown",
   "id": "42b9e418-7656-4362-a18d-41a09a0845ae",
   "metadata": {},
   "source": [
    "3% - это немного и допустимо. "
   ]
  },
  {
   "cell_type": "markdown",
   "id": "0dadb94e-f931-466a-940c-f16e3178e42a",
   "metadata": {},
   "source": [
    "Подготовим выборки количества заказов по пользователям по группам теста."
   ]
  },
  {
   "cell_type": "code",
   "execution_count": 64,
   "id": "8c04492d-89d6-45da-828c-1c57e5dd76c8",
   "metadata": {},
   "outputs": [],
   "source": [
    "sampleAFltd = pd.concat(\n",
    "    [\n",
    "        ordersByVisitorsA[\n",
    "            np.logical_not(ordersByVisitorsA['visitorId'].isin(abnormalUsers))\n",
    "        ]['orders'],\n",
    "        pd.Series(\n",
    "            0,\n",
    "            index=np.arange(\n",
    "                data['visitorsPerDateA'].sum() - len(ordersByVisitorsA['orders'])\n",
    "            ),\n",
    "            name='orders',\n",
    "        ),\n",
    "    ],\n",
    "    axis=0,\n",
    ")\n",
    "\n",
    "sampleBFltd = pd.concat(\n",
    "    [\n",
    "        ordersByVisitorsB[\n",
    "            np.logical_not(ordersByVisitorsB['visitorId'].isin(abnormalUsers))\n",
    "        ]['orders'],\n",
    "        pd.Series(\n",
    "            0,\n",
    "            index=np.arange(\n",
    "                data['visitorsPerDateB'].sum() - len(ordersByVisitorsB['orders'])\n",
    "            ),\n",
    "            name='orders',\n",
    "        ),\n",
    "    ],\n",
    "    axis=0,\n",
    ")"
   ]
  },
  {
   "cell_type": "markdown",
   "id": "eadaa524-ef1b-4ecc-a425-6b3bbf8b5e0a",
   "metadata": {},
   "source": [
    "Проверим наши выборки."
   ]
  },
  {
   "cell_type": "code",
   "execution_count": 65,
   "id": "eddde0b8-c340-44d1-9716-77b3f8d5e85c",
   "metadata": {},
   "outputs": [
    {
     "name": "stdout",
     "output_type": "stream",
     "text": [
      "Длина списка: 18724\n",
      "0    1\n",
      "1    1\n",
      "2    1\n",
      "3    1\n",
      "4    1\n",
      "Name: orders, dtype: int64\n"
     ]
    }
   ],
   "source": [
    "print('Длина списка:', len(sampleAFltd))\n",
    "print(sampleAFltd[0:5])"
   ]
  },
  {
   "cell_type": "code",
   "execution_count": 66,
   "id": "fbe18b23-912b-4cd8-a52f-83f81f87b4eb",
   "metadata": {},
   "outputs": [
    {
     "name": "stdout",
     "output_type": "stream",
     "text": [
      "Длина списка: 18909\n",
      "0    1\n",
      "1    1\n",
      "2    1\n",
      "3    1\n",
      "4    1\n",
      "Name: orders, dtype: int64\n"
     ]
    }
   ],
   "source": [
    "print('Длина списка:', len(sampleBFltd))\n",
    "print(sampleBFltd[0:5])"
   ]
  },
  {
   "cell_type": "code",
   "execution_count": 67,
   "id": "fef9d656-0a1a-4b71-8bbe-1c680c0d4b17",
   "metadata": {},
   "outputs": [
    {
     "data": {
      "text/plain": [
       "12"
      ]
     },
     "execution_count": 67,
     "metadata": {},
     "output_type": "execute_result"
    }
   ],
   "source": [
    "len(sampleA) - len(sampleAFltd)"
   ]
  },
  {
   "cell_type": "code",
   "execution_count": 68,
   "id": "650debc2-cb4f-40b1-90d7-19b7c3a90c5c",
   "metadata": {},
   "outputs": [
    {
     "data": {
      "text/plain": [
       "7"
      ]
     },
     "execution_count": 68,
     "metadata": {},
     "output_type": "execute_result"
    }
   ],
   "source": [
    "len(sampleB) - len(sampleBFltd)"
   ]
  },
  {
   "cell_type": "markdown",
   "id": "8f32c031-51bd-4a78-ad20-b8ec09690014",
   "metadata": {},
   "source": [
    "Да, длина выборки, свободной от аномалий, меньше на тех самых 19 посетителей. Все хорошо. Мы можем продолжать анализ."
   ]
  },
  {
   "cell_type": "markdown",
   "id": "4aa3bb80-4b28-421a-a23e-a2f3f627efe7",
   "metadata": {},
   "source": [
    "Считаем статистическую значимость различий в конверсии между группами по данным, свободным от аномалий."
   ]
  },
  {
   "cell_type": "code",
   "execution_count": 69,
   "id": "79fb7e15-a1f2-48d1-b308-9fa4ee2c0a28",
   "metadata": {},
   "outputs": [
    {
     "name": "stdout",
     "output_type": "stream",
     "text": [
      "P-value:0.006\n",
      "Отвергаем нулевую гипотезу: разница статистически значима.\n"
     ]
    }
   ],
   "source": [
    "mannwhitneyu_test(sampleAFltd, sampleBFltd)"
   ]
  },
  {
   "cell_type": "code",
   "execution_count": 70,
   "id": "db77b106-c0b3-4627-b29e-e1fcc55cea71",
   "metadata": {},
   "outputs": [
    {
     "data": {
      "text/plain": [
       "'Относительный прирост конверсии группы B по отношению к группе A: 19.2%'"
      ]
     },
     "execution_count": 70,
     "metadata": {},
     "output_type": "execute_result"
    }
   ],
   "source": [
    "\"Относительный прирост конверсии группы B по отношению к группе A: {0:.1%}\".format(sampleBFltd.mean() / sampleAFltd.mean() - 1)"
   ]
  },
  {
   "cell_type": "markdown",
   "id": "dfd15e0f-adf5-4e9a-94fc-89843390e87e",
   "metadata": {},
   "source": [
    "### Вывод"
   ]
  },
  {
   "cell_type": "markdown",
   "id": "ded31c05-0618-4dff-aa07-29076fc26091",
   "metadata": {},
   "source": [
    "* Анализ «очищенных» данных показывает, что конверсии групп A и B отличаются.\n",
    "* При этом относительный прирост конверсии группы B по отношению к группе A даже выше для очищенных данных - 19%."
   ]
  },
  {
   "cell_type": "markdown",
   "id": "04a611cf-43eb-4e5b-b5cb-a2ba4854963e",
   "metadata": {},
   "source": [
    "## Статистическая значимость различий в среднем чеке заказа между группами по «очищенным» данным"
   ]
  },
  {
   "cell_type": "markdown",
   "id": "8f380e2d-b26d-4546-a1bd-4871bf313c81",
   "metadata": {},
   "source": [
    "Теперь проверим, отличается ли у нас средний чек в группах по очищенным данным."
   ]
  },
  {
   "cell_type": "markdown",
   "id": "f7bd73bd-c9be-432d-b937-56d41d142e16",
   "metadata": {},
   "source": [
    "Создадим выборки с доходом, свободные от аномальных посетителей."
   ]
  },
  {
   "cell_type": "code",
   "execution_count": 71,
   "id": "5a7b63ef-1b5a-451c-8c68-75d59c2476cc",
   "metadata": {
    "tags": []
   },
   "outputs": [],
   "source": [
    "sample_revA_flt = orders_new.query('visitorId not in @abnormalUsers and group == \"A\"')['revenue']\n",
    "sample_revB_flt = orders_new.query('visitorId not in @abnormalUsers and group == \"B\"')['revenue']"
   ]
  },
  {
   "cell_type": "markdown",
   "id": "eaf1597d-139a-4813-ba05-41ad8e5373f1",
   "metadata": {},
   "source": [
    "Проводим тест Манна-Уитни."
   ]
  },
  {
   "cell_type": "code",
   "execution_count": 72,
   "id": "cb2a9e6c-860c-41de-a4fa-f91ec4ee960d",
   "metadata": {},
   "outputs": [
    {
     "name": "stdout",
     "output_type": "stream",
     "text": [
      "P-value:0.842\n",
      "Не получилось отвергнуть нулевую гипотезу, вывод о различии сделать нельзя.\n"
     ]
    }
   ],
   "source": [
    "mannwhitneyu_test(sample_revA_flt, sample_revB_flt)"
   ]
  },
  {
   "cell_type": "code",
   "execution_count": 73,
   "id": "a700d382-7705-4429-89a3-990660a43ec3",
   "metadata": {},
   "outputs": [
    {
     "data": {
      "text/plain": [
       "'Относительные различия в среднем чеке: -1.4%'"
      ]
     },
     "execution_count": 73,
     "metadata": {},
     "output_type": "execute_result"
    }
   ],
   "source": [
    "\"Относительные различия в среднем чеке: {0:.1%}\".format(sample_revB_flt.mean() / sample_revA_flt.mean() - 1)"
   ]
  },
  {
   "cell_type": "markdown",
   "id": "1b41de7e-842e-4009-a04e-b5cb5b816bd6",
   "metadata": {},
   "source": [
    "### Вывод"
   ]
  },
  {
   "cell_type": "markdown",
   "id": "1f88da08-cf5a-4480-9401-5ad4497fcfb9",
   "metadata": {},
   "source": [
    "* Анализ очищенных данных показал также, что средние чеки группы A и группы B НЕ отличаются.\n",
    "* Наблюдаемое различие в средних чеках в 1.4% не является статистически значимым."
   ]
  },
  {
   "cell_type": "markdown",
   "id": "d4fffb68-07eb-4d9c-87c2-ffb99e9174b6",
   "metadata": {},
   "source": [
    "<a name='stage_4'></a>\n",
    "# Шаг 4. Общий вывод\n",
    "[Назад к оглавлению](#contents)    "
   ]
  },
  {
   "cell_type": "markdown",
   "id": "3230eb64-5875-40ea-9227-57c4695fb498",
   "metadata": {},
   "source": [
    "Анализ сырых и очищенных данных показал, что:\n",
    "\n",
    "* Конверсии групп A и B отличаются и это различие не случайно, оно подтверждено тестом Манна-Уитни. \n",
    "Конверсия в группе B по очищенным данным на 19% выше. \n",
    "\n",
    "* Средний чек групп A и B не различается, и это подтверждено тестом Манна-Уитни. \n",
    "По очищенным данным средний чек группы B ниже, чем у группы A на 1.4%. \n",
    "\n",
    "* A/B тестирование можно остановить и признать отсутствие различий среднего чека у двух групп. Новая идея никак не влияет на средний чек, хотя значительно увеличивает (на 19%) конверсию пользователей. "
   ]
  },
  {
   "cell_type": "markdown",
   "id": "84d78b70-a94e-49e5-a68b-7898b47462cd",
   "metadata": {},
   "source": [
    "# Спасибо, что проверили мой проект."
   ]
  }
 ],
 "metadata": {
  "kernelspec": {
   "display_name": "Python 3 (ipykernel)",
   "language": "python",
   "name": "python3"
  },
  "language_info": {
   "codemirror_mode": {
    "name": "ipython",
    "version": 3
   },
   "file_extension": ".py",
   "mimetype": "text/x-python",
   "name": "python",
   "nbconvert_exporter": "python",
   "pygments_lexer": "ipython3",
   "version": "3.9.13"
  }
 },
 "nbformat": 4,
 "nbformat_minor": 5
}
