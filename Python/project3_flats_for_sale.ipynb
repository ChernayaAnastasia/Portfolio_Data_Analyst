{
 "cells": [
  {
   "cell_type": "markdown",
   "id": "cc3916e4-2c94-428b-b727-faa5181e5200",
   "metadata": {
    "tags": []
   },
   "source": [
    "# Исследование объявлений о продаже квартир\n",
    "\n",
    "\n",
    "**КРАТКОЕ ОПИСАНИЕ ИССЛЕДОВАНИЯ** \n",
    "\n",
    "\n",
    "**Задача исследования** \n",
    "\n",
    "Научиться определять рыночную стоимость объектов недвижимости и установить параметры, которые на нее влияют. \n",
    "Это позволит построить автоматизированную систему: она отследит аномалии и мошенническую деятельность.\n",
    "\n",
    "**Входные данные** \n",
    "\n",
    "Данные сервиса Яндекс.Недвижимость — архив объявлений о продаже квартир в Санкт-Петербурге и соседних населённых пунктах за несколько лет.\n",
    "По каждой квартире на продажу доступны два вида данных. Первые вписаны пользователем, вторые — получены автоматически на основе картографических данных. Например, расстояние до центра, аэропорта, ближайшего парка и водоёма.\n",
    "\n",
    "* airports_nearest — расстояние до ближайшего аэропорта в метрах (м)\n",
    "\n",
    "* balcony — число балконов\n",
    "\n",
    "* ceiling_height — высота потолков (м)\n",
    "\n",
    "* cityCenters_nearest — расстояние до центра города (м)\n",
    "\n",
    "* days_exposition — сколько дней было размещено объявление (от публикации до снятия)\n",
    "\n",
    "* first_day_exposition — дата публикации\n",
    "\n",
    "* floor — этаж\n",
    "\n",
    "* floors_total — всего этажей в доме\n",
    "\n",
    "* is_apartment — апартаменты (булев тип)\n",
    "\n",
    "* kitchen_area — площадь кухни в квадратных метрах (м²)\n",
    "\n",
    "* last_price — цена на момент снятия с публикации\n",
    "\n",
    "* living_area — жилая площадь в квадратных метрах (м²)\n",
    "\n",
    "* locality_name — название населённого пункта\n",
    "\n",
    "* open_plan — свободная планировка (булев тип)\n",
    "\n",
    "* parks_around3000 — число парков в радиусе 3 км\n",
    "\n",
    "* parks_nearest — расстояние до ближайшего парка (м)\n",
    "\n",
    "* ponds_around3000 — число водоёмов в радиусе 3 км\n",
    "\n",
    "* ponds_nearest — расстояние до ближайшего водоёма (м)\n",
    "\n",
    "* rooms — количество комнат\n",
    "\n",
    "* studio — квартира-студия (булев тип)\n",
    "\n",
    "* total_area — площадь квартиры в квадратных метрах (м²)\n",
    "\n",
    "* total_images — число фотографий квартиры в объявлении\n",
    "\n",
    "\n",
    "**Практическое применение результатов исследования**\n",
    "\n",
    "Исследование позволит построить автоматизированную систему для отслеживания аномалий и мошеннической деятельности."
   ]
  },
  {
   "cell_type": "markdown",
   "id": "a1bd0d68-ef1f-4e9e-a721-ce11166610e6",
   "metadata": {},
   "source": [
    "# <a name=\"contents\"> Содержание исследования</a>\n",
    "\n",
    "## [Обзор данных](#stage_1)\n",
    "   \n",
    "* импортируем библиотеки\n",
    "* посмотрим на начало и конец датасета\n",
    "* получим общую информацию о данных в датасете\n",
    "* посмотрим, есть ли явные дубликаты в данных\n",
    "* сделаем вывод\n",
    "\n",
    "## [Предобработка данных](#stage_2)\n",
    "\n",
    "* изменим названия некоторых столбцов \n",
    "* изменим порядок следования столбцов\n",
    "* определим и изучим пропуски\n",
    "* приведем данные к нужным типам\n",
    "* почистим текстовые данные\n",
    "\n",
    "## [Обогащение данных](#stage_3)\n",
    "\n",
    "* подсчитаем стоимость 1 кв.м.\n",
    "* добавим дня недели, месяца, года публикации объявления\n",
    "* категоризуем данных об этаже, на котором находится квартира\n",
    "* вычислим отношение жилой площади к общей\n",
    "* вычислим отношение площади кухни к общей площади\n",
    "\n",
    "## [Исследовательский анализ данных](#stage_4)\n",
    "\n",
    "* изучим распределение значений в данных \n",
    "* определим аномалии, редкие значения\n",
    "* определим, какие факторы больше всего влияют на стоимость квартиры\n",
    "* найдем десять населенных пунктов с наибольшим количеством объявлений\n",
    "\n",
    "## [Исследование данных о квартирах Санкт-Петербурга](#stage_5)\n",
    "* определим, какая область входит в центр Санкт-Петербурга\n",
    "* проанализируем и сравним некоторые параметры для центра Санкт-Петербурга и остальных районов города\n",
    "* проанализируем факторы, влияющие на стоимость квартиры в центре Санкт-Петербурга и остальных районов города \n",
    "\n",
    "## [Общий вывод](#stage_6)"
   ]
  },
  {
   "cell_type": "markdown",
   "id": "2193e6fd-6b92-4b6a-a07d-215d035c1ed7",
   "metadata": {
    "tags": []
   },
   "source": [
    "<a name=\"stage_1\"></a>\n",
    "\n",
    "# Этап 1. Обзор данных\n",
    "\n",
    "\n",
    "[Наверх к оглавлению](#contents)"
   ]
  },
  {
   "cell_type": "markdown",
   "id": "b0810e29-a4c6-4661-a65c-662ba6e92ab1",
   "metadata": {},
   "source": [
    "Импортируем библиотеки для проекта."
   ]
  },
  {
   "cell_type": "code",
   "execution_count": null,
   "id": "81da2361-493d-40f0-99c2-61e2e477991b",
   "metadata": {
    "tags": []
   },
   "outputs": [],
   "source": [
    "import pandas as pd\n",
    "import numpy as np\n",
    "import datetime as dt\n",
    "import matplotlib.pyplot as plt\n",
    "import seaborn as sns"
   ]
  },
  {
   "cell_type": "markdown",
   "id": "51152cd4-7fdb-4a43-b7a1-db126c754ed1",
   "metadata": {},
   "source": [
    "Прочитаем данные и сохраним в переменную df."
   ]
  },
  {
   "cell_type": "code",
   "execution_count": null,
   "id": "e8bccb81-aad3-4932-95e6-40418abf435f",
   "metadata": {
    "tags": []
   },
   "outputs": [],
   "source": [
    "df = pd.read_csv('real_estate_data.csv', sep='\\t') "
   ]
  },
  {
   "cell_type": "markdown",
   "id": "de2bf8a0-8a5f-4a76-bbe0-31cfdc646367",
   "metadata": {},
   "source": [
    "Посмотрим на данные: ссылка на переменную покажет и голову, и хвост датафрейма."
   ]
  },
  {
   "cell_type": "code",
   "execution_count": null,
   "id": "94627948-d4a2-4b61-9129-d75f00a5c02b",
   "metadata": {},
   "outputs": [],
   "source": [
    "df"
   ]
  },
  {
   "cell_type": "markdown",
   "id": "9aaa98c1-6d77-4a89-8951-952e6eb7132f",
   "metadata": {},
   "source": [
    "Получим общую информацию о данных в датасете."
   ]
  },
  {
   "cell_type": "code",
   "execution_count": null,
   "id": "548def46-7e7f-4ba3-b09c-80be60f6ba3a",
   "metadata": {},
   "outputs": [],
   "source": [
    "df.info()"
   ]
  },
  {
   "cell_type": "markdown",
   "id": "15084eb0-b03a-4bb0-99d8-68b4f4e65db5",
   "metadata": {},
   "source": [
    "Видны пропуски в данных. Посмотрим на описательную статистику датафрейма. Для удобства уберем числа в экспоненциальной форме. "
   ]
  },
  {
   "cell_type": "code",
   "execution_count": null,
   "id": "42f447a1-127e-44fe-8b48-2194c5d44db7",
   "metadata": {},
   "outputs": [],
   "source": [
    "pd.options.display.float_format = '{:.3f}'.format\n",
    "df.describe().T"
   ]
  },
  {
   "cell_type": "markdown",
   "id": "4ebdee89-a83a-4976-ae6e-e8895669c33d",
   "metadata": {},
   "source": [
    "Посмотрим, есть ли явные дубликаты."
   ]
  },
  {
   "cell_type": "code",
   "execution_count": null,
   "id": "9e2cb499-818e-4f9d-bd21-cc7092c2844b",
   "metadata": {},
   "outputs": [],
   "source": [
    "f'Количество явных дубликатов в данных: {df.duplicated().sum()}'"
   ]
  },
  {
   "cell_type": "markdown",
   "id": "70665cbc-b266-4b5f-a1ec-7cdb7ed062ad",
   "metadata": {},
   "source": [
    "Рассмотрим уникальные значения данных для остальных столбцов."
   ]
  },
  {
   "cell_type": "code",
   "execution_count": null,
   "id": "3d50a9f0-8f08-40ae-adbf-f5edaac4057f",
   "metadata": {
    "tags": []
   },
   "outputs": [],
   "source": [
    "for column_name in df.columns:\n",
    "    if column_name not in df.describe().columns:\n",
    "        print(df[column_name].value_counts(), '\\n') "
   ]
  },
  {
   "cell_type": "markdown",
   "id": "d3f3a1fb-944d-4ea9-a015-817dfe5c8123",
   "metadata": {},
   "source": [
    "## Вывод"
   ]
  },
  {
   "cell_type": "markdown",
   "id": "36d3c11c-65ce-4a9d-9a00-0dc94b271018",
   "metadata": {},
   "source": [
    "    \n",
    "* Общее количество наблюдений в данных 23699. Объекты недвижимости описываются 22 признаками (в таблице 22 столбца). \n",
    "В 14 столбцах есть пропущенные значения.\n",
    "    \n",
    "* В датафрейме представлены данные разных типов: булев тип (2 столбца), строка (3 столбца), дробное число (14 столбцов), целое число (3 столбца). В некоторых случаях потребуется замена типа данных, к примеру дата публикации объявления - строка, а должна быть datetime, столбец is_apartment должен быть булевым, а не строкой. \n",
    "\n",
    "* Названия столбцов нужно привести к одной логике, к одну регистру и сделать более информативными. \n",
    "  \n",
    "* Предварительно можно утверждать, что данных достаточно для проведения исследования.   "
   ]
  },
  {
   "cell_type": "markdown",
   "id": "4b56e127-bea3-4add-84d7-83b97eb943c8",
   "metadata": {},
   "source": [
    "<a name=\"stage_2\"></a>\n",
    "\n",
    "# Этап 2. Предобработка данных\n",
    "\n",
    "\n",
    "[Наверх к оглавлению](#contents)"
   ]
  },
  {
   "cell_type": "markdown",
   "id": "6f19a39d-921b-4161-97ac-22b8cfa74001",
   "metadata": {},
   "source": [
    "## Изменим названия некоторых столбцов."
   ]
  },
  {
   "cell_type": "markdown",
   "id": "5917e8e6-bdfa-4378-880a-d5afcd464109",
   "metadata": {},
   "source": [
    "Чтобы они были более информативны."
   ]
  },
  {
   "cell_type": "code",
   "execution_count": null,
   "id": "0e94e8bb-ea92-4788-83e4-fee315f906ca",
   "metadata": {},
   "outputs": [],
   "source": [
    "df.columns"
   ]
  },
  {
   "cell_type": "markdown",
   "id": "b712b3aa-8474-4ce2-93fe-51d1815123ea",
   "metadata": {},
   "source": [
    "Переименуем столбцы с помощью функции rename() и словаря. "
   ]
  },
  {
   "cell_type": "code",
   "execution_count": null,
   "id": "eb56e38e-b6c4-4fb5-aca1-f82c2ed6c459",
   "metadata": {},
   "outputs": [],
   "source": [
    "(df.rename(columns={\"total_area\": \"total_area_m2\", \"rooms\": \"number_of_rooms\", \"ceiling_height\":\"ceiling_height_m\", \n",
    "                    \"floors_total\": \"floors_in_house\", \"living_area\": \"living_area_m2\",\n",
    "                   \"studio\": \"is_studio\", \"open_plan\": \"is_open_plan\", \n",
    "                    \"kitchen_area\": \"kitchen_area_m2\", \"balcony\": \"number_of_balconies\",\n",
    "                    \"airports_nearest\": \"airports_nearest_m\", \"cityCenters_nearest\": \"city_center_distance_m\",\n",
    "                    \"parks_nearest\": \"parks_nearest_m\", \"parks_around3000\": \"parks_within_3000m\", \n",
    "                    \"ponds_nearest\":\"ponds_nearest_m\", \"ponds_around3000\": \"ponds_within_3000m\"}, inplace=True))\n",
    "\n",
    "# Проверяем, что получилось:\n",
    "df.columns"
   ]
  },
  {
   "cell_type": "markdown",
   "id": "fe8631eb-84db-41a6-901a-cec5254b766d",
   "metadata": {},
   "source": [
    "## Изменим порядок следования столбцов."
   ]
  },
  {
   "cell_type": "markdown",
   "id": "5ae39d6e-3601-428c-9bf7-f415886cb4b4",
   "metadata": {},
   "source": [
    "Для удобства работы с датасетом. Логика будет такая: где, что, сколько стоит, когда и остальная информация о близости к центру, о парках, водоемах ит.д. "
   ]
  },
  {
   "cell_type": "code",
   "execution_count": null,
   "id": "8d95f378-9676-480b-93e7-406e9f61dfa4",
   "metadata": {},
   "outputs": [],
   "source": [
    "df.head()"
   ]
  },
  {
   "cell_type": "code",
   "execution_count": null,
   "id": "54da08d4-606c-4d51-b6d6-12c3b09de890",
   "metadata": {},
   "outputs": [],
   "source": [
    "df = df[[\n",
    " 'locality_name',  \n",
    " 'total_area_m2',\n",
    " 'living_area_m2',\n",
    " 'kitchen_area_m2',\n",
    " 'ceiling_height_m',\n",
    " 'number_of_balconies',\n",
    " 'number_of_rooms',\n",
    " 'floor',\n",
    " 'floors_in_house',\n",
    " 'is_apartment',\n",
    " 'is_studio',\n",
    " 'is_open_plan',  \n",
    " 'total_images',\n",
    " 'last_price',\n",
    " 'first_day_exposition',\n",
    " 'days_exposition',\n",
    " 'city_center_distance_m',\n",
    " 'airports_nearest_m',\n",
    " 'parks_nearest_m', \n",
    " 'parks_within_3000m',\n",
    " 'ponds_nearest_m',\n",
    " 'ponds_within_3000m'\n",
    "]]"
   ]
  },
  {
   "cell_type": "markdown",
   "id": "73818b5a-cc14-4a14-b195-f26e3a87eb6d",
   "metadata": {},
   "source": [
    "Проверяем, что получилось:"
   ]
  },
  {
   "cell_type": "code",
   "execution_count": null,
   "id": "b5ae3086-abe8-46e8-9741-e46189ee341b",
   "metadata": {},
   "outputs": [],
   "source": [
    "df.head()"
   ]
  },
  {
   "cell_type": "markdown",
   "id": "b095fd64-33e2-4b62-a339-03a03a1da91a",
   "metadata": {},
   "source": [
    "##  Определим и изучим пропущенные значения в датасете."
   ]
  },
  {
   "cell_type": "markdown",
   "id": "c852d0d8-384e-4b98-94f3-347f490ba04e",
   "metadata": {},
   "source": [
    "Посмотрим на процент пропущенных значений в нашем датафрейме и выведем в отсортированном по убыванию виде:"
   ]
  },
  {
   "cell_type": "code",
   "execution_count": null,
   "id": "d800a543-436c-41c7-b7da-9de3ada2f0c5",
   "metadata": {},
   "outputs": [],
   "source": [
    "df.isnull().mean().round(3).mul(100).sort_values(ascending=False)"
   ]
  },
  {
   "cell_type": "markdown",
   "id": "4979a0c2-f0dc-4afa-b167-e8f11c9a56b4",
   "metadata": {},
   "source": [
    "<a id='corr'></a> \n",
    "Прежде чем заполнять пропуски, посмотрим на матрицу корреляции с сырыми данными c помощью метода `corr()`. \n",
    "\n",
    "Это поможет нам примерно понять, от чего зависит тот или иной параметр и как лучше заполнять пропуски. "
   ]
  },
  {
   "cell_type": "code",
   "execution_count": null,
   "id": "b3e74cf5-d49f-48f7-885c-2f30624cdba5",
   "metadata": {},
   "outputs": [],
   "source": [
    "#Создадим список интересных нам столбцов и по ним построим матрицу корреляции\n",
    "cols = ['last_price', 'living_area_m2', 'floor', 'city_center_distance_m', 'number_of_rooms', 'ceiling_height_m', 'floors_in_house', 'days_exposition']\n",
    "df[cols].corr()"
   ]
  },
  {
   "cell_type": "markdown",
   "id": "c1637a1d-dbef-41af-817e-178632abcda6",
   "metadata": {},
   "source": [
    "Виден высокий коэффициент коррреляции между количеством комнат и жилой площадью. И это отвечает здравому смыслу. Используем это при заполнении пропусков в столбце с жилой площадью."
   ]
  },
  {
   "cell_type": "markdown",
   "id": "772565ec-1df6-4787-902f-f3abe88b0111",
   "metadata": {},
   "source": [
    "Для начала создадим функцию, которая позволит нам быстро проверять результаты заполнения пропусков в столбце."
   ]
  },
  {
   "cell_type": "code",
   "execution_count": null,
   "id": "bf2a6735-a232-42ba-b835-bae1fe63727c",
   "metadata": {},
   "outputs": [],
   "source": [
    "\"\"\"\n",
    "Обе функции берут на вход строковые значения - название датафрейма и название столбца   и \n",
    "выводят на экран сообщение о количестве пропущенных значений в данном столбце данного датафрейма.\n",
    "\"\"\"\n",
    "\n",
    "def track_nan_filling_before(dataframe, column_name):\n",
    "    return print(f'Количество пропущенных значений в столбце {column_name} до обработки: ', len(dataframe[dataframe[column_name].isnull()]))\n",
    "    "
   ]
  },
  {
   "cell_type": "code",
   "execution_count": null,
   "id": "ff7ed346-d757-43b1-95f8-f9bdc7fddcc5",
   "metadata": {},
   "outputs": [],
   "source": [
    "def track_nan_filling_after(dataframe, column_name):\n",
    "    return print(f'Количество пропущенных значений в столбце {column_name} после обработки: ', len(dataframe[dataframe[column_name].isnull()]))"
   ]
  },
  {
   "cell_type": "markdown",
   "id": "a8f3012c-a5c1-465f-b6f5-2a5175502787",
   "metadata": {},
   "source": [
    "Протестируем на функцию на отдельном значении."
   ]
  },
  {
   "cell_type": "code",
   "execution_count": null,
   "id": "49944b72-d89f-4723-b6e6-28675ae12798",
   "metadata": {},
   "outputs": [],
   "source": [
    "track_nan_filling_before(df, 'living_area_m2')"
   ]
  },
  {
   "cell_type": "markdown",
   "id": "e477fe42-3631-46ad-8fd0-71f822fbf67a",
   "metadata": {},
   "source": [
    "### Столбец `is_apartment`"
   ]
  },
  {
   "cell_type": "markdown",
   "id": "64ed8bd7-b78f-4449-9cc5-83275f0dcebe",
   "metadata": {},
   "source": [
    "Скорее всего, пропуски в данном столбце связаны с тем, что если объект не является апартаментами, то человек ничего не проставлял в этом пункте. Заполним пропуски в таком случае булевым значением False.  "
   ]
  },
  {
   "cell_type": "code",
   "execution_count": null,
   "id": "dabe7637-c705-4756-b307-af55be658b4c",
   "metadata": {},
   "outputs": [],
   "source": [
    "track_nan_filling_before(df, 'is_apartment')\n",
    "df['is_apartment'] = df['is_apartment'].fillna(False)\n",
    "track_nan_filling_after(df, 'is_apartment')"
   ]
  },
  {
   "cell_type": "markdown",
   "id": "8afb8c44-62cd-44fe-b05b-4c7fcdb4b954",
   "metadata": {},
   "source": [
    "Теперь значения в этом столбце имеют булев тип данных, как это и требуется. "
   ]
  },
  {
   "cell_type": "code",
   "execution_count": null,
   "id": "16051eb8-cb18-461d-96eb-64ba01bc48d2",
   "metadata": {},
   "outputs": [],
   "source": [
    "df['is_apartment'].dtypes"
   ]
  },
  {
   "cell_type": "markdown",
   "id": "59be7127-c466-4ab3-b489-eea18700688e",
   "metadata": {},
   "source": [
    "### Столбец `living_area_m2`"
   ]
  },
  {
   "cell_type": "markdown",
   "id": "66ed3c5c-473e-4d36-b465-2929c319f1ca",
   "metadata": {},
   "source": [
    "В столбце с жилой площадью отсутствует 8% значений. \n",
    "\n",
    "Заполним медианой в зависимости от количества комнат. Это решение подкреплено довольно высоким [коэффициентом корреляции Пирсона](#corr), равным 0.845977."
   ]
  },
  {
   "cell_type": "code",
   "execution_count": null,
   "id": "abeb4db6-30ea-4ba9-b2a1-a74b7b919bbe",
   "metadata": {
    "scrolled": true
   },
   "outputs": [],
   "source": [
    "track_nan_filling_before(df, 'living_area_m2')\n",
    "\n",
    "df['living_area_m2']= df['living_area_m2'].fillna(df.groupby(['number_of_rooms'])['living_area_m2'].transform('median'))\n",
    "\n",
    "track_nan_filling_after(df, 'living_area_m2')"
   ]
  },
  {
   "cell_type": "markdown",
   "id": "7919814e-100b-4901-b4e1-ac41981c6a7a",
   "metadata": {},
   "source": [
    "### Столбец `number_of_balconies`"
   ]
  },
  {
   "cell_type": "markdown",
   "id": "bc091817-23e2-4fa2-ad44-1f2ce2fc9c2f",
   "metadata": {},
   "source": [
    "Пропуски в столбце с числом балконов, вероятнее всего, обусловлены тем, что балкона в таких случаях нет. Заполним такие пропуски значением 0."
   ]
  },
  {
   "cell_type": "code",
   "execution_count": null,
   "id": "7a9072cc-26b1-4f98-8092-a47febb048d0",
   "metadata": {},
   "outputs": [],
   "source": [
    "track_nan_filling_before(df, 'number_of_balconies')\n",
    "df['number_of_balconies'] = df['number_of_balconies'].fillna(0)\n",
    "track_nan_filling_after (df, 'number_of_balconies')"
   ]
  },
  {
   "cell_type": "markdown",
   "id": "1a7dd743-dc7b-402a-9518-a2cabffb6c8c",
   "metadata": {},
   "source": [
    "### Столбцы `floors_in_house`  и `locality_name`"
   ]
  },
  {
   "cell_type": "code",
   "execution_count": null,
   "id": "3fc53ae0-b5e3-4a91-9372-120ea42894e8",
   "metadata": {},
   "outputs": [],
   "source": [
    "df.columns"
   ]
  },
  {
   "cell_type": "markdown",
   "id": "2af7fccb-2ed3-445d-a3ba-0f822baee22b",
   "metadata": {},
   "source": [
    "Пропуски в столбцах с этажностью дома и названием населенного пункта составляют очень маленький процент (0.4% и 0.2% соответственно), заполнить их более и менее точными значениями не представляется возможным. По этой причине строки с пропущенными значениями в `floors_in_house` удалим, а пропуски в `locality_name` иожно заполнить строкой 'unknown'."
   ]
  },
  {
   "cell_type": "code",
   "execution_count": null,
   "id": "4a38bc7d-f81c-4f01-aa0d-84a5cd9edcd1",
   "metadata": {
    "tags": []
   },
   "outputs": [],
   "source": [
    "track_nan_filling_before(df, 'floors_in_house')\n",
    "track_nan_filling_before(df, 'locality_name')\n",
    "\n",
    "#Подаем в метод dropna список столбцов, в которых ищем NaN и удаляем строки\n",
    "df.dropna(subset=['floors_in_house'], inplace=True)\n",
    "df['locality_name'] = df['locality_name'].fillna('unknown')\n",
    "\n",
    "track_nan_filling_after(df, 'floors_in_house')\n",
    "track_nan_filling_after(df, 'locality_name')"
   ]
  },
  {
   "cell_type": "markdown",
   "id": "2f4497cc-8a61-4586-9047-5717ee7eb8b5",
   "metadata": {},
   "source": [
    "### Столбец `ceiling_height_m`"
   ]
  },
  {
   "cell_type": "markdown",
   "id": "21003e22-6274-41d4-83cd-e06354578851",
   "metadata": {},
   "source": [
    "Высота потолков может существенно влиять на цену недвижимости, а также пропусков в этих данных достаточно много - 38 % (если просто удалить эти строки, мы потеряем немало данных), поэтому пропуски в  столбце ceiling_height мы заполним значением медианы в зависимости от жилой площади. Как правило, чем больше площадь комнаты - тем выше в среднем потолок. И это подтверждает и коэффициент корреляции в нашей матрице корреляций: он здесь выше, чем в других случаях. Попробуем заполнить пропуски медианой значений ceiling_height в зависимости от жилой площади. "
   ]
  },
  {
   "cell_type": "code",
   "execution_count": null,
   "id": "a3bb5d66-325b-4517-b371-592b6d385751",
   "metadata": {},
   "outputs": [],
   "source": [
    "track_nan_filling_before(df, 'ceiling_height_m')\n",
    "\n",
    "df['ceiling_height_m']= df['ceiling_height_m'].fillna(df.groupby(['living_area_m2'])['ceiling_height_m'].transform('median'))\n",
    "\n",
    "track_nan_filling_after(df, 'ceiling_height_m')"
   ]
  },
  {
   "cell_type": "markdown",
   "id": "691bd96d-038f-41b1-82c2-38fb5d5869ef",
   "metadata": {},
   "source": [
    "У нас остались  пропущенные значения, потому что для каких-то значений в группировочном столбце c living_area_m2 вообще нет заполненных значений по целевому столбцу ceiling_height_m. \n",
    "Заполним в таком случае пропущенные значения общей медианой для высота потолков."
   ]
  },
  {
   "cell_type": "code",
   "execution_count": null,
   "id": "5e35c3f4-3abc-4d8d-96e0-301f1501ae07",
   "metadata": {},
   "outputs": [],
   "source": [
    "#Посмотрим, чему равна медиана в столбце ceiling_height_m:\n",
    "df['ceiling_height_m'].median()"
   ]
  },
  {
   "cell_type": "code",
   "execution_count": null,
   "id": "3f50f455-3475-429b-bb0c-f14377b9bb9c",
   "metadata": {},
   "outputs": [],
   "source": [
    "track_nan_filling_before(df, 'ceiling_height_m')\n",
    "\n",
    "df['ceiling_height_m']= df['ceiling_height_m'].fillna(df['ceiling_height_m'].median())\n",
    "\n",
    "track_nan_filling_after(df, 'ceiling_height_m')"
   ]
  },
  {
   "cell_type": "markdown",
   "id": "aa4a405f-949e-4d5d-b628-b389c8b7f5d0",
   "metadata": {},
   "source": [
    "Проверим теперь описательную статистику для высоты потолков."
   ]
  },
  {
   "cell_type": "code",
   "execution_count": null,
   "id": "9d732b69-ed09-45cc-a63c-ac875aaaaf76",
   "metadata": {},
   "outputs": [],
   "source": [
    "df[\"ceiling_height_m\"].describe()"
   ]
  },
  {
   "cell_type": "markdown",
   "id": "9a65dbfc-bba1-4b54-afe1-aa721dbffdd7",
   "metadata": {},
   "source": [
    "Значения среднего, медианы и квартилей в пределах нормы: для стандартного жилья минимальная высота потолка 2,4 м. В новостройках обычно это значение находится в пределах 2,5-2,7 метра. Для элитного жилья показатель может превышать 3 метр по данным [статьи](https://stone-floor.ru/stati/optimalnaya-visota-potolka#:~:text=%D0%9A%D0%B0%D0%BA%D0%BE%D0%B2%D0%B0%20%D1%81%D0%B8%D1%82%D1%83%D0%B0%D1%86%D0%B8%D1%8F%20%D0%B2%20%D0%A0%D0%BE%D1%81%D1%81%D0%B8%D0%B8%3F,%D0%BF%D0%BE%D0%BA%D0%B0%D0%B7%D0%B0%D1%82%D0%B5%D0%BB%D1%8C%20%D0%BC%D0%BE%D0%B6%D0%B5%D1%82%20%D0%BF%D1%80%D0%B5%D0%B2%D1%8B%D1%88%D0%B0%D1%82%D1%8C%203%20%D0%BC%D0%B5%D1%82%D1%80%D0%B0.)."
   ]
  },
  {
   "cell_type": "markdown",
   "id": "de4ac81c-a0b3-44df-8c09-87d10a66f267",
   "metadata": {},
   "source": [
    "### Столбец `days_exposition` (длительность размещения объявления)"
   ]
  },
  {
   "cell_type": "markdown",
   "id": "1a4f01e4-b88e-44b5-a070-50291b3c5f34",
   "metadata": {},
   "source": [
    "В столбце days_exposition пропущено 13,4%. "
   ]
  },
  {
   "cell_type": "markdown",
   "id": "7610553c-930d-4220-bb21-5d30b72ec547",
   "metadata": {},
   "source": [
    "Посмотрим на количество пустых значений days_exposition по годам, чтобы понять, связаны ли пропуски в этом столбце с тем, что на момент импорта данных объявления были еще актуальны."
   ]
  },
  {
   "cell_type": "code",
   "execution_count": null,
   "id": "15b378bd-bf75-4b0a-838d-fa4d95af4b11",
   "metadata": {},
   "outputs": [],
   "source": [
    "#Создам копию исходного датафрейма\n",
    "df_cp = df.copy() \n",
    "\n",
    "#Поменяю тип данных для  first_day_exposition, чтобы потом извлечь легко оттуда год\n",
    "df_cp['first_day_exposition'] = pd.to_datetime(df_cp['first_day_exposition'], format='%Y-%m-%dT%H:%M:%S')\n",
    "\n",
    "#Создаю столбец с годом \n",
    "df_cp['year'] = df_cp['first_day_exposition'].dt.year\n",
    "\n",
    "#Группирую данные с пропусками в days_exposition по годам: \n",
    "df_cp[df_cp['days_exposition'].isnull()].groupby('year').count()\n"
   ]
  },
  {
   "cell_type": "code",
   "execution_count": null,
   "id": "edf67ff6-b46a-42f2-bb7a-872409cc6def",
   "metadata": {},
   "outputs": [],
   "source": [
    "print('В датасете данные за период: ', df_cp['year'].min(), '-', df_cp['year'].max())"
   ]
  },
  {
   "cell_type": "markdown",
   "id": "f28f68d1-62d1-4c56-969e-7d50d3ba7a59",
   "metadata": {},
   "source": [
    "Наибольшее число пропущенных значений для последнего года, 2019. "
   ]
  },
  {
   "cell_type": "markdown",
   "id": "30c2da66-006d-4541-96e7-79e3352c0202",
   "metadata": {},
   "source": [
    "Да, похоже, действительно у нас пропуски в days_exposition в основном связаны с тем, что объявления на момент выгрузки данных были актуальны. Оставляем пропущенные значения в данном столбце."
   ]
  },
  {
   "cell_type": "markdown",
   "id": "139cd582-8a8a-429f-be3d-48eb61a175db",
   "metadata": {},
   "source": [
    "### Столбец `kitchen_area_m2`"
   ]
  },
  {
   "cell_type": "markdown",
   "id": "3fbd3985-ff71-4555-9599-36d14122df0e",
   "metadata": {},
   "source": [
    "Пропуски в столбце с площадью кухни составляют 9.6%. Эти данные необходимы для исследования и мы можем примерно логически вычислить эти значения.\n",
    "Сначала заполним пропущенные значения 0, потом вычислим медиану для площади кухни и общей площади; узнаем, какую долю от общей площади составляет площадь кухни и найдем площадь кухни, умножая общую площадь на этот коэффициент. Для квартир-студий площадь кухни таким образом не рассчитываем. "
   ]
  },
  {
   "cell_type": "code",
   "execution_count": null,
   "id": "f038f6ee-48ab-4cce-aa89-cd6c3a073dd6",
   "metadata": {},
   "outputs": [],
   "source": [
    "track_nan_filling_before(df, 'kitchen_area_m2')\n",
    "df['kitchen_area_m2'] = df['kitchen_area_m2'].fillna(0)\n",
    "print ('Количество значений 0 в столбце kitchen_area_m2 после обработки: ', len(df.query('kitchen_area_m2 == 0')))"
   ]
  },
  {
   "cell_type": "markdown",
   "id": "bd617dc1-0acc-4499-a317-c9e7ee8ef7ef",
   "metadata": {},
   "source": [
    "Применим метод **where** из библиотеки numpy для вычисления площади кухни.\n"
   ]
  },
  {
   "cell_type": "code",
   "execution_count": null,
   "id": "9bf226cb-e290-4392-b1b6-27a946d5b5b4",
   "metadata": {},
   "outputs": [],
   "source": [
    "df.columns"
   ]
  },
  {
   "cell_type": "code",
   "execution_count": null,
   "id": "06763e3e-2f48-4816-8ff5-b439456693db",
   "metadata": {},
   "outputs": [],
   "source": [
    "df['kitchen_area_m2'] = np.where((df['kitchen_area_m2'] == 0) & \n",
    "                               (df['is_studio'] == False), # условие исключает расчет площади кухни для квартир-студий, что логично (кухня там совмещена с комнатой)\n",
    "                               df['total_area_m2'] *  (df['kitchen_area_m2'].median() / df['total_area_m2'].median()), #каким значением заменяем \n",
    "                               df['kitchen_area_m2'] # в каком столбце делаем замену\n",
    "                             )"
   ]
  },
  {
   "cell_type": "code",
   "execution_count": null,
   "id": "fc819d8a-f333-4b12-b4d1-aa9c75768d9c",
   "metadata": {},
   "outputs": [],
   "source": [
    "print('Количество пропущенных значений в столбце kitchen_area после обработки: ', len(df[df[\"kitchen_area_m2\"].isnull()]))"
   ]
  },
  {
   "cell_type": "markdown",
   "id": "b7701943-60a4-4e5d-a197-0cef29acfcc3",
   "metadata": {},
   "source": [
    "### Другие столбцы"
   ]
  },
  {
   "cell_type": "markdown",
   "id": "41844526-f4b5-44ff-be5c-0da1b96e03bb",
   "metadata": {},
   "source": [
    "Мы не можем подставить логическую замену или как-то вычислить пропущенные значения в столбцах ниже, данные по которым собирались автоматически: \n",
    "\n",
    "* parks_within_3000m \n",
    "* ponds_within_3000m \n",
    "* airports_nearest_m\n",
    "* ponds_within_3000m\n",
    "* parks_around3000  \n",
    "* city_center_distance_m \n",
    "\n",
    "Мы не можем заполнить пропуски в этих случаях без искажения информации - оставим пропуски в данных столбцах."
   ]
  },
  {
   "cell_type": "markdown",
   "id": "efb77f88-0228-479c-abf6-907624011839",
   "metadata": {},
   "source": [
    "Также посмотрим на процент пропущенных значений в столбце city_center_distance_m для Санкт-Петербурга."
   ]
  },
  {
   "cell_type": "code",
   "execution_count": null,
   "id": "bf1b0dea-8b5d-4c73-9727-716e24ad23fb",
   "metadata": {
    "tags": []
   },
   "outputs": [],
   "source": [
    "df[df['locality_name'] == 'Санкт-Петербург']['city_center_distance_m'].isna().mean()*100"
   ]
  },
  {
   "cell_type": "markdown",
   "id": "5461ade8-d181-4194-8bad-7765587ce6fd",
   "metadata": {},
   "source": [
    "Из всех квартир Санкт-Петербурга информация по расстоянию до центра отсутствует всего лишь для 0,4% квартир."
   ]
  },
  {
   "cell_type": "markdown",
   "id": "ab515d43-0e02-4440-8a76-331b54d62ce7",
   "metadata": {},
   "source": [
    "Проверим теперь, сколько пропущенных значений осталось в наших данных "
   ]
  },
  {
   "cell_type": "code",
   "execution_count": null,
   "id": "787cdc55-ba06-431d-80b5-3272e1ed01fb",
   "metadata": {},
   "outputs": [],
   "source": [
    "df.isna().mean()"
   ]
  },
  {
   "cell_type": "markdown",
   "id": "944b3057-8c8d-462b-a22d-536c784cf2eb",
   "metadata": {},
   "source": [
    "### Вывод"
   ]
  },
  {
   "cell_type": "markdown",
   "id": "546e22d6-6237-49c6-bb9c-b589808e66cd",
   "metadata": {},
   "source": [
    "\n",
    "* Мы избавились от пропусков в ключевых для нашего исследования столбцах, предложили логичную замену там, где это возможно:\n",
    "     \n",
    "\n",
    "    В столбце с информацией о том, является ли объект апартаментами, заполнили нулями. \n",
    "\n",
    "    В столбце с жилой площадью заполнили медианой в зависимости от количества комнат. \n",
    "\n",
    "    В столбце с числом балконов заполнили нулями. \n",
    "\n",
    "    В столбце с этажностью дома пропуски составляли лишь 4% -  удалили эти строки. \n",
    "\n",
    "    В столбце с названием населенного пункта - заполнили строковым значением 'unknown'.\n",
    "\n",
    "    В столбце с площадью кухни -  заполнили отношением медианы площади кухни к медиане общей площади, умноженным на общую площадь.  \n",
    "    \n",
    "* Пропуски в столбцах с расстоянием до ближайшего аэропорта, парка, пруда, число парков и прудов в радиусе 3 км мы решили оставить, поскольку не можем подставить логически или вычислить пропущенные значения в них без искажения реальной картины. \n",
    "  \n",
    "* Пропущенные значения в столбце с расстоянием до центра мы оставляем как есть, потому что обработать корректно, не добавляя шума в данных, нельзя, при этом из всех значений в этом столбце нас будут интересовать только значения для квартир Санкт-Петербурга, а в таком случае пропущено всего лишь 0.4 %, что допустимо для данного исследования. \n",
    "   "
   ]
  },
  {
   "cell_type": "markdown",
   "id": "4703630d-fd6e-4386-8576-49a43fd46187",
   "metadata": {
    "tags": []
   },
   "source": [
    "## Приведем данные к нужным типам"
   ]
  },
  {
   "cell_type": "markdown",
   "id": "be408591-8b48-4a58-9bfc-4365da850b27",
   "metadata": {},
   "source": [
    "Посмотрим в начале на типы данных в нашем датафрейме с помощью атрибута **dtypes**."
   ]
  },
  {
   "cell_type": "code",
   "execution_count": null,
   "id": "ef6d6099-bf4f-4e84-86f8-cc51ed42f833",
   "metadata": {},
   "outputs": [],
   "source": [
    "df.dtypes"
   ]
  },
  {
   "cell_type": "markdown",
   "id": "7e76d9e1-8c96-48f1-bf25-e992e6175bcb",
   "metadata": {},
   "source": [
    "В столбце `first_day_exposition` у нас хранится дата публикации объявления, однако тип данных в столбце - object (строка). Преобразуем строку в datetime. "
   ]
  },
  {
   "cell_type": "markdown",
   "id": "0b23a9b7-fd82-4bb4-a65d-0f1b52269ebf",
   "metadata": {},
   "source": [
    "Чтобы увидеть формат, посмотрим на любое значение."
   ]
  },
  {
   "cell_type": "code",
   "execution_count": null,
   "id": "11771c0d-3fb7-46bd-b787-7661c2605ce4",
   "metadata": {},
   "outputs": [],
   "source": [
    "df['first_day_exposition'][0]"
   ]
  },
  {
   "cell_type": "markdown",
   "id": "dfb7018b-a042-46ec-a4cb-daea1211528f",
   "metadata": {},
   "source": [
    "Применим метод **to_datetime** к столбцу с датой и зададим формат, к которому нужно преобразовать строку с датой."
   ]
  },
  {
   "cell_type": "code",
   "execution_count": null,
   "id": "d2975e29-5543-44a6-bfd0-4f71dd10970b",
   "metadata": {},
   "outputs": [],
   "source": [
    "df['first_day_exposition'] = pd.to_datetime(df['first_day_exposition'], format='%Y-%m-%dT%H:%M:%S')"
   ]
  },
  {
   "cell_type": "code",
   "execution_count": null,
   "id": "4cc4e9af-4d78-429e-93eb-5ae5f39a110f",
   "metadata": {},
   "outputs": [],
   "source": [
    "df['first_day_exposition']"
   ]
  },
  {
   "cell_type": "markdown",
   "id": "77510e49-be83-439f-9e42-fbcc8178ff55",
   "metadata": {},
   "source": [
    "Теперь все хорошо: тип данных для даты - datetime64. \n",
    "\n",
    "Дальше с датой мы можем проводить разные операции: выделять день недели, месяц и год публикации. Если бы дата была строкой, то это было бы проблематично."
   ]
  },
  {
   "cell_type": "markdown",
   "id": "5442bb60-6d0e-4895-8e50-fa4a3f286f90",
   "metadata": {},
   "source": [
    "В столбцах `number_of_balconies`, `floors_in_house`, `days_exposition` (длительность размещения объявления) данные хранятся в виде дробных чисел, заменим на целые числа - тип int64. "
   ]
  },
  {
   "cell_type": "markdown",
   "id": "2fd90e89-f32f-4057-a9c7-7f11472d962c",
   "metadata": {},
   "source": [
    "Применим метод **astype** к датафрейму и подадим в него словарь с нужными столбцами и типами данных для замены. \n",
    "Для исключения в случае пропусков выставим errors='ignore'."
   ]
  },
  {
   "cell_type": "code",
   "execution_count": null,
   "id": "708675cc-55c7-4ca4-bf2b-5de0784f58c1",
   "metadata": {},
   "outputs": [],
   "source": [
    "df = df.astype({'floors_in_house': 'int64', 'number_of_balconies': 'int64', 'days_exposition': 'int64'}, errors='ignore')"
   ]
  },
  {
   "cell_type": "markdown",
   "id": "f2eb7f11-a041-4cce-93c5-aecf5704ec98",
   "metadata": {},
   "source": [
    "Проверим результаты преобразований типов данных."
   ]
  },
  {
   "cell_type": "code",
   "execution_count": null,
   "id": "8f6e677f-4235-4fde-bb3e-adda6ac9ad7e",
   "metadata": {},
   "outputs": [],
   "source": [
    "df.dtypes"
   ]
  },
  {
   "cell_type": "markdown",
   "id": "0456c20d-baaf-44a9-93ca-53cad6466425",
   "metadata": {},
   "source": [
    "## Работа с текстом (названием населенного пункта)"
   ]
  },
  {
   "cell_type": "markdown",
   "id": "ceeabf2f-d508-4158-92b4-adb5b652d152",
   "metadata": {},
   "source": [
    "Прежде посмотрим количество уникальных населенных пунктов в столбце \"locality_name\"."
   ]
  },
  {
   "cell_type": "code",
   "execution_count": null,
   "id": "f62e7bc1-2d3e-403d-bcd9-22fa7eca957d",
   "metadata": {},
   "outputs": [],
   "source": [
    "f\"Количество уникальных населенных пунктов в нашем датасете: {len(df['locality_name'].unique())}\""
   ]
  },
  {
   "cell_type": "code",
   "execution_count": null,
   "id": "2ffc064f-455d-4685-b05f-542c6f47252a",
   "metadata": {},
   "outputs": [],
   "source": [
    "df['locality_name']"
   ]
  },
  {
   "cell_type": "markdown",
   "id": "abf82fcb-11a5-4642-8f85-923a344bb7b8",
   "metadata": {},
   "source": [
    "У нас есть два варианта написания слова \"поселок\" - через 'е' и 'ё'. Мы унифицируем запись: заменим везде на 'е'."
   ]
  },
  {
   "cell_type": "code",
   "execution_count": null,
   "id": "742b8a25-1add-43c1-8008-5ba1ec11c008",
   "metadata": {},
   "outputs": [],
   "source": [
    "df['locality_name'] = df.locality_name.str.replace('ё', 'е')"
   ]
  },
  {
   "cell_type": "code",
   "execution_count": null,
   "id": "df21d6b8-4b85-4107-85b4-b3db863e5497",
   "metadata": {},
   "outputs": [],
   "source": [
    "df['locality_name']"
   ]
  },
  {
   "cell_type": "code",
   "execution_count": null,
   "id": "c83c1df0-ed1f-4d48-a38c-816c40de22c1",
   "metadata": {},
   "outputs": [],
   "source": [
    "f\"Количество уникальных населенных пунктов в нашем датасете: {len(df['locality_name'].unique())}\""
   ]
  },
  {
   "cell_type": "markdown",
   "id": "d5218b96-4623-4934-9956-aa84854fd9c1",
   "metadata": {},
   "source": [
    "Были неявные дубли в значениях столбца с населенным пунктом - исправили. "
   ]
  },
  {
   "cell_type": "markdown",
   "id": "133a7dac-83b6-4289-9100-23687ac0aa93",
   "metadata": {},
   "source": [
    "Посмотрим, как теперь выглядит наш датафрейм после предобработки:"
   ]
  },
  {
   "cell_type": "code",
   "execution_count": null,
   "id": "a72bfa85-652e-4afb-aac2-84786bbed96d",
   "metadata": {},
   "outputs": [],
   "source": [
    "df.info()"
   ]
  },
  {
   "cell_type": "markdown",
   "id": "e00b38c1-f3f0-4b35-b7e6-085c59c5c1c0",
   "metadata": {},
   "source": [
    "<a name=\"stage_3\"></a>\n",
    "\n",
    "# Этап 3. Обогащение данных\n",
    "\n",
    "\n",
    "[Наверх к оглавлению](#contents)"
   ]
  },
  {
   "cell_type": "markdown",
   "id": "23cfbbfb-d00b-4c0d-addb-f2fa7d0d5307",
   "metadata": {},
   "source": [
    "## Подсчет стоимость 1 квадратного метра"
   ]
  },
  {
   "cell_type": "markdown",
   "id": "637b1af0-699d-4580-8d84-9d9d10e59812",
   "metadata": {},
   "source": [
    "Вычислим цену за 1 кв м, поделив стоимость квартиры на общую площадь и округлив стоимость с помощью функции round."
   ]
  },
  {
   "cell_type": "code",
   "execution_count": null,
   "id": "6cb6ec4f-3ec2-4a8d-a26e-ba49e81ec3ae",
   "metadata": {},
   "outputs": [],
   "source": [
    "df['price_per_m2'] = round(df['last_price'] / df['total_area_m2'])\n",
    "df['price_per_m2']"
   ]
  },
  {
   "cell_type": "markdown",
   "id": "4c0cbc31-53e2-4087-9575-e5ad9ea21337",
   "metadata": {},
   "source": [
    "## Добавление дня недели, месяца и года публикации объявления"
   ]
  },
  {
   "cell_type": "markdown",
   "id": "10de9ca6-7068-4ef0-8068-2f15dae99e6e",
   "metadata": {},
   "source": [
    "Найдем день недели и запишем в отдельный столбец нашего датафрейма, используя методы **weekday, month, year** класса **datetime** :"
   ]
  },
  {
   "cell_type": "code",
   "execution_count": null,
   "id": "352d1caa-cac9-44fb-b915-485b06c20b64",
   "metadata": {},
   "outputs": [],
   "source": [
    "# Запишем в отдельный столбец нашего датафрейма день недели, месяц, год:\n",
    "df['weekday'] = df['first_day_exposition'].dt.weekday\n",
    "df['month'] = df['first_day_exposition'].dt.month\n",
    "df['year'] = df['first_day_exposition'].dt.year"
   ]
  },
  {
   "cell_type": "markdown",
   "id": "feb3e053-5014-4d32-a432-df08a85db1c7",
   "metadata": {},
   "source": [
    "Проверим, что у нас получилось:"
   ]
  },
  {
   "cell_type": "code",
   "execution_count": null,
   "id": "f0acf558-34ce-4449-ab41-aea516e5a293",
   "metadata": {},
   "outputs": [],
   "source": [
    "df[['first_day_exposition','weekday', 'month', 'year']]"
   ]
  },
  {
   "cell_type": "markdown",
   "id": "ab96908f-b558-4617-af3a-5564eb46c1ee",
   "metadata": {},
   "source": [
    "День 0 - это понедельник."
   ]
  },
  {
   "cell_type": "markdown",
   "id": "ddedeea5-f3a7-4ee2-8b2f-73529bb2962a",
   "metadata": {},
   "source": [
    "## Категоризация данных об этаже квартиры"
   ]
  },
  {
   "cell_type": "markdown",
   "id": "d8911d23-8e5a-4c47-9e07-cd7de0d8ef4f",
   "metadata": {},
   "source": [
    "Посмотрим в начале, какие у нас значения в столбце `floor`."
   ]
  },
  {
   "cell_type": "code",
   "execution_count": null,
   "id": "8b0b7589-f9f4-409a-9a28-f667784114ed",
   "metadata": {
    "tags": []
   },
   "outputs": [],
   "source": [
    "df['floor'].value_counts(ascending=False).to_frame()"
   ]
  },
  {
   "cell_type": "markdown",
   "id": "7a9d3b09-2c60-4a41-830f-906f830f6283",
   "metadata": {},
   "source": [
    "Категоризуем эти данные с помощью функции."
   ]
  },
  {
   "cell_type": "code",
   "execution_count": null,
   "id": "fde82d2c-1a36-4dad-b008-15d14634b515",
   "metadata": {},
   "outputs": [],
   "source": [
    "\"\"\"\n",
    "Функция возвращает категорию этажа по значению этажа (floor) и этажности дома (floors_in_house), используя правила:\n",
    "- 'первый', если этаж 1\n",
    "- 'последний',  если этаж квартиры совпадает с этажностью дома\n",
    "- 'другой' во всех остальных случаях\n",
    "\"\"\"\n",
    "\n",
    "def get_floor_category(row):\n",
    "    \n",
    "    floor = row['floor']\n",
    "    total_floors = row['floors_in_house']\n",
    "    \n",
    "    if floor == 1:\n",
    "        return 'первый этаж'\n",
    "    \n",
    "    elif floor == total_floors:\n",
    "        return 'последний этаж'\n",
    "    \n",
    "    else:\n",
    "        return 'другой'"
   ]
  },
  {
   "cell_type": "markdown",
   "id": "81625402-e422-4c13-8def-664ccec86371",
   "metadata": {},
   "source": [
    "Протестируем функцию на игрушечном датафрейме."
   ]
  },
  {
   "cell_type": "code",
   "execution_count": null,
   "id": "f20d22f3-5282-42f2-8110-668472a66ae0",
   "metadata": {},
   "outputs": [],
   "source": [
    "row = pd.Series(data=[9,9], index=['floor', 'floors_in_house']) \n",
    "get_floor_category(row)"
   ]
  },
  {
   "cell_type": "markdown",
   "id": "bd00bca1-92b8-4061-8fea-ae74c9bcdd4b",
   "metadata": {},
   "source": [
    "Применим функцию по категоризации этажей к столбцам нашего датафрейма и запишем результат в новый столбец `floor_category`."
   ]
  },
  {
   "cell_type": "code",
   "execution_count": null,
   "id": "379fd737-4a83-4783-a099-6105bca99e42",
   "metadata": {
    "tags": []
   },
   "outputs": [],
   "source": [
    "df['floor_category'] = df.apply(get_floor_category, axis=1)"
   ]
  },
  {
   "cell_type": "markdown",
   "id": "dbcea9aa-6441-4708-8348-713802a55a01",
   "metadata": {},
   "source": [
    "Проверим, что у нас получилось."
   ]
  },
  {
   "cell_type": "code",
   "execution_count": null,
   "id": "8e43ac3f-5f8e-4058-b0a6-40a63711ddb3",
   "metadata": {},
   "outputs": [],
   "source": [
    "df[['floor', 'floors_in_house', 'floor_category']]"
   ]
  },
  {
   "cell_type": "markdown",
   "id": "9c80699a-06b7-4b09-ab08-997323763bea",
   "metadata": {},
   "source": [
    "## Отношение жилой и общей площади"
   ]
  },
  {
   "cell_type": "code",
   "execution_count": null,
   "id": "0bfe7f68-4c7b-43ad-acfa-a7f1b307e31f",
   "metadata": {},
   "outputs": [],
   "source": [
    "df.columns"
   ]
  },
  {
   "cell_type": "markdown",
   "id": "860b1b67-5f82-495e-b126-d8f351176325",
   "metadata": {},
   "source": [
    "Вычислим отношение жилой площади к общей. Результат запишем в новый столбец `living_to_total_area_m2`."
   ]
  },
  {
   "cell_type": "code",
   "execution_count": null,
   "id": "b4fc019e-01c5-4fe2-8b9e-667402d0cc71",
   "metadata": {},
   "outputs": [],
   "source": [
    "df['living_to_total_area_m2'] = df['living_area_m2'] / df['total_area_m2']"
   ]
  },
  {
   "cell_type": "code",
   "execution_count": null,
   "id": "354ef9f6-85bb-4d55-b49d-5366c2af71e1",
   "metadata": {},
   "outputs": [],
   "source": [
    "df['living_to_total_area_m2']"
   ]
  },
  {
   "cell_type": "markdown",
   "id": "1b86277a-970d-46c2-a48f-d40fb94c1792",
   "metadata": {},
   "source": [
    "## Отношение площади кухни к общей площади"
   ]
  },
  {
   "cell_type": "markdown",
   "id": "b40b2526-a5e9-4930-bc72-75b4449b204a",
   "metadata": {},
   "source": [
    "Вычислим отношение площади кухни к общей площади."
   ]
  },
  {
   "cell_type": "code",
   "execution_count": null,
   "id": "ce21db42-4aff-4d71-a31b-6342d3a219a3",
   "metadata": {},
   "outputs": [],
   "source": [
    "df['kitchen_to_total_area_m2'] = df['kitchen_area_m2'] / df['total_area_m2']\n",
    "df['kitchen_to_total_area_m2']"
   ]
  },
  {
   "cell_type": "markdown",
   "id": "06fd1a3a-1335-473d-9997-bb260e92d054",
   "metadata": {},
   "source": [
    "Посмотрим на обогащенный датафрейм."
   ]
  },
  {
   "cell_type": "code",
   "execution_count": null,
   "id": "05e3b2c6-fe97-40c1-9149-98db7816a52d",
   "metadata": {
    "scrolled": true
   },
   "outputs": [],
   "source": [
    "df.info()"
   ]
  },
  {
   "cell_type": "markdown",
   "id": "14e73f49-fa16-46dd-a51c-ccd6c08b6d12",
   "metadata": {},
   "source": [
    "Необходимые расчеты добавлены в таблицу, можно приступать к исследовательскому анализу данных."
   ]
  },
  {
   "cell_type": "markdown",
   "id": "ee7a5d37-dc34-48f9-854c-9eba931579b0",
   "metadata": {},
   "source": [
    "<a name=\"stage_4\"></a>\n",
    "\n",
    "# Этап 4. Исследовательский анализ данных\n",
    "\n",
    "\n",
    "[Наверх к оглавлению](#contents)"
   ]
  },
  {
   "cell_type": "markdown",
   "id": "3c972973-a195-4291-ba3e-2b9fc72318f9",
   "metadata": {},
   "source": [
    "## Распределение значений в данных"
   ]
  },
  {
   "cell_type": "markdown",
   "id": "6904fee6-28b6-46a8-8d5a-2d1f4b41a897",
   "metadata": {},
   "source": [
    "### Стоимость квартиры"
   ]
  },
  {
   "cell_type": "markdown",
   "id": "76e18d0c-b381-4c1b-81e6-7b84b9a834ec",
   "metadata": {},
   "source": [
    "Построим с ходу гистограмму для цены с помощью библиотеки seaborn."
   ]
  },
  {
   "cell_type": "code",
   "execution_count": null,
   "id": "9a0f5e9b-5591-4725-a421-34f0589e70b1",
   "metadata": {},
   "outputs": [],
   "source": [
    "sns.histplot(data=df, x='last_price', kde=True);"
   ]
  },
  {
   "cell_type": "markdown",
   "id": "99b70965-e4bc-4b61-aa1c-7737e526e4bf",
   "metadata": {},
   "source": [
    "Узкий пик до 40 000 000 и дальше длинный хвост из маленького количества значений, который скрадывает все остальные данные. У нас скошенное распределение. Попробуем отсечь выбросы и посмотреть поближе."
   ]
  },
  {
   "cell_type": "markdown",
   "id": "67a86e06-c067-48b6-a1b9-a1a0868c1e42",
   "metadata": {},
   "source": [
    "Построим также ящик с усами, или диаграмму размаха, чтобы оценить распределение и увидеть характерный разброс"
   ]
  },
  {
   "cell_type": "code",
   "execution_count": null,
   "id": "ebedefe9-cc36-4d51-b15d-86ab449f99aa",
   "metadata": {},
   "outputs": [],
   "source": [
    "df['last_price'].plot.box();"
   ]
  },
  {
   "cell_type": "markdown",
   "id": "42b62625-4c4f-4bb2-8403-e720aed82a08",
   "metadata": {},
   "source": [
    "Наш ящик оказался сжат выбросами, которых много и все они лежат выше верхнего межквартильного размаха. Уберем выбросы. \n",
    "Посмотрим, с какими значениями будем работать c помощью метода describe:"
   ]
  },
  {
   "cell_type": "code",
   "execution_count": null,
   "id": "781e8f16-0b18-410b-a6bd-2ee6ee355c54",
   "metadata": {},
   "outputs": [],
   "source": [
    "df['last_price'].describe()"
   ]
  },
  {
   "cell_type": "markdown",
   "id": "3b2a5065-05c9-4a54-8598-b1d71aecc67a",
   "metadata": {},
   "source": [
    "Посчитаем первый квартиль, третий квартиль и вычислим межквартильный размах."
   ]
  },
  {
   "cell_type": "code",
   "execution_count": null,
   "id": "23c44a6a-4cda-42f7-ad09-3ce882ddb10a",
   "metadata": {},
   "outputs": [],
   "source": [
    "q1 = df['last_price'].quantile(0.25)\n",
    "q3 = df['last_price'].quantile(0.75)\n",
    "iqr = q3 - q1"
   ]
  },
  {
   "cell_type": "code",
   "execution_count": null,
   "id": "8b7539e6-f32b-4f46-aa23-e1c5413cc654",
   "metadata": {},
   "outputs": [],
   "source": [
    "f'Первый квартиль, 25%: {q1}'"
   ]
  },
  {
   "cell_type": "code",
   "execution_count": null,
   "id": "e8f9971d-aefc-4616-8434-80becf1f4033",
   "metadata": {},
   "outputs": [],
   "source": [
    "f'Третий квартиль, 75%: {q3}'"
   ]
  },
  {
   "cell_type": "code",
   "execution_count": null,
   "id": "3353f019-5b1c-4a4a-b3cc-9d6540979d41",
   "metadata": {},
   "outputs": [],
   "source": [
    "f'Межквартильный размах, расстояние между третьим квартилем и первым: {iqr}'"
   ]
  },
  {
   "cell_type": "code",
   "execution_count": null,
   "id": "3beca35a-b899-4222-ad33-3d5d7510e746",
   "metadata": {},
   "outputs": [],
   "source": [
    "f\"Не более 1% квартир имеют стоимость жилья выше {np.percentile(df['last_price'], 99)} рублей\""
   ]
  },
  {
   "cell_type": "markdown",
   "id": "8f3a1e38-b812-46b6-b3b8-6edb0f93ca3c",
   "metadata": {},
   "source": [
    "Сделаем срез: уберем из нашего датасета все данные, которые лежат выше верхнего уса на нашем графике, то есть мы пока не будем рассматривать квартиры с очень высокой стоимостью на графике. Напомним, что «усы» ящика простираются влево и вправо от границ ящика на расстояние, равное 1,5 межквартильного размаха. В размах усов попадают нормальные значения, а за пределами находятся выбросы. "
   ]
  },
  {
   "cell_type": "code",
   "execution_count": null,
   "id": "72343a7c-4919-4b29-b1e9-48c16af2c825",
   "metadata": {},
   "outputs": [],
   "source": [
    "#третий квартиль + полтора межквартильного размаха\n",
    "dfq = df.query('last_price <= @q3 + 1.5 * @iqr') "
   ]
  },
  {
   "cell_type": "code",
   "execution_count": null,
   "id": "f9b88392-5958-47b2-a036-f4b9166b214e",
   "metadata": {},
   "outputs": [],
   "source": [
    "#Посмотрим, сколько данных мы отрезали:\n",
    "f'Мы отрезали {1 - dfq.shape[0] / df.shape[0]:.1%} данных.'"
   ]
  },
  {
   "cell_type": "markdown",
   "id": "70c7636a-e01f-4011-a289-a069a77c9ca5",
   "metadata": {},
   "source": [
    "Это довольно много. Элитное жилье можно рассмотреть отдельно."
   ]
  },
  {
   "cell_type": "markdown",
   "id": "434cac62-131a-4897-b6cb-5bdd482e5c66",
   "metadata": {},
   "source": [
    "Сделаем срез данных - создадим отдельную переменную для сегмента элитного жилья."
   ]
  },
  {
   "cell_type": "code",
   "execution_count": null,
   "id": "2f5fa0db-c4cc-452a-ade6-8e89e3945632",
   "metadata": {},
   "outputs": [],
   "source": [
    "high_price = df.query('last_price >= @q3 + 1.5 * @iqr')  "
   ]
  },
  {
   "cell_type": "markdown",
   "id": "87fdb58e-1764-44b3-aca7-0e63a4c02130",
   "metadata": {},
   "source": [
    "Теперь снова построим гистограмму для стоимости квартир без учета выбросов - данных, которые у нас лежали выше верхнего уса."
   ]
  },
  {
   "cell_type": "code",
   "execution_count": null,
   "id": "900ac1d2-e052-4334-a19a-b7e3e86bbf2d",
   "metadata": {},
   "outputs": [],
   "source": [
    "plt.figure(figsize=(10,4))\n",
    "\n",
    "sns.histplot(data=dfq, x='last_price', kde=True)\n",
    "plt.title('\\n Распределение стоимости квартир без учета выбросов\\n')\n",
    "plt.ylabel('Количество квартир') #чтобы убрать автоматические метки для осей\n",
    "plt.xlabel('\\nЦена квартиры, *10 в 7 степени, млн.рублей')\n",
    "plt.show()"
   ]
  },
  {
   "cell_type": "markdown",
   "id": "b2d11d5b-2b6a-48f9-9a41-d68a8f7be753",
   "metadata": {},
   "source": [
    "<div style=\"border:solid green 2px; padding: 20px\"> \n",
    "\n",
    "Вывод:\n",
    "    \n",
    "После удаления выбросов график выглядит как нормальное распределение. \n",
    "\n",
    "Большинство квартир в датасете имеют стоимость в районе 3 млн - 6 млн. \n",
    "\n",
    "У 50% квартир в выборке цена меньше, чем 4 650 000 млн. \n",
    "\n",
    "Не более 1% квартир имеют стоимость выше 36 000 000 млн. рублей."
   ]
  },
  {
   "cell_type": "markdown",
   "id": "c74f479b-bfa9-4359-8a04-b70e0146310a",
   "metadata": {},
   "source": [
    "### Общая площадь квартиры"
   ]
  },
  {
   "cell_type": "markdown",
   "id": "eae7894d-a49e-4cea-a72c-032e0cb53da8",
   "metadata": {},
   "source": [
    "Посмотрим на описательную статистику значений столбца `total_area_m2`."
   ]
  },
  {
   "cell_type": "code",
   "execution_count": null,
   "id": "1487cd82-6a2e-4764-819d-4b8542373a2e",
   "metadata": {},
   "outputs": [],
   "source": [
    "df['total_area_m2'].describe()"
   ]
  },
  {
   "cell_type": "markdown",
   "id": "15364fe7-4290-4a1d-b841-9f3bb4b7b5fe",
   "metadata": {},
   "source": [
    "Половина объектов имеют общую площадь не больше 52 м2. На среднее значение общей площади, которое составляет 60 м2, влияют выбросы. Например, есть объект с общей площадью в 900 м2."
   ]
  },
  {
   "cell_type": "markdown",
   "id": "fd161fee-6568-4642-9f6c-d9732a2189ca",
   "metadata": {},
   "source": [
    "Построим гистрограмму для площади квартир c помощью метода **hist()** библиотеки matplotlib. "
   ]
  },
  {
   "cell_type": "markdown",
   "id": "9d13cdca-2b5f-47f4-b9fa-ccb48d2b61a3",
   "metadata": {},
   "source": [
    "Уберем показ редких значений и посмотрим ближе распределение значений в диапазоне от 20 до 180."
   ]
  },
  {
   "cell_type": "code",
   "execution_count": null,
   "id": "a01e2657-5ac2-4bec-9d57-813587abb07a",
   "metadata": {},
   "outputs": [],
   "source": [
    "df.hist('total_area_m2', bins=100, range=(20,180), figsize=(10, 4), ec='black')\n",
    "plt.title('Распределение квартир по общей площади \\n')\n",
    "plt.xlabel('\\n Общая площадь квартиры')\n",
    "plt.ylabel('Количество квартир')\n",
    "plt.show();"
   ]
  },
  {
   "cell_type": "markdown",
   "id": "3c3b450f-d3c2-445f-a7ce-8effeff0732d",
   "metadata": {},
   "source": [
    "<div style=\"border:solid green 2px; padding: 20px\"> \n",
    "\n",
    "Вывод:\n",
    "\n",
    "Мы убрали показ выбросов и хорошо видно, что чаще всего в датасете встречаются квартиры с площадью в диапазоне от 30 до 47 м2."
   ]
  },
  {
   "cell_type": "markdown",
   "id": "0aa0f10e-3490-4d38-aa54-c624c148c5ba",
   "metadata": {},
   "source": [
    "### Количество комнат"
   ]
  },
  {
   "cell_type": "code",
   "execution_count": null,
   "id": "d143908b-1e5b-424e-9904-771156f558ee",
   "metadata": {},
   "outputs": [],
   "source": [
    "df['number_of_rooms'].describe()"
   ]
  },
  {
   "cell_type": "markdown",
   "id": "70c07125-a77c-45c3-8959-06ceac1c8aba",
   "metadata": {},
   "source": [
    "Построим гистограмму распределения количества комнат."
   ]
  },
  {
   "cell_type": "code",
   "execution_count": null,
   "id": "00e85626-b2bf-4fcd-b4b3-1cbb3e920db2",
   "metadata": {},
   "outputs": [],
   "source": [
    "df['number_of_rooms'].hist(figsize=(10, 4),ec='black')\n",
    "plt.xticks(np.arange(0, 19, step=1)) \n",
    "plt.title('Распределение квартир по количеству комнат\\n')\n",
    "plt.xlabel('\\nКоличество комнат')\n",
    "plt.ylabel('Общее количество квартир\\n')\n",
    "plt.show()"
   ]
  },
  {
   "cell_type": "markdown",
   "id": "ec070ba1-ded4-43ce-b864-cd78e674fb50",
   "metadata": {},
   "source": [
    "Поизучаем квартиры с количеством комнат 0."
   ]
  },
  {
   "cell_type": "code",
   "execution_count": null,
   "id": "319534ae-41b3-4ee9-a3e6-780118ad93d8",
   "metadata": {},
   "outputs": [],
   "source": [
    "print('Количество квартир с нулевым числом комнат: ', df.query('number_of_rooms == 0').shape[0])"
   ]
  },
  {
   "cell_type": "markdown",
   "id": "8d75702b-bdc6-47b1-9698-4056b1c292a0",
   "metadata": {},
   "source": [
    "Видимо, это квартиры-студии в большинстве случаев:"
   ]
  },
  {
   "cell_type": "markdown",
   "id": "333e274e-ddde-4b21-ba19-6fe3744bd2ad",
   "metadata": {},
   "source": [
    "Посмотрим, сколько из них - квартиры-студии:"
   ]
  },
  {
   "cell_type": "code",
   "execution_count": null,
   "id": "74ef9271-59a3-4281-bf01-838fac72c4d7",
   "metadata": {},
   "outputs": [],
   "source": [
    "df.query('number_of_rooms == 0 and is_studio == True').shape[0]"
   ]
  },
  {
   "cell_type": "code",
   "execution_count": null,
   "id": "c3fe978b-18c7-4363-83ae-0d5e8c01e01e",
   "metadata": {},
   "outputs": [],
   "source": [
    "f\"Процент квартир с 0 количеством комнат: {df.query('number_of_rooms == 0').shape[0]/df.shape[0]:.2%}\""
   ]
  },
  {
   "cell_type": "code",
   "execution_count": null,
   "id": "1753be40-cc56-4468-90ee-4e9c2d053a89",
   "metadata": {},
   "outputs": [],
   "source": [
    "f\"Процент квартир с  количеством комнат 2: {df.query('number_of_rooms <=2').shape[0]/df.shape[0]:.2%}\""
   ]
  },
  {
   "cell_type": "markdown",
   "id": "96f0b67e-67c1-4b53-8af2-63c67d4f2c49",
   "metadata": {},
   "source": [
    "<div style=\"border:solid green 2px; padding: 20px\"> \n",
    "\n",
    "Вывод:\n",
    "    \n",
    "В нашем датасете больше всего одно-, двух- и трехкомнатных квартир. \n",
    "\n",
    "50 % квартир имеет не больше 2 комнат.  \n",
    "    \n",
    "0.8% квартир имеют нулевое количество комнат - в большинстве случаев это квартиры-студии."
   ]
  },
  {
   "cell_type": "markdown",
   "id": "a8cd9661-26fd-43e3-8746-f936ea8705da",
   "metadata": {},
   "source": [
    "###  Высота потолков"
   ]
  },
  {
   "cell_type": "code",
   "execution_count": null,
   "id": "6e3c4b15-04cd-4ab7-aeb6-598128bbc4d4",
   "metadata": {},
   "outputs": [],
   "source": [
    "df['ceiling_height_m'].describe()"
   ]
  },
  {
   "cell_type": "code",
   "execution_count": null,
   "id": "1061f794-85f8-4e5b-94d6-41f285cb5a06",
   "metadata": {},
   "outputs": [],
   "source": [
    "df['ceiling_height_m'].hist(range=(2,3), figsize=(10, 4), ec='black')\n",
    "plt.title('Распределение квартир по высоте потолков\\n')\n",
    "plt.xlabel('\\nВысота потолков')\n",
    "plt.ylabel('Общее количество квартир\\n')\n",
    "plt.show()"
   ]
  },
  {
   "cell_type": "markdown",
   "id": "e05fe407-9781-400d-af6d-c6a5cb1a1525",
   "metadata": {},
   "source": [
    "<div style=\"border:solid green 2px; padding: 20px\"> \n",
    "\n",
    "Вывод:\n",
    "    \n",
    "На гистограмме видно, что больше всего квартир у нас имеют высоту потолков в районе 2.5 - 2.7 метров."
   ]
  },
  {
   "cell_type": "markdown",
   "id": "18fe66b6-0ec0-4154-be68-85b3ac9a9489",
   "metadata": {},
   "source": [
    "### Длительность публикации объявления"
   ]
  },
  {
   "cell_type": "markdown",
   "id": "41ed70ed-bdf7-4006-b2b5-7e9548da05e1",
   "metadata": {},
   "source": [
    "Изучим значения в days_exposition"
   ]
  },
  {
   "cell_type": "code",
   "execution_count": null,
   "id": "7799f86e-0116-4438-8d11-81549e033808",
   "metadata": {},
   "outputs": [],
   "source": [
    "df['days_exposition'].describe()"
   ]
  },
  {
   "cell_type": "markdown",
   "id": "47cdaf03-e9bb-440d-a43f-857f763c530b",
   "metadata": {},
   "source": [
    "Медиана (95) и среднее (180.9) существенно различаются."
   ]
  },
  {
   "cell_type": "markdown",
   "id": "489aa56e-52fc-4920-9699-5d0b3b40f3ad",
   "metadata": {},
   "source": [
    "Построим гистаграмму распределения длительности публикации объявления."
   ]
  },
  {
   "cell_type": "code",
   "execution_count": null,
   "id": "61e9af87-7e44-4c9e-adad-d66980685648",
   "metadata": {},
   "outputs": [],
   "source": [
    "df['days_exposition'].hist(bins=70, figsize=(10, 4), ec='black')\n",
    "plt.xticks(np.arange(0, 1600, step=100)) \n",
    "plt.title('Распределение квартир по длительности публикации объявления\\n')\n",
    "plt.xlabel('\\nДлительность публикации объявления о продаже')\n",
    "plt.ylabel('Общее количество квартир\\n')\n",
    "plt.show()"
   ]
  },
  {
   "cell_type": "markdown",
   "id": "dc1690dd-8649-4bb8-9a0f-a2a242253c5d",
   "metadata": {},
   "source": [
    "Имеем дело со скошенным распределением - все сгруппировано слева и есть длинный хвост из выбросов справа. Есть пик на отметке в 45-50 дней. Возможно, объявления спустя 50 дней снимаются автоматически сервисом Я.Недвижимости."
   ]
  },
  {
   "cell_type": "markdown",
   "id": "92e7d7ab-55e2-42f5-8217-45714144f689",
   "metadata": {},
   "source": [
    "На гистрограмме мы видим, что чаще всего квартиры продаются за примерно 100 дней (3 месяца). Крайне редко продажа длится более 450 дней, более года. Это необычно долгие продажи.  "
   ]
  },
  {
   "cell_type": "markdown",
   "id": "dc8adcea-3b73-4ce5-af1b-062bde82550d",
   "metadata": {},
   "source": [
    "<div style=\"border:solid green 2px; padding: 20px\"> \n",
    "\n",
    "Вывод:\n",
    "\n",
    "Примерно в 50% случаев квартиры продаются не дольше, чем за 100 дней, то есть за примерно 3 месяца с небольшим. \n",
    "\n",
    "Четверть всех объявлений имеет длительность продажи больше 232 дней. \n",
    "    \n",
    "Крайне редко объявления о продаже имеют длинную длительность от 460 дней до 1580 дней, то есть больше года.  "
   ]
  },
  {
   "cell_type": "markdown",
   "id": "71d7d4f8-3355-405c-8fcb-f82df81a63e1",
   "metadata": {},
   "source": [
    "## Определяем редкие и выбивающиеся значения"
   ]
  },
  {
   "cell_type": "markdown",
   "id": "0b6d65c5-b1db-4d8f-94bf-66254658d26d",
   "metadata": {},
   "source": [
    "Для определения аномалий и редкий значений в данных попробуем использовать в том числе теорию ящика с усами.\n",
    "\n",
    "«Усы» простираются влево и вправо от границ ящика на расстояние, равное 1,5 межквартильного размаха (сокращённо IQR, от англ. interquartile range, «межквартильный размах»). В размах «усов» попадают нормальные значения, а за пределами находятся выбросы, изображённые точками."
   ]
  },
  {
   "cell_type": "markdown",
   "id": "bc7ec713-ab56-499c-b58a-5051dd46352a",
   "metadata": {},
   "source": [
    "Попробуем создать функцию, которая будет определять для каждого задаваемого нами признака - границы \"усов\". Эти границы и будут выбросами для данного признака."
   ]
  },
  {
   "cell_type": "code",
   "execution_count": null,
   "id": "5a8ffe4c-5e08-45fe-a0c5-3c1ef577edf5",
   "metadata": {},
   "outputs": [],
   "source": [
    "\"\"\"\n",
    "Функция на вход принимает имя датафрейма и имя столбца - изучаемый нами признак.\n",
    "Возвращает границы левого и правого усов (список) на основе следующей логики:\n",
    "Левый (или нижний) ус - это 4 квартиль минут полтора межквартильного разамаха,\n",
    "а правый (или верхний ус) - это 3 квартиль плюс полтора межкартильного размаха.\n",
    "\n",
    "\"\"\"\n",
    "def get_whiskers(dataframe, column):\n",
    "    q1 = df[column].quantile(0.25) # первый квантиль\n",
    "    q3 = df[column].quantile(0.75) # третий квантиль\n",
    "    minimum = df[column].min() # минимальное значение в наборе данных\n",
    "    maximum = df[column].max() # максимальное значение в наборе данных\n",
    "\n",
    "    # считаем межквартильный размах\n",
    "    iqr = q3 - q1\n",
    "    \n",
    "    # считаем левый и правый ус, округляем значения    \n",
    "    left_whisker = round(q1 - 1.5 * iqr, 2)\n",
    "    right_whisker = round(q3 + 1.5 * iqr, 2)\n",
    "\n",
    "    # левый ус не может быть меньше минимума:\n",
    "    if left_whisker < minimum: left_whisker = minimum \n",
    "        \n",
    "    # правый ус не может быть больше максимума:\n",
    "    if right_whisker > maximum: right_whisker = maximum\n",
    "        \n",
    "    return [left_whisker, right_whisker]\n",
    "\n"
   ]
  },
  {
   "cell_type": "markdown",
   "id": "8df159a1-17b6-425b-ab59-7bda153b61f4",
   "metadata": {},
   "source": [
    "### Общая площадь квартиры"
   ]
  },
  {
   "cell_type": "code",
   "execution_count": null,
   "id": "40dd2b75-411f-444c-b68a-87bd0848bc38",
   "metadata": {},
   "outputs": [],
   "source": [
    "df['total_area_m2'].describe()"
   ]
  },
  {
   "cell_type": "markdown",
   "id": "0fc00614-a60c-4aff-84c5-b3fff4cdcf87",
   "metadata": {},
   "source": [
    "Построим диаграмму размаха для площади квартиры"
   ]
  },
  {
   "cell_type": "code",
   "execution_count": null,
   "id": "58da7da3-8b53-4517-8561-f24c9b2dd502",
   "metadata": {},
   "outputs": [],
   "source": [
    "sns.boxplot(x=df['total_area_m2'])\n",
    "plt.title('Диаграмма размаха общей площади')\n",
    "plt.xlabel('\\nОбщая площадь, кв.м')\n",
    "plt.show()"
   ]
  },
  {
   "cell_type": "code",
   "execution_count": null,
   "id": "7b0190fd-8f29-4cd8-8649-f427c0ef6188",
   "metadata": {
    "tags": []
   },
   "outputs": [],
   "source": [
    "#Протестируем нашу функцию:\n",
    "get_whiskers(df, 'total_area_m2')"
   ]
  },
  {
   "cell_type": "markdown",
   "id": "8055f85f-f3dc-4912-a417-0cf2ce31676d",
   "metadata": {},
   "source": [
    "У нас левый ус - это и есть наш минимум. Похоже, это квартира-студия. Квартиры с такой площадью существуют, поэтому мы не считаем это аномальными данными.\n",
    "114.5 - это тоже не аномально большая площадь, если речь идет об элитном жилье или квартире с большим количеством комнат. Примерно после 350 плотность выбросов становится меньше. Возьмем отметку в 350 кв.м."
   ]
  },
  {
   "cell_type": "markdown",
   "id": "28f8eaa2-f058-439a-9ac0-5fd919b0e014",
   "metadata": {},
   "source": [
    "Создадим столбец со значениями True и False. Квартиры с очень большой площадью будут иметь True."
   ]
  },
  {
   "cell_type": "code",
   "execution_count": null,
   "id": "d93e103e-c66b-4bd3-9fea-5450b810431c",
   "metadata": {},
   "outputs": [],
   "source": [
    "#Все квартиры, где площадь больше или равна 350, будем считать очень большими по площади.\n",
    "df['is_too_large_area'] = df['total_area_m2']>= 350"
   ]
  },
  {
   "cell_type": "markdown",
   "id": "9b6f3efc-4083-4e1f-9fca-bd2961a3c63e",
   "metadata": {},
   "source": [
    "Проверяем, что у нас получилось."
   ]
  },
  {
   "cell_type": "code",
   "execution_count": null,
   "id": "dcbd1b22-5346-43ce-b44c-fb25949f4a0d",
   "metadata": {},
   "outputs": [],
   "source": [
    "df['is_too_large_area'].value_counts()"
   ]
  },
  {
   "cell_type": "code",
   "execution_count": null,
   "id": "c75e800e-ab7b-40e8-8623-ea17493649e3",
   "metadata": {},
   "outputs": [],
   "source": [
    "len(df[df['total_area_m2']>= 350])"
   ]
  },
  {
   "cell_type": "code",
   "execution_count": null,
   "id": "b5b54336-f7ee-436f-aac2-e626b84baf1b",
   "metadata": {},
   "outputs": [],
   "source": [
    "df[df['total_area_m2']==900][['total_area_m2', 'is_too_large_area']]"
   ]
  },
  {
   "cell_type": "code",
   "execution_count": null,
   "id": "72e41b3b-4241-4996-94f5-b0c49dd6cebe",
   "metadata": {},
   "outputs": [],
   "source": [
    "f\"Выбивающиеся и редкие значения от всей выборки составляют {df.query('total_area_m2 >= 350').shape[0] / df.shape[0]:.1%} данных\""
   ]
  },
  {
   "cell_type": "markdown",
   "id": "15c0f8fc-9db4-4e97-9c53-6d7af356c598",
   "metadata": {},
   "source": [
    "### Cтоимость квартиры"
   ]
  },
  {
   "cell_type": "code",
   "execution_count": null,
   "id": "201274ad-e6bc-4b3c-aa0d-975105120e4d",
   "metadata": {},
   "outputs": [],
   "source": [
    "df['last_price'].describe()"
   ]
  },
  {
   "cell_type": "markdown",
   "id": "44d10078-0dfe-4e6a-91a3-9b59006ffbec",
   "metadata": {},
   "source": [
    "Посмтрим на границы усов для признака цена."
   ]
  },
  {
   "cell_type": "code",
   "execution_count": null,
   "id": "41049101-55b0-409c-9ed9-6600e176cdc9",
   "metadata": {},
   "outputs": [],
   "source": [
    "get_whiskers(df, 'last_price')"
   ]
  },
  {
   "cell_type": "markdown",
   "id": "5ebcf028-e069-40fd-88e5-bc2ce36c7920",
   "metadata": {},
   "source": [
    "Квартира стоимостью 12190 смущает. Посмотрим на нее поближе."
   ]
  },
  {
   "cell_type": "code",
   "execution_count": null,
   "id": "f2e53249-4a16-4a5f-825d-06b1424b7d88",
   "metadata": {},
   "outputs": [],
   "source": [
    "df[df['last_price'] == 12190]"
   ]
  },
  {
   "cell_type": "markdown",
   "id": "9db3822d-d8bb-4465-b425-8c7a7a4e46e5",
   "metadata": {},
   "source": [
    "Посмотрим на всю строку целиком."
   ]
  },
  {
   "cell_type": "code",
   "execution_count": null,
   "id": "5804c924-1603-4076-b65f-6f096985d746",
   "metadata": {
    "tags": []
   },
   "outputs": [],
   "source": [
    "df.loc[8793]"
   ]
  },
  {
   "cell_type": "markdown",
   "id": "183d6b2a-54eb-462f-a1e6-0d75f1637867",
   "metadata": {},
   "source": [
    "Это очень странная квартира: слишком маленькая цена, слишком маленькая жилая площадь при наличие двух комнат и подозрительное соотношение жилой площади к общей.  "
   ]
  },
  {
   "cell_type": "markdown",
   "id": "6291374d-0202-4843-bd25-2d0ccde236e1",
   "metadata": {},
   "source": [
    "Посмотрим еще гистограмму, определив интервал по нашим границам усов."
   ]
  },
  {
   "cell_type": "code",
   "execution_count": null,
   "id": "3d0deb87-2e13-43fb-993f-fa812cb9e5dc",
   "metadata": {},
   "outputs": [],
   "source": [
    "df['last_price'].hist(bins=100, range=(12190, 11897500));"
   ]
  },
  {
   "cell_type": "markdown",
   "id": "2133f237-8b2a-46cf-92e0-476143bd791b",
   "metadata": {},
   "source": [
    "Совсем мало значений на границе с 400 000. Проверим это c помощью условия в query"
   ]
  },
  {
   "cell_type": "code",
   "execution_count": null,
   "id": "a2d4773c-8f35-4fb0-81ff-32bcea3fdf54",
   "metadata": {},
   "outputs": [],
   "source": [
    "df.query('last_price<=400000')"
   ]
  },
  {
   "cell_type": "markdown",
   "id": "8f824203-de5d-4820-9d18-2fd4c01f4b1f",
   "metadata": {},
   "source": [
    "Найдем 99 персентиль. "
   ]
  },
  {
   "cell_type": "code",
   "execution_count": null,
   "id": "ca39f17f-6559-4e51-8916-228cea928edd",
   "metadata": {},
   "outputs": [],
   "source": [
    "df['last_price'].quantile(0.99)"
   ]
  },
  {
   "cell_type": "markdown",
   "id": "0f684c92-358c-42e6-a14e-31069820a49d",
   "metadata": {},
   "source": [
    "Лишь 1% в нашей выборке квартир имеет стоимость выше 36 000 000 - возьмем эту отметку в качестве верхней границы."
   ]
  },
  {
   "cell_type": "markdown",
   "id": "1567e052-3763-4da2-ab49-e3db6f0471d7",
   "metadata": {},
   "source": [
    "Проверяем еще раз, сколько данных в итоге отрезаем:"
   ]
  },
  {
   "cell_type": "code",
   "execution_count": null,
   "id": "70aaf8b7-cb06-4b4f-831e-c86447882634",
   "metadata": {},
   "outputs": [],
   "source": [
    "f\"Выбивающиеся и редкие значения от всей выборки составляют {df.query('last_price >= 36000000 | last_price <= 400000').shape[0] / df.shape[0]:.1%} данных\"\n"
   ]
  },
  {
   "cell_type": "markdown",
   "id": "8a41c8bc-f1b6-499a-b7e6-d30e27ca221a",
   "metadata": {},
   "source": [
    "Все квартиры, где стоимость больше или равне 36 млн или меньше 400 тыс будем маркировать признаком с необычной ценой."
   ]
  },
  {
   "cell_type": "code",
   "execution_count": null,
   "id": "b78e8e23-2002-4a19-b5b9-aadce3b7544f",
   "metadata": {},
   "outputs": [],
   "source": [
    "df['is_unusual_price'] = (df['last_price']>= 36000000) | (df['last_price'] <= 400000)"
   ]
  },
  {
   "cell_type": "markdown",
   "id": "70c3f156-d8c6-4fd3-83dd-2c60e9ca867e",
   "metadata": {},
   "source": [
    "Проверим, что получилось."
   ]
  },
  {
   "cell_type": "code",
   "execution_count": null,
   "id": "bcefa596-8b72-4e9e-a881-0c5def5fbdc9",
   "metadata": {},
   "outputs": [],
   "source": [
    "df.loc[8793][['last_price', 'is_unusual_price']]"
   ]
  },
  {
   "cell_type": "code",
   "execution_count": null,
   "id": "841be7aa-0fd0-4806-817c-c6afc0f3a367",
   "metadata": {},
   "outputs": [],
   "source": [
    "df.loc[0][['last_price', 'is_unusual_price']]"
   ]
  },
  {
   "cell_type": "code",
   "execution_count": null,
   "id": "93e5794c-fdde-4b14-b057-a993afc5fc1f",
   "metadata": {},
   "outputs": [],
   "source": [
    "df.query('last_price >= 36000000 | last_price <= 400000').shape[0]"
   ]
  },
  {
   "cell_type": "code",
   "execution_count": null,
   "id": "42704865-009c-4e0c-85f2-a910891ae81e",
   "metadata": {},
   "outputs": [],
   "source": [
    "df['is_unusual_price'].value_counts()"
   ]
  },
  {
   "cell_type": "markdown",
   "id": "906b7dd8-0d3a-474c-b3d5-b93a77213a6b",
   "metadata": {},
   "source": [
    "Редкими наблюдениями будем считать квартиры, где стоимость больше или равне 36 млн или меньше 400 тыс."
   ]
  },
  {
   "cell_type": "markdown",
   "id": "b2f797c2-dc06-4222-a4b6-359890527e21",
   "metadata": {},
   "source": [
    "### Количество комнат"
   ]
  },
  {
   "cell_type": "code",
   "execution_count": null,
   "id": "8b2f39d5-bc70-403c-babd-7da6b4226774",
   "metadata": {},
   "outputs": [],
   "source": [
    "df['number_of_rooms'].describe()"
   ]
  },
  {
   "cell_type": "markdown",
   "id": "e369ba2f-0765-40d2-aa43-2b504ab35574",
   "metadata": {},
   "source": [
    "Cтроим ящик с усами для признака \"количество комнат\"."
   ]
  },
  {
   "cell_type": "code",
   "execution_count": null,
   "id": "621c62e9-c475-44c0-b892-4354c100ee41",
   "metadata": {},
   "outputs": [],
   "source": [
    "sns.boxplot(x= df['number_of_rooms'])\n",
    "plt.title('Диаграмма размаха количества комнат\\n')\n",
    "plt.xlabel('\\nКоличество комнат')\n",
    "plt.xticks(np.arange(0, 19, step=2)) \n",
    "plt.show();"
   ]
  },
  {
   "cell_type": "markdown",
   "id": "ee98a6b1-f013-4e30-81b9-dd773fa916d5",
   "metadata": {},
   "source": [
    "На ящике видны выбросы за пределами верхнего (правого) уса. Проверим границы усов с помощью нашей функции get_whiskers."
   ]
  },
  {
   "cell_type": "code",
   "execution_count": null,
   "id": "0ed4bc49-9867-493e-bdc0-84ef499d8dcf",
   "metadata": {},
   "outputs": [],
   "source": [
    "get_whiskers(df, 'number_of_rooms')"
   ]
  },
  {
   "cell_type": "markdown",
   "id": "a19ad507-4561-4309-94ec-4666911dc34f",
   "metadata": {},
   "source": [
    "Запишем в новый столбец информацию о квартирах с очень большим количеством комнат."
   ]
  },
  {
   "cell_type": "code",
   "execution_count": null,
   "id": "9f7eaff4-029e-4b8c-8b1b-5407864a88a0",
   "metadata": {
    "tags": []
   },
   "outputs": [],
   "source": [
    "df['is_too_many_rooms'] = (df['number_of_rooms'] >= 6)"
   ]
  },
  {
   "cell_type": "markdown",
   "id": "42ac382b-bd0a-4f22-a4dd-39f7ccac513b",
   "metadata": {},
   "source": [
    "Редкими наблюдениями в столбце с количеством комнат будем считать объекты недвижимости с количеством комнат больше 6."
   ]
  },
  {
   "cell_type": "code",
   "execution_count": null,
   "id": "5b3111ef-d193-423c-a97a-043dc30c289f",
   "metadata": {},
   "outputs": [],
   "source": [
    "f\"Выбивающиеся и редкие значения от всей выборки составляют {df.query('number_of_rooms >= 6').shape[0] / df.shape[0]:.1%} данных\""
   ]
  },
  {
   "cell_type": "markdown",
   "id": "a3500f42-533a-4c34-85b0-f6f59e62b327",
   "metadata": {},
   "source": [
    "Проверим, что получилось."
   ]
  },
  {
   "cell_type": "code",
   "execution_count": null,
   "id": "3678c4da-fa34-485c-80f5-4a6157712792",
   "metadata": {
    "tags": []
   },
   "outputs": [],
   "source": [
    "df['is_too_many_rooms'].value_counts()"
   ]
  },
  {
   "cell_type": "code",
   "execution_count": null,
   "id": "2b3b7f6e-0254-4651-81b0-0ddd2f471fd6",
   "metadata": {},
   "outputs": [],
   "source": [
    "df.query('number_of_rooms >= 6').shape[0]"
   ]
  },
  {
   "cell_type": "markdown",
   "id": "e2cf6546-e1d8-4da7-8152-28a273cdd0c2",
   "metadata": {},
   "source": [
    "### Высота потолков"
   ]
  },
  {
   "cell_type": "code",
   "execution_count": null,
   "id": "7e9590cf-6b49-4a43-b62e-2c47eba5ae86",
   "metadata": {},
   "outputs": [],
   "source": [
    "df['ceiling_height_m'].describe()"
   ]
  },
  {
   "cell_type": "code",
   "execution_count": null,
   "id": "0259d466-037a-40a3-a123-8ee3b8791749",
   "metadata": {},
   "outputs": [],
   "source": [
    "sns.boxplot(data = df, y = 'ceiling_height_m')\n",
    "plt.ylim(1, 6)\n",
    "plt.title('Диаграмма размаха\\n')\n",
    "plt.ylabel('Высота потолков')\n",
    "plt.show();"
   ]
  },
  {
   "cell_type": "markdown",
   "id": "883d972f-bcf7-4f90-92ed-2b0f52550616",
   "metadata": {},
   "source": [
    "Посмотрим на значения границ усов."
   ]
  },
  {
   "cell_type": "code",
   "execution_count": null,
   "id": "2e41553e-96db-4580-a67d-1685dccbc82f",
   "metadata": {},
   "outputs": [],
   "source": [
    "get_whiskers(df, 'ceiling_height_m')"
   ]
  },
  {
   "cell_type": "markdown",
   "id": "8e9df425-d420-4c01-8079-0e35e0844638",
   "metadata": {},
   "source": [
    "Выбросы после 3 все-таки довольно плотные. Для элитных домов высота потолков в 4 метра не является редким значением.  "
   ]
  },
  {
   "cell_type": "code",
   "execution_count": null,
   "id": "c3ba2bcc-d36c-4ba3-aab9-6555af46b0f5",
   "metadata": {},
   "outputs": [],
   "source": [
    "f\"Выбивающиеся и редкие значения от всей выборки составляют {df.query('ceiling_height_m <= 2.25 | ceiling_height_m >= 4').shape[0] / df.shape[0]:.1%} данных\""
   ]
  },
  {
   "cell_type": "markdown",
   "id": "180306d7-d59f-467d-877e-be6d528c7ec0",
   "metadata": {},
   "source": [
    "Все квартиры, где высота потолков больше или равна 4 кв. м. или меньше 2.25 будем маркировать признаком unusual_ceiling."
   ]
  },
  {
   "cell_type": "code",
   "execution_count": null,
   "id": "70a3222d-94a5-428f-83a4-e80c7ea8e4e9",
   "metadata": {},
   "outputs": [],
   "source": [
    "df['is_unusual_ceiling'] = (df['ceiling_height_m']>= 4) | (df['ceiling_height_m'] <= 2.25)"
   ]
  },
  {
   "cell_type": "markdown",
   "id": "de0f16d9-ddbb-47ef-8f12-d220d59d1f1f",
   "metadata": {},
   "source": [
    "Проверяем, что у нас получилось."
   ]
  },
  {
   "cell_type": "code",
   "execution_count": null,
   "id": "b4212a5d-b424-4259-9cf4-2c3d05e49213",
   "metadata": {},
   "outputs": [],
   "source": [
    "len(df[(df['ceiling_height_m']>= 4) | (df['ceiling_height_m'] <= 2.25)])"
   ]
  },
  {
   "cell_type": "code",
   "execution_count": null,
   "id": "014de973-ba7a-4190-9034-9fcd20d98031",
   "metadata": {},
   "outputs": [],
   "source": [
    "df['is_unusual_ceiling'].value_counts()"
   ]
  },
  {
   "cell_type": "code",
   "execution_count": null,
   "id": "4fd1854b-6467-4abc-ad69-af0718ca3e0d",
   "metadata": {},
   "outputs": [],
   "source": [
    "df.loc[22590][['ceiling_height_m', 'is_unusual_ceiling']]"
   ]
  },
  {
   "cell_type": "markdown",
   "id": "a6ff7491-2926-4320-b7de-0c6dd5c60c8d",
   "metadata": {},
   "source": [
    "### Время продажи"
   ]
  },
  {
   "cell_type": "code",
   "execution_count": null,
   "id": "fdbc4829-3ac5-43cb-bb3c-51a883f81439",
   "metadata": {},
   "outputs": [],
   "source": [
    "df['days_exposition'].describe()"
   ]
  },
  {
   "cell_type": "code",
   "execution_count": null,
   "id": "0140ffac-a313-4941-b8b6-f07b795b01fc",
   "metadata": {},
   "outputs": [],
   "source": [
    "#Cмотрим на границы усов\n",
    "get_whiskers(df, 'days_exposition')"
   ]
  },
  {
   "cell_type": "markdown",
   "id": "33e362fd-92a1-4124-944e-c40e9dc5ffe5",
   "metadata": {},
   "source": [
    "Посмотрим на ящик с усами."
   ]
  },
  {
   "cell_type": "code",
   "execution_count": null,
   "id": "9417b84b-1c29-4b8b-a869-093d8adedfc9",
   "metadata": {},
   "outputs": [],
   "source": [
    "sns.boxplot(x = df['days_exposition'])\n",
    "plt.title('\\n Диаграмма размаха длительности размещения объявления\\n')\n",
    "plt.xlabel('Длительность размещения публикации в днях\\n')\n",
    "plt.show()"
   ]
  },
  {
   "cell_type": "markdown",
   "id": "80c53b9f-3dc7-46fd-9701-70f69b9ee7a0",
   "metadata": {},
   "source": [
    "Посмотрим, сколько процентов от выборки составляют квартиры, проданные за 1 день."
   ]
  },
  {
   "cell_type": "code",
   "execution_count": null,
   "id": "1e1e6445-ea4d-4fa5-aaf1-bc0b8f21d7bd",
   "metadata": {},
   "outputs": [],
   "source": [
    "f\"Процент квартир, проданных за 1 день: {len(df.query('days_exposition <= 9'))/len(df):.1%}\""
   ]
  },
  {
   "cell_type": "markdown",
   "id": "b0aae1ba-6eb1-48fa-b737-9921cdbad261",
   "metadata": {},
   "source": [
    "Необычно короткой продажей будем считать продажи за 1 день, необычно длинные - продажи, которые шли более 512 дней."
   ]
  },
  {
   "cell_type": "code",
   "execution_count": null,
   "id": "eb8cd774-5890-4113-be1c-f84bb9906205",
   "metadata": {},
   "outputs": [],
   "source": [
    "#Cохраним в отдельный столбец признак необычно долгой или короткой публикации:\n",
    "df['is_unusual_days_expos'] = (df['days_exposition'] == 1) | (df['days_exposition'] >= 512)"
   ]
  },
  {
   "cell_type": "markdown",
   "id": "2797f791-2c13-48ca-ba39-c00017743f12",
   "metadata": {},
   "source": [
    "Проверим, что получилось."
   ]
  },
  {
   "cell_type": "code",
   "execution_count": null,
   "id": "6a608d23-0304-4544-98fe-88101cbfc6f8",
   "metadata": {},
   "outputs": [],
   "source": [
    "df['is_unusual_days_expos'].value_counts()"
   ]
  },
  {
   "cell_type": "code",
   "execution_count": null,
   "id": "3aa5f5e4-979e-4728-bf49-2a820fe6ee1b",
   "metadata": {},
   "outputs": [],
   "source": [
    "len(df[(df['days_exposition'] == 1) | (df['days_exposition'] >= 512)])"
   ]
  },
  {
   "cell_type": "code",
   "execution_count": null,
   "id": "1b4028f6-cc1b-41ef-85b0-70b4f728943e",
   "metadata": {
    "tags": []
   },
   "outputs": [],
   "source": [
    "df.loc[2][['days_exposition', 'is_unusual_days_expos']]"
   ]
  },
  {
   "cell_type": "code",
   "execution_count": null,
   "id": "9b274654-08f6-4fa8-bf95-698eca9c94f6",
   "metadata": {},
   "outputs": [],
   "source": [
    "f\"Выбивающиеся и редкие значения от всей выборки составляют {df.query('days_exposition ==1 | days_exposition >= 512').shape[0] / df.shape[0]:.1%} данных\""
   ]
  },
  {
   "cell_type": "markdown",
   "id": "3ea6c051-3760-4a1a-a111-b96cbcc980da",
   "metadata": {},
   "source": [
    "### Вывод"
   ]
  },
  {
   "cell_type": "markdown",
   "id": "ac7b9748-ed33-447a-9269-bbc69df03ddb",
   "metadata": {},
   "source": [
    "\n",
    "Мы попытались определить редкие и выбивающиеся значения для следующих признаков: общая площадь объекта недвижимости, стоимость, число комнат, высота потолков.\n",
    "\n",
    "* Аномально большой по общей площади объект недвижимости имеет площадь 900 м.кв. Объекты с площадью в 350 м.кв. и больше считаются редкими и составляют 0.17% от всей выборки.\n",
    "\n",
    "* Аномально дорогой объект недвижимости имеет стоимость 763 000 000 млн. рублей. Аномально дешевый объект недвижимости имеет стоимость в 12 190 рублей.\n",
    " В целом объекты недвижимости дороже 36 000 000 млн рублей и дешевле 400 000 тыс рублей составляют 1 % от выборки. \n",
    "\n",
    "* Аномально редкое количество комнат - 19. В целом объекты с количеством комнат больше 6 встречаются редко, их процент составляет 0.8% от всей выборки. \n",
    "\n",
    "* Аномально низкий потолок - 1 метр. Аномально высокий - 100 метров. Объекты недвижимости с высотой потолка больше или равной 4 кв.м или меньше 2.25 считаются редкими и составляют 0.6 % от всей выборки.\n",
    "\n",
    "* Аномально короткий срок длительности публикации о продаже недвижимости - 1 день. Аномально длинный - 1580 дней (4 года 4 месяца). \n",
    "Объекты недвижимости, срок длительности публикации у которых равен 1 дню или больше или равен 512 дням (1 год 5 месяцев), считаются редкими и выбивающимися. Такие случаи составляют 7.1% от всей выборки.\n",
    "\n",
    "\n"
   ]
  },
  {
   "cell_type": "markdown",
   "id": "44ba0baf-b058-43a9-bad3-6fff3f2f56b6",
   "metadata": {},
   "source": [
    "## Определяем, какие факторы больше всего влияют на стоимость квартиры. "
   ]
  },
  {
   "cell_type": "markdown",
   "id": "4dbf885a-1089-49e8-8581-871f62ed2d05",
   "metadata": {},
   "source": [
    "Изучим, зависит ли цена от площади, количества комнат, удалённости от центра. \n",
    "\n",
    "Изучим зависимость цены от того, на каком этаже расположена квартира: первом, последнем или другом, а также влияют ли даты размещения: день недели, месяц и год."
   ]
  },
  {
   "cell_type": "markdown",
   "id": "1a3c7fb2-2530-4a36-b6bd-ec8104083bce",
   "metadata": {},
   "source": [
    "Для начала мы уберем редкие и выбивающиеся значений - отфильтруем наши данные, потому что коэффициент Пирсона к выбросам очень чувствительный:"
   ]
  },
  {
   "cell_type": "markdown",
   "id": "d39a84dc-0ad6-4e2a-86c4-caca2b1229c8",
   "metadata": {},
   "source": [
    "Фильтруем данные без выбросов в отдельный датафрейм."
   ]
  },
  {
   "cell_type": "code",
   "execution_count": null,
   "id": "0959ff91-fabf-4919-987e-6332db5ce8fb",
   "metadata": {},
   "outputs": [],
   "source": [
    "clean_df = df[(df['is_too_large_area'] == False) & \n",
    "     (df['is_unusual_price'] == False) &\n",
    "     (df['is_too_many_rooms'] == False) &\n",
    "     (df['is_unusual_ceiling'] == False) &\n",
    "     (df['is_unusual_days_expos'] == False)].reset_index(drop=True)\n",
    "    \n",
    "\n",
    "f'Доля чистых значений составила: {len(clean_df) / len(df):.1%}'"
   ]
  },
  {
   "cell_type": "markdown",
   "id": "c6fa4e89-8aa2-48cd-95bc-5757aa2cdbb0",
   "metadata": {},
   "source": [
    "То есть мы отрезали примерно 9 % данных. Это допустимо. "
   ]
  },
  {
   "cell_type": "markdown",
   "id": "81c5dccf-8180-4bcc-a9bc-10dc6a67a632",
   "metadata": {},
   "source": [
    "Посмотрим на коэффициент корреляции Пирсона для таких признаков, как общая площадь квартиры, жилая площадь квартиры, количество комнат, удаленность от центра, высота потолков."
   ]
  },
  {
   "cell_type": "code",
   "execution_count": null,
   "id": "64b21c2e-7032-4b6c-bf10-9cf4e24c6ec7",
   "metadata": {
    "tags": []
   },
   "outputs": [],
   "source": [
    "#Построим матрицу корреляции:\n",
    "cols = ['total_area_m2', 'living_area_m2', 'ceiling_height_m', 'number_of_rooms', 'last_price', 'city_center_distance_m']\n",
    "(clean_df[cols].corr()\n",
    ".style\n",
    ".format(\"{:.1f}\")\n",
    ".background_gradient(cmap='Blues'))"
   ]
  },
  {
   "cell_type": "markdown",
   "id": "cd9284e7-74aa-486d-8d78-1a2cc7e37eb1",
   "metadata": {},
   "source": [
    "Близкий к 1 коэффициент только у пары 'стоимость-общая площадь' (тут сильная корреляция, коэффициент Пиросна равен 0.8), чуть слабее корреляция у пары 'стоимость - жилая площадь (0.6)\". Корреляция в 0.5 у пары 'стоимость-количество комнат' говорит о наличии связи, однако слабой. То же самое можно сказать и о паре \"стоимость - высота потолков\"."
   ]
  },
  {
   "cell_type": "markdown",
   "id": "34cc6b02-5f6c-460b-8c85-6201a5a38946",
   "metadata": {},
   "source": [
    "Нарисуем диаграмму рассеяния для цены и общей площади, чтобы визуализировать взаимосвязь."
   ]
  },
  {
   "cell_type": "code",
   "execution_count": null,
   "id": "d4d4f511-4f8a-4cdb-907b-b8edbcb53871",
   "metadata": {},
   "outputs": [],
   "source": [
    "clean_df.plot(x='last_price',y='total_area_m2',kind='scatter') \n",
    "plt.title('Зависимость стоимости квартиры от общей площади \\n')\n",
    "plt.xlabel('\\n Стоимость квартиры')\n",
    "plt.ylabel('Общее количество квартир\\n')\n",
    "plt.show();"
   ]
  },
  {
   "cell_type": "markdown",
   "id": "93e78b91-9c93-4810-943d-bc7c7e79bef0",
   "metadata": {},
   "source": [
    "<div style=\"border:solid green 2px; padding: 20px\">  \n",
    "    \n",
    "#### Взаимосвязь между стоимостью и общей площадью. Промежуточный вывод: \n",
    "\n",
    "Коэффициент Пирсона равен 0.8. Это высокая корреляция. Видно, что линейная положительная связь есть, то есть **чем больше площадь, тем дороже объект недвижимости**."
   ]
  },
  {
   "cell_type": "markdown",
   "id": "79ab1690-cace-463d-a63c-15e0219dc6e5",
   "metadata": {},
   "source": [
    "Для значений столбцов с днями недели, месяцами, годами и категорией этажа нет смысла смотреть на коэффициент корреляции Пирсона. Это дискретные величины и к ним он не применим. "
   ]
  },
  {
   "cell_type": "markdown",
   "id": "b715d99c-005d-427f-b280-1444a3fe78cd",
   "metadata": {},
   "source": [
    "Создадим функцию для построения сводной таблицы по интересующему нас признаку и для отрисовки графика."
   ]
  },
  {
   "cell_type": "code",
   "execution_count": null,
   "id": "5728cd50-fa18-4610-8b9d-a61d67567fbd",
   "metadata": {},
   "outputs": [],
   "source": [
    "\"\"\"\n",
    "Данная функция берет на вход два строковых значения: признак (feature), то есть имя столбца в датасете, по которому мы будем группировать данные, и \n",
    "название этого признака на русском языке (feature_name) для корректных подписей на графике. \n",
    "В теле функции мы строим сводную таблицу по данному признаку, вычисляем медиану стоимость квартиры в каждой группе и выводим сводную таблицу на экран,\n",
    "а также по этой сводной таблице мы строим график и выводим его на экран.\n",
    "\n",
    "\"\"\"\n",
    "\n",
    "def get_pivot_and_plot(feature, feature_name):\n",
    "    pivot_table = clean_df.groupby(feature)['last_price'].agg(['median'])\n",
    "    display(pivot_table.sort_values(by='median').style.format(\"{:.1f}\").background_gradient(cmap='Blues'))\n",
    "    pivot_table.plot()\n",
    "    plt.title(f'\\n Зависимость стоимости квартиры от признака \"{feature_name}\"\\n')\n",
    "    plt.ylabel('Стоимость квартиры')\n",
    "    plt.xlabel(f'\\n{feature_name}')\n",
    "    plt.show();"
   ]
  },
  {
   "cell_type": "markdown",
   "id": "05fedbb7-b3d7-4113-82b0-12cbe2622ee2",
   "metadata": {},
   "source": [
    "Посмотрим, как меняется стоимость квартиры в зависимости от категории этажа."
   ]
  },
  {
   "cell_type": "code",
   "execution_count": null,
   "id": "f95ac172-2ee3-4f75-bf2f-adc39968be2c",
   "metadata": {},
   "outputs": [],
   "source": [
    "get_pivot_and_plot('floor_category', 'категория этажа')"
   ]
  },
  {
   "cell_type": "markdown",
   "id": "dd25f163-80b2-4273-ae4a-601e414fff34",
   "metadata": {},
   "source": [
    "<div style=\"border:solid green 2px; padding: 20px\">  \n",
    "\n",
    "#### Взаимосвязь между стоимостью и этажом. Промежуточный вывод: \n",
    "\n",
    "Самая низкая стоимость у объектов, которые находятся на первом этаже. \n",
    "\n",
    "Самая высокая - у объектов, которые находятся не на первом и не на последнем этаже."
   ]
  },
  {
   "cell_type": "markdown",
   "id": "bfbe9a06-61cc-436e-bde1-3804990c1305",
   "metadata": {},
   "source": [
    "Посмотрим, как зависимость между публикацией объявления о продаже квартиры и стоимостью квартиры."
   ]
  },
  {
   "cell_type": "markdown",
   "id": "4fde0af2-21cf-4e0a-a704-c4598c2d8fb0",
   "metadata": {},
   "source": [
    "Напомним, что 0 - это понедельник. "
   ]
  },
  {
   "cell_type": "code",
   "execution_count": null,
   "id": "a24fa677-d529-49dd-8030-ae5dea23b42e",
   "metadata": {},
   "outputs": [],
   "source": [
    "get_pivot_and_plot('weekday', 'день недели')"
   ]
  },
  {
   "cell_type": "markdown",
   "id": "4507ccce-0bb5-42ae-b960-e85c5f65dff3",
   "metadata": {},
   "source": [
    "<div style=\"border:solid green 2px; padding: 20px\"> \n",
    "\n",
    "#### Взаимосвязь между днем недели публикации объявления. Промежуточный вывод: \n",
    "Самая высокая стоимость у квартир, объявления о продаже которых опубликовано в понедельник, вторник и среду. \n",
    "\n",
    "Стоимость квартир, опубликованных в четверг, резко падает, и квартиры, опубликованные в пятницу, субботу и воскресенье имеют примерно одинаковую стоимость. "
   ]
  },
  {
   "cell_type": "markdown",
   "id": "b719f730-a7ee-43a1-8f92-744e9fb3941b",
   "metadata": {},
   "source": [
    "Посмотрим, как меняется стоимость квартиры в зависимости от месяца публикации."
   ]
  },
  {
   "cell_type": "code",
   "execution_count": null,
   "id": "1f7f7f69-9630-49f0-b108-8c94fcb908f0",
   "metadata": {},
   "outputs": [],
   "source": [
    "get_pivot_and_plot('month', 'месяц публикации объявления о продаже квартиры')"
   ]
  },
  {
   "cell_type": "markdown",
   "id": "1f6c91c5-1032-43f1-a38c-e9ee9da7b30b",
   "metadata": {},
   "source": [
    "<div style=\"border:solid green 2px; padding: 20px\"> \n",
    "\n",
    "#### Взаимосвязь между месяцем публикации объявления. Промежуточный вывод: \n",
    "\n",
    "У объектов, объявление о продаже которых опубликовано c января по апрель, стоимость растет и достигает пика в апреле. В мае отмечается резкое падение цены, которое достигает дна в июне. Дальше происходит постепенный рост со спадами. "
   ]
  },
  {
   "cell_type": "markdown",
   "id": "c2360635-5aa0-4423-bd6d-f40c128dda1e",
   "metadata": {},
   "source": [
    "Посмотрим, как меняется стоимость квартиры в зависимости от года публикации."
   ]
  },
  {
   "cell_type": "code",
   "execution_count": null,
   "id": "644045ec-75a1-4948-a69f-6b048ddacb2e",
   "metadata": {},
   "outputs": [],
   "source": [
    "get_pivot_and_plot('year', 'год публикации объявления о продаже квартиры')"
   ]
  },
  {
   "cell_type": "markdown",
   "id": "50535095-d692-40db-97f3-0aadcef2996e",
   "metadata": {},
   "source": [
    "<div style=\"border:solid green 2px; padding: 20px\"> \n",
    "\n",
    "#### Взаимосвязь между годом публикации объявления. Промежуточный вывод: \n",
    "В 2014 году цена была самой высокой и падала до 2016 года. С 2016 по 2018 была примерно на одном и том же уровне и с 2018 немного подроcла, почти достигнув уровня 2015 года."
   ]
  },
  {
   "cell_type": "markdown",
   "id": "2cd5ceb2-2684-416a-9d8b-e1712ff159e6",
   "metadata": {},
   "source": [
    "## Десять населённых пунктов с наибольшим количеством объявлений."
   ]
  },
  {
   "cell_type": "markdown",
   "id": "40e42fb0-8f76-43c7-9c8a-54cc55a5d28f",
   "metadata": {},
   "source": [
    "Сгруппируем наши данные по названию населенного пункта, посчитаем среднюю цену квадратного метра, покажем топ-10 населенных пунктов по количеству объявлений."
   ]
  },
  {
   "cell_type": "code",
   "execution_count": null,
   "id": "9d1a43f3-5263-406a-ab17-54488e0bf0f5",
   "metadata": {},
   "outputs": [],
   "source": [
    "locality_groupped = df.groupby('locality_name')['price_per_m2'].agg(['count', 'mean']).sort_values(by=['count'], ascending=False)\n",
    "locality_groupped.head(10).style.format(\"{:.1f}\").background_gradient(cmap='Blues')"
   ]
  },
  {
   "cell_type": "markdown",
   "id": "2d8ae5f7-a8fd-45ed-90b2-26f3cad84138",
   "metadata": {},
   "source": [
    "Построим столбчатую диаграмму, которая покажет десятку городов, где самая высокая цена за 1 кв.м."
   ]
  },
  {
   "cell_type": "code",
   "execution_count": null,
   "id": "631d181e-4389-4306-9ffe-a5f6dc4605c0",
   "metadata": {
    "tags": []
   },
   "outputs": [],
   "source": [
    "plt.figure(figsize=(10,4))\n",
    "sns.set_palette('pastel')\n",
    "sns.set_theme(style=\"darkgrid\")\n",
    "sns.barplot(x='mean', y='locality_name', orient='h', data=locality_groupped.head(10).sort_values(by='mean', ascending=False).drop(columns=['count']).reset_index())\n",
    "plt.title('Распределение квартир по цене за 1 кв м \\n',fontsize=20)\n",
    "plt.ylabel('')\n",
    "plt.yticks(fontsize=14)\n",
    "plt.xlabel('\\nСредняя цена за 1 кв м, руб\\n')\n",
    "plt.xticks(fontsize=14)\n",
    "plt.show();"
   ]
  },
  {
   "cell_type": "markdown",
   "id": "fef1b55e-3175-41e8-b5bb-5078b8c3caed",
   "metadata": {},
   "source": [
    "Посмотрим, сколько всего населенных пунктов в нашем датафрейме (помним, что есть и unknown)."
   ]
  },
  {
   "cell_type": "code",
   "execution_count": null,
   "id": "1ae9d0ca-4308-4e0e-8a9e-8952a5f674fa",
   "metadata": {},
   "outputs": [],
   "source": [
    "f'Всего населенных пунктов в датафрейме: {locality_groupped.shape[0]}.'"
   ]
  },
  {
   "cell_type": "markdown",
   "id": "6bf3381d-152c-4eac-93df-c6a5fda8615d",
   "metadata": {},
   "source": [
    "### Вывод"
   ]
  },
  {
   "cell_type": "markdown",
   "id": "886f10d7-6a9f-4ac4-b2e8-a08da239145b",
   "metadata": {},
   "source": [
    "\n",
    "\n",
    "* Всего в нашем датафрейме не меньше 331 населенных пунктов.\n",
    "    \n",
    "* Лидер с наибольшим числом объявлений - город Санкт-Петербург. \n",
    "    \n",
    "* Самое дорогое жилье в 10-ке лидеров по количеству объявлений - в Санкт-Петербурге (средняя стоимость за 1 кв. м составляет 114 868 руб.), а самое дешевое - в Выборге (средняя стоимость за 1 кв.м. составляет - 58 141 рублей)."
   ]
  },
  {
   "cell_type": "markdown",
   "id": "2e3b7518-cb21-44e0-8472-be56b1709955",
   "metadata": {},
   "source": [
    "<a name=\"stage_5\"></a>\n",
    "\n",
    "# Этап 5. Исследование данных о квартирах Санкт-Петербурга\n",
    "\n",
    "\n",
    "[Наверх к оглавлению](#contents)"
   ]
  },
  {
   "cell_type": "markdown",
   "id": "42fdfdf7-a37b-4a58-bf9e-6d4203c9a3fc",
   "metadata": {},
   "source": [
    "Выделим квартиры в Санкт-Петербурге. \n",
    "Наша первая задача — выяснить, какая область входит в центр. "
   ]
  },
  {
   "cell_type": "markdown",
   "id": "68bbf349-095d-45d5-bc3e-16b8e216ca75",
   "metadata": {},
   "source": [
    "Столбец city_center_distance_m — это расстояние до центра города в метрах. Для удобства создадим столбец с расстоянием до центра в километрах, окргулим до целых значений. \n"
   ]
  },
  {
   "cell_type": "code",
   "execution_count": null,
   "id": "48bfe025-6d18-45f0-b1e8-69dce1394486",
   "metadata": {},
   "outputs": [],
   "source": [
    "df.columns"
   ]
  },
  {
   "cell_type": "code",
   "execution_count": null,
   "id": "367a7689-9904-4c1e-b3e0-c0fde57ed5d5",
   "metadata": {},
   "outputs": [],
   "source": [
    "df['city_center_distance_km'] = round(df['city_center_distance_m'] / 1000, 0)\n",
    "df['city_center_distance_km']"
   ]
  },
  {
   "cell_type": "markdown",
   "id": "309de50a-6155-454e-b708-0246fc97e43a",
   "metadata": {},
   "source": [
    "Теперь сделаем срез данных для квартир в Санкт-Петербурге: уберем редкие, выбивающиеся значения, строки с пустым значением в city_center_distance_km."
   ]
  },
  {
   "cell_type": "code",
   "execution_count": null,
   "id": "24366823-a68b-42b6-8b03-916c972c2c33",
   "metadata": {},
   "outputs": [],
   "source": [
    "#Фильтруем данные без выбросов для Санкт-Петербурга в отдельный датафрейм:\n",
    "clean_df_spb = df[(df['is_too_large_area'] == False) & \n",
    "     (df['is_unusual_price'] == False) &\n",
    "     (df['is_too_many_rooms'] == False) &\n",
    "     (df['is_unusual_ceiling'] == False) &\n",
    "     (df['is_unusual_days_expos'] == False) &\n",
    "     (df['locality_name'] == 'Санкт-Петербург') &\n",
    "     (df['city_center_distance_km'].notnull())].reset_index(drop=True)\n",
    "    \n",
    "print('Доля чистых значений составила: {:.1%}'. format(len(clean_df_spb) / len(df)))"
   ]
  },
  {
   "cell_type": "markdown",
   "id": "a1b19313-06a6-4148-9b62-ee67c5e85134",
   "metadata": {},
   "source": [
    "Проверим, верно ли отфильтровались квартиры по населенному пункту."
   ]
  },
  {
   "cell_type": "code",
   "execution_count": null,
   "id": "ad5f3154-1ccf-4ba0-8378-ad5bbd9a4f05",
   "metadata": {},
   "outputs": [],
   "source": [
    "clean_df_spb['locality_name'].value_counts()"
   ]
  },
  {
   "cell_type": "markdown",
   "id": "f8df10e0-8ef3-4155-b474-dc013e1bea1b",
   "metadata": {},
   "source": [
    "Все в порядке."
   ]
  },
  {
   "cell_type": "markdown",
   "id": "f645e603-275f-4d21-8940-c15e391638f9",
   "metadata": {},
   "source": [
    "Сгруппируем данные по расстоянию до центра, посчитаем среднюю цену для каждого километра"
   ]
  },
  {
   "cell_type": "code",
   "execution_count": null,
   "id": "a71e1071-8f90-4b20-b0c4-e59778a3ffac",
   "metadata": {},
   "outputs": [],
   "source": [
    "df.columns"
   ]
  },
  {
   "cell_type": "code",
   "execution_count": null,
   "id": "78f1fb6f-7428-4b75-9471-592fcbe3ed6a",
   "metadata": {
    "tags": []
   },
   "outputs": [],
   "source": [
    "spb_center_nearest = clean_df_spb.groupby('city_center_distance_km')['price_per_m2'].agg('mean')\n",
    "spb_center_nearest"
   ]
  },
  {
   "cell_type": "markdown",
   "id": "dd3ee75e-1166-4f0b-aaef-5ac9007f8a0d",
   "metadata": {},
   "source": [
    "Построим график: он должен показывать, как цена зависит от удалённости от центра. Определим границу, где график сильно меняется, — это и будет центральная зона."
   ]
  },
  {
   "cell_type": "code",
   "execution_count": null,
   "id": "c6f6bf12-1a15-4f57-b785-1d5031b8d3bc",
   "metadata": {},
   "outputs": [],
   "source": [
    "#Cтроим простенький плот - его нам достаточно, чтобы увидеть границу.\n",
    "spb_center_nearest.plot();"
   ]
  },
  {
   "cell_type": "markdown",
   "id": "7639bb97-85db-4ddb-a32e-bf2f8492bed1",
   "metadata": {},
   "source": [
    "Пик цены около 1 км, дальше цена резко падает, после 4 км снова растет и после 8 километра устойчивая тенденция к понижению. Будем считать 8 километр - границей центральной зоны.\n",
    "На 27 есть всплеск роста (наверное, это некоторые выбивающиеся данные или, возможно, что-то еще очень сильно повлияло на рост цены). "
   ]
  },
  {
   "cell_type": "markdown",
   "id": "af5d244d-50df-4c48-b372-49bbd53cbc01",
   "metadata": {},
   "source": [
    "1. Теперь выделим сегмент квартир в центре Санкт-Петербурга. \n",
    "\n",
    "2. Проанализируем эту территорию и изучим следующие параметры: площадь, цена, число комнат, высота потолков. \n",
    "\n",
    "3. Определим факторы, которые влияют на стоимость квартиры (число комнат, этаж, удалённость от центра, дата размещения объявления).\n",
    "\n",
    "4. Сделаем вывод отличаются ли они от общих выводов по городу."
   ]
  },
  {
   "cell_type": "markdown",
   "id": "507076d0-dd06-48da-800e-93c9d31852ce",
   "metadata": {},
   "source": [
    "Выделяем сегмент квартир в центре Санкт-Петербурга."
   ]
  },
  {
   "cell_type": "code",
   "execution_count": null,
   "id": "9b6720c9-8e5b-4952-bc59-aae6f09466c0",
   "metadata": {
    "tags": []
   },
   "outputs": [],
   "source": [
    "spb_center = clean_df_spb[clean_df_spb['city_center_distance_km'] <= 8]\n",
    "spb_center.head()"
   ]
  },
  {
   "cell_type": "markdown",
   "id": "de6bc779-70f6-4129-8711-f53c23fd04d9",
   "metadata": {},
   "source": [
    "### Анализ и сравнение площади, цены, количества комнат, высоты потолков в центре Санкт-Петербурга и для остальных районов города."
   ]
  },
  {
   "cell_type": "markdown",
   "id": "5ad4a3b1-4892-4b06-97d2-fd62d46c8484",
   "metadata": {},
   "source": [
    "Выведем описательную статистику для данных по центру Санкт-Петербурга и всему городу."
   ]
  },
  {
   "cell_type": "code",
   "execution_count": null,
   "id": "df4ad199-1e1c-48a7-a070-81856347d7e7",
   "metadata": {
    "tags": []
   },
   "outputs": [],
   "source": [
    "cols = (['total_area_m2', 'last_price', 'number_of_rooms', 'ceiling_height_m'])\n",
    "for col_name in cols:\n",
    "    print(f'{col_name} для центра Санкт-Петербурга:', '\\n')\n",
    "    print(spb_center[col_name].describe(), '\\n')\n",
    "    print(f'{col_name} для всего Санкт-Петербурга:', '\\n')\n",
    "    print(clean_df_spb[col_name].describe(), '\\n')\n",
    "    "
   ]
  },
  {
   "cell_type": "markdown",
   "id": "1d8470b7-0c1e-488b-98ac-99ed25d4c543",
   "metadata": {},
   "source": [
    "Построим столбчатые диаграммы по каждому признаку с помощью библиотеки seaborn. Для наглядности сравнения построим данные для центра Санкт-Петербурга и остальных районов города на одном графике. Нормируем показатели через параметр stat=\"density\".     "
   ]
  },
  {
   "cell_type": "code",
   "execution_count": null,
   "id": "568a340f-3f77-47f5-a9a9-885aa68c6662",
   "metadata": {
    "tags": []
   },
   "outputs": [],
   "source": [
    "plt.figure(figsize=(15, 10))\n",
    "\n",
    "for i, col in enumerate(['total_area_m2', 'last_price', 'number_of_rooms', 'ceiling_height_m']):\n",
    "\n",
    "    plt.subplot(2, 2, i+1)\n",
    "    sns.histplot(\n",
    "        clean_df_spb, x=col, element=\"step\",\n",
    "        stat=\"density\", \n",
    "        ).set(title=col)\n",
    "    sns.histplot(\n",
    "        spb_center, x=col, element=\"step\",\n",
    "        stat=\"density\",\n",
    "        color='orange'\n",
    "        )\n",
    "    \n",
    "plt.legend(['Весь Санкт-Петерубург','Центр Санкт-Петербурга'], loc = 'upper right', bbox_to_anchor=(0.1, -.2))\n",
    "plt.suptitle('Сравнение параметров квартир из всего Санкт-Петербурга и его центра')\n",
    "plt.show()"
   ]
  },
  {
   "cell_type": "markdown",
   "id": "cf991107-06ad-4f43-bc6d-c8c506f673ac",
   "metadata": {},
   "source": [
    "#### Вывод "
   ]
  },
  {
   "cell_type": "markdown",
   "id": "46a7d2a9-851d-4337-8aa1-e2924de930ac",
   "metadata": {},
   "source": [
    " \n",
    "\n",
    "* Цена и общая площадь у квартир в центре Санкт-Петербурга в среднем выше, чем по всему городу. \n",
    "\n",
    "* В центре гораздо больше квартир с большим числом комнат (от 4 и до 6). Для всего города этот процент существенно ниже.\n",
    "    \n",
    "То же самое можно сказать и о двушках и трешках. Их почти равное количество в центре города. В то время как во всем городе больше половины квартир - это двушки. \n",
    "\n",
    "* Высота потолков в квартирах в центре в среднем выше, чем по всему городу."
   ]
  },
  {
   "cell_type": "markdown",
   "id": "16b7426d-b3d7-43d2-9246-8786b7875451",
   "metadata": {},
   "source": [
    "### Анализ факторов, влияющих на стоимость квартиры в центре Санкт-Петербурга и в остальных районах города."
   ]
  },
  {
   "cell_type": "markdown",
   "id": "1007c944-231f-428a-853c-4e6030eef732",
   "metadata": {},
   "source": [
    "Выделим факторы, которые влияют на стоимость квартиры в центре города (число комнат, этаж, удалённость от центра, дата размещения объявления, общая площадь). "
   ]
  },
  {
   "cell_type": "code",
   "execution_count": null,
   "id": "03278587-2e15-45b4-a066-131062c71955",
   "metadata": {},
   "outputs": [],
   "source": [
    "#Построим матрицу корреляции для центра Санкт-Петербурга:\n",
    "cols = ['last_price', 'total_area_m2', 'number_of_rooms', 'city_center_distance_m', 'ceiling_height_m', 'living_area_m2','floor']\n",
    "print ('\\n Матрица корреляции для центра Санкт-Петербурга: \\n')\n",
    "(spb_center[cols].corr()\n",
    ".style\n",
    ".format(\"{:.1f}\")\n",
    ".background_gradient(cmap='Blues'))"
   ]
  },
  {
   "cell_type": "code",
   "execution_count": null,
   "id": "26d4c918-9054-45b4-a70e-700e5ce56e38",
   "metadata": {},
   "outputs": [],
   "source": [
    "spb_center[cols].corr()['last_price']"
   ]
  },
  {
   "cell_type": "markdown",
   "id": "214331e7-88cd-4c6a-996a-2d2c9924f794",
   "metadata": {},
   "source": [
    "Посмотрим матрицу для всего города."
   ]
  },
  {
   "cell_type": "code",
   "execution_count": null,
   "id": "d55d34df-181d-4d8d-b5a6-9771c90b7985",
   "metadata": {},
   "outputs": [],
   "source": [
    "print ('\\n Матрица корреляции для всего Санкт-Петербурга:\\n')\n",
    "(clean_df_spb[cols].corr()\n",
    ".style\n",
    ".format(\"{:.1f}\")\n",
    ".background_gradient(cmap='Blues'))"
   ]
  },
  {
   "cell_type": "markdown",
   "id": "badb2348-1163-486f-9dcf-78b78301a679",
   "metadata": {},
   "source": [
    "**Промежуточный вывод:** \n",
    "\n",
    "* есть высокая положительная корреляция (0.7, 0.8) между площадью и ценой для центра, для всего города\n",
    "\n",
    "* есть положительная корреляция между числом комнат (0.4, 0.5) и ценой (еще проверим на графике) для центра, для всего города.\n",
    "\n",
    "* есть отрицательная слабая корреляция (-0.1, -0.4) между расстоянием до центра и стоимостью квартиры для всего города."
   ]
  },
  {
   "cell_type": "markdown",
   "id": "6fbaed81-2b8c-4e21-8893-953165a7a9fe",
   "metadata": {},
   "source": [
    "Отдельно посмотрим и на категорию этажа, влияет ли она на стоимость квартир в центре Санкт-Петербурга:"
   ]
  },
  {
   "cell_type": "code",
   "execution_count": null,
   "id": "ab213db4-1725-4eb3-99e7-9e079446bd86",
   "metadata": {},
   "outputs": [],
   "source": [
    "spb_center.groupby('floor_category')['last_price'].mean().plot();"
   ]
  },
  {
   "cell_type": "markdown",
   "id": "c918ba08-0fb6-435f-9c73-d6e60e7f44b9",
   "metadata": {},
   "source": [
    "**Промежуточный вывод**:\n",
    "\n",
    "    Да, зависимость есть. Самые дешевые квартиры - на первом этаже. Самые дорогие - не на первом и не на последнем."
   ]
  },
  {
   "cell_type": "code",
   "execution_count": null,
   "id": "69675b97-48be-4363-8669-f3affce5972a",
   "metadata": {},
   "outputs": [],
   "source": [
    "#Линейная диаграмма для центра - дата размещения публикации по оси абцисс, стоимость - по оси ординат.\n",
    "spb_center.groupby('first_day_exposition')['last_price'].mean().plot();"
   ]
  },
  {
   "cell_type": "markdown",
   "id": "f6f0d37d-4991-4eb4-97f7-3304a1dbac7a",
   "metadata": {},
   "source": [
    "Диаграмма неинформативна. Тут никакой зависимости не видно."
   ]
  },
  {
   "cell_type": "markdown",
   "id": "0d149436-4c79-426c-b04a-f8daec34773d",
   "metadata": {},
   "source": [
    "Посмотрим отдельно на день недели, месяц, год - есть ли какая-то зависимость от этих параметров. "
   ]
  },
  {
   "cell_type": "code",
   "execution_count": null,
   "id": "87c13f93-3e0a-4ed4-a903-3a27e0f855ae",
   "metadata": {},
   "outputs": [],
   "source": [
    "spb_center.groupby('year')['last_price'].mean().plot();"
   ]
  },
  {
   "cell_type": "code",
   "execution_count": null,
   "id": "d3efb046-59a0-4fe1-8fb6-254c98329858",
   "metadata": {},
   "outputs": [],
   "source": [
    "spb_center.groupby('weekday')['last_price'].mean().plot();"
   ]
  },
  {
   "cell_type": "code",
   "execution_count": null,
   "id": "56e9f1a9-44c7-4583-b806-0ef902d52a6d",
   "metadata": {},
   "outputs": [],
   "source": [
    "spb_center.groupby('month')['last_price'].mean().plot();"
   ]
  },
  {
   "cell_type": "markdown",
   "id": "dd9548a7-3116-4d96-98f2-2194a00b96c4",
   "metadata": {},
   "source": [
    "**Промежуточный вывод**: \n",
    "\n",
    "* Самая высокая цена на квартиры в Санкт-Петербурге была в 2014 году, цена падала до 2015 года, с 2015-2016 цена особо не менялась, с 2016 снова пошла на спад, с 2017 по 2018 держалась на одном (самом низком уровне) и с 2018 снова начала немного расти.\n",
    "\n",
    "* Самая низкая цена у квартир, объявление о продаже которых опубликовали в пятницу.\n",
    "\n",
    "* Квартиры, объявления о продаже которых опубликовали в ноябре, резко падают в цене и в декабре цена достигает дна."
   ]
  },
  {
   "cell_type": "markdown",
   "id": "0319d723-a37e-4230-adb6-5e7dc91f60a3",
   "metadata": {},
   "source": [
    "Линейные диаграммы для проверки, влияет ли число комнат на стоимость."
   ]
  },
  {
   "cell_type": "code",
   "execution_count": null,
   "id": "073a0831-37b3-4e0d-99d7-b5f1915fcb6a",
   "metadata": {},
   "outputs": [],
   "source": [
    "spb_center.groupby('number_of_rooms')['last_price'].mean().plot(\n",
    "    title='Зависимость между числом комнат и ценой для центра Санкт-Петербурга \\n', \n",
    "    ylabel='Стоимость', xlabel='Число комнат' );"
   ]
  },
  {
   "cell_type": "code",
   "execution_count": null,
   "id": "feca8f54-7c32-4400-9f36-d2a8342deb93",
   "metadata": {},
   "outputs": [],
   "source": [
    "clean_df_spb.groupby('number_of_rooms')['last_price'].mean().plot(\n",
    "    title='Зависимость между числом комнат и ценой для всего Санкт-Петербурга \\n', \n",
    "    ylabel='Стоимость', xlabel='Число комнат' );"
   ]
  },
  {
   "cell_type": "markdown",
   "id": "200dd7bb-52d9-4751-b184-84e2dc522967",
   "metadata": {},
   "source": [
    "#### Вывод"
   ]
  },
  {
   "cell_type": "markdown",
   "id": "d59dc0e1-b672-4187-9acf-07004c69c441",
   "metadata": {},
   "source": [
    "* И для центра, и для всего города есть положительная корреляция между площадью квартиры и ее стоимостью. Коэффициенты Пирсона равны 0,7 и 0,8 соответственно. Чем больше площадь, тем  дороже квартиры.\n",
    "\n",
    "* Наблюдается зависимость между категорией этажа и стоимостью как для центра, так и для всего города: квартиры на первом этаже самые дешевые. Самые дорогие - это те квартиры, которые находятся не на первом и не на последнем этажах.\n",
    "\n",
    "* Количество комнат влияет на стоимость квартиры: чем больше комнат - тем выше стоимость. \n",
    "\n",
    "* Для всего Санкт-Петербурга есть зависимость (более слабая) между расстоянием до центра и стоимостью квартиры. Чем дальше от центра, тем квартиры дешевле. \n",
    "\n",
    "* Самая высокая цена на квартиры в Санкт-Петербурге была в 2014 году. Самые низкие цены были в 2017-2018 гг."
   ]
  },
  {
   "cell_type": "markdown",
   "id": "73b40528-2026-43c3-a0ed-78f9c547c9ee",
   "metadata": {},
   "source": [
    "<a name=\"stage_6\"></a>\n",
    "\n",
    "# Этап 6. Общий вывод\n",
    "\n",
    "[Наверх к оглавлению](#contents)"
   ]
  },
  {
   "cell_type": "markdown",
   "id": "fa9c7e13-48f7-4336-871b-103af60b174c",
   "metadata": {},
   "source": [
    "**Чтобы определить рыночную стоимость объектов недвижимости следует учитывать следующие параметры:**"
   ]
  },
  {
   "cell_type": "markdown",
   "id": "18d973e8-d7b0-4e43-b4a5-b70390b040de",
   "metadata": {},
   "source": [
    "* Общая площадь. Объекты с общей площадью в 350 м.кв. и больше считаются редкими. Аномально редкое значение - 900 м.кв. В среднем площадь составляет от 30 до 47 м2 кв.м. Чем больше площадь, тем выше стоимость.\n",
    "\n",
    "* Количество комнат. Объекты с количеством комнат больше 6 встречаются редко. Аномально редкое значение - 19. Чем больше комнат, тем выше стоимость. \n",
    "\n",
    "* Этаж. Самые дешевые объекты на первом этаже. Самые дорогие - на других этажах, кроме первого и последнего.\n",
    "\n",
    "* Расстояние до центра. Центр города Санкт-Петербурга ограничен окружностью радиусом в 8 км. Для всего города фактор близости слабо, но влияет на стоимость жилья: чем дальше от центра, тем дороже объект недвижимости.\n",
    "\n",
    "* Высота потолка. Объекты недвижимости с высотой потолка больше или равной 4 кв.м или меньше 2.25 считаются редкими. В среднем высота потолков: 2.5 - 2.7 метров. Этот фактор на стоимость жилья влияет довольно слабо.\n",
    "\n",
    "* Населенный пункт. Самый дорогой объект недвижимости  - в крупном городе, в Санкт-Петербурге.\n"
   ]
  },
  {
   "cell_type": "markdown",
   "id": "c49b69ba-c9d8-4b6e-bc7b-69eaab35f1a1",
   "metadata": {},
   "source": [
    "**При построении автоматизированной системы, которая детектирует аномалии и мошенническую деятельность, следует учесть следующие аномальные значения параметров:**"
   ]
  },
  {
   "cell_type": "markdown",
   "id": "2e064d40-8ced-4db9-aa69-d07efdd1d4ca",
   "metadata": {},
   "source": [
    "* Аномально большой по общей площади объект недвижимости имеет площадь 900 м.кв. Объекты с площадью *в 350 м.кв. и больше* считаются редкими и составляют 0.17% от всей выборки в данном исследовании.\n",
    "\n",
    "* Аномально дорогой объект недвижимости имеет стоимость 763 000 000 млн. рублей. Аномально дешевый объект недвижимости имеет стоимость в 12 190 рублей. В целом объекты недвижимости дороже 36 000 000 млн рублей и дешевле 400 000 тыс рублей составляют 1 % от выборки.\n",
    "\n",
    "* Аномально редкое количество комнат - 19. В целом объекты с количеством комнат *больше 6* встречаются редко, их процент составляет 0.8% от всей выборки в данном исследовании.\n",
    "\n",
    "* Аномально низкий потолок - 1 метр. Аномально высокий - 100 метров. Объекты недвижимости с высотой потолка *больше или равной 4 кв.м или меньше 2.25* считаются редкими и составляют 0.6 % от всей выборки в данном исследовании.\n",
    "\n",
    "* Аномально короткий срок длительности публикации о продаже недвижимости - 1 день. Аномально длинный - 1580 дней (4 года 4 месяца). Объекты недвижимости, срок длительности публикации у которых равен 1 дню или больше или равен 512 дням (1 год 5 месяцев), считаются редкими и выбивающимися. Такие случаи составляют 7.1% от всей выборки."
   ]
  },
  {
   "cell_type": "markdown",
   "id": "3f98950c-7933-4810-8b6c-953a9c9d16c9",
   "metadata": {},
   "source": [
    "# Спасибо за внимание!"
   ]
  }
 ],
 "metadata": {
  "kernelspec": {
   "display_name": "Python 3 (ipykernel)",
   "language": "python",
   "name": "python3"
  },
  "language_info": {
   "codemirror_mode": {
    "name": "ipython",
    "version": 3
   },
   "file_extension": ".py",
   "mimetype": "text/x-python",
   "name": "python",
   "nbconvert_exporter": "python",
   "pygments_lexer": "ipython3",
   "version": "3.9.13"
  },
  "toc-autonumbering": true
 },
 "nbformat": 4,
 "nbformat_minor": 5
}
