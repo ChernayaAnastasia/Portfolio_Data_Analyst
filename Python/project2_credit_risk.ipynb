{
 "cells": [
  {
   "cell_type": "markdown",
   "id": "4b847cea-e16f-4a7d-9038-dca07f8e1a7c",
   "metadata": {
    "tags": []
   },
   "source": [
    "# Исследование надёжности заёмщиков\n",
    "\n",
    "**Цель исследования** \n",
    "\n",
    "Проверить:\n",
    "\n",
    "1. есть ли зависимость между наличием детей и возвратом кредита в срок,\n",
    "\n",
    "2. есть ли зависимость между семейным положением и возвратом кредита в срок,\n",
    "\n",
    "3. есть ли зависимость между уровнем дохода и возвратом кредита в срок,\n",
    "\n",
    "4. как разные цели кредита влияют на его возврат в срок.\n",
    "\n",
    "**Входные данные** \n",
    "\n",
    "Данные кредитного отдела банка.\n",
    "\n",
    "**Заказчик исследования**\n",
    "\n",
    "Кредитный отдел банка. \n",
    "\n",
    "**Практическое применение результатов исследования**\n",
    "\n",
    "Результаты исследования будут учтены при построении модели *кредитного скоринга* — специальной системы, которая оценивает способность потенциального заёмщика вернуть кредит банку."
   ]
  },
  {
   "cell_type": "markdown",
   "id": "c7ee89e4-f071-425a-8b3b-f84daad1fa07",
   "metadata": {},
   "source": [
    "## Обзор данных"
   ]
  },
  {
   "cell_type": "markdown",
   "id": "b43d42f3-885f-455c-ba53-7bfe949c0019",
   "metadata": {},
   "source": [
    "Импортируем библиотеки для проекта."
   ]
  },
  {
   "cell_type": "code",
   "execution_count": 1,
   "id": "14f615eb-f7e2-4d29-89fc-4582e11aa0f8",
   "metadata": {},
   "outputs": [],
   "source": [
    "import pandas as pd\n",
    "from nltk.corpus import stopwords\n",
    "import matplotlib.pyplot as plt\n",
    "from pymystem3 import Mystem\n",
    "\n",
    "mystem = Mystem()"
   ]
  },
  {
   "cell_type": "markdown",
   "id": "3f69f302-5463-42c1-84a1-c6c043556759",
   "metadata": {},
   "source": [
    "Прочитаем данные и сохраним в переменную df."
   ]
  },
  {
   "cell_type": "code",
   "execution_count": 2,
   "id": "8abadb59-09a7-4b3d-94b5-009b75f5cecb",
   "metadata": {
    "tags": []
   },
   "outputs": [],
   "source": [
    "df = pd.read_csv('data.csv') "
   ]
  },
  {
   "cell_type": "markdown",
   "id": "ebc88dbf-1330-47cc-9749-6c16687bac6a",
   "metadata": {},
   "source": [
    "Посмотрим на первые 5 строк датафрейма df."
   ]
  },
  {
   "cell_type": "code",
   "execution_count": 3,
   "id": "62bbd2e8-fc4e-4f28-8896-526204908005",
   "metadata": {
    "scrolled": true,
    "tags": []
   },
   "outputs": [
    {
     "data": {
      "text/html": [
       "<div>\n",
       "<style scoped>\n",
       "    .dataframe tbody tr th:only-of-type {\n",
       "        vertical-align: middle;\n",
       "    }\n",
       "\n",
       "    .dataframe tbody tr th {\n",
       "        vertical-align: top;\n",
       "    }\n",
       "\n",
       "    .dataframe thead th {\n",
       "        text-align: right;\n",
       "    }\n",
       "</style>\n",
       "<table border=\"1\" class=\"dataframe\">\n",
       "  <thead>\n",
       "    <tr style=\"text-align: right;\">\n",
       "      <th></th>\n",
       "      <th>children</th>\n",
       "      <th>days_employed</th>\n",
       "      <th>dob_years</th>\n",
       "      <th>education</th>\n",
       "      <th>education_id</th>\n",
       "      <th>family_status</th>\n",
       "      <th>family_status_id</th>\n",
       "      <th>gender</th>\n",
       "      <th>income_type</th>\n",
       "      <th>debt</th>\n",
       "      <th>total_income</th>\n",
       "      <th>purpose</th>\n",
       "    </tr>\n",
       "  </thead>\n",
       "  <tbody>\n",
       "    <tr>\n",
       "      <th>0</th>\n",
       "      <td>1</td>\n",
       "      <td>-8437.673028</td>\n",
       "      <td>42</td>\n",
       "      <td>высшее</td>\n",
       "      <td>0</td>\n",
       "      <td>женат / замужем</td>\n",
       "      <td>0</td>\n",
       "      <td>F</td>\n",
       "      <td>сотрудник</td>\n",
       "      <td>0</td>\n",
       "      <td>253875.639453</td>\n",
       "      <td>покупка жилья</td>\n",
       "    </tr>\n",
       "    <tr>\n",
       "      <th>1</th>\n",
       "      <td>1</td>\n",
       "      <td>-4024.803754</td>\n",
       "      <td>36</td>\n",
       "      <td>среднее</td>\n",
       "      <td>1</td>\n",
       "      <td>женат / замужем</td>\n",
       "      <td>0</td>\n",
       "      <td>F</td>\n",
       "      <td>сотрудник</td>\n",
       "      <td>0</td>\n",
       "      <td>112080.014102</td>\n",
       "      <td>приобретение автомобиля</td>\n",
       "    </tr>\n",
       "    <tr>\n",
       "      <th>2</th>\n",
       "      <td>0</td>\n",
       "      <td>-5623.422610</td>\n",
       "      <td>33</td>\n",
       "      <td>Среднее</td>\n",
       "      <td>1</td>\n",
       "      <td>женат / замужем</td>\n",
       "      <td>0</td>\n",
       "      <td>M</td>\n",
       "      <td>сотрудник</td>\n",
       "      <td>0</td>\n",
       "      <td>145885.952297</td>\n",
       "      <td>покупка жилья</td>\n",
       "    </tr>\n",
       "    <tr>\n",
       "      <th>3</th>\n",
       "      <td>3</td>\n",
       "      <td>-4124.747207</td>\n",
       "      <td>32</td>\n",
       "      <td>среднее</td>\n",
       "      <td>1</td>\n",
       "      <td>женат / замужем</td>\n",
       "      <td>0</td>\n",
       "      <td>M</td>\n",
       "      <td>сотрудник</td>\n",
       "      <td>0</td>\n",
       "      <td>267628.550329</td>\n",
       "      <td>дополнительное образование</td>\n",
       "    </tr>\n",
       "    <tr>\n",
       "      <th>4</th>\n",
       "      <td>0</td>\n",
       "      <td>340266.072047</td>\n",
       "      <td>53</td>\n",
       "      <td>среднее</td>\n",
       "      <td>1</td>\n",
       "      <td>гражданский брак</td>\n",
       "      <td>1</td>\n",
       "      <td>F</td>\n",
       "      <td>пенсионер</td>\n",
       "      <td>0</td>\n",
       "      <td>158616.077870</td>\n",
       "      <td>сыграть свадьбу</td>\n",
       "    </tr>\n",
       "  </tbody>\n",
       "</table>\n",
       "</div>"
      ],
      "text/plain": [
       "   children  days_employed  dob_years education  education_id  \\\n",
       "0         1   -8437.673028         42    высшее             0   \n",
       "1         1   -4024.803754         36   среднее             1   \n",
       "2         0   -5623.422610         33   Среднее             1   \n",
       "3         3   -4124.747207         32   среднее             1   \n",
       "4         0  340266.072047         53   среднее             1   \n",
       "\n",
       "      family_status  family_status_id gender income_type  debt   total_income  \\\n",
       "0   женат / замужем                 0      F   сотрудник     0  253875.639453   \n",
       "1   женат / замужем                 0      F   сотрудник     0  112080.014102   \n",
       "2   женат / замужем                 0      M   сотрудник     0  145885.952297   \n",
       "3   женат / замужем                 0      M   сотрудник     0  267628.550329   \n",
       "4  гражданский брак                 1      F   пенсионер     0  158616.077870   \n",
       "\n",
       "                      purpose  \n",
       "0               покупка жилья  \n",
       "1     приобретение автомобиля  \n",
       "2               покупка жилья  \n",
       "3  дополнительное образование  \n",
       "4             сыграть свадьбу  "
      ]
     },
     "execution_count": 3,
     "metadata": {},
     "output_type": "execute_result"
    }
   ],
   "source": [
    "df.head()"
   ]
  },
  {
   "cell_type": "markdown",
   "id": "da35f0ea-2678-4b07-95b3-22d6906fba12",
   "metadata": {},
   "source": [
    "Получим общую информацию о данных в нашем датафрейме."
   ]
  },
  {
   "cell_type": "code",
   "execution_count": 4,
   "id": "fb7fb76c-5bac-4f03-af32-ef6c5879ffb7",
   "metadata": {
    "tags": []
   },
   "outputs": [
    {
     "name": "stdout",
     "output_type": "stream",
     "text": [
      "<class 'pandas.core.frame.DataFrame'>\n",
      "RangeIndex: 21525 entries, 0 to 21524\n",
      "Data columns (total 12 columns):\n",
      " #   Column            Non-Null Count  Dtype  \n",
      "---  ------            --------------  -----  \n",
      " 0   children          21525 non-null  int64  \n",
      " 1   days_employed     19351 non-null  float64\n",
      " 2   dob_years         21525 non-null  int64  \n",
      " 3   education         21525 non-null  object \n",
      " 4   education_id      21525 non-null  int64  \n",
      " 5   family_status     21525 non-null  object \n",
      " 6   family_status_id  21525 non-null  int64  \n",
      " 7   gender            21525 non-null  object \n",
      " 8   income_type       21525 non-null  object \n",
      " 9   debt              21525 non-null  int64  \n",
      " 10  total_income      19351 non-null  float64\n",
      " 11  purpose           21525 non-null  object \n",
      "dtypes: float64(2), int64(5), object(5)\n",
      "memory usage: 2.0+ MB\n"
     ]
    }
   ],
   "source": [
    "df.info()"
   ]
  },
  {
   "cell_type": "markdown",
   "id": "19032d7d-934d-479a-8ee4-588ed9e10879",
   "metadata": {},
   "source": [
    "Каждая строка датафрейма содержит информацию об определенном физическом лице, запрашивающем кредит на известную цель (будем называть его заемщиком). Из таблицы можем видеть количество детей, трудовой стаж в днях, возраст, образование, семейное положение, пол, тип занятости, есть ли задолжность по кредиту, цель получения кредита и доход. "
   ]
  },
  {
   "cell_type": "markdown",
   "id": "76ddd613-0419-4489-acba-22cc559fa87a",
   "metadata": {},
   "source": [
    "<a id='describe'></a>  Посмотрим на уровень разброса значений в исследуемых данных. Для этого применим метод describe()."
   ]
  },
  {
   "cell_type": "code",
   "execution_count": 5,
   "id": "b550b95e-95a1-49e3-bcff-2749ec3de906",
   "metadata": {},
   "outputs": [
    {
     "data": {
      "text/html": [
       "<div>\n",
       "<style scoped>\n",
       "    .dataframe tbody tr th:only-of-type {\n",
       "        vertical-align: middle;\n",
       "    }\n",
       "\n",
       "    .dataframe tbody tr th {\n",
       "        vertical-align: top;\n",
       "    }\n",
       "\n",
       "    .dataframe thead th {\n",
       "        text-align: right;\n",
       "    }\n",
       "</style>\n",
       "<table border=\"1\" class=\"dataframe\">\n",
       "  <thead>\n",
       "    <tr style=\"text-align: right;\">\n",
       "      <th></th>\n",
       "      <th>children</th>\n",
       "      <th>days_employed</th>\n",
       "      <th>dob_years</th>\n",
       "      <th>education_id</th>\n",
       "      <th>family_status_id</th>\n",
       "      <th>debt</th>\n",
       "      <th>total_income</th>\n",
       "    </tr>\n",
       "  </thead>\n",
       "  <tbody>\n",
       "    <tr>\n",
       "      <th>count</th>\n",
       "      <td>21525.000000</td>\n",
       "      <td>19351.000000</td>\n",
       "      <td>21525.000000</td>\n",
       "      <td>21525.000000</td>\n",
       "      <td>21525.000000</td>\n",
       "      <td>21525.000000</td>\n",
       "      <td>1.935100e+04</td>\n",
       "    </tr>\n",
       "    <tr>\n",
       "      <th>mean</th>\n",
       "      <td>0.538908</td>\n",
       "      <td>63046.497661</td>\n",
       "      <td>43.293380</td>\n",
       "      <td>0.817236</td>\n",
       "      <td>0.972544</td>\n",
       "      <td>0.080883</td>\n",
       "      <td>1.674223e+05</td>\n",
       "    </tr>\n",
       "    <tr>\n",
       "      <th>std</th>\n",
       "      <td>1.381587</td>\n",
       "      <td>140827.311974</td>\n",
       "      <td>12.574584</td>\n",
       "      <td>0.548138</td>\n",
       "      <td>1.420324</td>\n",
       "      <td>0.272661</td>\n",
       "      <td>1.029716e+05</td>\n",
       "    </tr>\n",
       "    <tr>\n",
       "      <th>min</th>\n",
       "      <td>-1.000000</td>\n",
       "      <td>-18388.949901</td>\n",
       "      <td>0.000000</td>\n",
       "      <td>0.000000</td>\n",
       "      <td>0.000000</td>\n",
       "      <td>0.000000</td>\n",
       "      <td>2.066726e+04</td>\n",
       "    </tr>\n",
       "    <tr>\n",
       "      <th>25%</th>\n",
       "      <td>0.000000</td>\n",
       "      <td>-2747.423625</td>\n",
       "      <td>33.000000</td>\n",
       "      <td>1.000000</td>\n",
       "      <td>0.000000</td>\n",
       "      <td>0.000000</td>\n",
       "      <td>1.030532e+05</td>\n",
       "    </tr>\n",
       "    <tr>\n",
       "      <th>50%</th>\n",
       "      <td>0.000000</td>\n",
       "      <td>-1203.369529</td>\n",
       "      <td>42.000000</td>\n",
       "      <td>1.000000</td>\n",
       "      <td>0.000000</td>\n",
       "      <td>0.000000</td>\n",
       "      <td>1.450179e+05</td>\n",
       "    </tr>\n",
       "    <tr>\n",
       "      <th>75%</th>\n",
       "      <td>1.000000</td>\n",
       "      <td>-291.095954</td>\n",
       "      <td>53.000000</td>\n",
       "      <td>1.000000</td>\n",
       "      <td>1.000000</td>\n",
       "      <td>0.000000</td>\n",
       "      <td>2.034351e+05</td>\n",
       "    </tr>\n",
       "    <tr>\n",
       "      <th>max</th>\n",
       "      <td>20.000000</td>\n",
       "      <td>401755.400475</td>\n",
       "      <td>75.000000</td>\n",
       "      <td>4.000000</td>\n",
       "      <td>4.000000</td>\n",
       "      <td>1.000000</td>\n",
       "      <td>2.265604e+06</td>\n",
       "    </tr>\n",
       "  </tbody>\n",
       "</table>\n",
       "</div>"
      ],
      "text/plain": [
       "           children  days_employed     dob_years  education_id  \\\n",
       "count  21525.000000   19351.000000  21525.000000  21525.000000   \n",
       "mean       0.538908   63046.497661     43.293380      0.817236   \n",
       "std        1.381587  140827.311974     12.574584      0.548138   \n",
       "min       -1.000000  -18388.949901      0.000000      0.000000   \n",
       "25%        0.000000   -2747.423625     33.000000      1.000000   \n",
       "50%        0.000000   -1203.369529     42.000000      1.000000   \n",
       "75%        1.000000    -291.095954     53.000000      1.000000   \n",
       "max       20.000000  401755.400475     75.000000      4.000000   \n",
       "\n",
       "       family_status_id          debt  total_income  \n",
       "count      21525.000000  21525.000000  1.935100e+04  \n",
       "mean           0.972544      0.080883  1.674223e+05  \n",
       "std            1.420324      0.272661  1.029716e+05  \n",
       "min            0.000000      0.000000  2.066726e+04  \n",
       "25%            0.000000      0.000000  1.030532e+05  \n",
       "50%            0.000000      0.000000  1.450179e+05  \n",
       "75%            1.000000      0.000000  2.034351e+05  \n",
       "max            4.000000      1.000000  2.265604e+06  "
      ]
     },
     "execution_count": 5,
     "metadata": {},
     "output_type": "execute_result"
    }
   ],
   "source": [
    "df.describe()"
   ]
  },
  {
   "cell_type": "markdown",
   "id": "3cd06757-dd06-467f-ac7a-9ab5ea12d7a4",
   "metadata": {},
   "source": [
    "<a id='intro'></a>\n",
    "Рассмотрим уникальные значения данных для остальных столбцов (пол, образование, семейное положение, тип занятости, цель):"
   ]
  },
  {
   "cell_type": "code",
   "execution_count": 6,
   "id": "09f91c81-4976-4341-8d7b-92da736102e0",
   "metadata": {},
   "outputs": [
    {
     "name": "stdout",
     "output_type": "stream",
     "text": [
      "среднее                13750\n",
      "высшее                  4718\n",
      "СРЕДНЕЕ                  772\n",
      "Среднее                  711\n",
      "неоконченное высшее      668\n",
      "ВЫСШЕЕ                   274\n",
      "Высшее                   268\n",
      "начальное                250\n",
      "Неоконченное высшее       47\n",
      "НЕОКОНЧЕННОЕ ВЫСШЕЕ       29\n",
      "НАЧАЛЬНОЕ                 17\n",
      "Начальное                 15\n",
      "ученая степень             4\n",
      "Ученая степень             1\n",
      "УЧЕНАЯ СТЕПЕНЬ             1\n",
      "Name: education, dtype: int64 \n",
      "\n",
      "женат / замужем          12380\n",
      "гражданский брак          4177\n",
      "Не женат / не замужем     2813\n",
      "в разводе                 1195\n",
      "вдовец / вдова             960\n",
      "Name: family_status, dtype: int64 \n",
      "\n",
      "F      14236\n",
      "M       7288\n",
      "XNA        1\n",
      "Name: gender, dtype: int64 \n",
      "\n",
      "сотрудник          11119\n",
      "компаньон           5085\n",
      "пенсионер           3856\n",
      "госслужащий         1459\n",
      "безработный            2\n",
      "предприниматель        2\n",
      "студент                1\n",
      "в декрете              1\n",
      "Name: income_type, dtype: int64 \n",
      "\n",
      "свадьба                                   797\n",
      "на проведение свадьбы                     777\n",
      "сыграть свадьбу                           774\n",
      "операции с недвижимостью                  676\n",
      "покупка коммерческой недвижимости         664\n",
      "покупка жилья для сдачи                   653\n",
      "операции с жильем                         653\n",
      "операции с коммерческой недвижимостью     651\n",
      "покупка жилья                             647\n",
      "жилье                                     647\n",
      "покупка жилья для семьи                   641\n",
      "строительство собственной недвижимости    635\n",
      "недвижимость                              634\n",
      "операции со своей недвижимостью           630\n",
      "строительство жилой недвижимости          626\n",
      "покупка недвижимости                      624\n",
      "строительство недвижимости                620\n",
      "покупка своего жилья                      620\n",
      "ремонт жилью                              612\n",
      "покупка жилой недвижимости                607\n",
      "на покупку своего автомобиля              505\n",
      "заняться высшим образованием              496\n",
      "автомобиль                                495\n",
      "сделка с подержанным автомобилем          489\n",
      "свой автомобиль                           480\n",
      "на покупку подержанного автомобиля        479\n",
      "автомобили                                478\n",
      "на покупку автомобиля                     472\n",
      "дополнительное образование                462\n",
      "приобретение автомобиля                   462\n",
      "сделка с автомобилем                      455\n",
      "высшее образование                        453\n",
      "образование                               447\n",
      "получение дополнительного образования     447\n",
      "получение образования                     443\n",
      "профильное образование                    436\n",
      "получение высшего образования             426\n",
      "заняться образованием                     412\n",
      "Name: purpose, dtype: int64 \n",
      "\n"
     ]
    }
   ],
   "source": [
    "for column_name in df.columns:\n",
    "        if column_name not in df.describe().columns:\n",
    "            print(df[column_name].value_counts(), '\\n')"
   ]
  },
  {
   "cell_type": "markdown",
   "id": "ffba8f73-a51f-403f-b4a3-754e926996cb",
   "metadata": {},
   "source": [
    "Посмотрим на количество явных дубликатов в датафрейме с помощью цепочки методов duplicated().sum()."
   ]
  },
  {
   "cell_type": "code",
   "execution_count": 7,
   "id": "d438d4a6-fa97-4131-ae29-12fadba5a073",
   "metadata": {},
   "outputs": [
    {
     "data": {
      "text/plain": [
       "'Количество явных дубликатов в таблице: 54'"
      ]
     },
     "execution_count": 7,
     "metadata": {},
     "output_type": "execute_result"
    }
   ],
   "source": [
    "f'Количество явных дубликатов в таблице: {df.duplicated().sum()}'"
   ]
  },
  {
   "cell_type": "markdown",
   "id": "8a04712b-067a-420f-8e21-63145fe0e0c5",
   "metadata": {},
   "source": [
    "<a id='null_values'></a> Получим процент пропущенных данных в столбце `total_income`. \n",
    "\n",
    "В столбце трудового стажа `days_employed` такое же количество пропущенных значений, как мы увидели из общей информации о датафрейме. "
   ]
  },
  {
   "cell_type": "code",
   "execution_count": 8,
   "id": "c601e642-c493-4b34-b83c-c4510a8e6297",
   "metadata": {},
   "outputs": [
    {
     "data": {
      "text/plain": [
       "'Процент пропущенных значений в столбце total_income: 10.10%'"
      ]
     },
     "execution_count": 8,
     "metadata": {},
     "output_type": "execute_result"
    }
   ],
   "source": [
    "f'Процент пропущенных значений в столбце total_income: {len(df[df[\"total_income\"].isnull()])/df.shape[0]:.2%}'\n"
   ]
  },
  {
   "cell_type": "code",
   "execution_count": 9,
   "id": "210684ee-7164-4a37-86d6-d53f2feda1d2",
   "metadata": {},
   "outputs": [
    {
     "data": {
      "text/plain": [
       "'Процент пропущенных значений в столбце days_employed: 10.10%'"
      ]
     },
     "execution_count": 9,
     "metadata": {},
     "output_type": "execute_result"
    }
   ],
   "source": [
    "f'Процент пропущенных значений в столбце days_employed: {len(df[df[\"days_employed\"].isnull()])/df.shape[0]:.2%}'"
   ]
  },
  {
   "cell_type": "markdown",
   "id": "af4b6ec1-1b40-4dde-a84b-a7d38fa4c01f",
   "metadata": {},
   "source": [
    "### Вывод"
   ]
  },
  {
   "cell_type": "markdown",
   "id": "c6a8fd8f-a5af-4fd7-bb03-348ab1a8e436",
   "metadata": {},
   "source": [
    "<div style=\"border:solid green 2px; padding: 20px\">\n",
    "    \n",
    "В датафрейме 12 столбцов. Общее количество наблюдений в данных 21525. \n",
    "\n",
    "Каждая строка содержит информацию об определенном заемщике.\n",
    "\n",
    "В таблице хранится следующая информация о заемщике: \n",
    "    \n",
    "* количество детей в семье (children), \n",
    "* трудовой стаж в днях (days_employed), \n",
    "* возраст в годах (dob_years), \n",
    "* уровень образования (education), \n",
    "* индентификатор образования (education_id), \n",
    "* семейное положение (family_status), \n",
    "* идентификатор семейного положения (family_status_id), \n",
    "* пол (gender), \n",
    "* тип занятости (income_type), \n",
    "* имел ли задолжность по кредиту (debt), \n",
    "* ежемесячный доход (total_income) и \n",
    "* цель получения кредита (purpose). \n",
    "    \n",
    "В ходе предварительного анализа данных выявлены следующие проблемы:\n",
    "    \n",
    "1. В столбце `children` есть артефакты: -1 ребенок и 20 детей.\n",
    "\n",
    "2. В столбце `days_employed` пропущено 10.10% данных, а также есть отрицательные значения и тип данных число с плавающей точкой требует преобразования в integer. \n",
    "    \n",
    "3. В столбце `dob_years` есть возраст со значением 0. \n",
    "    \n",
    "4. В столбце `family_status` есть значение \"Не женат / не замужем\", которое требуется привести к строчному регистру по аналогии со всеми остальными.\n",
    "   \n",
    "5. В столбце `gender` есть артефакт: XNA. (Всего одна строка, поэтому можно просто удалить эту строчку.)  \n",
    "    \n",
    "6. В столбце `total_income` пропущено 10.10% данных, а также тип данных число с плавающей точкой требует преобразования в целочисленный. \n",
    "    \n",
    "7. В столбце `education` в значениях есть неявные дубликаты. Требуется привести все значения к нижнему регистру. \n",
    "\n",
    "8. В данных выявлено 54 явных дубликата. \n",
    "\n",
    "Устраним проблемы в разделах ниже."
   ]
  },
  {
   "cell_type": "markdown",
   "id": "477f1fd9-54fd-4fc4-a268-e97cc8228070",
   "metadata": {},
   "source": [
    "## Предобработка данных"
   ]
  },
  {
   "cell_type": "markdown",
   "id": "2943f032-849e-4977-b9a0-eb4f798079a8",
   "metadata": {},
   "source": [
    "### Обработка артефактов\n"
   ]
  },
  {
   "cell_type": "markdown",
   "id": "b91a3f32-8fd2-48d4-9312-e9862c5bf337",
   "metadata": {},
   "source": [
    "#### Cтолбец children"
   ]
  },
  {
   "cell_type": "markdown",
   "id": "6437bfaf-e9f7-48b7-a2a5-8497a577a87c",
   "metadata": {},
   "source": [
    "Смотрим на столбец `children` (количество детей), запросим относительную частоту значений."
   ]
  },
  {
   "cell_type": "code",
   "execution_count": 10,
   "id": "38b5247e-d5a4-4c75-b10c-624e04feae35",
   "metadata": {},
   "outputs": [
    {
     "data": {
      "text/plain": [
       " 0     0.657329\n",
       " 1     0.223833\n",
       " 2     0.095470\n",
       " 3     0.015331\n",
       " 20    0.003531\n",
       "-1     0.002184\n",
       " 4     0.001905\n",
       " 5     0.000418\n",
       "Name: children, dtype: float64"
      ]
     },
     "metadata": {},
     "output_type": "display_data"
    }
   ],
   "source": [
    "display(df['children'].value_counts(normalize=True))"
   ]
  },
  {
   "cell_type": "markdown",
   "id": "4a435766-5e2e-4ed1-859d-4d3b120eb85c",
   "metadata": {},
   "source": [
    "0.2% заемщиков имеют -1 ребенок. Возможно, это означает утрату ребенка: заменим -1 на 0. \n",
    "\n",
    "0.3% заемщиков имеют 20 детей. Это маленький процент. Будем считать, что это \"многодетные\"."
   ]
  },
  {
   "cell_type": "code",
   "execution_count": 11,
   "id": "d6b66fdf-e544-4585-a7a4-0f54369e343a",
   "metadata": {
    "tags": []
   },
   "outputs": [],
   "source": [
    "df['children'] = df['children'].replace({-1: 0})"
   ]
  },
  {
   "cell_type": "markdown",
   "id": "8694c717-d2aa-42c4-b06a-e321536c2d44",
   "metadata": {},
   "source": [
    "Проверяем, как отработал метод replace:"
   ]
  },
  {
   "cell_type": "code",
   "execution_count": 12,
   "id": "4e1151a3-e2f3-49f4-9cb4-4aa7e8c032c7",
   "metadata": {},
   "outputs": [
    {
     "data": {
      "text/plain": [
       "'Количество заемщиков с количеством детей -1: 0'"
      ]
     },
     "execution_count": 12,
     "metadata": {},
     "output_type": "execute_result"
    }
   ],
   "source": [
    "f\"Количество заемщиков с количеством детей -1: {len(df[df['children']== -1])}\""
   ]
  },
  {
   "cell_type": "markdown",
   "id": "a98ebe5a-a718-492b-95fe-8105b7793191",
   "metadata": {},
   "source": [
    "#### Cтолбец dob_years"
   ]
  },
  {
   "cell_type": "markdown",
   "id": "1dd4583a-b199-4b1f-b422-d19fc220aad5",
   "metadata": {},
   "source": [
    "[Ранее](#describe) в значениях `dob_years` мы заметили значение 0. \n",
    "\n",
    "Заменим 0 на среднее арифметическое."
   ]
  },
  {
   "cell_type": "code",
   "execution_count": 13,
   "id": "d4aaa55e-ee64-4132-92c2-b365f08ef493",
   "metadata": {},
   "outputs": [],
   "source": [
    "df = df.replace({'dob_years': 0}, df['dob_years'].mean())"
   ]
  },
  {
   "cell_type": "markdown",
   "id": "fcd05d25-6ce1-45e2-8689-cfed084f190b",
   "metadata": {},
   "source": [
    "Проверяем, успешна ли замена 0-значений средним арифметическим."
   ]
  },
  {
   "cell_type": "code",
   "execution_count": 14,
   "id": "15b2310e-16ac-461a-b17b-0d4ed3be4216",
   "metadata": {
    "tags": []
   },
   "outputs": [
    {
     "data": {
      "text/plain": [
       "children            0\n",
       "days_employed       0\n",
       "dob_years           0\n",
       "education           0\n",
       "education_id        0\n",
       "family_status       0\n",
       "family_status_id    0\n",
       "gender              0\n",
       "income_type         0\n",
       "debt                0\n",
       "total_income        0\n",
       "purpose             0\n",
       "dtype: int64"
      ]
     },
     "execution_count": 14,
     "metadata": {},
     "output_type": "execute_result"
    }
   ],
   "source": [
    "df[df['dob_years'] == 0].count()"
   ]
  },
  {
   "cell_type": "markdown",
   "id": "8f57e72c-5f51-4a06-bb02-f05c5c9e4fb9",
   "metadata": {},
   "source": [
    "#### Cтолбец days_employed"
   ]
  },
  {
   "cell_type": "code",
   "execution_count": 15,
   "id": "8be55465-d82c-4fe7-9838-60e433f1cf68",
   "metadata": {},
   "outputs": [
    {
     "data": {
      "text/plain": [
       "'Количество заемщиков с положительным стажем: 3445'"
      ]
     },
     "execution_count": 15,
     "metadata": {},
     "output_type": "execute_result"
    }
   ],
   "source": [
    "f\"Количество заемщиков с положительным стажем: {len(df[df['days_employed'] > 0])}\""
   ]
  },
  {
   "cell_type": "code",
   "execution_count": 16,
   "id": "55803960-3b21-4b14-b3ec-d19b264a49f2",
   "metadata": {},
   "outputs": [
    {
     "data": {
      "text/plain": [
       "'Количество заемщиков с отрицательным стажем: 15906'"
      ]
     },
     "execution_count": 16,
     "metadata": {},
     "output_type": "execute_result"
    }
   ],
   "source": [
    "f\"Количество заемщиков с отрицательным стажем: {len(df[df['days_employed'] < 0])}\""
   ]
  },
  {
   "cell_type": "markdown",
   "id": "60ad20a1-a2f5-48b8-ae54-8672cb8f3354",
   "metadata": {},
   "source": [
    "Посмотрим, как распределяются отрицательные и положительные значения в зависимости от типа занятости."
   ]
  },
  {
   "cell_type": "code",
   "execution_count": 17,
   "id": "7b64dd18-dee6-4b1f-8841-3e9aba63fe79",
   "metadata": {},
   "outputs": [
    {
     "name": "stdout",
     "output_type": "stream",
     "text": [
      "Положительный стаж имеют: \n",
      "\n"
     ]
    },
    {
     "data": {
      "text/plain": [
       "income_type\n",
       "безработный       2\n",
       "пенсионер      3443\n",
       "Name: days_employed, dtype: int64"
      ]
     },
     "execution_count": 17,
     "metadata": {},
     "output_type": "execute_result"
    }
   ],
   "source": [
    "print('Положительный стаж имеют: \\n')\n",
    "df[df['days_employed'] > 0].groupby('income_type')['days_employed'].count()"
   ]
  },
  {
   "cell_type": "code",
   "execution_count": 18,
   "id": "c1291af1-586c-4a42-8841-78b4306af365",
   "metadata": {},
   "outputs": [
    {
     "name": "stdout",
     "output_type": "stream",
     "text": [
      "Отрицательный стаж имеют: \n",
      "\n"
     ]
    },
    {
     "data": {
      "text/plain": [
       "income_type\n",
       "в декрете              1\n",
       "госслужащий         1312\n",
       "компаньон           4577\n",
       "предприниматель        1\n",
       "сотрудник          10014\n",
       "студент                1\n",
       "Name: days_employed, dtype: int64"
      ]
     },
     "execution_count": 18,
     "metadata": {},
     "output_type": "execute_result"
    }
   ],
   "source": [
    "print('Отрицательный стаж имеют: \\n')\n",
    "df[df['days_employed'] < 0].groupby('income_type')['days_employed'].count()"
   ]
  },
  {
   "cell_type": "markdown",
   "id": "134cdcbb-0aaf-4342-8e22-40e490ccc120",
   "metadata": {},
   "source": [
    "Положительный стаж имеют все пенсионеры. \n",
    "\n",
    "Похоже, отрицательный стаж - это техническая ошибка и его можно считать положительным. \n",
    "\n",
    "Вычислим модуль числа с помощью встроенной функции abs и исправим отрицательный стаж на положительный."
   ]
  },
  {
   "cell_type": "code",
   "execution_count": 19,
   "id": "9badbd6f-2af7-4225-b4aa-b8da329b18f8",
   "metadata": {},
   "outputs": [
    {
     "name": "stdout",
     "output_type": "stream",
     "text": [
      "Количество отрицательных значений до обработки: 15906\n",
      "Количество отрицательных значений после обработки: 0\n"
     ]
    }
   ],
   "source": [
    "print('Количество отрицательных значений до обработки:', df[df['days_employed'] < 0]['days_employed'].count())\n",
    "df['days_employed'] = abs(df['days_employed'])\n",
    "print('Количество отрицательных значений после обработки:', df[df['days_employed'] < 0]['days_employed'].count())"
   ]
  },
  {
   "cell_type": "markdown",
   "id": "3106d2f8-e007-495f-a2db-0dcfa3f20368",
   "metadata": {},
   "source": [
    "Для удобства переведем значения из дней - в года и добавим такой столбец в исходный датафрейм."
   ]
  },
  {
   "cell_type": "code",
   "execution_count": 20,
   "id": "b14ca4da-5fcd-4dda-b9d0-75de52c363d3",
   "metadata": {},
   "outputs": [],
   "source": [
    "df['years_employed'] = df['days_employed']/365"
   ]
  },
  {
   "cell_type": "markdown",
   "id": "98fe6653-2844-4a3c-9438-5a0184251b96",
   "metadata": {},
   "source": [
    "Посмотрим еще раз на описательную статистику стажа, но теперь в годах."
   ]
  },
  {
   "cell_type": "code",
   "execution_count": 21,
   "id": "e0c8d98a-f12d-4292-b598-9370ca910a54",
   "metadata": {},
   "outputs": [
    {
     "data": {
      "text/plain": [
       "count    19351.000000\n",
       "mean       183.328024\n",
       "std        380.906522\n",
       "min          0.066141\n",
       "25%          2.539751\n",
       "50%          6.011563\n",
       "75%         15.172281\n",
       "max       1100.699727\n",
       "Name: years_employed, dtype: float64"
      ]
     },
     "execution_count": 21,
     "metadata": {},
     "output_type": "execute_result"
    }
   ],
   "source": [
    "df['years_employed'].describe()"
   ]
  },
  {
   "cell_type": "markdown",
   "id": "e4287333-d0e7-477e-8e32-823bb156736e",
   "metadata": {},
   "source": [
    "Мы наблюдаем явные выбросы - аномально высокий стаж в 1100 лет, среднее - 183 года, большой разброс в данных с высоким стандартным отклонением. "
   ]
  },
  {
   "cell_type": "markdown",
   "id": "32f62a91-9179-4e91-97d7-a0c52c38f3c3",
   "metadata": {},
   "source": [
    "Посмотрим на раcпределение значений трудового стажа (в годах) по типу занятости. Разобьем значения стажа на 3 корзины и выведем количество клиентов в долях."
   ]
  },
  {
   "cell_type": "code",
   "execution_count": 22,
   "id": "e73876f9-9ff5-46fb-84b5-2586c6261e28",
   "metadata": {},
   "outputs": [
    {
     "data": {
      "text/plain": [
       "income_type      years_employed             \n",
       "безработный      (924.565, 1003.873]            0.50\n",
       "                 (1003.873, 1083.021]           0.50\n",
       "в декрете        (9.022, 9.032]                 1.00\n",
       "                 (9.032, 9.041]                 0.00\n",
       "госслужащий      (0.0669, 20.867]               0.81\n",
       "                 (20.867, 41.625]               0.08\n",
       "компаньон        (0.0335, 24.172]               0.88\n",
       "                 (24.172, 48.262]               0.02\n",
       "пенсионер        (900.426, 1000.663]            0.45\n",
       "                 (1000.663, 1100.7]             0.45\n",
       "предприниматель  (1.425, 1.427]                 0.50\n",
       "                 (1.427, 1.428]                 0.00\n",
       "сотрудник        (0.0148, 25.223]               0.88\n",
       "                 (25.223, 50.381]               0.02\n",
       "студент          (1.5830000000000002, 1.586]    1.00\n",
       "                 (1.586, 1.587]                 0.00\n",
       "Name: years_employed, dtype: float64"
      ]
     },
     "execution_count": 22,
     "metadata": {},
     "output_type": "execute_result"
    }
   ],
   "source": [
    "round(df.groupby('income_type')['years_employed'].value_counts(bins=2, normalize=True), 2)"
   ]
  },
  {
   "cell_type": "markdown",
   "id": "b4c07669-1c54-4a06-9448-153a396cdc91",
   "metadata": {},
   "source": [
    "Среди пенсионеров и безработных наблюдается аномально высокий стаж - в пределах от 900 до 1100 лет."
   ]
  },
  {
   "cell_type": "markdown",
   "id": "be05f9e1-3c5c-42bd-b87d-293ceb8e6c87",
   "metadata": {},
   "source": [
    "Проверим, возможно, по какой-то причине этот стаж указан в других единицах - в часах. \n",
    "Вычислим стаж в годах для пенсионеров и безработных."
   ]
  },
  {
   "cell_type": "code",
   "execution_count": 23,
   "id": "dcef01e5-ec85-48e1-bd7d-9095c8215ed0",
   "metadata": {},
   "outputs": [
    {
     "data": {
      "text/plain": [
       "count    3445.000000\n",
       "mean       41.667159\n",
       "std         2.405824\n",
       "min        37.526110\n",
       "25%        39.570709\n",
       "50%        41.691017\n",
       "75%        43.749594\n",
       "max        45.862489\n",
       "Name: days_employed, dtype: float64"
      ]
     },
     "execution_count": 23,
     "metadata": {},
     "output_type": "execute_result"
    }
   ],
   "source": [
    "(df.query('income_type == \"пенсионер\" or income_type ==  \"безработный\"')['days_employed']/24/365).describe()"
   ]
  },
  {
   "cell_type": "markdown",
   "id": "f7e81448-5802-4c64-bbeb-732b3a64d784",
   "metadata": {},
   "source": [
    "Средний стаж - 41 год. Это правдоподобные значения."
   ]
  },
  {
   "cell_type": "markdown",
   "id": "7d3e267c-5163-4cbb-8936-41997fdf7bb9",
   "metadata": {},
   "source": [
    "Выведем несколько значений для сверки, чтобы проверить значения в days_employed после коррекции."
   ]
  },
  {
   "cell_type": "code",
   "execution_count": 24,
   "id": "0da7709d-ea2f-4de9-98a6-a6c2b13dc37f",
   "metadata": {},
   "outputs": [
    {
     "data": {
      "text/html": [
       "<div>\n",
       "<style scoped>\n",
       "    .dataframe tbody tr th:only-of-type {\n",
       "        vertical-align: middle;\n",
       "    }\n",
       "\n",
       "    .dataframe tbody tr th {\n",
       "        vertical-align: top;\n",
       "    }\n",
       "\n",
       "    .dataframe thead th {\n",
       "        text-align: right;\n",
       "    }\n",
       "</style>\n",
       "<table border=\"1\" class=\"dataframe\">\n",
       "  <thead>\n",
       "    <tr style=\"text-align: right;\">\n",
       "      <th></th>\n",
       "      <th>children</th>\n",
       "      <th>days_employed</th>\n",
       "      <th>dob_years</th>\n",
       "      <th>education</th>\n",
       "      <th>education_id</th>\n",
       "      <th>family_status</th>\n",
       "      <th>family_status_id</th>\n",
       "      <th>gender</th>\n",
       "      <th>income_type</th>\n",
       "      <th>debt</th>\n",
       "      <th>total_income</th>\n",
       "      <th>purpose</th>\n",
       "      <th>years_employed</th>\n",
       "    </tr>\n",
       "  </thead>\n",
       "  <tbody>\n",
       "    <tr>\n",
       "      <th>5650</th>\n",
       "      <td>0</td>\n",
       "      <td>336658.500698</td>\n",
       "      <td>60.0</td>\n",
       "      <td>среднее</td>\n",
       "      <td>1</td>\n",
       "      <td>в разводе</td>\n",
       "      <td>3</td>\n",
       "      <td>F</td>\n",
       "      <td>пенсионер</td>\n",
       "      <td>0</td>\n",
       "      <td>169886.329146</td>\n",
       "      <td>операции с недвижимостью</td>\n",
       "      <td>922.352057</td>\n",
       "    </tr>\n",
       "    <tr>\n",
       "      <th>14798</th>\n",
       "      <td>0</td>\n",
       "      <td>395302.838654</td>\n",
       "      <td>45.0</td>\n",
       "      <td>Высшее</td>\n",
       "      <td>0</td>\n",
       "      <td>гражданский брак</td>\n",
       "      <td>1</td>\n",
       "      <td>F</td>\n",
       "      <td>безработный</td>\n",
       "      <td>0</td>\n",
       "      <td>202722.511368</td>\n",
       "      <td>ремонт жилью</td>\n",
       "      <td>1083.021476</td>\n",
       "    </tr>\n",
       "  </tbody>\n",
       "</table>\n",
       "</div>"
      ],
      "text/plain": [
       "       children  days_employed  dob_years education  education_id  \\\n",
       "5650          0  336658.500698       60.0   среднее             1   \n",
       "14798         0  395302.838654       45.0    Высшее             0   \n",
       "\n",
       "          family_status  family_status_id gender  income_type  debt  \\\n",
       "5650          в разводе                 3      F    пенсионер     0   \n",
       "14798  гражданский брак                 1      F  безработный     0   \n",
       "\n",
       "        total_income                   purpose  years_employed  \n",
       "5650   169886.329146  операции с недвижимостью      922.352057  \n",
       "14798  202722.511368              ремонт жилью     1083.021476  "
      ]
     },
     "execution_count": 24,
     "metadata": {},
     "output_type": "execute_result"
    }
   ],
   "source": [
    "df.loc[[5650, 14798]]"
   ]
  },
  {
   "cell_type": "markdown",
   "id": "e291b72d-22c4-4226-90a8-20a2292c5738",
   "metadata": {},
   "source": [
    "Исправим данные для пенсионеров и безработных - переведем часы в дни и скорректируем новый столбец с годовым стажем."
   ]
  },
  {
   "cell_type": "code",
   "execution_count": 25,
   "id": "d50f1627-af7d-42d0-92b9-a399d2ae67e0",
   "metadata": {},
   "outputs": [],
   "source": [
    "df.loc[(df['income_type'] == 'пенсионер') | (df['income_type'] == 'безработный'), ['days_employed']] = ( df[(df['income_type'] == 'пенсионер') \n",
    "                                                                                                     | (df['income_type'] == 'безработный')]['days_employed']/24 )\n",
    "\n",
    "\n",
    "\n",
    "\n",
    "df.loc[(df['income_type'] == 'пенсионер') | (df['income_type'] == 'безработный'), ['years_employed']] = ( df[(df['income_type'] == 'пенсионер') \n",
    "                                                                                                      | (df['income_type'] == 'безработный')]['days_employed']/365)"
   ]
  },
  {
   "cell_type": "markdown",
   "id": "c4949d30-4153-413b-ad35-df660426db83",
   "metadata": {},
   "source": [
    "Проверим, что у нас получилось."
   ]
  },
  {
   "cell_type": "code",
   "execution_count": 26,
   "id": "05fcae8b-25b5-410d-8b67-9d9725e49a6d",
   "metadata": {},
   "outputs": [
    {
     "data": {
      "text/html": [
       "<div>\n",
       "<style scoped>\n",
       "    .dataframe tbody tr th:only-of-type {\n",
       "        vertical-align: middle;\n",
       "    }\n",
       "\n",
       "    .dataframe tbody tr th {\n",
       "        vertical-align: top;\n",
       "    }\n",
       "\n",
       "    .dataframe thead th {\n",
       "        text-align: right;\n",
       "    }\n",
       "</style>\n",
       "<table border=\"1\" class=\"dataframe\">\n",
       "  <thead>\n",
       "    <tr style=\"text-align: right;\">\n",
       "      <th></th>\n",
       "      <th>children</th>\n",
       "      <th>days_employed</th>\n",
       "      <th>dob_years</th>\n",
       "      <th>education</th>\n",
       "      <th>education_id</th>\n",
       "      <th>family_status</th>\n",
       "      <th>family_status_id</th>\n",
       "      <th>gender</th>\n",
       "      <th>income_type</th>\n",
       "      <th>debt</th>\n",
       "      <th>total_income</th>\n",
       "      <th>purpose</th>\n",
       "      <th>years_employed</th>\n",
       "    </tr>\n",
       "  </thead>\n",
       "  <tbody>\n",
       "    <tr>\n",
       "      <th>5650</th>\n",
       "      <td>0</td>\n",
       "      <td>14027.437529</td>\n",
       "      <td>60.0</td>\n",
       "      <td>среднее</td>\n",
       "      <td>1</td>\n",
       "      <td>в разводе</td>\n",
       "      <td>3</td>\n",
       "      <td>F</td>\n",
       "      <td>пенсионер</td>\n",
       "      <td>0</td>\n",
       "      <td>169886.329146</td>\n",
       "      <td>операции с недвижимостью</td>\n",
       "      <td>38.431336</td>\n",
       "    </tr>\n",
       "    <tr>\n",
       "      <th>14798</th>\n",
       "      <td>0</td>\n",
       "      <td>16470.951611</td>\n",
       "      <td>45.0</td>\n",
       "      <td>Высшее</td>\n",
       "      <td>0</td>\n",
       "      <td>гражданский брак</td>\n",
       "      <td>1</td>\n",
       "      <td>F</td>\n",
       "      <td>безработный</td>\n",
       "      <td>0</td>\n",
       "      <td>202722.511368</td>\n",
       "      <td>ремонт жилью</td>\n",
       "      <td>45.125895</td>\n",
       "    </tr>\n",
       "  </tbody>\n",
       "</table>\n",
       "</div>"
      ],
      "text/plain": [
       "       children  days_employed  dob_years education  education_id  \\\n",
       "5650          0   14027.437529       60.0   среднее             1   \n",
       "14798         0   16470.951611       45.0    Высшее             0   \n",
       "\n",
       "          family_status  family_status_id gender  income_type  debt  \\\n",
       "5650          в разводе                 3      F    пенсионер     0   \n",
       "14798  гражданский брак                 1      F  безработный     0   \n",
       "\n",
       "        total_income                   purpose  years_employed  \n",
       "5650   169886.329146  операции с недвижимостью       38.431336  \n",
       "14798  202722.511368              ремонт жилью       45.125895  "
      ]
     },
     "execution_count": 26,
     "metadata": {},
     "output_type": "execute_result"
    }
   ],
   "source": [
    "df.loc[[5650, 14798]]"
   ]
  },
  {
   "cell_type": "markdown",
   "id": "a80894a6-bad6-448b-af0a-fbd81f5edd1c",
   "metadata": {},
   "source": [
    "Все корректно."
   ]
  },
  {
   "cell_type": "markdown",
   "id": "29d4a44d-f9c1-4e9a-a118-7842f61467dd",
   "metadata": {},
   "source": [
    "Проверим возраст пенсинеров и безработных."
   ]
  },
  {
   "cell_type": "code",
   "execution_count": 27,
   "id": "378db734-d4f3-45ea-9a65-1b3b8977c937",
   "metadata": {},
   "outputs": [
    {
     "data": {
      "text/plain": [
       "count    3858.000000\n",
       "mean       59.276534\n",
       "std         6.436018\n",
       "min        22.000000\n",
       "25%        56.000000\n",
       "50%        60.000000\n",
       "75%        64.000000\n",
       "max        74.000000\n",
       "Name: dob_years, dtype: float64"
      ]
     },
     "execution_count": 27,
     "metadata": {},
     "output_type": "execute_result"
    }
   ],
   "source": [
    "df[(df['income_type'] == 'пенсионер') | (df['income_type'] == 'безработный')]['dob_years'].describe()"
   ]
  },
  {
   "cell_type": "markdown",
   "id": "1052b1b3-8616-4a97-bd08-be26f0f7496a",
   "metadata": {},
   "source": [
    "У нас есть молодые заемщики (минимальный возраст - 22 года) с большим трудовым стажем. Проверим это. Выведем такие строки, где трудовой стаж больше возраста заемщика."
   ]
  },
  {
   "cell_type": "code",
   "execution_count": 28,
   "id": "79fa18e8-bad2-43f0-8938-f14c4b17ad54",
   "metadata": {
    "tags": []
   },
   "outputs": [
    {
     "data": {
      "text/html": [
       "<div>\n",
       "<style scoped>\n",
       "    .dataframe tbody tr th:only-of-type {\n",
       "        vertical-align: middle;\n",
       "    }\n",
       "\n",
       "    .dataframe tbody tr th {\n",
       "        vertical-align: top;\n",
       "    }\n",
       "\n",
       "    .dataframe thead th {\n",
       "        text-align: right;\n",
       "    }\n",
       "</style>\n",
       "<table border=\"1\" class=\"dataframe\">\n",
       "  <thead>\n",
       "    <tr style=\"text-align: right;\">\n",
       "      <th></th>\n",
       "      <th>children</th>\n",
       "      <th>days_employed</th>\n",
       "      <th>dob_years</th>\n",
       "      <th>education</th>\n",
       "      <th>education_id</th>\n",
       "      <th>family_status</th>\n",
       "      <th>family_status_id</th>\n",
       "      <th>gender</th>\n",
       "      <th>income_type</th>\n",
       "      <th>debt</th>\n",
       "      <th>total_income</th>\n",
       "      <th>purpose</th>\n",
       "      <th>years_employed</th>\n",
       "    </tr>\n",
       "  </thead>\n",
       "  <tbody>\n",
       "    <tr>\n",
       "      <th>157</th>\n",
       "      <td>0</td>\n",
       "      <td>14517.251167</td>\n",
       "      <td>38.00000</td>\n",
       "      <td>среднее</td>\n",
       "      <td>1</td>\n",
       "      <td>женат / замужем</td>\n",
       "      <td>0</td>\n",
       "      <td>F</td>\n",
       "      <td>пенсионер</td>\n",
       "      <td>1</td>\n",
       "      <td>113560.650035</td>\n",
       "      <td>сделка с автомобилем</td>\n",
       "      <td>39.773291</td>\n",
       "    </tr>\n",
       "    <tr>\n",
       "      <th>578</th>\n",
       "      <td>0</td>\n",
       "      <td>16577.356876</td>\n",
       "      <td>43.29338</td>\n",
       "      <td>среднее</td>\n",
       "      <td>1</td>\n",
       "      <td>женат / замужем</td>\n",
       "      <td>0</td>\n",
       "      <td>F</td>\n",
       "      <td>пенсионер</td>\n",
       "      <td>0</td>\n",
       "      <td>97620.687042</td>\n",
       "      <td>строительство собственной недвижимости</td>\n",
       "      <td>45.417416</td>\n",
       "    </tr>\n",
       "    <tr>\n",
       "      <th>751</th>\n",
       "      <td>0</td>\n",
       "      <td>16281.477669</td>\n",
       "      <td>41.00000</td>\n",
       "      <td>среднее</td>\n",
       "      <td>1</td>\n",
       "      <td>женат / замужем</td>\n",
       "      <td>0</td>\n",
       "      <td>M</td>\n",
       "      <td>пенсионер</td>\n",
       "      <td>0</td>\n",
       "      <td>151898.693438</td>\n",
       "      <td>операции со своей недвижимостью</td>\n",
       "      <td>44.606788</td>\n",
       "    </tr>\n",
       "    <tr>\n",
       "      <th>776</th>\n",
       "      <td>0</td>\n",
       "      <td>15222.356680</td>\n",
       "      <td>38.00000</td>\n",
       "      <td>среднее</td>\n",
       "      <td>1</td>\n",
       "      <td>женат / замужем</td>\n",
       "      <td>0</td>\n",
       "      <td>F</td>\n",
       "      <td>пенсионер</td>\n",
       "      <td>0</td>\n",
       "      <td>73859.425084</td>\n",
       "      <td>покупка недвижимости</td>\n",
       "      <td>41.705087</td>\n",
       "    </tr>\n",
       "    <tr>\n",
       "      <th>1242</th>\n",
       "      <td>0</td>\n",
       "      <td>13948.510826</td>\n",
       "      <td>22.00000</td>\n",
       "      <td>Среднее</td>\n",
       "      <td>1</td>\n",
       "      <td>Не женат / не замужем</td>\n",
       "      <td>4</td>\n",
       "      <td>F</td>\n",
       "      <td>пенсионер</td>\n",
       "      <td>0</td>\n",
       "      <td>89368.600062</td>\n",
       "      <td>получение высшего образования</td>\n",
       "      <td>38.215098</td>\n",
       "    </tr>\n",
       "  </tbody>\n",
       "</table>\n",
       "</div>"
      ],
      "text/plain": [
       "      children  days_employed  dob_years education  education_id  \\\n",
       "157          0   14517.251167   38.00000   среднее             1   \n",
       "578          0   16577.356876   43.29338   среднее             1   \n",
       "751          0   16281.477669   41.00000   среднее             1   \n",
       "776          0   15222.356680   38.00000   среднее             1   \n",
       "1242         0   13948.510826   22.00000   Среднее             1   \n",
       "\n",
       "              family_status  family_status_id gender income_type  debt  \\\n",
       "157         женат / замужем                 0      F   пенсионер     1   \n",
       "578         женат / замужем                 0      F   пенсионер     0   \n",
       "751         женат / замужем                 0      M   пенсионер     0   \n",
       "776         женат / замужем                 0      F   пенсионер     0   \n",
       "1242  Не женат / не замужем                 4      F   пенсионер     0   \n",
       "\n",
       "       total_income                                 purpose  years_employed  \n",
       "157   113560.650035                    сделка с автомобилем       39.773291  \n",
       "578    97620.687042  строительство собственной недвижимости       45.417416  \n",
       "751   151898.693438         операции со своей недвижимостью       44.606788  \n",
       "776    73859.425084                    покупка недвижимости       41.705087  \n",
       "1242   89368.600062           получение высшего образования       38.215098  "
      ]
     },
     "metadata": {},
     "output_type": "display_data"
    },
    {
     "data": {
      "text/plain": [
       "'Процент заемщиков, у которых трудовой стаж больше возраста: 0.27%'"
      ]
     },
     "execution_count": 28,
     "metadata": {},
     "output_type": "execute_result"
    }
   ],
   "source": [
    "outliners = df[df['years_employed']>= df['dob_years']]\n",
    "display(outliners.head())\n",
    "f'Процент заемщиков, у которых трудовой стаж больше возраста: {len(outliners)/df.shape[0]:.2%}'"
   ]
  },
  {
   "cell_type": "markdown",
   "id": "f702c778-84ec-4d6d-8c51-2cdbd5c55dc8",
   "metadata": {},
   "source": [
    "Это мизерный процент выбросов. Он не повлияет сильно на анализ."
   ]
  },
  {
   "cell_type": "markdown",
   "id": "5677b1d7-4e6d-4146-86db-76f4baedb4ec",
   "metadata": {},
   "source": [
    "#### Столбец gender"
   ]
  },
  {
   "cell_type": "markdown",
   "id": "609a6fbb-a14d-43d9-a95d-4ab80437b323",
   "metadata": {},
   "source": [
    "В столбце `gender` есть значение XNA."
   ]
  },
  {
   "cell_type": "code",
   "execution_count": 29,
   "id": "cc8c86da-ebf7-4b6c-ac5a-bd9ed7295664",
   "metadata": {},
   "outputs": [
    {
     "data": {
      "text/plain": [
       "'Количество значений XNA в столбце с полом: 1'"
      ]
     },
     "execution_count": 29,
     "metadata": {},
     "output_type": "execute_result"
    }
   ],
   "source": [
    "f\"Количество значений XNA в столбце с полом: {df[df['gender'] == 'XNA']['gender'].count()}\""
   ]
  },
  {
   "cell_type": "markdown",
   "id": "c2665638-9648-44d4-9cff-be74b79d0232",
   "metadata": {},
   "source": [
    "Всего лишь одно наблюдение -  можно безболезненно удалить строку из данных."
   ]
  },
  {
   "cell_type": "code",
   "execution_count": 30,
   "id": "92a46e39-c88e-449a-821d-afe6b125fcb9",
   "metadata": {},
   "outputs": [
    {
     "data": {
      "text/plain": [
       "'Количество значений XNA в столбце с полом после удаления строки: 0'"
      ]
     },
     "execution_count": 30,
     "metadata": {},
     "output_type": "execute_result"
    }
   ],
   "source": [
    "df = df.loc[df['gender'] != 'XNA']\n",
    "f\"Количество значений XNA в столбце с полом после удаления строки: {df[df['gender'] == 'XNA']['gender'].count()}\""
   ]
  },
  {
   "cell_type": "markdown",
   "id": "4c04061e-5645-46eb-b3a6-e0a4a7fbe0ef",
   "metadata": {},
   "source": [
    "#### Столбец  family_status"
   ]
  },
  {
   "cell_type": "markdown",
   "id": "3c74086e-d38c-44a3-a6f1-33c9f5ec30bd",
   "metadata": {},
   "source": [
    "Здесь нет артефактов, но исправим разный регистр. \n",
    "\n",
    "В [начале исследования](#intro) мы смотрели на уникальные значения данных для строковых столбцов в датафрейме и обнаружили неявные дубликаты в значениях столбцов 'family_status', 'eduaction'.\n"
   ]
  },
  {
   "cell_type": "code",
   "execution_count": 31,
   "id": "8b7b225c-86f1-47d6-bc6a-18582feb5963",
   "metadata": {},
   "outputs": [
    {
     "data": {
      "text/plain": [
       "женат / замужем          12380\n",
       "гражданский брак          4176\n",
       "Не женат / не замужем     2813\n",
       "в разводе                 1195\n",
       "вдовец / вдова             960\n",
       "Name: family_status, dtype: int64"
      ]
     },
     "execution_count": 31,
     "metadata": {},
     "output_type": "execute_result"
    }
   ],
   "source": [
    "df['family_status'].value_counts()"
   ]
  },
  {
   "cell_type": "markdown",
   "id": "9a106826-f8ee-4cb9-99b4-3bc2468f4b4e",
   "metadata": {},
   "source": [
    "Устраним эту проблему с помощью метода str.lower() и проверим результат."
   ]
  },
  {
   "cell_type": "code",
   "execution_count": 32,
   "id": "f711c978-493b-4b35-9185-ab5e66c63531",
   "metadata": {},
   "outputs": [
    {
     "data": {
      "text/plain": [
       "женат / замужем          12380\n",
       "гражданский брак          4176\n",
       "не женат / не замужем     2813\n",
       "в разводе                 1195\n",
       "вдовец / вдова             960\n",
       "Name: family_status, dtype: int64"
      ]
     },
     "execution_count": 32,
     "metadata": {},
     "output_type": "execute_result"
    }
   ],
   "source": [
    "df['family_status'] = df['family_status'].str.lower()\n",
    "df['family_status'].value_counts()"
   ]
  },
  {
   "cell_type": "markdown",
   "id": "b044fd9d-0531-4dac-849f-f8d987acfb59",
   "metadata": {},
   "source": [
    "#### Столбец education"
   ]
  },
  {
   "cell_type": "markdown",
   "id": "caf38df0-d2cc-4d5b-87a5-0268b7598d6b",
   "metadata": {},
   "source": [
    "Приведем к нижнему регистру все значения в столбце education и тут же проверим результат выполнения метода str.lower()."
   ]
  },
  {
   "cell_type": "code",
   "execution_count": 33,
   "id": "51525b20-255b-497a-8934-87cff060a5ce",
   "metadata": {},
   "outputs": [
    {
     "name": "stdout",
     "output_type": "stream",
     "text": [
      "среднее                15233\n",
      "высшее                  5260\n",
      "неоконченное высшее      743\n",
      "начальное                282\n",
      "ученая степень             6\n",
      "Name: education, dtype: int64\n"
     ]
    }
   ],
   "source": [
    "df['education'] = df['education'].str.lower()\n",
    "print(df['education'].value_counts())"
   ]
  },
  {
   "cell_type": "markdown",
   "id": "3947ef74-152f-4bd3-90a4-5d0028fc9f46",
   "metadata": {},
   "source": [
    "### Обработка пропусков"
   ]
  },
  {
   "cell_type": "markdown",
   "id": "cedae146-ef77-462c-8c69-0c143a657180",
   "metadata": {},
   "source": [
    "[Ранее](#null_values) мы определили количество пропусков в столбцах `days_employed` и `total_income`."
   ]
  },
  {
   "cell_type": "markdown",
   "id": "b9fa0db5-fd52-4d57-ae64-3d6752851a85",
   "metadata": {},
   "source": [
    "Посмотрим на первые 5 строк датафрейма со строками с nan"
   ]
  },
  {
   "cell_type": "code",
   "execution_count": 34,
   "id": "0c17f1dd-9762-462e-a3ed-f2bc9846c9b3",
   "metadata": {},
   "outputs": [
    {
     "data": {
      "text/html": [
       "<div>\n",
       "<style scoped>\n",
       "    .dataframe tbody tr th:only-of-type {\n",
       "        vertical-align: middle;\n",
       "    }\n",
       "\n",
       "    .dataframe tbody tr th {\n",
       "        vertical-align: top;\n",
       "    }\n",
       "\n",
       "    .dataframe thead th {\n",
       "        text-align: right;\n",
       "    }\n",
       "</style>\n",
       "<table border=\"1\" class=\"dataframe\">\n",
       "  <thead>\n",
       "    <tr style=\"text-align: right;\">\n",
       "      <th></th>\n",
       "      <th>children</th>\n",
       "      <th>days_employed</th>\n",
       "      <th>dob_years</th>\n",
       "      <th>education</th>\n",
       "      <th>education_id</th>\n",
       "      <th>family_status</th>\n",
       "      <th>family_status_id</th>\n",
       "      <th>gender</th>\n",
       "      <th>income_type</th>\n",
       "      <th>debt</th>\n",
       "      <th>total_income</th>\n",
       "      <th>purpose</th>\n",
       "      <th>years_employed</th>\n",
       "    </tr>\n",
       "  </thead>\n",
       "  <tbody>\n",
       "    <tr>\n",
       "      <th>12</th>\n",
       "      <td>0</td>\n",
       "      <td>NaN</td>\n",
       "      <td>65.0</td>\n",
       "      <td>среднее</td>\n",
       "      <td>1</td>\n",
       "      <td>гражданский брак</td>\n",
       "      <td>1</td>\n",
       "      <td>M</td>\n",
       "      <td>пенсионер</td>\n",
       "      <td>0</td>\n",
       "      <td>NaN</td>\n",
       "      <td>сыграть свадьбу</td>\n",
       "      <td>NaN</td>\n",
       "    </tr>\n",
       "    <tr>\n",
       "      <th>26</th>\n",
       "      <td>0</td>\n",
       "      <td>NaN</td>\n",
       "      <td>41.0</td>\n",
       "      <td>среднее</td>\n",
       "      <td>1</td>\n",
       "      <td>женат / замужем</td>\n",
       "      <td>0</td>\n",
       "      <td>M</td>\n",
       "      <td>госслужащий</td>\n",
       "      <td>0</td>\n",
       "      <td>NaN</td>\n",
       "      <td>образование</td>\n",
       "      <td>NaN</td>\n",
       "    </tr>\n",
       "    <tr>\n",
       "      <th>29</th>\n",
       "      <td>0</td>\n",
       "      <td>NaN</td>\n",
       "      <td>63.0</td>\n",
       "      <td>среднее</td>\n",
       "      <td>1</td>\n",
       "      <td>не женат / не замужем</td>\n",
       "      <td>4</td>\n",
       "      <td>F</td>\n",
       "      <td>пенсионер</td>\n",
       "      <td>0</td>\n",
       "      <td>NaN</td>\n",
       "      <td>строительство жилой недвижимости</td>\n",
       "      <td>NaN</td>\n",
       "    </tr>\n",
       "    <tr>\n",
       "      <th>41</th>\n",
       "      <td>0</td>\n",
       "      <td>NaN</td>\n",
       "      <td>50.0</td>\n",
       "      <td>среднее</td>\n",
       "      <td>1</td>\n",
       "      <td>женат / замужем</td>\n",
       "      <td>0</td>\n",
       "      <td>F</td>\n",
       "      <td>госслужащий</td>\n",
       "      <td>0</td>\n",
       "      <td>NaN</td>\n",
       "      <td>сделка с подержанным автомобилем</td>\n",
       "      <td>NaN</td>\n",
       "    </tr>\n",
       "    <tr>\n",
       "      <th>55</th>\n",
       "      <td>0</td>\n",
       "      <td>NaN</td>\n",
       "      <td>54.0</td>\n",
       "      <td>среднее</td>\n",
       "      <td>1</td>\n",
       "      <td>гражданский брак</td>\n",
       "      <td>1</td>\n",
       "      <td>F</td>\n",
       "      <td>пенсионер</td>\n",
       "      <td>1</td>\n",
       "      <td>NaN</td>\n",
       "      <td>сыграть свадьбу</td>\n",
       "      <td>NaN</td>\n",
       "    </tr>\n",
       "  </tbody>\n",
       "</table>\n",
       "</div>"
      ],
      "text/plain": [
       "    children  days_employed  dob_years education  education_id  \\\n",
       "12         0            NaN       65.0   среднее             1   \n",
       "26         0            NaN       41.0   среднее             1   \n",
       "29         0            NaN       63.0   среднее             1   \n",
       "41         0            NaN       50.0   среднее             1   \n",
       "55         0            NaN       54.0   среднее             1   \n",
       "\n",
       "            family_status  family_status_id gender  income_type  debt  \\\n",
       "12       гражданский брак                 1      M    пенсионер     0   \n",
       "26        женат / замужем                 0      M  госслужащий     0   \n",
       "29  не женат / не замужем                 4      F    пенсионер     0   \n",
       "41        женат / замужем                 0      F  госслужащий     0   \n",
       "55       гражданский брак                 1      F    пенсионер     1   \n",
       "\n",
       "    total_income                           purpose  years_employed  \n",
       "12           NaN                   сыграть свадьбу             NaN  \n",
       "26           NaN                       образование             NaN  \n",
       "29           NaN  строительство жилой недвижимости             NaN  \n",
       "41           NaN  сделка с подержанным автомобилем             NaN  \n",
       "55           NaN                   сыграть свадьбу             NaN  "
      ]
     },
     "execution_count": 34,
     "metadata": {},
     "output_type": "execute_result"
    }
   ],
   "source": [
    "df[df.isnull().any(axis='columns')].head()"
   ]
  },
  {
   "cell_type": "markdown",
   "id": "195a6f26-cd3d-4361-9bb0-0139afa6587b",
   "metadata": {},
   "source": [
    "Проверим распределение пропусков в столбцах с доходом и стажем, действительно ли оно одинаковое:"
   ]
  },
  {
   "cell_type": "code",
   "execution_count": 35,
   "id": "92015bb9-bdcf-47e1-9ae4-7956cba4b0af",
   "metadata": {},
   "outputs": [
    {
     "data": {
      "text/plain": [
       "2174"
      ]
     },
     "execution_count": 35,
     "metadata": {},
     "output_type": "execute_result"
    }
   ],
   "source": [
    "len(df[df[\"total_income\"].isnull() & df[\"days_employed\"].isnull()])"
   ]
  },
  {
   "cell_type": "markdown",
   "id": "5212f392-0b81-403c-a287-30cf036ec75d",
   "metadata": {},
   "source": [
    "Пропуски в доходе и стаже распределены одинаково и носят неслучайный характер: если человек не работает, то и доход (по крайней мере официальный) не получает."
   ]
  },
  {
   "cell_type": "markdown",
   "id": "f0297a3b-8f37-4b3d-8921-84b39802185d",
   "metadata": {},
   "source": [
    "Посмотрим, как распределяются по типу занятости и полу заемщики с пропущенными данными о доходе и стаже."
   ]
  },
  {
   "cell_type": "code",
   "execution_count": 36,
   "id": "db9dfd3e-df88-42e8-9484-53594ed1d391",
   "metadata": {},
   "outputs": [
    {
     "data": {
      "text/plain": [
       "income_type      gender\n",
       "госслужащий      F         112\n",
       "                 M          35\n",
       "компаньон        F         327\n",
       "                 M         181\n",
       "пенсионер        F         352\n",
       "                 M          61\n",
       "предприниматель  M           1\n",
       "сотрудник        F         693\n",
       "                 M         412\n",
       "Name: gender, dtype: int64"
      ]
     },
     "execution_count": 36,
     "metadata": {},
     "output_type": "execute_result"
    }
   ],
   "source": [
    "df[df[\"total_income\"].isnull() & df[\"days_employed\"].isnull()].groupby('income_type')['gender'].value_counts()"
   ]
  },
  {
   "cell_type": "markdown",
   "id": "b6f788a4-69a8-494d-8a69-fa6fcf07ca17",
   "metadata": {},
   "source": [
    "Это пенсионеры и, может быть, люди в декретном отпуске."
   ]
  },
  {
   "cell_type": "markdown",
   "id": "6a1d8625-70e9-4686-84f8-98a2e3875f83",
   "metadata": {},
   "source": [
    "#### Обработка пропусков в столбце ежемесячного дохода (total_income) <a class=\"tocSkip\">"
   ]
  },
  {
   "cell_type": "markdown",
   "id": "8edd60f6-985c-4859-8536-6ef5c5f392e7",
   "metadata": {},
   "source": [
    "Заменим пропуски в столбце ежемесячного дохода медианой, а не средним, поскольку у нас большой разброс значений в этом столбце."
   ]
  },
  {
   "cell_type": "markdown",
   "id": "e3d1891b-e58b-4e7a-bba7-d3018a03dc93",
   "metadata": {},
   "source": [
    "Сгруппируем данные по типу занятости и посчитаем медиану ежемесячного дохода для каждого типа."
   ]
  },
  {
   "cell_type": "code",
   "execution_count": 37,
   "id": "d263c9d7-f28b-4a35-9168-a2799b9fd0ba",
   "metadata": {},
   "outputs": [
    {
     "data": {
      "text/plain": [
       "income_type\n",
       "безработный        131339.751676\n",
       "в декрете           53829.130729\n",
       "госслужащий        150447.935283\n",
       "компаньон          172319.266339\n",
       "пенсионер          118514.486412\n",
       "предприниматель    499163.144947\n",
       "сотрудник          142594.396847\n",
       "студент             98201.625314\n",
       "Name: total_income, dtype: float64"
      ]
     },
     "execution_count": 37,
     "metadata": {},
     "output_type": "execute_result"
    }
   ],
   "source": [
    "df.groupby('income_type')['total_income'].median()"
   ]
  },
  {
   "cell_type": "markdown",
   "id": "2f555c11-4b96-4547-8d29-c219ad6dd435",
   "metadata": {},
   "source": [
    "Выведем сначала 4 строки с пропусками в доходе и с разным типом занятости, чтобы потом проверить, корректно ли мы заполнили пропуски в столбце."
   ]
  },
  {
   "cell_type": "code",
   "execution_count": 38,
   "id": "4949cc1a-c878-421f-bef3-b4f86a5f119e",
   "metadata": {},
   "outputs": [
    {
     "data": {
      "text/html": [
       "<div>\n",
       "<style scoped>\n",
       "    .dataframe tbody tr th:only-of-type {\n",
       "        vertical-align: middle;\n",
       "    }\n",
       "\n",
       "    .dataframe tbody tr th {\n",
       "        vertical-align: top;\n",
       "    }\n",
       "\n",
       "    .dataframe thead th {\n",
       "        text-align: right;\n",
       "    }\n",
       "</style>\n",
       "<table border=\"1\" class=\"dataframe\">\n",
       "  <thead>\n",
       "    <tr style=\"text-align: right;\">\n",
       "      <th></th>\n",
       "      <th>children</th>\n",
       "      <th>days_employed</th>\n",
       "      <th>dob_years</th>\n",
       "      <th>education</th>\n",
       "      <th>education_id</th>\n",
       "      <th>family_status</th>\n",
       "      <th>family_status_id</th>\n",
       "      <th>gender</th>\n",
       "      <th>income_type</th>\n",
       "      <th>debt</th>\n",
       "      <th>total_income</th>\n",
       "      <th>purpose</th>\n",
       "      <th>years_employed</th>\n",
       "    </tr>\n",
       "  </thead>\n",
       "  <tbody>\n",
       "    <tr>\n",
       "      <th>8963</th>\n",
       "      <td>0</td>\n",
       "      <td>NaN</td>\n",
       "      <td>53.0</td>\n",
       "      <td>высшее</td>\n",
       "      <td>0</td>\n",
       "      <td>гражданский брак</td>\n",
       "      <td>1</td>\n",
       "      <td>F</td>\n",
       "      <td>пенсионер</td>\n",
       "      <td>0</td>\n",
       "      <td>NaN</td>\n",
       "      <td>свой автомобиль</td>\n",
       "      <td>NaN</td>\n",
       "    </tr>\n",
       "    <tr>\n",
       "      <th>13716</th>\n",
       "      <td>0</td>\n",
       "      <td>NaN</td>\n",
       "      <td>26.0</td>\n",
       "      <td>неоконченное высшее</td>\n",
       "      <td>2</td>\n",
       "      <td>женат / замужем</td>\n",
       "      <td>0</td>\n",
       "      <td>F</td>\n",
       "      <td>сотрудник</td>\n",
       "      <td>0</td>\n",
       "      <td>NaN</td>\n",
       "      <td>ремонт жилью</td>\n",
       "      <td>NaN</td>\n",
       "    </tr>\n",
       "    <tr>\n",
       "      <th>10876</th>\n",
       "      <td>1</td>\n",
       "      <td>NaN</td>\n",
       "      <td>34.0</td>\n",
       "      <td>среднее</td>\n",
       "      <td>1</td>\n",
       "      <td>гражданский брак</td>\n",
       "      <td>1</td>\n",
       "      <td>F</td>\n",
       "      <td>компаньон</td>\n",
       "      <td>0</td>\n",
       "      <td>NaN</td>\n",
       "      <td>свадьба</td>\n",
       "      <td>NaN</td>\n",
       "    </tr>\n",
       "    <tr>\n",
       "      <th>12338</th>\n",
       "      <td>0</td>\n",
       "      <td>NaN</td>\n",
       "      <td>34.0</td>\n",
       "      <td>высшее</td>\n",
       "      <td>0</td>\n",
       "      <td>гражданский брак</td>\n",
       "      <td>1</td>\n",
       "      <td>M</td>\n",
       "      <td>госслужащий</td>\n",
       "      <td>0</td>\n",
       "      <td>NaN</td>\n",
       "      <td>сыграть свадьбу</td>\n",
       "      <td>NaN</td>\n",
       "    </tr>\n",
       "  </tbody>\n",
       "</table>\n",
       "</div>"
      ],
      "text/plain": [
       "       children  days_employed  dob_years            education  education_id  \\\n",
       "8963          0            NaN       53.0               высшее             0   \n",
       "13716         0            NaN       26.0  неоконченное высшее             2   \n",
       "10876         1            NaN       34.0              среднее             1   \n",
       "12338         0            NaN       34.0               высшее             0   \n",
       "\n",
       "          family_status  family_status_id gender  income_type  debt  \\\n",
       "8963   гражданский брак                 1      F    пенсионер     0   \n",
       "13716   женат / замужем                 0      F    сотрудник     0   \n",
       "10876  гражданский брак                 1      F    компаньон     0   \n",
       "12338  гражданский брак                 1      M  госслужащий     0   \n",
       "\n",
       "       total_income          purpose  years_employed  \n",
       "8963            NaN  свой автомобиль             NaN  \n",
       "13716           NaN     ремонт жилью             NaN  \n",
       "10876           NaN          свадьба             NaN  \n",
       "12338           NaN  сыграть свадьбу             NaN  "
      ]
     },
     "execution_count": 38,
     "metadata": {},
     "output_type": "execute_result"
    }
   ],
   "source": [
    "df.loc[[8963, 13716, 10876, 12338]]"
   ]
  },
  {
   "cell_type": "markdown",
   "id": "c5ab334e-99e3-476d-994a-b72830045a3c",
   "metadata": {},
   "source": [
    "Применим метод transform, чтобы на ходу посчитать медиану в сгруппированных данных, и заполним пропуски с помощью метода fillna."
   ]
  },
  {
   "cell_type": "code",
   "execution_count": 39,
   "id": "1ea3c8a9-7840-44a6-a54b-0b9ade31b538",
   "metadata": {},
   "outputs": [],
   "source": [
    "df['total_income'] = df['total_income'].fillna(df.groupby('income_type')['total_income'].transform('median'))"
   ]
  },
  {
   "cell_type": "markdown",
   "id": "6e3b4559-93e4-4db0-a022-338002a0ae1b",
   "metadata": {},
   "source": [
    "Проверим, как заполнились пропуски в столбце income_type."
   ]
  },
  {
   "cell_type": "code",
   "execution_count": 40,
   "id": "e142be8e-142b-4798-a224-9c46aca1efbb",
   "metadata": {},
   "outputs": [
    {
     "data": {
      "text/html": [
       "<div>\n",
       "<style scoped>\n",
       "    .dataframe tbody tr th:only-of-type {\n",
       "        vertical-align: middle;\n",
       "    }\n",
       "\n",
       "    .dataframe tbody tr th {\n",
       "        vertical-align: top;\n",
       "    }\n",
       "\n",
       "    .dataframe thead th {\n",
       "        text-align: right;\n",
       "    }\n",
       "</style>\n",
       "<table border=\"1\" class=\"dataframe\">\n",
       "  <thead>\n",
       "    <tr style=\"text-align: right;\">\n",
       "      <th></th>\n",
       "      <th>children</th>\n",
       "      <th>days_employed</th>\n",
       "      <th>dob_years</th>\n",
       "      <th>education</th>\n",
       "      <th>education_id</th>\n",
       "      <th>family_status</th>\n",
       "      <th>family_status_id</th>\n",
       "      <th>gender</th>\n",
       "      <th>income_type</th>\n",
       "      <th>debt</th>\n",
       "      <th>total_income</th>\n",
       "      <th>purpose</th>\n",
       "      <th>years_employed</th>\n",
       "    </tr>\n",
       "  </thead>\n",
       "  <tbody>\n",
       "    <tr>\n",
       "      <th>8963</th>\n",
       "      <td>0</td>\n",
       "      <td>NaN</td>\n",
       "      <td>53.0</td>\n",
       "      <td>высшее</td>\n",
       "      <td>0</td>\n",
       "      <td>гражданский брак</td>\n",
       "      <td>1</td>\n",
       "      <td>F</td>\n",
       "      <td>пенсионер</td>\n",
       "      <td>0</td>\n",
       "      <td>118514.486412</td>\n",
       "      <td>свой автомобиль</td>\n",
       "      <td>NaN</td>\n",
       "    </tr>\n",
       "    <tr>\n",
       "      <th>13716</th>\n",
       "      <td>0</td>\n",
       "      <td>NaN</td>\n",
       "      <td>26.0</td>\n",
       "      <td>неоконченное высшее</td>\n",
       "      <td>2</td>\n",
       "      <td>женат / замужем</td>\n",
       "      <td>0</td>\n",
       "      <td>F</td>\n",
       "      <td>сотрудник</td>\n",
       "      <td>0</td>\n",
       "      <td>142594.396847</td>\n",
       "      <td>ремонт жилью</td>\n",
       "      <td>NaN</td>\n",
       "    </tr>\n",
       "    <tr>\n",
       "      <th>10876</th>\n",
       "      <td>1</td>\n",
       "      <td>NaN</td>\n",
       "      <td>34.0</td>\n",
       "      <td>среднее</td>\n",
       "      <td>1</td>\n",
       "      <td>гражданский брак</td>\n",
       "      <td>1</td>\n",
       "      <td>F</td>\n",
       "      <td>компаньон</td>\n",
       "      <td>0</td>\n",
       "      <td>172319.266339</td>\n",
       "      <td>свадьба</td>\n",
       "      <td>NaN</td>\n",
       "    </tr>\n",
       "    <tr>\n",
       "      <th>12338</th>\n",
       "      <td>0</td>\n",
       "      <td>NaN</td>\n",
       "      <td>34.0</td>\n",
       "      <td>высшее</td>\n",
       "      <td>0</td>\n",
       "      <td>гражданский брак</td>\n",
       "      <td>1</td>\n",
       "      <td>M</td>\n",
       "      <td>госслужащий</td>\n",
       "      <td>0</td>\n",
       "      <td>150447.935283</td>\n",
       "      <td>сыграть свадьбу</td>\n",
       "      <td>NaN</td>\n",
       "    </tr>\n",
       "  </tbody>\n",
       "</table>\n",
       "</div>"
      ],
      "text/plain": [
       "       children  days_employed  dob_years            education  education_id  \\\n",
       "8963          0            NaN       53.0               высшее             0   \n",
       "13716         0            NaN       26.0  неоконченное высшее             2   \n",
       "10876         1            NaN       34.0              среднее             1   \n",
       "12338         0            NaN       34.0               высшее             0   \n",
       "\n",
       "          family_status  family_status_id gender  income_type  debt  \\\n",
       "8963   гражданский брак                 1      F    пенсионер     0   \n",
       "13716   женат / замужем                 0      F    сотрудник     0   \n",
       "10876  гражданский брак                 1      F    компаньон     0   \n",
       "12338  гражданский брак                 1      M  госслужащий     0   \n",
       "\n",
       "        total_income          purpose  years_employed  \n",
       "8963   118514.486412  свой автомобиль             NaN  \n",
       "13716  142594.396847     ремонт жилью             NaN  \n",
       "10876  172319.266339          свадьба             NaN  \n",
       "12338  150447.935283  сыграть свадьбу             NaN  "
      ]
     },
     "execution_count": 40,
     "metadata": {},
     "output_type": "execute_result"
    }
   ],
   "source": [
    "df.loc[[8963, 13716, 10876, 12338]]"
   ]
  },
  {
   "cell_type": "markdown",
   "id": "d6fb487a-9302-4773-bcef-15e7f93fe7ba",
   "metadata": {},
   "source": [
    "Проверим, не осталось ли у нас пропусков в столбце income_type"
   ]
  },
  {
   "cell_type": "code",
   "execution_count": 41,
   "id": "74ad650c-ea4d-4e18-8017-3b798c7197c3",
   "metadata": {},
   "outputs": [
    {
     "data": {
      "text/plain": [
       "0"
      ]
     },
     "execution_count": 41,
     "metadata": {},
     "output_type": "execute_result"
    }
   ],
   "source": [
    "df['total_income'].isna().sum()"
   ]
  },
  {
   "cell_type": "markdown",
   "id": "582a2f5a-2c6f-4529-b2d2-6d8106db45d0",
   "metadata": {},
   "source": [
    "#### Обработка пропусков в столбце трудового стажа (days_employed) <a class=\"tocSkip\">"
   ]
  },
  {
   "cell_type": "markdown",
   "id": "8f302aae-8dac-46b9-850e-6126d3dc41f8",
   "metadata": {},
   "source": [
    "Заполним пропуски в столбце со стажем значением медианы в зависимости от возрастной группы клиента. "
   ]
  },
  {
   "cell_type": "markdown",
   "id": "37d4a6ee-5105-464a-97a6-18fdff56a3db",
   "metadata": {},
   "source": [
    "##### Категоризация данных о возрасте заемщиков"
   ]
  },
  {
   "cell_type": "markdown",
   "id": "f8bc6918-379d-45fc-b4d8-288b842e8f87",
   "metadata": {},
   "source": [
    "Сначала распределим заемщиков по возрастным группам. Для этого создадим функцию для категоризации данных о возрасте клиентов."
   ]
  },
  {
   "cell_type": "code",
   "execution_count": 42,
   "id": "7c5e4e5b-b165-401c-b20f-7cb1a22dd811",
   "metadata": {},
   "outputs": [],
   "source": [
    "# Функция для категоризации данных о возрасте клиентов\n",
    "\n",
    "'''\n",
    "Функция берет на вход возраст клиента - возвращает возрастную группу по значению возраста age, используя правила:\n",
    "    - ранний возраст (19 - 30)\n",
    "    - средний возраст (30 - 40)\n",
    "    - поздний возраст (40 - 59)\n",
    "    - пенсионный возраст (60 и старше)\n",
    "\n",
    "'''\n",
    "\n",
    "def get_age_group(age):\n",
    "    if 30 > age >= 19:\n",
    "        return 'ранний возраст'\n",
    "    elif 40 > age >=30:\n",
    "        return 'средний возраст' \n",
    "    elif 59 >= age >=40:\n",
    "        return 'поздний возраст'\n",
    "    else:\n",
    "        return 'пенсионный возраст'\n",
    "        "
   ]
  },
  {
   "cell_type": "code",
   "execution_count": 43,
   "id": "234aa200-0d52-427b-933e-4622837d8503",
   "metadata": {},
   "outputs": [
    {
     "data": {
      "text/plain": [
       "'пенсионный возраст'"
      ]
     },
     "execution_count": 43,
     "metadata": {},
     "output_type": "execute_result"
    }
   ],
   "source": [
    "#Протестируем нашу функцию client_age_group на отдельном значении:\n",
    "get_age_group(60)"
   ]
  },
  {
   "cell_type": "markdown",
   "id": "860425e4-df87-4f0e-8368-e4caba085c9d",
   "metadata": {},
   "source": [
    "C помощью метода apply применим функцию get_age_group к столбцу `dob_years`, результат отбработки функции записываем в новый столбец \n",
    "`age_group`."
   ]
  },
  {
   "cell_type": "code",
   "execution_count": 44,
   "id": "46804c9b-8cf4-48f8-924d-dca9266173d9",
   "metadata": {},
   "outputs": [],
   "source": [
    "df['age_group'] = df['dob_years'].apply(get_age_group)"
   ]
  },
  {
   "cell_type": "markdown",
   "id": "bfc66720-9ec7-4a9b-9bfb-c17fe83d55b8",
   "metadata": {},
   "source": [
    "Посмотрим на результаты - выведем 5 случайных строк датафрейма."
   ]
  },
  {
   "cell_type": "code",
   "execution_count": 45,
   "id": "22fbfaba-93c0-4aee-ad1a-e922bc68932e",
   "metadata": {},
   "outputs": [
    {
     "data": {
      "text/html": [
       "<div>\n",
       "<style scoped>\n",
       "    .dataframe tbody tr th:only-of-type {\n",
       "        vertical-align: middle;\n",
       "    }\n",
       "\n",
       "    .dataframe tbody tr th {\n",
       "        vertical-align: top;\n",
       "    }\n",
       "\n",
       "    .dataframe thead th {\n",
       "        text-align: right;\n",
       "    }\n",
       "</style>\n",
       "<table border=\"1\" class=\"dataframe\">\n",
       "  <thead>\n",
       "    <tr style=\"text-align: right;\">\n",
       "      <th></th>\n",
       "      <th>children</th>\n",
       "      <th>days_employed</th>\n",
       "      <th>dob_years</th>\n",
       "      <th>education</th>\n",
       "      <th>education_id</th>\n",
       "      <th>family_status</th>\n",
       "      <th>family_status_id</th>\n",
       "      <th>gender</th>\n",
       "      <th>income_type</th>\n",
       "      <th>debt</th>\n",
       "      <th>total_income</th>\n",
       "      <th>purpose</th>\n",
       "      <th>years_employed</th>\n",
       "      <th>age_group</th>\n",
       "    </tr>\n",
       "  </thead>\n",
       "  <tbody>\n",
       "    <tr>\n",
       "      <th>16587</th>\n",
       "      <td>1</td>\n",
       "      <td>14965.817769</td>\n",
       "      <td>50.0</td>\n",
       "      <td>среднее</td>\n",
       "      <td>1</td>\n",
       "      <td>гражданский брак</td>\n",
       "      <td>1</td>\n",
       "      <td>F</td>\n",
       "      <td>пенсионер</td>\n",
       "      <td>0</td>\n",
       "      <td>115290.905764</td>\n",
       "      <td>операции с жильем</td>\n",
       "      <td>41.002240</td>\n",
       "      <td>поздний возраст</td>\n",
       "    </tr>\n",
       "    <tr>\n",
       "      <th>2438</th>\n",
       "      <td>0</td>\n",
       "      <td>14222.261144</td>\n",
       "      <td>57.0</td>\n",
       "      <td>среднее</td>\n",
       "      <td>1</td>\n",
       "      <td>женат / замужем</td>\n",
       "      <td>0</td>\n",
       "      <td>F</td>\n",
       "      <td>пенсионер</td>\n",
       "      <td>0</td>\n",
       "      <td>162490.548954</td>\n",
       "      <td>профильное образование</td>\n",
       "      <td>38.965099</td>\n",
       "      <td>поздний возраст</td>\n",
       "    </tr>\n",
       "    <tr>\n",
       "      <th>11347</th>\n",
       "      <td>0</td>\n",
       "      <td>2412.592209</td>\n",
       "      <td>26.0</td>\n",
       "      <td>высшее</td>\n",
       "      <td>0</td>\n",
       "      <td>гражданский брак</td>\n",
       "      <td>1</td>\n",
       "      <td>M</td>\n",
       "      <td>госслужащий</td>\n",
       "      <td>0</td>\n",
       "      <td>205568.828070</td>\n",
       "      <td>на проведение свадьбы</td>\n",
       "      <td>6.609842</td>\n",
       "      <td>ранний возраст</td>\n",
       "    </tr>\n",
       "    <tr>\n",
       "      <th>8504</th>\n",
       "      <td>0</td>\n",
       "      <td>5841.812213</td>\n",
       "      <td>46.0</td>\n",
       "      <td>среднее</td>\n",
       "      <td>1</td>\n",
       "      <td>гражданский брак</td>\n",
       "      <td>1</td>\n",
       "      <td>F</td>\n",
       "      <td>сотрудник</td>\n",
       "      <td>0</td>\n",
       "      <td>138665.848773</td>\n",
       "      <td>на проведение свадьбы</td>\n",
       "      <td>16.004965</td>\n",
       "      <td>поздний возраст</td>\n",
       "    </tr>\n",
       "    <tr>\n",
       "      <th>2640</th>\n",
       "      <td>2</td>\n",
       "      <td>2459.915170</td>\n",
       "      <td>35.0</td>\n",
       "      <td>среднее</td>\n",
       "      <td>1</td>\n",
       "      <td>женат / замужем</td>\n",
       "      <td>0</td>\n",
       "      <td>F</td>\n",
       "      <td>госслужащий</td>\n",
       "      <td>0</td>\n",
       "      <td>64001.658231</td>\n",
       "      <td>дополнительное образование</td>\n",
       "      <td>6.739494</td>\n",
       "      <td>средний возраст</td>\n",
       "    </tr>\n",
       "  </tbody>\n",
       "</table>\n",
       "</div>"
      ],
      "text/plain": [
       "       children  days_employed  dob_years education  education_id  \\\n",
       "16587         1   14965.817769       50.0   среднее             1   \n",
       "2438          0   14222.261144       57.0   среднее             1   \n",
       "11347         0    2412.592209       26.0    высшее             0   \n",
       "8504          0    5841.812213       46.0   среднее             1   \n",
       "2640          2    2459.915170       35.0   среднее             1   \n",
       "\n",
       "          family_status  family_status_id gender  income_type  debt  \\\n",
       "16587  гражданский брак                 1      F    пенсионер     0   \n",
       "2438    женат / замужем                 0      F    пенсионер     0   \n",
       "11347  гражданский брак                 1      M  госслужащий     0   \n",
       "8504   гражданский брак                 1      F    сотрудник     0   \n",
       "2640    женат / замужем                 0      F  госслужащий     0   \n",
       "\n",
       "        total_income                     purpose  years_employed  \\\n",
       "16587  115290.905764           операции с жильем       41.002240   \n",
       "2438   162490.548954      профильное образование       38.965099   \n",
       "11347  205568.828070       на проведение свадьбы        6.609842   \n",
       "8504   138665.848773       на проведение свадьбы       16.004965   \n",
       "2640    64001.658231  дополнительное образование        6.739494   \n",
       "\n",
       "             age_group  \n",
       "16587  поздний возраст  \n",
       "2438   поздний возраст  \n",
       "11347   ранний возраст  \n",
       "8504   поздний возраст  \n",
       "2640   средний возраст  "
      ]
     },
     "execution_count": 45,
     "metadata": {},
     "output_type": "execute_result"
    }
   ],
   "source": [
    "df.sample(5)"
   ]
  },
  {
   "cell_type": "markdown",
   "id": "8afb9006-7d78-41c1-b701-572ea4fddc77",
   "metadata": {},
   "source": [
    "Функция отработала корректно."
   ]
  },
  {
   "cell_type": "markdown",
   "id": "1025ece1-60e7-46cb-9b1e-c9fbd1e4b94a",
   "metadata": {},
   "source": [
    "Выведем сначала 4 строки с пропусками в стаже и с разными возрастными категориями, чтобы потом проверить, корректно ли мы заполнили пропуски в столбце. "
   ]
  },
  {
   "cell_type": "code",
   "execution_count": 46,
   "id": "4663f22f-3d5c-4bf1-a6b4-fc8caeb4e087",
   "metadata": {},
   "outputs": [
    {
     "data": {
      "text/html": [
       "<div>\n",
       "<style scoped>\n",
       "    .dataframe tbody tr th:only-of-type {\n",
       "        vertical-align: middle;\n",
       "    }\n",
       "\n",
       "    .dataframe tbody tr th {\n",
       "        vertical-align: top;\n",
       "    }\n",
       "\n",
       "    .dataframe thead th {\n",
       "        text-align: right;\n",
       "    }\n",
       "</style>\n",
       "<table border=\"1\" class=\"dataframe\">\n",
       "  <thead>\n",
       "    <tr style=\"text-align: right;\">\n",
       "      <th></th>\n",
       "      <th>children</th>\n",
       "      <th>days_employed</th>\n",
       "      <th>dob_years</th>\n",
       "      <th>education</th>\n",
       "      <th>education_id</th>\n",
       "      <th>family_status</th>\n",
       "      <th>family_status_id</th>\n",
       "      <th>gender</th>\n",
       "      <th>income_type</th>\n",
       "      <th>debt</th>\n",
       "      <th>total_income</th>\n",
       "      <th>purpose</th>\n",
       "      <th>years_employed</th>\n",
       "      <th>age_group</th>\n",
       "    </tr>\n",
       "  </thead>\n",
       "  <tbody>\n",
       "    <tr>\n",
       "      <th>12</th>\n",
       "      <td>0</td>\n",
       "      <td>NaN</td>\n",
       "      <td>65.0</td>\n",
       "      <td>среднее</td>\n",
       "      <td>1</td>\n",
       "      <td>гражданский брак</td>\n",
       "      <td>1</td>\n",
       "      <td>M</td>\n",
       "      <td>пенсионер</td>\n",
       "      <td>0</td>\n",
       "      <td>118514.486412</td>\n",
       "      <td>сыграть свадьбу</td>\n",
       "      <td>NaN</td>\n",
       "      <td>пенсионный возраст</td>\n",
       "    </tr>\n",
       "    <tr>\n",
       "      <th>26</th>\n",
       "      <td>0</td>\n",
       "      <td>NaN</td>\n",
       "      <td>41.0</td>\n",
       "      <td>среднее</td>\n",
       "      <td>1</td>\n",
       "      <td>женат / замужем</td>\n",
       "      <td>0</td>\n",
       "      <td>M</td>\n",
       "      <td>госслужащий</td>\n",
       "      <td>0</td>\n",
       "      <td>150447.935283</td>\n",
       "      <td>образование</td>\n",
       "      <td>NaN</td>\n",
       "      <td>поздний возраст</td>\n",
       "    </tr>\n",
       "    <tr>\n",
       "      <th>21510</th>\n",
       "      <td>2</td>\n",
       "      <td>NaN</td>\n",
       "      <td>28.0</td>\n",
       "      <td>среднее</td>\n",
       "      <td>1</td>\n",
       "      <td>женат / замужем</td>\n",
       "      <td>0</td>\n",
       "      <td>F</td>\n",
       "      <td>сотрудник</td>\n",
       "      <td>0</td>\n",
       "      <td>142594.396847</td>\n",
       "      <td>приобретение автомобиля</td>\n",
       "      <td>NaN</td>\n",
       "      <td>ранний возраст</td>\n",
       "    </tr>\n",
       "    <tr>\n",
       "      <th>17242</th>\n",
       "      <td>1</td>\n",
       "      <td>NaN</td>\n",
       "      <td>32.0</td>\n",
       "      <td>среднее</td>\n",
       "      <td>1</td>\n",
       "      <td>гражданский брак</td>\n",
       "      <td>1</td>\n",
       "      <td>F</td>\n",
       "      <td>сотрудник</td>\n",
       "      <td>0</td>\n",
       "      <td>142594.396847</td>\n",
       "      <td>жилье</td>\n",
       "      <td>NaN</td>\n",
       "      <td>средний возраст</td>\n",
       "    </tr>\n",
       "  </tbody>\n",
       "</table>\n",
       "</div>"
      ],
      "text/plain": [
       "       children  days_employed  dob_years education  education_id  \\\n",
       "12            0            NaN       65.0   среднее             1   \n",
       "26            0            NaN       41.0   среднее             1   \n",
       "21510         2            NaN       28.0   среднее             1   \n",
       "17242         1            NaN       32.0   среднее             1   \n",
       "\n",
       "          family_status  family_status_id gender  income_type  debt  \\\n",
       "12     гражданский брак                 1      M    пенсионер     0   \n",
       "26      женат / замужем                 0      M  госслужащий     0   \n",
       "21510   женат / замужем                 0      F    сотрудник     0   \n",
       "17242  гражданский брак                 1      F    сотрудник     0   \n",
       "\n",
       "        total_income                  purpose  years_employed  \\\n",
       "12     118514.486412          сыграть свадьбу             NaN   \n",
       "26     150447.935283              образование             NaN   \n",
       "21510  142594.396847  приобретение автомобиля             NaN   \n",
       "17242  142594.396847                    жилье             NaN   \n",
       "\n",
       "                age_group  \n",
       "12     пенсионный возраст  \n",
       "26        поздний возраст  \n",
       "21510      ранний возраст  \n",
       "17242     средний возраст  "
      ]
     },
     "execution_count": 46,
     "metadata": {},
     "output_type": "execute_result"
    }
   ],
   "source": [
    "df.loc[[12,26,21510,17242]]"
   ]
  },
  {
   "cell_type": "markdown",
   "id": "795820a6-c0f7-4679-88e0-4f323485b898",
   "metadata": {},
   "source": [
    "Более внимательно изучим данные о трудовом стаже в годах."
   ]
  },
  {
   "cell_type": "code",
   "execution_count": 47,
   "id": "9763251f-dca9-4e28-99e3-a709b8df8f34",
   "metadata": {
    "tags": []
   },
   "outputs": [
    {
     "data": {
      "text/plain": [
       "count    19350.000000\n",
       "mean        12.717148\n",
       "std         14.674185\n",
       "min          0.066141\n",
       "25%          2.539700\n",
       "50%          6.011558\n",
       "75%         15.173762\n",
       "max         50.380685\n",
       "Name: years_employed, dtype: float64"
      ]
     },
     "execution_count": 47,
     "metadata": {},
     "output_type": "execute_result"
    }
   ],
   "source": [
    "df['years_employed'].describe()"
   ]
  },
  {
   "cell_type": "markdown",
   "id": "f346c772-c63a-414d-b245-e935be775f18",
   "metadata": {},
   "source": [
    "Разброс в данных большой - будем использовать медиану для заполнения пропусков в данном столбце в зависимости от возраста заемщика."
   ]
  },
  {
   "cell_type": "markdown",
   "id": "8a941d74-d4c4-42ff-b927-1dc880db2fea",
   "metadata": {},
   "source": [
    "Выведем медиану стажа в днях и годах для каждой возрастной группы, чтобы потом проверить, корректно ли мы заполними пропуски."
   ]
  },
  {
   "cell_type": "code",
   "execution_count": 48,
   "id": "37bda851-8ca6-45c7-8838-9aae0a420e0e",
   "metadata": {},
   "outputs": [
    {
     "data": {
      "text/plain": [
       "age_group\n",
       "пенсионный возраст    40.589871\n",
       "поздний возраст        7.782670\n",
       "ранний возраст         2.736882\n",
       "средний возраст        4.388450\n",
       "Name: years_employed, dtype: float64"
      ]
     },
     "execution_count": 48,
     "metadata": {},
     "output_type": "execute_result"
    }
   ],
   "source": [
    "df.groupby('age_group')['years_employed'].median()"
   ]
  },
  {
   "cell_type": "code",
   "execution_count": 49,
   "id": "8f4db3cd-eb2c-470c-9977-b6b992a685f2",
   "metadata": {},
   "outputs": [
    {
     "data": {
      "text/plain": [
       "age_group\n",
       "пенсионный возраст    14815.302792\n",
       "поздний возраст        2840.674560\n",
       "ранний возраст          998.961907\n",
       "средний возраст        1601.784231\n",
       "Name: days_employed, dtype: float64"
      ]
     },
     "execution_count": 49,
     "metadata": {},
     "output_type": "execute_result"
    }
   ],
   "source": [
    "df.groupby('age_group')['days_employed'].median()"
   ]
  },
  {
   "cell_type": "markdown",
   "id": "3e686f35-c099-43bf-b3a1-042bddb3fd9d",
   "metadata": {},
   "source": [
    "Сгруппируем данные по возрастным категориям, посчитаем медиану стажа в каждой и через метод transform подадим в метод fillna. \n",
    "\n",
    "Заполним таким образом пропуски в обоих столбцах со стажем - в днях и годах."
   ]
  },
  {
   "cell_type": "code",
   "execution_count": 50,
   "id": "f62caa80-5171-4633-ba21-a7e7d832bde0",
   "metadata": {},
   "outputs": [],
   "source": [
    "df['days_employed'] = df['days_employed'].fillna(df.groupby(['age_group'])['days_employed'].transform('median'))\n",
    "df['years_employed'] = df['years_employed'].fillna(df.groupby(['age_group'])['years_employed'].transform('median'))"
   ]
  },
  {
   "cell_type": "markdown",
   "id": "5b71c271-011b-47e5-83c2-bff0b62ca083",
   "metadata": {},
   "source": [
    "Проверим строки с пропусками по разным возрастным категориям, которые мы ранее отфильтровали."
   ]
  },
  {
   "cell_type": "code",
   "execution_count": 51,
   "id": "26d38d5f-8e62-4e9e-81e3-2516a36c3f5a",
   "metadata": {},
   "outputs": [
    {
     "data": {
      "text/html": [
       "<div>\n",
       "<style scoped>\n",
       "    .dataframe tbody tr th:only-of-type {\n",
       "        vertical-align: middle;\n",
       "    }\n",
       "\n",
       "    .dataframe tbody tr th {\n",
       "        vertical-align: top;\n",
       "    }\n",
       "\n",
       "    .dataframe thead th {\n",
       "        text-align: right;\n",
       "    }\n",
       "</style>\n",
       "<table border=\"1\" class=\"dataframe\">\n",
       "  <thead>\n",
       "    <tr style=\"text-align: right;\">\n",
       "      <th></th>\n",
       "      <th>children</th>\n",
       "      <th>days_employed</th>\n",
       "      <th>dob_years</th>\n",
       "      <th>education</th>\n",
       "      <th>education_id</th>\n",
       "      <th>family_status</th>\n",
       "      <th>family_status_id</th>\n",
       "      <th>gender</th>\n",
       "      <th>income_type</th>\n",
       "      <th>debt</th>\n",
       "      <th>total_income</th>\n",
       "      <th>purpose</th>\n",
       "      <th>years_employed</th>\n",
       "      <th>age_group</th>\n",
       "    </tr>\n",
       "  </thead>\n",
       "  <tbody>\n",
       "    <tr>\n",
       "      <th>12</th>\n",
       "      <td>0</td>\n",
       "      <td>14815.302792</td>\n",
       "      <td>65.0</td>\n",
       "      <td>среднее</td>\n",
       "      <td>1</td>\n",
       "      <td>гражданский брак</td>\n",
       "      <td>1</td>\n",
       "      <td>M</td>\n",
       "      <td>пенсионер</td>\n",
       "      <td>0</td>\n",
       "      <td>118514.486412</td>\n",
       "      <td>сыграть свадьбу</td>\n",
       "      <td>40.589871</td>\n",
       "      <td>пенсионный возраст</td>\n",
       "    </tr>\n",
       "    <tr>\n",
       "      <th>26</th>\n",
       "      <td>0</td>\n",
       "      <td>2840.674560</td>\n",
       "      <td>41.0</td>\n",
       "      <td>среднее</td>\n",
       "      <td>1</td>\n",
       "      <td>женат / замужем</td>\n",
       "      <td>0</td>\n",
       "      <td>M</td>\n",
       "      <td>госслужащий</td>\n",
       "      <td>0</td>\n",
       "      <td>150447.935283</td>\n",
       "      <td>образование</td>\n",
       "      <td>7.782670</td>\n",
       "      <td>поздний возраст</td>\n",
       "    </tr>\n",
       "    <tr>\n",
       "      <th>21510</th>\n",
       "      <td>2</td>\n",
       "      <td>998.961907</td>\n",
       "      <td>28.0</td>\n",
       "      <td>среднее</td>\n",
       "      <td>1</td>\n",
       "      <td>женат / замужем</td>\n",
       "      <td>0</td>\n",
       "      <td>F</td>\n",
       "      <td>сотрудник</td>\n",
       "      <td>0</td>\n",
       "      <td>142594.396847</td>\n",
       "      <td>приобретение автомобиля</td>\n",
       "      <td>2.736882</td>\n",
       "      <td>ранний возраст</td>\n",
       "    </tr>\n",
       "    <tr>\n",
       "      <th>17242</th>\n",
       "      <td>1</td>\n",
       "      <td>1601.784231</td>\n",
       "      <td>32.0</td>\n",
       "      <td>среднее</td>\n",
       "      <td>1</td>\n",
       "      <td>гражданский брак</td>\n",
       "      <td>1</td>\n",
       "      <td>F</td>\n",
       "      <td>сотрудник</td>\n",
       "      <td>0</td>\n",
       "      <td>142594.396847</td>\n",
       "      <td>жилье</td>\n",
       "      <td>4.388450</td>\n",
       "      <td>средний возраст</td>\n",
       "    </tr>\n",
       "  </tbody>\n",
       "</table>\n",
       "</div>"
      ],
      "text/plain": [
       "       children  days_employed  dob_years education  education_id  \\\n",
       "12            0   14815.302792       65.0   среднее             1   \n",
       "26            0    2840.674560       41.0   среднее             1   \n",
       "21510         2     998.961907       28.0   среднее             1   \n",
       "17242         1    1601.784231       32.0   среднее             1   \n",
       "\n",
       "          family_status  family_status_id gender  income_type  debt  \\\n",
       "12     гражданский брак                 1      M    пенсионер     0   \n",
       "26      женат / замужем                 0      M  госслужащий     0   \n",
       "21510   женат / замужем                 0      F    сотрудник     0   \n",
       "17242  гражданский брак                 1      F    сотрудник     0   \n",
       "\n",
       "        total_income                  purpose  years_employed  \\\n",
       "12     118514.486412          сыграть свадьбу       40.589871   \n",
       "26     150447.935283              образование        7.782670   \n",
       "21510  142594.396847  приобретение автомобиля        2.736882   \n",
       "17242  142594.396847                    жилье        4.388450   \n",
       "\n",
       "                age_group  \n",
       "12     пенсионный возраст  \n",
       "26        поздний возраст  \n",
       "21510      ранний возраст  \n",
       "17242     средний возраст  "
      ]
     },
     "execution_count": 51,
     "metadata": {},
     "output_type": "execute_result"
    }
   ],
   "source": [
    "df.loc[[12,26,21510,17242]]"
   ]
  },
  {
   "cell_type": "markdown",
   "id": "bf75569b-472e-440f-a3bb-a3d96f6e3dc9",
   "metadata": {},
   "source": [
    "Мы корректно заполнили пропуски в столбцах со стажем."
   ]
  },
  {
   "cell_type": "markdown",
   "id": "556fe23c-89c2-467c-a6c7-17447c139fe4",
   "metadata": {},
   "source": [
    "Подсчитаем пропуски в нашем датафрейме - проверим результаты."
   ]
  },
  {
   "cell_type": "code",
   "execution_count": 52,
   "id": "79673a5b-174b-45e9-86f6-e50be8fac9e1",
   "metadata": {},
   "outputs": [
    {
     "data": {
      "text/plain": [
       "children            0\n",
       "days_employed       0\n",
       "dob_years           0\n",
       "education           0\n",
       "education_id        0\n",
       "family_status       0\n",
       "family_status_id    0\n",
       "gender              0\n",
       "income_type         0\n",
       "debt                0\n",
       "total_income        0\n",
       "purpose             0\n",
       "years_employed      0\n",
       "age_group           0\n",
       "dtype: int64"
      ]
     },
     "execution_count": 52,
     "metadata": {},
     "output_type": "execute_result"
    }
   ],
   "source": [
    "df.isna().sum()"
   ]
  },
  {
   "cell_type": "markdown",
   "id": "83a6fcca-c9e8-42e9-9ad4-a6380f1f5636",
   "metadata": {},
   "source": [
    "### Вывод"
   ]
  },
  {
   "cell_type": "markdown",
   "id": "4fbc9c9e-bcc3-4a50-8ddc-cde9588dc453",
   "metadata": {},
   "source": [
    "<div style=\"border:solid green 2px; padding: 20px\">\n",
    "\n",
    "* В ходе анализа выяснилось, что данные о трудовом стаже пенсионеров и безработных были представлены не в днях, а часах. Проблема устранена: эти значения переведены в дни.\n",
    "    \n",
    "* Для удобства анализа данных о стаже добавлен столбец `years_employed` (стаж в годах).\n",
    "    \n",
    "* Ежемесячный доход и трудовой стаж  — это количественные переменные. \n",
    "Пропуски в таких переменных, как правило, заполняют характерными значениями в выборке. Для типичных значений мы взяли **медиану**, потому что она позволяет избежать влияния выбросов в данных при расчетах. \n",
    "\n",
    "* Были категоризированы данные о возрасте заемщиков (добавлен столбец `age_group`). Выделены 4 группы заемщиков: пенсионный возраст (60 лет и старше) , поздний возраст (40 - 59 лет), средний возраст (30 - 40 лет), ранний возраст (19 - 30 лет). \n",
    "    \n",
    "* Заполнены пропуски в столбце total_income значением медианы в зависимости от типа занятости. \n",
    "А в столбце трудового стажа - медианой в зависимости от возрастной группы.\n",
    "    \n",
    "* Стоит отметить, что пропущенные значения в трудовом стаже не влияют на результаты данного исследования, однако пропуски обработаны и в этом столбце, чтобы была возможность использовать данные для возможных дальнейших исследований. \n",
    "    \n",
    "* Возможно, стоит обратить внимание разработчиков на проблему отрицательных значений в days_employed (предположительно, при подготовке и вычислении данных разработчики перепутали местами даты начала трудовой деятельности и текущий (или последний) день работы)."
   ]
  },
  {
   "cell_type": "markdown",
   "id": "078e2ffd-54bb-4793-8e56-733770f90a78",
   "metadata": {},
   "source": [
    "### Замена типа данных"
   ]
  },
  {
   "cell_type": "markdown",
   "id": "f7352c36-0835-4fad-bd3c-7ebc84e27846",
   "metadata": {},
   "source": [
    "Посмотрим на типы данных в нашем датафрейме."
   ]
  },
  {
   "cell_type": "code",
   "execution_count": 53,
   "id": "42a3cb23-d4d9-4471-9a47-c0bc4993ca3b",
   "metadata": {},
   "outputs": [
    {
     "data": {
      "text/plain": [
       "children              int64\n",
       "days_employed       float64\n",
       "dob_years           float64\n",
       "education            object\n",
       "education_id          int64\n",
       "family_status        object\n",
       "family_status_id      int64\n",
       "gender               object\n",
       "income_type          object\n",
       "debt                  int64\n",
       "total_income        float64\n",
       "purpose              object\n",
       "years_employed      float64\n",
       "age_group            object\n",
       "dtype: object"
      ]
     },
     "execution_count": 53,
     "metadata": {},
     "output_type": "execute_result"
    }
   ],
   "source": [
    "df.dtypes"
   ]
  },
  {
   "cell_type": "markdown",
   "id": "bb162172-398f-4e7c-9cf7-ba2d7df95a16",
   "metadata": {},
   "source": [
    "Заменим числа с плавающей точкой на целые для столбцов days_employed, dob_years, total_income \n",
    "\n",
    "с помощью метода astype и словаря, где ключ - название столбца, а значение - тип данных"
   ]
  },
  {
   "cell_type": "code",
   "execution_count": 54,
   "id": "43e18500-164e-4fae-b513-db5a02b65c08",
   "metadata": {
    "tags": []
   },
   "outputs": [
    {
     "name": "stdout",
     "output_type": "stream",
     "text": [
      "Типы данных в датафрейме после замены: \n",
      "\n",
      "children             int64\n",
      "days_employed        int64\n",
      "dob_years            int64\n",
      "education           object\n",
      "education_id         int64\n",
      "family_status       object\n",
      "family_status_id     int64\n",
      "gender              object\n",
      "income_type         object\n",
      "debt                 int64\n",
      "total_income         int64\n",
      "purpose             object\n",
      "years_employed       int64\n",
      "age_group           object\n",
      "dtype: object\n"
     ]
    }
   ],
   "source": [
    "df = df.astype({'days_employed': 'int64', 'years_employed': 'int64', 'dob_years': 'int64', 'total_income': 'int64'})\n",
    "print('Типы данных в датафрейме после замены: \\n')\n",
    "print(df.dtypes)"
   ]
  },
  {
   "cell_type": "markdown",
   "id": "1160feaa-79a1-46c5-807c-feaa5922fe46",
   "metadata": {},
   "source": [
    "#### Вывод"
   ]
  },
  {
   "cell_type": "markdown",
   "id": "7c14cda9-cfa0-41fb-803e-0eda6e931f65",
   "metadata": {},
   "source": [
    "<div style=\"border:solid green 2px; padding: 20px\">\n",
    "    \n",
    "Дробные числа (float64) заменены на целые (int64) в столбцах:\n",
    "    \n",
    "* трудовой стаж в днях (days_employed), \n",
    "* трудовой стаж в годах (years_employed),    \n",
    "* возраст клиентов (dob_years),\n",
    "* ежемесячный доход (total_income) "
   ]
  },
  {
   "cell_type": "markdown",
   "id": "f8c98a19-c4cb-4aaf-8a7e-ea9558506f4c",
   "metadata": {},
   "source": [
    "### Обработка дубликатов"
   ]
  },
  {
   "cell_type": "markdown",
   "id": "ffabfeff-2f08-474e-bfcd-5e5964ddf54a",
   "metadata": {},
   "source": [
    "Ранее мы удалили неявные дубликаты, сделав одинаковый - нижний - регистр в данных столбцов education, family_status."
   ]
  },
  {
   "cell_type": "markdown",
   "id": "78155c0c-341c-41c7-90b2-a9b1b6c9de9b",
   "metadata": {},
   "source": [
    "Посмотрим теперь на количество явных дубликатов в нашем датафрейме с помощью цепочки методов duplicated().sum()."
   ]
  },
  {
   "cell_type": "code",
   "execution_count": 55,
   "id": "52903d23-ced9-4d3a-82c0-71f4bdee412d",
   "metadata": {},
   "outputs": [
    {
     "data": {
      "text/plain": [
       "'Количество явных дубликатов в таблице: 71'"
      ]
     },
     "execution_count": 55,
     "metadata": {},
     "output_type": "execute_result"
    }
   ],
   "source": [
    "f'Количество явных дубликатов в таблице: {df.duplicated().sum()}'"
   ]
  },
  {
   "cell_type": "markdown",
   "id": "9a22187a-09b4-4888-8c0d-6c31fe0d0e3f",
   "metadata": {},
   "source": [
    "Ожидаемо, что их стало больше. "
   ]
  },
  {
   "cell_type": "markdown",
   "id": "af697934-4809-47f0-a243-c8fb77ca8177",
   "metadata": {},
   "source": [
    "Удаляем явные дубликаты вместе с их индексами с помощью метода drop_duplicates() и reset_index(drop=True)."
   ]
  },
  {
   "cell_type": "code",
   "execution_count": 56,
   "id": "477ee6ab-ba69-48df-9ed5-c6c71d35e76e",
   "metadata": {},
   "outputs": [
    {
     "data": {
      "text/plain": [
       "'Количество дубликатов после применения метода drop_duplicates: 0'"
      ]
     },
     "execution_count": 56,
     "metadata": {},
     "output_type": "execute_result"
    }
   ],
   "source": [
    "df = df.drop_duplicates().reset_index(drop=True)\n",
    "f'Количество дубликатов после применения метода drop_duplicates: {df.duplicated().sum()}'"
   ]
  },
  {
   "cell_type": "code",
   "execution_count": 57,
   "id": "b1012808-4ec8-40a3-8c02-5951537361cb",
   "metadata": {},
   "outputs": [
    {
     "data": {
      "text/plain": [
       "'Количество наблюдений в данных после удаления всех дубликатов: 21453'"
      ]
     },
     "execution_count": 57,
     "metadata": {},
     "output_type": "execute_result"
    }
   ],
   "source": [
    "f'Количество наблюдений в данных после удаления всех дубликатов: {df.shape[0]}'"
   ]
  },
  {
   "cell_type": "markdown",
   "id": "3b167433-9beb-4953-b759-fc46cb198c05",
   "metadata": {},
   "source": [
    "#### Вывод"
   ]
  },
  {
   "cell_type": "markdown",
   "id": "b94ea09a-b7b6-45a4-81f9-5ddab88dfd95",
   "metadata": {},
   "source": [
    "<div style=\"border:solid green 2px; padding: 20px\">\n",
    "\n",
    "В нашем датасете были обнаружены явные и неявные дубликаты. Причина появления неявных дубликатов: строковые значения набраны разными регистрами. Эта проблема устранена с помощью метода  str.lower().\n",
    "    \n",
    "Явные дубликаты успешно удалены с помощью цепочки методов drop_duplicates().reset_index(drop=True)."
   ]
  },
  {
   "cell_type": "markdown",
   "id": "92786aa6-a969-4769-934c-25de636e5af6",
   "metadata": {},
   "source": [
    "### Лемматизация данных о целях кредита"
   ]
  },
  {
   "cell_type": "markdown",
   "id": "9ffda952-edd2-4a4b-989f-43ff70ee564b",
   "metadata": {},
   "source": [
    "Чтобы корректно категоризовать данные о цели, прежде лемматизируем текст в столбце с целями. "
   ]
  },
  {
   "cell_type": "markdown",
   "id": "e4119c1e-41c5-4eca-87a5-0c12d0bef6af",
   "metadata": {},
   "source": [
    "Посмотрим на значения в столбце с данными о цели получения кредита, чтобы понимать, что будем лемматизировать. "
   ]
  },
  {
   "cell_type": "code",
   "execution_count": 58,
   "id": "86785cd3-151f-4fe1-993f-1015ba6f0c15",
   "metadata": {
    "scrolled": true
   },
   "outputs": [
    {
     "data": {
      "text/plain": [
       "свадьба                                   791\n",
       "на проведение свадьбы                     768\n",
       "сыграть свадьбу                           765\n",
       "операции с недвижимостью                  675\n",
       "покупка коммерческой недвижимости         661\n",
       "операции с жильем                         652\n",
       "покупка жилья для сдачи                   651\n",
       "операции с коммерческой недвижимостью     650\n",
       "покупка жилья                             646\n",
       "жилье                                     646\n",
       "покупка жилья для семьи                   638\n",
       "строительство собственной недвижимости    635\n",
       "недвижимость                              633\n",
       "операции со своей недвижимостью           627\n",
       "строительство жилой недвижимости          624\n",
       "покупка недвижимости                      620\n",
       "покупка своего жилья                      620\n",
       "строительство недвижимости                619\n",
       "ремонт жилью                              607\n",
       "покупка жилой недвижимости                606\n",
       "на покупку своего автомобиля              505\n",
       "заняться высшим образованием              496\n",
       "автомобиль                                494\n",
       "сделка с подержанным автомобилем          486\n",
       "свой автомобиль                           478\n",
       "на покупку подержанного автомобиля        478\n",
       "автомобили                                478\n",
       "на покупку автомобиля                     471\n",
       "приобретение автомобиля                   461\n",
       "дополнительное образование                460\n",
       "сделка с автомобилем                      455\n",
       "высшее образование                        452\n",
       "образование                               447\n",
       "получение дополнительного образования     446\n",
       "получение образования                     442\n",
       "профильное образование                    436\n",
       "получение высшего образования             426\n",
       "заняться образованием                     408\n",
       "Name: purpose, dtype: int64"
      ]
     },
     "execution_count": 58,
     "metadata": {},
     "output_type": "execute_result"
    }
   ],
   "source": [
    "df['purpose'].value_counts()"
   ]
  },
  {
   "cell_type": "markdown",
   "id": "1ece4e1d-f349-49da-aee6-97e94e11f542",
   "metadata": {},
   "source": [
    "Получим леммы в значениях столбца с целями получения кредита"
   ]
  },
  {
   "cell_type": "markdown",
   "id": "91edee56-ef63-43ac-8574-bb27d9ae8bda",
   "metadata": {},
   "source": [
    "Создадим функцию, которая лемматизирует текст (то есть приводит слова в тексте к начальной форме слова),\n",
    "а также удаляет пробелы и стоп-слова и возращает только полнозначные слова в начальной форме."
   ]
  },
  {
   "cell_type": "code",
   "execution_count": 59,
   "id": "0f0199c7-2243-403f-8fdf-289645a51506",
   "metadata": {
    "tags": []
   },
   "outputs": [],
   "source": [
    "# Функция для лемматизации текста и удаления стоп-слов. \n",
    "\n",
    "\"\"\"\n",
    "Аргумент функции text - тип данных строка.\n",
    "Функция возращает строку из ключевых лемм - тип данных строка.\n",
    "\n",
    "\"\"\"\n",
    "\n",
    "#Возьмем список стоп-слов для русского языка из nltk.stopwords:\n",
    "russian_stopwords = stopwords.words('russian')\n",
    "\n",
    "def lemmatize_text(text):\n",
    "    lemmas = mystem.lemmatize(text) #лемматизируем текст\n",
    "    lemmas_only_key_words = [] #создаем пустой список для лемм полнозначных слов\n",
    "    for lemma in lemmas:\n",
    "#если лемма не является пробелом и не принадлежит к числу стоп-слов, то добавляем ее в наш список\n",
    "        if lemma != ' ' and lemma not in russian_stopwords: \n",
    "            lemmas_only_key_words.append(lemma)\n",
    "            \n",
    "#склеиваем список в строку, разделяя леммы пробелом\n",
    "    key_lemmas = ' '.join(lemmas_only_key_words).strip()\n",
    "    return key_lemmas"
   ]
  },
  {
   "cell_type": "markdown",
   "id": "a24106d5-279c-4e8e-83a2-b3a56e5c956c",
   "metadata": {},
   "source": [
    "Протестируем функцию на отдельном значении."
   ]
  },
  {
   "cell_type": "code",
   "execution_count": 60,
   "id": "50e95438-f0f0-4db3-8a94-13b4c6262f79",
   "metadata": {},
   "outputs": [
    {
     "data": {
      "text/plain": [
       "'операция коммерческий недвижимость'"
      ]
     },
     "execution_count": 60,
     "metadata": {},
     "output_type": "execute_result"
    }
   ],
   "source": [
    "lemmatize_text('операции с коммерческой недвижимостью')"
   ]
  },
  {
   "cell_type": "markdown",
   "id": "e9a8c6c1-2628-4dd1-b4a5-5fbb853317ec",
   "metadata": {},
   "source": [
    "Применим нашу функцию к столбцу с целями получения кредита (purpose) и запишем значения в новый столбец purpose_words."
   ]
  },
  {
   "cell_type": "code",
   "execution_count": 61,
   "id": "71b519c9-8934-43b5-96cf-511c2e3abbeb",
   "metadata": {
    "tags": []
   },
   "outputs": [
    {
     "data": {
      "text/html": [
       "<div>\n",
       "<style scoped>\n",
       "    .dataframe tbody tr th:only-of-type {\n",
       "        vertical-align: middle;\n",
       "    }\n",
       "\n",
       "    .dataframe tbody tr th {\n",
       "        vertical-align: top;\n",
       "    }\n",
       "\n",
       "    .dataframe thead th {\n",
       "        text-align: right;\n",
       "    }\n",
       "</style>\n",
       "<table border=\"1\" class=\"dataframe\">\n",
       "  <thead>\n",
       "    <tr style=\"text-align: right;\">\n",
       "      <th></th>\n",
       "      <th>children</th>\n",
       "      <th>days_employed</th>\n",
       "      <th>dob_years</th>\n",
       "      <th>education</th>\n",
       "      <th>education_id</th>\n",
       "      <th>family_status</th>\n",
       "      <th>family_status_id</th>\n",
       "      <th>gender</th>\n",
       "      <th>income_type</th>\n",
       "      <th>debt</th>\n",
       "      <th>total_income</th>\n",
       "      <th>purpose</th>\n",
       "      <th>years_employed</th>\n",
       "      <th>age_group</th>\n",
       "      <th>purpose_words</th>\n",
       "    </tr>\n",
       "  </thead>\n",
       "  <tbody>\n",
       "    <tr>\n",
       "      <th>0</th>\n",
       "      <td>1</td>\n",
       "      <td>8437</td>\n",
       "      <td>42</td>\n",
       "      <td>высшее</td>\n",
       "      <td>0</td>\n",
       "      <td>женат / замужем</td>\n",
       "      <td>0</td>\n",
       "      <td>F</td>\n",
       "      <td>сотрудник</td>\n",
       "      <td>0</td>\n",
       "      <td>253875</td>\n",
       "      <td>покупка жилья</td>\n",
       "      <td>23</td>\n",
       "      <td>поздний возраст</td>\n",
       "      <td>покупка жилье</td>\n",
       "    </tr>\n",
       "    <tr>\n",
       "      <th>1</th>\n",
       "      <td>1</td>\n",
       "      <td>4024</td>\n",
       "      <td>36</td>\n",
       "      <td>среднее</td>\n",
       "      <td>1</td>\n",
       "      <td>женат / замужем</td>\n",
       "      <td>0</td>\n",
       "      <td>F</td>\n",
       "      <td>сотрудник</td>\n",
       "      <td>0</td>\n",
       "      <td>112080</td>\n",
       "      <td>приобретение автомобиля</td>\n",
       "      <td>11</td>\n",
       "      <td>средний возраст</td>\n",
       "      <td>приобретение автомобиль</td>\n",
       "    </tr>\n",
       "    <tr>\n",
       "      <th>2</th>\n",
       "      <td>0</td>\n",
       "      <td>5623</td>\n",
       "      <td>33</td>\n",
       "      <td>среднее</td>\n",
       "      <td>1</td>\n",
       "      <td>женат / замужем</td>\n",
       "      <td>0</td>\n",
       "      <td>M</td>\n",
       "      <td>сотрудник</td>\n",
       "      <td>0</td>\n",
       "      <td>145885</td>\n",
       "      <td>покупка жилья</td>\n",
       "      <td>15</td>\n",
       "      <td>средний возраст</td>\n",
       "      <td>покупка жилье</td>\n",
       "    </tr>\n",
       "    <tr>\n",
       "      <th>3</th>\n",
       "      <td>3</td>\n",
       "      <td>4124</td>\n",
       "      <td>32</td>\n",
       "      <td>среднее</td>\n",
       "      <td>1</td>\n",
       "      <td>женат / замужем</td>\n",
       "      <td>0</td>\n",
       "      <td>M</td>\n",
       "      <td>сотрудник</td>\n",
       "      <td>0</td>\n",
       "      <td>267628</td>\n",
       "      <td>дополнительное образование</td>\n",
       "      <td>11</td>\n",
       "      <td>средний возраст</td>\n",
       "      <td>дополнительный образование</td>\n",
       "    </tr>\n",
       "    <tr>\n",
       "      <th>4</th>\n",
       "      <td>0</td>\n",
       "      <td>14177</td>\n",
       "      <td>53</td>\n",
       "      <td>среднее</td>\n",
       "      <td>1</td>\n",
       "      <td>гражданский брак</td>\n",
       "      <td>1</td>\n",
       "      <td>F</td>\n",
       "      <td>пенсионер</td>\n",
       "      <td>0</td>\n",
       "      <td>158616</td>\n",
       "      <td>сыграть свадьбу</td>\n",
       "      <td>38</td>\n",
       "      <td>поздний возраст</td>\n",
       "      <td>сыграть свадьба</td>\n",
       "    </tr>\n",
       "  </tbody>\n",
       "</table>\n",
       "</div>"
      ],
      "text/plain": [
       "   children  days_employed  dob_years education  education_id  \\\n",
       "0         1           8437         42    высшее             0   \n",
       "1         1           4024         36   среднее             1   \n",
       "2         0           5623         33   среднее             1   \n",
       "3         3           4124         32   среднее             1   \n",
       "4         0          14177         53   среднее             1   \n",
       "\n",
       "      family_status  family_status_id gender income_type  debt  total_income  \\\n",
       "0   женат / замужем                 0      F   сотрудник     0        253875   \n",
       "1   женат / замужем                 0      F   сотрудник     0        112080   \n",
       "2   женат / замужем                 0      M   сотрудник     0        145885   \n",
       "3   женат / замужем                 0      M   сотрудник     0        267628   \n",
       "4  гражданский брак                 1      F   пенсионер     0        158616   \n",
       "\n",
       "                      purpose  years_employed        age_group  \\\n",
       "0               покупка жилья              23  поздний возраст   \n",
       "1     приобретение автомобиля              11  средний возраст   \n",
       "2               покупка жилья              15  средний возраст   \n",
       "3  дополнительное образование              11  средний возраст   \n",
       "4             сыграть свадьбу              38  поздний возраст   \n",
       "\n",
       "                purpose_words  \n",
       "0               покупка жилье  \n",
       "1     приобретение автомобиль  \n",
       "2               покупка жилье  \n",
       "3  дополнительный образование  \n",
       "4             сыграть свадьба  "
      ]
     },
     "execution_count": 61,
     "metadata": {},
     "output_type": "execute_result"
    }
   ],
   "source": [
    "df['purpose_words'] = df['purpose'].apply(lemmatize_text)\n",
    "df.head()"
   ]
  },
  {
   "cell_type": "markdown",
   "id": "f293e545-1e9b-4361-98ba-af81aa3b366b",
   "metadata": {},
   "source": [
    "Функция отработала корректно."
   ]
  },
  {
   "cell_type": "markdown",
   "id": "bbee08bb-8071-4020-9db1-3a7a40e800b4",
   "metadata": {},
   "source": [
    "Теперь посмотрим на список получившихся лемм в столбце `purpose_words`."
   ]
  },
  {
   "cell_type": "code",
   "execution_count": 62,
   "id": "ad90b9ee-7400-4fcb-9a28-6263257a0189",
   "metadata": {
    "tags": []
   },
   "outputs": [
    {
     "data": {
      "text/plain": [
       "автомобиль                                972\n",
       "свадьба                                   791\n",
       "проведение свадьба                        768\n",
       "сыграть свадьба                           765\n",
       "операция недвижимость                     675\n",
       "покупка коммерческий недвижимость         661\n",
       "операция жилье                            652\n",
       "покупка жилье сдача                       651\n",
       "операция коммерческий недвижимость        650\n",
       "покупка жилье                             646\n",
       "жилье                                     646\n",
       "покупка жилье семья                       638\n",
       "строительство собственный недвижимость    635\n",
       "недвижимость                              633\n",
       "операция свой недвижимость                627\n",
       "строительство жилой недвижимость          624\n",
       "покупка недвижимость                      620\n",
       "покупка свой жилье                        620\n",
       "строительство недвижимость                619\n",
       "ремонт жилье                              607\n",
       "покупка жилой недвижимость                606\n",
       "покупка свой автомобиль                   505\n",
       "заниматься высокий образование            496\n",
       "сделка подержанный автомобиль             486\n",
       "покупка подержать автомобиль              478\n",
       "свой автомобиль                           478\n",
       "покупка автомобиль                        471\n",
       "приобретение автомобиль                   461\n",
       "дополнительный образование                460\n",
       "сделка автомобиль                         455\n",
       "высокий образование                       452\n",
       "образование                               447\n",
       "получение дополнительный образование      446\n",
       "получение образование                     442\n",
       "профильный образование                    436\n",
       "получение высокий образование             426\n",
       "заниматься образование                    408\n",
       "Name: purpose_words, dtype: int64"
      ]
     },
     "execution_count": 62,
     "metadata": {},
     "output_type": "execute_result"
    }
   ],
   "source": [
    "df['purpose_words'].value_counts()"
   ]
  },
  {
   "cell_type": "markdown",
   "id": "07829cfd-cf09-4c83-bd5f-db48bb86244c",
   "metadata": {},
   "source": [
    "#### Вывод"
   ]
  },
  {
   "cell_type": "markdown",
   "id": "969a06b0-82e7-4555-9aa9-a7d1ec963aa8",
   "metadata": {},
   "source": [
    "<div style=\"border:solid green 2px; padding: 20px\"> \n",
    "    \n",
    "Мы лемматизировали значения в столбце `purpose` с целями получения кредита с помощью библиотеки pymystem3, NLTK и создали новый столбец `purpose_words`. \n",
    "\n",
    "На основе этого столбца мы сможем легко и корректно категоризовать данных о целях получения кредита. "
   ]
  },
  {
   "cell_type": "markdown",
   "id": "c05bef3b-7dec-4125-b5ba-b8b447c5ba8a",
   "metadata": {},
   "source": [
    "### Категоризация данных о целях кредита"
   ]
  },
  {
   "cell_type": "markdown",
   "id": "1ee0757c-eeda-4a50-bd96-22fac5f3aa15",
   "metadata": {},
   "source": [
    "Создадим функцию, которая возвращает нам категорию цели получения кредита. "
   ]
  },
  {
   "cell_type": "code",
   "execution_count": 63,
   "id": "81229bf9-8315-48ee-a942-d66b11d4bdcf",
   "metadata": {},
   "outputs": [],
   "source": [
    "#Функция для возвращения цели получения кредита\n",
    "\n",
    "'''\n",
    "Функция берет на вход строковое значение, возвращает целевую категорию в зависимости от ключевого существительного.\n",
    "Там, где возможно классифицировать вид недвижимости (по наличию слов \"жилой\" и \"коммерческий\"), мы классифицируем. \n",
    "Там где это невозможно - оставляем общий термин \"недвижимость\".\n",
    "\n",
    "Аргументы функции: тип данных строка\n",
    "Функция возвращает строку.\n",
    "\n",
    "'''\n",
    "\n",
    "def get_purpose_category (string):\n",
    "    \n",
    "    if 'автомобиль' in string:\n",
    "        return 'автомобиль'\n",
    "    \n",
    "    elif 'свадьба' in string:\n",
    "        return 'свадьба'\n",
    "    \n",
    "    elif 'недвижимость' in string and 'коммерческий' in string:\n",
    "        return 'коммерческая недвижимость'\n",
    "    \n",
    "    elif 'жилой' in string and 'недвижимость' in string:\n",
    "        return 'жилая недвижимость'\n",
    "    \n",
    "    elif 'жилье' in string:\n",
    "        return 'жилая недвижимость'\n",
    "    \n",
    "    elif 'образование' in string:\n",
    "        return 'образование'\n",
    "    \n",
    "    else:\n",
    "        return 'недвижимость'\n",
    "        "
   ]
  },
  {
   "cell_type": "code",
   "execution_count": 64,
   "id": "fad08563-26ae-40b9-a4bc-6b446ccf6847",
   "metadata": {},
   "outputs": [
    {
     "name": "stdout",
     "output_type": "stream",
     "text": [
      "автомобиль\n",
      "коммерческая недвижимость\n",
      "жилая недвижимость\n",
      "жилая недвижимость\n",
      "недвижимость\n",
      "свадьба\n",
      "образование\n"
     ]
    }
   ],
   "source": [
    "#Протестируем функцию на отдельных значениях:\n",
    "print(get_purpose_category('покупка свой автомобиль'))\n",
    "print(get_purpose_category('операция коммерческий недвижимость'))\n",
    "print(get_purpose_category('покупка жилье сдача'))\n",
    "print(get_purpose_category('покупка жилой недвижимость'))   \n",
    "print(get_purpose_category('операция свой недвижимость'))\n",
    "print(get_purpose_category('сыграть свадьба'))\n",
    "print(get_purpose_category('получение дополнительный образование'))      "
   ]
  },
  {
   "cell_type": "markdown",
   "id": "8306c098-5f9f-45b4-ab16-ddc50a1e345c",
   "metadata": {},
   "source": [
    "Функция работает корректно. Теперь все готово для категоризации данных о целчх получения кредита."
   ]
  },
  {
   "cell_type": "markdown",
   "id": "718c477c-4e12-4b1d-b9e6-eee9563cb02c",
   "metadata": {},
   "source": [
    "Вычислим целевые категории по ключевым словам из столбца 'purpose' с помощью нашей функции get_purpose_category внутри apply() \n",
    "и запишем новые значения в столбец purpose_category."
   ]
  },
  {
   "cell_type": "code",
   "execution_count": 65,
   "id": "5100b2dd-ef67-45ce-ae55-07d540385541",
   "metadata": {},
   "outputs": [],
   "source": [
    "df['purpose_category'] = df['purpose_words'].apply(get_purpose_category)"
   ]
  },
  {
   "cell_type": "markdown",
   "id": "51f2634b-e432-4bd7-95ad-3c8a1b3fb5fc",
   "metadata": {},
   "source": [
    "Проверим распределение значений в новом столбце purpose_category и узнаем, на что чаще всего берут кредиты. "
   ]
  },
  {
   "cell_type": "code",
   "execution_count": 66,
   "id": "075779cc-8f69-4ca6-9b44-30f0efdb1713",
   "metadata": {},
   "outputs": [
    {
     "data": {
      "text/plain": [
       "жилая недвижимость           5690\n",
       "автомобиль                   4306\n",
       "образование                  4013\n",
       "недвижимость                 3809\n",
       "свадьба                      2324\n",
       "коммерческая недвижимость    1311\n",
       "Name: purpose_category, dtype: int64"
      ]
     },
     "execution_count": 66,
     "metadata": {},
     "output_type": "execute_result"
    }
   ],
   "source": [
    "df['purpose_category'].value_counts()"
   ]
  },
  {
   "cell_type": "markdown",
   "id": "c0f82a86-fb7b-4005-a30f-cebc08d2db29",
   "metadata": {},
   "source": [
    "Столбец c леммами ключевых слов для цели нам более не нужен - удалим его с помощью метода drop() и сохраним изменения в исходном датафрейме с помощью параметра inplace=True."
   ]
  },
  {
   "cell_type": "code",
   "execution_count": 67,
   "id": "aac6c198-7685-41ab-965e-a3d6aa13a9fb",
   "metadata": {},
   "outputs": [],
   "source": [
    "df.drop('purpose_words', axis=1, inplace=True)"
   ]
  },
  {
   "cell_type": "code",
   "execution_count": 68,
   "id": "94730ee5-8825-41dc-8a8a-283d82f07d23",
   "metadata": {},
   "outputs": [
    {
     "data": {
      "text/html": [
       "<div>\n",
       "<style scoped>\n",
       "    .dataframe tbody tr th:only-of-type {\n",
       "        vertical-align: middle;\n",
       "    }\n",
       "\n",
       "    .dataframe tbody tr th {\n",
       "        vertical-align: top;\n",
       "    }\n",
       "\n",
       "    .dataframe thead th {\n",
       "        text-align: right;\n",
       "    }\n",
       "</style>\n",
       "<table border=\"1\" class=\"dataframe\">\n",
       "  <thead>\n",
       "    <tr style=\"text-align: right;\">\n",
       "      <th></th>\n",
       "      <th>children</th>\n",
       "      <th>days_employed</th>\n",
       "      <th>dob_years</th>\n",
       "      <th>education</th>\n",
       "      <th>education_id</th>\n",
       "      <th>family_status</th>\n",
       "      <th>family_status_id</th>\n",
       "      <th>gender</th>\n",
       "      <th>income_type</th>\n",
       "      <th>debt</th>\n",
       "      <th>total_income</th>\n",
       "      <th>purpose</th>\n",
       "      <th>years_employed</th>\n",
       "      <th>age_group</th>\n",
       "      <th>purpose_category</th>\n",
       "    </tr>\n",
       "  </thead>\n",
       "  <tbody>\n",
       "    <tr>\n",
       "      <th>0</th>\n",
       "      <td>1</td>\n",
       "      <td>8437</td>\n",
       "      <td>42</td>\n",
       "      <td>высшее</td>\n",
       "      <td>0</td>\n",
       "      <td>женат / замужем</td>\n",
       "      <td>0</td>\n",
       "      <td>F</td>\n",
       "      <td>сотрудник</td>\n",
       "      <td>0</td>\n",
       "      <td>253875</td>\n",
       "      <td>покупка жилья</td>\n",
       "      <td>23</td>\n",
       "      <td>поздний возраст</td>\n",
       "      <td>жилая недвижимость</td>\n",
       "    </tr>\n",
       "    <tr>\n",
       "      <th>1</th>\n",
       "      <td>1</td>\n",
       "      <td>4024</td>\n",
       "      <td>36</td>\n",
       "      <td>среднее</td>\n",
       "      <td>1</td>\n",
       "      <td>женат / замужем</td>\n",
       "      <td>0</td>\n",
       "      <td>F</td>\n",
       "      <td>сотрудник</td>\n",
       "      <td>0</td>\n",
       "      <td>112080</td>\n",
       "      <td>приобретение автомобиля</td>\n",
       "      <td>11</td>\n",
       "      <td>средний возраст</td>\n",
       "      <td>автомобиль</td>\n",
       "    </tr>\n",
       "    <tr>\n",
       "      <th>2</th>\n",
       "      <td>0</td>\n",
       "      <td>5623</td>\n",
       "      <td>33</td>\n",
       "      <td>среднее</td>\n",
       "      <td>1</td>\n",
       "      <td>женат / замужем</td>\n",
       "      <td>0</td>\n",
       "      <td>M</td>\n",
       "      <td>сотрудник</td>\n",
       "      <td>0</td>\n",
       "      <td>145885</td>\n",
       "      <td>покупка жилья</td>\n",
       "      <td>15</td>\n",
       "      <td>средний возраст</td>\n",
       "      <td>жилая недвижимость</td>\n",
       "    </tr>\n",
       "    <tr>\n",
       "      <th>3</th>\n",
       "      <td>3</td>\n",
       "      <td>4124</td>\n",
       "      <td>32</td>\n",
       "      <td>среднее</td>\n",
       "      <td>1</td>\n",
       "      <td>женат / замужем</td>\n",
       "      <td>0</td>\n",
       "      <td>M</td>\n",
       "      <td>сотрудник</td>\n",
       "      <td>0</td>\n",
       "      <td>267628</td>\n",
       "      <td>дополнительное образование</td>\n",
       "      <td>11</td>\n",
       "      <td>средний возраст</td>\n",
       "      <td>образование</td>\n",
       "    </tr>\n",
       "    <tr>\n",
       "      <th>4</th>\n",
       "      <td>0</td>\n",
       "      <td>14177</td>\n",
       "      <td>53</td>\n",
       "      <td>среднее</td>\n",
       "      <td>1</td>\n",
       "      <td>гражданский брак</td>\n",
       "      <td>1</td>\n",
       "      <td>F</td>\n",
       "      <td>пенсионер</td>\n",
       "      <td>0</td>\n",
       "      <td>158616</td>\n",
       "      <td>сыграть свадьбу</td>\n",
       "      <td>38</td>\n",
       "      <td>поздний возраст</td>\n",
       "      <td>свадьба</td>\n",
       "    </tr>\n",
       "  </tbody>\n",
       "</table>\n",
       "</div>"
      ],
      "text/plain": [
       "   children  days_employed  dob_years education  education_id  \\\n",
       "0         1           8437         42    высшее             0   \n",
       "1         1           4024         36   среднее             1   \n",
       "2         0           5623         33   среднее             1   \n",
       "3         3           4124         32   среднее             1   \n",
       "4         0          14177         53   среднее             1   \n",
       "\n",
       "      family_status  family_status_id gender income_type  debt  total_income  \\\n",
       "0   женат / замужем                 0      F   сотрудник     0        253875   \n",
       "1   женат / замужем                 0      F   сотрудник     0        112080   \n",
       "2   женат / замужем                 0      M   сотрудник     0        145885   \n",
       "3   женат / замужем                 0      M   сотрудник     0        267628   \n",
       "4  гражданский брак                 1      F   пенсионер     0        158616   \n",
       "\n",
       "                      purpose  years_employed        age_group  \\\n",
       "0               покупка жилья              23  поздний возраст   \n",
       "1     приобретение автомобиля              11  средний возраст   \n",
       "2               покупка жилья              15  средний возраст   \n",
       "3  дополнительное образование              11  средний возраст   \n",
       "4             сыграть свадьбу              38  поздний возраст   \n",
       "\n",
       "     purpose_category  \n",
       "0  жилая недвижимость  \n",
       "1          автомобиль  \n",
       "2  жилая недвижимость  \n",
       "3         образование  \n",
       "4             свадьба  "
      ]
     },
     "execution_count": 68,
     "metadata": {},
     "output_type": "execute_result"
    }
   ],
   "source": [
    "df.head()"
   ]
  },
  {
   "cell_type": "markdown",
   "id": "364c6338-336a-4a43-a39c-7a43dd960578",
   "metadata": {},
   "source": [
    "#### Вывод"
   ]
  },
  {
   "cell_type": "markdown",
   "id": "5b85d678-e645-4ea2-9e2c-6a4a6fb38ed2",
   "metadata": {},
   "source": [
    "<div style=\"border:solid green 2px; padding: 20px\"> \n",
    "\n",
    "Данные о целях получения кредита успешно категоризированы. \n",
    "    \n",
    "Мы разделили все цели на 6 категорий: \n",
    "\n",
    "* жилая недвижимость\n",
    "* коммерческая недвижимость\n",
    "* недвижимость (общая категория для тех случаев, когда не было конкретизации)\n",
    "* автомобиль\n",
    "* образование \n",
    "* свадьба \n",
    "\n",
    "Можно утверждать, что чаще всего люди берут кредиты для вложения в жилую недвижимость, автомобиль и образование.\n",
    "    \n",
    "Этап предобработки данных завершен. Теперь проведем анализ очищенных данных и дадим ответы на вопросы кредитного отдела банка."
   ]
  },
  {
   "cell_type": "markdown",
   "id": "3b8e9afb-b0fb-46f8-8daa-836a154c27af",
   "metadata": {},
   "source": [
    "### Категоризация данных о доходе"
   ]
  },
  {
   "cell_type": "markdown",
   "id": "027a4a53-ba16-442e-873c-00eb206a6b48",
   "metadata": {},
   "source": [
    "[Ранее](#describe) мы выяснили, что в столбце с ежемесячным доходом большой разброс значений. Укрупним значения, чтобы было удобно дальше группировать заемщиков по количеству ежемесячного дохода, сравнивать каждую группу заемщиков и делать выводы."
   ]
  },
  {
   "cell_type": "markdown",
   "id": "e5a90ce8-9b2f-4169-85fc-9a1439d1889e",
   "metadata": {},
   "source": [
    "\"Разрежем\" данные ежемесячного дохода на шесть интервалов: группа с максимально низким и группа с максимально высоким доходом (по 10% данных каждая), остальные группы с примерно равным количеством элементов. Границы относительно всех доходов: [10, 30, 50, 70, 90, 100]."
   ]
  },
  {
   "cell_type": "markdown",
   "id": "9c6ba131-e94e-453a-b7d3-6c1fd5c1b33d",
   "metadata": {},
   "source": [
    "Разделим данные столбца total_income на 6 интервалов (параметр q) с помощью метода qcut:"
   ]
  },
  {
   "cell_type": "code",
   "execution_count": 69,
   "id": "6a3e37ed-8c8b-4237-bf39-b67aa061cb5f",
   "metadata": {},
   "outputs": [
    {
     "data": {
      "text/plain": [
       "(116007.4, 142594.0]     4407\n",
       "(78719.4, 116007.4]      4290\n",
       "(179797.2, 269829.0]     4290\n",
       "(142594.0, 179797.2]     4174\n",
       "(20666.999, 78719.4]     2146\n",
       "(269829.0, 2265604.0]    2146\n",
       "Name: total_income, dtype: int64"
      ]
     },
     "execution_count": 69,
     "metadata": {},
     "output_type": "execute_result"
    }
   ],
   "source": [
    "pd.qcut(df['total_income'], q=[0,.1,.3,.5,.7,.9,1]).value_counts()"
   ]
  },
  {
   "cell_type": "markdown",
   "id": "644cc158-209a-4d62-83d1-3a8a8f6d54c5",
   "metadata": {},
   "source": [
    "Создадим столбец `income_group` с интервалами ежемесячного дохода."
   ]
  },
  {
   "cell_type": "code",
   "execution_count": 70,
   "id": "6fdf4023-5755-476a-b497-e795dc105127",
   "metadata": {},
   "outputs": [
    {
     "data": {
      "text/html": [
       "<div>\n",
       "<style scoped>\n",
       "    .dataframe tbody tr th:only-of-type {\n",
       "        vertical-align: middle;\n",
       "    }\n",
       "\n",
       "    .dataframe tbody tr th {\n",
       "        vertical-align: top;\n",
       "    }\n",
       "\n",
       "    .dataframe thead th {\n",
       "        text-align: right;\n",
       "    }\n",
       "</style>\n",
       "<table border=\"1\" class=\"dataframe\">\n",
       "  <thead>\n",
       "    <tr style=\"text-align: right;\">\n",
       "      <th></th>\n",
       "      <th>children</th>\n",
       "      <th>days_employed</th>\n",
       "      <th>dob_years</th>\n",
       "      <th>education</th>\n",
       "      <th>education_id</th>\n",
       "      <th>family_status</th>\n",
       "      <th>family_status_id</th>\n",
       "      <th>gender</th>\n",
       "      <th>income_type</th>\n",
       "      <th>debt</th>\n",
       "      <th>total_income</th>\n",
       "      <th>purpose</th>\n",
       "      <th>years_employed</th>\n",
       "      <th>age_group</th>\n",
       "      <th>purpose_category</th>\n",
       "      <th>income_group</th>\n",
       "    </tr>\n",
       "  </thead>\n",
       "  <tbody>\n",
       "    <tr>\n",
       "      <th>0</th>\n",
       "      <td>1</td>\n",
       "      <td>8437</td>\n",
       "      <td>42</td>\n",
       "      <td>высшее</td>\n",
       "      <td>0</td>\n",
       "      <td>женат / замужем</td>\n",
       "      <td>0</td>\n",
       "      <td>F</td>\n",
       "      <td>сотрудник</td>\n",
       "      <td>0</td>\n",
       "      <td>253875</td>\n",
       "      <td>покупка жилья</td>\n",
       "      <td>23</td>\n",
       "      <td>поздний возраст</td>\n",
       "      <td>жилая недвижимость</td>\n",
       "      <td>(179797.2, 269829.0]</td>\n",
       "    </tr>\n",
       "    <tr>\n",
       "      <th>1</th>\n",
       "      <td>1</td>\n",
       "      <td>4024</td>\n",
       "      <td>36</td>\n",
       "      <td>среднее</td>\n",
       "      <td>1</td>\n",
       "      <td>женат / замужем</td>\n",
       "      <td>0</td>\n",
       "      <td>F</td>\n",
       "      <td>сотрудник</td>\n",
       "      <td>0</td>\n",
       "      <td>112080</td>\n",
       "      <td>приобретение автомобиля</td>\n",
       "      <td>11</td>\n",
       "      <td>средний возраст</td>\n",
       "      <td>автомобиль</td>\n",
       "      <td>(78719.4, 116007.4]</td>\n",
       "    </tr>\n",
       "    <tr>\n",
       "      <th>2</th>\n",
       "      <td>0</td>\n",
       "      <td>5623</td>\n",
       "      <td>33</td>\n",
       "      <td>среднее</td>\n",
       "      <td>1</td>\n",
       "      <td>женат / замужем</td>\n",
       "      <td>0</td>\n",
       "      <td>M</td>\n",
       "      <td>сотрудник</td>\n",
       "      <td>0</td>\n",
       "      <td>145885</td>\n",
       "      <td>покупка жилья</td>\n",
       "      <td>15</td>\n",
       "      <td>средний возраст</td>\n",
       "      <td>жилая недвижимость</td>\n",
       "      <td>(142594.0, 179797.2]</td>\n",
       "    </tr>\n",
       "    <tr>\n",
       "      <th>3</th>\n",
       "      <td>3</td>\n",
       "      <td>4124</td>\n",
       "      <td>32</td>\n",
       "      <td>среднее</td>\n",
       "      <td>1</td>\n",
       "      <td>женат / замужем</td>\n",
       "      <td>0</td>\n",
       "      <td>M</td>\n",
       "      <td>сотрудник</td>\n",
       "      <td>0</td>\n",
       "      <td>267628</td>\n",
       "      <td>дополнительное образование</td>\n",
       "      <td>11</td>\n",
       "      <td>средний возраст</td>\n",
       "      <td>образование</td>\n",
       "      <td>(179797.2, 269829.0]</td>\n",
       "    </tr>\n",
       "    <tr>\n",
       "      <th>4</th>\n",
       "      <td>0</td>\n",
       "      <td>14177</td>\n",
       "      <td>53</td>\n",
       "      <td>среднее</td>\n",
       "      <td>1</td>\n",
       "      <td>гражданский брак</td>\n",
       "      <td>1</td>\n",
       "      <td>F</td>\n",
       "      <td>пенсионер</td>\n",
       "      <td>0</td>\n",
       "      <td>158616</td>\n",
       "      <td>сыграть свадьбу</td>\n",
       "      <td>38</td>\n",
       "      <td>поздний возраст</td>\n",
       "      <td>свадьба</td>\n",
       "      <td>(142594.0, 179797.2]</td>\n",
       "    </tr>\n",
       "  </tbody>\n",
       "</table>\n",
       "</div>"
      ],
      "text/plain": [
       "   children  days_employed  dob_years education  education_id  \\\n",
       "0         1           8437         42    высшее             0   \n",
       "1         1           4024         36   среднее             1   \n",
       "2         0           5623         33   среднее             1   \n",
       "3         3           4124         32   среднее             1   \n",
       "4         0          14177         53   среднее             1   \n",
       "\n",
       "      family_status  family_status_id gender income_type  debt  total_income  \\\n",
       "0   женат / замужем                 0      F   сотрудник     0        253875   \n",
       "1   женат / замужем                 0      F   сотрудник     0        112080   \n",
       "2   женат / замужем                 0      M   сотрудник     0        145885   \n",
       "3   женат / замужем                 0      M   сотрудник     0        267628   \n",
       "4  гражданский брак                 1      F   пенсионер     0        158616   \n",
       "\n",
       "                      purpose  years_employed        age_group  \\\n",
       "0               покупка жилья              23  поздний возраст   \n",
       "1     приобретение автомобиля              11  средний возраст   \n",
       "2               покупка жилья              15  средний возраст   \n",
       "3  дополнительное образование              11  средний возраст   \n",
       "4             сыграть свадьбу              38  поздний возраст   \n",
       "\n",
       "     purpose_category          income_group  \n",
       "0  жилая недвижимость  (179797.2, 269829.0]  \n",
       "1          автомобиль   (78719.4, 116007.4]  \n",
       "2  жилая недвижимость  (142594.0, 179797.2]  \n",
       "3         образование  (179797.2, 269829.0]  \n",
       "4             свадьба  (142594.0, 179797.2]  "
      ]
     },
     "execution_count": 70,
     "metadata": {},
     "output_type": "execute_result"
    }
   ],
   "source": [
    "df['income_group'] = pd.qcut(df['total_income'], q=[0,.1,.3,.5,.7,.9,1])\n",
    "df.head()"
   ]
  },
  {
   "cell_type": "markdown",
   "id": "5701baf9-4058-445e-b26f-aee95c6ae8d4",
   "metadata": {},
   "source": [
    "#### Вывод"
   ]
  },
  {
   "cell_type": "markdown",
   "id": "56a67466-c687-4637-8c4c-bea8ee5128ca",
   "metadata": {},
   "source": [
    "<div style=\"border:solid green 2px; padding: 20px\">  \n",
    "    \n",
    "Мы выделили 6 групп ежемесячного дохода (столбец `income_group`): \n",
    "\n",
    "\n",
    "| Ежемесячный доход (интервал)  | Количество заемщиков с доходом, в таком интервале   |\n",
    "| ------- | -------- |\n",
    "| 116007.4 - 142594.0   | 4407    |\n",
    "| 78719.4 - 116007.4  | 4290    |\n",
    "| 179797.2 - 269829.0  | 4290    |\n",
    "| 142594.0 - 179797.2  | 4174    |\n",
    "| 20666.999 - 78719.4  | 2146    |\n",
    "| 269829.0 - 2265604.0  | 2146    |"
   ]
  },
  {
   "cell_type": "markdown",
   "id": "2e2b70e9-02f5-4618-ae68-f4059a7af176",
   "metadata": {},
   "source": [
    "## Ответы на вопросы кредитного отдела банка"
   ]
  },
  {
   "cell_type": "markdown",
   "id": "6d79c4ad-40dc-45f8-86d1-81d837b986dc",
   "metadata": {},
   "source": [
    "#### Есть ли зависимость между наличием детей и возвратом кредита в срок?"
   ]
  },
  {
   "cell_type": "markdown",
   "id": "c73f9b4f-b64a-4ea4-a19c-37c38bce0c6a",
   "metadata": {},
   "source": [
    "Для ответа на вопрос сгруппируем заемщиков по количеству детей и вычислим отношение должников в каждой группе к общему количеству заемщиков в группе.\n",
    "\n",
    "Это можно сделать с помощью функции среднего арифметического `mean`, так как у нас `debt` имеет значения 1 (есть задолжность) и 0 (задолжности нет)."
   ]
  },
  {
   "cell_type": "code",
   "execution_count": 71,
   "id": "063f9390-e97c-4026-8b1e-d6f57e0df133",
   "metadata": {},
   "outputs": [
    {
     "data": {
      "text/html": [
       "<div>\n",
       "<style scoped>\n",
       "    .dataframe tbody tr th:only-of-type {\n",
       "        vertical-align: middle;\n",
       "    }\n",
       "\n",
       "    .dataframe tbody tr th {\n",
       "        vertical-align: top;\n",
       "    }\n",
       "\n",
       "    .dataframe thead th {\n",
       "        text-align: right;\n",
       "    }\n",
       "</style>\n",
       "<table border=\"1\" class=\"dataframe\">\n",
       "  <thead>\n",
       "    <tr style=\"text-align: right;\">\n",
       "      <th></th>\n",
       "      <th>ratio_with_debts</th>\n",
       "    </tr>\n",
       "    <tr>\n",
       "      <th>children</th>\n",
       "      <th></th>\n",
       "    </tr>\n",
       "  </thead>\n",
       "  <tbody>\n",
       "    <tr>\n",
       "      <th>20</th>\n",
       "      <td>0.105263</td>\n",
       "    </tr>\n",
       "    <tr>\n",
       "      <th>4</th>\n",
       "      <td>0.097561</td>\n",
       "    </tr>\n",
       "    <tr>\n",
       "      <th>2</th>\n",
       "      <td>0.094542</td>\n",
       "    </tr>\n",
       "    <tr>\n",
       "      <th>1</th>\n",
       "      <td>0.092346</td>\n",
       "    </tr>\n",
       "    <tr>\n",
       "      <th>3</th>\n",
       "      <td>0.081818</td>\n",
       "    </tr>\n",
       "    <tr>\n",
       "      <th>0</th>\n",
       "      <td>0.075263</td>\n",
       "    </tr>\n",
       "    <tr>\n",
       "      <th>5</th>\n",
       "      <td>0.000000</td>\n",
       "    </tr>\n",
       "  </tbody>\n",
       "</table>\n",
       "</div>"
      ],
      "text/plain": [
       "          ratio_with_debts\n",
       "children                  \n",
       "20                0.105263\n",
       "4                 0.097561\n",
       "2                 0.094542\n",
       "1                 0.092346\n",
       "3                 0.081818\n",
       "0                 0.075263\n",
       "5                 0.000000"
      ]
     },
     "execution_count": 71,
     "metadata": {},
     "output_type": "execute_result"
    }
   ],
   "source": [
    "pivot_children = df.pivot_table(index='children', values='debt', aggfunc='mean').rename(columns={'debt':'ratio_with_debts'})\n",
    "\n",
    "# Отсортируем по столбцу с долей должников - от большего значения к меньшему.\n",
    "pivot_children.sort_values(by='ratio_with_debts', ascending=False)"
   ]
  },
  {
   "cell_type": "markdown",
   "id": "d90f37e5-fa9c-425f-a5f6-19b3c6dcf007",
   "metadata": {},
   "source": [
    "##### Вывод"
   ]
  },
  {
   "cell_type": "markdown",
   "id": "900140d3-3269-410e-ba0c-c3811097296f",
   "metadata": {},
   "source": [
    "<div style=\"border:solid green 2px; padding: 20px\"> \n",
    "\n",
    "У заемщиков без детей процент задолжности ниже (7%), чем у клиентов с детьми ( 9 % - у клиентов с 1-2 и 4 детьми, 8% - у клиентов с 3 детьми).     \n",
    "Наличие ребенка влияет негативным образом на факт погашения кредита в срок. Чаще всего кредит возращают в срок заемщики, у которых нет детей."
   ]
  },
  {
   "cell_type": "markdown",
   "id": "8614fee8-f9a5-488d-8163-339bd0d2283b",
   "metadata": {},
   "source": [
    "#### Есть ли зависимость между семейным положением и возвратом кредита в срок?"
   ]
  },
  {
   "cell_type": "markdown",
   "id": "5ba9006e-e7ec-4eb3-b37e-6ce6aa14f743",
   "metadata": {},
   "source": [
    "Сгруппируем заемщиков по семейному статусу и вычислим отношение должников в каждой группе к общему количеству заемщиков в группе."
   ]
  },
  {
   "cell_type": "code",
   "execution_count": 72,
   "id": "25371c8a-1a26-4dfc-947d-e0433dad083c",
   "metadata": {},
   "outputs": [
    {
     "data": {
      "text/html": [
       "<div>\n",
       "<style scoped>\n",
       "    .dataframe tbody tr th:only-of-type {\n",
       "        vertical-align: middle;\n",
       "    }\n",
       "\n",
       "    .dataframe tbody tr th {\n",
       "        vertical-align: top;\n",
       "    }\n",
       "\n",
       "    .dataframe thead th {\n",
       "        text-align: right;\n",
       "    }\n",
       "</style>\n",
       "<table border=\"1\" class=\"dataframe\">\n",
       "  <thead>\n",
       "    <tr style=\"text-align: right;\">\n",
       "      <th></th>\n",
       "      <th>ratio_with_debts</th>\n",
       "    </tr>\n",
       "    <tr>\n",
       "      <th>family_status</th>\n",
       "      <th></th>\n",
       "    </tr>\n",
       "  </thead>\n",
       "  <tbody>\n",
       "    <tr>\n",
       "      <th>не женат / не замужем</th>\n",
       "      <td>0.097509</td>\n",
       "    </tr>\n",
       "    <tr>\n",
       "      <th>гражданский брак</th>\n",
       "      <td>0.093494</td>\n",
       "    </tr>\n",
       "    <tr>\n",
       "      <th>женат / замужем</th>\n",
       "      <td>0.075452</td>\n",
       "    </tr>\n",
       "    <tr>\n",
       "      <th>в разводе</th>\n",
       "      <td>0.071130</td>\n",
       "    </tr>\n",
       "    <tr>\n",
       "      <th>вдовец / вдова</th>\n",
       "      <td>0.065693</td>\n",
       "    </tr>\n",
       "  </tbody>\n",
       "</table>\n",
       "</div>"
      ],
      "text/plain": [
       "                       ratio_with_debts\n",
       "family_status                          \n",
       "не женат / не замужем          0.097509\n",
       "гражданский брак               0.093494\n",
       "женат / замужем                0.075452\n",
       "в разводе                      0.071130\n",
       "вдовец / вдова                 0.065693"
      ]
     },
     "execution_count": 72,
     "metadata": {},
     "output_type": "execute_result"
    }
   ],
   "source": [
    "pivot_family_status = df.pivot_table(index='family_status', values='debt', aggfunc='mean').rename(columns={'debt': 'ratio_with_debts'})\n",
    "pivot_family_status.sort_values(by='ratio_with_debts', ascending=False)"
   ]
  },
  {
   "cell_type": "markdown",
   "id": "4d740b57-e081-4a48-ae67-9e3040a96d4f",
   "metadata": {},
   "source": [
    "##### Вывод"
   ]
  },
  {
   "cell_type": "markdown",
   "id": "8595ae5d-cd7c-467f-acd4-0b94c44e0275",
   "metadata": {},
   "source": [
    "<div style=\"border:solid green 2px; padding: 20px\"> \n",
    "    \n",
    "Чаще всего кредит возвращают в срок вдовцы (6% должников), разведенные (7% должников) и женатые и замужние (7% должников), а не замужние и не женатые (9% должников) и те, кто в гражданском браке (по 9 % должников), чаще всего имеют задолжность. \n",
    "    \n",
    "Любопытно, что ответственность за принятие решения узаконить отношения как будто бы влияет на платежеспособность. \n"
   ]
  },
  {
   "cell_type": "markdown",
   "id": "b4e06b62-496a-44bc-9a47-ba11ffbea6f1",
   "metadata": {},
   "source": [
    "#### Есть ли зависимость между уровнем дохода и возвратом кредита в срок?"
   ]
  },
  {
   "cell_type": "markdown",
   "id": "addca216-c604-4383-8bfd-513ea955c539",
   "metadata": {},
   "source": [
    "Сгруппируем заемщиков по столбцу `income_group` и вычислим отношение должников в каждой группе к общему количеству заемщиков в группе."
   ]
  },
  {
   "cell_type": "code",
   "execution_count": 73,
   "id": "7303636f-e477-4791-b4dd-f1c1f391a6b5",
   "metadata": {},
   "outputs": [
    {
     "data": {
      "text/html": [
       "<div>\n",
       "<style scoped>\n",
       "    .dataframe tbody tr th:only-of-type {\n",
       "        vertical-align: middle;\n",
       "    }\n",
       "\n",
       "    .dataframe tbody tr th {\n",
       "        vertical-align: top;\n",
       "    }\n",
       "\n",
       "    .dataframe thead th {\n",
       "        text-align: right;\n",
       "    }\n",
       "</style>\n",
       "<table border=\"1\" class=\"dataframe\">\n",
       "  <thead>\n",
       "    <tr style=\"text-align: right;\">\n",
       "      <th></th>\n",
       "      <th>ratio_with_debts</th>\n",
       "    </tr>\n",
       "    <tr>\n",
       "      <th>income_group</th>\n",
       "      <th></th>\n",
       "    </tr>\n",
       "  </thead>\n",
       "  <tbody>\n",
       "    <tr>\n",
       "      <th>(116007.4, 142594.0]</th>\n",
       "      <td>0.087815</td>\n",
       "    </tr>\n",
       "    <tr>\n",
       "      <th>(78719.4, 116007.4]</th>\n",
       "      <td>0.085315</td>\n",
       "    </tr>\n",
       "    <tr>\n",
       "      <th>(142594.0, 179797.2]</th>\n",
       "      <td>0.083852</td>\n",
       "    </tr>\n",
       "    <tr>\n",
       "      <th>(179797.2, 269829.0]</th>\n",
       "      <td>0.076923</td>\n",
       "    </tr>\n",
       "    <tr>\n",
       "      <th>(20666.999, 78719.4]</th>\n",
       "      <td>0.073159</td>\n",
       "    </tr>\n",
       "    <tr>\n",
       "      <th>(269829.0, 2265604.0]</th>\n",
       "      <td>0.070363</td>\n",
       "    </tr>\n",
       "  </tbody>\n",
       "</table>\n",
       "</div>"
      ],
      "text/plain": [
       "                       ratio_with_debts\n",
       "income_group                           \n",
       "(116007.4, 142594.0]           0.087815\n",
       "(78719.4, 116007.4]            0.085315\n",
       "(142594.0, 179797.2]           0.083852\n",
       "(179797.2, 269829.0]           0.076923\n",
       "(20666.999, 78719.4]           0.073159\n",
       "(269829.0, 2265604.0]          0.070363"
      ]
     },
     "execution_count": 73,
     "metadata": {},
     "output_type": "execute_result"
    }
   ],
   "source": [
    "pivot_income = df.pivot_table(index='income_group', values='debt', aggfunc='mean').rename(columns={'debt': 'ratio_with_debts'})\n",
    "pivot_income.sort_values(by='ratio_with_debts', ascending=False)"
   ]
  },
  {
   "cell_type": "markdown",
   "id": "3213f73d-347d-4862-bd73-4c73e7b81338",
   "metadata": {},
   "source": [
    "##### Вывод\n",
    "<div style=\"border:solid green 2px; padding: 20px\"> \n",
    "    \n",
    "Анализ данных в сводной таблице показал неожиданный результат: среди заемщиков с наименьшим доходом такой же процент должников (7%), как и среди заемщиков с самым высоким доходом. Обе эти категории заемщиков чаще всего возращают кредит в срок. Должников среди заемщиков с ежемесячным доходом в интервале от 78 719 до  179 797 выше на 1%."
   ]
  },
  {
   "cell_type": "markdown",
   "id": "779a09ed-74df-414d-b6d3-291c67e5fbea",
   "metadata": {},
   "source": [
    "#### Как разные цели кредита влияют на его возврат в срок?"
   ]
  },
  {
   "cell_type": "markdown",
   "id": "ae8179df-ad70-40d2-8b78-1ce4207a9200",
   "metadata": {},
   "source": [
    "Сгруппируем заемщиков по цели получения кредита и вычислим отношение должников в каждой группе к общему количеству заемщиков в группе."
   ]
  },
  {
   "cell_type": "code",
   "execution_count": 74,
   "id": "38154088-9b62-4c1a-a976-bf7239323116",
   "metadata": {},
   "outputs": [
    {
     "data": {
      "text/html": [
       "<div>\n",
       "<style scoped>\n",
       "    .dataframe tbody tr th:only-of-type {\n",
       "        vertical-align: middle;\n",
       "    }\n",
       "\n",
       "    .dataframe tbody tr th {\n",
       "        vertical-align: top;\n",
       "    }\n",
       "\n",
       "    .dataframe thead th {\n",
       "        text-align: right;\n",
       "    }\n",
       "</style>\n",
       "<table border=\"1\" class=\"dataframe\">\n",
       "  <thead>\n",
       "    <tr style=\"text-align: right;\">\n",
       "      <th></th>\n",
       "      <th>ratio_with_debts</th>\n",
       "    </tr>\n",
       "    <tr>\n",
       "      <th>purpose_category</th>\n",
       "      <th></th>\n",
       "    </tr>\n",
       "  </thead>\n",
       "  <tbody>\n",
       "    <tr>\n",
       "      <th>автомобиль</th>\n",
       "      <td>0.093590</td>\n",
       "    </tr>\n",
       "    <tr>\n",
       "      <th>образование</th>\n",
       "      <td>0.092200</td>\n",
       "    </tr>\n",
       "    <tr>\n",
       "      <th>свадьба</th>\n",
       "      <td>0.080034</td>\n",
       "    </tr>\n",
       "    <tr>\n",
       "      <th>коммерческая недвижимость</th>\n",
       "      <td>0.075515</td>\n",
       "    </tr>\n",
       "    <tr>\n",
       "      <th>недвижимость</th>\n",
       "      <td>0.075085</td>\n",
       "    </tr>\n",
       "    <tr>\n",
       "      <th>жилая недвижимость</th>\n",
       "      <td>0.069772</td>\n",
       "    </tr>\n",
       "  </tbody>\n",
       "</table>\n",
       "</div>"
      ],
      "text/plain": [
       "                           ratio_with_debts\n",
       "purpose_category                           \n",
       "автомобиль                         0.093590\n",
       "образование                        0.092200\n",
       "свадьба                            0.080034\n",
       "коммерческая недвижимость          0.075515\n",
       "недвижимость                       0.075085\n",
       "жилая недвижимость                 0.069772"
      ]
     },
     "execution_count": 74,
     "metadata": {},
     "output_type": "execute_result"
    }
   ],
   "source": [
    "pivot_purpose = df.pivot_table(index='purpose_category', values='debt', aggfunc='mean').rename(columns={'debt': 'ratio_with_debts'})\n",
    "pivot_purpose.sort_values(by='ratio_with_debts', ascending=False)"
   ]
  },
  {
   "cell_type": "markdown",
   "id": "0b0b11d3-1f91-4ef4-a50d-80c24a2924d5",
   "metadata": {},
   "source": [
    "##### Вывод"
   ]
  },
  {
   "cell_type": "markdown",
   "id": "40a11038-797e-4984-b81e-44f919cce604",
   "metadata": {},
   "source": [
    "<div style=\"border:solid green 2px; padding: 20px\"> \n",
    "    \n",
    "Чаще всего заемщики возвращают кредит в срок, если берут его с целью вложиться в недвижимость. Те, кто вкладывают в жилую недвижимость, - самые надежные плательщики и имеют самый низкий процент должников - 6%. А самыми ненадежными плательщиками являются заемщики, которые берут кредит на автомобиль и образование (9% должников в каждой категории). \n",
    "\n",
    "Может быть, кредиты на недвижимость кардинально меняют жизнь людей, потому что суммы существеннее и зачастую выплаты дольше. Это требует большой дисциплины."
   ]
  },
  {
   "cell_type": "markdown",
   "id": "83bbd823-8363-456c-963f-54772d68c3a0",
   "metadata": {},
   "source": [
    "В конце исследования еще раз посмотрим на наш датасет, чтобы убедиться, что он в нужном (очищенном и обогащенном) состоянии. "
   ]
  },
  {
   "cell_type": "code",
   "execution_count": 75,
   "id": "8e8ea1cf-4f0f-4c25-a3d7-358cd9ab9037",
   "metadata": {},
   "outputs": [
    {
     "data": {
      "text/html": [
       "<div>\n",
       "<style scoped>\n",
       "    .dataframe tbody tr th:only-of-type {\n",
       "        vertical-align: middle;\n",
       "    }\n",
       "\n",
       "    .dataframe tbody tr th {\n",
       "        vertical-align: top;\n",
       "    }\n",
       "\n",
       "    .dataframe thead th {\n",
       "        text-align: right;\n",
       "    }\n",
       "</style>\n",
       "<table border=\"1\" class=\"dataframe\">\n",
       "  <thead>\n",
       "    <tr style=\"text-align: right;\">\n",
       "      <th></th>\n",
       "      <th>children</th>\n",
       "      <th>days_employed</th>\n",
       "      <th>dob_years</th>\n",
       "      <th>education</th>\n",
       "      <th>education_id</th>\n",
       "      <th>family_status</th>\n",
       "      <th>family_status_id</th>\n",
       "      <th>gender</th>\n",
       "      <th>income_type</th>\n",
       "      <th>debt</th>\n",
       "      <th>total_income</th>\n",
       "      <th>purpose</th>\n",
       "      <th>years_employed</th>\n",
       "      <th>age_group</th>\n",
       "      <th>purpose_category</th>\n",
       "      <th>income_group</th>\n",
       "    </tr>\n",
       "  </thead>\n",
       "  <tbody>\n",
       "    <tr>\n",
       "      <th>0</th>\n",
       "      <td>1</td>\n",
       "      <td>8437</td>\n",
       "      <td>42</td>\n",
       "      <td>высшее</td>\n",
       "      <td>0</td>\n",
       "      <td>женат / замужем</td>\n",
       "      <td>0</td>\n",
       "      <td>F</td>\n",
       "      <td>сотрудник</td>\n",
       "      <td>0</td>\n",
       "      <td>253875</td>\n",
       "      <td>покупка жилья</td>\n",
       "      <td>23</td>\n",
       "      <td>поздний возраст</td>\n",
       "      <td>жилая недвижимость</td>\n",
       "      <td>(179797.2, 269829.0]</td>\n",
       "    </tr>\n",
       "    <tr>\n",
       "      <th>1</th>\n",
       "      <td>1</td>\n",
       "      <td>4024</td>\n",
       "      <td>36</td>\n",
       "      <td>среднее</td>\n",
       "      <td>1</td>\n",
       "      <td>женат / замужем</td>\n",
       "      <td>0</td>\n",
       "      <td>F</td>\n",
       "      <td>сотрудник</td>\n",
       "      <td>0</td>\n",
       "      <td>112080</td>\n",
       "      <td>приобретение автомобиля</td>\n",
       "      <td>11</td>\n",
       "      <td>средний возраст</td>\n",
       "      <td>автомобиль</td>\n",
       "      <td>(78719.4, 116007.4]</td>\n",
       "    </tr>\n",
       "    <tr>\n",
       "      <th>2</th>\n",
       "      <td>0</td>\n",
       "      <td>5623</td>\n",
       "      <td>33</td>\n",
       "      <td>среднее</td>\n",
       "      <td>1</td>\n",
       "      <td>женат / замужем</td>\n",
       "      <td>0</td>\n",
       "      <td>M</td>\n",
       "      <td>сотрудник</td>\n",
       "      <td>0</td>\n",
       "      <td>145885</td>\n",
       "      <td>покупка жилья</td>\n",
       "      <td>15</td>\n",
       "      <td>средний возраст</td>\n",
       "      <td>жилая недвижимость</td>\n",
       "      <td>(142594.0, 179797.2]</td>\n",
       "    </tr>\n",
       "    <tr>\n",
       "      <th>3</th>\n",
       "      <td>3</td>\n",
       "      <td>4124</td>\n",
       "      <td>32</td>\n",
       "      <td>среднее</td>\n",
       "      <td>1</td>\n",
       "      <td>женат / замужем</td>\n",
       "      <td>0</td>\n",
       "      <td>M</td>\n",
       "      <td>сотрудник</td>\n",
       "      <td>0</td>\n",
       "      <td>267628</td>\n",
       "      <td>дополнительное образование</td>\n",
       "      <td>11</td>\n",
       "      <td>средний возраст</td>\n",
       "      <td>образование</td>\n",
       "      <td>(179797.2, 269829.0]</td>\n",
       "    </tr>\n",
       "    <tr>\n",
       "      <th>4</th>\n",
       "      <td>0</td>\n",
       "      <td>14177</td>\n",
       "      <td>53</td>\n",
       "      <td>среднее</td>\n",
       "      <td>1</td>\n",
       "      <td>гражданский брак</td>\n",
       "      <td>1</td>\n",
       "      <td>F</td>\n",
       "      <td>пенсионер</td>\n",
       "      <td>0</td>\n",
       "      <td>158616</td>\n",
       "      <td>сыграть свадьбу</td>\n",
       "      <td>38</td>\n",
       "      <td>поздний возраст</td>\n",
       "      <td>свадьба</td>\n",
       "      <td>(142594.0, 179797.2]</td>\n",
       "    </tr>\n",
       "  </tbody>\n",
       "</table>\n",
       "</div>"
      ],
      "text/plain": [
       "   children  days_employed  dob_years education  education_id  \\\n",
       "0         1           8437         42    высшее             0   \n",
       "1         1           4024         36   среднее             1   \n",
       "2         0           5623         33   среднее             1   \n",
       "3         3           4124         32   среднее             1   \n",
       "4         0          14177         53   среднее             1   \n",
       "\n",
       "      family_status  family_status_id gender income_type  debt  total_income  \\\n",
       "0   женат / замужем                 0      F   сотрудник     0        253875   \n",
       "1   женат / замужем                 0      F   сотрудник     0        112080   \n",
       "2   женат / замужем                 0      M   сотрудник     0        145885   \n",
       "3   женат / замужем                 0      M   сотрудник     0        267628   \n",
       "4  гражданский брак                 1      F   пенсионер     0        158616   \n",
       "\n",
       "                      purpose  years_employed        age_group  \\\n",
       "0               покупка жилья              23  поздний возраст   \n",
       "1     приобретение автомобиля              11  средний возраст   \n",
       "2               покупка жилья              15  средний возраст   \n",
       "3  дополнительное образование              11  средний возраст   \n",
       "4             сыграть свадьбу              38  поздний возраст   \n",
       "\n",
       "     purpose_category          income_group  \n",
       "0  жилая недвижимость  (179797.2, 269829.0]  \n",
       "1          автомобиль   (78719.4, 116007.4]  \n",
       "2  жилая недвижимость  (142594.0, 179797.2]  \n",
       "3         образование  (179797.2, 269829.0]  \n",
       "4             свадьба  (142594.0, 179797.2]  "
      ]
     },
     "execution_count": 75,
     "metadata": {},
     "output_type": "execute_result"
    }
   ],
   "source": [
    "df.head()"
   ]
  },
  {
   "cell_type": "code",
   "execution_count": 76,
   "id": "6a681151-8a88-41bb-870e-6dfcf84ca19b",
   "metadata": {
    "tags": []
   },
   "outputs": [
    {
     "name": "stdout",
     "output_type": "stream",
     "text": [
      "<class 'pandas.core.frame.DataFrame'>\n",
      "RangeIndex: 21453 entries, 0 to 21452\n",
      "Data columns (total 16 columns):\n",
      " #   Column            Non-Null Count  Dtype   \n",
      "---  ------            --------------  -----   \n",
      " 0   children          21453 non-null  int64   \n",
      " 1   days_employed     21453 non-null  int64   \n",
      " 2   dob_years         21453 non-null  int64   \n",
      " 3   education         21453 non-null  object  \n",
      " 4   education_id      21453 non-null  int64   \n",
      " 5   family_status     21453 non-null  object  \n",
      " 6   family_status_id  21453 non-null  int64   \n",
      " 7   gender            21453 non-null  object  \n",
      " 8   income_type       21453 non-null  object  \n",
      " 9   debt              21453 non-null  int64   \n",
      " 10  total_income      21453 non-null  int64   \n",
      " 11  purpose           21453 non-null  object  \n",
      " 12  years_employed    21453 non-null  int64   \n",
      " 13  age_group         21453 non-null  object  \n",
      " 14  purpose_category  21453 non-null  object  \n",
      " 15  income_group      21453 non-null  category\n",
      "dtypes: category(1), int64(8), object(7)\n",
      "memory usage: 2.5+ MB\n"
     ]
    }
   ],
   "source": [
    "df.info()"
   ]
  },
  {
   "cell_type": "markdown",
   "id": "fec11a51-0ccf-4793-9913-06af10c0e90e",
   "metadata": {},
   "source": [
    "Сохраним датасет в таком виде для возможных дальнейших исследований."
   ]
  },
  {
   "cell_type": "code",
   "execution_count": 77,
   "id": "3df2eee4-fc3f-4f63-b0d0-9d544b736fec",
   "metadata": {
    "tags": []
   },
   "outputs": [],
   "source": [
    "df.to_csv('bank_clients_mortgage_clean.csv')"
   ]
  },
  {
   "cell_type": "markdown",
   "id": "4fdff424-6cb3-4846-804e-e89cdd28bccb",
   "metadata": {},
   "source": [
    "Для создания сводных таблиц в последнем разделе можно было создать свою функцию, но мы посчитали, что так расчеты будут более прозрачными для читающего.  "
   ]
  },
  {
   "cell_type": "markdown",
   "id": "66791f1a-fbe5-498f-8ddf-27d29004f917",
   "metadata": {},
   "source": [
    "# Спасибо за внимание!"
   ]
  }
 ],
 "metadata": {
  "kernelspec": {
   "display_name": "Python 3 (ipykernel)",
   "language": "python",
   "name": "python3"
  },
  "language_info": {
   "codemirror_mode": {
    "name": "ipython",
    "version": 3
   },
   "file_extension": ".py",
   "mimetype": "text/x-python",
   "name": "python",
   "nbconvert_exporter": "python",
   "pygments_lexer": "ipython3",
   "version": "3.9.7"
  },
  "toc-autonumbering": true,
  "toc-showcode": false,
  "toc-showmarkdowntxt": false
 },
 "nbformat": 4,
 "nbformat_minor": 5
}
