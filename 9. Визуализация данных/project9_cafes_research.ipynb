{
 "cells": [
  {
   "cell_type": "markdown",
   "id": "99f556aa-fb49-4a4d-8db4-59ed1aa75e76",
   "metadata": {},
   "source": [
    "# Исследование рынка общественного питания в Москве\n",
    "\n",
    "**Цель исследования** \n",
    "\n",
    "Исследовать текущий рынок общественного питания в Москве и выявить факторы, влияющие на успех нового бизнеса (небольшое кафе в Москве, где официантами будут роботы).\n",
    "\n",
    "**Входные данные** \n",
    "\n",
    "Из открытых источников доступны данные о заведениях общественного питания в Москве.\n",
    "\n",
    "**Заказчик исследования**\n",
    "\n",
    "Потенциальные инвесторы.\n",
    "\n",
    "**Практическое применение результатов исследования**\n",
    "\n",
    "Исследование поможет инвесторам в принятии решения об инвестициях в кафе. "
   ]
  },
  {
   "cell_type": "markdown",
   "id": "48166722-dca9-499a-b6ea-328ac6c83f4a",
   "metadata": {},
   "source": [
    "**Описание данных согласно документации:**"
   ]
  },
  {
   "cell_type": "markdown",
   "id": "103a2559-9bce-44d7-8dca-10d23a82a4f5",
   "metadata": {},
   "source": [
    "* id — идентификатор объекта\n",
    "* object_name — название объекта общественного питания\n",
    "* chain — сетевой ресторан\n",
    "* object_type — тип объекта общественного питания\n",
    "* address — адрес\n",
    "* number — количество посадочных мест"
   ]
  },
  {
   "cell_type": "markdown",
   "id": "61dca7bd-12d1-49bf-a52d-5d3fc52cb2d5",
   "metadata": {},
   "source": [
    "<a name='contents'></a>\n",
    "\n",
    "# Cодержание исследования\n",
    "\n",
    "## [Шаг 1. Загрузка и подготовка данных к анализу](#stage_1)\n",
    "\n",
    "* Общая информация о датафрейме\n",
    "* Поиск дубликатов\n",
    "* Геолокация объектов (объекты за МКАДом, Новые административные округа Москвы) \n",
    "\n",
    "## [Шаг 2. Анализ данных](#stage_2)\n",
    "\n",
    "* Cоотношение видов объектов общественного питания по количеству\n",
    "* Соотношение сетевых и несетевых заведений по количеству\n",
    "* Ответ на вопрос, для какого вида объекта общественного питания характерно сетевое распространение.\n",
    "* Ответ на вопрос, что характерно для сетевых заведений: много заведений с небольшим числом посадочных мест в каждом или мало заведений с большим количеством посадочных мест.\n",
    "* Выделение названия сетей\n",
    "* Среднее количество посадочных мест для каждого вида объекта общественного питания. Ответ на вопрос, какой вид предоставляет в среднем самое большое количество посадочных мест.\n",
    "* Выделение информации об улице в столбец address.\n",
    "* График топ-10 улиц по количеству объектов общественного питания. Ответ на вопрос, в каких районах Москвы находятся эти улицы.\n",
    "* Загрузка стороннего файла с улицами Москвы.\n",
    "* Число улиц с одним объектом общественного питания. Районы Москвы, в которых находятся эти улицы.\n",
    "* Распределение количества посадочных мест для улиц с большим количеством объектов общественного питания.\n",
    "\n",
    "## [Шаг 3. Общий вывод, рекомендации](#stage_3)\n",
    "\n",
    "* Вывод\n",
    "* Рекомендации\n",
    "* Ссылка на презетацию"
   ]
  },
  {
   "cell_type": "markdown",
   "id": "61e237bb-30b0-433e-a688-bd2d0ccbd632",
   "metadata": {},
   "source": [
    "**Описание данных согласно документации:**"
   ]
  },
  {
   "cell_type": "markdown",
   "id": "9b8a2cc8-ba97-45d0-9922-13e64111c28a",
   "metadata": {},
   "source": [
    "* id — идентификатор объекта\n",
    "* object_name — название объекта общественного питания\n",
    "* chain — сетевой ресторан\n",
    "* object_type — тип объекта общественного питания\n",
    "* address — адрес\n",
    "* number — количество посадочных мест"
   ]
  },
  {
   "cell_type": "code",
   "execution_count": 1,
   "id": "242d6f4b-975a-4076-943b-127d24605d13",
   "metadata": {
    "tags": []
   },
   "outputs": [],
   "source": [
    "#Импорт библиотек \n",
    "\n",
    "import pandas as pd\n",
    "import numpy as np\n",
    "import seaborn as sns\n",
    "import re\n",
    "from datetime import datetime, timedelta\n",
    "from matplotlib import pyplot as plt\n",
    "from io import BytesIO\n",
    "import requests\n",
    "#import plotly.express as px\n",
    "import warnings\n",
    "warnings.filterwarnings(\"ignore\")"
   ]
  },
  {
   "cell_type": "code",
   "execution_count": 2,
   "id": "cb174ae5-49d3-4733-8ddc-184c42183832",
   "metadata": {},
   "outputs": [
    {
     "name": "stdout",
     "output_type": "stream",
     "text": [
      "Requirement already satisfied: matplotlib in /Applications/anaconda3/lib/python3.9/site-packages (3.5.2)\n",
      "Collecting matplotlib\n",
      "  Downloading matplotlib-3.6.2-cp39-cp39-macosx_10_12_x86_64.whl (7.3 MB)\n",
      "\u001b[2K     \u001b[91m━━━━━━━\u001b[0m\u001b[91m╸\u001b[0m\u001b[90m━━━━━━━━━━━━━━━━━━━━━━━━━━━━━━━━\u001b[0m \u001b[32m1.4/7.3 MB\u001b[0m \u001b[31m51.0 kB/s\u001b[0m eta \u001b[36m0:01:56\u001b[0m^C\n",
      "\u001b[2K     \u001b[91m━━━━━━━\u001b[0m\u001b[91m╸\u001b[0m\u001b[90m━━━━━━━━━━━━━━━━━━━━━━━━━━━━━━━━\u001b[0m \u001b[32m1.4/7.3 MB\u001b[0m \u001b[31m51.0 kB/s\u001b[0m eta \u001b[36m0:01:56\u001b[0m\n",
      "\u001b[?25h\u001b[31mERROR: Operation cancelled by user\u001b[0m\u001b[31m\n",
      "\u001b[0mRequirement already satisfied: seaborn in /Applications/anaconda3/lib/python3.9/site-packages (0.11.2)\n",
      "Collecting seaborn\n",
      "  Using cached seaborn-0.12.1-py3-none-any.whl (288 kB)\n",
      "Requirement already satisfied: numpy>=1.17 in /Applications/anaconda3/lib/python3.9/site-packages (from seaborn) (1.21.5)\n",
      "Requirement already satisfied: pandas>=0.25 in /Applications/anaconda3/lib/python3.9/site-packages (from seaborn) (1.4.4)\n",
      "Requirement already satisfied: matplotlib!=3.6.1,>=3.1 in /Applications/anaconda3/lib/python3.9/site-packages (from seaborn) (3.5.2)\n",
      "Requirement already satisfied: python-dateutil>=2.7 in /Applications/anaconda3/lib/python3.9/site-packages (from matplotlib!=3.6.1,>=3.1->seaborn) (2.8.2)\n",
      "Requirement already satisfied: pyparsing>=2.2.1 in /Applications/anaconda3/lib/python3.9/site-packages (from matplotlib!=3.6.1,>=3.1->seaborn) (3.0.9)\n",
      "Requirement already satisfied: packaging>=20.0 in /Applications/anaconda3/lib/python3.9/site-packages (from matplotlib!=3.6.1,>=3.1->seaborn) (21.3)\n",
      "Requirement already satisfied: fonttools>=4.22.0 in /Applications/anaconda3/lib/python3.9/site-packages (from matplotlib!=3.6.1,>=3.1->seaborn) (4.25.0)\n",
      "Requirement already satisfied: kiwisolver>=1.0.1 in /Applications/anaconda3/lib/python3.9/site-packages (from matplotlib!=3.6.1,>=3.1->seaborn) (1.4.2)\n",
      "Requirement already satisfied: cycler>=0.10 in /Applications/anaconda3/lib/python3.9/site-packages (from matplotlib!=3.6.1,>=3.1->seaborn) (0.11.0)\n",
      "Requirement already satisfied: pillow>=6.2.0 in /Applications/anaconda3/lib/python3.9/site-packages (from matplotlib!=3.6.1,>=3.1->seaborn) (9.2.0)\n",
      "Requirement already satisfied: pytz>=2020.1 in /Applications/anaconda3/lib/python3.9/site-packages (from pandas>=0.25->seaborn) (2022.1)\n",
      "Requirement already satisfied: six>=1.5 in /Applications/anaconda3/lib/python3.9/site-packages (from python-dateutil>=2.7->matplotlib!=3.6.1,>=3.1->seaborn) (1.16.0)\n",
      "Installing collected packages: seaborn\n",
      "  Attempting uninstall: seaborn\n",
      "    Found existing installation: seaborn 0.11.2\n",
      "    Uninstalling seaborn-0.11.2:\n",
      "      Successfully uninstalled seaborn-0.11.2\n",
      "Successfully installed seaborn-0.12.1\n"
     ]
    }
   ],
   "source": [
    "# Обновление базовых библиотек для ревьюера. \n",
    "#!pip install pandas -U\n",
    "#!pip install numpy -U\n",
    "!pip install matplotlib -U\n",
    "!pip install seaborn -U"
   ]
  },
  {
   "cell_type": "markdown",
   "id": "78a72128-dc49-49ad-a06e-5416f4482c7e",
   "metadata": {},
   "source": [
    "<a name='stage_1'></a>\n",
    "# Шаг 1. Загрузка и подготовка данных к анализу\n",
    "\n",
    "[Назад к оглавлению](#contents)"
   ]
  },
  {
   "cell_type": "code",
   "execution_count": 3,
   "id": "0fcffae6-2f80-4699-a8fe-7fe1565025b3",
   "metadata": {},
   "outputs": [],
   "source": [
    "df = pd.read_csv('data/rest_data.csv') "
   ]
  },
  {
   "cell_type": "markdown",
   "id": "2e88ecdd-1ce2-406b-87f8-24ce80e57d3a",
   "metadata": {},
   "source": [
    "## Общая информация о датафрейме"
   ]
  },
  {
   "cell_type": "code",
   "execution_count": 4,
   "id": "2e4b3876-4f28-4f5f-bf37-e56ed49b2a0a",
   "metadata": {},
   "outputs": [
    {
     "data": {
      "text/html": [
       "<div>\n",
       "<style scoped>\n",
       "    .dataframe tbody tr th:only-of-type {\n",
       "        vertical-align: middle;\n",
       "    }\n",
       "\n",
       "    .dataframe tbody tr th {\n",
       "        vertical-align: top;\n",
       "    }\n",
       "\n",
       "    .dataframe thead th {\n",
       "        text-align: right;\n",
       "    }\n",
       "</style>\n",
       "<table border=\"1\" class=\"dataframe\">\n",
       "  <thead>\n",
       "    <tr style=\"text-align: right;\">\n",
       "      <th></th>\n",
       "      <th>id</th>\n",
       "      <th>object_name</th>\n",
       "      <th>chain</th>\n",
       "      <th>object_type</th>\n",
       "      <th>address</th>\n",
       "      <th>number</th>\n",
       "    </tr>\n",
       "  </thead>\n",
       "  <tbody>\n",
       "    <tr>\n",
       "      <th>0</th>\n",
       "      <td>151635</td>\n",
       "      <td>СМЕТАНА</td>\n",
       "      <td>нет</td>\n",
       "      <td>кафе</td>\n",
       "      <td>город Москва, улица Егора Абакумова, дом 9</td>\n",
       "      <td>48</td>\n",
       "    </tr>\n",
       "    <tr>\n",
       "      <th>1</th>\n",
       "      <td>77874</td>\n",
       "      <td>Родник</td>\n",
       "      <td>нет</td>\n",
       "      <td>кафе</td>\n",
       "      <td>город Москва, улица Талалихина, дом 2/1, корпус 1</td>\n",
       "      <td>35</td>\n",
       "    </tr>\n",
       "    <tr>\n",
       "      <th>2</th>\n",
       "      <td>24309</td>\n",
       "      <td>Кафе «Академия»</td>\n",
       "      <td>нет</td>\n",
       "      <td>кафе</td>\n",
       "      <td>город Москва, Абельмановская улица, дом 6</td>\n",
       "      <td>95</td>\n",
       "    </tr>\n",
       "    <tr>\n",
       "      <th>3</th>\n",
       "      <td>21894</td>\n",
       "      <td>ПИЦЦЕТОРИЯ</td>\n",
       "      <td>да</td>\n",
       "      <td>кафе</td>\n",
       "      <td>город Москва, Абрамцевская улица, дом 1</td>\n",
       "      <td>40</td>\n",
       "    </tr>\n",
       "    <tr>\n",
       "      <th>4</th>\n",
       "      <td>119365</td>\n",
       "      <td>Кафе «Вишневая метель»</td>\n",
       "      <td>нет</td>\n",
       "      <td>кафе</td>\n",
       "      <td>город Москва, Абрамцевская улица, дом 9, корпус 1</td>\n",
       "      <td>50</td>\n",
       "    </tr>\n",
       "  </tbody>\n",
       "</table>\n",
       "</div>"
      ],
      "text/plain": [
       "       id             object_name chain object_type  \\\n",
       "0  151635                 СМЕТАНА   нет        кафе   \n",
       "1   77874                  Родник   нет        кафе   \n",
       "2   24309         Кафе «Академия»   нет        кафе   \n",
       "3   21894              ПИЦЦЕТОРИЯ    да        кафе   \n",
       "4  119365  Кафе «Вишневая метель»   нет        кафе   \n",
       "\n",
       "                                             address  number  \n",
       "0         город Москва, улица Егора Абакумова, дом 9      48  \n",
       "1  город Москва, улица Талалихина, дом 2/1, корпус 1      35  \n",
       "2          город Москва, Абельмановская улица, дом 6      95  \n",
       "3            город Москва, Абрамцевская улица, дом 1      40  \n",
       "4  город Москва, Абрамцевская улица, дом 9, корпус 1      50  "
      ]
     },
     "execution_count": 4,
     "metadata": {},
     "output_type": "execute_result"
    }
   ],
   "source": [
    "df.head()"
   ]
  },
  {
   "cell_type": "code",
   "execution_count": 5,
   "id": "84c6e63a-c4c2-46b4-9919-5daa9a3f84b4",
   "metadata": {},
   "outputs": [
    {
     "name": "stdout",
     "output_type": "stream",
     "text": [
      "<class 'pandas.core.frame.DataFrame'>\n",
      "RangeIndex: 15366 entries, 0 to 15365\n",
      "Data columns (total 6 columns):\n",
      " #   Column       Non-Null Count  Dtype \n",
      "---  ------       --------------  ----- \n",
      " 0   id           15366 non-null  int64 \n",
      " 1   object_name  15366 non-null  object\n",
      " 2   chain        15366 non-null  object\n",
      " 3   object_type  15366 non-null  object\n",
      " 4   address      15366 non-null  object\n",
      " 5   number       15366 non-null  int64 \n",
      "dtypes: int64(2), object(4)\n",
      "memory usage: 720.4+ KB\n"
     ]
    }
   ],
   "source": [
    "df.info()"
   ]
  },
  {
   "cell_type": "markdown",
   "id": "02bf307b-5b6b-452c-8d7f-49dbdcac817d",
   "metadata": {},
   "source": [
    "Сохраним количество записей оригинального датафрейма для проверки."
   ]
  },
  {
   "cell_type": "code",
   "execution_count": 6,
   "id": "4ab50d27-9711-4e7d-bffe-ba7a5fec4766",
   "metadata": {},
   "outputs": [],
   "source": [
    "orig_shape = df.shape[0]"
   ]
  },
  {
   "cell_type": "markdown",
   "id": "68b1ca01-8ac6-4189-9163-1abdbf22681e",
   "metadata": {},
   "source": [
    "Посмотрим на описательную статистику посадочных мест."
   ]
  },
  {
   "cell_type": "code",
   "execution_count": 7,
   "id": "2c90a293-c43e-40c0-946e-276d6ce13b01",
   "metadata": {},
   "outputs": [
    {
     "data": {
      "text/plain": [
       "count    15366.000000\n",
       "mean        59.547182\n",
       "std         74.736833\n",
       "min          0.000000\n",
       "25%         12.000000\n",
       "50%         40.000000\n",
       "75%         80.000000\n",
       "max       1700.000000\n",
       "Name: number, dtype: float64"
      ]
     },
     "execution_count": 7,
     "metadata": {},
     "output_type": "execute_result"
    }
   ],
   "source": [
    "df['number'].describe()"
   ]
  },
  {
   "cell_type": "markdown",
   "id": "6979c1e0-9549-4a29-8596-f4f82774c3b3",
   "metadata": {},
   "source": [
    "Есть общепиты с количеством посадочных мест в 1700 человек. А также такие, где нет мест - 0. "
   ]
  },
  {
   "cell_type": "markdown",
   "id": "43277749-8b9c-41ab-af5e-1212c9db2410",
   "metadata": {},
   "source": [
    "Проверим, есть ли явные дубликаты."
   ]
  },
  {
   "cell_type": "code",
   "execution_count": 8,
   "id": "00cec727-76c1-491e-b550-3079df98438a",
   "metadata": {},
   "outputs": [
    {
     "data": {
      "text/plain": [
       "'Количество явных дубликатов: 0'"
      ]
     },
     "execution_count": 8,
     "metadata": {},
     "output_type": "execute_result"
    }
   ],
   "source": [
    "f'Количество явных дубликатов: {df.duplicated().sum()}'"
   ]
  },
  {
   "cell_type": "markdown",
   "id": "f35d392e-e97d-48de-a455-d8f6265b078c",
   "metadata": {},
   "source": [
    "## Поиск неявных дубликатов"
   ]
  },
  {
   "cell_type": "markdown",
   "id": "6ae76972-ae5d-41be-82ac-e4d4d68d618e",
   "metadata": {},
   "source": [
    "Сделаем небольшую предобработку текстовых данных:\n",
    "уберем у столбцов со строковыми данными пробелы слева и справа и больше одного пробела в середине (таковые могут быть) и заменем 'ё' на 'е'."
   ]
  },
  {
   "cell_type": "markdown",
   "id": "aece4352-16a1-421a-a91d-bff4d8e65a36",
   "metadata": {},
   "source": [
    "Для этого создадим функцию."
   ]
  },
  {
   "cell_type": "code",
   "execution_count": 9,
   "id": "6718866e-54a7-4a04-b216-c6afb23fef8f",
   "metadata": {},
   "outputs": [],
   "source": [
    "\"\"\"\n",
    "Функция для предобработки текстовых данных в датафрейме.\n",
    "Функция берет на вход датафрейм, в цикле перебираются названия столбцов. \n",
    "Если столбец не попадает в .describe, то он хранит в себе текстовые данные, а значит, мы можем смело делать преобразования с текстом:\n",
    "заменяем букву 'ё', в т.ч. большую, на 'е', убираем лишние пробелы в середине и по бокам.\n",
    "\"\"\"\n",
    "def preprocess_text_columns(dataframe):\n",
    "    for column_name in dataframe.columns:\n",
    "        if column_name not in dataframe.describe().columns:\n",
    "            dataframe[column_name] = (dataframe[column_name].replace({'ё': 'е', 'Ё': 'Е',' {2,}': ' '}, regex=True)\n",
    "                                   .str.strip())\n",
    "            "
   ]
  },
  {
   "cell_type": "markdown",
   "id": "9873b627-0a4d-42e6-804c-9ee1331b855d",
   "metadata": {},
   "source": [
    "Проверим на тестовом примере, как работает наша функция, прежде чем запускать ее на наших данных."
   ]
  },
  {
   "cell_type": "code",
   "execution_count": 10,
   "id": "79ff7421-d4af-470e-81a4-c77ef989e1bf",
   "metadata": {
    "tags": []
   },
   "outputs": [
    {
     "name": "stdout",
     "output_type": "stream",
     "text": [
      "Столбец с текстом до предобработки:\n",
      "[' весна пришла', 'кафе   Свёкла', 'Ёрш', 'весна ушла ']\n",
      "Столбец с текстом ПОСЛЕ предобработки:\n",
      "['весна пришла', 'кафе Свекла', 'Ерш', 'весна ушла']\n"
     ]
    }
   ],
   "source": [
    "test = pd.DataFrame({'A': [0, 1, 2, 3],\n",
    "                   'B': [' весна пришла', 'кафе   Свёкла', 'Ёрш', 'весна ушла ']})\n",
    "\n",
    "print('Столбец с текстом до предобработки:')\n",
    "print(test['B'].tolist())\n",
    "preprocess_text_columns(test)\n",
    "print('Столбец с текстом ПОСЛЕ предобработки:')\n",
    "print(test['B'].tolist())"
   ]
  },
  {
   "cell_type": "markdown",
   "id": "cb038ed4-4c65-420d-b9a0-29df0e0c992b",
   "metadata": {},
   "source": [
    "Предобрабатываем наш исходный датафрейм."
   ]
  },
  {
   "cell_type": "code",
   "execution_count": 11,
   "id": "ea1ca6b3-9c76-4f1e-8393-5f65c12b5610",
   "metadata": {
    "tags": []
   },
   "outputs": [],
   "source": [
    "preprocess_text_columns(df)"
   ]
  },
  {
   "cell_type": "markdown",
   "id": "b3d6af4c-4f16-4a13-b5d4-2638cd861aeb",
   "metadata": {},
   "source": [
    "Посмотрим на айдишники объектов, нет ли там повторяющихся."
   ]
  },
  {
   "cell_type": "code",
   "execution_count": 12,
   "id": "aeb03598-faf7-4fa1-9537-6a25c8555c5a",
   "metadata": {},
   "outputs": [
    {
     "data": {
      "text/plain": [
       "15366"
      ]
     },
     "execution_count": 12,
     "metadata": {},
     "output_type": "execute_result"
    }
   ],
   "source": [
    "df['id'].nunique()"
   ]
  },
  {
   "cell_type": "markdown",
   "id": "1c80f439-82cb-4501-a23c-49ad3c4cefa5",
   "metadata": {},
   "source": [
    "Тут все хорошо. Исследуем дальше. "
   ]
  },
  {
   "cell_type": "markdown",
   "id": "60336a77-b019-4ea2-b586-7091e52f560b",
   "metadata": {},
   "source": [
    "Попробуем посмотреть на объекты с одним и тем же адресом, названием, типом объекта и количестом посадочных мест."
   ]
  },
  {
   "cell_type": "code",
   "execution_count": 13,
   "id": "c57b867b-ce1f-48ab-a2e2-ea82dbdfb763",
   "metadata": {
    "tags": []
   },
   "outputs": [
    {
     "data": {
      "text/html": [
       "<div>\n",
       "<style scoped>\n",
       "    .dataframe tbody tr th:only-of-type {\n",
       "        vertical-align: middle;\n",
       "    }\n",
       "\n",
       "    .dataframe tbody tr th {\n",
       "        vertical-align: top;\n",
       "    }\n",
       "\n",
       "    .dataframe thead th {\n",
       "        text-align: right;\n",
       "    }\n",
       "</style>\n",
       "<table border=\"1\" class=\"dataframe\">\n",
       "  <thead>\n",
       "    <tr style=\"text-align: right;\">\n",
       "      <th></th>\n",
       "      <th>id</th>\n",
       "      <th>object_name</th>\n",
       "      <th>chain</th>\n",
       "      <th>object_type</th>\n",
       "      <th>address</th>\n",
       "      <th>number</th>\n",
       "    </tr>\n",
       "  </thead>\n",
       "  <tbody>\n",
       "    <tr>\n",
       "      <th>2374</th>\n",
       "      <td>28603</td>\n",
       "      <td>КОМБИНАТ ПИТАНИЯ МГТУ ИМ.Н.Э.БАУМАНА</td>\n",
       "      <td>нет</td>\n",
       "      <td>столовая</td>\n",
       "      <td>город Москва, 2-я Бауманская улица, дом 5, стр...</td>\n",
       "      <td>100</td>\n",
       "    </tr>\n",
       "    <tr>\n",
       "      <th>2381</th>\n",
       "      <td>28611</td>\n",
       "      <td>КОМБИНАТ ПИТАНИЯ МГТУ ИМ.Н.Э.БАУМАНА</td>\n",
       "      <td>нет</td>\n",
       "      <td>столовая</td>\n",
       "      <td>город Москва, 2-я Бауманская улица, дом 5, стр...</td>\n",
       "      <td>100</td>\n",
       "    </tr>\n",
       "    <tr>\n",
       "      <th>2869</th>\n",
       "      <td>25031</td>\n",
       "      <td>LALTRO BOSCO</td>\n",
       "      <td>нет</td>\n",
       "      <td>ресторан</td>\n",
       "      <td>город Москва, улица Петровка, дом 10</td>\n",
       "      <td>145</td>\n",
       "    </tr>\n",
       "    <tr>\n",
       "      <th>3480</th>\n",
       "      <td>20913</td>\n",
       "      <td>Буфет Мади</td>\n",
       "      <td>нет</td>\n",
       "      <td>буфет</td>\n",
       "      <td>город Москва, Ленинградский проспект, дом 64</td>\n",
       "      <td>40</td>\n",
       "    </tr>\n",
       "    <tr>\n",
       "      <th>3481</th>\n",
       "      <td>20914</td>\n",
       "      <td>Буфет Мади</td>\n",
       "      <td>нет</td>\n",
       "      <td>буфет</td>\n",
       "      <td>город Москва, Ленинградский проспект, дом 64</td>\n",
       "      <td>40</td>\n",
       "    </tr>\n",
       "    <tr>\n",
       "      <th>...</th>\n",
       "      <td>...</td>\n",
       "      <td>...</td>\n",
       "      <td>...</td>\n",
       "      <td>...</td>\n",
       "      <td>...</td>\n",
       "      <td>...</td>\n",
       "    </tr>\n",
       "    <tr>\n",
       "      <th>14596</th>\n",
       "      <td>204947</td>\n",
       "      <td>Буфет при кинотеатре</td>\n",
       "      <td>нет</td>\n",
       "      <td>буфет</td>\n",
       "      <td>город Москва, Ореховый бульвар, дом 22А</td>\n",
       "      <td>0</td>\n",
       "    </tr>\n",
       "    <tr>\n",
       "      <th>14843</th>\n",
       "      <td>219509</td>\n",
       "      <td>Sushi-Make</td>\n",
       "      <td>нет</td>\n",
       "      <td>предприятие быстрого обслуживания</td>\n",
       "      <td>город Москва, Ярцевская улица, дом 19</td>\n",
       "      <td>0</td>\n",
       "    </tr>\n",
       "    <tr>\n",
       "      <th>14844</th>\n",
       "      <td>219518</td>\n",
       "      <td>Sushi-Make</td>\n",
       "      <td>нет</td>\n",
       "      <td>предприятие быстрого обслуживания</td>\n",
       "      <td>город Москва, Ярцевская улица, дом 19</td>\n",
       "      <td>0</td>\n",
       "    </tr>\n",
       "    <tr>\n",
       "      <th>15173</th>\n",
       "      <td>218542</td>\n",
       "      <td>Кофе с собой</td>\n",
       "      <td>да</td>\n",
       "      <td>предприятие быстрого обслуживания</td>\n",
       "      <td>город Москва, Алтуфьевское шоссе, дом 70, корп...</td>\n",
       "      <td>0</td>\n",
       "    </tr>\n",
       "    <tr>\n",
       "      <th>15217</th>\n",
       "      <td>214146</td>\n",
       "      <td>Макдоналдс</td>\n",
       "      <td>да</td>\n",
       "      <td>предприятие быстрого обслуживания</td>\n",
       "      <td>город Москва, Кировоградская улица, дом 13А</td>\n",
       "      <td>0</td>\n",
       "    </tr>\n",
       "  </tbody>\n",
       "</table>\n",
       "<p>144 rows × 6 columns</p>\n",
       "</div>"
      ],
      "text/plain": [
       "           id                           object_name chain  \\\n",
       "2374    28603  КОМБИНАТ ПИТАНИЯ МГТУ ИМ.Н.Э.БАУМАНА   нет   \n",
       "2381    28611  КОМБИНАТ ПИТАНИЯ МГТУ ИМ.Н.Э.БАУМАНА   нет   \n",
       "2869    25031                          LALTRO BOSCO   нет   \n",
       "3480    20913                            Буфет Мади   нет   \n",
       "3481    20914                            Буфет Мади   нет   \n",
       "...       ...                                   ...   ...   \n",
       "14596  204947                  Буфет при кинотеатре   нет   \n",
       "14843  219509                            Sushi-Make   нет   \n",
       "14844  219518                            Sushi-Make   нет   \n",
       "15173  218542                          Кофе с собой    да   \n",
       "15217  214146                            Макдоналдс    да   \n",
       "\n",
       "                             object_type  \\\n",
       "2374                            столовая   \n",
       "2381                            столовая   \n",
       "2869                            ресторан   \n",
       "3480                               буфет   \n",
       "3481                               буфет   \n",
       "...                                  ...   \n",
       "14596                              буфет   \n",
       "14843  предприятие быстрого обслуживания   \n",
       "14844  предприятие быстрого обслуживания   \n",
       "15173  предприятие быстрого обслуживания   \n",
       "15217  предприятие быстрого обслуживания   \n",
       "\n",
       "                                                 address  number  \n",
       "2374   город Москва, 2-я Бауманская улица, дом 5, стр...     100  \n",
       "2381   город Москва, 2-я Бауманская улица, дом 5, стр...     100  \n",
       "2869                город Москва, улица Петровка, дом 10     145  \n",
       "3480        город Москва, Ленинградский проспект, дом 64      40  \n",
       "3481        город Москва, Ленинградский проспект, дом 64      40  \n",
       "...                                                  ...     ...  \n",
       "14596            город Москва, Ореховый бульвар, дом 22А       0  \n",
       "14843              город Москва, Ярцевская улица, дом 19       0  \n",
       "14844              город Москва, Ярцевская улица, дом 19       0  \n",
       "15173  город Москва, Алтуфьевское шоссе, дом 70, корп...       0  \n",
       "15217        город Москва, Кировоградская улица, дом 13А       0  \n",
       "\n",
       "[144 rows x 6 columns]"
      ]
     },
     "execution_count": 13,
     "metadata": {},
     "output_type": "execute_result"
    }
   ],
   "source": [
    "df[df.duplicated(subset = ['address', 'object_name', 'object_type', 'number'], keep = False)]"
   ]
  },
  {
   "cell_type": "markdown",
   "id": "120753b0-4271-4241-bc33-55987244624d",
   "metadata": {},
   "source": [
    "Уберем параметр keep=False, только первая запись будет считаться уникальной, а все остальные одинаковые будут считаться дубликатами.  "
   ]
  },
  {
   "cell_type": "code",
   "execution_count": 14,
   "id": "ab739436-8222-4e47-a10b-b748ee383707",
   "metadata": {},
   "outputs": [
    {
     "data": {
      "text/plain": [
       "82"
      ]
     },
     "execution_count": 14,
     "metadata": {},
     "output_type": "execute_result"
    }
   ],
   "source": [
    "len(df[df.duplicated(subset = ['address', 'object_name', 'object_type', 'number'])])"
   ]
  },
  {
   "cell_type": "markdown",
   "id": "d74ad6b7-f63b-4e64-a9c8-9ffc43cbc5f3",
   "metadata": {},
   "source": [
    "В итоге мы обнаружили 82 дубликата. Посмотрим на них еще раз. "
   ]
  },
  {
   "cell_type": "code",
   "execution_count": 15,
   "id": "8b3d9040-64ad-4337-8f54-4c05861e42fe",
   "metadata": {
    "tags": []
   },
   "outputs": [
    {
     "data": {
      "text/html": [
       "<div>\n",
       "<style scoped>\n",
       "    .dataframe tbody tr th:only-of-type {\n",
       "        vertical-align: middle;\n",
       "    }\n",
       "\n",
       "    .dataframe tbody tr th {\n",
       "        vertical-align: top;\n",
       "    }\n",
       "\n",
       "    .dataframe thead th {\n",
       "        text-align: right;\n",
       "    }\n",
       "</style>\n",
       "<table border=\"1\" class=\"dataframe\">\n",
       "  <thead>\n",
       "    <tr style=\"text-align: right;\">\n",
       "      <th></th>\n",
       "      <th>id</th>\n",
       "      <th>object_name</th>\n",
       "      <th>chain</th>\n",
       "      <th>object_type</th>\n",
       "      <th>address</th>\n",
       "      <th>number</th>\n",
       "    </tr>\n",
       "  </thead>\n",
       "  <tbody>\n",
       "    <tr>\n",
       "      <th>2381</th>\n",
       "      <td>28611</td>\n",
       "      <td>КОМБИНАТ ПИТАНИЯ МГТУ ИМ.Н.Э.БАУМАНА</td>\n",
       "      <td>нет</td>\n",
       "      <td>столовая</td>\n",
       "      <td>город Москва, 2-я Бауманская улица, дом 5, стр...</td>\n",
       "      <td>100</td>\n",
       "    </tr>\n",
       "    <tr>\n",
       "      <th>3481</th>\n",
       "      <td>20914</td>\n",
       "      <td>Буфет Мади</td>\n",
       "      <td>нет</td>\n",
       "      <td>буфет</td>\n",
       "      <td>город Москва, Ленинградский проспект, дом 64</td>\n",
       "      <td>40</td>\n",
       "    </tr>\n",
       "    <tr>\n",
       "      <th>4431</th>\n",
       "      <td>23759</td>\n",
       "      <td>СТОЛОВАЯ ГБОУ города Москвы № 384</td>\n",
       "      <td>нет</td>\n",
       "      <td>буфет</td>\n",
       "      <td>город Москва, Беловежская улица, дом 67</td>\n",
       "      <td>100</td>\n",
       "    </tr>\n",
       "    <tr>\n",
       "      <th>4537</th>\n",
       "      <td>23391</td>\n",
       "      <td>Столовая «Комбинат питания КОСМОС»</td>\n",
       "      <td>нет</td>\n",
       "      <td>столовая</td>\n",
       "      <td>город Москва, Новозаводская улица, дом 12/11</td>\n",
       "      <td>15</td>\n",
       "    </tr>\n",
       "    <tr>\n",
       "      <th>5059</th>\n",
       "      <td>20021</td>\n",
       "      <td>LIFT</td>\n",
       "      <td>нет</td>\n",
       "      <td>кафе</td>\n",
       "      <td>город Москва, Багратионовский проезд, дом 7, к...</td>\n",
       "      <td>20</td>\n",
       "    </tr>\n",
       "  </tbody>\n",
       "</table>\n",
       "</div>"
      ],
      "text/plain": [
       "         id                           object_name chain object_type  \\\n",
       "2381  28611  КОМБИНАТ ПИТАНИЯ МГТУ ИМ.Н.Э.БАУМАНА   нет    столовая   \n",
       "3481  20914                            Буфет Мади   нет       буфет   \n",
       "4431  23759     СТОЛОВАЯ ГБОУ города Москвы № 384   нет       буфет   \n",
       "4537  23391    Столовая «Комбинат питания КОСМОС»   нет    столовая   \n",
       "5059  20021                                  LIFT   нет        кафе   \n",
       "\n",
       "                                                address  number  \n",
       "2381  город Москва, 2-я Бауманская улица, дом 5, стр...     100  \n",
       "3481       город Москва, Ленинградский проспект, дом 64      40  \n",
       "4431            город Москва, Беловежская улица, дом 67     100  \n",
       "4537       город Москва, Новозаводская улица, дом 12/11      15  \n",
       "5059  город Москва, Багратионовский проезд, дом 7, к...      20  "
      ]
     },
     "execution_count": 15,
     "metadata": {},
     "output_type": "execute_result"
    }
   ],
   "source": [
    "df[df.duplicated(subset = ['address', 'object_name', 'object_type', 'number'])].head(5)"
   ]
  },
  {
   "cell_type": "markdown",
   "id": "73e1f928-fe16-4b8e-9b09-396aec292005",
   "metadata": {},
   "source": [
    "Удалим 82 неявных дубликата."
   ]
  },
  {
   "cell_type": "code",
   "execution_count": 16,
   "id": "02bc9a65-5b54-4c10-847b-bf9c267e6204",
   "metadata": {},
   "outputs": [],
   "source": [
    "bool_series = df.duplicated(subset = ['address', 'object_name', 'object_type', 'number'])\n",
    "df = df[~bool_series]"
   ]
  },
  {
   "cell_type": "markdown",
   "id": "a12ecac0-9de6-425d-b3d2-193bcff532bf",
   "metadata": {},
   "source": [
    "Проверяем, что мы удалили столько дубликатов, сколько нашли."
   ]
  },
  {
   "cell_type": "code",
   "execution_count": 17,
   "id": "b09174d8-ec8b-4f6c-8e0c-62470ae6ed66",
   "metadata": {},
   "outputs": [
    {
     "data": {
      "text/plain": [
       "'Мы удалили 82 дубликата'"
      ]
     },
     "execution_count": 17,
     "metadata": {},
     "output_type": "execute_result"
    }
   ],
   "source": [
    "f\"Мы удалили {orig_shape - len(df)} дубликата\""
   ]
  },
  {
   "cell_type": "markdown",
   "id": "025f26f0-ca56-489a-b29a-3b931dd95460",
   "metadata": {},
   "source": [
    "Отлично, мы удалили ни больше, ни меньше - 82 дубликата. "
   ]
  },
  {
   "cell_type": "markdown",
   "id": "efa82c9f-16bd-44a8-acdb-db65ec5507b4",
   "metadata": {},
   "source": [
    "Выведем, сколько данных мы отрезали в процентном отношении."
   ]
  },
  {
   "cell_type": "code",
   "execution_count": 18,
   "id": "38fef873-ae48-40c1-8e73-7ab59c5f8755",
   "metadata": {},
   "outputs": [
    {
     "data": {
      "text/plain": [
       "'Мы отрезали 0.5% данных'"
      ]
     },
     "execution_count": 18,
     "metadata": {},
     "output_type": "execute_result"
    }
   ],
   "source": [
    "f\"Мы отрезали {1 - df.shape[0] / orig_shape:.1%} данных\""
   ]
  },
  {
   "cell_type": "code",
   "execution_count": 19,
   "id": "a8f83f9b-3921-446b-bf3d-78137a702823",
   "metadata": {},
   "outputs": [
    {
     "data": {
      "text/plain": [
       "'В итоге у нас 15284 записей в датафрейме.'"
      ]
     },
     "execution_count": 19,
     "metadata": {},
     "output_type": "execute_result"
    }
   ],
   "source": [
    "f'В итоге у нас {len(df)} записей в датафрейме.'"
   ]
  },
  {
   "cell_type": "markdown",
   "id": "5a2aad5a-ec60-4f2e-820c-954915483c39",
   "metadata": {},
   "source": [
    "Совсем мало и допустимо. Зато данные стали чуть чище. "
   ]
  },
  {
   "cell_type": "markdown",
   "id": "224159fb-5a07-4e29-aa6a-ae98b8ed9d6e",
   "metadata": {},
   "source": [
    "Посмотрим на распределение значений по остальным столбцам, кроме id и number."
   ]
  },
  {
   "cell_type": "code",
   "execution_count": 20,
   "id": "ea4ef9f7-3049-447f-a147-1736e6c778eb",
   "metadata": {
    "tags": []
   },
   "outputs": [
    {
     "name": "stdout",
     "output_type": "stream",
     "text": [
      "Столбец: object_name \n",
      "\n",
      "Столовая                   267\n",
      "Шаурма                     226\n",
      "Кафе                       222\n",
      "KFC                        155\n",
      "Шоколадница                142\n",
      "                          ... \n",
      "Столовая ТЦ «Энтузиаст»      1\n",
      "Охунова У.Д.                 1\n",
      "СОК ООО АВТОКОМБИНАТ 3       1\n",
      "АВТОКОМБИНАТ 3               1\n",
      "Кальянная «Мята Lounge»      1\n",
      "Name: object_name, Length: 10388, dtype: int64 \n",
      "\n",
      "Столбец: chain \n",
      "\n",
      "нет    12320\n",
      "да      2964\n",
      "Name: chain, dtype: int64 \n",
      "\n",
      "Столбец: object_type \n",
      "\n",
      "кафе                                 6071\n",
      "столовая                             2584\n",
      "ресторан                             2282\n",
      "предприятие быстрого обслуживания    1898\n",
      "бар                                   855\n",
      "буфет                                 577\n",
      "кафетерий                             395\n",
      "закусочная                            349\n",
      "магазин (отдел кулинарии)             273\n",
      "Name: object_type, dtype: int64 \n",
      "\n",
      "Столбец: address \n",
      "\n",
      "город Москва, Ходынский бульвар, дом 4                          95\n",
      "город Москва, Пресненская набережная, дом 2                     63\n",
      "город Москва, проспект Мира, дом 211, корпус 2                  60\n",
      "город Москва, Кировоградская улица, дом 13А                     52\n",
      "город Москва, площадь Киевского Вокзала, дом 2                  47\n",
      "                                                                ..\n",
      "город Москва, Шереметьевская улица, дом 28                       1\n",
      "город Москва, Большая Переяславская улица, дом 1, строение 1     1\n",
      "город Москва, проспект Мира, дом 87                              1\n",
      "город Москва, Новомосковская улица, дом 15А, строение 1          1\n",
      "город Москва, улица Новый Арбат, дом 13                          1\n",
      "Name: address, Length: 9108, dtype: int64 \n",
      "\n"
     ]
    }
   ],
   "source": [
    "for column_name in df.columns:\n",
    "    if column_name not in df.describe().columns:\n",
    "        print('Столбец:', column_name, '\\n')\n",
    "        print(df[column_name].value_counts(), '\\n')"
   ]
  },
  {
   "cell_type": "markdown",
   "id": "418ead18-1311-47c2-b0f8-398af6252371",
   "metadata": {},
   "source": [
    "## Исследование геолокаций объектов: объекты за МКАДом, новые административные округа Москвы"
   ]
  },
  {
   "cell_type": "markdown",
   "id": "de0d93c3-41f7-4a91-8acc-1a4fed1fd3a4",
   "metadata": {},
   "source": [
    "Поскольку изначально речь шла об открытии кафе в Москве, проверим, какие у нас здесь адреса. Вдруг в данных закрались объекты, которые находятся в других городах."
   ]
  },
  {
   "cell_type": "code",
   "execution_count": 21,
   "id": "3ab67fbf-017f-48b1-b515-44b2a7e3e132",
   "metadata": {},
   "outputs": [],
   "source": [
    "unusual_ad = df[~df['address'].str.contains(r'Москва')]"
   ]
  },
  {
   "cell_type": "code",
   "execution_count": 22,
   "id": "27e5e9c9-2080-4021-8a12-f033355fd6e2",
   "metadata": {
    "tags": []
   },
   "outputs": [
    {
     "data": {
      "text/plain": [
       "'Количество объектов не в пределах МКАД: 71'"
      ]
     },
     "execution_count": 22,
     "metadata": {},
     "output_type": "execute_result"
    }
   ],
   "source": [
    "f'Количество объектов не в пределах МКАД: {len(unusual_ad)}'"
   ]
  },
  {
   "cell_type": "markdown",
   "id": "fdf37c9d-7ea0-4ce7-932f-d67b377cb081",
   "metadata": {},
   "source": [
    "Список получился короткий. Посмотрим глазами."
   ]
  },
  {
   "cell_type": "code",
   "execution_count": 23,
   "id": "bb85120d-93d0-4662-a402-2008b1f5ae42",
   "metadata": {
    "tags": []
   },
   "outputs": [
    {
     "data": {
      "text/plain": [
       "859                             Партизанская улица, дом 30\n",
       "860                             Партизанская улица, дом 30\n",
       "1491                  Поречная улица, дом 5/14, строение 1\n",
       "7691                        1-й Нагатинский проезд, дом 10\n",
       "7827            Софийская набережная, дом 26/1, строение 1\n",
       "7938             Нижний Таганский тупик, дом 3, строение 1\n",
       "8759             Николоямская улица, дом 28/60, строение 1\n",
       "8760             Николоямская улица, дом 28/60, строение 1\n",
       "8764           улица Каманина, домовладение 11, строение 2\n",
       "8771                  Погодинская улица, дом 4, строение 1\n",
       "8773        Большая Бронная улица, дом 20/1/27, строение 2\n",
       "8776                2-я Брестская улица, дом 1, строение 1\n",
       "8793                 Профсоюзная улица, дом 118Б, корпус 1\n",
       "8798               Калашный переулок, дом 8А/5, строение 3\n",
       "8803                  Солянский тупик, дом 1/4, строение 1\n",
       "8804            улица Земляной Вал, дом 58/23, строение 1А\n",
       "8808                 Таганская площадь, дом 88, строение 4\n",
       "8813                             проезд Добролюбова, дом 2\n",
       "8826                    улица Обручева, дом 23, строение 1\n",
       "8830             Вспольный переулок, дом 19/20, строение 1\n",
       "8834           улица Ленинская Слобода, дом 26, строение 5\n",
       "8835           улица Ленинская Слобода, дом 26, строение 5\n",
       "8836          улица Ленинская Слобода, дом 26, строение 11\n",
       "8837              Дербеневская улица, дом 11А, строение 17\n",
       "8842        Проектируемый проезд N 5231, дом 8, строение 3\n",
       "8843                      Ленинский проспект, владение 164\n",
       "8854                     Новоданиловская набережная, дом 6\n",
       "8860                   5-й Котельнический переулок, дом 11\n",
       "8867                                улица Знаменка, дом 14\n",
       "8871                    Школьная улица, дом 48, строение 1\n",
       "8874          поселение Сосенское, деревня Столбово, дом 1\n",
       "8875                                 Полевая улица, дом 20\n",
       "8879     поселение Марушкинское, деревня Давыдково, дом...\n",
       "8881     поселение Михайлово-Ярцевское, деревня Сенькин...\n",
       "8882     город Московский, Солнечная улица, дом 3А, стр...\n",
       "8883     город Московский, Солнечная улица, дом 3А, стр...\n",
       "8884         Митинская улица, дом 28, корпус 5, строение 1\n",
       "8890                      Чертановская улица, владение 32Б\n",
       "8893               город Московский, улица Хабарова, дом 2\n",
       "8897                        Варшавское шоссе, владение 99А\n",
       "8899                          улица Миклухо-Маклая, дом 18\n",
       "8903        1-я Тверская-Ямская улица, дом 29/66, корпус 1\n",
       "8904                       улица Ленинская Слобода, дом 26\n",
       "9214           Краснобогатырская улица, дом 90, строение 1\n",
       "9215     город Троицк, 42-й километр Калужского шоссе, ...\n",
       "9445                              Медынская улица, дом 11А\n",
       "9763                     Таганская улица, дом 19, корпус 1\n",
       "9998                   Коровинское шоссе, дом 46, корпус 1\n",
       "10010                           Суворовская площадь, дом 2\n",
       "10200                  Тушинская улица, дом 16, строение 2\n",
       "10458       Большая Серпуховская улица, дом 48, строение 2\n",
       "10505            Николоямская улица, дом 28/60, строение 1\n",
       "10712             Ленинградский проспект, дом 37, корпус 4\n",
       "10715               2-я Брестская улица, дом 5, строение 1\n",
       "10852           Ленинградский проспект, дом 39, строение 2\n",
       "10959      Садовая-Сухаревская улица, дом 2/34, строение 2\n",
       "10988                 Солянский тупик, дом 1/4, строение 2\n",
       "11615              улица Сергея Макеева, дом 9, строение 2\n",
       "11963                                Киевская улица, дом 7\n",
       "12017                          Алтуфьевское шоссе, дом 52А\n",
       "12401                          улица Льва Толстого, дом 18\n",
       "12402                          улица Льва Толстого, дом 18\n",
       "12403                          улица Льва Толстого, дом 18\n",
       "12535             Вознесенский переулок, дом 7, строение 1\n",
       "12704         Николоямская улица, дом 38/14/23, строение 3\n",
       "13184                  Бауманская улица, дом 7, строение 3\n",
       "13185                  Бауманская улица, дом 7, строение 3\n",
       "13399                 Солянский тупик, дом 1/4, строение 1\n",
       "13991                Таганская площадь, дом 88, строение 4\n",
       "14003       Шарикоподшипниковская улица, дом 5, строение 1\n",
       "15015    поселение \"Мосрентген\", деревня Дудкино, владе...\n",
       "Name: address, dtype: object"
      ]
     },
     "execution_count": 23,
     "metadata": {},
     "output_type": "execute_result"
    }
   ],
   "source": [
    "pd.set_option('display.max_rows', None)\n",
    "unusual_ad['address']"
   ]
  },
  {
   "cell_type": "code",
   "execution_count": 24,
   "id": "515f6335-dd51-488a-9bee-d005524da6d4",
   "metadata": {},
   "outputs": [],
   "source": [
    "pd.reset_option('all', silent=True)"
   ]
  },
  {
   "cell_type": "markdown",
   "id": "f3f877a3-828f-446f-9ae3-908c4b54bebe",
   "metadata": {},
   "source": [
    "Бросается в глаза город Троицк, поселение Сосенское ит.д. Это новые административные округа Москвы за МКАДом. \n",
    "А есть просто московские адреса без указания улиц. Скорее всего, могут быть такие адреса, где есть Москва и при этом город из такого административного округа. Проверим это."
   ]
  },
  {
   "cell_type": "code",
   "execution_count": 25,
   "id": "f5dc6c82-cfe4-4bb9-a06d-238aeea92a1e",
   "metadata": {
    "tags": []
   },
   "outputs": [
    {
     "data": {
      "text/html": [
       "<div>\n",
       "<style scoped>\n",
       "    .dataframe tbody tr th:only-of-type {\n",
       "        vertical-align: middle;\n",
       "    }\n",
       "\n",
       "    .dataframe tbody tr th {\n",
       "        vertical-align: top;\n",
       "    }\n",
       "\n",
       "    .dataframe thead th {\n",
       "        text-align: right;\n",
       "    }\n",
       "</style>\n",
       "<table border=\"1\" class=\"dataframe\">\n",
       "  <thead>\n",
       "    <tr style=\"text-align: right;\">\n",
       "      <th></th>\n",
       "      <th>id</th>\n",
       "      <th>object_name</th>\n",
       "      <th>chain</th>\n",
       "      <th>object_type</th>\n",
       "      <th>address</th>\n",
       "      <th>number</th>\n",
       "    </tr>\n",
       "  </thead>\n",
       "  <tbody>\n",
       "    <tr>\n",
       "      <th>1386</th>\n",
       "      <td>22331</td>\n",
       "      <td>СТОЛОВАЯ МИЭТ</td>\n",
       "      <td>нет</td>\n",
       "      <td>столовая</td>\n",
       "      <td>город Москва, город Зеленоград, улица Юности, ...</td>\n",
       "      <td>56</td>\n",
       "    </tr>\n",
       "    <tr>\n",
       "      <th>1405</th>\n",
       "      <td>20199</td>\n",
       "      <td>ЭТО</td>\n",
       "      <td>нет</td>\n",
       "      <td>кафе</td>\n",
       "      <td>город Москва, город Зеленоград, корпус 401</td>\n",
       "      <td>35</td>\n",
       "    </tr>\n",
       "    <tr>\n",
       "      <th>1406</th>\n",
       "      <td>68113</td>\n",
       "      <td>Френдс</td>\n",
       "      <td>нет</td>\n",
       "      <td>кафе</td>\n",
       "      <td>город Москва, город Зеленоград, корпус 435</td>\n",
       "      <td>34</td>\n",
       "    </tr>\n",
       "    <tr>\n",
       "      <th>1407</th>\n",
       "      <td>20105</td>\n",
       "      <td>Кафе «Граф Монте-Кристо»</td>\n",
       "      <td>нет</td>\n",
       "      <td>кафе</td>\n",
       "      <td>город Москва, город Зеленоград, корпус 436</td>\n",
       "      <td>40</td>\n",
       "    </tr>\n",
       "    <tr>\n",
       "      <th>1408</th>\n",
       "      <td>22982</td>\n",
       "      <td>Альфорно</td>\n",
       "      <td>нет</td>\n",
       "      <td>кафе</td>\n",
       "      <td>город Москва, город Зеленоград, корпус 438</td>\n",
       "      <td>49</td>\n",
       "    </tr>\n",
       "    <tr>\n",
       "      <th>...</th>\n",
       "      <td>...</td>\n",
       "      <td>...</td>\n",
       "      <td>...</td>\n",
       "      <td>...</td>\n",
       "      <td>...</td>\n",
       "      <td>...</td>\n",
       "    </tr>\n",
       "    <tr>\n",
       "      <th>15206</th>\n",
       "      <td>210732</td>\n",
       "      <td>Баскин Роббинс</td>\n",
       "      <td>да</td>\n",
       "      <td>предприятие быстрого обслуживания</td>\n",
       "      <td>город Москва, город Московский, улица Хабарова...</td>\n",
       "      <td>0</td>\n",
       "    </tr>\n",
       "    <tr>\n",
       "      <th>15244</th>\n",
       "      <td>210743</td>\n",
       "      <td>KFC</td>\n",
       "      <td>да</td>\n",
       "      <td>предприятие быстрого обслуживания</td>\n",
       "      <td>город Москва, город Московский, улица Хабарова...</td>\n",
       "      <td>0</td>\n",
       "    </tr>\n",
       "    <tr>\n",
       "      <th>15256</th>\n",
       "      <td>211215</td>\n",
       "      <td>Милти</td>\n",
       "      <td>да</td>\n",
       "      <td>предприятие быстрого обслуживания</td>\n",
       "      <td>город Москва, город Щербинка, Железнодорожная ...</td>\n",
       "      <td>0</td>\n",
       "    </tr>\n",
       "    <tr>\n",
       "      <th>15327</th>\n",
       "      <td>210815</td>\n",
       "      <td>Милти</td>\n",
       "      <td>да</td>\n",
       "      <td>предприятие быстрого обслуживания</td>\n",
       "      <td>город Москва, город Московский, улица Хабарова...</td>\n",
       "      <td>0</td>\n",
       "    </tr>\n",
       "    <tr>\n",
       "      <th>15342</th>\n",
       "      <td>210776</td>\n",
       "      <td>Мята Lounge</td>\n",
       "      <td>да</td>\n",
       "      <td>ресторан</td>\n",
       "      <td>город Москва, город Московский, улица Хабарова...</td>\n",
       "      <td>50</td>\n",
       "    </tr>\n",
       "  </tbody>\n",
       "</table>\n",
       "<p>399 rows × 6 columns</p>\n",
       "</div>"
      ],
      "text/plain": [
       "           id               object_name chain  \\\n",
       "1386    22331             СТОЛОВАЯ МИЭТ   нет   \n",
       "1405    20199                       ЭТО   нет   \n",
       "1406    68113                    Френдс   нет   \n",
       "1407    20105  Кафе «Граф Монте-Кристо»   нет   \n",
       "1408    22982                  Альфорно   нет   \n",
       "...       ...                       ...   ...   \n",
       "15206  210732            Баскин Роббинс    да   \n",
       "15244  210743                       KFC    да   \n",
       "15256  211215                     Милти    да   \n",
       "15327  210815                     Милти    да   \n",
       "15342  210776               Мята Lounge    да   \n",
       "\n",
       "                             object_type  \\\n",
       "1386                            столовая   \n",
       "1405                                кафе   \n",
       "1406                                кафе   \n",
       "1407                                кафе   \n",
       "1408                                кафе   \n",
       "...                                  ...   \n",
       "15206  предприятие быстрого обслуживания   \n",
       "15244  предприятие быстрого обслуживания   \n",
       "15256  предприятие быстрого обслуживания   \n",
       "15327  предприятие быстрого обслуживания   \n",
       "15342                           ресторан   \n",
       "\n",
       "                                                 address  number  \n",
       "1386   город Москва, город Зеленоград, улица Юности, ...      56  \n",
       "1405          город Москва, город Зеленоград, корпус 401      35  \n",
       "1406          город Москва, город Зеленоград, корпус 435      34  \n",
       "1407          город Москва, город Зеленоград, корпус 436      40  \n",
       "1408          город Москва, город Зеленоград, корпус 438      49  \n",
       "...                                                  ...     ...  \n",
       "15206  город Москва, город Московский, улица Хабарова...       0  \n",
       "15244  город Москва, город Московский, улица Хабарова...       0  \n",
       "15256  город Москва, город Щербинка, Железнодорожная ...       0  \n",
       "15327  город Москва, город Московский, улица Хабарова...       0  \n",
       "15342  город Москва, город Московский, улица Хабарова...      50  \n",
       "\n",
       "[399 rows x 6 columns]"
      ]
     },
     "execution_count": 25,
     "metadata": {},
     "output_type": "execute_result"
    }
   ],
   "source": [
    "df[df['address'].str.contains(r'Москва,? город')]"
   ]
  },
  {
   "cell_type": "markdown",
   "id": "ccdabcc1-1a6c-49f8-a702-02f48c435340",
   "metadata": {},
   "source": [
    "Точно. Есть и Зеленоград, и Щербинка, и город Московский..."
   ]
  },
  {
   "cell_type": "markdown",
   "id": "ac340bb3-94f9-4a8b-a871-1f2db098aea5",
   "metadata": {},
   "source": [
    "Попробуем в итоге оценить, скольку у нас таких объектов, которые за МКАДом."
   ]
  },
  {
   "cell_type": "code",
   "execution_count": 26,
   "id": "3c830677-a466-420d-9e72-1a023cebfb3e",
   "metadata": {
    "tags": []
   },
   "outputs": [
    {
     "data": {
      "text/html": [
       "<div>\n",
       "<style scoped>\n",
       "    .dataframe tbody tr th:only-of-type {\n",
       "        vertical-align: middle;\n",
       "    }\n",
       "\n",
       "    .dataframe tbody tr th {\n",
       "        vertical-align: top;\n",
       "    }\n",
       "\n",
       "    .dataframe thead th {\n",
       "        text-align: right;\n",
       "    }\n",
       "</style>\n",
       "<table border=\"1\" class=\"dataframe\">\n",
       "  <thead>\n",
       "    <tr style=\"text-align: right;\">\n",
       "      <th></th>\n",
       "      <th>id</th>\n",
       "      <th>object_name</th>\n",
       "      <th>chain</th>\n",
       "      <th>object_type</th>\n",
       "      <th>address</th>\n",
       "      <th>number</th>\n",
       "    </tr>\n",
       "  </thead>\n",
       "  <tbody>\n",
       "    <tr>\n",
       "      <th>1386</th>\n",
       "      <td>22331</td>\n",
       "      <td>СТОЛОВАЯ МИЭТ</td>\n",
       "      <td>нет</td>\n",
       "      <td>столовая</td>\n",
       "      <td>город Москва, город Зеленоград, улица Юности, ...</td>\n",
       "      <td>56</td>\n",
       "    </tr>\n",
       "    <tr>\n",
       "      <th>1405</th>\n",
       "      <td>20199</td>\n",
       "      <td>ЭТО</td>\n",
       "      <td>нет</td>\n",
       "      <td>кафе</td>\n",
       "      <td>город Москва, город Зеленоград, корпус 401</td>\n",
       "      <td>35</td>\n",
       "    </tr>\n",
       "    <tr>\n",
       "      <th>1406</th>\n",
       "      <td>68113</td>\n",
       "      <td>Френдс</td>\n",
       "      <td>нет</td>\n",
       "      <td>кафе</td>\n",
       "      <td>город Москва, город Зеленоград, корпус 435</td>\n",
       "      <td>34</td>\n",
       "    </tr>\n",
       "    <tr>\n",
       "      <th>1407</th>\n",
       "      <td>20105</td>\n",
       "      <td>Кафе «Граф Монте-Кристо»</td>\n",
       "      <td>нет</td>\n",
       "      <td>кафе</td>\n",
       "      <td>город Москва, город Зеленоград, корпус 436</td>\n",
       "      <td>40</td>\n",
       "    </tr>\n",
       "    <tr>\n",
       "      <th>1408</th>\n",
       "      <td>22982</td>\n",
       "      <td>Альфорно</td>\n",
       "      <td>нет</td>\n",
       "      <td>кафе</td>\n",
       "      <td>город Москва, город Зеленоград, корпус 438</td>\n",
       "      <td>49</td>\n",
       "    </tr>\n",
       "    <tr>\n",
       "      <th>...</th>\n",
       "      <td>...</td>\n",
       "      <td>...</td>\n",
       "      <td>...</td>\n",
       "      <td>...</td>\n",
       "      <td>...</td>\n",
       "      <td>...</td>\n",
       "    </tr>\n",
       "    <tr>\n",
       "      <th>15261</th>\n",
       "      <td>211227</td>\n",
       "      <td>Милти</td>\n",
       "      <td>да</td>\n",
       "      <td>предприятие быстрого обслуживания</td>\n",
       "      <td>город Москва, поселение Внуковское, улица Летч...</td>\n",
       "      <td>0</td>\n",
       "    </tr>\n",
       "    <tr>\n",
       "      <th>15309</th>\n",
       "      <td>212713</td>\n",
       "      <td>Burger Club</td>\n",
       "      <td>да</td>\n",
       "      <td>кафе</td>\n",
       "      <td>город Москва, поселение Воскресенское, Чечерск...</td>\n",
       "      <td>6</td>\n",
       "    </tr>\n",
       "    <tr>\n",
       "      <th>15327</th>\n",
       "      <td>210815</td>\n",
       "      <td>Милти</td>\n",
       "      <td>да</td>\n",
       "      <td>предприятие быстрого обслуживания</td>\n",
       "      <td>город Москва, город Московский, улица Хабарова...</td>\n",
       "      <td>0</td>\n",
       "    </tr>\n",
       "    <tr>\n",
       "      <th>15342</th>\n",
       "      <td>210776</td>\n",
       "      <td>Мята Lounge</td>\n",
       "      <td>да</td>\n",
       "      <td>ресторан</td>\n",
       "      <td>город Москва, город Московский, улица Хабарова...</td>\n",
       "      <td>50</td>\n",
       "    </tr>\n",
       "    <tr>\n",
       "      <th>15364</th>\n",
       "      <td>221900</td>\n",
       "      <td>Шоколадница</td>\n",
       "      <td>да</td>\n",
       "      <td>кафе</td>\n",
       "      <td>город Москва, поселение Московский, Киевское ш...</td>\n",
       "      <td>36</td>\n",
       "    </tr>\n",
       "  </tbody>\n",
       "</table>\n",
       "<p>819 rows × 6 columns</p>\n",
       "</div>"
      ],
      "text/plain": [
       "           id               object_name chain  \\\n",
       "1386    22331             СТОЛОВАЯ МИЭТ   нет   \n",
       "1405    20199                       ЭТО   нет   \n",
       "1406    68113                    Френдс   нет   \n",
       "1407    20105  Кафе «Граф Монте-Кристо»   нет   \n",
       "1408    22982                  Альфорно   нет   \n",
       "...       ...                       ...   ...   \n",
       "15261  211227                     Милти    да   \n",
       "15309  212713               Burger Club    да   \n",
       "15327  210815                     Милти    да   \n",
       "15342  210776               Мята Lounge    да   \n",
       "15364  221900               Шоколадница    да   \n",
       "\n",
       "                             object_type  \\\n",
       "1386                            столовая   \n",
       "1405                                кафе   \n",
       "1406                                кафе   \n",
       "1407                                кафе   \n",
       "1408                                кафе   \n",
       "...                                  ...   \n",
       "15261  предприятие быстрого обслуживания   \n",
       "15309                               кафе   \n",
       "15327  предприятие быстрого обслуживания   \n",
       "15342                           ресторан   \n",
       "15364                               кафе   \n",
       "\n",
       "                                                 address  number  \n",
       "1386   город Москва, город Зеленоград, улица Юности, ...      56  \n",
       "1405          город Москва, город Зеленоград, корпус 401      35  \n",
       "1406          город Москва, город Зеленоград, корпус 435      34  \n",
       "1407          город Москва, город Зеленоград, корпус 436      40  \n",
       "1408          город Москва, город Зеленоград, корпус 438      49  \n",
       "...                                                  ...     ...  \n",
       "15261  город Москва, поселение Внуковское, улица Летч...       0  \n",
       "15309  город Москва, поселение Воскресенское, Чечерск...       6  \n",
       "15327  город Москва, город Московский, улица Хабарова...       0  \n",
       "15342  город Москва, город Московский, улица Хабарова...      50  \n",
       "15364  город Москва, поселение Московский, Киевское ш...      36  \n",
       "\n",
       "[819 rows x 6 columns]"
      ]
     },
     "execution_count": 26,
     "metadata": {},
     "output_type": "execute_result"
    }
   ],
   "source": [
    "za_mkadom = df[df['address'].str.contains(r'(Москва,? город)|поселение|деревня', regex=True)]\n",
    "za_mkadom"
   ]
  },
  {
   "cell_type": "code",
   "execution_count": 27,
   "id": "915fc694-00ab-4ea8-bb89-e09aa4571246",
   "metadata": {},
   "outputs": [
    {
     "data": {
      "text/plain": [
       "'Количество объектов общепита за МКАДом: 819'"
      ]
     },
     "execution_count": 27,
     "metadata": {},
     "output_type": "execute_result"
    }
   ],
   "source": [
    "f'Количество объектов общепита за МКАДом: {len(za_mkadom)}'"
   ]
  },
  {
   "cell_type": "code",
   "execution_count": 28,
   "id": "3ce157c8-001c-4a54-bee6-262900671d4f",
   "metadata": {},
   "outputs": [
    {
     "data": {
      "text/plain": [
       "'Доля объектов за МКАДом: 0.05358544883538341'"
      ]
     },
     "execution_count": 28,
     "metadata": {},
     "output_type": "execute_result"
    }
   ],
   "source": [
    "f'Доля объектов за МКАДом: {za_mkadom.shape[0]/df.shape[0]}'"
   ]
  },
  {
   "cell_type": "markdown",
   "id": "2dae4b17-752e-4eb1-bffa-a46eb10f8d04",
   "metadata": {},
   "source": [
    "5.3 % - это мало. У нас нет уточнений, считать ли новые округа за МКАДом, в данном исследовании. Возможно, это стоит уточнить у заказчика. В рамках данного исследования оставляем все объекты."
   ]
  },
  {
   "cell_type": "markdown",
   "id": "0899be77-7762-483b-8884-4eb059a854d1",
   "metadata": {
    "jupyter": {
     "outputs_hidden": true
    },
    "tags": []
   },
   "source": [
    "### Вывод\n",
    "    "
   ]
  },
  {
   "cell_type": "markdown",
   "id": "247a3286-73cc-4e26-9095-8a911648d220",
   "metadata": {},
   "source": [
    "Первичный анализ данных показал следующее:\n",
    "\n",
    "* Изначально в данных 15366 записей о 15366 объектах общественного питания.\n",
    "\n",
    "* Все заявленные в документации параметры (6 столбцов) об объектах общественного питания присутствуют.\n",
    "\n",
    "* В данных не выявлено пропусков.\n",
    "\n",
    "* Явных дубликатов не обнаружено, однако были выявлено 82 неявных (0.5 процентов от всех данных), у которых совпадал адрес, тип объекта, количество посадочных мест, название. Такие дубликаты исключены из анализа.\n",
    "    \n",
    "* В исходном датафрейме содержалась информация и об объектах общественного питания, которые находятся за МКАДом (города, поселения новых административных округов Москвы, такие как Зеленоград, Щербинка, Московский, Троицк, деревня Дудкино, Сосенское и т.д.). Такие объекты составляют примерно 5.3%. \n",
    "\n",
    "* Объекты общественного питания одной и той же сети могут называться по-разному в силу разных причин: к примеру, 'KFC Волгоградский', 'KFC', 'Ресторан KFC', 'Fridays KFC', 'Закусочная KFC', 'Пицца Хат', Pizza Hut, Пицце Хат, PizzaHut."
   ]
  },
  {
   "cell_type": "markdown",
   "id": "097fe7ee-a700-4b45-ba4c-2a2bb77005bd",
   "metadata": {},
   "source": [
    "<a name='stage_2'></a>\n",
    "\n",
    "# Шаг 2. Анализ данных\n",
    "\n",
    "[Назад к оглавлению](#contents)"
   ]
  },
  {
   "cell_type": "markdown",
   "id": "57b48e83-35a0-40b3-8888-a4f6f346a22d",
   "metadata": {},
   "source": [
    "## Cоотношение видов объектов общественного питания по количеству"
   ]
  },
  {
   "cell_type": "markdown",
   "id": "fb3d9a38-390f-4f61-b336-236748a98022",
   "metadata": {},
   "source": [
    "В качестве самопроверки построим сводную таблицу, в которой для каждого типа будет посчитано количество объектов, к нему принадлежащих."
   ]
  },
  {
   "cell_type": "code",
   "execution_count": 29,
   "id": "ac0d2bc9-38c8-4463-880e-d965248e3c17",
   "metadata": {},
   "outputs": [
    {
     "data": {
      "text/plain": [
       "object_type\n",
       "кафе                                 6071\n",
       "столовая                             2584\n",
       "ресторан                             2282\n",
       "предприятие быстрого обслуживания    1898\n",
       "бар                                   855\n",
       "буфет                                 577\n",
       "кафетерий                             395\n",
       "закусочная                            349\n",
       "магазин (отдел кулинарии)             273\n",
       "Name: object_type, dtype: int64"
      ]
     },
     "execution_count": 29,
     "metadata": {},
     "output_type": "execute_result"
    }
   ],
   "source": [
    "df.groupby('object_type')['object_type'].agg('count').sort_values(ascending=False)"
   ]
  },
  {
   "cell_type": "markdown",
   "id": "427ae7ef-3884-455a-b334-ca231b2c32ae",
   "metadata": {},
   "source": [
    "Построим столбчатую диаграмму c помощью библиотеки seaborn, показывающую распределение объектов общественного питания по типу в процентном отношении"
   ]
  },
  {
   "cell_type": "code",
   "execution_count": 30,
   "id": "f01df829-6d01-4472-8d55-e27df9fa16d0",
   "metadata": {},
   "outputs": [
    {
     "data": {
      "image/png": "[encoded data removed]",
      "text/plain": [
       "<Figure size 1400x800 with 1 Axes>"
      ]
     },
     "metadata": {},
     "output_type": "display_data"
    }
   ],
   "source": [
    "total = float(df.shape[0])\n",
    "plt.figure(figsize=(14,8))\n",
    "sns.set_palette('muted')\n",
    "sns.set_theme(style=\"darkgrid\")\n",
    "ax = (sns.countplot(x='object_type', data=df, order=df.groupby('object_type')\n",
    "                    .size().sort_values().index[::-1]))\n",
    "\n",
    "for p in ax.patches:\n",
    "    percentage = '{:.1f}%'.format(100 * p.get_height()/total)\n",
    "    x = p.get_x() + p.get_width() / 2\n",
    "    y = p.get_height()\n",
    "    ax.annotate(percentage, (x, y), ha='center')\n",
    "plt.title('Cоотношение видов объектов общественного питания по количеству \\n',fontsize=20)\n",
    "plt.xlabel('Вид объекта')\n",
    "plt.ylabel('Количество объектов')\n",
    "plt.xticks(fontsize=14, rotation=90)\n",
    "plt.show();"
   ]
  },
  {
   "cell_type": "markdown",
   "id": "27a6a5eb-5f61-46b2-bfc0-1e2597213f11",
   "metadata": {},
   "source": [
    "### Вывод"
   ]
  },
  {
   "cell_type": "markdown",
   "id": "b506b371-3db1-47a3-8e29-33535dd08c64",
   "metadata": {},
   "source": [
    "Из графика хорошо видно, что больше всего в Москве кафе (39.7%), столовых (16.9%) и ресторанов (14.9%). "
   ]
  },
  {
   "cell_type": "markdown",
   "id": "4793ba00-7e1f-475c-9b93-c11d20039782",
   "metadata": {},
   "source": [
    "## Соотношение сетевых и несетевых заведений по количеству"
   ]
  },
  {
   "cell_type": "markdown",
   "id": "0732c9cd-b23e-4ee4-a477-6a6cfc431f80",
   "metadata": {},
   "source": [
    "Для начала просто посмотрим в цифрах:"
   ]
  },
  {
   "cell_type": "code",
   "execution_count": 31,
   "id": "721088a2-cdae-4055-b34e-75d3e3d9ee16",
   "metadata": {},
   "outputs": [
    {
     "data": {
      "text/plain": [
       "chain\n",
       "да      2964\n",
       "нет    12320\n",
       "Name: chain, dtype: int64"
      ]
     },
     "execution_count": 31,
     "metadata": {},
     "output_type": "execute_result"
    }
   ],
   "source": [
    "df.groupby('chain')['chain'].count()"
   ]
  },
  {
   "cell_type": "code",
   "execution_count": 32,
   "id": "81635ec2-09d5-475f-9508-616a3bb65e1d",
   "metadata": {},
   "outputs": [
    {
     "data": {
      "image/png": "[encoded data removed]",
      "text/plain": [
       "<Figure size 1400x800 with 1 Axes>"
      ]
     },
     "metadata": {},
     "output_type": "display_data"
    }
   ],
   "source": [
    "total = float(df.shape[0])\n",
    "plt.figure(figsize=(14,8))\n",
    "sns.set_palette('muted')\n",
    "sns.set_theme(style=\"darkgrid\")\n",
    "ax = sns.countplot(x='chain', data=df, order=df.groupby('chain').size().sort_values().index[::-1])\n",
    "\n",
    "for p in ax.patches:\n",
    "    percentage = '{:.1f}%'.format(100 * p.get_height()/total)\n",
    "    x = p.get_x() + p.get_width() / 2\n",
    "    y = p.get_height()\n",
    "    ax.annotate(percentage, (x, y), ha='center')\n",
    "plt.title('Соотношение сетевых и несетевых заведений по количеству \\n',fontsize=20)\n",
    "plt.xlabel('Сеть')\n",
    "plt.ylabel('Количество объектов')\n",
    "plt.xticks(fontsize=14)\n",
    "plt.show();"
   ]
  },
  {
   "cell_type": "markdown",
   "id": "377d18ef-384f-4068-8639-98a4f6fe0718",
   "metadata": {},
   "source": [
    "### Вывод"
   ]
  },
  {
   "cell_type": "markdown",
   "id": "1159e196-7750-4e82-a104-92756da7bada",
   "metadata": {},
   "source": [
    "По сырым данным на московском рынке общественного питания только `19.5%` объектов являются `сетевыми`, \n",
    "`80.5%` объектов `не принадлежат ни к какой сети`."
   ]
  },
  {
   "cell_type": "markdown",
   "id": "526380fe-8d7a-4595-bbf8-cb66611d7008",
   "metadata": {
    "tags": []
   },
   "source": [
    "## Для какого вида объекта общественного питания характерно сетевое распространение"
   ]
  },
  {
   "cell_type": "markdown",
   "id": "75290ae9-03e7-45cf-aaba-b73a1bb98f40",
   "metadata": {},
   "source": [
    "Сделаем сводную таблицу, сгруппировав данные по виду объекта и посчитав, сколько в каждом виде объектов."
   ]
  },
  {
   "cell_type": "code",
   "execution_count": 33,
   "id": "f82b238d-f888-4db8-9801-1ddda5bb5870",
   "metadata": {},
   "outputs": [],
   "source": [
    "piv_ch = (df.pivot_table(index=['object_type'], columns='chain', values='id', aggfunc='count')\n",
    "          .reset_index()\n",
    "         )"
   ]
  },
  {
   "cell_type": "code",
   "execution_count": 34,
   "id": "93395109-47de-4f51-97b8-cad3a4dc0a30",
   "metadata": {
    "tags": []
   },
   "outputs": [
    {
     "data": {
      "text/html": [
       "<div>\n",
       "<style scoped>\n",
       "    .dataframe tbody tr th:only-of-type {\n",
       "        vertical-align: middle;\n",
       "    }\n",
       "\n",
       "    .dataframe tbody tr th {\n",
       "        vertical-align: top;\n",
       "    }\n",
       "\n",
       "    .dataframe thead th {\n",
       "        text-align: right;\n",
       "    }\n",
       "</style>\n",
       "<table border=\"1\" class=\"dataframe\">\n",
       "  <thead>\n",
       "    <tr style=\"text-align: right;\">\n",
       "      <th>chain</th>\n",
       "      <th>object_type</th>\n",
       "      <th>да</th>\n",
       "      <th>нет</th>\n",
       "    </tr>\n",
       "  </thead>\n",
       "  <tbody>\n",
       "    <tr>\n",
       "      <th>0</th>\n",
       "      <td>бар</td>\n",
       "      <td>37</td>\n",
       "      <td>818</td>\n",
       "    </tr>\n",
       "    <tr>\n",
       "      <th>1</th>\n",
       "      <td>буфет</td>\n",
       "      <td>11</td>\n",
       "      <td>566</td>\n",
       "    </tr>\n",
       "    <tr>\n",
       "      <th>2</th>\n",
       "      <td>закусочная</td>\n",
       "      <td>56</td>\n",
       "      <td>293</td>\n",
       "    </tr>\n",
       "    <tr>\n",
       "      <th>3</th>\n",
       "      <td>кафе</td>\n",
       "      <td>1396</td>\n",
       "      <td>4675</td>\n",
       "    </tr>\n",
       "    <tr>\n",
       "      <th>4</th>\n",
       "      <td>кафетерий</td>\n",
       "      <td>52</td>\n",
       "      <td>343</td>\n",
       "    </tr>\n",
       "  </tbody>\n",
       "</table>\n",
       "</div>"
      ],
      "text/plain": [
       "chain object_type    да   нет\n",
       "0             бар    37   818\n",
       "1           буфет    11   566\n",
       "2      закусочная    56   293\n",
       "3            кафе  1396  4675\n",
       "4       кафетерий    52   343"
      ]
     },
     "execution_count": 34,
     "metadata": {},
     "output_type": "execute_result"
    }
   ],
   "source": [
    "piv_ch.head()"
   ]
  },
  {
   "cell_type": "markdown",
   "id": "fc1af488-293b-4269-8599-17608dd6eb09",
   "metadata": {},
   "source": [
    "Добавим проценты: узнаем, какой процент составляют сетевые объекты от общего количества объектов для каждого вида. "
   ]
  },
  {
   "cell_type": "code",
   "execution_count": 35,
   "id": "0a22f769-2e09-48c9-b786-6d019fdf8b69",
   "metadata": {
    "tags": []
   },
   "outputs": [
    {
     "data": {
      "text/html": [
       "<style type=\"text/css\">\n",
       "#T_d6f1e_row0_col3 {\n",
       "  background-color: yellowgreen;\n",
       "}\n",
       "</style>\n",
       "<table id=\"T_d6f1e\">\n",
       "  <thead>\n",
       "    <tr>\n",
       "      <th class=\"index_name level0\" >chain</th>\n",
       "      <th id=\"T_d6f1e_level0_col0\" class=\"col_heading level0 col0\" >object_type</th>\n",
       "      <th id=\"T_d6f1e_level0_col1\" class=\"col_heading level0 col1\" >да</th>\n",
       "      <th id=\"T_d6f1e_level0_col2\" class=\"col_heading level0 col2\" >нет</th>\n",
       "      <th id=\"T_d6f1e_level0_col3\" class=\"col_heading level0 col3\" >precentage_of_chain_objects</th>\n",
       "    </tr>\n",
       "  </thead>\n",
       "  <tbody>\n",
       "    <tr>\n",
       "      <th id=\"T_d6f1e_level0_row0\" class=\"row_heading level0 row0\" >6</th>\n",
       "      <td id=\"T_d6f1e_row0_col0\" class=\"data row0 col0\" >предприятие быстрого обслуживания</td>\n",
       "      <td id=\"T_d6f1e_row0_col1\" class=\"data row0 col1\" >788</td>\n",
       "      <td id=\"T_d6f1e_row0_col2\" class=\"data row0 col2\" >1110</td>\n",
       "      <td id=\"T_d6f1e_row0_col3\" class=\"data row0 col3\" >41.5</td>\n",
       "    </tr>\n",
       "    <tr>\n",
       "      <th id=\"T_d6f1e_level0_row1\" class=\"row_heading level0 row1\" >5</th>\n",
       "      <td id=\"T_d6f1e_row1_col0\" class=\"data row1 col0\" >магазин (отдел кулинарии)</td>\n",
       "      <td id=\"T_d6f1e_row1_col1\" class=\"data row1 col1\" >78</td>\n",
       "      <td id=\"T_d6f1e_row1_col2\" class=\"data row1 col2\" >195</td>\n",
       "      <td id=\"T_d6f1e_row1_col3\" class=\"data row1 col3\" >28.6</td>\n",
       "    </tr>\n",
       "    <tr>\n",
       "      <th id=\"T_d6f1e_level0_row2\" class=\"row_heading level0 row2\" >7</th>\n",
       "      <td id=\"T_d6f1e_row2_col0\" class=\"data row2 col0\" >ресторан</td>\n",
       "      <td id=\"T_d6f1e_row2_col1\" class=\"data row2 col1\" >543</td>\n",
       "      <td id=\"T_d6f1e_row2_col2\" class=\"data row2 col2\" >1739</td>\n",
       "      <td id=\"T_d6f1e_row2_col3\" class=\"data row2 col3\" >23.8</td>\n",
       "    </tr>\n",
       "    <tr>\n",
       "      <th id=\"T_d6f1e_level0_row3\" class=\"row_heading level0 row3\" >3</th>\n",
       "      <td id=\"T_d6f1e_row3_col0\" class=\"data row3 col0\" >кафе</td>\n",
       "      <td id=\"T_d6f1e_row3_col1\" class=\"data row3 col1\" >1396</td>\n",
       "      <td id=\"T_d6f1e_row3_col2\" class=\"data row3 col2\" >4675</td>\n",
       "      <td id=\"T_d6f1e_row3_col3\" class=\"data row3 col3\" >23.0</td>\n",
       "    </tr>\n",
       "    <tr>\n",
       "      <th id=\"T_d6f1e_level0_row4\" class=\"row_heading level0 row4\" >2</th>\n",
       "      <td id=\"T_d6f1e_row4_col0\" class=\"data row4 col0\" >закусочная</td>\n",
       "      <td id=\"T_d6f1e_row4_col1\" class=\"data row4 col1\" >56</td>\n",
       "      <td id=\"T_d6f1e_row4_col2\" class=\"data row4 col2\" >293</td>\n",
       "      <td id=\"T_d6f1e_row4_col3\" class=\"data row4 col3\" >16.0</td>\n",
       "    </tr>\n",
       "    <tr>\n",
       "      <th id=\"T_d6f1e_level0_row5\" class=\"row_heading level0 row5\" >4</th>\n",
       "      <td id=\"T_d6f1e_row5_col0\" class=\"data row5 col0\" >кафетерий</td>\n",
       "      <td id=\"T_d6f1e_row5_col1\" class=\"data row5 col1\" >52</td>\n",
       "      <td id=\"T_d6f1e_row5_col2\" class=\"data row5 col2\" >343</td>\n",
       "      <td id=\"T_d6f1e_row5_col3\" class=\"data row5 col3\" >13.2</td>\n",
       "    </tr>\n",
       "    <tr>\n",
       "      <th id=\"T_d6f1e_level0_row6\" class=\"row_heading level0 row6\" >0</th>\n",
       "      <td id=\"T_d6f1e_row6_col0\" class=\"data row6 col0\" >бар</td>\n",
       "      <td id=\"T_d6f1e_row6_col1\" class=\"data row6 col1\" >37</td>\n",
       "      <td id=\"T_d6f1e_row6_col2\" class=\"data row6 col2\" >818</td>\n",
       "      <td id=\"T_d6f1e_row6_col3\" class=\"data row6 col3\" >4.3</td>\n",
       "    </tr>\n",
       "    <tr>\n",
       "      <th id=\"T_d6f1e_level0_row7\" class=\"row_heading level0 row7\" >1</th>\n",
       "      <td id=\"T_d6f1e_row7_col0\" class=\"data row7 col0\" >буфет</td>\n",
       "      <td id=\"T_d6f1e_row7_col1\" class=\"data row7 col1\" >11</td>\n",
       "      <td id=\"T_d6f1e_row7_col2\" class=\"data row7 col2\" >566</td>\n",
       "      <td id=\"T_d6f1e_row7_col3\" class=\"data row7 col3\" >1.9</td>\n",
       "    </tr>\n",
       "    <tr>\n",
       "      <th id=\"T_d6f1e_level0_row8\" class=\"row_heading level0 row8\" >8</th>\n",
       "      <td id=\"T_d6f1e_row8_col0\" class=\"data row8 col0\" >столовая</td>\n",
       "      <td id=\"T_d6f1e_row8_col1\" class=\"data row8 col1\" >3</td>\n",
       "      <td id=\"T_d6f1e_row8_col2\" class=\"data row8 col2\" >2581</td>\n",
       "      <td id=\"T_d6f1e_row8_col3\" class=\"data row8 col3\" >0.1</td>\n",
       "    </tr>\n",
       "  </tbody>\n",
       "</table>\n"
      ],
      "text/plain": [
       "<pandas.io.formats.style.Styler at 0x11df67760>"
      ]
     },
     "execution_count": 35,
     "metadata": {},
     "output_type": "execute_result"
    }
   ],
   "source": [
    "piv_ch['precentage_of_chain_objects'] = (piv_ch['да']/(piv_ch['да']+piv_ch['нет'])*100)\n",
    "(piv_ch.sort_values(by='precentage_of_chain_objects', ascending=False)\n",
    " .style\n",
    " .format({'precentage_of_chain_objects': '{:.1f}'})\n",
    " .highlight_max(color='yellowgreen', subset=['precentage_of_chain_objects'])\n",
    ")"
   ]
  },
  {
   "cell_type": "markdown",
   "id": "21576ab1-c35e-4117-8482-cce7227ccfde",
   "metadata": {},
   "source": [
    "### Вывод"
   ]
  },
  {
   "cell_type": "markdown",
   "id": "ab44d2a6-867f-4c7d-8ab7-8c129a672e45",
   "metadata": {},
   "source": [
    "Более всего `сетевое` распространение характерно для `предприятия быстрого обслуживания` - `41.5%` от всех данных."
   ]
  },
  {
   "cell_type": "markdown",
   "id": "1936a0a8-4046-4bc6-a4ad-7192b55accbd",
   "metadata": {},
   "source": [
    "## Что характерно для сетевых заведений: много заведений с небольшим числом посадочных мест в каждом или мало заведений с большим количеством посадочных мест."
   ]
  },
  {
   "cell_type": "markdown",
   "id": "01a0bc8f-6f41-49a1-b181-f413f05793ef",
   "metadata": {},
   "source": [
    "Для ответа на этот вопрос нам потребуется знать имя сети для каждого сетевого объъекта.\n",
    "Попробуем выделить в отдельную категорию имя сети."
   ]
  },
  {
   "cell_type": "markdown",
   "id": "695960e1-6253-4b2a-b451-9566ccaf992c",
   "metadata": {},
   "source": [
    "Прежде посмотрим на список объектов с одинаковым именем, при этом разным значением в параметре chain. "
   ]
  },
  {
   "cell_type": "code",
   "execution_count": 36,
   "id": "04cc2b57-70a5-4af1-8057-8bbd8431284c",
   "metadata": {
    "tags": []
   },
   "outputs": [],
   "source": [
    "chain = df.query('chain == \"да\"')['object_name']"
   ]
  },
  {
   "cell_type": "code",
   "execution_count": 37,
   "id": "ebe198e8-a016-495f-ae29-752e325ea141",
   "metadata": {},
   "outputs": [],
   "source": [
    "not_chain = df.query('chain == \"нет\"')['object_name']"
   ]
  },
  {
   "cell_type": "code",
   "execution_count": 38,
   "id": "d7a0d3f2-bad7-4554-9e91-d4238662300e",
   "metadata": {},
   "outputs": [],
   "source": [
    "intersected_obj_name = np.intersect1d(chain, not_chain)"
   ]
  },
  {
   "cell_type": "markdown",
   "id": "2bbb882b-0c07-4eb0-b335-cb463dec3ad2",
   "metadata": {},
   "source": [
    "Вот список пересечений списков сетевых и несетевых объектов с одинаковым именем."
   ]
  },
  {
   "cell_type": "code",
   "execution_count": 39,
   "id": "3f867c13-0e91-43e3-8615-31a7794a3c9e",
   "metadata": {},
   "outputs": [
    {
     "data": {
      "text/plain": [
       "array(['FRIDAYS', 'Goodman Гудман', 'Tutti frutti', 'UPSIDE DOWN CAKE',\n",
       "       'Upside Down Cake', 'Азбука Вкуса', 'Азбука вкуса', 'Виктория',\n",
       "       'Готовые блюда Милти', 'Кальянная Мята Lounge', 'Кафе «Subway»',\n",
       "       'Кафе «Хинкальная»', 'Кафе «Шоколадница»', 'Кафе «Штолле»',\n",
       "       'Кафе при АЗС', 'Колбасофф', 'Кондитерская-пекарня Волконский',\n",
       "       'Кофе', 'Лукойл', 'Мята', 'Пицца «Паоло»', 'Ресторан «KFC»',\n",
       "       'Ресторан «Бургер Кинг»', 'Ресторан «Ерш»',\n",
       "       'Ресторан «Хинкальная»', 'Ресторан «Якитория»', 'Темпл Бар',\n",
       "       'Теремок-Инвест', 'Шоколадница', 'Япоша'], dtype=object)"
      ]
     },
     "execution_count": 39,
     "metadata": {},
     "output_type": "execute_result"
    }
   ],
   "source": [
    "intersected_obj_name"
   ]
  },
  {
   "cell_type": "markdown",
   "id": "24d8bdf1-d501-4488-b3eb-34426026eb07",
   "metadata": {},
   "source": [
    "Да, похоже, не все данные достоверные по части параметра chain. Бургег Кинг, Fridays, KFC, Якитория итд - это все сетевые рестораны, а мы видим, что они попали и в категорию несетевых в этих данных. "
   ]
  },
  {
   "cell_type": "markdown",
   "id": "1e27f605-84a1-4bb8-9f05-367068e6d3da",
   "metadata": {},
   "source": [
    "Тогда мы не будем делать срез по chain == 'да', а попробуем поискать ключевые подстроки для названий сети по всем строкам датафрейма."
   ]
  },
  {
   "cell_type": "markdown",
   "id": "2aa90ccc-2a9c-41c9-95e5-222a311f1444",
   "metadata": {},
   "source": [
    "В начале посмотрим на самые частотные названия заведений. \n",
    "Поскольку нас интересуют сетевые, а параметру chain мы не особо хотим доверять, попробуем поставить ограничение на количество объектов с одинаковым именем (должно быть два или больше). Этот список используем для того, чтобы обработать самые частотные сети, представленные в этом датасете."
   ]
  },
  {
   "cell_type": "code",
   "execution_count": 40,
   "id": "230bb222-04a1-4985-80f5-8afdf5395b01",
   "metadata": {
    "tags": []
   },
   "outputs": [
    {
     "data": {
      "text/plain": [
       "Столовая                  267\n",
       "Шаурма                    226\n",
       "Кафе                      222\n",
       "KFC                       155\n",
       "Шоколадница               142\n",
       "                         ... \n",
       "Кафе «Крошка Картошка»      2\n",
       "Виктория                    2\n",
       "Мисада                      2\n",
       "Райская Трапеза             2\n",
       "Лига Пап                    2\n",
       "Name: object_name, Length: 1033, dtype: int64"
      ]
     },
     "execution_count": 40,
     "metadata": {},
     "output_type": "execute_result"
    }
   ],
   "source": [
    "df['object_name'].value_counts().loc[lambda x : x>=2]"
   ]
  },
  {
   "cell_type": "markdown",
   "id": "eb08ac97-9a6c-45c3-8abb-eb1f808af1e8",
   "metadata": {},
   "source": [
    "Создадим список со всеми названиями, отсортированный в алфавитном порядке. Чтобы было удобно на нем отлаживать нашу функцию."
   ]
  },
  {
   "cell_type": "code",
   "execution_count": 41,
   "id": "71c77365-e2c2-45e6-83b5-8aefee257e00",
   "metadata": {
    "tags": []
   },
   "outputs": [
    {
     "data": {
      "text/plain": [
       "['1-ЫЙ МОСКОВСКИЙ КАДЕТСКИЙ КОРПУС',\n",
       " '1-й МОК',\n",
       " '100 личная столовая',\n",
       " '100 личное кафе',\n",
       " '1001 ночь',\n",
       " '100лоФФка',\n",
       " '101 вкус',\n",
       " '13 RULES',\n",
       " '13 RULES KRAFT BEER',\n",
       " '13 Rules']"
      ]
     },
     "execution_count": 41,
     "metadata": {},
     "output_type": "execute_result"
    }
   ],
   "source": [
    "all_names = sorted(df['object_name'].tolist())\n",
    "all_names[:10]"
   ]
  },
  {
   "cell_type": "markdown",
   "id": "db42806a-7e3f-48a4-8596-fe6604538108",
   "metadata": {},
   "source": [
    "Опираясь на оба эти списка обработаем названия для крупных сетей."
   ]
  },
  {
   "cell_type": "markdown",
   "id": "e01eebb0-5232-40db-938d-554f4e445cfc",
   "metadata": {},
   "source": [
    "### Выделение названий сетей в отдельный столбец"
   ]
  },
  {
   "cell_type": "markdown",
   "id": "4a87afde-1c4f-45b2-b5e4-2bc1afcbacb2",
   "metadata": {},
   "source": [
    "Напишем функцию, которая будет возвращать имя сети или unknown в случае, когда имя сети не определяется."
   ]
  },
  {
   "cell_type": "markdown",
   "id": "ea82b3f6-148b-41fe-8694-65bac4ef3c05",
   "metadata": {},
   "source": [
    "Для объектов, где сразу два ресторана типа \"Вlack Burger Чайхона №1\" будет возвращаться первое сработавшее условие. То есть тут будет огрубление. Но это нам не так важно для ответа на поставленный вопрос."
   ]
  },
  {
   "cell_type": "code",
   "execution_count": 42,
   "id": "349f23a3-85b3-4a64-9da8-9b8b73d18835",
   "metadata": {},
   "outputs": [],
   "source": [
    "\"\"\"\n",
    "Функция берет на вход строку и возвращает строку с именем сети или unknown согласно паттернам регулярного выражения.\n",
    "\n",
    "\"\"\"\n",
    "def get_name_for_chain(string):\n",
    "    if re.search(r'KFC|кф[cс]', string, re.IGNORECASE):\n",
    "        return 'KFC'\n",
    "    elif re.search (r'Шоколадниц', string, re.IGNORECASE):\n",
    "        return 'Шоколадница'\n",
    "    elif re.search (r'Бургер ?Кинг|Burger ?King', string, re.IGNORECASE):\n",
    "        return 'Burger King'\n",
    "    elif re.search (r'Макдональ?дс|Mc ?Donal', string, re.IGNORECASE):\n",
    "        return 'McDonalds'\n",
    "    elif re.search (r\"Домино'?с|Domino[,'-]?s\", string, re.IGNORECASE):\n",
    "        return \"Domino's Pizza\"\n",
    "    elif re.search (r'(?<!восточный )Теремок', string, re.IGNORECASE): #чтобы не цеплять \"Восточный теремок\"\n",
    "        return 'Теремок'\n",
    "    elif re.search (r'Крошка[ -]?Картошка', string, re.IGNORECASE):\n",
    "        return 'Крошка Картошка'\n",
    "    elif re.search (r'Милти|Mealty', string, re.IGNORECASE):\n",
    "        return 'Милти'\n",
    "    elif re.search (r'Суши ?[WВ][oо][kк]', string, re.IGNORECASE):\n",
    "        return 'Суши Wok'\n",
    "    elif re.search (r'Папа ?Джонс|Papa ?John’?s', string, re.IGNORECASE):\n",
    "        return 'Papa John’s'\n",
    "    #Иногда это как вид объекта, поэтому чтобы исключить 'Кофе с собой \"Coffee Way\"' и подобное\n",
    "    elif re.fullmatch (r'Кофе с собой', string, re.IGNORECASE): \n",
    "        return 'Кофе с собой'\n",
    "    elif re.search (r'Чайх[оа]на ?№?1|Chaihona ?№?1', string, re.IGNORECASE):\n",
    "        return 'Чайхона №1'\n",
    "    elif re.search (r'Кофе[ -]?Хау[сз]', string, re.IGNORECASE):\n",
    "        return 'Кофе Хауз'\n",
    "    elif re.search (r'Старба[кг][сз]|Starbucks', string, re.IGNORECASE):\n",
    "        return 'Starbucks'\n",
    "    elif re.search (r'Додо ?Пицца|Do Do Пиц', string, re.IGNORECASE):\n",
    "        return 'Додо Пицца'\n",
    "    elif  re.search (r'Якитория', string, re.IGNORECASE):\n",
    "        return 'Якитория'\n",
    "    elif  re.search (r'Subway|Саб ?вей', string, re.IGNORECASE):\n",
    "        return 'Subway'\n",
    "    elif  re.search (r'Донер ?Кебаб|Doner Keb', string, re.IGNORECASE):\n",
    "        return 'Донер Кебаб'\n",
    "    elif  re.search (r'Тануки', string, re.IGNORECASE):\n",
    "        return 'Тануки'\n",
    "    elif  re.search (r'Хлеб ?насущный', string, re.IGNORECASE):\n",
    "        return 'Хлеб Насущный'   \n",
    "    elif  re.search (r'(Иль|Il)[ -]?Патио', string, re.IGNORECASE):\n",
    "        return 'Il Патио'     \n",
    "    if  re.search (r'(Прайм|Prime) ?(стар|star)', string, re.IGNORECASE):\n",
    "        return 'Prime' \n",
    "    #Та же сеть, что и выше. Чтобы не цеплять Prime Beef, Prime Mart\n",
    "    elif re.fullmatch (r'Прайм|Prime|Prime Cafe|Кафе Prime|Прайм-кафе|Deli by Prime Прайм-кафе', string, re.IGNORECASE):\n",
    "        return 'Prime' \n",
    "    elif  re.search (r'(Osteria|Остерио) ?(Mario|Марио)', string, re.IGNORECASE):\n",
    "        return 'Osterio Mario'\n",
    "    elif re.search (r'Вьет ?кафе|VietCafe', string, re.IGNORECASE):\n",
    "        return 'Вьеткафе'\n",
    "    elif re.search (r'Cofix', string, re.IGNORECASE):\n",
    "        return 'Cofix'\n",
    "    elif re.search (r'Мята ?(Lounge|Лаундж)', string, re.IGNORECASE):\n",
    "        return 'Мята Lounge'\n",
    "    elif re.search (r'Пицц?[ае] ?Хат|Pizz?a Hut', string, re.IGNORECASE): #Пице Хат\n",
    "        return 'Pizza Hut'\n",
    "    elif re.search (r'(Суши|Sushi) ?(Шоп|Shop)', string, re.IGNORECASE): \n",
    "        return 'Сушишоп' \n",
    "    elif re.search (r'Суши ?стор', string, re.IGNORECASE): \n",
    "        return 'СушиСтор'  \n",
    "    elif re.search (r'Караваевы', string, re.IGNORECASE): \n",
    "        return 'Кулинарная лавка братьев Караваевых'  \n",
    "    elif re.search (r'Му[ -]Му', string, re.IGNORECASE): \n",
    "        return 'Му-му'   \n",
    "    elif re.search (r'Урюк', string, re.IGNORECASE): \n",
    "        return 'Урюк'  \n",
    "    elif re.search (r'Алл?о ?Пицц?а', string, re.IGNORECASE): \n",
    "        return 'Алло Пицца'  \n",
    "    elif re.search (r'Кофемания', string, re.IGNORECASE): \n",
    "        return 'Кофемания'\n",
    "    elif re.search (r'Штолле', string, re.IGNORECASE): \n",
    "        return 'Штолле'   \n",
    "    elif re.search (r'Волконск', string, re.IGNORECASE): \n",
    "        return 'Волконский' \n",
    "    elif re.search (r'Стардог!?[Sс]?|Stardogs', string, re.IGNORECASE): \n",
    "        return 'Стардогс'     \n",
    "    elif re.search (r'Андерсо?н', string, re.IGNORECASE): \n",
    "        return 'кафе АндерСон'\n",
    "    elif re.search (r'Азбука ?Вкуса', string, re.IGNORECASE): \n",
    "        return 'Азбука Вкуса'  \n",
    "    elif re.search (r'То ?Да ?Се', string, re.IGNORECASE): \n",
    "        return 'ТоДаСё'       \n",
    "    elif re.search (r'Джон ?Джоли', string, re.IGNORECASE): \n",
    "        return 'Джонджоли'     \n",
    "    elif re.search (r'Баскин ?Робб?инс|Baskin', string, re.IGNORECASE): \n",
    "        return 'Баскин Роббинс'       \n",
    "    elif re.search (r'Пицц?[ае] ?Паоло', string, re.IGNORECASE): \n",
    "        return 'Пицца Паоло'     \n",
    "    elif re.search (r'Кружка(?! и)', string, re.IGNORECASE): #Бутылка, Кружка и котел\n",
    "        return 'Кружка'\n",
    "    elif re.search (r'Грабли', string, re.IGNORECASE):\n",
    "        return 'Грабли'\n",
    "    elif re.search (r'Суши ?Сет', string, re.IGNORECASE): \n",
    "        return 'Cушисет'   \n",
    "    elif re.search (r'Ваби[- ]?Саби', string, re.IGNORECASE): \n",
    "        return 'Ваби-Саби'     \n",
    "    elif re.search (r'Вареничная ?№?1', string, re.IGNORECASE): \n",
    "        return 'Вареничная №1'\n",
    "    elif re.search (r'(?<!Штопор и )Дабл ?би', string, re.IGNORECASE): #Кафе «Пробка и Штопор и Даблби»\n",
    "        return 'Даблби'\n",
    "    elif re.search (r'Cinnabon?', string, re.IGNORECASE): #CINNABO\n",
    "        return 'Cinnabon'\n",
    "    elif re.search (r'Брусника', string, re.IGNORECASE): \n",
    "         return 'Брусника'    \n",
    "    elif re.search (r'Тирольские пироги', string, re.IGNORECASE): \n",
    "        return 'Тирольские пироги'\n",
    "    elif re.search (r'КОЛБАСОФФ', string, re.IGNORECASE): \n",
    "        return 'Колбасофф'\n",
    "    elif re.search (r'Нияма', string, re.IGNORECASE): \n",
    "         return 'Нияма'\n",
    "    elif re.search (r'Тарас Бульба', string, re.IGNORECASE): \n",
    "        return 'Тарас Бульба'\n",
    "    elif re.search (r\"D[uo]nkin'? Donuts|Данкин ?Донатс\", string, re.IGNORECASE): \n",
    "        return 'Dunkin Donuts'\n",
    "    elif re.search (r'сварня', string, re.IGNORECASE): \n",
    "         return 'Сварня'\n",
    "    elif re.search (r'[KC]rispy [KC]reme?', string, re.IGNORECASE): #Krispy Krem\n",
    "         return 'Krispy Kreme'\n",
    "    elif re.search (r'гурман[»\"]?\\b', string, re.IGNORECASE): #чтоб не цеплять Ресторан «Очаг гурманов» или Гурмания\n",
    "         return 'Гурман'\n",
    "    elif re.search (r'руккола', string, re.IGNORECASE): \n",
    "         return 'Руккола'\n",
    "    elif re.search (r'гудман\\b|goodman', string, re.IGNORECASE): #Гудман Гудвин\n",
    "        return 'Goodman'\n",
    "    #с Хинкальными черт ногу сломит. \n",
    "    #Всего 81 штука в датасете. И неясно, какой объект, к какой сети можно относить.\n",
    "    #Выделяю отдельно только то, что более и менее определенно\n",
    "    elif re.fullmatch (r'Хинкальная ?№?1', string, re.IGNORECASE): \n",
    "        return 'Хинкальная №1'\n",
    "    elif re.search (r'кофе[ -]?бин|coffee bean', string, re.IGNORECASE): \n",
    "         return 'Coffee Bean'\n",
    "    elif re.search (r'Jeffreys coffee', string, re.IGNORECASE): \n",
    "         return 'Jeffreys coffee'\n",
    "    elif re.search (r'Хлеб&Co|Хлеб и Co', string, re.IGNORECASE): \n",
    "         return 'Хлеб&Co'\n",
    "    elif re.search (r'Воккер', string, re.IGNORECASE): \n",
    "         return 'Воккер'\n",
    "    elif re.search (r'Пиццетория', string, re.IGNORECASE): \n",
    "         return 'Пиццетория'\n",
    "    elif re.search (r'Две палочки', string, re.IGNORECASE): \n",
    "         return 'Две палочки'\n",
    "    elif re.search (r'Французская выпечка', string, re.IGNORECASE): \n",
    "         return 'Французская выпечка'\n",
    "    elif re.search (r'Джаганнат', string, re.IGNORECASE): \n",
    "         return 'Джаганнат'\n",
    "    elif re.search (r'ПРАВDА|Правда кофе', string, re.IGNORECASE): \n",
    "         return 'Правда кофе'\n",
    "    elif re.search (r'Чебуречная СССР', string, re.IGNORECASE): \n",
    "         return 'Чебуречная СССР'  \n",
    "    elif re.search (r'Гамбринус', string, re.IGNORECASE): \n",
    "         return 'Гамбринус'\n",
    "    elif re.search (r'Московская сеть кальянных', string, re.IGNORECASE): \n",
    "         return 'МСК Московская сеть кальянных'\n",
    "    elif re.search (r'BB[& энд]?Burgers?|BB энд Burger', string, re.IGNORECASE): \n",
    "         return 'BBBurgers'\n",
    "    elif re.search (r'Black star burger', string, re.IGNORECASE): \n",
    "         return 'Black Star Burger'\n",
    "    else:\n",
    "        return 'unknown'     "
   ]
  },
  {
   "cell_type": "markdown",
   "id": "39aaf369-c3f9-4f11-a591-3f8948010168",
   "metadata": {},
   "source": [
    "Ячейка для теста отдельных условий функции"
   ]
  },
  {
   "cell_type": "code",
   "execution_count": 43,
   "id": "87e42112-1b2b-48d7-b17c-3b70f54e9d30",
   "metadata": {},
   "outputs": [],
   "source": [
    "def test(string):\n",
    "    if re.search (r'BB[& энд]?Burgers?|BB энд Burger', string, re.IGNORECASE): \n",
    "        print(string)"
   ]
  },
  {
   "cell_type": "markdown",
   "id": "be6f4b0c-d7d6-4f83-b833-6ca4542c85da",
   "metadata": {},
   "source": [
    "Ячейка для проверки отдельных регулярных выражений в датафрейме."
   ]
  },
  {
   "cell_type": "code",
   "execution_count": 44,
   "id": "375deec3-d684-41c1-acf9-a7ec90edf25e",
   "metadata": {
    "tags": []
   },
   "outputs": [
    {
     "data": {
      "text/html": [
       "<div>\n",
       "<style scoped>\n",
       "    .dataframe tbody tr th:only-of-type {\n",
       "        vertical-align: middle;\n",
       "    }\n",
       "\n",
       "    .dataframe tbody tr th {\n",
       "        vertical-align: top;\n",
       "    }\n",
       "\n",
       "    .dataframe thead th {\n",
       "        text-align: right;\n",
       "    }\n",
       "</style>\n",
       "<table border=\"1\" class=\"dataframe\">\n",
       "  <thead>\n",
       "    <tr style=\"text-align: right;\">\n",
       "      <th></th>\n",
       "      <th>id</th>\n",
       "      <th>object_name</th>\n",
       "      <th>chain</th>\n",
       "      <th>object_type</th>\n",
       "      <th>address</th>\n",
       "      <th>number</th>\n",
       "    </tr>\n",
       "  </thead>\n",
       "  <tbody>\n",
       "    <tr>\n",
       "      <th>390</th>\n",
       "      <td>88745</td>\n",
       "      <td>Кофе Бин</td>\n",
       "      <td>нет</td>\n",
       "      <td>кафе</td>\n",
       "      <td>город Москва, Долгоруковская улица, дом 39/6</td>\n",
       "      <td>35</td>\n",
       "    </tr>\n",
       "    <tr>\n",
       "      <th>554</th>\n",
       "      <td>25606</td>\n",
       "      <td>Кофе-Бин</td>\n",
       "      <td>да</td>\n",
       "      <td>кафе</td>\n",
       "      <td>город Москва, Ленинградский проспект, дом 56</td>\n",
       "      <td>41</td>\n",
       "    </tr>\n",
       "    <tr>\n",
       "      <th>759</th>\n",
       "      <td>129861</td>\n",
       "      <td>Кафе «Coffee Bean»</td>\n",
       "      <td>нет</td>\n",
       "      <td>кафе</td>\n",
       "      <td>город Москва, Брюсов переулок, дом 2/14, строе...</td>\n",
       "      <td>56</td>\n",
       "    </tr>\n",
       "    <tr>\n",
       "      <th>1245</th>\n",
       "      <td>125335</td>\n",
       "      <td>Кофейня кофе Бин</td>\n",
       "      <td>нет</td>\n",
       "      <td>кафе</td>\n",
       "      <td>город Москва, улица Хачатуряна, дом 16</td>\n",
       "      <td>45</td>\n",
       "    </tr>\n",
       "    <tr>\n",
       "      <th>1302</th>\n",
       "      <td>21813</td>\n",
       "      <td>Кофе-Бин</td>\n",
       "      <td>да</td>\n",
       "      <td>кафе</td>\n",
       "      <td>город Москва, улица Покровка, дом 21-23/25, ст...</td>\n",
       "      <td>47</td>\n",
       "    </tr>\n",
       "    <tr>\n",
       "      <th>3234</th>\n",
       "      <td>22460</td>\n",
       "      <td>Кофе-Бин</td>\n",
       "      <td>да</td>\n",
       "      <td>кафе</td>\n",
       "      <td>город Москва, улица Сретенка, дом 22/1, строен...</td>\n",
       "      <td>35</td>\n",
       "    </tr>\n",
       "    <tr>\n",
       "      <th>4244</th>\n",
       "      <td>69846</td>\n",
       "      <td>КОФЕ БИН</td>\n",
       "      <td>нет</td>\n",
       "      <td>кафе</td>\n",
       "      <td>город Москва, Сельскохозяйственная улица, дом ...</td>\n",
       "      <td>20</td>\n",
       "    </tr>\n",
       "    <tr>\n",
       "      <th>9357</th>\n",
       "      <td>167073</td>\n",
       "      <td>Кафе «Кофе бин»</td>\n",
       "      <td>нет</td>\n",
       "      <td>кафе</td>\n",
       "      <td>город Москва, Пресненская набережная, дом 6, с...</td>\n",
       "      <td>60</td>\n",
       "    </tr>\n",
       "  </tbody>\n",
       "</table>\n",
       "</div>"
      ],
      "text/plain": [
       "          id         object_name chain object_type  \\\n",
       "390    88745            Кофе Бин   нет        кафе   \n",
       "554    25606            Кофе-Бин    да        кафе   \n",
       "759   129861  Кафе «Coffee Bean»   нет        кафе   \n",
       "1245  125335    Кофейня кофе Бин   нет        кафе   \n",
       "1302   21813            Кофе-Бин    да        кафе   \n",
       "3234   22460            Кофе-Бин    да        кафе   \n",
       "4244   69846            КОФЕ БИН   нет        кафе   \n",
       "9357  167073     Кафе «Кофе бин»   нет        кафе   \n",
       "\n",
       "                                                address  number  \n",
       "390        город Москва, Долгоруковская улица, дом 39/6      35  \n",
       "554        город Москва, Ленинградский проспект, дом 56      41  \n",
       "759   город Москва, Брюсов переулок, дом 2/14, строе...      56  \n",
       "1245             город Москва, улица Хачатуряна, дом 16      45  \n",
       "1302  город Москва, улица Покровка, дом 21-23/25, ст...      47  \n",
       "3234  город Москва, улица Сретенка, дом 22/1, строен...      35  \n",
       "4244  город Москва, Сельскохозяйственная улица, дом ...      20  \n",
       "9357  город Москва, Пресненская набережная, дом 6, с...      60  "
      ]
     },
     "execution_count": 44,
     "metadata": {},
     "output_type": "execute_result"
    }
   ],
   "source": [
    "df[df.object_name.str.contains('кофе[ -]?бин|coffee bean',case=False,regex=True)]"
   ]
  },
  {
   "cell_type": "markdown",
   "id": "ce77c4cf-4904-445d-813c-6048952f50dc",
   "metadata": {},
   "source": [
    "Применим функцию к столбцу с названиями и создадим столбец с названием сети chain_name."
   ]
  },
  {
   "cell_type": "code",
   "execution_count": 45,
   "id": "6acbe30a-9df9-408e-9d96-a5e8c9286571",
   "metadata": {},
   "outputs": [],
   "source": [
    "df['chain_name'] = df['object_name'].apply(get_name_for_chain)"
   ]
  },
  {
   "cell_type": "markdown",
   "id": "c2b24ee5-51fa-46ef-b919-94a915128f87",
   "metadata": {},
   "source": [
    "Посмотрим, как отработала функция."
   ]
  },
  {
   "cell_type": "code",
   "execution_count": 46,
   "id": "f4e232ac-21c5-49bd-a6f1-06a4a7c4fb00",
   "metadata": {
    "tags": []
   },
   "outputs": [
    {
     "data": {
      "text/plain": [
       "unknown                                12577\n",
       "KFC                                      192\n",
       "Шоколадница                              189\n",
       "McDonalds                                173\n",
       "Burger King                              162\n",
       "Теремок                                  115\n",
       "Domino's Pizza                           111\n",
       "Крошка Картошка                           99\n",
       "Суши Wok                                  96\n",
       "Милти                                     85\n",
       "Starbucks                                 72\n",
       "Prime                                     68\n",
       "Papa John’s                               68\n",
       "Subway                                    59\n",
       "Додо Пицца                                56\n",
       "Донер Кебаб                               55\n",
       "Чайхона №1                                52\n",
       "Якитория                                  51\n",
       "Il Патио                                  50\n",
       "Тануки                                    47\n",
       "Кофе Хауз                                 44\n",
       "Кофе с собой                              44\n",
       "Мята Lounge                               38\n",
       "Хлеб Насущный                             36\n",
       "Кулинарная лавка братьев Караваевых       35\n",
       "Му-му                                     34\n",
       "Cofix                                     30\n",
       "Pizza Hut                                 29\n",
       "кафе АндерСон                             29\n",
       "Даблби                                    27\n",
       "Волконский                                25\n",
       "Стардогс                                  24\n",
       "Сушишоп                                   23\n",
       "Кружка                                    21\n",
       "Штолле                                    20\n",
       "Правда кофе                               19\n",
       "Урюк                                      18\n",
       "Пицца Паоло                               18\n",
       "Азбука Вкуса                              18\n",
       "Алло Пицца                                17\n",
       "Кофемания                                 17\n",
       "Cушисет                                   17\n",
       "Баскин Роббинс                            16\n",
       "Джонджоли                                 16\n",
       "Dunkin Donuts                             15\n",
       "Тарас Бульба                              14\n",
       "Ваби-Саби                                 14\n",
       "Вареничная №1                             13\n",
       "Нияма                                     12\n",
       "Krispy Kreme                              12\n",
       "ТоДаСё                                    12\n",
       "Cinnabon                                  12\n",
       "Вьеткафе                                  12\n",
       "Грабли                                    12\n",
       "Goodman                                   11\n",
       "СушиСтор                                  11\n",
       "Брусника                                  11\n",
       "Воккер                                    10\n",
       "Колбасофф                                 10\n",
       "Французская выпечка                        9\n",
       "Гурман                                     8\n",
       "BBBurgers                                  8\n",
       "Osterio Mario                              8\n",
       "Coffee Bean                                8\n",
       "Руккола                                    7\n",
       "Две палочки                                7\n",
       "Джаганнат                                  7\n",
       "МСК Московская сеть кальянных              7\n",
       "Тирольские пироги                          7\n",
       "Чебуречная СССР                            7\n",
       "Гамбринус                                  6\n",
       "Jeffreys coffee                            5\n",
       "Black Star Burger                          5\n",
       "Хинкальная №1                              4\n",
       "Сварня                                     3\n",
       "Хлеб&Co                                    3\n",
       "Пиццетория                                 2\n",
       "Name: chain_name, dtype: int64"
      ]
     },
     "execution_count": 46,
     "metadata": {},
     "output_type": "execute_result"
    }
   ],
   "source": [
    "pd.set_option('display.max_rows', None)\n",
    "df['chain_name'].value_counts()"
   ]
  },
  {
   "cell_type": "markdown",
   "id": "3cabe570-0db8-4d30-b6fd-260d9e03ec4d",
   "metadata": {},
   "source": [
    "Количество объектов по крупным сетям прибавилось. Теперь Шоколадница по количеству объектов обогнала KFC.\n",
    "Неизвестных сетей у нас стало больше (11881), чем объектов, имеющих значение \"нет\" в параметре chain (11642), с другой стороны данные по крупным сетям стали чистыми."
   ]
  },
  {
   "cell_type": "markdown",
   "id": "792b2154-fe7b-4755-ad9a-c50d3696e6d9",
   "metadata": {},
   "source": [
    "Посмотрим, какие сети мы не обработали."
   ]
  },
  {
   "cell_type": "code",
   "execution_count": 47,
   "id": "28d6f37e-4b62-4e59-8017-e8c4ed385bc6",
   "metadata": {
    "tags": []
   },
   "outputs": [],
   "source": [
    "chains_not_in_analysis = df.query('chain_name==\"unknown\" and chain==\"да\"')['object_name'].value_counts().to_dict()"
   ]
  },
  {
   "cell_type": "code",
   "execution_count": 48,
   "id": "d4e9ac36-dd3f-4913-9c1e-9ccc742f7282",
   "metadata": {},
   "outputs": [
    {
     "data": {
      "text/plain": [
       "dict_items([('Хинкальная', 35), ('Пицца Экспресс', 7), ('Сити Пицца', 6), ('Менза', 5), ('Жан Жак', 5), ('Мимино', 5), ('Costa Coffee', 5), ('MosKalyan', 5), ('Wok & Box', 5), ('Пицца Фабрика', 5), ('Ташир пицца', 5), ('Шантимель', 5), ('Панчо Пицца', 5), ('Ливан-хаус', 5), ('Бургер клаб', 4), ('Coffeeshop Company', 4), ('Территория', 4), ('Магбургер', 4), ('Ерш', 4), ('Кебаб Хаус', 4), ('АКАДЕМИЯ', 4), ('СушиМан', 3), ('Маки-Маки', 3), ('Bocconcino', 3), ('Рецептор', 3), ('Travelers Coffee', 3), ('Золотая вобла', 3), ('Кафе «Хинкальная»', 3), ('Burger Club', 3), ('Космик', 3), ('Ичибан Боши', 3), ('Ресторан «Планета Суши»', 3), ('ХИНКАЛЬНАЯ', 3), ('Да Пино', 3), ('Блинная', 3), ('Sushilka', 3), ('Лепешка', 3), ('Пронто', 3), ('Поль Бейкери', 3), ('GlowSubs Sandwiches', 3), ('Де Марко', 3), ('Порто Мальтезе', 3), ('Суп Кафе', 2), ('Дорогая я перезвоню', 2), ('Изба', 2), ('Бакинский бульвар', 2), ('Хачапури', 2), ('Квартира 44', 2), ('Мистер Картошка', 2), ('ПИЛЗНЕР', 2), ('Зодиак', 2), ('Ресторан «Ерш»', 2), ('Ирландский Паб', 2), ('Роллофф', 2), ('Пицца Pomodoro', 2), ('Correas', 2), ('Wokker', 2), ('Роснефть', 2), ('Пицца экспресс', 2), ('ТАШИР ПИЦЦА', 2), ('Кофетун', 2), ('PAUL Поль', 2), ('Кафе Пронто', 2), ('СТАРИНА МЮЛЛЕР Старина Миллер', 2), ('Кулинарное бюро', 2), ('Сытая Утка', 2), ('Starlite Diner', 2), ('Простые вещи', 2), ('Кафе «Costa coffee»', 2), ('Ресторан «Бакинский бульвар»', 2), ('Елки-Палки', 2), ('Вкусняшка', 2), ('Yogurt Frenzy', 2), ('Дюшес', 2), ('Кофепорт', 2), ('Обжорный ряд', 2), ('LAVKALAVKA', 2), ('Хлебница пекарня', 2), ('Планета Суши', 2), ('Темпл бар', 2), ('Барбекю', 2), ('Павлин-Мавлин', 2), ('Примавера', 2), ('Хижина', 2), ('My box', 2), ('МАГНОЛИЯ', 2), ('TUTTI FRUTTI FROZEN YOGURT', 2), ('Healthy Food', 2), ('Суши тун', 2), ('Сбарро', 2), ('Кафе «Пицца Фабрика»', 2), ('Ресторан «Территория»', 2), ('Luciano', 2), ('Бенто WOK', 2), ('ПивКо', 2), ('Тапчан', 2), ('Академия', 2), ('МАКИ-МАКИ', 2), ('Илья Муромец', 2), ('Барашка', 2), ('Меленка', 1), ('Pizengof99 СПБ', 1), ('Кофе с собой Gate 42', 1), ('Кафе «Сим-Сим»', 1), ('Maki Maki', 1), ('Предприятие быстрого обслуживания «Бенто WOK»', 1), ('Ян Примус', 1), ('Ресторан «Темпл Бар»', 1), ('БАКИНСКИЙ БУЛЬВАР', 1), ('Бар Боулинг-Космик', 1), ('Кафе при АЗС Газпромнефть', 1), ('White Rabbite (Белый кролик)', 1), ('ИЛЬ ФОРНО', 1), ('МЕНЗА', 1), ('Пражечка', 1), ('Кафе при АЗС «BP»', 1), ('Ресторан «Космик»', 1), ('МИ ПЬЯЧЕ', 1), ('Семейный ресторан «Космик»', 1), ('Каффе «Wokker»', 1), ('Тайм Авеню', 1), ('АРИАНА', 1), ('Ресторан «БРУДЕР»', 1), ('Кафе «Торнадо»', 1), ('Ванвок', 1), ('Кафе ПРОНТО', 1), ('Детское кафе «Космик»', 1), ('Ресторан японской кухни «Маки-Маки»', 1), ('Спорт-бар «Космик»', 1), ('КОФЕПОРТ', 1), ('Готика', 1), ('Югос', 1), ('TGI Fridays', 1), ('Кальянная F-lounge', 1), ('Лукойл', 1), ('BooBo', 1), ('Бодрый день Кофе с собой', 1), ('Bubbleology', 1), ('Мираторг', 1), ('FRIDAYS', 1), ('Beverly Hills Diner', 1), ('Лукойл-Центрнефтьпродукт', 1), ('Кафе при АЗС Лукойл', 1), ('Кофе с собой «Кофейня»', 1), ('Суши тун, Хруст pizza, Кофе тун', 1), ('Грузинские каникулы Барбарис', 1), ('МагБургер', 1), ('Чешская пивная ПИЛЗНЕР', 1), ('Florentini', 1), ('Сказка', 1), ('Van Wok Ванвок', 1), ('Marmalato', 1), ('Movenpick', 1), ('Пицца ПИПОНИ', 1), ('Бургер Клаб', 1), ('Сувлаки', 1), ('ББ энд БУРГЕРС В&В Бургер', 1), ('Vanwok Ванвок', 1), ('Кальян-бар MosKalyan', 1), ('CoffeeShop', 1), ('Газпромнефтьцентр', 1), ('МясоROOB', 1), ('МЯСОROOB', 1), ('Ботик Петра', 1), ('Анти-кафе кальянная «MosKalyan»', 1), ('Ресторан «Хинкальная»', 1), ('Восточный базар', 1), ('Марчеллис', 1), ('The Terrace', 1), ('КОФЕЙНЯ «Costa Coffee»', 1), ('Black & White', 1), ('Ресторан ИКЕА Ikea', 1), ('Пончиковое кафе ИКЕА Ikea', 1), ('CORREAS', 1), ('Бир Хаус Паб', 1), ('Ресторан Торро Гриль', 1), ('Предприятие быстрого обслуживания «Магбургер»', 1), ('Torro Grill Торро Гриль', 1), ('Кофешоп Coffeeshop Company', 1), ('Marrakesh Хинкальная', 1), ('M Cafe Хинкальная', 1), ('Молли гвинз', 1), ('Кафе Песто и Митлес', 1), ('Cookhouse', 1), ('Пикколо', 1), ('Зю Кафе', 1), ('ШАНТИМЕЛЬ', 1), ('Ливан-Хаус', 1), ('БИСТРО ПРОНТО', 1), ('Tutti frutti', 1), ('Япоша', 1), ('Кафе мороженного «Tutti Frutti»', 1), ('Healthy food', 1), ('Panda Express', 1), ('Васаби', 1), ('Суши «Маки-Маки»', 1), ('МИМИНО', 1), ('HEALTHY Food', 1), ('TGI FRIDAYS', 1), ('Хачапури, Одесса -мама', 1), ('Грузинская кухня ЭZО Хинкальная', 1), ('Upside Down', 1), ('Кофе', 1), ('КАРО', 1), ('Милано пицца', 1), ('Венеция', 1), ('Гурмания', 1), ('Кафе «Тапчан»', 1), ('Ресторан «Ньокки»', 1), ('Bierloga', 1), ('Штирбирлиц', 1), ('ХАЧАПУРИ', 1), ('В&В Бургер', 1), ('Travelers Coffe', 1), ('ЗОЛОТАЯ ВОБЛА', 1), ('Траттория Примавера', 1), ('Коста Кофе', 1), ('Перекресток', 1), ('Шантимель (кондитерские)', 1), ('Торро Гриль', 1), ('РЕСТОРАН «Космик»', 1), ('ФИТНЕС-БАР «WORLD CLASS»', 1), ('Кафе «Кулинарное бюро»', 1), ('Билла', 1), ('Темпл Бар', 1), ('Tokyo bay', 1), ('КУЛИНАРНОЕ БЮРО', 1), ('Пиппони', 1), ('Пицца Пипони', 1), ('Кулинарное бюро Китчен', 1), ('Икура Паб', 1), ('Пиццерия Пиу дель Чибо', 1), ('Макс Бреннер', 1), ('Бутчер Бизон', 1), ('Магбургер АЗС №16', 1), ('БРАВА Коста кофе', 1), ('Крепери де пари', 1), ('КОФЕЙНЯ «ДЕ МАРКО»', 1), ('Добрынинский и партнеры', 1), ('Хинкальная City', 1), ('ПРИМАВЕРА', 1), ('Виктория', 1), ('Пиццерия «АКАДЕМИЯ»', 1), ('Grand Cru', 1), ('Советские времена', 1), ('Шоколад', 1), ('Николай', 1), ('Гино-но-таки', 1), ('Тратория Semplice', 1), ('Ньокки', 1), ('Бар- буфет «Николай»', 1), ('Простые Вещи', 1), ('Кафе «Чайхана Тапчан»', 1), ('Бабай Клаб', 1), ('КАКТУС', 1), ('Ресторан «Илья Муромец»', 1), ('Мюнгер', 1), ('БОТИК ПЕТРА', 1), ('Чин Чин', 1), ('Сити', 1), ('ПИВКО', 1), ('Ресторан «Брудер»', 1), ('Цинандали Хинкальная', 1), ('Иль Форно', 1), ('UPSIDE DOWN CAKE', 1), ('Кафе Пекарня Хачапури', 1), ('Домашнее Кафе сеть городских кафе', 1), ('Бар-буфет Николай', 1), ('Магбургер АЗС №17', 1), ('IL Forno Иль Форно', 1), ('Чешская пивная «Козловица»', 1), ('Ресторан Хинкальная', 1), ('Метро К&К', 1), ('Тамаси Суши', 1), ('ФАНТОЦЦИ РУС', 1), ('Ресторан «Пронто»', 1), ('Ганс и Марта', 1), ('Кафе «Поль Бейкери»', 1), ('TAJJ MAHAL', 1), ('Лето', 1), ('Суши бар «Маки-маки»', 1), ('ЯММИ МИКС', 1), ('Брудер', 1), ('Баракат', 1), ('Кафе при АЗС', 1), ('Кулинарное бюро Kitchen', 1), ('Кафе Космик', 1), ('Кафе шоколад', 1), ('ЯПОША', 1), ('Кофе тун', 1), ('Барбарис', 1), ('ПОМИДОР', 1), ('Маки-маки', 1), ('Планета суши', 1), ('Урожай', 1), ('Ресторан «Ян Примус»', 1), ('ШВАРЦВАЛЬД', 1), ('Кафе «Менза»', 1), ('Ресторан «Джардино Да Пино»', 1), ('Кафе «МЕЛЕНКА»', 1), ('КАФЕ «Восточный базар»', 1), ('Кафе КОФЕ ТУН', 1), ('Ресторан Маки-Маки', 1), ('Оникс', 1), ('ПРОНТО', 1), ('Пицца Pomodoro и Суши Дзен', 1), ('Старина Миллер', 1), ('Кафе Рецептор', 1), ('Пицца «Паоло»', 1), ('Чешская пивная «Пилзнер»', 1), ('Крепери де Пари', 1), ('ТЕРРИТОРИЯ ЯСЕНЕВО', 1), ('Городские автокофейни', 1), ('Мимино Хинкальная', 1), ('Хинкальная КИНТО', 1), ('Американ Сити Пицца ЦЕХ ПО ИЗГОТОВЛЕНИЮ ПИЦЦЫ', 1), ('Ресторан «Florentini»', 1), ('Upside Down Cake', 1), ('Ми Пьяче', 1), ('Пиццерия Донателло', 1), ('Закусочная «Американ Сити Пицца»', 1), ('Кафе «Марукамэ»', 1), ('Бир хаус', 1), ('СПБ', 1), ('Кебаб хаус', 1), ('ВЕНЕЦИЯ', 1), ('ШАШЛЫК-МАШЛЫК', 1), ('ГЕНАЦВАЛИ', 1), ('Территория TIMBIGFAMILY', 1), ('Да Пино (Da Pino)', 1), ('Ресторан «Золотая Вобла»', 1), ('Граци рагацци Зю Кафе', 1), ('Виват-Пицца', 1), ('ресторан «Брудер»', 1), ('Мята', 1)])"
      ]
     },
     "execution_count": 48,
     "metadata": {},
     "output_type": "execute_result"
    }
   ],
   "source": [
    "chains_not_in_analysis.items()"
   ]
  },
  {
   "cell_type": "markdown",
   "id": "df34b1ac-b8b3-4b23-afc4-7aa3bc3f4e76",
   "metadata": {},
   "source": [
    "Все крупные сети обработаны успешно. Можно продолжать анализ."
   ]
  },
  {
   "cell_type": "markdown",
   "id": "96c797c3-ec0c-4e07-b3d2-dc8cacac4a0f",
   "metadata": {},
   "source": [
    "Создадим срез по выделенным нами сетям, посчитаем для каждой сети среднее количество посадочных мест и количество объектов этой сети."
   ]
  },
  {
   "cell_type": "code",
   "execution_count": 49,
   "id": "c2dac456-b3eb-4350-a2f6-f84177cc8e50",
   "metadata": {
    "tags": []
   },
   "outputs": [
    {
     "data": {
      "image/png": "[encoded data removed]",
      "text/plain": [
       "<Figure size 1400x800 with 1 Axes>"
      ]
     },
     "metadata": {},
     "output_type": "display_data"
    }
   ],
   "source": [
    "chain_obj_number = df.query('chain_name != \"unknown\"').groupby('chain_name').agg({'id':'count','number': 'median'})\n",
    "\n",
    "plt.figure(figsize=(14,8))\n",
    "sns.set_palette('muted')\n",
    "sns.set_theme(style=\"darkgrid\")\n",
    "sns.scatterplot(x='id', y='number', data=chain_obj_number)\n",
    "plt.title('Зависимость между количеством заведений в сети и числом посадочных мест\\n',fontsize=20)\n",
    "plt.xlabel('\\nКоличество заведений сети')\n",
    "plt.ylabel('Среднее число посадочных мест\\n')\n",
    "plt.show();"
   ]
  },
  {
   "cell_type": "markdown",
   "id": "fb3639a7-9be8-4fb9-8cbe-be43dbb4f3d3",
   "metadata": {
    "tags": []
   },
   "source": [
    "### Вывод"
   ]
  },
  {
   "cell_type": "markdown",
   "id": "d57efe91-5536-4f4c-a04c-749bc7ac278d",
   "metadata": {},
   "source": [
    "На графике видно, что большая часть точек, которые наверху, сосредоточены в интервале от 0 до 25.\n",
    "\n",
    "Для большей части сетей характерно малое количество заведений с большим количеством посадочных мест."
   ]
  },
  {
   "cell_type": "markdown",
   "id": "32742f4a-2609-4d35-bf29-1c040a901a5e",
   "metadata": {},
   "source": [
    "## Cреднее количество посадочных мест для каждого вида объекта общественного питания. Какой вид предоставляет в среднем самое большое количество посадочных мест."
   ]
  },
  {
   "cell_type": "code",
   "execution_count": 50,
   "id": "083b60cb-f47d-4852-858d-8a206418bb23",
   "metadata": {},
   "outputs": [
    {
     "data": {
      "text/html": [
       "<style type=\"text/css\">\n",
       "#T_f53e7_row0_col0 {\n",
       "  background-color: #08306b;\n",
       "  color: #f1f1f1;\n",
       "}\n",
       "#T_f53e7_row1_col0 {\n",
       "  background-color: #2575b7;\n",
       "  color: #f1f1f1;\n",
       "}\n",
       "#T_f53e7_row2_col0 {\n",
       "  background-color: #a0cbe2;\n",
       "  color: #000000;\n",
       "}\n",
       "#T_f53e7_row3_col0 {\n",
       "  background-color: #b5d4e9;\n",
       "  color: #000000;\n",
       "}\n",
       "#T_f53e7_row4_col0 {\n",
       "  background-color: #bed8ec;\n",
       "  color: #000000;\n",
       "}\n",
       "#T_f53e7_row5_col0 {\n",
       "  background-color: #dfebf7;\n",
       "  color: #000000;\n",
       "}\n",
       "#T_f53e7_row6_col0 {\n",
       "  background-color: #f2f7fd;\n",
       "  color: #000000;\n",
       "}\n",
       "#T_f53e7_row7_col0 {\n",
       "  background-color: #f4f9fe;\n",
       "  color: #000000;\n",
       "}\n",
       "#T_f53e7_row8_col0 {\n",
       "  background-color: #f7fbff;\n",
       "  color: #000000;\n",
       "}\n",
       "</style>\n",
       "<table id=\"T_f53e7\">\n",
       "  <thead>\n",
       "    <tr>\n",
       "      <th class=\"blank level0\" >&nbsp;</th>\n",
       "      <th id=\"T_f53e7_level0_col0\" class=\"col_heading level0 col0\" >mean</th>\n",
       "    </tr>\n",
       "    <tr>\n",
       "      <th class=\"index_name level0\" >object_type</th>\n",
       "      <th class=\"blank col0\" >&nbsp;</th>\n",
       "    </tr>\n",
       "  </thead>\n",
       "  <tbody>\n",
       "    <tr>\n",
       "      <th id=\"T_f53e7_level0_row0\" class=\"row_heading level0 row0\" >столовая</th>\n",
       "      <td id=\"T_f53e7_row0_col0\" class=\"data row0 col0\" >130</td>\n",
       "    </tr>\n",
       "    <tr>\n",
       "      <th id=\"T_f53e7_level0_row1\" class=\"row_heading level0 row1\" >ресторан</th>\n",
       "      <td id=\"T_f53e7_row1_col0\" class=\"data row1 col0\" >97</td>\n",
       "    </tr>\n",
       "    <tr>\n",
       "      <th id=\"T_f53e7_level0_row2\" class=\"row_heading level0 row2\" >буфет</th>\n",
       "      <td id=\"T_f53e7_row2_col0\" class=\"data row2 col0\" >52</td>\n",
       "    </tr>\n",
       "    <tr>\n",
       "      <th id=\"T_f53e7_level0_row3\" class=\"row_heading level0 row3\" >бар</th>\n",
       "      <td id=\"T_f53e7_row3_col0\" class=\"data row3 col0\" >44</td>\n",
       "    </tr>\n",
       "    <tr>\n",
       "      <th id=\"T_f53e7_level0_row4\" class=\"row_heading level0 row4\" >кафе</th>\n",
       "      <td id=\"T_f53e7_row4_col0\" class=\"data row4 col0\" >40</td>\n",
       "    </tr>\n",
       "    <tr>\n",
       "      <th id=\"T_f53e7_level0_row5\" class=\"row_heading level0 row5\" >предприятие быстрого обслуживания</th>\n",
       "      <td id=\"T_f53e7_row5_col0\" class=\"data row5 col0\" >21</td>\n",
       "    </tr>\n",
       "    <tr>\n",
       "      <th id=\"T_f53e7_level0_row6\" class=\"row_heading level0 row6\" >кафетерий</th>\n",
       "      <td id=\"T_f53e7_row6_col0\" class=\"data row6 col0\" >9</td>\n",
       "    </tr>\n",
       "    <tr>\n",
       "      <th id=\"T_f53e7_level0_row7\" class=\"row_heading level0 row7\" >закусочная</th>\n",
       "      <td id=\"T_f53e7_row7_col0\" class=\"data row7 col0\" >8</td>\n",
       "    </tr>\n",
       "    <tr>\n",
       "      <th id=\"T_f53e7_level0_row8\" class=\"row_heading level0 row8\" >магазин (отдел кулинарии)</th>\n",
       "      <td id=\"T_f53e7_row8_col0\" class=\"data row8 col0\" >6</td>\n",
       "    </tr>\n",
       "  </tbody>\n",
       "</table>\n"
      ],
      "text/plain": [
       "<pandas.io.formats.style.Styler at 0x11dd13e50>"
      ]
     },
     "execution_count": 50,
     "metadata": {},
     "output_type": "execute_result"
    }
   ],
   "source": [
    "type_number = df.groupby('object_type')['number'].agg(['mean']).sort_values(by='mean', ascending=False)\n",
    "(type_number\n",
    " .style\n",
    " .format(\"{:.0f}\")\n",
    " .background_gradient(cmap='Blues', axis=0)\n",
    ")"
   ]
  },
  {
   "cell_type": "code",
   "execution_count": 51,
   "id": "a5664c82-2d1c-457e-8db3-0f16c32c9225",
   "metadata": {
    "tags": []
   },
   "outputs": [
    {
     "data": {
      "image/png": "[encoded data removed]",
      "text/plain": [
       "<Figure size 1400x800 with 1 Axes>"
      ]
     },
     "metadata": {},
     "output_type": "display_data"
    }
   ],
   "source": [
    "plt.figure(figsize=(14,8))\n",
    "sns.set_palette('pastel')\n",
    "sns.set_theme(style=\"darkgrid\")\n",
    "sns.barplot(x='mean', y='object_type', orient='h', data=type_number.reset_index())\n",
    "plt.title('Распределение видов объектов по количеству посадочных мест \\n',fontsize=20)\n",
    "plt.ylabel('')\n",
    "plt.yticks(fontsize=14)\n",
    "plt.xlabel('Количество посадочных мест\\n')\n",
    "plt.xticks(fontsize=14)\n",
    "plt.show();"
   ]
  },
  {
   "cell_type": "markdown",
   "id": "a7ebe8e3-00fd-4e8f-a97e-e22d9970c85b",
   "metadata": {},
   "source": [
    "### Вывод"
   ]
  },
  {
   "cell_type": "markdown",
   "id": "c88991a5-246c-428d-9ab6-1216ac1c5216",
   "metadata": {},
   "source": [
    "И из графика, и из таблицы (тут данных немного и хорошо все видно) можем сказать, что в среднем самое большое количество посадочных мест имеют столовые. Логично. \n",
    "\n",
    "Скорее всего, столовые для данного бизнеса не будут интересны, поэтому отметим, что рестораны в среднем имеет наибольшее число посадочных мест после столовой."
   ]
  },
  {
   "cell_type": "markdown",
   "id": "41e22efd-5941-4c01-9d99-684f55efff03",
   "metadata": {},
   "source": [
    "## Выделение информации об улице в столбец address "
   ]
  },
  {
   "cell_type": "markdown",
   "id": "7b15c5a6-edd6-4ec7-b60c-6aeec7e5f11d",
   "metadata": {},
   "source": [
    "Вытащим все адреса из датафрейма в список. С помощью списка найдем все возможные маркеры-ключевые слова для названия улицы."
   ]
  },
  {
   "cell_type": "code",
   "execution_count": 52,
   "id": "1cedde50-4a48-4a9a-85d5-84c0753e1cf0",
   "metadata": {
    "tags": []
   },
   "outputs": [
    {
     "data": {
      "text/plain": [
       "['город Москва, улица Егора Абакумова, дом 9',\n",
       " 'город Москва, улица Талалихина, дом 2/1, корпус 1',\n",
       " 'город Москва, Абельмановская улица, дом 6',\n",
       " 'город Москва, Абрамцевская улица, дом 1',\n",
       " 'город Москва, Абрамцевская улица, дом 9, корпус 1']"
      ]
     },
     "execution_count": 52,
     "metadata": {},
     "output_type": "execute_result"
    }
   ],
   "source": [
    "address_lst = df['address'].tolist()\n",
    "address_lst[:5]"
   ]
  },
  {
   "cell_type": "markdown",
   "id": "a73d2c18-fb82-4f01-acfb-9d8cbe3319fe",
   "metadata": {},
   "source": [
    "Создадим новый список street_markers, куда сложим все ключевые слова для улиц."
   ]
  },
  {
   "cell_type": "code",
   "execution_count": 53,
   "id": "77a8f258-2696-406b-812d-75a06ddccf13",
   "metadata": {
    "tags": []
   },
   "outputs": [],
   "source": [
    "street_markers = []\n",
    "for elem in address_lst:\n",
    "    if 'Москва' not in elem.split(',')[0]: #Для адресов без указания на город или адресов за МКАДом\n",
    "        elem_zero = elem.split(',')[0].split() #список с названием улиц\n",
    "        for string in elem_zero:\n",
    "            if re.search(r'\\b(?<!-)[а-я]{2,}\\.?$', string) is not None and string not in street_markers:\n",
    "                street_markers.append(string.strip())\n",
    "    else:\n",
    "        elem_one = elem.split(',')[1].split() #Если есть Москва, берем второй элемент из строки\n",
    "        for string in elem_one:\n",
    "            if re.search(r'\\b(?<!-)[а-я]{2,}\\.?$', string) is not None and string not in street_markers:\n",
    "                street_markers.append(string.strip())"
   ]
  },
  {
   "cell_type": "markdown",
   "id": "d144b21e-69f0-4ea1-a3ca-df653c1aaff3",
   "metadata": {},
   "source": [
    "Посмотрим, какие у нас получились маркеры - выведем список на экран."
   ]
  },
  {
   "cell_type": "code",
   "execution_count": 54,
   "id": "6fb7e26a-beec-4d67-9d7c-316416286d65",
   "metadata": {
    "tags": []
   },
   "outputs": [
    {
     "data": {
      "text/plain": [
       "['улица',\n",
       " 'переулок',\n",
       " 'шоссе',\n",
       " 'проезд',\n",
       " 'проспект',\n",
       " 'набережная',\n",
       " 'бульвар',\n",
       " 'площадь',\n",
       " 'квартал',\n",
       " 'аллея',\n",
       " 'линия',\n",
       " 'город',\n",
       " 'микрорайон',\n",
       " 'поселение',\n",
       " 'тупик',\n",
       " 'поселок',\n",
       " 'лет',\n",
       " 'проектируемый',\n",
       " 'километр',\n",
       " 'территория',\n",
       " 'деревня',\n",
       " 'просек']"
      ]
     },
     "metadata": {},
     "output_type": "display_data"
    }
   ],
   "source": [
    "display(street_markers)"
   ]
  },
  {
   "cell_type": "markdown",
   "id": "26d9ed34-7917-4c03-8262-80d08b053fae",
   "metadata": {},
   "source": [
    "Грязноват. Уберем лишнее: 'лет', 'проектируемый', \"город\", 'поселение', 'деревня', 'поселок'."
   ]
  },
  {
   "cell_type": "code",
   "execution_count": 55,
   "id": "3d2e8810-fef3-4e3c-97dd-9ebf65be7d8f",
   "metadata": {
    "tags": []
   },
   "outputs": [
    {
     "name": "stdout",
     "output_type": "stream",
     "text": [
      "Количество элементов в списке до удаления: 22\n",
      "Длина списка, элементы которого удаляем: 6\n",
      "Количество элементов в списке после удаления: 16\n"
     ]
    },
    {
     "data": {
      "text/plain": [
       "['бульвар',\n",
       " 'улица',\n",
       " 'просек',\n",
       " 'территория',\n",
       " 'квартал',\n",
       " 'микрорайон',\n",
       " 'площадь',\n",
       " 'линия',\n",
       " 'проезд',\n",
       " 'набережная',\n",
       " 'километр',\n",
       " 'проспект',\n",
       " 'аллея',\n",
       " 'переулок',\n",
       " 'тупик',\n",
       " 'шоссе']"
      ]
     },
     "metadata": {},
     "output_type": "display_data"
    }
   ],
   "source": [
    "print(\"Количество элементов в списке до удаления:\", len(street_markers))\n",
    "to_remove = ['лет', 'проектируемый', 'город', 'поселение', 'деревня', 'поселок']\n",
    "print('Длина списка, элементы которого удаляем:', len(to_remove))\n",
    "street_markers = list(set(street_markers) - set(to_remove))\n",
    "print(\"Количество элементов в списке после удаления:\", len(street_markers))\n",
    "display(street_markers)"
   ]
  },
  {
   "cell_type": "markdown",
   "id": "6e7df3e5-7ec6-4741-a06e-550335fe24ad",
   "metadata": {},
   "source": [
    "Итак, мы получили чистый список маркеров для названий улиц. Теперь попробуем извлечь названия улиц в отдельный столбец."
   ]
  },
  {
   "cell_type": "code",
   "execution_count": 56,
   "id": "7ce12261-94f0-4b6b-a2dc-a2478a32402e",
   "metadata": {},
   "outputs": [],
   "source": [
    "\"\"\"\n",
    "Функция берет на вход строку, возвращает строку.\n",
    "\"\"\"\n",
    "def get_street(string):\n",
    "    #Берем строку с адресом и сплиттим ее по запятым\n",
    "    splitted_add = string.split(',')\n",
    "    #Итерируемся по списку маркеров-ключевых слов, которыми может быть введено название улицы\n",
    "    for street_marker in street_markers:\n",
    "        #Итерируемся по элементам адреса\n",
    "        for elem in splitted_add:\n",
    "            #Если маркер-ключевое слово в строке, значит в этом элементе у нас название улицы. \n",
    "            if street_marker in elem.lower(): #and 'Москва' not in elem: #Мы проверяем, что город не Москва, чтобы зацепить только Зеленоградский округ и Новую Москву\n",
    "                return elem.strip()\n",
    "                break"
   ]
  },
  {
   "cell_type": "code",
   "execution_count": 57,
   "id": "3d0b378a-c128-40d4-a00f-ecf03e16bd35",
   "metadata": {},
   "outputs": [],
   "source": [
    "df['street_name'] = df['address'].apply(get_street)"
   ]
  },
  {
   "cell_type": "markdown",
   "id": "db0732f0-d320-4a69-9f9e-3cf639e345bc",
   "metadata": {},
   "source": [
    "Посмотрим, что получилось."
   ]
  },
  {
   "cell_type": "code",
   "execution_count": 58,
   "id": "2ebd34b6-d209-4430-bd01-a4ed87ec9f3f",
   "metadata": {
    "tags": []
   },
   "outputs": [
    {
     "data": {
      "text/plain": [
       "проспект Мира              204\n",
       "Профсоюзная улица          182\n",
       "Ленинградский проспект     172\n",
       "Пресненская набережная     167\n",
       "Варшавское шоссе           162\n",
       "                          ... \n",
       "1-й Вешняковский проезд      1\n",
       "улица Паперника              1\n",
       "шоссе Фрезер                 1\n",
       "Тихая улица                  1\n",
       "улица Евгения Родионова      1\n",
       "Name: street_name, Length: 1948, dtype: int64"
      ]
     },
     "execution_count": 58,
     "metadata": {},
     "output_type": "execute_result"
    }
   ],
   "source": [
    "pd.reset_option('all', silent=True)\n",
    "df['street_name'].value_counts()"
   ]
  },
  {
   "cell_type": "markdown",
   "id": "296676bb-20fb-446c-8333-3c8d75a1a3b8",
   "metadata": {},
   "source": [
    "Посмотрим, есть ли пропуски."
   ]
  },
  {
   "cell_type": "code",
   "execution_count": 59,
   "id": "e028d89e-bffd-4ce5-9736-ef6384215038",
   "metadata": {
    "tags": []
   },
   "outputs": [
    {
     "data": {
      "text/plain": [
       "'Количество пропусков в столбце с улицами: 250'"
      ]
     },
     "execution_count": 59,
     "metadata": {},
     "output_type": "execute_result"
    }
   ],
   "source": [
    "f\"Количество пропусков в столбце с улицами: {df['street_name'].isna().sum()}\""
   ]
  },
  {
   "cell_type": "markdown",
   "id": "c3555974-6670-478a-9d67-b3f716ce514b",
   "metadata": {},
   "source": [
    "Посмотрим на список пропущенных значений"
   ]
  },
  {
   "cell_type": "code",
   "execution_count": 60,
   "id": "dfbd7260-4af9-435e-bc85-c66756c04106",
   "metadata": {
    "tags": []
   },
   "outputs": [
    {
     "data": {
      "text/plain": [
       "['город Москва, город Зеленоград, корпус 401',\n",
       " 'город Москва, город Зеленоград, корпус 435',\n",
       " 'город Москва, город Зеленоград, корпус 436',\n",
       " 'город Москва, город Зеленоград, корпус 438',\n",
       " 'город Москва, город Зеленоград, корпус 438',\n",
       " 'город Москва, город Зеленоград, корпус 834А',\n",
       " 'город Москва, город Зеленоград, корпус 1106',\n",
       " 'город Москва, город Зеленоград, корпус 1449',\n",
       " 'город Москва, город Зеленоград, корпус 1456',\n",
       " 'город Москва, город Зеленоград, корпус 1456']"
      ]
     },
     "execution_count": 60,
     "metadata": {},
     "output_type": "execute_result"
    }
   ],
   "source": [
    "df[df['street_name'].isna()]['address'].tolist()[:10]"
   ]
  },
  {
   "cell_type": "markdown",
   "id": "0a07a50c-dd1a-4b55-a67e-354c8d6ef481",
   "metadata": {},
   "source": [
    "Это все округа Новой Москвы и Зеленоград, где улицы и не указаны. Оставляем как есть. Это небольшой процент данных."
   ]
  },
  {
   "cell_type": "code",
   "execution_count": 61,
   "id": "7941214b-29af-4711-ad0c-9727baa1c79a",
   "metadata": {},
   "outputs": [
    {
     "data": {
      "text/plain": [
       "'Объекты за МКАДом, у которых отсутствуют улицы, составляют 1.6% от всех данных'"
      ]
     },
     "execution_count": 61,
     "metadata": {},
     "output_type": "execute_result"
    }
   ],
   "source": [
    "(\"Объекты за МКАДом, у которых отсутствуют улицы, составляют {:.1%} от всех данных\".\n",
    " format(df['street_name'].isna().sum() / df.shape[0]))"
   ]
  },
  {
   "cell_type": "markdown",
   "id": "375b1849-d907-43cf-a464-75ad0eb8c495",
   "metadata": {},
   "source": [
    "## График топ-10 улиц по количеству объектов общественного питания. В каких районах Москвы находятся эти улицы."
   ]
  },
  {
   "cell_type": "code",
   "execution_count": 62,
   "id": "0baa934a-039b-4af3-bf82-bf7469c6edb7",
   "metadata": {},
   "outputs": [
    {
     "data": {
      "text/html": [
       "<div>\n",
       "<style scoped>\n",
       "    .dataframe tbody tr th:only-of-type {\n",
       "        vertical-align: middle;\n",
       "    }\n",
       "\n",
       "    .dataframe tbody tr th {\n",
       "        vertical-align: top;\n",
       "    }\n",
       "\n",
       "    .dataframe thead th {\n",
       "        text-align: right;\n",
       "    }\n",
       "</style>\n",
       "<table border=\"1\" class=\"dataframe\">\n",
       "  <thead>\n",
       "    <tr style=\"text-align: right;\">\n",
       "      <th></th>\n",
       "      <th>count</th>\n",
       "    </tr>\n",
       "    <tr>\n",
       "      <th>street_name</th>\n",
       "      <th></th>\n",
       "    </tr>\n",
       "  </thead>\n",
       "  <tbody>\n",
       "    <tr>\n",
       "      <th>проспект Мира</th>\n",
       "      <td>204</td>\n",
       "    </tr>\n",
       "    <tr>\n",
       "      <th>Профсоюзная улица</th>\n",
       "      <td>182</td>\n",
       "    </tr>\n",
       "    <tr>\n",
       "      <th>Ленинградский проспект</th>\n",
       "      <td>172</td>\n",
       "    </tr>\n",
       "    <tr>\n",
       "      <th>Пресненская набережная</th>\n",
       "      <td>167</td>\n",
       "    </tr>\n",
       "    <tr>\n",
       "      <th>Варшавское шоссе</th>\n",
       "      <td>162</td>\n",
       "    </tr>\n",
       "    <tr>\n",
       "      <th>Ленинский проспект</th>\n",
       "      <td>148</td>\n",
       "    </tr>\n",
       "    <tr>\n",
       "      <th>проспект Вернадского</th>\n",
       "      <td>128</td>\n",
       "    </tr>\n",
       "    <tr>\n",
       "      <th>Кутузовский проспект</th>\n",
       "      <td>114</td>\n",
       "    </tr>\n",
       "    <tr>\n",
       "      <th>Каширское шоссе</th>\n",
       "      <td>111</td>\n",
       "    </tr>\n",
       "    <tr>\n",
       "      <th>Кировоградская улица</th>\n",
       "      <td>108</td>\n",
       "    </tr>\n",
       "  </tbody>\n",
       "</table>\n",
       "</div>"
      ],
      "text/plain": [
       "                        count\n",
       "street_name                  \n",
       "проспект Мира             204\n",
       "Профсоюзная улица         182\n",
       "Ленинградский проспект    172\n",
       "Пресненская набережная    167\n",
       "Варшавское шоссе          162\n",
       "Ленинский проспект        148\n",
       "проспект Вернадского      128\n",
       "Кутузовский проспект      114\n",
       "Каширское шоссе           111\n",
       "Кировоградская улица      108"
      ]
     },
     "execution_count": 62,
     "metadata": {},
     "output_type": "execute_result"
    }
   ],
   "source": [
    "top10streets = df.groupby('street_name')['id'].agg(['count']).sort_values(by='count', ascending=False).head(10)\n",
    "top10streets"
   ]
  },
  {
   "cell_type": "code",
   "execution_count": 63,
   "id": "50f2bf6d-da74-4f89-92da-d68c2f8d8327",
   "metadata": {},
   "outputs": [
    {
     "data": {
      "image/png": "[encoded data removed]",
      "text/plain": [
       "<Figure size 1400x800 with 1 Axes>"
      ]
     },
     "metadata": {},
     "output_type": "display_data"
    }
   ],
   "source": [
    "total = float(df.shape[0])\n",
    "plt.figure(figsize=(14,8))\n",
    "sns.set_palette('pastel')\n",
    "sns.set_theme(style=\"whitegrid\")\n",
    "sns.barplot(x='count', y='street_name', orient = 'h', data=top10streets.reset_index())\n",
    "plt.title('Топ-10 улиц по количеству объектов \\n',fontsize=20)\n",
    "plt.ylabel('')\n",
    "plt.yticks(fontsize=14)\n",
    "plt.xlabel('\\nКоличество объектов')\n",
    "plt.xticks(fontsize=14)\n",
    "plt.show();"
   ]
  },
  {
   "cell_type": "markdown",
   "id": "a8108a31-836a-4f19-857c-1eca0a5acd5b",
   "metadata": {},
   "source": [
    "### Загрузка стороннего файла с улицами Москвы"
   ]
  },
  {
   "cell_type": "code",
   "execution_count": 64,
   "id": "f2caac37-417b-4ee4-a90b-07a479c5f723",
   "metadata": {
    "tags": []
   },
   "outputs": [],
   "source": [
    "mos_streets = pd.read_csv('data/mosgaz-streets.csv')"
   ]
  },
  {
   "cell_type": "code",
   "execution_count": 65,
   "id": "f8396165-9003-4ef6-94ab-f952088765be",
   "metadata": {
    "tags": []
   },
   "outputs": [
    {
     "data": {
      "text/html": [
       "<div>\n",
       "<style scoped>\n",
       "    .dataframe tbody tr th:only-of-type {\n",
       "        vertical-align: middle;\n",
       "    }\n",
       "\n",
       "    .dataframe tbody tr th {\n",
       "        vertical-align: top;\n",
       "    }\n",
       "\n",
       "    .dataframe thead th {\n",
       "        text-align: right;\n",
       "    }\n",
       "</style>\n",
       "<table border=\"1\" class=\"dataframe\">\n",
       "  <thead>\n",
       "    <tr style=\"text-align: right;\">\n",
       "      <th></th>\n",
       "      <th>streetname</th>\n",
       "      <th>areaid</th>\n",
       "      <th>okrug</th>\n",
       "      <th>area</th>\n",
       "    </tr>\n",
       "  </thead>\n",
       "  <tbody>\n",
       "    <tr>\n",
       "      <th>0</th>\n",
       "      <td>Выставочный переулок</td>\n",
       "      <td>17</td>\n",
       "      <td>ЦАО</td>\n",
       "      <td>Пресненский район</td>\n",
       "    </tr>\n",
       "    <tr>\n",
       "      <th>1</th>\n",
       "      <td>улица Гашека</td>\n",
       "      <td>17</td>\n",
       "      <td>ЦАО</td>\n",
       "      <td>Пресненский район</td>\n",
       "    </tr>\n",
       "    <tr>\n",
       "      <th>2</th>\n",
       "      <td>Большая Никитская улица</td>\n",
       "      <td>17</td>\n",
       "      <td>ЦАО</td>\n",
       "      <td>Пресненский район</td>\n",
       "    </tr>\n",
       "    <tr>\n",
       "      <th>3</th>\n",
       "      <td>Глубокий переулок</td>\n",
       "      <td>17</td>\n",
       "      <td>ЦАО</td>\n",
       "      <td>Пресненский район</td>\n",
       "    </tr>\n",
       "    <tr>\n",
       "      <th>4</th>\n",
       "      <td>Большой Гнездниковский переулок</td>\n",
       "      <td>17</td>\n",
       "      <td>ЦАО</td>\n",
       "      <td>Пресненский район</td>\n",
       "    </tr>\n",
       "  </tbody>\n",
       "</table>\n",
       "</div>"
      ],
      "text/plain": [
       "                        streetname  areaid okrug               area\n",
       "0             Выставочный переулок      17   ЦАО  Пресненский район\n",
       "1                     улица Гашека      17   ЦАО  Пресненский район\n",
       "2          Большая Никитская улица      17   ЦАО  Пресненский район\n",
       "3                Глубокий переулок      17   ЦАО  Пресненский район\n",
       "4  Большой Гнездниковский переулок      17   ЦАО  Пресненский район"
      ]
     },
     "execution_count": 65,
     "metadata": {},
     "output_type": "execute_result"
    }
   ],
   "source": [
    "mos_streets.head()"
   ]
  },
  {
   "cell_type": "markdown",
   "id": "eb97c4cb-ab14-49cc-84d0-e06fb3104f05",
   "metadata": {},
   "source": [
    "Применим функцию предобработки к датафрейму с улицами."
   ]
  },
  {
   "cell_type": "code",
   "execution_count": 67,
   "id": "be2f07d6-bd84-47f4-b033-bd2f9820423c",
   "metadata": {
    "tags": []
   },
   "outputs": [],
   "source": [
    "preprocess_text_columns(mos_streets)"
   ]
  },
  {
   "cell_type": "markdown",
   "id": "4c118362-e046-4a51-890c-d0b32e53124a",
   "metadata": {},
   "source": [
    "Присоединим нашу табличку с улицами к топу 10 улиц."
   ]
  },
  {
   "cell_type": "code",
   "execution_count": 69,
   "id": "a6b497cc-43a7-431e-abbf-d770ffddb38a",
   "metadata": {
    "tags": []
   },
   "outputs": [
    {
     "data": {
      "text/html": [
       "<div>\n",
       "<style scoped>\n",
       "    .dataframe tbody tr th:only-of-type {\n",
       "        vertical-align: middle;\n",
       "    }\n",
       "\n",
       "    .dataframe tbody tr th {\n",
       "        vertical-align: top;\n",
       "    }\n",
       "\n",
       "    .dataframe thead th {\n",
       "        text-align: right;\n",
       "    }\n",
       "</style>\n",
       "<table border=\"1\" class=\"dataframe\">\n",
       "  <thead>\n",
       "    <tr style=\"text-align: right;\">\n",
       "      <th></th>\n",
       "      <th>count</th>\n",
       "      <th>streetname</th>\n",
       "      <th>area</th>\n",
       "      <th>okrug</th>\n",
       "    </tr>\n",
       "  </thead>\n",
       "  <tbody>\n",
       "    <tr>\n",
       "      <th>0</th>\n",
       "      <td>204</td>\n",
       "      <td>проспект Мира</td>\n",
       "      <td>Алексеевский район</td>\n",
       "      <td>СВАО</td>\n",
       "    </tr>\n",
       "    <tr>\n",
       "      <th>1</th>\n",
       "      <td>204</td>\n",
       "      <td>проспект Мира</td>\n",
       "      <td>Ярославский Район</td>\n",
       "      <td>СВАО</td>\n",
       "    </tr>\n",
       "    <tr>\n",
       "      <th>2</th>\n",
       "      <td>204</td>\n",
       "      <td>проспект Мира</td>\n",
       "      <td>Район Марьина роща</td>\n",
       "      <td>СВАО</td>\n",
       "    </tr>\n",
       "    <tr>\n",
       "      <th>3</th>\n",
       "      <td>204</td>\n",
       "      <td>проспект Мира</td>\n",
       "      <td>Останкинский район</td>\n",
       "      <td>СВАО</td>\n",
       "    </tr>\n",
       "    <tr>\n",
       "      <th>4</th>\n",
       "      <td>204</td>\n",
       "      <td>проспект Мира</td>\n",
       "      <td>Район Ростокино</td>\n",
       "      <td>СВАО</td>\n",
       "    </tr>\n",
       "    <tr>\n",
       "      <th>5</th>\n",
       "      <td>204</td>\n",
       "      <td>проспект Мира</td>\n",
       "      <td>Район Свиблово</td>\n",
       "      <td>СВАО</td>\n",
       "    </tr>\n",
       "    <tr>\n",
       "      <th>6</th>\n",
       "      <td>204</td>\n",
       "      <td>проспект Мира</td>\n",
       "      <td>Мещанский район</td>\n",
       "      <td>ЦАО</td>\n",
       "    </tr>\n",
       "    <tr>\n",
       "      <th>7</th>\n",
       "      <td>182</td>\n",
       "      <td>Профсоюзная улица</td>\n",
       "      <td>Академический район</td>\n",
       "      <td>ЮЗАО</td>\n",
       "    </tr>\n",
       "    <tr>\n",
       "      <th>8</th>\n",
       "      <td>182</td>\n",
       "      <td>Профсоюзная улица</td>\n",
       "      <td>Район Черемушки</td>\n",
       "      <td>ЮЗАО</td>\n",
       "    </tr>\n",
       "    <tr>\n",
       "      <th>9</th>\n",
       "      <td>182</td>\n",
       "      <td>Профсоюзная улица</td>\n",
       "      <td>Район Ясенево</td>\n",
       "      <td>ЮЗАО</td>\n",
       "    </tr>\n",
       "    <tr>\n",
       "      <th>10</th>\n",
       "      <td>182</td>\n",
       "      <td>Профсоюзная улица</td>\n",
       "      <td>Район Коньково</td>\n",
       "      <td>ЮЗАО</td>\n",
       "    </tr>\n",
       "    <tr>\n",
       "      <th>11</th>\n",
       "      <td>182</td>\n",
       "      <td>Профсоюзная улица</td>\n",
       "      <td>Обручевский район</td>\n",
       "      <td>ЮЗАО</td>\n",
       "    </tr>\n",
       "    <tr>\n",
       "      <th>12</th>\n",
       "      <td>182</td>\n",
       "      <td>Профсоюзная улица</td>\n",
       "      <td>Район Теплый Стан</td>\n",
       "      <td>ЮЗАО</td>\n",
       "    </tr>\n",
       "    <tr>\n",
       "      <th>13</th>\n",
       "      <td>172</td>\n",
       "      <td>Ленинградский проспект</td>\n",
       "      <td>Район Аэропорт</td>\n",
       "      <td>САО</td>\n",
       "    </tr>\n",
       "    <tr>\n",
       "      <th>14</th>\n",
       "      <td>172</td>\n",
       "      <td>Ленинградский проспект</td>\n",
       "      <td>Район Беговой</td>\n",
       "      <td>САО</td>\n",
       "    </tr>\n",
       "    <tr>\n",
       "      <th>15</th>\n",
       "      <td>172</td>\n",
       "      <td>Ленинградский проспект</td>\n",
       "      <td>Хорошевский район</td>\n",
       "      <td>САО</td>\n",
       "    </tr>\n",
       "    <tr>\n",
       "      <th>16</th>\n",
       "      <td>172</td>\n",
       "      <td>Ленинградский проспект</td>\n",
       "      <td>Район Сокол</td>\n",
       "      <td>САО</td>\n",
       "    </tr>\n",
       "    <tr>\n",
       "      <th>17</th>\n",
       "      <td>167</td>\n",
       "      <td>Пресненская набережная</td>\n",
       "      <td>Пресненский район</td>\n",
       "      <td>ЦАО</td>\n",
       "    </tr>\n",
       "    <tr>\n",
       "      <th>18</th>\n",
       "      <td>162</td>\n",
       "      <td>Варшавское шоссе</td>\n",
       "      <td>Район Чертаново Центральное</td>\n",
       "      <td>ЮАО</td>\n",
       "    </tr>\n",
       "    <tr>\n",
       "      <th>19</th>\n",
       "      <td>162</td>\n",
       "      <td>Варшавское шоссе</td>\n",
       "      <td>Район Чертаново Северное</td>\n",
       "      <td>ЮАО</td>\n",
       "    </tr>\n",
       "    <tr>\n",
       "      <th>20</th>\n",
       "      <td>162</td>\n",
       "      <td>Варшавское шоссе</td>\n",
       "      <td>Район Чертаново Южное</td>\n",
       "      <td>ЮАО</td>\n",
       "    </tr>\n",
       "    <tr>\n",
       "      <th>21</th>\n",
       "      <td>162</td>\n",
       "      <td>Варшавское шоссе</td>\n",
       "      <td>Донской район</td>\n",
       "      <td>ЮАО</td>\n",
       "    </tr>\n",
       "    <tr>\n",
       "      <th>22</th>\n",
       "      <td>162</td>\n",
       "      <td>Варшавское шоссе</td>\n",
       "      <td>Район Нагатино-Садовники</td>\n",
       "      <td>ЮАО</td>\n",
       "    </tr>\n",
       "    <tr>\n",
       "      <th>23</th>\n",
       "      <td>162</td>\n",
       "      <td>Варшавское шоссе</td>\n",
       "      <td>Нагорный район</td>\n",
       "      <td>ЮАО</td>\n",
       "    </tr>\n",
       "    <tr>\n",
       "      <th>24</th>\n",
       "      <td>162</td>\n",
       "      <td>Варшавское шоссе</td>\n",
       "      <td>Район Северное Бутово</td>\n",
       "      <td>ЮЗАО</td>\n",
       "    </tr>\n",
       "    <tr>\n",
       "      <th>25</th>\n",
       "      <td>162</td>\n",
       "      <td>Варшавское шоссе</td>\n",
       "      <td>Район Южное Бутово</td>\n",
       "      <td>ЮЗАО</td>\n",
       "    </tr>\n",
       "    <tr>\n",
       "      <th>26</th>\n",
       "      <td>148</td>\n",
       "      <td>Ленинский проспект</td>\n",
       "      <td>Район Проспект Вернадского</td>\n",
       "      <td>ЗАО</td>\n",
       "    </tr>\n",
       "    <tr>\n",
       "      <th>27</th>\n",
       "      <td>148</td>\n",
       "      <td>Ленинский проспект</td>\n",
       "      <td>Район Тропарево-Никулино</td>\n",
       "      <td>ЗАО</td>\n",
       "    </tr>\n",
       "    <tr>\n",
       "      <th>28</th>\n",
       "      <td>148</td>\n",
       "      <td>Ленинский проспект</td>\n",
       "      <td>Донской район</td>\n",
       "      <td>ЮАО</td>\n",
       "    </tr>\n",
       "    <tr>\n",
       "      <th>29</th>\n",
       "      <td>148</td>\n",
       "      <td>Ленинский проспект</td>\n",
       "      <td>Район Гагаринский</td>\n",
       "      <td>ЮЗАО</td>\n",
       "    </tr>\n",
       "    <tr>\n",
       "      <th>30</th>\n",
       "      <td>148</td>\n",
       "      <td>Ленинский проспект</td>\n",
       "      <td>Ломоносовский район</td>\n",
       "      <td>ЮЗАО</td>\n",
       "    </tr>\n",
       "    <tr>\n",
       "      <th>31</th>\n",
       "      <td>148</td>\n",
       "      <td>Ленинский проспект</td>\n",
       "      <td>Обручевский район</td>\n",
       "      <td>ЮЗАО</td>\n",
       "    </tr>\n",
       "    <tr>\n",
       "      <th>32</th>\n",
       "      <td>148</td>\n",
       "      <td>Ленинский проспект</td>\n",
       "      <td>Район Теплый Стан</td>\n",
       "      <td>ЮЗАО</td>\n",
       "    </tr>\n",
       "    <tr>\n",
       "      <th>33</th>\n",
       "      <td>148</td>\n",
       "      <td>Ленинский проспект</td>\n",
       "      <td>Район Якиманка</td>\n",
       "      <td>ЦАО</td>\n",
       "    </tr>\n",
       "    <tr>\n",
       "      <th>34</th>\n",
       "      <td>128</td>\n",
       "      <td>проспект Вернадского</td>\n",
       "      <td>Район Проспект Вернадского</td>\n",
       "      <td>ЗАО</td>\n",
       "    </tr>\n",
       "    <tr>\n",
       "      <th>35</th>\n",
       "      <td>128</td>\n",
       "      <td>проспект Вернадского</td>\n",
       "      <td>Район Раменки</td>\n",
       "      <td>ЗАО</td>\n",
       "    </tr>\n",
       "    <tr>\n",
       "      <th>36</th>\n",
       "      <td>128</td>\n",
       "      <td>проспект Вернадского</td>\n",
       "      <td>Район Тропарево-Никулино</td>\n",
       "      <td>ЗАО</td>\n",
       "    </tr>\n",
       "    <tr>\n",
       "      <th>37</th>\n",
       "      <td>128</td>\n",
       "      <td>проспект Вернадского</td>\n",
       "      <td>Район Гагаринский</td>\n",
       "      <td>ЮЗАО</td>\n",
       "    </tr>\n",
       "    <tr>\n",
       "      <th>38</th>\n",
       "      <td>128</td>\n",
       "      <td>проспект Вернадского</td>\n",
       "      <td>Ломоносовский район</td>\n",
       "      <td>ЮЗАО</td>\n",
       "    </tr>\n",
       "    <tr>\n",
       "      <th>39</th>\n",
       "      <td>114</td>\n",
       "      <td>Кутузовский проспект</td>\n",
       "      <td>Район Дорогомилово</td>\n",
       "      <td>ЗАО</td>\n",
       "    </tr>\n",
       "    <tr>\n",
       "      <th>40</th>\n",
       "      <td>114</td>\n",
       "      <td>Кутузовский проспект</td>\n",
       "      <td>Район Фили-Давыдково</td>\n",
       "      <td>ЗАО</td>\n",
       "    </tr>\n",
       "    <tr>\n",
       "      <th>41</th>\n",
       "      <td>111</td>\n",
       "      <td>Каширское шоссе</td>\n",
       "      <td>Район Москворечье-Сабурово</td>\n",
       "      <td>ЮАО</td>\n",
       "    </tr>\n",
       "    <tr>\n",
       "      <th>42</th>\n",
       "      <td>111</td>\n",
       "      <td>Каширское шоссе</td>\n",
       "      <td>Район Нагатино-Садовники</td>\n",
       "      <td>ЮАО</td>\n",
       "    </tr>\n",
       "    <tr>\n",
       "      <th>43</th>\n",
       "      <td>111</td>\n",
       "      <td>Каширское шоссе</td>\n",
       "      <td>Район Орехово-Борисово Южное</td>\n",
       "      <td>ЮАО</td>\n",
       "    </tr>\n",
       "    <tr>\n",
       "      <th>44</th>\n",
       "      <td>111</td>\n",
       "      <td>Каширское шоссе</td>\n",
       "      <td>Район Орехово-Борисово Северное</td>\n",
       "      <td>ЮАО</td>\n",
       "    </tr>\n",
       "    <tr>\n",
       "      <th>45</th>\n",
       "      <td>108</td>\n",
       "      <td>Кировоградская улица</td>\n",
       "      <td>Район Чертаново Центральное</td>\n",
       "      <td>ЮАО</td>\n",
       "    </tr>\n",
       "    <tr>\n",
       "      <th>46</th>\n",
       "      <td>108</td>\n",
       "      <td>Кировоградская улица</td>\n",
       "      <td>Район Чертаново Северное</td>\n",
       "      <td>ЮАО</td>\n",
       "    </tr>\n",
       "    <tr>\n",
       "      <th>47</th>\n",
       "      <td>108</td>\n",
       "      <td>Кировоградская улица</td>\n",
       "      <td>Район Чертаново Южное</td>\n",
       "      <td>ЮАО</td>\n",
       "    </tr>\n",
       "  </tbody>\n",
       "</table>\n",
       "</div>"
      ],
      "text/plain": [
       "    count              streetname                             area okrug\n",
       "0     204           проспект Мира               Алексеевский район  СВАО\n",
       "1     204           проспект Мира                Ярославский Район  СВАО\n",
       "2     204           проспект Мира               Район Марьина роща  СВАО\n",
       "3     204           проспект Мира               Останкинский район  СВАО\n",
       "4     204           проспект Мира                  Район Ростокино  СВАО\n",
       "5     204           проспект Мира                   Район Свиблово  СВАО\n",
       "6     204           проспект Мира                  Мещанский район   ЦАО\n",
       "7     182       Профсоюзная улица              Академический район  ЮЗАО\n",
       "8     182       Профсоюзная улица                  Район Черемушки  ЮЗАО\n",
       "9     182       Профсоюзная улица                    Район Ясенево  ЮЗАО\n",
       "10    182       Профсоюзная улица                   Район Коньково  ЮЗАО\n",
       "11    182       Профсоюзная улица                Обручевский район  ЮЗАО\n",
       "12    182       Профсоюзная улица                Район Теплый Стан  ЮЗАО\n",
       "13    172  Ленинградский проспект                   Район Аэропорт   САО\n",
       "14    172  Ленинградский проспект                    Район Беговой   САО\n",
       "15    172  Ленинградский проспект                Хорошевский район   САО\n",
       "16    172  Ленинградский проспект                      Район Сокол   САО\n",
       "17    167  Пресненская набережная                Пресненский район   ЦАО\n",
       "18    162        Варшавское шоссе      Район Чертаново Центральное   ЮАО\n",
       "19    162        Варшавское шоссе         Район Чертаново Северное   ЮАО\n",
       "20    162        Варшавское шоссе            Район Чертаново Южное   ЮАО\n",
       "21    162        Варшавское шоссе                    Донской район   ЮАО\n",
       "22    162        Варшавское шоссе         Район Нагатино-Садовники   ЮАО\n",
       "23    162        Варшавское шоссе                   Нагорный район   ЮАО\n",
       "24    162        Варшавское шоссе            Район Северное Бутово  ЮЗАО\n",
       "25    162        Варшавское шоссе               Район Южное Бутово  ЮЗАО\n",
       "26    148      Ленинский проспект       Район Проспект Вернадского   ЗАО\n",
       "27    148      Ленинский проспект         Район Тропарево-Никулино   ЗАО\n",
       "28    148      Ленинский проспект                    Донской район   ЮАО\n",
       "29    148      Ленинский проспект                Район Гагаринский  ЮЗАО\n",
       "30    148      Ленинский проспект              Ломоносовский район  ЮЗАО\n",
       "31    148      Ленинский проспект                Обручевский район  ЮЗАО\n",
       "32    148      Ленинский проспект                Район Теплый Стан  ЮЗАО\n",
       "33    148      Ленинский проспект                   Район Якиманка   ЦАО\n",
       "34    128    проспект Вернадского       Район Проспект Вернадского   ЗАО\n",
       "35    128    проспект Вернадского                    Район Раменки   ЗАО\n",
       "36    128    проспект Вернадского         Район Тропарево-Никулино   ЗАО\n",
       "37    128    проспект Вернадского                Район Гагаринский  ЮЗАО\n",
       "38    128    проспект Вернадского              Ломоносовский район  ЮЗАО\n",
       "39    114    Кутузовский проспект               Район Дорогомилово   ЗАО\n",
       "40    114    Кутузовский проспект             Район Фили-Давыдково   ЗАО\n",
       "41    111         Каширское шоссе       Район Москворечье-Сабурово   ЮАО\n",
       "42    111         Каширское шоссе         Район Нагатино-Садовники   ЮАО\n",
       "43    111         Каширское шоссе     Район Орехово-Борисово Южное   ЮАО\n",
       "44    111         Каширское шоссе  Район Орехово-Борисово Северное   ЮАО\n",
       "45    108    Кировоградская улица      Район Чертаново Центральное   ЮАО\n",
       "46    108    Кировоградская улица         Район Чертаново Северное   ЮАО\n",
       "47    108    Кировоградская улица            Район Чертаново Южное   ЮАО"
      ]
     },
     "execution_count": 69,
     "metadata": {},
     "output_type": "execute_result"
    }
   ],
   "source": [
    "top10streets_with_area = top10streets.merge(mos_streets[['streetname', 'area', 'okrug']],left_on='street_name',right_on='streetname',how='left')\n",
    "top10streets_with_area"
   ]
  },
  {
   "cell_type": "markdown",
   "id": "64f473a2-ca2f-4c9b-998a-a2bf8730259d",
   "metadata": {},
   "source": [
    "Посмотрим на список районов Москвы, через которые проходят эти улицы"
   ]
  },
  {
   "cell_type": "code",
   "execution_count": 70,
   "id": "bb7f53a7-9ba6-4aad-b689-c2771c0a7ec0",
   "metadata": {
    "tags": []
   },
   "outputs": [
    {
     "data": {
      "text/plain": [
       "Район Чертаново Центральное        2\n",
       "Район Гагаринский                  2\n",
       "Донской район                      2\n",
       "Район Нагатино-Садовники           2\n",
       "Район Проспект Вернадского         2\n",
       "Район Теплый Стан                  2\n",
       "Обручевский район                  2\n",
       "Район Чертаново Южное              2\n",
       "Район Тропарево-Никулино           2\n",
       "Ломоносовский район                2\n",
       "Район Чертаново Северное           2\n",
       "Район Якиманка                     1\n",
       "Район Раменки                      1\n",
       "Район Дорогомилово                 1\n",
       "Район Фили-Давыдково               1\n",
       "Район Южное Бутово                 1\n",
       "Район Северное Бутово              1\n",
       "Нагорный район                     1\n",
       "Район Москворечье-Сабурово         1\n",
       "Район Орехово-Борисово Южное       1\n",
       "Алексеевский район                 1\n",
       "Ярославский Район                  1\n",
       "Пресненский район                  1\n",
       "Район Сокол                        1\n",
       "Хорошевский район                  1\n",
       "Район Беговой                      1\n",
       "Район Аэропорт                     1\n",
       "Район Коньково                     1\n",
       "Район Ясенево                      1\n",
       "Район Черемушки                    1\n",
       "Академический район                1\n",
       "Мещанский район                    1\n",
       "Район Свиблово                     1\n",
       "Район Ростокино                    1\n",
       "Останкинский район                 1\n",
       "Район Марьина роща                 1\n",
       "Район Орехово-Борисово Северное    1\n",
       "Name: area, dtype: int64"
      ]
     },
     "execution_count": 70,
     "metadata": {},
     "output_type": "execute_result"
    }
   ],
   "source": [
    "top10streets_with_area['area'].value_counts()"
   ]
  },
  {
   "cell_type": "markdown",
   "id": "af7ec8b9-16b8-4331-ab0d-e65b43157ae9",
   "metadata": {},
   "source": [
    "Посмотрим на округа, через которые проходят эти улицы."
   ]
  },
  {
   "cell_type": "code",
   "execution_count": 71,
   "id": "9b52215a-94f4-4370-b809-e38e3dee07c6",
   "metadata": {},
   "outputs": [
    {
     "data": {
      "text/plain": [
       "ЮЗАО    14\n",
       "ЮАО     14\n",
       "ЗАО      7\n",
       "СВАО     6\n",
       "САО      4\n",
       "ЦАО      3\n",
       "Name: okrug, dtype: int64"
      ]
     },
     "execution_count": 71,
     "metadata": {},
     "output_type": "execute_result"
    }
   ],
   "source": [
    "top10streets_with_area['okrug'].value_counts()"
   ]
  },
  {
   "cell_type": "markdown",
   "id": "009c625e-543c-43fb-9e0c-4e047d27fb56",
   "metadata": {},
   "source": [
    "### Вывод"
   ]
  },
  {
   "cell_type": "markdown",
   "id": "4f083fac-0495-46e7-9c55-4e10b4d48dca",
   "metadata": {},
   "source": [
    "Больше всего объектов общественного питания находятся на улицах:\n",
    "\n",
    "* Проспект Мира, \n",
    "* Профсоюзная улица (это самая протяженная улица в \"спальном квартале\" Москвы, с большим количеством жилых домов, средств инфраструктуры)\n",
    "* Ленинградский проспект.\n",
    "\n",
    "Большинство улиц с большим количеством объектов общественного питания в основном проходят через районы округов ЮЗАО и ЮАО. \n",
    "\n",
    "В ЦАО только 3 улицы, а в районах ВАО таких улиц с большим количеством объектов общепита вообще не обнаружено в этих данных.  "
   ]
  },
  {
   "cell_type": "markdown",
   "id": "11bee1f2-7f82-4365-9b84-e6fe645f6695",
   "metadata": {},
   "source": [
    "## Число улиц с одним объектом общественного питания. Районы Москвы, в которых находятся эти улицы"
   ]
  },
  {
   "cell_type": "code",
   "execution_count": 72,
   "id": "e969a71f-b4a0-448e-b550-b7637b6692b5",
   "metadata": {},
   "outputs": [
    {
     "name": "stdout",
     "output_type": "stream",
     "text": [
      "Число улиц с одним объектом общественного питания:  574\n"
     ]
    }
   ],
   "source": [
    "streets_wth_one_ob = df.groupby('street_name')['id'].agg({'count'}).query('count==1').reset_index()\n",
    "print('Число улиц с одним объектом общественного питания: ', len(streets_wth_one_ob))"
   ]
  },
  {
   "cell_type": "code",
   "execution_count": 73,
   "id": "8482eb37-a34e-4bd3-a5b2-449c631ebce1",
   "metadata": {
    "tags": []
   },
   "outputs": [
    {
     "data": {
      "text/html": [
       "<div>\n",
       "<style scoped>\n",
       "    .dataframe tbody tr th:only-of-type {\n",
       "        vertical-align: middle;\n",
       "    }\n",
       "\n",
       "    .dataframe tbody tr th {\n",
       "        vertical-align: top;\n",
       "    }\n",
       "\n",
       "    .dataframe thead th {\n",
       "        text-align: right;\n",
       "    }\n",
       "</style>\n",
       "<table border=\"1\" class=\"dataframe\">\n",
       "  <thead>\n",
       "    <tr style=\"text-align: right;\">\n",
       "      <th></th>\n",
       "      <th>street_name</th>\n",
       "      <th>count</th>\n",
       "    </tr>\n",
       "  </thead>\n",
       "  <tbody>\n",
       "    <tr>\n",
       "      <th>0</th>\n",
       "      <td>1-й Балтийский переулок</td>\n",
       "      <td>1</td>\n",
       "    </tr>\n",
       "    <tr>\n",
       "      <th>1</th>\n",
       "      <td>1-й Басманный переулок</td>\n",
       "      <td>1</td>\n",
       "    </tr>\n",
       "    <tr>\n",
       "      <th>2</th>\n",
       "      <td>1-й Ботанический проезд</td>\n",
       "      <td>1</td>\n",
       "    </tr>\n",
       "    <tr>\n",
       "      <th>3</th>\n",
       "      <td>1-й Вешняковский проезд</td>\n",
       "      <td>1</td>\n",
       "    </tr>\n",
       "    <tr>\n",
       "      <th>4</th>\n",
       "      <td>1-й Голутвинский переулок</td>\n",
       "      <td>1</td>\n",
       "    </tr>\n",
       "  </tbody>\n",
       "</table>\n",
       "</div>"
      ],
      "text/plain": [
       "                 street_name  count\n",
       "0    1-й Балтийский переулок      1\n",
       "1     1-й Басманный переулок      1\n",
       "2    1-й Ботанический проезд      1\n",
       "3    1-й Вешняковский проезд      1\n",
       "4  1-й Голутвинский переулок      1"
      ]
     },
     "execution_count": 73,
     "metadata": {},
     "output_type": "execute_result"
    }
   ],
   "source": [
    "streets_wth_one_ob.head()"
   ]
  },
  {
   "cell_type": "markdown",
   "id": "cef8067f-7424-41e3-97a3-12c08fcd65d9",
   "metadata": {},
   "source": [
    "Объединим датафрейм с улицами, где 1 объект, с датафреймом с районами."
   ]
  },
  {
   "cell_type": "code",
   "execution_count": 75,
   "id": "d0c4e9ce-d9c9-481b-abb8-7862c3ea58ed",
   "metadata": {},
   "outputs": [],
   "source": [
    "streets_wth_one_ob_area = streets_wth_one_ob.merge(mos_streets[['streetname', 'area']], \n",
    "                                             left_on='street_name', right_on='streetname', how='left')"
   ]
  },
  {
   "cell_type": "code",
   "execution_count": 76,
   "id": "07be9e53-bc0b-4d79-847b-5703187429b9",
   "metadata": {
    "tags": []
   },
   "outputs": [
    {
     "data": {
      "text/html": [
       "<div>\n",
       "<style scoped>\n",
       "    .dataframe tbody tr th:only-of-type {\n",
       "        vertical-align: middle;\n",
       "    }\n",
       "\n",
       "    .dataframe tbody tr th {\n",
       "        vertical-align: top;\n",
       "    }\n",
       "\n",
       "    .dataframe thead th {\n",
       "        text-align: right;\n",
       "    }\n",
       "</style>\n",
       "<table border=\"1\" class=\"dataframe\">\n",
       "  <thead>\n",
       "    <tr style=\"text-align: right;\">\n",
       "      <th></th>\n",
       "      <th>street_name</th>\n",
       "      <th>count</th>\n",
       "      <th>streetname</th>\n",
       "      <th>area</th>\n",
       "    </tr>\n",
       "  </thead>\n",
       "  <tbody>\n",
       "    <tr>\n",
       "      <th>0</th>\n",
       "      <td>1-й Балтийский переулок</td>\n",
       "      <td>1</td>\n",
       "      <td>1-й Балтийский переулок</td>\n",
       "      <td>Район Аэропорт</td>\n",
       "    </tr>\n",
       "    <tr>\n",
       "      <th>1</th>\n",
       "      <td>1-й Басманный переулок</td>\n",
       "      <td>1</td>\n",
       "      <td>1-й Басманный переулок</td>\n",
       "      <td>Басманный район</td>\n",
       "    </tr>\n",
       "    <tr>\n",
       "      <th>2</th>\n",
       "      <td>1-й Басманный переулок</td>\n",
       "      <td>1</td>\n",
       "      <td>1-й Басманный переулок</td>\n",
       "      <td>Красносельский район</td>\n",
       "    </tr>\n",
       "    <tr>\n",
       "      <th>3</th>\n",
       "      <td>1-й Ботанический проезд</td>\n",
       "      <td>1</td>\n",
       "      <td>1-й Ботанический проезд</td>\n",
       "      <td>Район Свиблово</td>\n",
       "    </tr>\n",
       "    <tr>\n",
       "      <th>4</th>\n",
       "      <td>1-й Вешняковский проезд</td>\n",
       "      <td>1</td>\n",
       "      <td>1-й Вешняковский проезд</td>\n",
       "      <td>Рязанский район</td>\n",
       "    </tr>\n",
       "  </tbody>\n",
       "</table>\n",
       "</div>"
      ],
      "text/plain": [
       "               street_name  count               streetname  \\\n",
       "0  1-й Балтийский переулок      1  1-й Балтийский переулок   \n",
       "1   1-й Басманный переулок      1   1-й Басманный переулок   \n",
       "2   1-й Басманный переулок      1   1-й Басманный переулок   \n",
       "3  1-й Ботанический проезд      1  1-й Ботанический проезд   \n",
       "4  1-й Вешняковский проезд      1  1-й Вешняковский проезд   \n",
       "\n",
       "                   area  \n",
       "0        Район Аэропорт  \n",
       "1       Басманный район  \n",
       "2  Красносельский район  \n",
       "3        Район Свиблово  \n",
       "4       Рязанский район  "
      ]
     },
     "execution_count": 76,
     "metadata": {},
     "output_type": "execute_result"
    }
   ],
   "source": [
    "streets_wth_one_ob_area.head()"
   ]
  },
  {
   "cell_type": "markdown",
   "id": "e1f95731-2a2b-479f-9a8c-f1444a239e71",
   "metadata": {},
   "source": [
    "Проверим количество строк в получившемся датафрейме."
   ]
  },
  {
   "cell_type": "code",
   "execution_count": 77,
   "id": "5ac6de8e-a57a-4157-917a-3f83173132a0",
   "metadata": {},
   "outputs": [
    {
     "data": {
      "text/plain": [
       "620"
      ]
     },
     "execution_count": 77,
     "metadata": {},
     "output_type": "execute_result"
    }
   ],
   "source": [
    "len_orig = len(streets_wth_one_ob_area)\n",
    "len_orig"
   ]
  },
  {
   "cell_type": "code",
   "execution_count": 80,
   "id": "adb0f49e-9846-4504-a839-cb13e2fbc4da",
   "metadata": {},
   "outputs": [
    {
     "data": {
      "text/plain": [
       "'Количество дубликатов: 0'"
      ]
     },
     "execution_count": 80,
     "metadata": {},
     "output_type": "execute_result"
    }
   ],
   "source": [
    "f\"Количество дубликатов: {streets_wth_one_ob_area.duplicated().sum()}\""
   ]
  },
  {
   "cell_type": "markdown",
   "id": "97d231cd-275c-4958-bcaf-31fd7fde0459",
   "metadata": {},
   "source": [
    "Глянем, нет ли у нас пропусков."
   ]
  },
  {
   "cell_type": "code",
   "execution_count": 85,
   "id": "46966bf7-2719-4ad3-8675-67c5b60335fa",
   "metadata": {
    "tags": []
   },
   "outputs": [
    {
     "name": "stdout",
     "output_type": "stream",
     "text": [
      "Количество пропусков: \n",
      " street_name     0\n",
      "count           0\n",
      "streetname     53\n",
      "area           53\n",
      "dtype: int64\n"
     ]
    }
   ],
   "source": [
    "print(\"Количество пропусков: \\n\", streets_wth_one_ob_area.isna().sum())"
   ]
  },
  {
   "cell_type": "markdown",
   "id": "d8c3d93d-0e34-4d99-ac35-9903489aaf14",
   "metadata": {},
   "source": [
    "У нас 53 пропусков, то есть какие-то улицы из нашего датафрейма не сопоставились с улицами из датафрейма с районами. Посмотрим, что это за улицы."
   ]
  },
  {
   "cell_type": "code",
   "execution_count": 87,
   "id": "a53585cf-0b98-44ea-9675-7a4508d99d36",
   "metadata": {
    "tags": []
   },
   "outputs": [],
   "source": [
    "streets_not_matched = []\n",
    "for street in streets_wth_one_ob['street_name'].tolist():\n",
    "    if street not in mos_streets['streetname'].tolist():\n",
    "        streets_not_matched.append(street)"
   ]
  },
  {
   "cell_type": "code",
   "execution_count": 83,
   "id": "5a99def8-f2c1-4fc5-ab78-a0e65ed04c64",
   "metadata": {
    "tags": []
   },
   "outputs": [
    {
     "data": {
      "text/plain": [
       "['1-й Заречный переулок',\n",
       " '1-я Ватутинская улица',\n",
       " '104-й километр Московской Кольцевой Автодороги',\n",
       " '2-я Барышевская улица',\n",
       " '26-й километр Московской Кольцевой Автодороги',\n",
       " '3-я Подрезковская улица',\n",
       " '30-й километр Московской Кольцевой Автодороги',\n",
       " '31-й километр Московской Кольцевой Автодороги',\n",
       " '34-й километр Московской Кольцевой Автодороги',\n",
       " '38-й километр Московской Кольцевой Автодороги',\n",
       " '39-й километр Калужского шоссе',\n",
       " '42-й километр Московской Кольцевой Автодороги',\n",
       " '43-й километр МКАД',\n",
       " '44-й километр',\n",
       " '56-й километр Московской Кольцевой Автодороги',\n",
       " '65-й километр Московской Кольцевой Автодороги',\n",
       " '67-й километр Московской Кольцевой Автодороги',\n",
       " '78-й километр Московской Кольцевой Автодороги',\n",
       " '80-й километр Московской Кольцевой Автодороги',\n",
       " 'Армейская улица',\n",
       " 'Большая Октябрьская улица',\n",
       " 'Институтский проезд',\n",
       " 'Новобутовский проезд',\n",
       " 'Троицкий бульвар',\n",
       " 'Физическая улица',\n",
       " 'Фитаревская улица',\n",
       " 'Цветочная улица',\n",
       " 'квартал № 30',\n",
       " 'квартал № 80',\n",
       " 'микрорайон \"Эдальго\"',\n",
       " 'проектируемый проезд № 1980',\n",
       " 'территория ТСЖ \"Лесная поляна-2\"',\n",
       " 'улица 1-й километр Объездной Дороги',\n",
       " 'улица Высоцкого',\n",
       " 'улица Горького',\n",
       " 'улица Дмитрия Рябинкина',\n",
       " 'улица Евгения Родионова',\n",
       " 'улица Капотня',\n",
       " 'улица Корнея Чуковского',\n",
       " 'улица Льва Яшина',\n",
       " 'улица Недорубова',\n",
       " 'улица Никитина',\n",
       " 'улица Потаповская Роща',\n",
       " 'улица Рассудовское Лесничество',\n",
       " 'улица Слобода',\n",
       " 'улица Старые Кузьминки',\n",
       " 'улица Школа-интернат',\n",
       " 'улица Энгельса']"
      ]
     },
     "execution_count": 83,
     "metadata": {},
     "output_type": "execute_result"
    }
   ],
   "source": [
    "streets_not_matched"
   ]
  },
  {
   "cell_type": "code",
   "execution_count": 88,
   "id": "e9f17fdf-40f2-47fc-af44-0f835cdfb026",
   "metadata": {},
   "outputs": [
    {
     "data": {
      "text/plain": [
       "53"
      ]
     },
     "execution_count": 88,
     "metadata": {},
     "output_type": "execute_result"
    }
   ],
   "source": [
    "len(streets_not_matched)"
   ]
  },
  {
   "cell_type": "markdown",
   "id": "bddb7c60-c485-4486-8d45-714422fe68c6",
   "metadata": {},
   "source": [
    "Все сходится. 53 улиц не обнаружили себе дубликата в датафрейме с районами."
   ]
  },
  {
   "cell_type": "markdown",
   "id": "3951a454-c387-4123-b620-f71482e87fcc",
   "metadata": {},
   "source": [
    "Похоже, это большинство локаций из городов-поселений за МКАДом, из округов Новой Москвы и подобных. Проверим это."
   ]
  },
  {
   "cell_type": "markdown",
   "id": "4279a84c-2799-4dc7-b276-a2458d837400",
   "metadata": {},
   "source": [
    "Сделаем срез по имени улицы, проверяя, что оно содержится в списке @streets_not_matched."
   ]
  },
  {
   "cell_type": "code",
   "execution_count": 89,
   "id": "f9ae0176-25c7-4905-8ff1-6a1401d8460f",
   "metadata": {
    "tags": []
   },
   "outputs": [
    {
     "data": {
      "text/html": [
       "<div>\n",
       "<style scoped>\n",
       "    .dataframe tbody tr th:only-of-type {\n",
       "        vertical-align: middle;\n",
       "    }\n",
       "\n",
       "    .dataframe tbody tr th {\n",
       "        vertical-align: top;\n",
       "    }\n",
       "\n",
       "    .dataframe thead th {\n",
       "        text-align: right;\n",
       "    }\n",
       "</style>\n",
       "<table border=\"1\" class=\"dataframe\">\n",
       "  <thead>\n",
       "    <tr style=\"text-align: right;\">\n",
       "      <th></th>\n",
       "      <th>id</th>\n",
       "      <th>object_name</th>\n",
       "      <th>chain</th>\n",
       "      <th>object_type</th>\n",
       "      <th>address</th>\n",
       "      <th>number</th>\n",
       "      <th>chain_name</th>\n",
       "      <th>street_name</th>\n",
       "    </tr>\n",
       "  </thead>\n",
       "  <tbody>\n",
       "    <tr>\n",
       "      <th>1857</th>\n",
       "      <td>151292</td>\n",
       "      <td>Ред-Кафе</td>\n",
       "      <td>нет</td>\n",
       "      <td>кафе</td>\n",
       "      <td>город Москва, поселение Новофедоровское, дерев...</td>\n",
       "      <td>45</td>\n",
       "      <td>unknown</td>\n",
       "      <td>улица Рассудовское Лесничество</td>\n",
       "    </tr>\n",
       "    <tr>\n",
       "      <th>1860</th>\n",
       "      <td>77869</td>\n",
       "      <td>Кафе «Наш бараш»</td>\n",
       "      <td>нет</td>\n",
       "      <td>ресторан</td>\n",
       "      <td>город Москва, поселение Десеновское, Армейская...</td>\n",
       "      <td>60</td>\n",
       "      <td>unknown</td>\n",
       "      <td>Армейская улица</td>\n",
       "    </tr>\n",
       "    <tr>\n",
       "      <th>1864</th>\n",
       "      <td>77766</td>\n",
       "      <td>Обухов Паб</td>\n",
       "      <td>нет</td>\n",
       "      <td>ресторан</td>\n",
       "      <td>город Москва, поселение Московский, квартал № ...</td>\n",
       "      <td>80</td>\n",
       "      <td>unknown</td>\n",
       "      <td>квартал № 80</td>\n",
       "    </tr>\n",
       "    <tr>\n",
       "      <th>1866</th>\n",
       "      <td>79996</td>\n",
       "      <td>Подмосковные вечера</td>\n",
       "      <td>нет</td>\n",
       "      <td>ресторан</td>\n",
       "      <td>город Москва, город Щербинка, 2-я Барышевская ...</td>\n",
       "      <td>72</td>\n",
       "      <td>unknown</td>\n",
       "      <td>2-я Барышевская улица</td>\n",
       "    </tr>\n",
       "    <tr>\n",
       "      <th>1896</th>\n",
       "      <td>137317</td>\n",
       "      <td>ООО Кобинат питания КОНКОРД</td>\n",
       "      <td>нет</td>\n",
       "      <td>столовая</td>\n",
       "      <td>город Москва, поселение Кленовское, село Клено...</td>\n",
       "      <td>100</td>\n",
       "      <td>unknown</td>\n",
       "      <td>улица 1-й километр Объездной Дороги</td>\n",
       "    </tr>\n",
       "    <tr>\n",
       "      <th>2997</th>\n",
       "      <td>83284</td>\n",
       "      <td>Кафе «Восточная сказка»</td>\n",
       "      <td>нет</td>\n",
       "      <td>кафе</td>\n",
       "      <td>город Москва, 3-я Подрезковская улица, дом 14,...</td>\n",
       "      <td>60</td>\n",
       "      <td>unknown</td>\n",
       "      <td>3-я Подрезковская улица</td>\n",
       "    </tr>\n",
       "    <tr>\n",
       "      <th>3713</th>\n",
       "      <td>23514</td>\n",
       "      <td>ОСИПОВ А.С. (прод.база «Очаково»)</td>\n",
       "      <td>нет</td>\n",
       "      <td>столовая</td>\n",
       "      <td>город Москва, проектируемый проезд № 1980, дом 4</td>\n",
       "      <td>60</td>\n",
       "      <td>unknown</td>\n",
       "      <td>проектируемый проезд № 1980</td>\n",
       "    </tr>\n",
       "    <tr>\n",
       "      <th>5554</th>\n",
       "      <td>23249</td>\n",
       "      <td>Метро К&amp;К</td>\n",
       "      <td>да</td>\n",
       "      <td>кафе</td>\n",
       "      <td>город Москва, 104-й километр Московской Кольце...</td>\n",
       "      <td>80</td>\n",
       "      <td>unknown</td>\n",
       "      <td>104-й километр Московской Кольцевой Автодороги</td>\n",
       "    </tr>\n",
       "    <tr>\n",
       "      <th>5908</th>\n",
       "      <td>28327</td>\n",
       "      <td>Саят Нова</td>\n",
       "      <td>нет</td>\n",
       "      <td>ресторан</td>\n",
       "      <td>город Москва, улица Капотня, дом 34</td>\n",
       "      <td>220</td>\n",
       "      <td>unknown</td>\n",
       "      <td>улица Капотня</td>\n",
       "    </tr>\n",
       "    <tr>\n",
       "      <th>6021</th>\n",
       "      <td>23969</td>\n",
       "      <td>АРТИКО</td>\n",
       "      <td>нет</td>\n",
       "      <td>кафе</td>\n",
       "      <td>город Москва, 38-й километр Московской Кольцев...</td>\n",
       "      <td>94</td>\n",
       "      <td>unknown</td>\n",
       "      <td>38-й километр Московской Кольцевой Автодороги</td>\n",
       "    </tr>\n",
       "    <tr>\n",
       "      <th>6119</th>\n",
       "      <td>25516</td>\n",
       "      <td>Ресторан «БОНИ МАРИЯ»</td>\n",
       "      <td>нет</td>\n",
       "      <td>ресторан</td>\n",
       "      <td>город Москва, 42-й километр Московской Кольцев...</td>\n",
       "      <td>170</td>\n",
       "      <td>unknown</td>\n",
       "      <td>42-й километр Московской Кольцевой Автодороги</td>\n",
       "    </tr>\n",
       "    <tr>\n",
       "      <th>6239</th>\n",
       "      <td>98910</td>\n",
       "      <td>Subway</td>\n",
       "      <td>да</td>\n",
       "      <td>предприятие быстрого обслуживания</td>\n",
       "      <td>город Москва, Новобутовский проезд, владение 9...</td>\n",
       "      <td>12</td>\n",
       "      <td>Subway</td>\n",
       "      <td>Новобутовский проезд</td>\n",
       "    </tr>\n",
       "    <tr>\n",
       "      <th>6606</th>\n",
       "      <td>19912</td>\n",
       "      <td>Сахара</td>\n",
       "      <td>нет</td>\n",
       "      <td>кафе</td>\n",
       "      <td>город Москва, 56-й километр Московской Кольцев...</td>\n",
       "      <td>1</td>\n",
       "      <td>unknown</td>\n",
       "      <td>56-й километр Московской Кольцевой Автодороги</td>\n",
       "    </tr>\n",
       "    <tr>\n",
       "      <th>6783</th>\n",
       "      <td>143079</td>\n",
       "      <td>Wild Bean Cafe</td>\n",
       "      <td>нет</td>\n",
       "      <td>кафе</td>\n",
       "      <td>город Москва, 65-й километр Московской Кольцев...</td>\n",
       "      <td>10</td>\n",
       "      <td>unknown</td>\n",
       "      <td>65-й километр Московской Кольцевой Автодороги</td>\n",
       "    </tr>\n",
       "    <tr>\n",
       "      <th>6785</th>\n",
       "      <td>144799</td>\n",
       "      <td>КАФЕ НА АЗС</td>\n",
       "      <td>нет</td>\n",
       "      <td>закусочная</td>\n",
       "      <td>город Москва, 67-й километр Московской Кольцев...</td>\n",
       "      <td>2</td>\n",
       "      <td>unknown</td>\n",
       "      <td>67-й километр Московской Кольцевой Автодороги</td>\n",
       "    </tr>\n",
       "    <tr>\n",
       "      <th>7437</th>\n",
       "      <td>74990</td>\n",
       "      <td>Кафе «Сахара»</td>\n",
       "      <td>нет</td>\n",
       "      <td>кафе</td>\n",
       "      <td>город Москва, 26-й километр Московской Кольцев...</td>\n",
       "      <td>50</td>\n",
       "      <td>unknown</td>\n",
       "      <td>26-й километр Московской Кольцевой Автодороги</td>\n",
       "    </tr>\n",
       "    <tr>\n",
       "      <th>8025</th>\n",
       "      <td>28195</td>\n",
       "      <td>БИЗНЕС ЦЕНТР ТАГАНСКИЙ</td>\n",
       "      <td>нет</td>\n",
       "      <td>кафе</td>\n",
       "      <td>город Москва, улица Высоцкого, дом 4</td>\n",
       "      <td>80</td>\n",
       "      <td>unknown</td>\n",
       "      <td>улица Высоцкого</td>\n",
       "    </tr>\n",
       "    <tr>\n",
       "      <th>8511</th>\n",
       "      <td>79701</td>\n",
       "      <td>Ресторан «Заречье»</td>\n",
       "      <td>нет</td>\n",
       "      <td>ресторан</td>\n",
       "      <td>город Москва, город Троицк, 1-й Заречный переу...</td>\n",
       "      <td>47</td>\n",
       "      <td>unknown</td>\n",
       "      <td>1-й Заречный переулок</td>\n",
       "    </tr>\n",
       "    <tr>\n",
       "      <th>8517</th>\n",
       "      <td>84259</td>\n",
       "      <td>Кулинария</td>\n",
       "      <td>нет</td>\n",
       "      <td>буфет</td>\n",
       "      <td>город Москва, поселение Кокошкино, дачный посе...</td>\n",
       "      <td>5</td>\n",
       "      <td>unknown</td>\n",
       "      <td>улица Горького</td>\n",
       "    </tr>\n",
       "    <tr>\n",
       "      <th>8529</th>\n",
       "      <td>148311</td>\n",
       "      <td>Шале-кафе</td>\n",
       "      <td>нет</td>\n",
       "      <td>кафе</td>\n",
       "      <td>город Москва, поселение Сосенское, поселок Ком...</td>\n",
       "      <td>25</td>\n",
       "      <td>unknown</td>\n",
       "      <td>Фитаревская улица</td>\n",
       "    </tr>\n",
       "    <tr>\n",
       "      <th>8532</th>\n",
       "      <td>79931</td>\n",
       "      <td>Гершензон</td>\n",
       "      <td>нет</td>\n",
       "      <td>кафе</td>\n",
       "      <td>город Москва, поселение Внуковское, поселок ДС...</td>\n",
       "      <td>20</td>\n",
       "      <td>unknown</td>\n",
       "      <td>улица Энгельса</td>\n",
       "    </tr>\n",
       "    <tr>\n",
       "      <th>8539</th>\n",
       "      <td>150308</td>\n",
       "      <td>Пункт общественного питания без зала обслужива...</td>\n",
       "      <td>нет</td>\n",
       "      <td>предприятие быстрого обслуживания</td>\n",
       "      <td>город Москва, город Троицк, Большая Октябрьска...</td>\n",
       "      <td>0</td>\n",
       "      <td>unknown</td>\n",
       "      <td>Большая Октябрьская улица</td>\n",
       "    </tr>\n",
       "    <tr>\n",
       "      <th>8554</th>\n",
       "      <td>145289</td>\n",
       "      <td>Кафе Трасса</td>\n",
       "      <td>нет</td>\n",
       "      <td>кафе</td>\n",
       "      <td>город Москва, поселение Марушкинское, Киевское...</td>\n",
       "      <td>0</td>\n",
       "      <td>unknown</td>\n",
       "      <td>37-й километр</td>\n",
       "    </tr>\n",
       "    <tr>\n",
       "      <th>8559</th>\n",
       "      <td>115170</td>\n",
       "      <td>Столовая при НОУ Школа «Ника»</td>\n",
       "      <td>нет</td>\n",
       "      <td>столовая</td>\n",
       "      <td>город Москва, поселение Краснопахорское, село ...</td>\n",
       "      <td>200</td>\n",
       "      <td>unknown</td>\n",
       "      <td>улица Школа-интернат</td>\n",
       "    </tr>\n",
       "    <tr>\n",
       "      <th>8579</th>\n",
       "      <td>79870</td>\n",
       "      <td>СТОЛОВАЯ</td>\n",
       "      <td>нет</td>\n",
       "      <td>столовая</td>\n",
       "      <td>город Москва, поселение \"Мосрентген\", поселок ...</td>\n",
       "      <td>40</td>\n",
       "      <td>unknown</td>\n",
       "      <td>Институтский проезд</td>\n",
       "    </tr>\n",
       "    <tr>\n",
       "      <th>8598</th>\n",
       "      <td>77992</td>\n",
       "      <td>Пицца 24</td>\n",
       "      <td>нет</td>\n",
       "      <td>предприятие быстрого обслуживания</td>\n",
       "      <td>город Москва, поселение Краснопахорское, Калуж...</td>\n",
       "      <td>12</td>\n",
       "      <td>unknown</td>\n",
       "      <td>43-й километр</td>\n",
       "    </tr>\n",
       "    <tr>\n",
       "      <th>8601</th>\n",
       "      <td>156784</td>\n",
       "      <td>Кухня «Сытый слон». Доставка горячих обедов</td>\n",
       "      <td>нет</td>\n",
       "      <td>предприятие быстрого обслуживания</td>\n",
       "      <td>город Москва, город Троицк, Троицкий бульвар, ...</td>\n",
       "      <td>0</td>\n",
       "      <td>unknown</td>\n",
       "      <td>Троицкий бульвар</td>\n",
       "    </tr>\n",
       "    <tr>\n",
       "      <th>8628</th>\n",
       "      <td>149854</td>\n",
       "      <td>Моцарт</td>\n",
       "      <td>нет</td>\n",
       "      <td>кафе</td>\n",
       "      <td>город Москва, город Щербинка, Варшавское шоссе...</td>\n",
       "      <td>12</td>\n",
       "      <td>unknown</td>\n",
       "      <td>27-й километр</td>\n",
       "    </tr>\n",
       "    <tr>\n",
       "      <th>8646</th>\n",
       "      <td>147984</td>\n",
       "      <td>Юкон</td>\n",
       "      <td>нет</td>\n",
       "      <td>кафе</td>\n",
       "      <td>город Москва, поселение Сосенское, деревня Ник...</td>\n",
       "      <td>25</td>\n",
       "      <td>unknown</td>\n",
       "      <td>территория ТСЖ \"Лесная поляна-2\"</td>\n",
       "    </tr>\n",
       "    <tr>\n",
       "      <th>8651</th>\n",
       "      <td>120857</td>\n",
       "      <td>Кафе на АЗС</td>\n",
       "      <td>нет</td>\n",
       "      <td>кафетерий</td>\n",
       "      <td>город Москва, город Троицк, 39-й километр Калу...</td>\n",
       "      <td>18</td>\n",
       "      <td>unknown</td>\n",
       "      <td>39-й километр Калужского шоссе</td>\n",
       "    </tr>\n",
       "    <tr>\n",
       "      <th>8652</th>\n",
       "      <td>110542</td>\n",
       "      <td>Кафе Зельгрос</td>\n",
       "      <td>нет</td>\n",
       "      <td>буфет</td>\n",
       "      <td>город Москва, поселение Внуковское, Боровское ...</td>\n",
       "      <td>0</td>\n",
       "      <td>unknown</td>\n",
       "      <td>29-й километр</td>\n",
       "    </tr>\n",
       "    <tr>\n",
       "      <th>8658</th>\n",
       "      <td>151190</td>\n",
       "      <td>КАФЕ СОЮЗ БАР</td>\n",
       "      <td>нет</td>\n",
       "      <td>кафе</td>\n",
       "      <td>город Москва, поселение Рязановское, деревня М...</td>\n",
       "      <td>40</td>\n",
       "      <td>unknown</td>\n",
       "      <td>улица Слобода</td>\n",
       "    </tr>\n",
       "    <tr>\n",
       "      <th>8955</th>\n",
       "      <td>158874</td>\n",
       "      <td>Карлсон и Ко</td>\n",
       "      <td>нет</td>\n",
       "      <td>кафе</td>\n",
       "      <td>город Москва, поселение Внуковское, улица Корн...</td>\n",
       "      <td>7</td>\n",
       "      <td>unknown</td>\n",
       "      <td>улица Корнея Чуковского</td>\n",
       "    </tr>\n",
       "    <tr>\n",
       "      <th>9444</th>\n",
       "      <td>154945</td>\n",
       "      <td>ГАЗПРОМНЕФТЬ</td>\n",
       "      <td>нет</td>\n",
       "      <td>предприятие быстрого обслуживания</td>\n",
       "      <td>город Москва, поселение \"Мосрентген\", 43-й кил...</td>\n",
       "      <td>3</td>\n",
       "      <td>unknown</td>\n",
       "      <td>43-й километр МКАД</td>\n",
       "    </tr>\n",
       "    <tr>\n",
       "      <th>9966</th>\n",
       "      <td>171174</td>\n",
       "      <td>Шаурма</td>\n",
       "      <td>нет</td>\n",
       "      <td>закусочная</td>\n",
       "      <td>город Москва, 30-й километр Московской Кольцев...</td>\n",
       "      <td>12</td>\n",
       "      <td>unknown</td>\n",
       "      <td>30-й километр Московской Кольцевой Автодороги</td>\n",
       "    </tr>\n",
       "    <tr>\n",
       "      <th>9967</th>\n",
       "      <td>171176</td>\n",
       "      <td>Шаурма 31</td>\n",
       "      <td>нет</td>\n",
       "      <td>закусочная</td>\n",
       "      <td>город Москва, 31-й километр Московской Кольцев...</td>\n",
       "      <td>0</td>\n",
       "      <td>unknown</td>\n",
       "      <td>31-й километр Московской Кольцевой Автодороги</td>\n",
       "    </tr>\n",
       "    <tr>\n",
       "      <th>9997</th>\n",
       "      <td>171540</td>\n",
       "      <td>Кафе</td>\n",
       "      <td>нет</td>\n",
       "      <td>кафе</td>\n",
       "      <td>город Москва, 78-й километр Московской Кольцев...</td>\n",
       "      <td>15</td>\n",
       "      <td>unknown</td>\n",
       "      <td>78-й километр Московской Кольцевой Автодороги</td>\n",
       "    </tr>\n",
       "    <tr>\n",
       "      <th>10161</th>\n",
       "      <td>172815</td>\n",
       "      <td>Кафе «Pizza express 24»</td>\n",
       "      <td>нет</td>\n",
       "      <td>кафе</td>\n",
       "      <td>город Москва, город Троицк, Физическая улица, ...</td>\n",
       "      <td>12</td>\n",
       "      <td>unknown</td>\n",
       "      <td>Физическая улица</td>\n",
       "    </tr>\n",
       "    <tr>\n",
       "      <th>10170</th>\n",
       "      <td>23812</td>\n",
       "      <td>Ресторан «Сахара»</td>\n",
       "      <td>нет</td>\n",
       "      <td>ресторан</td>\n",
       "      <td>город Москва, 34-й километр Московской Кольцев...</td>\n",
       "      <td>50</td>\n",
       "      <td>unknown</td>\n",
       "      <td>34-й километр Московской Кольцевой Автодороги</td>\n",
       "    </tr>\n",
       "    <tr>\n",
       "      <th>10599</th>\n",
       "      <td>183874</td>\n",
       "      <td>Японоитальяна</td>\n",
       "      <td>нет</td>\n",
       "      <td>закусочная</td>\n",
       "      <td>город Москва, улица Недорубова, дом 5</td>\n",
       "      <td>4</td>\n",
       "      <td>unknown</td>\n",
       "      <td>улица Недорубова</td>\n",
       "    </tr>\n",
       "    <tr>\n",
       "      <th>10654</th>\n",
       "      <td>188426</td>\n",
       "      <td>ВкусноХаус</td>\n",
       "      <td>нет</td>\n",
       "      <td>магазин (отдел кулинарии)</td>\n",
       "      <td>город Москва, город Московский, улица Никитина...</td>\n",
       "      <td>0</td>\n",
       "      <td>unknown</td>\n",
       "      <td>улица Никитина</td>\n",
       "    </tr>\n",
       "    <tr>\n",
       "      <th>11821</th>\n",
       "      <td>177651</td>\n",
       "      <td>Кафе при КСК «Пегас»</td>\n",
       "      <td>нет</td>\n",
       "      <td>кафе</td>\n",
       "      <td>город Москва, поселение Краснопахорское, дерев...</td>\n",
       "      <td>22</td>\n",
       "      <td>unknown</td>\n",
       "      <td>Цветочная улица</td>\n",
       "    </tr>\n",
       "    <tr>\n",
       "      <th>12182</th>\n",
       "      <td>192097</td>\n",
       "      <td>Ветерок</td>\n",
       "      <td>нет</td>\n",
       "      <td>кафе</td>\n",
       "      <td>город Москва, улица Старые Кузьминки, дом 10</td>\n",
       "      <td>40</td>\n",
       "      <td>unknown</td>\n",
       "      <td>улица Старые Кузьминки</td>\n",
       "    </tr>\n",
       "    <tr>\n",
       "      <th>12506</th>\n",
       "      <td>201925</td>\n",
       "      <td>Familly Film</td>\n",
       "      <td>нет</td>\n",
       "      <td>кафе</td>\n",
       "      <td>город Москва, поселение Сосенское, поселок Ком...</td>\n",
       "      <td>15</td>\n",
       "      <td>unknown</td>\n",
       "      <td>улица Потаповская Роща</td>\n",
       "    </tr>\n",
       "    <tr>\n",
       "      <th>13256</th>\n",
       "      <td>198788</td>\n",
       "      <td>КАФЕ-БИСТРО СОФИМАРСО</td>\n",
       "      <td>нет</td>\n",
       "      <td>кафе</td>\n",
       "      <td>город Москва, поселение \"Мосрентген\", Киевское...</td>\n",
       "      <td>30</td>\n",
       "      <td>unknown</td>\n",
       "      <td>21-й километр</td>\n",
       "    </tr>\n",
       "    <tr>\n",
       "      <th>13260</th>\n",
       "      <td>195048</td>\n",
       "      <td>Кафе «Yummy»</td>\n",
       "      <td>нет</td>\n",
       "      <td>кафе</td>\n",
       "      <td>город Москва, поселение Десеновское, 1-я Ватут...</td>\n",
       "      <td>45</td>\n",
       "      <td>unknown</td>\n",
       "      <td>1-я Ватутинская улица</td>\n",
       "    </tr>\n",
       "    <tr>\n",
       "      <th>13283</th>\n",
       "      <td>197170</td>\n",
       "      <td>Пицца Суши</td>\n",
       "      <td>нет</td>\n",
       "      <td>кафе</td>\n",
       "      <td>город Москва, поселение Сосенское, поселок Ком...</td>\n",
       "      <td>8</td>\n",
       "      <td>unknown</td>\n",
       "      <td>микрорайон \"Эдальго\"</td>\n",
       "    </tr>\n",
       "    <tr>\n",
       "      <th>13308</th>\n",
       "      <td>194926</td>\n",
       "      <td>Кулинарный Рай</td>\n",
       "      <td>нет</td>\n",
       "      <td>кафе</td>\n",
       "      <td>город Москва, поселение Внуковское, квартал № ...</td>\n",
       "      <td>70</td>\n",
       "      <td>unknown</td>\n",
       "      <td>квартал № 30</td>\n",
       "    </tr>\n",
       "    <tr>\n",
       "      <th>13747</th>\n",
       "      <td>213415</td>\n",
       "      <td>Тандыр</td>\n",
       "      <td>нет</td>\n",
       "      <td>магазин (отдел кулинарии)</td>\n",
       "      <td>город Москва, улица Льва Яшина, дом 5, корпус 1</td>\n",
       "      <td>0</td>\n",
       "      <td>unknown</td>\n",
       "      <td>улица Льва Яшина</td>\n",
       "    </tr>\n",
       "    <tr>\n",
       "      <th>14462</th>\n",
       "      <td>216767</td>\n",
       "      <td>КАФЕ</td>\n",
       "      <td>нет</td>\n",
       "      <td>кафе</td>\n",
       "      <td>город Москва, 80-й километр Московской Кольцев...</td>\n",
       "      <td>20</td>\n",
       "      <td>unknown</td>\n",
       "      <td>80-й километр Московской Кольцевой Автодороги</td>\n",
       "    </tr>\n",
       "    <tr>\n",
       "      <th>14807</th>\n",
       "      <td>214436</td>\n",
       "      <td>КАФЕ</td>\n",
       "      <td>нет</td>\n",
       "      <td>буфет</td>\n",
       "      <td>город Москва, поселение \"Мосрентген\", МКАД, 44...</td>\n",
       "      <td>36</td>\n",
       "      <td>unknown</td>\n",
       "      <td>44-й километр</td>\n",
       "    </tr>\n",
       "    <tr>\n",
       "      <th>14974</th>\n",
       "      <td>213930</td>\n",
       "      <td>Горячий хлеб</td>\n",
       "      <td>нет</td>\n",
       "      <td>предприятие быстрого обслуживания</td>\n",
       "      <td>город Москва, поселение Десеновское, улица Дми...</td>\n",
       "      <td>0</td>\n",
       "      <td>unknown</td>\n",
       "      <td>улица Дмитрия Рябинкина</td>\n",
       "    </tr>\n",
       "    <tr>\n",
       "      <th>15017</th>\n",
       "      <td>205588</td>\n",
       "      <td>Кофейня</td>\n",
       "      <td>нет</td>\n",
       "      <td>кафетерий</td>\n",
       "      <td>город Москва, поселение Щаповское, улица Евген...</td>\n",
       "      <td>16</td>\n",
       "      <td>unknown</td>\n",
       "      <td>улица Евгения Родионова</td>\n",
       "    </tr>\n",
       "  </tbody>\n",
       "</table>\n",
       "</div>"
      ],
      "text/plain": [
       "           id                                        object_name chain  \\\n",
       "1857   151292                                           Ред-Кафе   нет   \n",
       "1860    77869                                   Кафе «Наш бараш»   нет   \n",
       "1864    77766                                         Обухов Паб   нет   \n",
       "1866    79996                                Подмосковные вечера   нет   \n",
       "1896   137317                        ООО Кобинат питания КОНКОРД   нет   \n",
       "2997    83284                            Кафе «Восточная сказка»   нет   \n",
       "3713    23514                  ОСИПОВ А.С. (прод.база «Очаково»)   нет   \n",
       "5554    23249                                          Метро К&К    да   \n",
       "5908    28327                                          Саят Нова   нет   \n",
       "6021    23969                                             АРТИКО   нет   \n",
       "6119    25516                              Ресторан «БОНИ МАРИЯ»   нет   \n",
       "6239    98910                                             Subway    да   \n",
       "6606    19912                                             Сахара   нет   \n",
       "6783   143079                                     Wild Bean Cafe   нет   \n",
       "6785   144799                                        КАФЕ НА АЗС   нет   \n",
       "7437    74990                                      Кафе «Сахара»   нет   \n",
       "8025    28195                             БИЗНЕС ЦЕНТР ТАГАНСКИЙ   нет   \n",
       "8511    79701                                 Ресторан «Заречье»   нет   \n",
       "8517    84259                                          Кулинария   нет   \n",
       "8529   148311                                          Шале-кафе   нет   \n",
       "8532    79931                                          Гершензон   нет   \n",
       "8539   150308  Пункт общественного питания без зала обслужива...   нет   \n",
       "8554   145289                                        Кафе Трасса   нет   \n",
       "8559   115170                      Столовая при НОУ Школа «Ника»   нет   \n",
       "8579    79870                                           СТОЛОВАЯ   нет   \n",
       "8598    77992                                           Пицца 24   нет   \n",
       "8601   156784        Кухня «Сытый слон». Доставка горячих обедов   нет   \n",
       "8628   149854                                             Моцарт   нет   \n",
       "8646   147984                                               Юкон   нет   \n",
       "8651   120857                                        Кафе на АЗС   нет   \n",
       "8652   110542                                      Кафе Зельгрос   нет   \n",
       "8658   151190                                      КАФЕ СОЮЗ БАР   нет   \n",
       "8955   158874                                       Карлсон и Ко   нет   \n",
       "9444   154945                                       ГАЗПРОМНЕФТЬ   нет   \n",
       "9966   171174                                             Шаурма   нет   \n",
       "9967   171176                                          Шаурма 31   нет   \n",
       "9997   171540                                               Кафе   нет   \n",
       "10161  172815                            Кафе «Pizza express 24»   нет   \n",
       "10170   23812                                  Ресторан «Сахара»   нет   \n",
       "10599  183874                                      Японоитальяна   нет   \n",
       "10654  188426                                         ВкусноХаус   нет   \n",
       "11821  177651                               Кафе при КСК «Пегас»   нет   \n",
       "12182  192097                                            Ветерок   нет   \n",
       "12506  201925                                       Familly Film   нет   \n",
       "13256  198788                              КАФЕ-БИСТРО СОФИМАРСО   нет   \n",
       "13260  195048                                       Кафе «Yummy»   нет   \n",
       "13283  197170                                         Пицца Суши   нет   \n",
       "13308  194926                                     Кулинарный Рай   нет   \n",
       "13747  213415                                             Тандыр   нет   \n",
       "14462  216767                                               КАФЕ   нет   \n",
       "14807  214436                                               КАФЕ   нет   \n",
       "14974  213930                                       Горячий хлеб   нет   \n",
       "15017  205588                                            Кофейня   нет   \n",
       "\n",
       "                             object_type  \\\n",
       "1857                                кафе   \n",
       "1860                            ресторан   \n",
       "1864                            ресторан   \n",
       "1866                            ресторан   \n",
       "1896                            столовая   \n",
       "2997                                кафе   \n",
       "3713                            столовая   \n",
       "5554                                кафе   \n",
       "5908                            ресторан   \n",
       "6021                                кафе   \n",
       "6119                            ресторан   \n",
       "6239   предприятие быстрого обслуживания   \n",
       "6606                                кафе   \n",
       "6783                                кафе   \n",
       "6785                          закусочная   \n",
       "7437                                кафе   \n",
       "8025                                кафе   \n",
       "8511                            ресторан   \n",
       "8517                               буфет   \n",
       "8529                                кафе   \n",
       "8532                                кафе   \n",
       "8539   предприятие быстрого обслуживания   \n",
       "8554                                кафе   \n",
       "8559                            столовая   \n",
       "8579                            столовая   \n",
       "8598   предприятие быстрого обслуживания   \n",
       "8601   предприятие быстрого обслуживания   \n",
       "8628                                кафе   \n",
       "8646                                кафе   \n",
       "8651                           кафетерий   \n",
       "8652                               буфет   \n",
       "8658                                кафе   \n",
       "8955                                кафе   \n",
       "9444   предприятие быстрого обслуживания   \n",
       "9966                          закусочная   \n",
       "9967                          закусочная   \n",
       "9997                                кафе   \n",
       "10161                               кафе   \n",
       "10170                           ресторан   \n",
       "10599                         закусочная   \n",
       "10654          магазин (отдел кулинарии)   \n",
       "11821                               кафе   \n",
       "12182                               кафе   \n",
       "12506                               кафе   \n",
       "13256                               кафе   \n",
       "13260                               кафе   \n",
       "13283                               кафе   \n",
       "13308                               кафе   \n",
       "13747          магазин (отдел кулинарии)   \n",
       "14462                               кафе   \n",
       "14807                              буфет   \n",
       "14974  предприятие быстрого обслуживания   \n",
       "15017                          кафетерий   \n",
       "\n",
       "                                                 address  number chain_name  \\\n",
       "1857   город Москва, поселение Новофедоровское, дерев...      45    unknown   \n",
       "1860   город Москва, поселение Десеновское, Армейская...      60    unknown   \n",
       "1864   город Москва, поселение Московский, квартал № ...      80    unknown   \n",
       "1866   город Москва, город Щербинка, 2-я Барышевская ...      72    unknown   \n",
       "1896   город Москва, поселение Кленовское, село Клено...     100    unknown   \n",
       "2997   город Москва, 3-я Подрезковская улица, дом 14,...      60    unknown   \n",
       "3713    город Москва, проектируемый проезд № 1980, дом 4      60    unknown   \n",
       "5554   город Москва, 104-й километр Московской Кольце...      80    unknown   \n",
       "5908                 город Москва, улица Капотня, дом 34     220    unknown   \n",
       "6021   город Москва, 38-й километр Московской Кольцев...      94    unknown   \n",
       "6119   город Москва, 42-й километр Московской Кольцев...     170    unknown   \n",
       "6239   город Москва, Новобутовский проезд, владение 9...      12     Subway   \n",
       "6606   город Москва, 56-й километр Московской Кольцев...       1    unknown   \n",
       "6783   город Москва, 65-й километр Московской Кольцев...      10    unknown   \n",
       "6785   город Москва, 67-й километр Московской Кольцев...       2    unknown   \n",
       "7437   город Москва, 26-й километр Московской Кольцев...      50    unknown   \n",
       "8025                город Москва, улица Высоцкого, дом 4      80    unknown   \n",
       "8511   город Москва, город Троицк, 1-й Заречный переу...      47    unknown   \n",
       "8517   город Москва, поселение Кокошкино, дачный посе...       5    unknown   \n",
       "8529   город Москва, поселение Сосенское, поселок Ком...      25    unknown   \n",
       "8532   город Москва, поселение Внуковское, поселок ДС...      20    unknown   \n",
       "8539   город Москва, город Троицк, Большая Октябрьска...       0    unknown   \n",
       "8554   город Москва, поселение Марушкинское, Киевское...       0    unknown   \n",
       "8559   город Москва, поселение Краснопахорское, село ...     200    unknown   \n",
       "8579   город Москва, поселение \"Мосрентген\", поселок ...      40    unknown   \n",
       "8598   город Москва, поселение Краснопахорское, Калуж...      12    unknown   \n",
       "8601   город Москва, город Троицк, Троицкий бульвар, ...       0    unknown   \n",
       "8628   город Москва, город Щербинка, Варшавское шоссе...      12    unknown   \n",
       "8646   город Москва, поселение Сосенское, деревня Ник...      25    unknown   \n",
       "8651   город Москва, город Троицк, 39-й километр Калу...      18    unknown   \n",
       "8652   город Москва, поселение Внуковское, Боровское ...       0    unknown   \n",
       "8658   город Москва, поселение Рязановское, деревня М...      40    unknown   \n",
       "8955   город Москва, поселение Внуковское, улица Корн...       7    unknown   \n",
       "9444   город Москва, поселение \"Мосрентген\", 43-й кил...       3    unknown   \n",
       "9966   город Москва, 30-й километр Московской Кольцев...      12    unknown   \n",
       "9967   город Москва, 31-й километр Московской Кольцев...       0    unknown   \n",
       "9997   город Москва, 78-й километр Московской Кольцев...      15    unknown   \n",
       "10161  город Москва, город Троицк, Физическая улица, ...      12    unknown   \n",
       "10170  город Москва, 34-й километр Московской Кольцев...      50    unknown   \n",
       "10599              город Москва, улица Недорубова, дом 5       4    unknown   \n",
       "10654  город Москва, город Московский, улица Никитина...       0    unknown   \n",
       "11821  город Москва, поселение Краснопахорское, дерев...      22    unknown   \n",
       "12182       город Москва, улица Старые Кузьминки, дом 10      40    unknown   \n",
       "12506  город Москва, поселение Сосенское, поселок Ком...      15    unknown   \n",
       "13256  город Москва, поселение \"Мосрентген\", Киевское...      30    unknown   \n",
       "13260  город Москва, поселение Десеновское, 1-я Ватут...      45    unknown   \n",
       "13283  город Москва, поселение Сосенское, поселок Ком...       8    unknown   \n",
       "13308  город Москва, поселение Внуковское, квартал № ...      70    unknown   \n",
       "13747    город Москва, улица Льва Яшина, дом 5, корпус 1       0    unknown   \n",
       "14462  город Москва, 80-й километр Московской Кольцев...      20    unknown   \n",
       "14807  город Москва, поселение \"Мосрентген\", МКАД, 44...      36    unknown   \n",
       "14974  город Москва, поселение Десеновское, улица Дми...       0    unknown   \n",
       "15017  город Москва, поселение Щаповское, улица Евген...      16    unknown   \n",
       "\n",
       "                                          street_name  \n",
       "1857                   улица Рассудовское Лесничество  \n",
       "1860                                  Армейская улица  \n",
       "1864                                     квартал № 80  \n",
       "1866                            2-я Барышевская улица  \n",
       "1896              улица 1-й километр Объездной Дороги  \n",
       "2997                          3-я Подрезковская улица  \n",
       "3713                      проектируемый проезд № 1980  \n",
       "5554   104-й километр Московской Кольцевой Автодороги  \n",
       "5908                                    улица Капотня  \n",
       "6021    38-й километр Московской Кольцевой Автодороги  \n",
       "6119    42-й километр Московской Кольцевой Автодороги  \n",
       "6239                             Новобутовский проезд  \n",
       "6606    56-й километр Московской Кольцевой Автодороги  \n",
       "6783    65-й километр Московской Кольцевой Автодороги  \n",
       "6785    67-й километр Московской Кольцевой Автодороги  \n",
       "7437    26-й километр Московской Кольцевой Автодороги  \n",
       "8025                                  улица Высоцкого  \n",
       "8511                            1-й Заречный переулок  \n",
       "8517                                   улица Горького  \n",
       "8529                                Фитаревская улица  \n",
       "8532                                   улица Энгельса  \n",
       "8539                        Большая Октябрьская улица  \n",
       "8554                                    37-й километр  \n",
       "8559                             улица Школа-интернат  \n",
       "8579                              Институтский проезд  \n",
       "8598                                    43-й километр  \n",
       "8601                                 Троицкий бульвар  \n",
       "8628                                    27-й километр  \n",
       "8646                 территория ТСЖ \"Лесная поляна-2\"  \n",
       "8651                   39-й километр Калужского шоссе  \n",
       "8652                                    29-й километр  \n",
       "8658                                    улица Слобода  \n",
       "8955                          улица Корнея Чуковского  \n",
       "9444                               43-й километр МКАД  \n",
       "9966    30-й километр Московской Кольцевой Автодороги  \n",
       "9967    31-й километр Московской Кольцевой Автодороги  \n",
       "9997    78-й километр Московской Кольцевой Автодороги  \n",
       "10161                                Физическая улица  \n",
       "10170   34-й километр Московской Кольцевой Автодороги  \n",
       "10599                                улица Недорубова  \n",
       "10654                                  улица Никитина  \n",
       "11821                                 Цветочная улица  \n",
       "12182                          улица Старые Кузьминки  \n",
       "12506                          улица Потаповская Роща  \n",
       "13256                                   21-й километр  \n",
       "13260                           1-я Ватутинская улица  \n",
       "13283                            микрорайон \"Эдальго\"  \n",
       "13308                                    квартал № 30  \n",
       "13747                                улица Льва Яшина  \n",
       "14462   80-й километр Московской Кольцевой Автодороги  \n",
       "14807                                   44-й километр  \n",
       "14974                         улица Дмитрия Рябинкина  \n",
       "15017                         улица Евгения Родионова  "
      ]
     },
     "execution_count": 89,
     "metadata": {},
     "output_type": "execute_result"
    }
   ],
   "source": [
    "streets_not_matched_df = df.query('street_name in @streets_not_matched')\n",
    "streets_not_matched_df"
   ]
  },
  {
   "cell_type": "code",
   "execution_count": 90,
   "id": "f0f8a24c-ffe0-4809-a6d5-6349206c8477",
   "metadata": {
    "tags": []
   },
   "outputs": [
    {
     "data": {
      "text/html": [
       "<div>\n",
       "<style scoped>\n",
       "    .dataframe tbody tr th:only-of-type {\n",
       "        vertical-align: middle;\n",
       "    }\n",
       "\n",
       "    .dataframe tbody tr th {\n",
       "        vertical-align: top;\n",
       "    }\n",
       "\n",
       "    .dataframe thead th {\n",
       "        text-align: right;\n",
       "    }\n",
       "</style>\n",
       "<table border=\"1\" class=\"dataframe\">\n",
       "  <thead>\n",
       "    <tr style=\"text-align: right;\">\n",
       "      <th></th>\n",
       "      <th>id</th>\n",
       "      <th>object_name</th>\n",
       "      <th>chain</th>\n",
       "      <th>object_type</th>\n",
       "      <th>address</th>\n",
       "      <th>number</th>\n",
       "      <th>chain_name</th>\n",
       "      <th>street_name</th>\n",
       "    </tr>\n",
       "  </thead>\n",
       "  <tbody>\n",
       "    <tr>\n",
       "      <th>2997</th>\n",
       "      <td>83284</td>\n",
       "      <td>Кафе «Восточная сказка»</td>\n",
       "      <td>нет</td>\n",
       "      <td>кафе</td>\n",
       "      <td>город Москва, 3-я Подрезковская улица, дом 14,...</td>\n",
       "      <td>60</td>\n",
       "      <td>unknown</td>\n",
       "      <td>3-я Подрезковская улица</td>\n",
       "    </tr>\n",
       "    <tr>\n",
       "      <th>3713</th>\n",
       "      <td>23514</td>\n",
       "      <td>ОСИПОВ А.С. (прод.база «Очаково»)</td>\n",
       "      <td>нет</td>\n",
       "      <td>столовая</td>\n",
       "      <td>город Москва, проектируемый проезд № 1980, дом 4</td>\n",
       "      <td>60</td>\n",
       "      <td>unknown</td>\n",
       "      <td>проектируемый проезд № 1980</td>\n",
       "    </tr>\n",
       "    <tr>\n",
       "      <th>5908</th>\n",
       "      <td>28327</td>\n",
       "      <td>Саят Нова</td>\n",
       "      <td>нет</td>\n",
       "      <td>ресторан</td>\n",
       "      <td>город Москва, улица Капотня, дом 34</td>\n",
       "      <td>220</td>\n",
       "      <td>unknown</td>\n",
       "      <td>улица Капотня</td>\n",
       "    </tr>\n",
       "    <tr>\n",
       "      <th>6239</th>\n",
       "      <td>98910</td>\n",
       "      <td>Subway</td>\n",
       "      <td>да</td>\n",
       "      <td>предприятие быстрого обслуживания</td>\n",
       "      <td>город Москва, Новобутовский проезд, владение 9...</td>\n",
       "      <td>12</td>\n",
       "      <td>Subway</td>\n",
       "      <td>Новобутовский проезд</td>\n",
       "    </tr>\n",
       "    <tr>\n",
       "      <th>8025</th>\n",
       "      <td>28195</td>\n",
       "      <td>БИЗНЕС ЦЕНТР ТАГАНСКИЙ</td>\n",
       "      <td>нет</td>\n",
       "      <td>кафе</td>\n",
       "      <td>город Москва, улица Высоцкого, дом 4</td>\n",
       "      <td>80</td>\n",
       "      <td>unknown</td>\n",
       "      <td>улица Высоцкого</td>\n",
       "    </tr>\n",
       "    <tr>\n",
       "      <th>10599</th>\n",
       "      <td>183874</td>\n",
       "      <td>Японоитальяна</td>\n",
       "      <td>нет</td>\n",
       "      <td>закусочная</td>\n",
       "      <td>город Москва, улица Недорубова, дом 5</td>\n",
       "      <td>4</td>\n",
       "      <td>unknown</td>\n",
       "      <td>улица Недорубова</td>\n",
       "    </tr>\n",
       "    <tr>\n",
       "      <th>12182</th>\n",
       "      <td>192097</td>\n",
       "      <td>Ветерок</td>\n",
       "      <td>нет</td>\n",
       "      <td>кафе</td>\n",
       "      <td>город Москва, улица Старые Кузьминки, дом 10</td>\n",
       "      <td>40</td>\n",
       "      <td>unknown</td>\n",
       "      <td>улица Старые Кузьминки</td>\n",
       "    </tr>\n",
       "    <tr>\n",
       "      <th>13747</th>\n",
       "      <td>213415</td>\n",
       "      <td>Тандыр</td>\n",
       "      <td>нет</td>\n",
       "      <td>магазин (отдел кулинарии)</td>\n",
       "      <td>город Москва, улица Льва Яшина, дом 5, корпус 1</td>\n",
       "      <td>0</td>\n",
       "      <td>unknown</td>\n",
       "      <td>улица Льва Яшина</td>\n",
       "    </tr>\n",
       "  </tbody>\n",
       "</table>\n",
       "</div>"
      ],
      "text/plain": [
       "           id                        object_name chain  \\\n",
       "2997    83284            Кафе «Восточная сказка»   нет   \n",
       "3713    23514  ОСИПОВ А.С. (прод.база «Очаково»)   нет   \n",
       "5908    28327                          Саят Нова   нет   \n",
       "6239    98910                             Subway    да   \n",
       "8025    28195             БИЗНЕС ЦЕНТР ТАГАНСКИЙ   нет   \n",
       "10599  183874                      Японоитальяна   нет   \n",
       "12182  192097                            Ветерок   нет   \n",
       "13747  213415                             Тандыр   нет   \n",
       "\n",
       "                             object_type  \\\n",
       "2997                                кафе   \n",
       "3713                            столовая   \n",
       "5908                            ресторан   \n",
       "6239   предприятие быстрого обслуживания   \n",
       "8025                                кафе   \n",
       "10599                         закусочная   \n",
       "12182                               кафе   \n",
       "13747          магазин (отдел кулинарии)   \n",
       "\n",
       "                                                 address  number chain_name  \\\n",
       "2997   город Москва, 3-я Подрезковская улица, дом 14,...      60    unknown   \n",
       "3713    город Москва, проектируемый проезд № 1980, дом 4      60    unknown   \n",
       "5908                 город Москва, улица Капотня, дом 34     220    unknown   \n",
       "6239   город Москва, Новобутовский проезд, владение 9...      12     Subway   \n",
       "8025                город Москва, улица Высоцкого, дом 4      80    unknown   \n",
       "10599              город Москва, улица Недорубова, дом 5       4    unknown   \n",
       "12182       город Москва, улица Старые Кузьминки, дом 10      40    unknown   \n",
       "13747    город Москва, улица Льва Яшина, дом 5, корпус 1       0    unknown   \n",
       "\n",
       "                       street_name  \n",
       "2997       3-я Подрезковская улица  \n",
       "3713   проектируемый проезд № 1980  \n",
       "5908                 улица Капотня  \n",
       "6239          Новобутовский проезд  \n",
       "8025               улица Высоцкого  \n",
       "10599             улица Недорубова  \n",
       "12182       улица Старые Кузьминки  \n",
       "13747             улица Льва Яшина  "
      ]
     },
     "execution_count": 90,
     "metadata": {},
     "output_type": "execute_result"
    }
   ],
   "source": [
    "streets_not_matched_df[~streets_not_matched_df['address'].str.contains(r'(Москва,? город)|поселение|деревня|километр', regex=True)]"
   ]
  },
  {
   "cell_type": "markdown",
   "id": "2b7e92eb-8b72-4124-a6ca-27841bc02cc1",
   "metadata": {},
   "source": [
    "Улица Высоцкого - это бывшие Нижний Таганский тупик, Верхний Таганский тупик. Это Таганский район. Текущий файл улиц Мосгаза неактуальный. И улица Старые Кузьминки - Кузьминский район. Поправлю это точечно. Все остальное - за МКАДом. Пометим такие строки в столбце area как \"район не определен\"."
   ]
  },
  {
   "cell_type": "code",
   "execution_count": 91,
   "id": "786ebeb0-21b9-4c82-bd04-b756355df3b1",
   "metadata": {},
   "outputs": [],
   "source": [
    "streets_wth_one_ob_area.loc[streets_wth_one_ob_area['street_name']=='улица Высоцкого', 'area'] = 'Таганский район'"
   ]
  },
  {
   "cell_type": "code",
   "execution_count": 92,
   "id": "4539a69d-b23a-45c0-9cbb-9df17d4d996b",
   "metadata": {},
   "outputs": [],
   "source": [
    "streets_wth_one_ob_area.loc[streets_wth_one_ob_area['street_name']=='улица Старые Кузьминки', 'area'] = 'район Кузьминки'"
   ]
  },
  {
   "cell_type": "markdown",
   "id": "204f0ef1-5613-4ec0-9624-bba7298e020c",
   "metadata": {},
   "source": [
    "Проверим, что получилось."
   ]
  },
  {
   "cell_type": "code",
   "execution_count": 93,
   "id": "3e4a13f7-cbcf-4072-839e-a77e924fa7fc",
   "metadata": {
    "tags": []
   },
   "outputs": [
    {
     "data": {
      "text/html": [
       "<div>\n",
       "<style scoped>\n",
       "    .dataframe tbody tr th:only-of-type {\n",
       "        vertical-align: middle;\n",
       "    }\n",
       "\n",
       "    .dataframe tbody tr th {\n",
       "        vertical-align: top;\n",
       "    }\n",
       "\n",
       "    .dataframe thead th {\n",
       "        text-align: right;\n",
       "    }\n",
       "</style>\n",
       "<table border=\"1\" class=\"dataframe\">\n",
       "  <thead>\n",
       "    <tr style=\"text-align: right;\">\n",
       "      <th></th>\n",
       "      <th>street_name</th>\n",
       "      <th>count</th>\n",
       "      <th>streetname</th>\n",
       "      <th>area</th>\n",
       "    </tr>\n",
       "  </thead>\n",
       "  <tbody>\n",
       "    <tr>\n",
       "      <th>533</th>\n",
       "      <td>улица Высоцкого</td>\n",
       "      <td>1</td>\n",
       "      <td>NaN</td>\n",
       "      <td>Таганский район</td>\n",
       "    </tr>\n",
       "    <tr>\n",
       "      <th>606</th>\n",
       "      <td>улица Старые Кузьминки</td>\n",
       "      <td>1</td>\n",
       "      <td>NaN</td>\n",
       "      <td>район Кузьминки</td>\n",
       "    </tr>\n",
       "  </tbody>\n",
       "</table>\n",
       "</div>"
      ],
      "text/plain": [
       "                street_name  count streetname             area\n",
       "533         улица Высоцкого      1        NaN  Таганский район\n",
       "606  улица Старые Кузьминки      1        NaN  район Кузьминки"
      ]
     },
     "execution_count": 93,
     "metadata": {},
     "output_type": "execute_result"
    }
   ],
   "source": [
    "streets_wth_one_ob_area[streets_wth_one_ob_area.street_name.isin(['улица Высоцкого', 'улица Старые Кузьминки'])]"
   ]
  },
  {
   "cell_type": "markdown",
   "id": "9c4c26fa-bea7-4605-8c7b-5f2f566d79ce",
   "metadata": {},
   "source": [
    "Заполняем оcтальные пропуски в area значением \"не определен\"."
   ]
  },
  {
   "cell_type": "code",
   "execution_count": 94,
   "id": "6c2add70-d978-4d80-b0e9-bfadcd974c90",
   "metadata": {},
   "outputs": [],
   "source": [
    "streets_wth_one_ob_area['area'] = streets_wth_one_ob_area['area'].fillna('не определен')"
   ]
  },
  {
   "cell_type": "code",
   "execution_count": 95,
   "id": "fb4a847d-e45b-4a34-96b6-ba2955e35794",
   "metadata": {},
   "outputs": [
    {
     "name": "stdout",
     "output_type": "stream",
     "text": [
      "Количество пропусков:\n",
      " street_name     0\n",
      "count           0\n",
      "streetname     53\n",
      "area            0\n",
      "dtype: int64\n"
     ]
    }
   ],
   "source": [
    "print(\"Количество пропусков:\\n\", streets_wth_one_ob_area.isna().sum())"
   ]
  },
  {
   "cell_type": "markdown",
   "id": "402d0ba1-0a0d-4a41-8e63-658997f1066c",
   "metadata": {},
   "source": [
    "Проверим, что количество строк осталось таким же"
   ]
  },
  {
   "cell_type": "code",
   "execution_count": 96,
   "id": "ef6b4263-5a46-446a-a819-18699267aeb2",
   "metadata": {},
   "outputs": [
    {
     "data": {
      "text/plain": [
       "True"
      ]
     },
     "execution_count": 96,
     "metadata": {},
     "output_type": "execute_result"
    }
   ],
   "source": [
    "len_orig == len(streets_wth_one_ob_area)"
   ]
  },
  {
   "cell_type": "code",
   "execution_count": 97,
   "id": "c7a4d3e6-6f37-4f69-a445-fe34362a290d",
   "metadata": {},
   "outputs": [
    {
     "data": {
      "text/html": [
       "<div>\n",
       "<style scoped>\n",
       "    .dataframe tbody tr th:only-of-type {\n",
       "        vertical-align: middle;\n",
       "    }\n",
       "\n",
       "    .dataframe tbody tr th {\n",
       "        vertical-align: top;\n",
       "    }\n",
       "\n",
       "    .dataframe thead th {\n",
       "        text-align: right;\n",
       "    }\n",
       "</style>\n",
       "<table border=\"1\" class=\"dataframe\">\n",
       "  <thead>\n",
       "    <tr style=\"text-align: right;\">\n",
       "      <th></th>\n",
       "      <th>street_name</th>\n",
       "      <th>count</th>\n",
       "      <th>streetname</th>\n",
       "      <th>area</th>\n",
       "    </tr>\n",
       "  </thead>\n",
       "  <tbody>\n",
       "    <tr>\n",
       "      <th>0</th>\n",
       "      <td>1-й Балтийский переулок</td>\n",
       "      <td>1</td>\n",
       "      <td>1-й Балтийский переулок</td>\n",
       "      <td>Район Аэропорт</td>\n",
       "    </tr>\n",
       "    <tr>\n",
       "      <th>1</th>\n",
       "      <td>1-й Басманный переулок</td>\n",
       "      <td>1</td>\n",
       "      <td>1-й Басманный переулок</td>\n",
       "      <td>Басманный район</td>\n",
       "    </tr>\n",
       "    <tr>\n",
       "      <th>2</th>\n",
       "      <td>1-й Басманный переулок</td>\n",
       "      <td>1</td>\n",
       "      <td>1-й Басманный переулок</td>\n",
       "      <td>Красносельский район</td>\n",
       "    </tr>\n",
       "    <tr>\n",
       "      <th>3</th>\n",
       "      <td>1-й Ботанический проезд</td>\n",
       "      <td>1</td>\n",
       "      <td>1-й Ботанический проезд</td>\n",
       "      <td>Район Свиблово</td>\n",
       "    </tr>\n",
       "    <tr>\n",
       "      <th>4</th>\n",
       "      <td>1-й Вешняковский проезд</td>\n",
       "      <td>1</td>\n",
       "      <td>1-й Вешняковский проезд</td>\n",
       "      <td>Рязанский район</td>\n",
       "    </tr>\n",
       "  </tbody>\n",
       "</table>\n",
       "</div>"
      ],
      "text/plain": [
       "               street_name  count               streetname  \\\n",
       "0  1-й Балтийский переулок      1  1-й Балтийский переулок   \n",
       "1   1-й Басманный переулок      1   1-й Басманный переулок   \n",
       "2   1-й Басманный переулок      1   1-й Басманный переулок   \n",
       "3  1-й Ботанический проезд      1  1-й Ботанический проезд   \n",
       "4  1-й Вешняковский проезд      1  1-й Вешняковский проезд   \n",
       "\n",
       "                   area  \n",
       "0        Район Аэропорт  \n",
       "1       Басманный район  \n",
       "2  Красносельский район  \n",
       "3        Район Свиблово  \n",
       "4       Рязанский район  "
      ]
     },
     "execution_count": 97,
     "metadata": {},
     "output_type": "execute_result"
    }
   ],
   "source": [
    "streets_wth_one_ob_area.head()"
   ]
  },
  {
   "cell_type": "markdown",
   "id": "d0f36e1f-77b7-42c6-8d14-70288b18dd07",
   "metadata": {},
   "source": [
    "Уберем лишний столбец streetname."
   ]
  },
  {
   "cell_type": "code",
   "execution_count": 98,
   "id": "38b5c2bf-fb2e-466c-850e-9309eebcbfa5",
   "metadata": {
    "tags": []
   },
   "outputs": [
    {
     "data": {
      "text/html": [
       "<div>\n",
       "<style scoped>\n",
       "    .dataframe tbody tr th:only-of-type {\n",
       "        vertical-align: middle;\n",
       "    }\n",
       "\n",
       "    .dataframe tbody tr th {\n",
       "        vertical-align: top;\n",
       "    }\n",
       "\n",
       "    .dataframe thead th {\n",
       "        text-align: right;\n",
       "    }\n",
       "</style>\n",
       "<table border=\"1\" class=\"dataframe\">\n",
       "  <thead>\n",
       "    <tr style=\"text-align: right;\">\n",
       "      <th></th>\n",
       "      <th>street_name</th>\n",
       "      <th>count</th>\n",
       "      <th>area</th>\n",
       "    </tr>\n",
       "  </thead>\n",
       "  <tbody>\n",
       "    <tr>\n",
       "      <th>0</th>\n",
       "      <td>1-й Балтийский переулок</td>\n",
       "      <td>1</td>\n",
       "      <td>Район Аэропорт</td>\n",
       "    </tr>\n",
       "    <tr>\n",
       "      <th>1</th>\n",
       "      <td>1-й Басманный переулок</td>\n",
       "      <td>1</td>\n",
       "      <td>Басманный район</td>\n",
       "    </tr>\n",
       "    <tr>\n",
       "      <th>2</th>\n",
       "      <td>1-й Басманный переулок</td>\n",
       "      <td>1</td>\n",
       "      <td>Красносельский район</td>\n",
       "    </tr>\n",
       "    <tr>\n",
       "      <th>3</th>\n",
       "      <td>1-й Ботанический проезд</td>\n",
       "      <td>1</td>\n",
       "      <td>Район Свиблово</td>\n",
       "    </tr>\n",
       "    <tr>\n",
       "      <th>4</th>\n",
       "      <td>1-й Вешняковский проезд</td>\n",
       "      <td>1</td>\n",
       "      <td>Рязанский район</td>\n",
       "    </tr>\n",
       "  </tbody>\n",
       "</table>\n",
       "</div>"
      ],
      "text/plain": [
       "               street_name  count                  area\n",
       "0  1-й Балтийский переулок      1        Район Аэропорт\n",
       "1   1-й Басманный переулок      1       Басманный район\n",
       "2   1-й Басманный переулок      1  Красносельский район\n",
       "3  1-й Ботанический проезд      1        Район Свиблово\n",
       "4  1-й Вешняковский проезд      1       Рязанский район"
      ]
     },
     "execution_count": 98,
     "metadata": {},
     "output_type": "execute_result"
    }
   ],
   "source": [
    "streets_wth_one_ob_area = streets_wth_one_ob_area[['street_name', 'count', 'area']]\n",
    "streets_wth_one_ob_area.head()"
   ]
  },
  {
   "cell_type": "code",
   "execution_count": 103,
   "id": "9951b6e6-9c92-4d22-a0b0-cac35a015123",
   "metadata": {},
   "outputs": [
    {
     "data": {
      "text/plain": [
       "'Количество улиц, где расположен только 1 объект общественного питания: 620'"
      ]
     },
     "execution_count": 103,
     "metadata": {},
     "output_type": "execute_result"
    }
   ],
   "source": [
    "f\"Количество улиц, где расположен только 1 объект общественного питания: {len(streets_wth_one_ob_area)}\""
   ]
  },
  {
   "cell_type": "markdown",
   "id": "6453c263-ac58-4b80-9a3c-1543ab0157ac",
   "metadata": {},
   "source": [
    "Сделаем еще одну группировку данных: определим районы, где больше всего улиц с 1 объектом общественного питания.\n",
    "В сгруппированных данных переименуем столбец count  в count_of_one_object_streets."
   ]
  },
  {
   "cell_type": "code",
   "execution_count": 99,
   "id": "c2a75267-87df-438b-9652-5e7dfec62998",
   "metadata": {},
   "outputs": [
    {
     "data": {
      "text/html": [
       "<div>\n",
       "<style scoped>\n",
       "    .dataframe tbody tr th:only-of-type {\n",
       "        vertical-align: middle;\n",
       "    }\n",
       "\n",
       "    .dataframe tbody tr th {\n",
       "        vertical-align: top;\n",
       "    }\n",
       "\n",
       "    .dataframe thead th {\n",
       "        text-align: right;\n",
       "    }\n",
       "</style>\n",
       "<table border=\"1\" class=\"dataframe\">\n",
       "  <thead>\n",
       "    <tr style=\"text-align: right;\">\n",
       "      <th></th>\n",
       "      <th>area</th>\n",
       "      <th>count_of_one_object_streets</th>\n",
       "    </tr>\n",
       "  </thead>\n",
       "  <tbody>\n",
       "    <tr>\n",
       "      <th>0</th>\n",
       "      <td>Алексеевский район</td>\n",
       "      <td>7</td>\n",
       "    </tr>\n",
       "    <tr>\n",
       "      <th>1</th>\n",
       "      <td>Алтуфьевский район</td>\n",
       "      <td>1</td>\n",
       "    </tr>\n",
       "    <tr>\n",
       "      <th>2</th>\n",
       "      <td>Бабушкинский район</td>\n",
       "      <td>4</td>\n",
       "    </tr>\n",
       "    <tr>\n",
       "      <th>3</th>\n",
       "      <td>Басманный район</td>\n",
       "      <td>25</td>\n",
       "    </tr>\n",
       "    <tr>\n",
       "      <th>4</th>\n",
       "      <td>Бескудниковский Район</td>\n",
       "      <td>2</td>\n",
       "    </tr>\n",
       "  </tbody>\n",
       "</table>\n",
       "</div>"
      ],
      "text/plain": [
       "                    area  count_of_one_object_streets\n",
       "0     Алексеевский район                            7\n",
       "1     Алтуфьевский район                            1\n",
       "2     Бабушкинский район                            4\n",
       "3        Басманный район                           25\n",
       "4  Бескудниковский Район                            2"
      ]
     },
     "execution_count": 99,
     "metadata": {},
     "output_type": "execute_result"
    }
   ],
   "source": [
    "areas_wth_one_ob_street = (streets_wth_one_ob_area.pivot_table(index=['area'], columns='count', \n",
    "                                     values='street_name', aggfunc='count').reset_index())\n",
    "areas_wth_one_ob_street.columns = ['area', 'count_of_one_object_streets']\n",
    "areas_wth_one_ob_street.head()"
   ]
  },
  {
   "cell_type": "code",
   "execution_count": 100,
   "id": "2b389a47-9990-4dd2-8f3a-b000fcf8fb6b",
   "metadata": {
    "tags": []
   },
   "outputs": [
    {
     "data": {
      "text/html": [
       "<style type=\"text/css\">\n",
       "#T_5cfa8_row0_col1 {\n",
       "  background-color: #08306b;\n",
       "  color: #f1f1f1;\n",
       "}\n",
       "#T_5cfa8_row1_col1 {\n",
       "  background-color: #5da5d1;\n",
       "  color: #f1f1f1;\n",
       "}\n",
       "#T_5cfa8_row2_col1 {\n",
       "  background-color: #6aaed6;\n",
       "  color: #f1f1f1;\n",
       "}\n",
       "#T_5cfa8_row3_col1 {\n",
       "  background-color: #74b3d8;\n",
       "  color: #000000;\n",
       "}\n",
       "#T_5cfa8_row4_col1, #T_5cfa8_row5_col1 {\n",
       "  background-color: #9cc9e1;\n",
       "  color: #000000;\n",
       "}\n",
       "#T_5cfa8_row6_col1, #T_5cfa8_row7_col1 {\n",
       "  background-color: #a9cfe5;\n",
       "  color: #000000;\n",
       "}\n",
       "#T_5cfa8_row8_col1 {\n",
       "  background-color: #b7d4ea;\n",
       "  color: #000000;\n",
       "}\n",
       "#T_5cfa8_row9_col1 {\n",
       "  background-color: #bdd7ec;\n",
       "  color: #000000;\n",
       "}\n",
       "#T_5cfa8_row10_col1 {\n",
       "  background-color: #c3daee;\n",
       "  color: #000000;\n",
       "}\n",
       "#T_5cfa8_row11_col1, #T_5cfa8_row12_col1 {\n",
       "  background-color: #ccdff1;\n",
       "  color: #000000;\n",
       "}\n",
       "#T_5cfa8_row13_col1, #T_5cfa8_row14_col1 {\n",
       "  background-color: #d0e1f2;\n",
       "  color: #000000;\n",
       "}\n",
       "#T_5cfa8_row15_col1, #T_5cfa8_row16_col1 {\n",
       "  background-color: #d3e4f3;\n",
       "  color: #000000;\n",
       "}\n",
       "#T_5cfa8_row17_col1 {\n",
       "  background-color: #d8e7f5;\n",
       "  color: #000000;\n",
       "}\n",
       "#T_5cfa8_row18_col1, #T_5cfa8_row19_col1, #T_5cfa8_row20_col1, #T_5cfa8_row21_col1, #T_5cfa8_row22_col1 {\n",
       "  background-color: #dce9f6;\n",
       "  color: #000000;\n",
       "}\n",
       "#T_5cfa8_row23_col1, #T_5cfa8_row24_col1, #T_5cfa8_row25_col1, #T_5cfa8_row26_col1, #T_5cfa8_row27_col1 {\n",
       "  background-color: #dfecf7;\n",
       "  color: #000000;\n",
       "}\n",
       "#T_5cfa8_row28_col1, #T_5cfa8_row29_col1, #T_5cfa8_row30_col1, #T_5cfa8_row31_col1, #T_5cfa8_row32_col1, #T_5cfa8_row33_col1 {\n",
       "  background-color: #e3eef9;\n",
       "  color: #000000;\n",
       "}\n",
       "#T_5cfa8_row34_col1, #T_5cfa8_row35_col1, #T_5cfa8_row36_col1, #T_5cfa8_row37_col1, #T_5cfa8_row38_col1, #T_5cfa8_row39_col1, #T_5cfa8_row40_col1, #T_5cfa8_row41_col1, #T_5cfa8_row42_col1, #T_5cfa8_row43_col1, #T_5cfa8_row44_col1 {\n",
       "  background-color: #e7f1fa;\n",
       "  color: #000000;\n",
       "}\n",
       "#T_5cfa8_row45_col1, #T_5cfa8_row46_col1, #T_5cfa8_row47_col1, #T_5cfa8_row48_col1, #T_5cfa8_row49_col1, #T_5cfa8_row50_col1, #T_5cfa8_row51_col1, #T_5cfa8_row52_col1, #T_5cfa8_row53_col1, #T_5cfa8_row54_col1, #T_5cfa8_row55_col1, #T_5cfa8_row56_col1 {\n",
       "  background-color: #ebf3fb;\n",
       "  color: #000000;\n",
       "}\n",
       "#T_5cfa8_row57_col1, #T_5cfa8_row58_col1, #T_5cfa8_row59_col1, #T_5cfa8_row60_col1, #T_5cfa8_row61_col1, #T_5cfa8_row62_col1, #T_5cfa8_row63_col1, #T_5cfa8_row64_col1, #T_5cfa8_row65_col1 {\n",
       "  background-color: #eff6fc;\n",
       "  color: #000000;\n",
       "}\n",
       "#T_5cfa8_row66_col1, #T_5cfa8_row67_col1, #T_5cfa8_row68_col1, #T_5cfa8_row69_col1, #T_5cfa8_row70_col1, #T_5cfa8_row71_col1, #T_5cfa8_row72_col1, #T_5cfa8_row73_col1, #T_5cfa8_row74_col1, #T_5cfa8_row75_col1, #T_5cfa8_row76_col1, #T_5cfa8_row77_col1, #T_5cfa8_row78_col1, #T_5cfa8_row79_col1, #T_5cfa8_row80_col1, #T_5cfa8_row81_col1, #T_5cfa8_row82_col1 {\n",
       "  background-color: #f3f8fe;\n",
       "  color: #000000;\n",
       "}\n",
       "#T_5cfa8_row83_col1, #T_5cfa8_row84_col1, #T_5cfa8_row85_col1, #T_5cfa8_row86_col1, #T_5cfa8_row87_col1, #T_5cfa8_row88_col1, #T_5cfa8_row89_col1, #T_5cfa8_row90_col1, #T_5cfa8_row91_col1, #T_5cfa8_row92_col1, #T_5cfa8_row93_col1, #T_5cfa8_row94_col1, #T_5cfa8_row95_col1, #T_5cfa8_row96_col1, #T_5cfa8_row97_col1, #T_5cfa8_row98_col1, #T_5cfa8_row99_col1, #T_5cfa8_row100_col1, #T_5cfa8_row101_col1 {\n",
       "  background-color: #f7fbff;\n",
       "  color: #000000;\n",
       "}\n",
       "</style>\n",
       "<table id=\"T_5cfa8\">\n",
       "  <thead>\n",
       "    <tr>\n",
       "      <th class=\"blank level0\" >&nbsp;</th>\n",
       "      <th id=\"T_5cfa8_level0_col0\" class=\"col_heading level0 col0\" >area</th>\n",
       "      <th id=\"T_5cfa8_level0_col1\" class=\"col_heading level0 col1\" >count_of_one_object_streets</th>\n",
       "    </tr>\n",
       "  </thead>\n",
       "  <tbody>\n",
       "    <tr>\n",
       "      <th id=\"T_5cfa8_level0_row0\" class=\"row_heading level0 row0\" >100</th>\n",
       "      <td id=\"T_5cfa8_row0_col0\" class=\"data row0 col0\" >не определен</td>\n",
       "      <td id=\"T_5cfa8_row0_col1\" class=\"data row0 col1\" >51</td>\n",
       "    </tr>\n",
       "    <tr>\n",
       "      <th id=\"T_5cfa8_level0_row1\" class=\"row_heading level0 row1\" >94</th>\n",
       "      <td id=\"T_5cfa8_row1_col0\" class=\"data row1 col0\" >Таганский район</td>\n",
       "      <td id=\"T_5cfa8_row1_col1\" class=\"data row1 col1\" >28</td>\n",
       "    </tr>\n",
       "    <tr>\n",
       "      <th id=\"T_5cfa8_level0_row2\" class=\"row_heading level0 row2\" >80</th>\n",
       "      <td id=\"T_5cfa8_row2_col0\" class=\"data row2 col0\" >Район Хамовники</td>\n",
       "      <td id=\"T_5cfa8_row2_col1\" class=\"data row2 col1\" >26</td>\n",
       "    </tr>\n",
       "    <tr>\n",
       "      <th id=\"T_5cfa8_level0_row3\" class=\"row_heading level0 row3\" >3</th>\n",
       "      <td id=\"T_5cfa8_row3_col0\" class=\"data row3 col0\" >Басманный район</td>\n",
       "      <td id=\"T_5cfa8_row3_col1\" class=\"data row3 col1\" >25</td>\n",
       "    </tr>\n",
       "    <tr>\n",
       "      <th id=\"T_5cfa8_level0_row4\" class=\"row_heading level0 row4\" >95</th>\n",
       "      <td id=\"T_5cfa8_row4_col0\" class=\"data row4 col0\" >Тверской район</td>\n",
       "      <td id=\"T_5cfa8_row4_col1\" class=\"data row4 col1\" >20</td>\n",
       "    </tr>\n",
       "    <tr>\n",
       "      <th id=\"T_5cfa8_level0_row5\" class=\"row_heading level0 row5\" >21</th>\n",
       "      <td id=\"T_5cfa8_row5_col0\" class=\"data row5 col0\" >Пресненский район</td>\n",
       "      <td id=\"T_5cfa8_row5_col1\" class=\"data row5 col1\" >20</td>\n",
       "    </tr>\n",
       "    <tr>\n",
       "      <th id=\"T_5cfa8_level0_row6\" class=\"row_heading level0 row6\" >51</th>\n",
       "      <td id=\"T_5cfa8_row6_col0\" class=\"data row6 col0\" >Район Марьина роща</td>\n",
       "      <td id=\"T_5cfa8_row6_col1\" class=\"data row6 col1\" >18</td>\n",
       "    </tr>\n",
       "    <tr>\n",
       "      <th id=\"T_5cfa8_level0_row7\" class=\"row_heading level0 row7\" >22</th>\n",
       "      <td id=\"T_5cfa8_row7_col0\" class=\"data row7 col0\" >Район Арбат</td>\n",
       "      <td id=\"T_5cfa8_row7_col1\" class=\"data row7 col1\" >18</td>\n",
       "    </tr>\n",
       "    <tr>\n",
       "      <th id=\"T_5cfa8_level0_row8\" class=\"row_heading level0 row8\" >13</th>\n",
       "      <td id=\"T_5cfa8_row8_col0\" class=\"data row8 col0\" >Мещанский район</td>\n",
       "      <td id=\"T_5cfa8_row8_col1\" class=\"data row8 col1\" >16</td>\n",
       "    </tr>\n",
       "    <tr>\n",
       "      <th id=\"T_5cfa8_level0_row9\" class=\"row_heading level0 row9\" >74</th>\n",
       "      <td id=\"T_5cfa8_row9_col0\" class=\"data row9 col0\" >Район Сокольники</td>\n",
       "      <td id=\"T_5cfa8_row9_col1\" class=\"data row9 col1\" >15</td>\n",
       "    </tr>\n",
       "    <tr>\n",
       "      <th id=\"T_5cfa8_level0_row10\" class=\"row_heading level0 row10\" >33</th>\n",
       "      <td id=\"T_5cfa8_row10_col0\" class=\"data row10 col0\" >Район Замоскворечье</td>\n",
       "      <td id=\"T_5cfa8_row10_col1\" class=\"data row10 col1\" >14</td>\n",
       "    </tr>\n",
       "    <tr>\n",
       "      <th id=\"T_5cfa8_level0_row11\" class=\"row_heading level0 row11\" >47</th>\n",
       "      <td id=\"T_5cfa8_row11_col0\" class=\"data row11 col0\" >Район Лефортово</td>\n",
       "      <td id=\"T_5cfa8_row11_col1\" class=\"data row11 col1\" >12</td>\n",
       "    </tr>\n",
       "    <tr>\n",
       "      <th id=\"T_5cfa8_level0_row12\" class=\"row_heading level0 row12\" >73</th>\n",
       "      <td id=\"T_5cfa8_row12_col0\" class=\"data row12 col0\" >Район Соколиная Гора</td>\n",
       "      <td id=\"T_5cfa8_row12_col1\" class=\"data row12 col1\" >12</td>\n",
       "    </tr>\n",
       "    <tr>\n",
       "      <th id=\"T_5cfa8_level0_row13\" class=\"row_heading level0 row13\" >8</th>\n",
       "      <td id=\"T_5cfa8_row13_col0\" class=\"data row13 col0\" >Даниловский район</td>\n",
       "      <td id=\"T_5cfa8_row13_col1\" class=\"data row13 col1\" >11</td>\n",
       "    </tr>\n",
       "    <tr>\n",
       "      <th id=\"T_5cfa8_level0_row14\" class=\"row_heading level0 row14\" >90</th>\n",
       "      <td id=\"T_5cfa8_row14_col0\" class=\"data row14 col0\" >Район Якиманка</td>\n",
       "      <td id=\"T_5cfa8_row14_col1\" class=\"data row14 col1\" >11</td>\n",
       "    </tr>\n",
       "    <tr>\n",
       "      <th id=\"T_5cfa8_level0_row15\" class=\"row_heading level0 row15\" >11</th>\n",
       "      <td id=\"T_5cfa8_row15_col0\" class=\"data row15 col0\" >Красносельский район</td>\n",
       "      <td id=\"T_5cfa8_row15_col1\" class=\"data row15 col1\" >10</td>\n",
       "    </tr>\n",
       "    <tr>\n",
       "      <th id=\"T_5cfa8_level0_row16\" class=\"row_heading level0 row16\" >26</th>\n",
       "      <td id=\"T_5cfa8_row16_col0\" class=\"data row16 col0\" >Район Богородское</td>\n",
       "      <td id=\"T_5cfa8_row16_col1\" class=\"data row16 col1\" >10</td>\n",
       "    </tr>\n",
       "    <tr>\n",
       "      <th id=\"T_5cfa8_level0_row17\" class=\"row_heading level0 row17\" >17</th>\n",
       "      <td id=\"T_5cfa8_row17_col0\" class=\"data row17 col0\" >Нижегородский район</td>\n",
       "      <td id=\"T_5cfa8_row17_col1\" class=\"data row17 col1\" >9</td>\n",
       "    </tr>\n",
       "    <tr>\n",
       "      <th id=\"T_5cfa8_level0_row18\" class=\"row_heading level0 row18\" >23</th>\n",
       "      <td id=\"T_5cfa8_row18_col0\" class=\"data row18 col0\" >Район Аэропорт</td>\n",
       "      <td id=\"T_5cfa8_row18_col1\" class=\"data row18 col1\" >8</td>\n",
       "    </tr>\n",
       "    <tr>\n",
       "      <th id=\"T_5cfa8_level0_row19\" class=\"row_heading level0 row19\" >87</th>\n",
       "      <td id=\"T_5cfa8_row19_col0\" class=\"data row19 col0\" >Район Южное Бутово</td>\n",
       "      <td id=\"T_5cfa8_row19_col1\" class=\"data row19 col1\" >8</td>\n",
       "    </tr>\n",
       "    <tr>\n",
       "      <th id=\"T_5cfa8_level0_row20\" class=\"row_heading level0 row20\" >49</th>\n",
       "      <td id=\"T_5cfa8_row20_col0\" class=\"data row20 col0\" >Район Люблино</td>\n",
       "      <td id=\"T_5cfa8_row20_col1\" class=\"data row20 col1\" >8</td>\n",
       "    </tr>\n",
       "    <tr>\n",
       "      <th id=\"T_5cfa8_level0_row21\" class=\"row_heading level0 row21\" >14</th>\n",
       "      <td id=\"T_5cfa8_row21_col0\" class=\"data row21 col0\" >Можайский Район</td>\n",
       "      <td id=\"T_5cfa8_row21_col1\" class=\"data row21 col1\" >8</td>\n",
       "    </tr>\n",
       "    <tr>\n",
       "      <th id=\"T_5cfa8_level0_row22\" class=\"row_heading level0 row22\" >27</th>\n",
       "      <td id=\"T_5cfa8_row22_col0\" class=\"data row22 col0\" >Район Внуково</td>\n",
       "      <td id=\"T_5cfa8_row22_col1\" class=\"data row22 col1\" >8</td>\n",
       "    </tr>\n",
       "    <tr>\n",
       "      <th id=\"T_5cfa8_level0_row23\" class=\"row_heading level0 row23\" >64</th>\n",
       "      <td id=\"T_5cfa8_row23_col0\" class=\"data row23 col0\" >Район Преображенское</td>\n",
       "      <td id=\"T_5cfa8_row23_col1\" class=\"data row23 col1\" >7</td>\n",
       "    </tr>\n",
       "    <tr>\n",
       "      <th id=\"T_5cfa8_level0_row24\" class=\"row_heading level0 row24\" >96</th>\n",
       "      <td id=\"T_5cfa8_row24_col0\" class=\"data row24 col0\" >Тимирязевский Район</td>\n",
       "      <td id=\"T_5cfa8_row24_col1\" class=\"data row24 col1\" >7</td>\n",
       "    </tr>\n",
       "    <tr>\n",
       "      <th id=\"T_5cfa8_level0_row25\" class=\"row_heading level0 row25\" >81</th>\n",
       "      <td id=\"T_5cfa8_row25_col0\" class=\"data row25 col0\" >Район Хорошево-Мневники</td>\n",
       "      <td id=\"T_5cfa8_row25_col1\" class=\"data row25 col1\" >7</td>\n",
       "    </tr>\n",
       "    <tr>\n",
       "      <th id=\"T_5cfa8_level0_row26\" class=\"row_heading level0 row26\" >0</th>\n",
       "      <td id=\"T_5cfa8_row26_col0\" class=\"data row26 col0\" >Алексеевский район</td>\n",
       "      <td id=\"T_5cfa8_row26_col1\" class=\"data row26 col1\" >7</td>\n",
       "    </tr>\n",
       "    <tr>\n",
       "      <th id=\"T_5cfa8_level0_row27\" class=\"row_heading level0 row27\" >12</th>\n",
       "      <td id=\"T_5cfa8_row27_col0\" class=\"data row27 col0\" >Лосиноостровский район</td>\n",
       "      <td id=\"T_5cfa8_row27_col1\" class=\"data row27 col1\" >7</td>\n",
       "    </tr>\n",
       "    <tr>\n",
       "      <th id=\"T_5cfa8_level0_row28\" class=\"row_heading level0 row28\" >10</th>\n",
       "      <td id=\"T_5cfa8_row28_col0\" class=\"data row28 col0\" >Донской район</td>\n",
       "      <td id=\"T_5cfa8_row28_col1\" class=\"data row28 col1\" >6</td>\n",
       "    </tr>\n",
       "    <tr>\n",
       "      <th id=\"T_5cfa8_level0_row29\" class=\"row_heading level0 row29\" >9</th>\n",
       "      <td id=\"T_5cfa8_row29_col0\" class=\"data row29 col0\" >Дмитровский район</td>\n",
       "      <td id=\"T_5cfa8_row29_col1\" class=\"data row29 col1\" >6</td>\n",
       "    </tr>\n",
       "    <tr>\n",
       "      <th id=\"T_5cfa8_level0_row30\" class=\"row_heading level0 row30\" >75</th>\n",
       "      <td id=\"T_5cfa8_row30_col0\" class=\"data row30 col0\" >Район Солнцево</td>\n",
       "      <td id=\"T_5cfa8_row30_col1\" class=\"data row30 col1\" >6</td>\n",
       "    </tr>\n",
       "    <tr>\n",
       "      <th id=\"T_5cfa8_level0_row31\" class=\"row_heading level0 row31\" >37</th>\n",
       "      <td id=\"T_5cfa8_row31_col0\" class=\"data row31 col0\" >Район Измайлово</td>\n",
       "      <td id=\"T_5cfa8_row31_col1\" class=\"data row31 col1\" >6</td>\n",
       "    </tr>\n",
       "    <tr>\n",
       "      <th id=\"T_5cfa8_level0_row32\" class=\"row_heading level0 row32\" >93</th>\n",
       "      <td id=\"T_5cfa8_row32_col0\" class=\"data row32 col0\" >Савеловский район</td>\n",
       "      <td id=\"T_5cfa8_row32_col1\" class=\"data row32 col1\" >6</td>\n",
       "    </tr>\n",
       "    <tr>\n",
       "      <th id=\"T_5cfa8_level0_row33\" class=\"row_heading level0 row33\" >44</th>\n",
       "      <td id=\"T_5cfa8_row33_col0\" class=\"data row33 col0\" >Район Кунцево</td>\n",
       "      <td id=\"T_5cfa8_row33_col1\" class=\"data row33 col1\" >6</td>\n",
       "    </tr>\n",
       "    <tr>\n",
       "      <th id=\"T_5cfa8_level0_row34\" class=\"row_heading level0 row34\" >7</th>\n",
       "      <td id=\"T_5cfa8_row34_col0\" class=\"data row34 col0\" >Головинский район</td>\n",
       "      <td id=\"T_5cfa8_row34_col1\" class=\"data row34 col1\" >5</td>\n",
       "    </tr>\n",
       "    <tr>\n",
       "      <th id=\"T_5cfa8_level0_row35\" class=\"row_heading level0 row35\" >97</th>\n",
       "      <td id=\"T_5cfa8_row35_col0\" class=\"data row35 col0\" >Хорошевский район</td>\n",
       "      <td id=\"T_5cfa8_row35_col1\" class=\"data row35 col1\" >5</td>\n",
       "    </tr>\n",
       "    <tr>\n",
       "      <th id=\"T_5cfa8_level0_row36\" class=\"row_heading level0 row36\" >89</th>\n",
       "      <td id=\"T_5cfa8_row36_col0\" class=\"data row36 col0\" >Район Южное Тушино</td>\n",
       "      <td id=\"T_5cfa8_row36_col1\" class=\"data row36 col1\" >5</td>\n",
       "    </tr>\n",
       "    <tr>\n",
       "      <th id=\"T_5cfa8_level0_row37\" class=\"row_heading level0 row37\" >66</th>\n",
       "      <td id=\"T_5cfa8_row37_col0\" class=\"data row37 col0\" >Район Ростокино</td>\n",
       "      <td id=\"T_5cfa8_row37_col1\" class=\"data row37 col1\" >5</td>\n",
       "    </tr>\n",
       "    <tr>\n",
       "      <th id=\"T_5cfa8_level0_row38\" class=\"row_heading level0 row38\" >57</th>\n",
       "      <td id=\"T_5cfa8_row38_col0\" class=\"data row38 col0\" >Район Ново-Переделкино</td>\n",
       "      <td id=\"T_5cfa8_row38_col1\" class=\"data row38 col1\" >5</td>\n",
       "    </tr>\n",
       "    <tr>\n",
       "      <th id=\"T_5cfa8_level0_row39\" class=\"row_heading level0 row39\" >55</th>\n",
       "      <td id=\"T_5cfa8_row39_col0\" class=\"data row39 col0\" >Район Митино</td>\n",
       "      <td id=\"T_5cfa8_row39_col1\" class=\"data row39 col1\" >5</td>\n",
       "    </tr>\n",
       "    <tr>\n",
       "      <th id=\"T_5cfa8_level0_row40\" class=\"row_heading level0 row40\" >91</th>\n",
       "      <td id=\"T_5cfa8_row40_col0\" class=\"data row40 col0\" >Район Ясенево</td>\n",
       "      <td id=\"T_5cfa8_row40_col1\" class=\"data row40 col1\" >5</td>\n",
       "    </tr>\n",
       "    <tr>\n",
       "      <th id=\"T_5cfa8_level0_row41\" class=\"row_heading level0 row41\" >92</th>\n",
       "      <td id=\"T_5cfa8_row41_col0\" class=\"data row41 col0\" >Рязанский район</td>\n",
       "      <td id=\"T_5cfa8_row41_col1\" class=\"data row41 col1\" >5</td>\n",
       "    </tr>\n",
       "    <tr>\n",
       "      <th id=\"T_5cfa8_level0_row42\" class=\"row_heading level0 row42\" >86</th>\n",
       "      <td id=\"T_5cfa8_row42_col0\" class=\"data row42 col0\" >Район Щукино</td>\n",
       "      <td id=\"T_5cfa8_row42_col1\" class=\"data row42 col1\" >5</td>\n",
       "    </tr>\n",
       "    <tr>\n",
       "      <th id=\"T_5cfa8_level0_row43\" class=\"row_heading level0 row43\" >30</th>\n",
       "      <td id=\"T_5cfa8_row43_col0\" class=\"data row43 col0\" >Район Выхино-Жулебино</td>\n",
       "      <td id=\"T_5cfa8_row43_col1\" class=\"data row43 col1\" >5</td>\n",
       "    </tr>\n",
       "    <tr>\n",
       "      <th id=\"T_5cfa8_level0_row44\" class=\"row_heading level0 row44\" >98</th>\n",
       "      <td id=\"T_5cfa8_row44_col0\" class=\"data row44 col0\" >Южнопортовый Район</td>\n",
       "      <td id=\"T_5cfa8_row44_col1\" class=\"data row44 col1\" >5</td>\n",
       "    </tr>\n",
       "    <tr>\n",
       "      <th id=\"T_5cfa8_level0_row45\" class=\"row_heading level0 row45\" >43</th>\n",
       "      <td id=\"T_5cfa8_row45_col0\" class=\"data row45 col0\" >Район Кузьминки</td>\n",
       "      <td id=\"T_5cfa8_row45_col1\" class=\"data row45 col1\" >4</td>\n",
       "    </tr>\n",
       "    <tr>\n",
       "      <th id=\"T_5cfa8_level0_row46\" class=\"row_heading level0 row46\" >62</th>\n",
       "      <td id=\"T_5cfa8_row46_col0\" class=\"data row46 col0\" >Район Печатники</td>\n",
       "      <td id=\"T_5cfa8_row46_col1\" class=\"data row46 col1\" >4</td>\n",
       "    </tr>\n",
       "    <tr>\n",
       "      <th id=\"T_5cfa8_level0_row47\" class=\"row_heading level0 row47\" >59</th>\n",
       "      <td id=\"T_5cfa8_row47_col0\" class=\"data row47 col0\" >Район Отрадное</td>\n",
       "      <td id=\"T_5cfa8_row47_col1\" class=\"data row47 col1\" >4</td>\n",
       "    </tr>\n",
       "    <tr>\n",
       "      <th id=\"T_5cfa8_level0_row48\" class=\"row_heading level0 row48\" >35</th>\n",
       "      <td id=\"T_5cfa8_row48_col0\" class=\"data row48 col0\" >Район Зюзино</td>\n",
       "      <td id=\"T_5cfa8_row48_col1\" class=\"data row48 col1\" >4</td>\n",
       "    </tr>\n",
       "    <tr>\n",
       "      <th id=\"T_5cfa8_level0_row49\" class=\"row_heading level0 row49\" >67</th>\n",
       "      <td id=\"T_5cfa8_row49_col0\" class=\"data row49 col0\" >Район Свиблово</td>\n",
       "      <td id=\"T_5cfa8_row49_col1\" class=\"data row49 col1\" >4</td>\n",
       "    </tr>\n",
       "    <tr>\n",
       "      <th id=\"T_5cfa8_level0_row50\" class=\"row_heading level0 row50\" >72</th>\n",
       "      <td id=\"T_5cfa8_row50_col0\" class=\"data row50 col0\" >Район Сокол</td>\n",
       "      <td id=\"T_5cfa8_row50_col1\" class=\"data row50 col1\" >4</td>\n",
       "    </tr>\n",
       "    <tr>\n",
       "      <th id=\"T_5cfa8_level0_row51\" class=\"row_heading level0 row51\" >39</th>\n",
       "      <td id=\"T_5cfa8_row51_col0\" class=\"data row51 col0\" >Район Коптево</td>\n",
       "      <td id=\"T_5cfa8_row51_col1\" class=\"data row51 col1\" >4</td>\n",
       "    </tr>\n",
       "    <tr>\n",
       "      <th id=\"T_5cfa8_level0_row52\" class=\"row_heading level0 row52\" >40</th>\n",
       "      <td id=\"T_5cfa8_row52_col0\" class=\"data row52 col0\" >Район Косино-Ухтомский</td>\n",
       "      <td id=\"T_5cfa8_row52_col1\" class=\"data row52 col1\" >4</td>\n",
       "    </tr>\n",
       "    <tr>\n",
       "      <th id=\"T_5cfa8_level0_row53\" class=\"row_heading level0 row53\" >16</th>\n",
       "      <td id=\"T_5cfa8_row53_col0\" class=\"data row53 col0\" >Нагорный район</td>\n",
       "      <td id=\"T_5cfa8_row53_col1\" class=\"data row53 col1\" >4</td>\n",
       "    </tr>\n",
       "    <tr>\n",
       "      <th id=\"T_5cfa8_level0_row54\" class=\"row_heading level0 row54\" >32</th>\n",
       "      <td id=\"T_5cfa8_row54_col0\" class=\"data row54 col0\" >Район Дорогомилово</td>\n",
       "      <td id=\"T_5cfa8_row54_col1\" class=\"data row54 col1\" >4</td>\n",
       "    </tr>\n",
       "    <tr>\n",
       "      <th id=\"T_5cfa8_level0_row55\" class=\"row_heading level0 row55\" >31</th>\n",
       "      <td id=\"T_5cfa8_row55_col0\" class=\"data row55 col0\" >Район Гольяново</td>\n",
       "      <td id=\"T_5cfa8_row55_col1\" class=\"data row55 col1\" >4</td>\n",
       "    </tr>\n",
       "    <tr>\n",
       "      <th id=\"T_5cfa8_level0_row56\" class=\"row_heading level0 row56\" >2</th>\n",
       "      <td id=\"T_5cfa8_row56_col0\" class=\"data row56 col0\" >Бабушкинский район</td>\n",
       "      <td id=\"T_5cfa8_row56_col1\" class=\"data row56 col1\" >4</td>\n",
       "    </tr>\n",
       "    <tr>\n",
       "      <th id=\"T_5cfa8_level0_row57\" class=\"row_heading level0 row57\" >70</th>\n",
       "      <td id=\"T_5cfa8_row57_col0\" class=\"data row57 col0\" >Район Северное Медведково</td>\n",
       "      <td id=\"T_5cfa8_row57_col1\" class=\"data row57 col1\" >3</td>\n",
       "    </tr>\n",
       "    <tr>\n",
       "      <th id=\"T_5cfa8_level0_row58\" class=\"row_heading level0 row58\" >24</th>\n",
       "      <td id=\"T_5cfa8_row58_col0\" class=\"data row58 col0\" >Район Беговой</td>\n",
       "      <td id=\"T_5cfa8_row58_col1\" class=\"data row58 col1\" >3</td>\n",
       "    </tr>\n",
       "    <tr>\n",
       "      <th id=\"T_5cfa8_level0_row59\" class=\"row_heading level0 row59\" >99</th>\n",
       "      <td id=\"T_5cfa8_row59_col0\" class=\"data row59 col0\" >Ярославский Район</td>\n",
       "      <td id=\"T_5cfa8_row59_col1\" class=\"data row59 col1\" >3</td>\n",
       "    </tr>\n",
       "    <tr>\n",
       "      <th id=\"T_5cfa8_level0_row60\" class=\"row_heading level0 row60\" >65</th>\n",
       "      <td id=\"T_5cfa8_row60_col0\" class=\"data row60 col0\" >Район Раменки</td>\n",
       "      <td id=\"T_5cfa8_row60_col1\" class=\"data row60 col1\" >3</td>\n",
       "    </tr>\n",
       "    <tr>\n",
       "      <th id=\"T_5cfa8_level0_row61\" class=\"row_heading level0 row61\" >63</th>\n",
       "      <td id=\"T_5cfa8_row61_col0\" class=\"data row61 col0\" >Район Покровское-Стрешнево</td>\n",
       "      <td id=\"T_5cfa8_row61_col1\" class=\"data row61 col1\" >3</td>\n",
       "    </tr>\n",
       "    <tr>\n",
       "      <th id=\"T_5cfa8_level0_row62\" class=\"row_heading level0 row62\" >25</th>\n",
       "      <td id=\"T_5cfa8_row62_col0\" class=\"data row62 col0\" >Район Бирюлево Восточное</td>\n",
       "      <td id=\"T_5cfa8_row62_col1\" class=\"data row62 col1\" >3</td>\n",
       "    </tr>\n",
       "    <tr>\n",
       "      <th id=\"T_5cfa8_level0_row63\" class=\"row_heading level0 row63\" >61</th>\n",
       "      <td id=\"T_5cfa8_row63_col0\" class=\"data row63 col0\" >Район Перово</td>\n",
       "      <td id=\"T_5cfa8_row63_col1\" class=\"data row63 col1\" >3</td>\n",
       "    </tr>\n",
       "    <tr>\n",
       "      <th id=\"T_5cfa8_level0_row64\" class=\"row_heading level0 row64\" >58</th>\n",
       "      <td id=\"T_5cfa8_row64_col0\" class=\"data row64 col0\" >Район Новогиреево</td>\n",
       "      <td id=\"T_5cfa8_row64_col1\" class=\"data row64 col1\" >3</td>\n",
       "    </tr>\n",
       "    <tr>\n",
       "      <th id=\"T_5cfa8_level0_row65\" class=\"row_heading level0 row65\" >19</th>\n",
       "      <td id=\"T_5cfa8_row65_col0\" class=\"data row65 col0\" >Останкинский район</td>\n",
       "      <td id=\"T_5cfa8_row65_col1\" class=\"data row65 col1\" >3</td>\n",
       "    </tr>\n",
       "    <tr>\n",
       "      <th id=\"T_5cfa8_level0_row66\" class=\"row_heading level0 row66\" >60</th>\n",
       "      <td id=\"T_5cfa8_row66_col0\" class=\"data row66 col0\" >Район Очаково-Матвеевское</td>\n",
       "      <td id=\"T_5cfa8_row66_col1\" class=\"data row66 col1\" >2</td>\n",
       "    </tr>\n",
       "    <tr>\n",
       "      <th id=\"T_5cfa8_level0_row67\" class=\"row_heading level0 row67\" >77</th>\n",
       "      <td id=\"T_5cfa8_row67_col0\" class=\"data row67 col0\" >Район Текстильщики</td>\n",
       "      <td id=\"T_5cfa8_row67_col1\" class=\"data row67 col1\" >2</td>\n",
       "    </tr>\n",
       "    <tr>\n",
       "      <th id=\"T_5cfa8_level0_row68\" class=\"row_heading level0 row68\" >83</th>\n",
       "      <td id=\"T_5cfa8_row68_col0\" class=\"data row68 col0\" >Район Черемушки</td>\n",
       "      <td id=\"T_5cfa8_row68_col1\" class=\"data row68 col1\" >2</td>\n",
       "    </tr>\n",
       "    <tr>\n",
       "      <th id=\"T_5cfa8_level0_row69\" class=\"row_heading level0 row69\" >82</th>\n",
       "      <td id=\"T_5cfa8_row69_col0\" class=\"data row69 col0\" >Район Царицыно</td>\n",
       "      <td id=\"T_5cfa8_row69_col1\" class=\"data row69 col1\" >2</td>\n",
       "    </tr>\n",
       "    <tr>\n",
       "      <th id=\"T_5cfa8_level0_row70\" class=\"row_heading level0 row70\" >45</th>\n",
       "      <td id=\"T_5cfa8_row70_col0\" class=\"data row70 col0\" >Район Куркино</td>\n",
       "      <td id=\"T_5cfa8_row70_col1\" class=\"data row70 col1\" >2</td>\n",
       "    </tr>\n",
       "    <tr>\n",
       "      <th id=\"T_5cfa8_level0_row71\" class=\"row_heading level0 row71\" >4</th>\n",
       "      <td id=\"T_5cfa8_row71_col0\" class=\"data row71 col0\" >Бескудниковский Район</td>\n",
       "      <td id=\"T_5cfa8_row71_col1\" class=\"data row71 col1\" >2</td>\n",
       "    </tr>\n",
       "    <tr>\n",
       "      <th id=\"T_5cfa8_level0_row72\" class=\"row_heading level0 row72\" >79</th>\n",
       "      <td id=\"T_5cfa8_row72_col0\" class=\"data row72 col0\" >Район Фили-Давыдково</td>\n",
       "      <td id=\"T_5cfa8_row72_col1\" class=\"data row72 col1\" >2</td>\n",
       "    </tr>\n",
       "    <tr>\n",
       "      <th id=\"T_5cfa8_level0_row73\" class=\"row_heading level0 row73\" >20</th>\n",
       "      <td id=\"T_5cfa8_row73_col0\" class=\"data row73 col0\" >Панфиловский район</td>\n",
       "      <td id=\"T_5cfa8_row73_col1\" class=\"data row73 col1\" >2</td>\n",
       "    </tr>\n",
       "    <tr>\n",
       "      <th id=\"T_5cfa8_level0_row74\" class=\"row_heading level0 row74\" >5</th>\n",
       "      <td id=\"T_5cfa8_row74_col0\" class=\"data row74 col0\" >Бутырский район</td>\n",
       "      <td id=\"T_5cfa8_row74_col1\" class=\"data row74 col1\" >2</td>\n",
       "    </tr>\n",
       "    <tr>\n",
       "      <th id=\"T_5cfa8_level0_row75\" class=\"row_heading level0 row75\" >41</th>\n",
       "      <td id=\"T_5cfa8_row75_col0\" class=\"data row75 col0\" >Район Котловка</td>\n",
       "      <td id=\"T_5cfa8_row75_col1\" class=\"data row75 col1\" >2</td>\n",
       "    </tr>\n",
       "    <tr>\n",
       "      <th id=\"T_5cfa8_level0_row76\" class=\"row_heading level0 row76\" >6</th>\n",
       "      <td id=\"T_5cfa8_row76_col0\" class=\"data row76 col0\" >Войковский Район</td>\n",
       "      <td id=\"T_5cfa8_row76_col1\" class=\"data row76 col1\" >2</td>\n",
       "    </tr>\n",
       "    <tr>\n",
       "      <th id=\"T_5cfa8_level0_row77\" class=\"row_heading level0 row77\" >53</th>\n",
       "      <td id=\"T_5cfa8_row77_col0\" class=\"data row77 col0\" >Район Матушкино-Савелки</td>\n",
       "      <td id=\"T_5cfa8_row77_col1\" class=\"data row77 col1\" >2</td>\n",
       "    </tr>\n",
       "    <tr>\n",
       "      <th id=\"T_5cfa8_level0_row78\" class=\"row_heading level0 row78\" >71</th>\n",
       "      <td id=\"T_5cfa8_row78_col0\" class=\"data row78 col0\" >Район Северный</td>\n",
       "      <td id=\"T_5cfa8_row78_col1\" class=\"data row78 col1\" >2</td>\n",
       "    </tr>\n",
       "    <tr>\n",
       "      <th id=\"T_5cfa8_level0_row79\" class=\"row_heading level0 row79\" >38</th>\n",
       "      <td id=\"T_5cfa8_row79_col0\" class=\"data row79 col0\" >Район Коньково</td>\n",
       "      <td id=\"T_5cfa8_row79_col1\" class=\"data row79 col1\" >2</td>\n",
       "    </tr>\n",
       "    <tr>\n",
       "      <th id=\"T_5cfa8_level0_row80\" class=\"row_heading level0 row80\" >69</th>\n",
       "      <td id=\"T_5cfa8_row80_col0\" class=\"data row80 col0\" >Район Северное Измайлово</td>\n",
       "      <td id=\"T_5cfa8_row80_col1\" class=\"data row80 col1\" >2</td>\n",
       "    </tr>\n",
       "    <tr>\n",
       "      <th id=\"T_5cfa8_level0_row81\" class=\"row_heading level0 row81\" >68</th>\n",
       "      <td id=\"T_5cfa8_row81_col0\" class=\"data row81 col0\" >Район Северное Бутово</td>\n",
       "      <td id=\"T_5cfa8_row81_col1\" class=\"data row81 col1\" >2</td>\n",
       "    </tr>\n",
       "    <tr>\n",
       "      <th id=\"T_5cfa8_level0_row82\" class=\"row_heading level0 row82\" >28</th>\n",
       "      <td id=\"T_5cfa8_row82_col0\" class=\"data row82 col0\" >Район Восточное Измайлово</td>\n",
       "      <td id=\"T_5cfa8_row82_col1\" class=\"data row82 col1\" >2</td>\n",
       "    </tr>\n",
       "    <tr>\n",
       "      <th id=\"T_5cfa8_level0_row83\" class=\"row_heading level0 row83\" >85</th>\n",
       "      <td id=\"T_5cfa8_row83_col0\" class=\"data row83 col0\" >Район Чертаново Южное</td>\n",
       "      <td id=\"T_5cfa8_row83_col1\" class=\"data row83 col1\" >1</td>\n",
       "    </tr>\n",
       "    <tr>\n",
       "      <th id=\"T_5cfa8_level0_row84\" class=\"row_heading level0 row84\" >88</th>\n",
       "      <td id=\"T_5cfa8_row84_col0\" class=\"data row84 col0\" >Район Южное Медведково</td>\n",
       "      <td id=\"T_5cfa8_row84_col1\" class=\"data row84 col1\" >1</td>\n",
       "    </tr>\n",
       "    <tr>\n",
       "      <th id=\"T_5cfa8_level0_row85\" class=\"row_heading level0 row85\" >18</th>\n",
       "      <td id=\"T_5cfa8_row85_col0\" class=\"data row85 col0\" >Обручевский район</td>\n",
       "      <td id=\"T_5cfa8_row85_col1\" class=\"data row85 col1\" >1</td>\n",
       "    </tr>\n",
       "    <tr>\n",
       "      <th id=\"T_5cfa8_level0_row86\" class=\"row_heading level0 row86\" >84</th>\n",
       "      <td id=\"T_5cfa8_row86_col0\" class=\"data row86 col0\" >Район Чертаново Северное</td>\n",
       "      <td id=\"T_5cfa8_row86_col1\" class=\"data row86 col1\" >1</td>\n",
       "    </tr>\n",
       "    <tr>\n",
       "      <th id=\"T_5cfa8_level0_row87\" class=\"row_heading level0 row87\" >78</th>\n",
       "      <td id=\"T_5cfa8_row87_col0\" class=\"data row87 col0\" >Район Филевский Парк</td>\n",
       "      <td id=\"T_5cfa8_row87_col1\" class=\"data row87 col1\" >1</td>\n",
       "    </tr>\n",
       "    <tr>\n",
       "      <th id=\"T_5cfa8_level0_row88\" class=\"row_heading level0 row88\" >76</th>\n",
       "      <td id=\"T_5cfa8_row88_col0\" class=\"data row88 col0\" >Район Строгино</td>\n",
       "      <td id=\"T_5cfa8_row88_col1\" class=\"data row88 col1\" >1</td>\n",
       "    </tr>\n",
       "    <tr>\n",
       "      <th id=\"T_5cfa8_level0_row89\" class=\"row_heading level0 row89\" >15</th>\n",
       "      <td id=\"T_5cfa8_row89_col0\" class=\"data row89 col0\" >Молжаниновский район</td>\n",
       "      <td id=\"T_5cfa8_row89_col1\" class=\"data row89 col1\" >1</td>\n",
       "    </tr>\n",
       "    <tr>\n",
       "      <th id=\"T_5cfa8_level0_row90\" class=\"row_heading level0 row90\" >56</th>\n",
       "      <td id=\"T_5cfa8_row90_col0\" class=\"data row90 col0\" >Район Москворечье-Сабурово</td>\n",
       "      <td id=\"T_5cfa8_row90_col1\" class=\"data row90 col1\" >1</td>\n",
       "    </tr>\n",
       "    <tr>\n",
       "      <th id=\"T_5cfa8_level0_row91\" class=\"row_heading level0 row91\" >54</th>\n",
       "      <td id=\"T_5cfa8_row91_col0\" class=\"data row91 col0\" >Район Метрогородок</td>\n",
       "      <td id=\"T_5cfa8_row91_col1\" class=\"data row91 col1\" >1</td>\n",
       "    </tr>\n",
       "    <tr>\n",
       "      <th id=\"T_5cfa8_level0_row92\" class=\"row_heading level0 row92\" >52</th>\n",
       "      <td id=\"T_5cfa8_row92_col0\" class=\"data row92 col0\" >Район Марьино</td>\n",
       "      <td id=\"T_5cfa8_row92_col1\" class=\"data row92 col1\" >1</td>\n",
       "    </tr>\n",
       "    <tr>\n",
       "      <th id=\"T_5cfa8_level0_row93\" class=\"row_heading level0 row93\" >1</th>\n",
       "      <td id=\"T_5cfa8_row93_col0\" class=\"data row93 col0\" >Алтуфьевский район</td>\n",
       "      <td id=\"T_5cfa8_row93_col1\" class=\"data row93 col1\" >1</td>\n",
       "    </tr>\n",
       "    <tr>\n",
       "      <th id=\"T_5cfa8_level0_row94\" class=\"row_heading level0 row94\" >50</th>\n",
       "      <td id=\"T_5cfa8_row94_col0\" class=\"data row94 col0\" >Район Марфино</td>\n",
       "      <td id=\"T_5cfa8_row94_col1\" class=\"data row94 col1\" >1</td>\n",
       "    </tr>\n",
       "    <tr>\n",
       "      <th id=\"T_5cfa8_level0_row95\" class=\"row_heading level0 row95\" >48</th>\n",
       "      <td id=\"T_5cfa8_row95_col0\" class=\"data row95 col0\" >Район Лианозово</td>\n",
       "      <td id=\"T_5cfa8_row95_col1\" class=\"data row95 col1\" >1</td>\n",
       "    </tr>\n",
       "    <tr>\n",
       "      <th id=\"T_5cfa8_level0_row96\" class=\"row_heading level0 row96\" >46</th>\n",
       "      <td id=\"T_5cfa8_row96_col0\" class=\"data row96 col0\" >Район Левобережный</td>\n",
       "      <td id=\"T_5cfa8_row96_col1\" class=\"data row96 col1\" >1</td>\n",
       "    </tr>\n",
       "    <tr>\n",
       "      <th id=\"T_5cfa8_level0_row97\" class=\"row_heading level0 row97\" >42</th>\n",
       "      <td id=\"T_5cfa8_row97_col0\" class=\"data row97 col0\" >Район Крюково</td>\n",
       "      <td id=\"T_5cfa8_row97_col1\" class=\"data row97 col1\" >1</td>\n",
       "    </tr>\n",
       "    <tr>\n",
       "      <th id=\"T_5cfa8_level0_row98\" class=\"row_heading level0 row98\" >36</th>\n",
       "      <td id=\"T_5cfa8_row98_col0\" class=\"data row98 col0\" >Район Ивановское</td>\n",
       "      <td id=\"T_5cfa8_row98_col1\" class=\"data row98 col1\" >1</td>\n",
       "    </tr>\n",
       "    <tr>\n",
       "      <th id=\"T_5cfa8_level0_row99\" class=\"row_heading level0 row99\" >34</th>\n",
       "      <td id=\"T_5cfa8_row99_col0\" class=\"data row99 col0\" >Район Западное Дегунино</td>\n",
       "      <td id=\"T_5cfa8_row99_col1\" class=\"data row99 col1\" >1</td>\n",
       "    </tr>\n",
       "    <tr>\n",
       "      <th id=\"T_5cfa8_level0_row100\" class=\"row_heading level0 row100\" >29</th>\n",
       "      <td id=\"T_5cfa8_row100_col0\" class=\"data row100 col0\" >Район Восточный</td>\n",
       "      <td id=\"T_5cfa8_row100_col1\" class=\"data row100 col1\" >1</td>\n",
       "    </tr>\n",
       "    <tr>\n",
       "      <th id=\"T_5cfa8_level0_row101\" class=\"row_heading level0 row101\" >101</th>\n",
       "      <td id=\"T_5cfa8_row101_col0\" class=\"data row101 col0\" >район Кузьминки</td>\n",
       "      <td id=\"T_5cfa8_row101_col1\" class=\"data row101 col1\" >1</td>\n",
       "    </tr>\n",
       "  </tbody>\n",
       "</table>\n"
      ],
      "text/plain": [
       "<pandas.io.formats.style.Styler at 0x11f5df370>"
      ]
     },
     "execution_count": 100,
     "metadata": {},
     "output_type": "execute_result"
    }
   ],
   "source": [
    "(areas_wth_one_ob_street\n",
    " .sort_values(by='count_of_one_object_streets', ascending=False)\n",
    " .style\n",
    " .format(\"{}\")\n",
    " .background_gradient(cmap='Blues', axis=0)\n",
    ")"
   ]
  },
  {
   "cell_type": "markdown",
   "id": "ebc1f8b2-5331-4576-aaae-ae29cbc39b63",
   "metadata": {},
   "source": [
    "### Вывод"
   ]
  },
  {
   "cell_type": "markdown",
   "id": "312b3354-22fd-4c0f-bb68-c4b851746ea6",
   "metadata": {},
   "source": [
    "* У нас 574 улиц имеют 1 объект общественного питания. \n",
    "\n",
    "* Список этих улиц можно получить из датафрейма streets_wth_one_ob.\n",
    "\n",
    "* 53 улицы находится за МКАДом, районы Новой Москвы и подобного. Мы не определяли точные районы для них. В любом случае это будет несколько локаций, а не одна.\n",
    "\n",
    "* Больше всего улиц с 1 объектом в черте МКАД находится в следующих районах Москвы: Таганский, Хамовники, Басманный."
   ]
  },
  {
   "cell_type": "markdown",
   "id": "35698ad4-6f3e-4aff-b7f1-649119a05371",
   "metadata": {},
   "source": [
    "## Распределение количества посадочных мест для улиц с большим количеством объектов общественного питания. Какие закономерности можно выявить"
   ]
  },
  {
   "cell_type": "markdown",
   "id": "e5f6495c-fe1e-4d6f-b58e-6defb35181f2",
   "metadata": {},
   "source": [
    "Отфильтруем данные только для топ-10 улиц с большим количеством объектов общественного питания."
   ]
  },
  {
   "cell_type": "code",
   "execution_count": 104,
   "id": "73dcdbcc-28b2-4fb2-acda-373d79bd79fc",
   "metadata": {
    "tags": []
   },
   "outputs": [
    {
     "data": {
      "text/html": [
       "<div>\n",
       "<style scoped>\n",
       "    .dataframe tbody tr th:only-of-type {\n",
       "        vertical-align: middle;\n",
       "    }\n",
       "\n",
       "    .dataframe tbody tr th {\n",
       "        vertical-align: top;\n",
       "    }\n",
       "\n",
       "    .dataframe thead th {\n",
       "        text-align: right;\n",
       "    }\n",
       "</style>\n",
       "<table border=\"1\" class=\"dataframe\">\n",
       "  <thead>\n",
       "    <tr style=\"text-align: right;\">\n",
       "      <th></th>\n",
       "      <th>id</th>\n",
       "      <th>object_name</th>\n",
       "      <th>chain</th>\n",
       "      <th>object_type</th>\n",
       "      <th>address</th>\n",
       "      <th>number</th>\n",
       "      <th>chain_name</th>\n",
       "      <th>street_name</th>\n",
       "    </tr>\n",
       "  </thead>\n",
       "  <tbody>\n",
       "    <tr>\n",
       "      <th>151</th>\n",
       "      <td>155973</td>\n",
       "      <td>Кафе «Андерсон»</td>\n",
       "      <td>да</td>\n",
       "      <td>кафе</td>\n",
       "      <td>город Москва, Варшавское шоссе, дом 2</td>\n",
       "      <td>150</td>\n",
       "      <td>кафе АндерСон</td>\n",
       "      <td>Варшавское шоссе</td>\n",
       "    </tr>\n",
       "    <tr>\n",
       "      <th>152</th>\n",
       "      <td>23618</td>\n",
       "      <td>Кафе «Subway»</td>\n",
       "      <td>да</td>\n",
       "      <td>кафе</td>\n",
       "      <td>город Москва, Варшавское шоссе, дом 7, корпус 1</td>\n",
       "      <td>36</td>\n",
       "      <td>Subway</td>\n",
       "      <td>Варшавское шоссе</td>\n",
       "    </tr>\n",
       "    <tr>\n",
       "      <th>153</th>\n",
       "      <td>155852</td>\n",
       "      <td>Кафе «Ламаджо»</td>\n",
       "      <td>нет</td>\n",
       "      <td>кафе</td>\n",
       "      <td>город Москва, Варшавское шоссе, дом 29</td>\n",
       "      <td>30</td>\n",
       "      <td>unknown</td>\n",
       "      <td>Варшавское шоссе</td>\n",
       "    </tr>\n",
       "    <tr>\n",
       "      <th>154</th>\n",
       "      <td>152556</td>\n",
       "      <td>Шаурма в пите</td>\n",
       "      <td>нет</td>\n",
       "      <td>предприятие быстрого обслуживания</td>\n",
       "      <td>город Москва, Варшавское шоссе, дом 72, корпус 2</td>\n",
       "      <td>0</td>\n",
       "      <td>unknown</td>\n",
       "      <td>Варшавское шоссе</td>\n",
       "    </tr>\n",
       "    <tr>\n",
       "      <th>155</th>\n",
       "      <td>120658</td>\n",
       "      <td>Выпечка</td>\n",
       "      <td>нет</td>\n",
       "      <td>кафетерий</td>\n",
       "      <td>город Москва, Варшавское шоссе, дом 100</td>\n",
       "      <td>2</td>\n",
       "      <td>unknown</td>\n",
       "      <td>Варшавское шоссе</td>\n",
       "    </tr>\n",
       "  </tbody>\n",
       "</table>\n",
       "</div>"
      ],
      "text/plain": [
       "         id      object_name chain                        object_type  \\\n",
       "151  155973  Кафе «Андерсон»    да                               кафе   \n",
       "152   23618    Кафе «Subway»    да                               кафе   \n",
       "153  155852   Кафе «Ламаджо»   нет                               кафе   \n",
       "154  152556    Шаурма в пите   нет  предприятие быстрого обслуживания   \n",
       "155  120658          Выпечка   нет                          кафетерий   \n",
       "\n",
       "                                              address  number     chain_name  \\\n",
       "151             город Москва, Варшавское шоссе, дом 2     150  кафе АндерСон   \n",
       "152   город Москва, Варшавское шоссе, дом 7, корпус 1      36         Subway   \n",
       "153            город Москва, Варшавское шоссе, дом 29      30        unknown   \n",
       "154  город Москва, Варшавское шоссе, дом 72, корпус 2       0        unknown   \n",
       "155           город Москва, Варшавское шоссе, дом 100       2        unknown   \n",
       "\n",
       "          street_name  \n",
       "151  Варшавское шоссе  \n",
       "152  Варшавское шоссе  \n",
       "153  Варшавское шоссе  \n",
       "154  Варшавское шоссе  \n",
       "155  Варшавское шоссе  "
      ]
     },
     "execution_count": 104,
     "metadata": {},
     "output_type": "execute_result"
    }
   ],
   "source": [
    "top10streets = top10streets.reset_index()\n",
    "for_top10 = df[df['street_name'].isin(top10streets['street_name'].tolist())]\n",
    "for_top10.head()"
   ]
  },
  {
   "cell_type": "markdown",
   "id": "2813a2f6-58a4-41d9-a20b-263396ee34c2",
   "metadata": {},
   "source": [
    "Посмотрим на описательную статистику для числа посадочных мест для топ-10 улиц с большим количеством заведений."
   ]
  },
  {
   "cell_type": "code",
   "execution_count": 105,
   "id": "67121ac3-d81d-4384-88d3-18cae3538009",
   "metadata": {},
   "outputs": [
    {
     "data": {
      "text/plain": [
       "count    1496.000000\n",
       "mean       58.232620\n",
       "std        90.213048\n",
       "min         0.000000\n",
       "25%        12.000000\n",
       "50%        40.000000\n",
       "75%        75.000000\n",
       "max      1700.000000\n",
       "Name: number, dtype: float64"
      ]
     },
     "execution_count": 105,
     "metadata": {},
     "output_type": "execute_result"
    }
   ],
   "source": [
    "for_top10['number'].describe()"
   ]
  },
  {
   "cell_type": "code",
   "execution_count": 106,
   "id": "cc9e0b85-02a1-4c7b-8770-279fcffcee5c",
   "metadata": {},
   "outputs": [
    {
     "data": {
      "image/png": "[encoded data removed]",
      "text/plain": [
       "<Figure size 1400x800 with 1 Axes>"
      ]
     },
     "metadata": {},
     "output_type": "display_data"
    }
   ],
   "source": [
    "plt.figure(figsize=(14,8))\n",
    "sns.set_palette('pastel')\n",
    "sns.boxplot(x=\"number\", y=\"street_name\", data=for_top10, orient='h')\n",
    "plt.xlim(0,700)\n",
    "#plt.xticks(rotation=60)\n",
    "plt.title('Диаграма размаха числа посадочных мест для топ-10 улиц по количеству объектов \\n',fontsize=20)\n",
    "plt.xlabel('\\nЧисло посадочных мест\\n')\n",
    "plt.yticks(fontsize=14)\n",
    "plt.ylabel('\\nУлицы с большим количеством объектов')\n",
    "plt.xticks(fontsize=14)\n",
    "plt.show();"
   ]
  },
  {
   "cell_type": "code",
   "execution_count": 107,
   "id": "825756aa-fdd0-47c7-8a81-729d66bbcd3c",
   "metadata": {},
   "outputs": [
    {
     "data": {
      "text/plain": [
       "count    167.000000\n",
       "mean      45.844311\n",
       "std       65.316834\n",
       "min        0.000000\n",
       "25%        8.500000\n",
       "50%       30.000000\n",
       "75%       50.000000\n",
       "max      478.000000\n",
       "Name: number, dtype: float64"
      ]
     },
     "execution_count": 107,
     "metadata": {},
     "output_type": "execute_result"
    }
   ],
   "source": [
    "for_top10[for_top10['street_name']=='Пресненская набережная']['number'].describe()"
   ]
  },
  {
   "cell_type": "code",
   "execution_count": 108,
   "id": "d69f4f51-fd3f-4539-9f54-7a97fde259bc",
   "metadata": {},
   "outputs": [
    {
     "data": {
      "text/plain": [
       "count     114.000000\n",
       "mean       85.061404\n",
       "std       194.464196\n",
       "min         0.000000\n",
       "25%        20.000000\n",
       "50%        40.000000\n",
       "75%        96.000000\n",
       "max      1700.000000\n",
       "Name: number, dtype: float64"
      ]
     },
     "execution_count": 108,
     "metadata": {},
     "output_type": "execute_result"
    }
   ],
   "source": [
    "for_top10[for_top10['street_name']=='Кутузовский проспект']['number'].describe()"
   ]
  },
  {
   "cell_type": "markdown",
   "id": "4cbabd11-415b-4753-b777-4583a214c33d",
   "metadata": {},
   "source": [
    "Посмотрим также на размах значений посадочных мест для всех остальных улиц. "
   ]
  },
  {
   "cell_type": "code",
   "execution_count": 109,
   "id": "c64e145a-4214-477c-b4ed-f482fbcd104c",
   "metadata": {},
   "outputs": [
    {
     "data": {
      "text/plain": [
       "count    13788.000000\n",
       "mean        59.952713\n",
       "std         72.977933\n",
       "min          0.000000\n",
       "25%         14.000000\n",
       "50%         40.000000\n",
       "75%         80.000000\n",
       "max       1500.000000\n",
       "Name: number, dtype: float64"
      ]
     },
     "execution_count": 109,
     "metadata": {},
     "output_type": "execute_result"
    }
   ],
   "source": [
    "top10 = for_top10[\"street_name\"].tolist()\n",
    "df.query('street_name not in @top10')['number'].describe()"
   ]
  },
  {
   "cell_type": "markdown",
   "id": "0fb8bc78-2fde-4088-a738-94ee9fda4b52",
   "metadata": {},
   "source": [
    "Большой разницы не наблюдается."
   ]
  },
  {
   "cell_type": "markdown",
   "id": "bfdd66b9-440c-4242-b720-3a6be2700780",
   "metadata": {},
   "source": [
    "### Вывод"
   ]
  },
  {
   "cell_type": "markdown",
   "id": "5fb2450b-f68a-4797-9d80-db686e613777",
   "metadata": {},
   "source": [
    "* Выделяются Пресненская набережная и Кутузовский проспект. \n",
    "\n",
    "* Пресненская набережная проходит только через ЦАО и имеет маленькую протяженность. Здесь межквартильный размах значений уже всего, в среднем количество посадочных мест меньше в сравнении с остальными улицами. Возможно, для объектов центральных райнов Москвы характерно в среднем маленькое количество посадочных мест. Но для этого все же нужно изучить пристально другие объекты в ЦАО с точки зрения посадочных мест. Тут же у нас только один район из ЦАО. \n",
    "    \n",
    "* Кутузовский проспект, наоборот, выделяется среди топ-10 наибольшим межквартильным размахом, 75% объектов имеют 96 посадочных мест."
   ]
  },
  {
   "cell_type": "markdown",
   "id": "662587a1-950f-4ab4-a32f-d511280035a9",
   "metadata": {},
   "source": [
    "<a name='stage_3'></a>\n",
    "# Шаг 3. Общий вывод, рекомендации\n",
    "[Назад к оглавлению](#contents)"
   ]
  },
  {
   "cell_type": "markdown",
   "id": "2a254c0f-f4b8-471f-bb32-ebdc39a5f150",
   "metadata": {},
   "source": [
    "* Мы проанализировали 15 284 записей о 15 284 объектах общественного питания, включая объекты новых округов Москвы за МКАДом.  \n",
    "\n",
    "* В Москве чаще всего представлены кафе, столовые и рестораны.\n",
    "\n",
    "* Сетевые объекты составляют примерно 20% от всех данных. 80% объектов не являются сетевыми. \n",
    "\n",
    "* Сетевое распространение характерно для предприятий быстрого обслуживания, магазинов (отделов кулинарии), ресторанов и кафе.\n",
    "\n",
    "* Для большей части сетей характерно малое количество заведений с большим количеством посадочных мест.\n",
    "\n",
    "* Среднее количество посадочных мест для столовых (103), ресторанов (80), баров(35), буфетов (32), кафе (30).\n",
    "\n",
    "* Большая часть улиц с наибольшим количеством объектов находится в районах ЮЗАО и ЮАО. \n",
    "\n",
    "Полный список таких улиц ниже в порядке убывания по количеству объектов общепита:\n",
    "\n",
    "    проспект Мира\n",
    "    \n",
    "    Профсоюзная улица\n",
    "    \n",
    "    Ленинградский проспект\n",
    "    \n",
    "    Пресненская набережная\n",
    "    \n",
    "    Варшавское шоссе\n",
    "    \n",
    "    Ленинский проспект\n",
    "    \n",
    "    проспект Вернадского\n",
    "    \n",
    "    Кутузовский проспект\n",
    "    \n",
    "    Каширское шоссе\n",
    "    \n",
    "    Кировоградская улица\n",
    "    \n",
    "* 574 улицы имеют только 1 объект общественного питания. \n",
    "Большинство таких улиц находится в районах центрального округа (Хамовники, Басманный, Тверской, Пресненский, Арбат)\n",
    "    \n",
    "* Для улиц в центральном районе, скорее всего, число посадочных мест в среднем будет значительно меньше.\n"
   ]
  },
  {
   "cell_type": "markdown",
   "id": "55dc78ec-cc7a-4a8b-9baa-c055827988b7",
   "metadata": {},
   "source": [
    "##  Рекомендации"
   ]
  },
  {
   "cell_type": "markdown",
   "id": "2358cba4-810c-4177-b7aa-127ce7a02698",
   "metadata": {},
   "source": [
    "У нас очень мало информации от инвесторов и учредителей. Мы только знаем о желании \"открыть небольшое кафе в Москве, которое оригинальное — гостей должны обслуживать роботы и что проект дорогой.\n",
    "\n",
    "Дать целевые рекомендации поэтому трудно. Однако попробуем исходить из того, что мы знаем.\n",
    "\n",
    "* Кафе - это самый популярный вид общественного питания в Москве по данным этого исследования (составляет 39.7% от всех данных), поэтому можно сказать, что учредители выбрали успешный вид объекта.\n",
    "\n",
    "* Кроме того, для кафе как раз характерно небольшое число посадочных мест в сравнении с другими объектами (в среднем 30 посадочных мест). Это как раз вписывается в формат \"небольшого\" кафе. \n",
    "\n",
    "* Если речь идет о небольшом кафе, то в качестве локаций для него можно рассмотреть центральные районы Москвы. Там находится наибольшее число улиц, где только 1 объект общественного питания, а значит, будет меньше конкурентов, и при этом там, похоже, локализуются именно небольшие кафе. \n",
    "\n",
    "* Для кафе характерно сетевое распространение по данным нашего исследования. Если первое кафе будет успешным, можно будет масштабировать бизнес и увеличить прибыль."
   ]
  },
  {
   "cell_type": "markdown",
   "id": "835f021c-dbb5-4569-846a-1dc2e21e7da1",
   "metadata": {},
   "source": [
    "## Доступ к презентации"
   ]
  },
  {
   "cell_type": "markdown",
   "id": "4c8f290f-5383-4d44-93ad-5b103a546024",
   "metadata": {},
   "source": [
    "[Ссылка на презентацию](https://docs.google.com/presentation/d/1S6zuvuKHGLd9cyKFZ7VBelAG7rZNrkI1fsxYJyjtDY4/edit?usp=sharing)"
   ]
  }
 ],
 "metadata": {
  "kernelspec": {
   "display_name": "Python 3 (ipykernel)",
   "language": "python",
   "name": "python3"
  },
  "language_info": {
   "codemirror_mode": {
    "name": "ipython",
    "version": 3
   },
   "file_extension": ".py",
   "mimetype": "text/x-python",
   "name": "python",
   "nbconvert_exporter": "python",
   "pygments_lexer": "ipython3",
   "version": "3.9.13"
  }
 },
 "nbformat": 4,
 "nbformat_minor": 5
}
