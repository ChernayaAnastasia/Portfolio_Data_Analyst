{
 "cells": [
  {
   "cell_type": "markdown",
   "id": "594a0fd8-bf71-4360-80a4-04c1daa5d17e",
   "metadata": {},
   "source": [
    "# Исследование надёжности заёмщиков\n",
    "\n",
    "**Цель исследования** \n",
    "\n",
    "Проверить:\n",
    "\n",
    "1. Есть ли зависимость между наличием детей и возвратом кредита в срок?\n",
    "\n",
    "2. Есть ли зависимость между семейным положением и возвратом кредита в срок?\n",
    "\n",
    "3. Есть ли зависимость между уровнем дохода и возвратом кредита в срок?\n",
    "\n",
    "4. Как разные цели кредита влияют на его возврат в срок?\n",
    "\n",
    "**Входные данные** \n",
    "\n",
    "Статистика о платёжеспособности клиентов от банка.\n",
    "\n",
    "**Заказчик исследования**\n",
    "\n",
    "Кредитный отдел банка. \n",
    "\n",
    "**Практическое применение результатов исследования**\n",
    "\n",
    "Результаты исследования будут учтены при построении модели *кредитного скоринга* — специальной системы, которая оценивает способность потенциального заёмщика вернуть кредит банку."
   ]
  },
  {
   "cell_type": "markdown",
   "id": "95aec17b-4748-49da-a5ed-fd3720f74437",
   "metadata": {},
   "source": [
    "## Шаг 1. Обзор данных"
   ]
  },
  {
   "cell_type": "code",
   "execution_count": 1,
   "id": "575a38cb-756f-49e1-9921-28234fe384b0",
   "metadata": {},
   "outputs": [],
   "source": [
    "# Импортируем библиотеки для проекта\n",
    "import pandas as pd\n",
    "from nltk.corpus import stopwords\n",
    "from pymystem3 import Mystem\n",
    "mystem = Mystem()"
   ]
  },
  {
   "cell_type": "code",
   "execution_count": 2,
   "id": "35f48156-6d15-4036-a66b-be5f14117ef2",
   "metadata": {
    "tags": []
   },
   "outputs": [],
   "source": [
    "# Прочитаем данные и сохраним в df:\n",
    "df = pd.read_csv('data.csv') "
   ]
  },
  {
   "cell_type": "code",
   "execution_count": 3,
   "id": "30a544e9-6d61-4d60-a6b5-cdf6e3ac21bf",
   "metadata": {
    "scrolled": true,
    "tags": []
   },
   "outputs": [
    {
     "data": {
      "text/html": [
       "<div>\n",
       "<style scoped>\n",
       "    .dataframe tbody tr th:only-of-type {\n",
       "        vertical-align: middle;\n",
       "    }\n",
       "\n",
       "    .dataframe tbody tr th {\n",
       "        vertical-align: top;\n",
       "    }\n",
       "\n",
       "    .dataframe thead th {\n",
       "        text-align: right;\n",
       "    }\n",
       "</style>\n",
       "<table border=\"1\" class=\"dataframe\">\n",
       "  <thead>\n",
       "    <tr style=\"text-align: right;\">\n",
       "      <th></th>\n",
       "      <th>children</th>\n",
       "      <th>days_employed</th>\n",
       "      <th>dob_years</th>\n",
       "      <th>education</th>\n",
       "      <th>education_id</th>\n",
       "      <th>family_status</th>\n",
       "      <th>family_status_id</th>\n",
       "      <th>gender</th>\n",
       "      <th>income_type</th>\n",
       "      <th>debt</th>\n",
       "      <th>total_income</th>\n",
       "      <th>purpose</th>\n",
       "    </tr>\n",
       "  </thead>\n",
       "  <tbody>\n",
       "    <tr>\n",
       "      <th>0</th>\n",
       "      <td>1</td>\n",
       "      <td>-8437.673028</td>\n",
       "      <td>42</td>\n",
       "      <td>высшее</td>\n",
       "      <td>0</td>\n",
       "      <td>женат / замужем</td>\n",
       "      <td>0</td>\n",
       "      <td>F</td>\n",
       "      <td>сотрудник</td>\n",
       "      <td>0</td>\n",
       "      <td>253875.639453</td>\n",
       "      <td>покупка жилья</td>\n",
       "    </tr>\n",
       "    <tr>\n",
       "      <th>1</th>\n",
       "      <td>1</td>\n",
       "      <td>-4024.803754</td>\n",
       "      <td>36</td>\n",
       "      <td>среднее</td>\n",
       "      <td>1</td>\n",
       "      <td>женат / замужем</td>\n",
       "      <td>0</td>\n",
       "      <td>F</td>\n",
       "      <td>сотрудник</td>\n",
       "      <td>0</td>\n",
       "      <td>112080.014102</td>\n",
       "      <td>приобретение автомобиля</td>\n",
       "    </tr>\n",
       "    <tr>\n",
       "      <th>2</th>\n",
       "      <td>0</td>\n",
       "      <td>-5623.422610</td>\n",
       "      <td>33</td>\n",
       "      <td>Среднее</td>\n",
       "      <td>1</td>\n",
       "      <td>женат / замужем</td>\n",
       "      <td>0</td>\n",
       "      <td>M</td>\n",
       "      <td>сотрудник</td>\n",
       "      <td>0</td>\n",
       "      <td>145885.952297</td>\n",
       "      <td>покупка жилья</td>\n",
       "    </tr>\n",
       "    <tr>\n",
       "      <th>3</th>\n",
       "      <td>3</td>\n",
       "      <td>-4124.747207</td>\n",
       "      <td>32</td>\n",
       "      <td>среднее</td>\n",
       "      <td>1</td>\n",
       "      <td>женат / замужем</td>\n",
       "      <td>0</td>\n",
       "      <td>M</td>\n",
       "      <td>сотрудник</td>\n",
       "      <td>0</td>\n",
       "      <td>267628.550329</td>\n",
       "      <td>дополнительное образование</td>\n",
       "    </tr>\n",
       "    <tr>\n",
       "      <th>4</th>\n",
       "      <td>0</td>\n",
       "      <td>340266.072047</td>\n",
       "      <td>53</td>\n",
       "      <td>среднее</td>\n",
       "      <td>1</td>\n",
       "      <td>гражданский брак</td>\n",
       "      <td>1</td>\n",
       "      <td>F</td>\n",
       "      <td>пенсионер</td>\n",
       "      <td>0</td>\n",
       "      <td>158616.077870</td>\n",
       "      <td>сыграть свадьбу</td>\n",
       "    </tr>\n",
       "    <tr>\n",
       "      <th>5</th>\n",
       "      <td>0</td>\n",
       "      <td>-926.185831</td>\n",
       "      <td>27</td>\n",
       "      <td>высшее</td>\n",
       "      <td>0</td>\n",
       "      <td>гражданский брак</td>\n",
       "      <td>1</td>\n",
       "      <td>M</td>\n",
       "      <td>компаньон</td>\n",
       "      <td>0</td>\n",
       "      <td>255763.565419</td>\n",
       "      <td>покупка жилья</td>\n",
       "    </tr>\n",
       "    <tr>\n",
       "      <th>6</th>\n",
       "      <td>0</td>\n",
       "      <td>-2879.202052</td>\n",
       "      <td>43</td>\n",
       "      <td>высшее</td>\n",
       "      <td>0</td>\n",
       "      <td>женат / замужем</td>\n",
       "      <td>0</td>\n",
       "      <td>F</td>\n",
       "      <td>компаньон</td>\n",
       "      <td>0</td>\n",
       "      <td>240525.971920</td>\n",
       "      <td>операции с жильем</td>\n",
       "    </tr>\n",
       "    <tr>\n",
       "      <th>7</th>\n",
       "      <td>0</td>\n",
       "      <td>-152.779569</td>\n",
       "      <td>50</td>\n",
       "      <td>СРЕДНЕЕ</td>\n",
       "      <td>1</td>\n",
       "      <td>женат / замужем</td>\n",
       "      <td>0</td>\n",
       "      <td>M</td>\n",
       "      <td>сотрудник</td>\n",
       "      <td>0</td>\n",
       "      <td>135823.934197</td>\n",
       "      <td>образование</td>\n",
       "    </tr>\n",
       "    <tr>\n",
       "      <th>8</th>\n",
       "      <td>2</td>\n",
       "      <td>-6929.865299</td>\n",
       "      <td>35</td>\n",
       "      <td>ВЫСШЕЕ</td>\n",
       "      <td>0</td>\n",
       "      <td>гражданский брак</td>\n",
       "      <td>1</td>\n",
       "      <td>F</td>\n",
       "      <td>сотрудник</td>\n",
       "      <td>0</td>\n",
       "      <td>95856.832424</td>\n",
       "      <td>на проведение свадьбы</td>\n",
       "    </tr>\n",
       "    <tr>\n",
       "      <th>9</th>\n",
       "      <td>0</td>\n",
       "      <td>-2188.756445</td>\n",
       "      <td>41</td>\n",
       "      <td>среднее</td>\n",
       "      <td>1</td>\n",
       "      <td>женат / замужем</td>\n",
       "      <td>0</td>\n",
       "      <td>M</td>\n",
       "      <td>сотрудник</td>\n",
       "      <td>0</td>\n",
       "      <td>144425.938277</td>\n",
       "      <td>покупка жилья для семьи</td>\n",
       "    </tr>\n",
       "  </tbody>\n",
       "</table>\n",
       "</div>"
      ],
      "text/plain": [
       "   children  days_employed  dob_years education  education_id  \\\n",
       "0         1   -8437.673028         42    высшее             0   \n",
       "1         1   -4024.803754         36   среднее             1   \n",
       "2         0   -5623.422610         33   Среднее             1   \n",
       "3         3   -4124.747207         32   среднее             1   \n",
       "4         0  340266.072047         53   среднее             1   \n",
       "5         0    -926.185831         27    высшее             0   \n",
       "6         0   -2879.202052         43    высшее             0   \n",
       "7         0    -152.779569         50   СРЕДНЕЕ             1   \n",
       "8         2   -6929.865299         35    ВЫСШЕЕ             0   \n",
       "9         0   -2188.756445         41   среднее             1   \n",
       "\n",
       "      family_status  family_status_id gender income_type  debt   total_income  \\\n",
       "0   женат / замужем                 0      F   сотрудник     0  253875.639453   \n",
       "1   женат / замужем                 0      F   сотрудник     0  112080.014102   \n",
       "2   женат / замужем                 0      M   сотрудник     0  145885.952297   \n",
       "3   женат / замужем                 0      M   сотрудник     0  267628.550329   \n",
       "4  гражданский брак                 1      F   пенсионер     0  158616.077870   \n",
       "5  гражданский брак                 1      M   компаньон     0  255763.565419   \n",
       "6   женат / замужем                 0      F   компаньон     0  240525.971920   \n",
       "7   женат / замужем                 0      M   сотрудник     0  135823.934197   \n",
       "8  гражданский брак                 1      F   сотрудник     0   95856.832424   \n",
       "9   женат / замужем                 0      M   сотрудник     0  144425.938277   \n",
       "\n",
       "                      purpose  \n",
       "0               покупка жилья  \n",
       "1     приобретение автомобиля  \n",
       "2               покупка жилья  \n",
       "3  дополнительное образование  \n",
       "4             сыграть свадьбу  \n",
       "5               покупка жилья  \n",
       "6           операции с жильем  \n",
       "7                 образование  \n",
       "8       на проведение свадьбы  \n",
       "9     покупка жилья для семьи  "
      ]
     },
     "execution_count": 3,
     "metadata": {},
     "output_type": "execute_result"
    }
   ],
   "source": [
    "# Посмотрим на первые 10 строк таблицы df\n",
    "df.head(10)"
   ]
  },
  {
   "cell_type": "code",
   "execution_count": 4,
   "id": "0a7b9315-5af3-418f-b52b-811c87a40247",
   "metadata": {
    "tags": []
   },
   "outputs": [
    {
     "name": "stdout",
     "output_type": "stream",
     "text": [
      "<class 'pandas.core.frame.DataFrame'>\n",
      "RangeIndex: 21525 entries, 0 to 21524\n",
      "Data columns (total 12 columns):\n",
      " #   Column            Non-Null Count  Dtype  \n",
      "---  ------            --------------  -----  \n",
      " 0   children          21525 non-null  int64  \n",
      " 1   days_employed     19351 non-null  float64\n",
      " 2   dob_years         21525 non-null  int64  \n",
      " 3   education         21525 non-null  object \n",
      " 4   education_id      21525 non-null  int64  \n",
      " 5   family_status     21525 non-null  object \n",
      " 6   family_status_id  21525 non-null  int64  \n",
      " 7   gender            21525 non-null  object \n",
      " 8   income_type       21525 non-null  object \n",
      " 9   debt              21525 non-null  int64  \n",
      " 10  total_income      19351 non-null  float64\n",
      " 11  purpose           21525 non-null  object \n",
      "dtypes: float64(2), int64(5), object(5)\n",
      "memory usage: 2.0+ MB\n"
     ]
    }
   ],
   "source": [
    "# Получим общую информацию о данных в таблице data\n",
    "df.info()"
   ]
  },
  {
   "cell_type": "markdown",
   "id": "de816b64-26bb-41a9-b30b-1cad79b8b169",
   "metadata": {},
   "source": [
    "\n",
    "**Описание данных согласно документации:**\n",
    "\n",
    "* children — количество детей в семье\n",
    "\n",
    "* days_employed — общий трудовой стаж в днях\n",
    "\n",
    "* dob_years — возраст клиента в годах\n",
    "\n",
    "* education — уровень образования клиента\n",
    "\n",
    "* education_id — идентификатор уровня образования\n",
    "\n",
    "* family_status — семейное положение\n",
    "\n",
    "* family_status_id — идентификатор семейного положения\n",
    "\n",
    "* gender — пол клиента\n",
    "\n",
    "* income_type — тип занятости\n",
    "\n",
    "* debt — имел ли задолженность по возврату кредитов\n",
    "\n",
    "* total_income — ежемесячный доход\n",
    "\n",
    "* purpose — цель получения кредита\n"
   ]
  },
  {
   "cell_type": "code",
   "execution_count": 5,
   "id": "14e0dee6-15c7-4260-9923-f9a6a19dda65",
   "metadata": {},
   "outputs": [
    {
     "data": {
      "text/plain": [
       "54"
      ]
     },
     "execution_count": 5,
     "metadata": {},
     "output_type": "execute_result"
    }
   ],
   "source": [
    "# Посмотрим, есть ли явные дубликаты:\n",
    "df.duplicated().sum()"
   ]
  },
  {
   "cell_type": "code",
   "execution_count": 6,
   "id": "fcff20c2-1e80-4410-8107-f27b50c8f4ad",
   "metadata": {},
   "outputs": [
    {
     "data": {
      "text/html": [
       "<div>\n",
       "<style scoped>\n",
       "    .dataframe tbody tr th:only-of-type {\n",
       "        vertical-align: middle;\n",
       "    }\n",
       "\n",
       "    .dataframe tbody tr th {\n",
       "        vertical-align: top;\n",
       "    }\n",
       "\n",
       "    .dataframe thead th {\n",
       "        text-align: right;\n",
       "    }\n",
       "</style>\n",
       "<table border=\"1\" class=\"dataframe\">\n",
       "  <thead>\n",
       "    <tr style=\"text-align: right;\">\n",
       "      <th></th>\n",
       "      <th>children</th>\n",
       "      <th>days_employed</th>\n",
       "      <th>dob_years</th>\n",
       "      <th>education_id</th>\n",
       "      <th>family_status_id</th>\n",
       "      <th>debt</th>\n",
       "      <th>total_income</th>\n",
       "    </tr>\n",
       "  </thead>\n",
       "  <tbody>\n",
       "    <tr>\n",
       "      <th>count</th>\n",
       "      <td>21525.000000</td>\n",
       "      <td>19351.000000</td>\n",
       "      <td>21525.000000</td>\n",
       "      <td>21525.000000</td>\n",
       "      <td>21525.000000</td>\n",
       "      <td>21525.000000</td>\n",
       "      <td>1.935100e+04</td>\n",
       "    </tr>\n",
       "    <tr>\n",
       "      <th>mean</th>\n",
       "      <td>0.538908</td>\n",
       "      <td>63046.497661</td>\n",
       "      <td>43.293380</td>\n",
       "      <td>0.817236</td>\n",
       "      <td>0.972544</td>\n",
       "      <td>0.080883</td>\n",
       "      <td>1.674223e+05</td>\n",
       "    </tr>\n",
       "    <tr>\n",
       "      <th>std</th>\n",
       "      <td>1.381587</td>\n",
       "      <td>140827.311974</td>\n",
       "      <td>12.574584</td>\n",
       "      <td>0.548138</td>\n",
       "      <td>1.420324</td>\n",
       "      <td>0.272661</td>\n",
       "      <td>1.029716e+05</td>\n",
       "    </tr>\n",
       "    <tr>\n",
       "      <th>min</th>\n",
       "      <td>-1.000000</td>\n",
       "      <td>-18388.949901</td>\n",
       "      <td>0.000000</td>\n",
       "      <td>0.000000</td>\n",
       "      <td>0.000000</td>\n",
       "      <td>0.000000</td>\n",
       "      <td>2.066726e+04</td>\n",
       "    </tr>\n",
       "    <tr>\n",
       "      <th>25%</th>\n",
       "      <td>0.000000</td>\n",
       "      <td>-2747.423625</td>\n",
       "      <td>33.000000</td>\n",
       "      <td>1.000000</td>\n",
       "      <td>0.000000</td>\n",
       "      <td>0.000000</td>\n",
       "      <td>1.030532e+05</td>\n",
       "    </tr>\n",
       "    <tr>\n",
       "      <th>50%</th>\n",
       "      <td>0.000000</td>\n",
       "      <td>-1203.369529</td>\n",
       "      <td>42.000000</td>\n",
       "      <td>1.000000</td>\n",
       "      <td>0.000000</td>\n",
       "      <td>0.000000</td>\n",
       "      <td>1.450179e+05</td>\n",
       "    </tr>\n",
       "    <tr>\n",
       "      <th>75%</th>\n",
       "      <td>1.000000</td>\n",
       "      <td>-291.095954</td>\n",
       "      <td>53.000000</td>\n",
       "      <td>1.000000</td>\n",
       "      <td>1.000000</td>\n",
       "      <td>0.000000</td>\n",
       "      <td>2.034351e+05</td>\n",
       "    </tr>\n",
       "    <tr>\n",
       "      <th>max</th>\n",
       "      <td>20.000000</td>\n",
       "      <td>401755.400475</td>\n",
       "      <td>75.000000</td>\n",
       "      <td>4.000000</td>\n",
       "      <td>4.000000</td>\n",
       "      <td>1.000000</td>\n",
       "      <td>2.265604e+06</td>\n",
       "    </tr>\n",
       "  </tbody>\n",
       "</table>\n",
       "</div>"
      ],
      "text/plain": [
       "           children  days_employed     dob_years  education_id  \\\n",
       "count  21525.000000   19351.000000  21525.000000  21525.000000   \n",
       "mean       0.538908   63046.497661     43.293380      0.817236   \n",
       "std        1.381587  140827.311974     12.574584      0.548138   \n",
       "min       -1.000000  -18388.949901      0.000000      0.000000   \n",
       "25%        0.000000   -2747.423625     33.000000      1.000000   \n",
       "50%        0.000000   -1203.369529     42.000000      1.000000   \n",
       "75%        1.000000    -291.095954     53.000000      1.000000   \n",
       "max       20.000000  401755.400475     75.000000      4.000000   \n",
       "\n",
       "       family_status_id          debt  total_income  \n",
       "count      21525.000000  21525.000000  1.935100e+04  \n",
       "mean           0.972544      0.080883  1.674223e+05  \n",
       "std            1.420324      0.272661  1.029716e+05  \n",
       "min            0.000000      0.000000  2.066726e+04  \n",
       "25%            0.000000      0.000000  1.030532e+05  \n",
       "50%            0.000000      0.000000  1.450179e+05  \n",
       "75%            1.000000      0.000000  2.034351e+05  \n",
       "max            4.000000      1.000000  2.265604e+06  "
      ]
     },
     "execution_count": 6,
     "metadata": {},
     "output_type": "execute_result"
    }
   ],
   "source": [
    "#Посмотрим на описательную статистику нашего датасета\n",
    "df.describe()"
   ]
  },
  {
   "cell_type": "markdown",
   "id": "d416450b-562a-42aa-8f95-034ff7a90c1b",
   "metadata": {},
   "source": [
    "<a id='intro'></a>\n",
    "Рассмотрим уникальные значения данных для остальных столбцов (пол, образование, семейное положение, тип занятости, цель):"
   ]
  },
  {
   "cell_type": "code",
   "execution_count": 7,
   "id": "61192e1b-b326-4e75-af71-f11640c5ef4b",
   "metadata": {
    "tags": []
   },
   "outputs": [
    {
     "name": "stdout",
     "output_type": "stream",
     "text": [
      "среднее                13750\n",
      "высшее                  4718\n",
      "СРЕДНЕЕ                  772\n",
      "Среднее                  711\n",
      "неоконченное высшее      668\n",
      "ВЫСШЕЕ                   274\n",
      "Высшее                   268\n",
      "начальное                250\n",
      "Неоконченное высшее       47\n",
      "НЕОКОНЧЕННОЕ ВЫСШЕЕ       29\n",
      "НАЧАЛЬНОЕ                 17\n",
      "Начальное                 15\n",
      "ученая степень             4\n",
      "Ученая степень             1\n",
      "УЧЕНАЯ СТЕПЕНЬ             1\n",
      "Name: education, dtype: int64 \n",
      "\n",
      "женат / замужем          12380\n",
      "гражданский брак          4177\n",
      "Не женат / не замужем     2813\n",
      "в разводе                 1195\n",
      "вдовец / вдова             960\n",
      "Name: family_status, dtype: int64 \n",
      "\n",
      "F      14236\n",
      "M       7288\n",
      "XNA        1\n",
      "Name: gender, dtype: int64 \n",
      "\n",
      "сотрудник          11119\n",
      "компаньон           5085\n",
      "пенсионер           3856\n",
      "госслужащий         1459\n",
      "безработный            2\n",
      "предприниматель        2\n",
      "студент                1\n",
      "в декрете              1\n",
      "Name: income_type, dtype: int64 \n",
      "\n",
      "свадьба                                   797\n",
      "на проведение свадьбы                     777\n",
      "сыграть свадьбу                           774\n",
      "операции с недвижимостью                  676\n",
      "покупка коммерческой недвижимости         664\n",
      "покупка жилья для сдачи                   653\n",
      "операции с жильем                         653\n",
      "операции с коммерческой недвижимостью     651\n",
      "покупка жилья                             647\n",
      "жилье                                     647\n",
      "покупка жилья для семьи                   641\n",
      "строительство собственной недвижимости    635\n",
      "недвижимость                              634\n",
      "операции со своей недвижимостью           630\n",
      "строительство жилой недвижимости          626\n",
      "покупка недвижимости                      624\n",
      "строительство недвижимости                620\n",
      "покупка своего жилья                      620\n",
      "ремонт жилью                              612\n",
      "покупка жилой недвижимости                607\n",
      "на покупку своего автомобиля              505\n",
      "заняться высшим образованием              496\n",
      "автомобиль                                495\n",
      "сделка с подержанным автомобилем          489\n",
      "свой автомобиль                           480\n",
      "на покупку подержанного автомобиля        479\n",
      "автомобили                                478\n",
      "на покупку автомобиля                     472\n",
      "дополнительное образование                462\n",
      "приобретение автомобиля                   462\n",
      "сделка с автомобилем                      455\n",
      "высшее образование                        453\n",
      "образование                               447\n",
      "получение дополнительного образования     447\n",
      "получение образования                     443\n",
      "профильное образование                    436\n",
      "получение высшего образования             426\n",
      "заняться образованием                     412\n",
      "Name: purpose, dtype: int64 \n",
      "\n"
     ]
    }
   ],
   "source": [
    "for column_name in df.columns:\n",
    "    if column_name not in df.describe().columns:\n",
    "        print(df[column_name].value_counts(), '\\n')"
   ]
  },
  {
   "cell_type": "markdown",
   "id": "509751bd-101d-4571-bbf9-cc15f14f2a72",
   "metadata": {},
   "source": [
    "\n",
    "**Вывод**"
   ]
  },
  {
   "cell_type": "markdown",
   "id": "2b7740b2-0c14-4d13-aee2-56674c493943",
   "metadata": {},
   "source": [
    "<div style=\"border:solid green 2px; padding: 20px\">\n",
    "    \n",
    "В таблице 12 столбцов. Общее количество наблюдений в данных 21525. В двух столбцах значений меньше: общий трудовой стаж в днях и ежемесячный доход.\n",
    "\n",
    "В датафрейме представлены данные разных типов: строка, дробное число, целое число. \n",
    "    \n",
    "В названиях столбцов нарушений нет. \n",
    "  \n",
    "Предварительно можно утверждать, что данных достаточно для проведения исследования. \n",
    "\n",
    "**Однако есть следующие проблемы в данных**:\n",
    "    \n",
    "1. В столбце children есть артефакты: -1 (встречается 47 раз) и 20 (встречается 76 раз).\n",
    "\n",
    "2. В столбце days_employed есть пропуски в данных, а также отрицательные значения и тип данных число с плавающей точкой требует преобразования в integer. \n",
    "    \n",
    "3. В столбце dob_years есть артефакты: возраст со значением 0 (встречается 101 раз). \n",
    "    \n",
    "4. В столбце family_status есть значение \"Не женат / не замужем\", которое требуется привести к строчному регистру по аналогии со всеми остальными.\n",
    "   \n",
    "5. В столбце gender есть артефакт: XNA. (Всего одна строка, поэтому можно просто удалить эту строчку.)  \n",
    "    \n",
    "6. В столбце total_income есть пропуски в данных, а также тип данных число с плавающей точкой требует преобразования в целочисленный. \n",
    "    \n",
    "7. В столбце education в значениях есть неявные дубликаты. Требуется привести все значения к нижнему регистру. \n",
    "\n",
    "8. В данных выявлено 54 явных дубликата. \n",
    "\n",
    "Почистим данные - устраним проблемы. "
   ]
  },
  {
   "cell_type": "markdown",
   "id": "e81462ce-08e5-48e0-8579-ff2d1b6d3528",
   "metadata": {},
   "source": [
    "## Шаг 2. Предобработка данных"
   ]
  },
  {
   "cell_type": "markdown",
   "id": "9c295880-fbfe-4145-a199-509030dc7ff9",
   "metadata": {},
   "source": [
    "### Обработка пропусков"
   ]
  },
  {
   "cell_type": "code",
   "execution_count": 8,
   "id": "d9d3f9b3-f4c9-4196-8c76-e59e83770fdc",
   "metadata": {},
   "outputs": [
    {
     "data": {
      "text/plain": [
       "children               0\n",
       "days_employed       2174\n",
       "dob_years              0\n",
       "education              0\n",
       "education_id           0\n",
       "family_status          0\n",
       "family_status_id       0\n",
       "gender                 0\n",
       "income_type            0\n",
       "debt                   0\n",
       "total_income        2174\n",
       "purpose                0\n",
       "dtype: int64"
      ]
     },
     "execution_count": 8,
     "metadata": {},
     "output_type": "execute_result"
    }
   ],
   "source": [
    "# Подсчитаем пропуски\n",
    "df.isna().sum()"
   ]
  },
  {
   "cell_type": "code",
   "execution_count": 9,
   "id": "ab3de097-8750-424f-b894-996a21750dc4",
   "metadata": {
    "tags": []
   },
   "outputs": [
    {
     "name": "stdout",
     "output_type": "stream",
     "text": [
      "Значения отсутствуют в 10.1%\n"
     ]
    }
   ],
   "source": [
    "# Вычислим, каков процент пропущенных значений в столбце total_income:\n",
    "df_nan = df[df[\"total_income\"].isnull()]\n",
    "print('Значения отсутствуют в {:.1%}'.format(len(df_nan)/len(df)))"
   ]
  },
  {
   "cell_type": "code",
   "execution_count": 10,
   "id": "ff4ac6b6-23ed-4124-90d4-14bfffb68fce",
   "metadata": {},
   "outputs": [
    {
     "data": {
      "text/html": [
       "<div>\n",
       "<style scoped>\n",
       "    .dataframe tbody tr th:only-of-type {\n",
       "        vertical-align: middle;\n",
       "    }\n",
       "\n",
       "    .dataframe tbody tr th {\n",
       "        vertical-align: top;\n",
       "    }\n",
       "\n",
       "    .dataframe thead th {\n",
       "        text-align: right;\n",
       "    }\n",
       "</style>\n",
       "<table border=\"1\" class=\"dataframe\">\n",
       "  <thead>\n",
       "    <tr style=\"text-align: right;\">\n",
       "      <th></th>\n",
       "      <th>children</th>\n",
       "      <th>days_employed</th>\n",
       "      <th>dob_years</th>\n",
       "      <th>education</th>\n",
       "      <th>education_id</th>\n",
       "      <th>family_status</th>\n",
       "      <th>family_status_id</th>\n",
       "      <th>gender</th>\n",
       "      <th>income_type</th>\n",
       "      <th>debt</th>\n",
       "      <th>total_income</th>\n",
       "      <th>purpose</th>\n",
       "    </tr>\n",
       "  </thead>\n",
       "  <tbody>\n",
       "    <tr>\n",
       "      <th>12</th>\n",
       "      <td>0</td>\n",
       "      <td>NaN</td>\n",
       "      <td>65</td>\n",
       "      <td>среднее</td>\n",
       "      <td>1</td>\n",
       "      <td>гражданский брак</td>\n",
       "      <td>1</td>\n",
       "      <td>M</td>\n",
       "      <td>пенсионер</td>\n",
       "      <td>0</td>\n",
       "      <td>NaN</td>\n",
       "      <td>сыграть свадьбу</td>\n",
       "    </tr>\n",
       "    <tr>\n",
       "      <th>26</th>\n",
       "      <td>0</td>\n",
       "      <td>NaN</td>\n",
       "      <td>41</td>\n",
       "      <td>среднее</td>\n",
       "      <td>1</td>\n",
       "      <td>женат / замужем</td>\n",
       "      <td>0</td>\n",
       "      <td>M</td>\n",
       "      <td>госслужащий</td>\n",
       "      <td>0</td>\n",
       "      <td>NaN</td>\n",
       "      <td>образование</td>\n",
       "    </tr>\n",
       "    <tr>\n",
       "      <th>29</th>\n",
       "      <td>0</td>\n",
       "      <td>NaN</td>\n",
       "      <td>63</td>\n",
       "      <td>среднее</td>\n",
       "      <td>1</td>\n",
       "      <td>Не женат / не замужем</td>\n",
       "      <td>4</td>\n",
       "      <td>F</td>\n",
       "      <td>пенсионер</td>\n",
       "      <td>0</td>\n",
       "      <td>NaN</td>\n",
       "      <td>строительство жилой недвижимости</td>\n",
       "    </tr>\n",
       "    <tr>\n",
       "      <th>41</th>\n",
       "      <td>0</td>\n",
       "      <td>NaN</td>\n",
       "      <td>50</td>\n",
       "      <td>среднее</td>\n",
       "      <td>1</td>\n",
       "      <td>женат / замужем</td>\n",
       "      <td>0</td>\n",
       "      <td>F</td>\n",
       "      <td>госслужащий</td>\n",
       "      <td>0</td>\n",
       "      <td>NaN</td>\n",
       "      <td>сделка с подержанным автомобилем</td>\n",
       "    </tr>\n",
       "    <tr>\n",
       "      <th>55</th>\n",
       "      <td>0</td>\n",
       "      <td>NaN</td>\n",
       "      <td>54</td>\n",
       "      <td>среднее</td>\n",
       "      <td>1</td>\n",
       "      <td>гражданский брак</td>\n",
       "      <td>1</td>\n",
       "      <td>F</td>\n",
       "      <td>пенсионер</td>\n",
       "      <td>1</td>\n",
       "      <td>NaN</td>\n",
       "      <td>сыграть свадьбу</td>\n",
       "    </tr>\n",
       "  </tbody>\n",
       "</table>\n",
       "</div>"
      ],
      "text/plain": [
       "    children  days_employed  dob_years education  education_id  \\\n",
       "12         0            NaN         65   среднее             1   \n",
       "26         0            NaN         41   среднее             1   \n",
       "29         0            NaN         63   среднее             1   \n",
       "41         0            NaN         50   среднее             1   \n",
       "55         0            NaN         54   среднее             1   \n",
       "\n",
       "            family_status  family_status_id gender  income_type  debt  \\\n",
       "12       гражданский брак                 1      M    пенсионер     0   \n",
       "26        женат / замужем                 0      M  госслужащий     0   \n",
       "29  Не женат / не замужем                 4      F    пенсионер     0   \n",
       "41        женат / замужем                 0      F  госслужащий     0   \n",
       "55       гражданский брак                 1      F    пенсионер     1   \n",
       "\n",
       "    total_income                           purpose  \n",
       "12           NaN                   сыграть свадьбу  \n",
       "26           NaN                       образование  \n",
       "29           NaN  строительство жилой недвижимости  \n",
       "41           NaN  сделка с подержанным автомобилем  \n",
       "55           NaN                   сыграть свадьбу  "
      ]
     },
     "execution_count": 10,
     "metadata": {},
     "output_type": "execute_result"
    }
   ],
   "source": [
    "#Посмотрим на первые 5 строк датафрейма со строками с nan\n",
    "df[df.isnull().any(1)].head()"
   ]
  },
  {
   "cell_type": "code",
   "execution_count": 11,
   "id": "f6a654b1-889f-4352-a508-c76b4fcca966",
   "metadata": {},
   "outputs": [
    {
     "data": {
      "text/plain": [
       "2174"
      ]
     },
     "execution_count": 11,
     "metadata": {},
     "output_type": "execute_result"
    }
   ],
   "source": [
    "# Проверим распределение NaN, действительно ли оно одинаковое:\n",
    "len(df[df[\"total_income\"].isnull() & df[\"days_employed\"].isnull()])"
   ]
  },
  {
   "cell_type": "markdown",
   "id": "c6b07497-c31a-42fa-9a5c-51d460c25a99",
   "metadata": {},
   "source": [
    "Пропуски в доходе и стаже распределены одинаково. Пропуски случайные. Возможно, данные утеряны в процессе выгрузки данных или изначально отсутствовали. "
   ]
  },
  {
   "cell_type": "markdown",
   "id": "1f27518f-8549-4026-9fce-107b6c67bb95",
   "metadata": {},
   "source": [
    "#### Обработка пропусков в столбце ежемесячного дохода (total_income) <a class=\"tocSkip\">"
   ]
  },
  {
   "cell_type": "code",
   "execution_count": 12,
   "id": "eaecb605-1327-4dfa-a1ff-24f423155ec1",
   "metadata": {},
   "outputs": [
    {
     "data": {
      "text/plain": [
       "2174"
      ]
     },
     "execution_count": 12,
     "metadata": {},
     "output_type": "execute_result"
    }
   ],
   "source": [
    "df['total_income'].isna().sum()"
   ]
  },
  {
   "cell_type": "code",
   "execution_count": 13,
   "id": "a4d7a17f-24e9-4f62-81fe-b81597120e6a",
   "metadata": {
    "tags": []
   },
   "outputs": [
    {
     "data": {
      "text/plain": [
       "income_type\n",
       "безработный        131339.751676\n",
       "в декрете           53829.130729\n",
       "госслужащий        150447.935283\n",
       "компаньон          172357.950966\n",
       "пенсионер          118514.486412\n",
       "предприниматель    499163.144947\n",
       "сотрудник          142594.396847\n",
       "студент             98201.625314\n",
       "Name: total_income, dtype: float64"
      ]
     },
     "execution_count": 13,
     "metadata": {},
     "output_type": "execute_result"
    }
   ],
   "source": [
    "#Сгруппируем данные по типу занятости и посчитаем медиану ежемесячного дохода для каждого типа. \n",
    "total_income_median = df.groupby('income_type')['total_income'].median()\n",
    "total_income_median"
   ]
  },
  {
   "cell_type": "markdown",
   "id": "138e17ab-cf6f-4d2a-b13b-e5f935308d79",
   "metadata": {},
   "source": [
    "Заполним пропуски в столбце total_income значеним медианы в зависимости от типа занятости"
   ]
  },
  {
   "cell_type": "code",
   "execution_count": 14,
   "id": "b25cf06a-d1b9-47da-9a42-b129fc369511",
   "metadata": {},
   "outputs": [],
   "source": [
    "#Применим метод transform, чтобы на ходу посчитать медиану в группировке и заполнить пропуски с помощью fillna\n",
    "df['total_income'] = df['total_income'].fillna(df.groupby(['income_type'])['total_income'].transform('median'))"
   ]
  },
  {
   "cell_type": "code",
   "execution_count": 15,
   "id": "b2efaebd-1afc-46eb-89b4-13ff288610cc",
   "metadata": {},
   "outputs": [
    {
     "data": {
      "text/plain": [
       "0"
      ]
     },
     "execution_count": 15,
     "metadata": {},
     "output_type": "execute_result"
    }
   ],
   "source": [
    "df['total_income'].isna().sum()"
   ]
  },
  {
   "cell_type": "markdown",
   "id": "5d90abd8-e6bd-4b2d-b7aa-dae4cdc3a9c8",
   "metadata": {},
   "source": [
    "\n",
    "*Итог*: \n",
    "\n",
    "Пропуски в столбце с ежемесячным доходом успешно заполнены значенияем медианы в зависимости от типа занятости. "
   ]
  },
  {
   "cell_type": "markdown",
   "id": "d551fbb9-a7b0-46d9-8197-01b3a83e54c4",
   "metadata": {},
   "source": [
    "#### Обработка пропусков в столбце трудового стажа (days_employed) <a class=\"tocSkip\">"
   ]
  },
  {
   "cell_type": "markdown",
   "id": "1ef844cd-dd46-4863-975d-d57cede7c584",
   "metadata": {},
   "source": [
    "\n",
    "Теперь приступим к подготовке данных для обработки пропущенных значений в столбце с трудовым стажем (days_employed).\n",
    "\n",
    "Алгоритм действий таков:\n",
    "\n",
    "1. Заменим возраст клиента 0 на среднее арифметическое. \n",
    "2. Категоризуем данные - распределим клиентов по возрастным группам и создадим соответствующий столбец (age_group) с данными в нашем датафрейме.\n",
    "3. Более внимательно изучим значения в столбце days_employed, избавимся от отрицательных значений и исключим аномалии (выбросы в данных), чтобы более точно определить медиану трудового стажа.\n",
    "3. Cоздадим series со значениями медианы для каждой возрастной группы и без аномалий.\n",
    "4. Запустим функцию replace_nan_with_median для заполнения пропусков в столбце days_employed значениями медианы в зависимости от возрастой группы.  "
   ]
  },
  {
   "cell_type": "code",
   "execution_count": 16,
   "id": "bdb1a8c4-dbf5-49d6-8df7-dcab5d6b4b2e",
   "metadata": {},
   "outputs": [],
   "source": [
    "# Возраст - количественная переменная, мы можем нулевой возраст заменить на значение среднего арифметического.\n",
    "df = df.replace({'dob_years': 0}, df['dob_years'].mean())"
   ]
  },
  {
   "cell_type": "code",
   "execution_count": 17,
   "id": "a69ddc2a-4dfa-4b7a-83b7-67d7087a7d51",
   "metadata": {
    "tags": []
   },
   "outputs": [
    {
     "data": {
      "text/plain": [
       "0"
      ]
     },
     "execution_count": 17,
     "metadata": {},
     "output_type": "execute_result"
    }
   ],
   "source": [
    "# Проверяем, успешна ли замена 0-значений средним арифметическим\n",
    "df[df['dob_years'] == 0]['dob_years'].count()"
   ]
  },
  {
   "cell_type": "code",
   "execution_count": 18,
   "id": "edb18b4c-b630-4aaa-98f9-16aec95f6934",
   "metadata": {},
   "outputs": [],
   "source": [
    "# Создадим функцию для категоризации данных о возрасте клиентов (распределим клиентов по возрастным группам)\n",
    "\n",
    "'''\n",
    "Функция берет на вход возраст клиента, а возвращает возрастную группу по значению возраста age, используя правила:\n",
    "    - ранний возраст (19 - 30)\n",
    "    - средний возраст (30 - 40)\n",
    "    - поздний возраст (40 - 59)\n",
    "    - пенсионный возраст (60 и старше)\n",
    "\n",
    "'''\n",
    "\n",
    "def get_age_group(age):\n",
    "    if 30 > age >= 19:\n",
    "        return 'ранний возраст'\n",
    "    elif 40 > age >=30:\n",
    "        return 'средний возраст' \n",
    "    elif 59 >= age >=40:\n",
    "        return 'поздний возраст'\n",
    "    else:\n",
    "        return 'пенсионный возраст'\n",
    "        "
   ]
  },
  {
   "cell_type": "code",
   "execution_count": 19,
   "id": "b8089a18-0d6f-4db8-9a08-503dc01c4458",
   "metadata": {},
   "outputs": [
    {
     "data": {
      "text/plain": [
       "'пенсионный возраст'"
      ]
     },
     "execution_count": 19,
     "metadata": {},
     "output_type": "execute_result"
    }
   ],
   "source": [
    "#Протестируем нашу функцию client_age_group на отдельном значении:\n",
    "get_age_group(60)"
   ]
  },
  {
   "cell_type": "code",
   "execution_count": 20,
   "id": "d77d89d0-99c3-4471-a25d-1321e9377c42",
   "metadata": {},
   "outputs": [],
   "source": [
    "# Создадим отдельный столбец age_group в нашем датафрейме и запишем в его ячейках значения, возращаемые функцией\n",
    "df['age_group'] = df['dob_years'].apply(get_age_group)"
   ]
  },
  {
   "cell_type": "code",
   "execution_count": 21,
   "id": "c7b80aa0-fad8-4e8a-8fa4-b5a8aaa86467",
   "metadata": {},
   "outputs": [
    {
     "data": {
      "text/html": [
       "<div>\n",
       "<style scoped>\n",
       "    .dataframe tbody tr th:only-of-type {\n",
       "        vertical-align: middle;\n",
       "    }\n",
       "\n",
       "    .dataframe tbody tr th {\n",
       "        vertical-align: top;\n",
       "    }\n",
       "\n",
       "    .dataframe thead th {\n",
       "        text-align: right;\n",
       "    }\n",
       "</style>\n",
       "<table border=\"1\" class=\"dataframe\">\n",
       "  <thead>\n",
       "    <tr style=\"text-align: right;\">\n",
       "      <th></th>\n",
       "      <th>children</th>\n",
       "      <th>days_employed</th>\n",
       "      <th>dob_years</th>\n",
       "      <th>education</th>\n",
       "      <th>education_id</th>\n",
       "      <th>family_status</th>\n",
       "      <th>family_status_id</th>\n",
       "      <th>gender</th>\n",
       "      <th>income_type</th>\n",
       "      <th>debt</th>\n",
       "      <th>total_income</th>\n",
       "      <th>purpose</th>\n",
       "      <th>age_group</th>\n",
       "    </tr>\n",
       "  </thead>\n",
       "  <tbody>\n",
       "    <tr>\n",
       "      <th>0</th>\n",
       "      <td>1</td>\n",
       "      <td>-8437.673028</td>\n",
       "      <td>42.0</td>\n",
       "      <td>высшее</td>\n",
       "      <td>0</td>\n",
       "      <td>женат / замужем</td>\n",
       "      <td>0</td>\n",
       "      <td>F</td>\n",
       "      <td>сотрудник</td>\n",
       "      <td>0</td>\n",
       "      <td>253875.639453</td>\n",
       "      <td>покупка жилья</td>\n",
       "      <td>поздний возраст</td>\n",
       "    </tr>\n",
       "    <tr>\n",
       "      <th>1</th>\n",
       "      <td>1</td>\n",
       "      <td>-4024.803754</td>\n",
       "      <td>36.0</td>\n",
       "      <td>среднее</td>\n",
       "      <td>1</td>\n",
       "      <td>женат / замужем</td>\n",
       "      <td>0</td>\n",
       "      <td>F</td>\n",
       "      <td>сотрудник</td>\n",
       "      <td>0</td>\n",
       "      <td>112080.014102</td>\n",
       "      <td>приобретение автомобиля</td>\n",
       "      <td>средний возраст</td>\n",
       "    </tr>\n",
       "    <tr>\n",
       "      <th>2</th>\n",
       "      <td>0</td>\n",
       "      <td>-5623.422610</td>\n",
       "      <td>33.0</td>\n",
       "      <td>Среднее</td>\n",
       "      <td>1</td>\n",
       "      <td>женат / замужем</td>\n",
       "      <td>0</td>\n",
       "      <td>M</td>\n",
       "      <td>сотрудник</td>\n",
       "      <td>0</td>\n",
       "      <td>145885.952297</td>\n",
       "      <td>покупка жилья</td>\n",
       "      <td>средний возраст</td>\n",
       "    </tr>\n",
       "    <tr>\n",
       "      <th>3</th>\n",
       "      <td>3</td>\n",
       "      <td>-4124.747207</td>\n",
       "      <td>32.0</td>\n",
       "      <td>среднее</td>\n",
       "      <td>1</td>\n",
       "      <td>женат / замужем</td>\n",
       "      <td>0</td>\n",
       "      <td>M</td>\n",
       "      <td>сотрудник</td>\n",
       "      <td>0</td>\n",
       "      <td>267628.550329</td>\n",
       "      <td>дополнительное образование</td>\n",
       "      <td>средний возраст</td>\n",
       "    </tr>\n",
       "    <tr>\n",
       "      <th>4</th>\n",
       "      <td>0</td>\n",
       "      <td>340266.072047</td>\n",
       "      <td>53.0</td>\n",
       "      <td>среднее</td>\n",
       "      <td>1</td>\n",
       "      <td>гражданский брак</td>\n",
       "      <td>1</td>\n",
       "      <td>F</td>\n",
       "      <td>пенсионер</td>\n",
       "      <td>0</td>\n",
       "      <td>158616.077870</td>\n",
       "      <td>сыграть свадьбу</td>\n",
       "      <td>поздний возраст</td>\n",
       "    </tr>\n",
       "  </tbody>\n",
       "</table>\n",
       "</div>"
      ],
      "text/plain": [
       "   children  days_employed  dob_years education  education_id  \\\n",
       "0         1   -8437.673028       42.0    высшее             0   \n",
       "1         1   -4024.803754       36.0   среднее             1   \n",
       "2         0   -5623.422610       33.0   Среднее             1   \n",
       "3         3   -4124.747207       32.0   среднее             1   \n",
       "4         0  340266.072047       53.0   среднее             1   \n",
       "\n",
       "      family_status  family_status_id gender income_type  debt   total_income  \\\n",
       "0   женат / замужем                 0      F   сотрудник     0  253875.639453   \n",
       "1   женат / замужем                 0      F   сотрудник     0  112080.014102   \n",
       "2   женат / замужем                 0      M   сотрудник     0  145885.952297   \n",
       "3   женат / замужем                 0      M   сотрудник     0  267628.550329   \n",
       "4  гражданский брак                 1      F   пенсионер     0  158616.077870   \n",
       "\n",
       "                      purpose        age_group  \n",
       "0               покупка жилья  поздний возраст  \n",
       "1     приобретение автомобиля  средний возраст  \n",
       "2               покупка жилья  средний возраст  \n",
       "3  дополнительное образование  средний возраст  \n",
       "4             сыграть свадьбу  поздний возраст  "
      ]
     },
     "execution_count": 21,
     "metadata": {},
     "output_type": "execute_result"
    }
   ],
   "source": [
    "# Посмотрим на результаты\n",
    "df.head()"
   ]
  },
  {
   "cell_type": "markdown",
   "id": "9c5bf5eb-bd2c-4d79-a922-fc97c204a597",
   "metadata": {},
   "source": [
    "Функция отработала корректно"
   ]
  },
  {
   "cell_type": "code",
   "execution_count": 22,
   "id": "9a690cc2-4a96-46a2-8725-11be147a8711",
   "metadata": {},
   "outputs": [],
   "source": [
    "# Теперь заполним пропуски нулями, чтобы корректно посчитать медиану трудового стажа.\n",
    "df['days_employed'] = df['days_employed'].fillna(0)"
   ]
  },
  {
   "cell_type": "code",
   "execution_count": 23,
   "id": "96700312-bbf0-482f-a193-240d05e50f53",
   "metadata": {
    "tags": []
   },
   "outputs": [
    {
     "data": {
      "text/plain": [
       "count     21525.000000\n",
       "mean      56678.874622\n",
       "std      134870.763085\n",
       "min      -18388.949901\n",
       "25%       -2518.168900\n",
       "50%        -982.531720\n",
       "75%           0.000000\n",
       "max      401755.400475\n",
       "Name: days_employed, dtype: float64"
      ]
     },
     "execution_count": 23,
     "metadata": {},
     "output_type": "execute_result"
    }
   ],
   "source": [
    "#Для начала более внимательно изучим данные о трудовом стаже:\n",
    "df['days_employed'].describe()"
   ]
  },
  {
   "cell_type": "code",
   "execution_count": 24,
   "id": "cfc526af-8a9b-4210-92aa-e8055592f161",
   "metadata": {},
   "outputs": [
    {
     "name": "stdout",
     "output_type": "stream",
     "text": [
      "\n",
      "Количество клиентов с положительным трудовым стажем и тип их занятости:\n",
      " income_type\n",
      "безработный       2\n",
      "пенсионер      3443\n",
      "Name: days_employed, dtype: int64\n"
     ]
    }
   ],
   "source": [
    "#Посмотрим отдельно на положительные значения: \n",
    "df_with_positive_days_employed = df[df['days_employed'] > 0]\n",
    "print('\\nКоличество клиентов с положительным трудовым стажем и тип их занятости:\\n',\n",
    "      df_with_positive_days_employed.groupby('income_type')['days_employed'].count())"
   ]
  },
  {
   "cell_type": "markdown",
   "id": "ab4a5174-32a6-4c40-b09f-12e67b533d5c",
   "metadata": {},
   "source": [
    "В диапазоне положительных значений выявлено большое количество аномальных данных. 3443 пенсионера и два безработных имеют стаж более 900 лет (более 50%).\n",
    "Хотя медиана не чувствительна к выбросами, все равно исключим их из вычисления медианы. Для этого создадим отдельный фрейм, в котором останутся только отрицательные значения и на основе его будет считать медиану для каждой возрастной группы. Удалять выбросы из исходного датафрейма не будем: этот столбец нам не важен для данного исследования, а другие данные из строк терять не хочется. \n",
    "Возможно, такие большие значения стажа - это значения в других единицах, не в днях, а в часах.  "
   ]
  },
  {
   "cell_type": "code",
   "execution_count": 25,
   "id": "1f582f3e-9010-490c-b872-278894a94d4d",
   "metadata": {},
   "outputs": [],
   "source": [
    "#Создаем отдельный датафрейм только с отрицательными значениями в days_employed. \n",
    "df_without_outliners_in_days_employed = df[df['days_employed'] <= 0]"
   ]
  },
  {
   "cell_type": "code",
   "execution_count": 26,
   "id": "b0fa0510-0059-415f-8748-82b30697ea3b",
   "metadata": {},
   "outputs": [
    {
     "data": {
      "text/plain": [
       "0"
      ]
     },
     "execution_count": 26,
     "metadata": {},
     "output_type": "execute_result"
    }
   ],
   "source": [
    "#Проверим результат - положительных значений нет. \n",
    "df_without_outliners_in_days_employed[df_without_outliners_in_days_employed['days_employed'] > 0]['days_employed'].count()"
   ]
  },
  {
   "cell_type": "markdown",
   "id": "278c6fff-84fe-49ce-8bce-251a564a6ea6",
   "metadata": {},
   "source": [
    "В столбце о трудовом стаже больше половины отрицательных значений. Возможно, при подготовке и вычислении данных разработчики перепутали местами даты начала трудовой деятельности и текущий (или последний) день работы. \n",
    "Устраним эту проблему."
   ]
  },
  {
   "cell_type": "code",
   "execution_count": 27,
   "id": "b9cc57a4-b332-474a-8986-e01ad4270f91",
   "metadata": {},
   "outputs": [
    {
     "name": "stdout",
     "output_type": "stream",
     "text": [
      "Количество отрицательных значений до обработки: 15906\n",
      "Количество отрицательных значений после обработки: 0\n"
     ]
    }
   ],
   "source": [
    "#Чтобы избавиться от отрицательных значений в столбце о трудовом стаже (days_employed) в исходном датафрейме, вычислим модуль числа с помощью встроенной функции abs\n",
    "\n",
    "print('Количество отрицательных значений до обработки:', df[df['days_employed'] < 0]['days_employed'].count())\n",
    "df['days_employed'] = abs(df['days_employed'])\n",
    "print('Количество отрицательных значений после обработки:', df[df['days_employed'] < 0]['days_employed'].count())"
   ]
  },
  {
   "cell_type": "code",
   "execution_count": 28,
   "id": "133c3fb5-cc2f-4e36-9b8e-31cada4bb4bf",
   "metadata": {},
   "outputs": [
    {
     "name": "stdout",
     "output_type": "stream",
     "text": [
      "Количество отрицательных значений до обработки: 15906\n",
      "Количество отрицательных значений после обработки: 0\n"
     ]
    },
    {
     "name": "stderr",
     "output_type": "stream",
     "text": [
      "/Applications/anaconda3/lib/python3.9/site-packages/pandas/core/indexing.py:1773: SettingWithCopyWarning: \n",
      "A value is trying to be set on a copy of a slice from a DataFrame.\n",
      "Try using .loc[row_indexer,col_indexer] = value instead\n",
      "\n",
      "See the caveats in the documentation: https://pandas.pydata.org/pandas-docs/stable/user_guide/indexing.html#returning-a-view-versus-a-copy\n",
      "  self._setitem_single_column(ilocs[0], value, pi)\n"
     ]
    }
   ],
   "source": [
    "#Избавимся от отрицательных значений в датафрейме, в котором нет выбросов, и который мы будем использовать для группировки данных и расчета медианы: \n",
    "\n",
    "print('Количество отрицательных значений до обработки:', \n",
    "      df_without_outliners_in_days_employed.loc[df_without_outliners_in_days_employed['days_employed'] < 0]['days_employed'].count())\n",
    "\n",
    "df_without_outliners_in_days_employed.loc[:, 'days_employed'] = abs(df_without_outliners_in_days_employed['days_employed'])\n",
    "\n",
    "print('Количество отрицательных значений после обработки:', \n",
    "      df_without_outliners_in_days_employed.loc[df_without_outliners_in_days_employed['days_employed'] < 0]['days_employed'].count())\n",
    "\n"
   ]
  },
  {
   "cell_type": "code",
   "execution_count": 29,
   "id": "cd7d49eb-8336-4f21-af77-2dab028cd215",
   "metadata": {},
   "outputs": [],
   "source": [
    "#Заполним пропуски в столбце о стаже: \n",
    "# Сгруппируем данные по возрастным категориям, посчитаем медиану стажа в каждой и через метод transform подадим в fillna\n",
    "df['days_employed'] = df['days_employed'].fillna(df.groupby(['age_group'])['days_employed'].transform('median'))"
   ]
  },
  {
   "cell_type": "code",
   "execution_count": 30,
   "id": "10685cb7-482a-46ed-b977-96cc18b0b368",
   "metadata": {},
   "outputs": [
    {
     "data": {
      "text/plain": [
       "children            0\n",
       "days_employed       0\n",
       "dob_years           0\n",
       "education           0\n",
       "education_id        0\n",
       "family_status       0\n",
       "family_status_id    0\n",
       "gender              0\n",
       "income_type         0\n",
       "debt                0\n",
       "total_income        0\n",
       "purpose             0\n",
       "age_group           0\n",
       "dtype: int64"
      ]
     },
     "execution_count": 30,
     "metadata": {},
     "output_type": "execute_result"
    }
   ],
   "source": [
    "# Подсчитаем пропуски в нашем датафрейме - проверим результаты\n",
    "df.isna().sum()"
   ]
  },
  {
   "cell_type": "markdown",
   "id": "9a164b5b-05cd-4de2-bebb-72a3b3349cd5",
   "metadata": {},
   "source": [
    "**Вывод**"
   ]
  },
  {
   "cell_type": "markdown",
   "id": "d6c643b7-3e4c-4a72-a15e-b5751cf41261",
   "metadata": {},
   "source": [
    "<div style=\"border:solid green 2px; padding: 20px\">\n",
    " \n",
    "* В столбцах с ежемесячным доходом (total_income) и с трудовым стажем (days_employed) были обнаружены пропущенные значения (NaN). Пропуски в данных составляли 10%. \n",
    "    \n",
    "* Ежемесячный доход и трудовой стаж, измеряемый в днях  — это количественные переменные. \n",
    "Пропуски в таких переменных, как правило, заполняют характерными значениями в выборке. Для типичных значений мы взяли **медиану**, потому что она позволяет избежать влияния выбросов в данных при расчетах. \n",
    "\n",
    "* Мы успешно заполнили пропуски в столбце total_income значением медианы в зависимости от типа занятости (столбец income_type). \n",
    "А в столбце трудового стажа - медианой в зависимости от возрастной группы (столбец age_group, который был создан в процессе заполнения пропусков).\n",
    "    \n",
    "* Стоит отметить, что пропущенные значения в трудовом стаже не влияют на результаты данного исследования, однако пропуски мы обработали и в этом столбце, чтобы была возможность использовать данные для возможных дальнейших исследований. \n",
    "    \n",
    "* Возможно, стоит обратить внимание разработчиков на проблему отрицательных значений в days_employed (предположительно, при подготовке и вычислении данных разработчики перепутали местами даты начала трудовой деятельности и текущий (или последний) день работы)."
   ]
  },
  {
   "cell_type": "markdown",
   "id": "28724e20-aca9-4f0a-bb4f-7d1e4eff2d2e",
   "metadata": {},
   "source": [
    "### Замена типа данных"
   ]
  },
  {
   "cell_type": "code",
   "execution_count": 31,
   "id": "12821b2f-b71a-4998-99ea-782f3e6a6478",
   "metadata": {},
   "outputs": [
    {
     "data": {
      "text/plain": [
       "children              int64\n",
       "days_employed       float64\n",
       "dob_years           float64\n",
       "education            object\n",
       "education_id          int64\n",
       "family_status        object\n",
       "family_status_id      int64\n",
       "gender               object\n",
       "income_type          object\n",
       "debt                  int64\n",
       "total_income        float64\n",
       "purpose              object\n",
       "age_group            object\n",
       "dtype: object"
      ]
     },
     "execution_count": 31,
     "metadata": {},
     "output_type": "execute_result"
    }
   ],
   "source": [
    "#Посмотрим на типы данных в нашем датафрейме\n",
    "df.dtypes"
   ]
  },
  {
   "cell_type": "code",
   "execution_count": 32,
   "id": "0e7ad5f9-8ae0-4349-99ae-c9f6e024bb09",
   "metadata": {
    "tags": []
   },
   "outputs": [
    {
     "name": "stdout",
     "output_type": "stream",
     "text": [
      "Типы данных в датафрейме после замены:\n",
      " children             int64\n",
      "days_employed        int64\n",
      "dob_years            int64\n",
      "education           object\n",
      "education_id         int64\n",
      "family_status       object\n",
      "family_status_id     int64\n",
      "gender              object\n",
      "income_type         object\n",
      "debt                 int64\n",
      "total_income         int64\n",
      "purpose             object\n",
      "age_group           object\n",
      "dtype: object\n"
     ]
    }
   ],
   "source": [
    "# Заменим числа с плавающей точкой на целые для столбцов days_employed, dob_years, total_income:\n",
    "df = df.astype({'days_employed': 'int64', 'dob_years': 'int64', 'total_income': 'int64'})\n",
    "print('Типы данных в датафрейме после замены:\\n', df.dtypes)"
   ]
  },
  {
   "cell_type": "markdown",
   "id": "aaa96451-fadd-4803-9079-8843830c29da",
   "metadata": {},
   "source": [
    "**Вывод**"
   ]
  },
  {
   "cell_type": "markdown",
   "id": "09856d72-4983-4a45-a9bb-d46942760f65",
   "metadata": {},
   "source": [
    "<div style=\"border:solid green 2px; padding: 20px\">\n",
    "В столбцах c трудовым стажем (days_employed), возрастом клиентов (dob_years) и с ежемесячным доходом (total_income) в качестве значений выступали дробные числа (вещественный тип данных float64). Такой тип данных можно изменить на целочисленный (int64) с помощью метода astype, что мы успешно и сделали."
   ]
  },
  {
   "cell_type": "markdown",
   "id": "cfdf4e19-bd2d-4746-beb9-fdab7d48b897",
   "metadata": {},
   "source": [
    "### Обработка артефактов\n"
   ]
  },
  {
   "cell_type": "code",
   "execution_count": 33,
   "id": "19a32ed9-afcb-42fc-837a-e5292bc0bc73",
   "metadata": {},
   "outputs": [
    {
     "name": "stdout",
     "output_type": "stream",
     "text": [
      "Количество значений XNA в столбце с полом:  1\n",
      "Количество значений XNA в столбце с полом после удаления строки:  0\n"
     ]
    }
   ],
   "source": [
    "#В столбце gender есть значение XNA. Всего лишь одно - тут можно просто удалить строку из данных.\n",
    "print('Количество значений XNA в столбце с полом: ', df[df['gender'] == 'XNA']['gender'].count())\n",
    "df = df.loc[df['gender'] != 'XNA']\n",
    "print('Количество значений XNA в столбце с полом после удаления строки: ', df[df['gender'] == 'XNA']['gender'].count())"
   ]
  },
  {
   "cell_type": "code",
   "execution_count": 34,
   "id": "4a2b7f98-aa4e-4ebf-82d9-40184e7bfb51",
   "metadata": {},
   "outputs": [
    {
     "name": "stdout",
     "output_type": "stream",
     "text": [
      " 0     14148\n",
      " 1      4818\n",
      " 2      2055\n",
      " 3       330\n",
      " 20       76\n",
      "-1        47\n",
      " 4        41\n",
      " 5         9\n",
      "Name: children, dtype: int64\n",
      "\n",
      "Распределение значений после замены -1 и 20: \n",
      " 0    14148\n",
      "1     4865\n",
      "2     2131\n",
      "3      330\n",
      "4       41\n",
      "5        9\n",
      "Name: children, dtype: int64\n"
     ]
    }
   ],
   "source": [
    "#В столбце с количеством детей 76 раз встречается значение 20 и 47 раз - значение -1. Заменим эти значения на 2 и 1 соответственно.\n",
    "print(df['children'].value_counts())\n",
    "df['children'].replace({20: 2, -1: 1}, inplace=True)\n",
    "print('\\nРаспределение значений после замены -1 и 20: \\n', df['children'].value_counts())"
   ]
  },
  {
   "cell_type": "code",
   "execution_count": 35,
   "id": "804e3c60-997e-4599-afe9-48c1b9f52982",
   "metadata": {},
   "outputs": [
    {
     "data": {
      "text/plain": [
       "женат / замужем          12380\n",
       "гражданский брак          4176\n",
       "Не женат / не замужем     2813\n",
       "в разводе                 1195\n",
       "вдовец / вдова             960\n",
       "Name: family_status, dtype: int64"
      ]
     },
     "execution_count": 35,
     "metadata": {},
     "output_type": "execute_result"
    }
   ],
   "source": [
    "#В столбце family_status значения записаны в разном регистре - унифицируем здесь заодно. \n",
    "df['family_status'].value_counts()\n"
   ]
  },
  {
   "cell_type": "code",
   "execution_count": 36,
   "id": "20fd62ad-148a-4276-8f70-6a50e5e4191d",
   "metadata": {},
   "outputs": [
    {
     "data": {
      "text/plain": [
       "женат / замужем          12380\n",
       "гражданский брак          4176\n",
       "не женат / не замужем     2813\n",
       "в разводе                 1195\n",
       "вдовец / вдова             960\n",
       "Name: family_status, dtype: int64"
      ]
     },
     "execution_count": 36,
     "metadata": {},
     "output_type": "execute_result"
    }
   ],
   "source": [
    "#Устраним эту проблему с помощью метода str.lower() и проверим результат\n",
    "df['family_status'] = df['family_status'].str.lower()\n",
    "df['family_status'].value_counts()\n"
   ]
  },
  {
   "cell_type": "markdown",
   "id": "9ba99f55-cb4b-4f32-9ffc-ec0e5bb70fc8",
   "metadata": {},
   "source": [
    "### Обработка дубликатов"
   ]
  },
  {
   "cell_type": "markdown",
   "id": "04d7e686-6016-43af-a49d-41933c9e3157",
   "metadata": {},
   "source": [
    "Сначала лучше устранить неявные дубликаты, а потом одним разом удалить все явные. "
   ]
  },
  {
   "cell_type": "markdown",
   "id": "51e2cb07-13a1-4e3f-b9d7-f45a14ddbce3",
   "metadata": {},
   "source": [
    "В [начале исследования](#intro) мы смотрели на уникальные значения данных для столбцов в датафрейме и обнаружили неявные дубликаты в значениях столбца 'education'."
   ]
  },
  {
   "cell_type": "code",
   "execution_count": 37,
   "id": "21c74bbf-883d-41b2-9640-948cc0e4620b",
   "metadata": {},
   "outputs": [
    {
     "name": "stdout",
     "output_type": "stream",
     "text": [
      "Значения в education после применения str.lower:\n",
      " среднее                15233\n",
      "высшее                  5260\n",
      "неоконченное высшее      743\n",
      "начальное                282\n",
      "ученая степень             6\n",
      "Name: education, dtype: int64\n"
     ]
    }
   ],
   "source": [
    "# Приведем к нижнему регистру все значения в столбце education и тут же проверим результат выполнения метода str.lower():\n",
    "df['education'] = df['education'].str.lower()\n",
    "print('Значения в education после применения str.lower:\\n', df['education'].value_counts())"
   ]
  },
  {
   "cell_type": "code",
   "execution_count": 38,
   "id": "b31de227-b3c3-43c2-8951-4e24219062c1",
   "metadata": {},
   "outputs": [
    {
     "name": "stdout",
     "output_type": "stream",
     "text": [
      "Количество явных дубликатов в таблице: 71\n"
     ]
    }
   ],
   "source": [
    "# Посмотрим на количество явных дубликатов с помощью цепочки методов duplicated().sum():\n",
    "print('Количество явных дубликатов в таблице:', df.duplicated().sum())"
   ]
  },
  {
   "cell_type": "code",
   "execution_count": 39,
   "id": "571fcd33-7bd6-441a-99d0-f83717e440cb",
   "metadata": {},
   "outputs": [
    {
     "name": "stdout",
     "output_type": "stream",
     "text": [
      "Количество дубликатов после применения метода drop_duplicates:  0\n",
      "Количество наблюдений в данных после удаления всех дубликатов:  21453\n"
     ]
    }
   ],
   "source": [
    "#Удаляем явные дубликаты вместе с их индексами (reset_index(drop=True): \n",
    "df = df.drop_duplicates().reset_index(drop=True)\n",
    "print('Количество дубликатов после применения метода drop_duplicates: ', df.duplicated().sum())\n",
    "print('Количество наблюдений в данных после удаления всех дубликатов: ', df.shape[0])"
   ]
  },
  {
   "cell_type": "markdown",
   "id": "c1e69f12-9673-4c96-a003-0b381f02702b",
   "metadata": {},
   "source": [
    "**Вывод**"
   ]
  },
  {
   "cell_type": "markdown",
   "id": "7d5ccd0c-0561-4a8e-b568-f22b2cb25362",
   "metadata": {},
   "source": [
    "<div style=\"border:solid green 2px; padding: 20px\">\n",
    "\n",
    "В нашем датасете были обнаружены явные и неявные дубликаты. Одна из причин появления: некоторые значения были набраны разными регистрами. Явные дубликаты успешно удалены с помощью цепочки методов drop_duplicates().reset_index(drop=True). Неявные дубликаты - строковые значения в разных регистрах - устранены с помощью метода str.lower(). "
   ]
  },
  {
   "cell_type": "markdown",
   "id": "9c3ff2d4-5cbc-4e0b-a568-34e0a6183ee3",
   "metadata": {},
   "source": [
    "### Лемматизация"
   ]
  },
  {
   "cell_type": "code",
   "execution_count": 40,
   "id": "3699e25d-8a40-4d08-a60b-63eccdd81a69",
   "metadata": {
    "scrolled": true
   },
   "outputs": [
    {
     "data": {
      "text/plain": [
       "свадьба                                   791\n",
       "на проведение свадьбы                     768\n",
       "сыграть свадьбу                           765\n",
       "операции с недвижимостью                  675\n",
       "покупка коммерческой недвижимости         661\n",
       "операции с жильем                         652\n",
       "покупка жилья для сдачи                   651\n",
       "операции с коммерческой недвижимостью     650\n",
       "покупка жилья                             646\n",
       "жилье                                     646\n",
       "покупка жилья для семьи                   638\n",
       "строительство собственной недвижимости    635\n",
       "недвижимость                              633\n",
       "операции со своей недвижимостью           627\n",
       "строительство жилой недвижимости          624\n",
       "покупка недвижимости                      620\n",
       "покупка своего жилья                      620\n",
       "строительство недвижимости                619\n",
       "ремонт жилью                              607\n",
       "покупка жилой недвижимости                606\n",
       "на покупку своего автомобиля              505\n",
       "заняться высшим образованием              496\n",
       "автомобиль                                494\n",
       "сделка с подержанным автомобилем          486\n",
       "свой автомобиль                           478\n",
       "на покупку подержанного автомобиля        478\n",
       "автомобили                                478\n",
       "на покупку автомобиля                     471\n",
       "приобретение автомобиля                   461\n",
       "дополнительное образование                460\n",
       "сделка с автомобилем                      455\n",
       "высшее образование                        452\n",
       "образование                               447\n",
       "получение дополнительного образования     446\n",
       "получение образования                     442\n",
       "профильное образование                    436\n",
       "получение высшего образования             426\n",
       "заняться образованием                     408\n",
       "Name: purpose, dtype: int64"
      ]
     },
     "execution_count": 40,
     "metadata": {},
     "output_type": "execute_result"
    }
   ],
   "source": [
    "#Посмотрим на значения в столбце с целью, чтобы понимать, что будем лемматизировать: \n",
    "df['purpose'].value_counts()"
   ]
  },
  {
   "cell_type": "markdown",
   "id": "d2a394d3-a586-48ab-89e3-b4285f416e31",
   "metadata": {},
   "source": [
    "Получим леммы в значениях столбца с целями получения кредита"
   ]
  },
  {
   "cell_type": "code",
   "execution_count": 41,
   "id": "b625997b-6ef7-4f9f-ac0f-af12d62c439b",
   "metadata": {
    "tags": []
   },
   "outputs": [],
   "source": [
    "#Создадим функцию, которая лемматизирует (=приводит слова к начальной форме слова) текст, удаляет пробелы и стоп-слова и возращает только полнозначные слова в начальной форме.\n",
    "\n",
    "\"\"\"\n",
    "Аргумент функции text - тип данных строка.\n",
    "Функция возращает строку из ключевых лемм - тип данных строка.\n",
    "\n",
    "\"\"\"\n",
    "\n",
    "#Возьмем список стоп-слов для русского языка из nltk.stopwords:\n",
    "russian_stopwords = stopwords.words('russian')\n",
    "\n",
    "def lemmatize_text(text):\n",
    "    lemmas = mystem.lemmatize(text) #лемматизируем текст\n",
    "    lemmas_only_key_words = [] #создаем пустой список для лемм полнозначных слов\n",
    "    for lemma in lemmas:\n",
    "#если лемма не является пробелом и не принадлежит к числу стоп-слов, то добавляем ее в наш список\n",
    "        if lemma != ' ' and lemma not in russian_stopwords: \n",
    "            lemmas_only_key_words.append(lemma)\n",
    "            \n",
    "#склеиваем список в строку, разделяя леммы пробелом\n",
    "    key_lemmas = ' '.join(lemmas_only_key_words).strip()\n",
    "    return key_lemmas"
   ]
  },
  {
   "cell_type": "code",
   "execution_count": 42,
   "id": "ed64689e-73d4-482a-909e-a587314e410d",
   "metadata": {},
   "outputs": [
    {
     "name": "stdout",
     "output_type": "stream",
     "text": [
      "Функция работает корректно:\n",
      " операция коммерческий недвижимость\n"
     ]
    }
   ],
   "source": [
    "#Протестируем функцию на отдельном значении: \n",
    "print('Функция работает корректно:\\n', lemmatize_text('операции с коммерческой недвижимостью'))"
   ]
  },
  {
   "cell_type": "code",
   "execution_count": 43,
   "id": "a8e80623-1d2f-4317-9c63-ef4a57d57c33",
   "metadata": {
    "tags": []
   },
   "outputs": [
    {
     "data": {
      "text/html": [
       "<div>\n",
       "<style scoped>\n",
       "    .dataframe tbody tr th:only-of-type {\n",
       "        vertical-align: middle;\n",
       "    }\n",
       "\n",
       "    .dataframe tbody tr th {\n",
       "        vertical-align: top;\n",
       "    }\n",
       "\n",
       "    .dataframe thead th {\n",
       "        text-align: right;\n",
       "    }\n",
       "</style>\n",
       "<table border=\"1\" class=\"dataframe\">\n",
       "  <thead>\n",
       "    <tr style=\"text-align: right;\">\n",
       "      <th></th>\n",
       "      <th>children</th>\n",
       "      <th>days_employed</th>\n",
       "      <th>dob_years</th>\n",
       "      <th>education</th>\n",
       "      <th>education_id</th>\n",
       "      <th>family_status</th>\n",
       "      <th>family_status_id</th>\n",
       "      <th>gender</th>\n",
       "      <th>income_type</th>\n",
       "      <th>debt</th>\n",
       "      <th>total_income</th>\n",
       "      <th>purpose</th>\n",
       "      <th>age_group</th>\n",
       "      <th>purpose_words</th>\n",
       "    </tr>\n",
       "  </thead>\n",
       "  <tbody>\n",
       "    <tr>\n",
       "      <th>0</th>\n",
       "      <td>1</td>\n",
       "      <td>8437</td>\n",
       "      <td>42</td>\n",
       "      <td>высшее</td>\n",
       "      <td>0</td>\n",
       "      <td>женат / замужем</td>\n",
       "      <td>0</td>\n",
       "      <td>F</td>\n",
       "      <td>сотрудник</td>\n",
       "      <td>0</td>\n",
       "      <td>253875</td>\n",
       "      <td>покупка жилья</td>\n",
       "      <td>поздний возраст</td>\n",
       "      <td>покупка жилье</td>\n",
       "    </tr>\n",
       "    <tr>\n",
       "      <th>1</th>\n",
       "      <td>1</td>\n",
       "      <td>4024</td>\n",
       "      <td>36</td>\n",
       "      <td>среднее</td>\n",
       "      <td>1</td>\n",
       "      <td>женат / замужем</td>\n",
       "      <td>0</td>\n",
       "      <td>F</td>\n",
       "      <td>сотрудник</td>\n",
       "      <td>0</td>\n",
       "      <td>112080</td>\n",
       "      <td>приобретение автомобиля</td>\n",
       "      <td>средний возраст</td>\n",
       "      <td>приобретение автомобиль</td>\n",
       "    </tr>\n",
       "    <tr>\n",
       "      <th>2</th>\n",
       "      <td>0</td>\n",
       "      <td>5623</td>\n",
       "      <td>33</td>\n",
       "      <td>среднее</td>\n",
       "      <td>1</td>\n",
       "      <td>женат / замужем</td>\n",
       "      <td>0</td>\n",
       "      <td>M</td>\n",
       "      <td>сотрудник</td>\n",
       "      <td>0</td>\n",
       "      <td>145885</td>\n",
       "      <td>покупка жилья</td>\n",
       "      <td>средний возраст</td>\n",
       "      <td>покупка жилье</td>\n",
       "    </tr>\n",
       "    <tr>\n",
       "      <th>3</th>\n",
       "      <td>3</td>\n",
       "      <td>4124</td>\n",
       "      <td>32</td>\n",
       "      <td>среднее</td>\n",
       "      <td>1</td>\n",
       "      <td>женат / замужем</td>\n",
       "      <td>0</td>\n",
       "      <td>M</td>\n",
       "      <td>сотрудник</td>\n",
       "      <td>0</td>\n",
       "      <td>267628</td>\n",
       "      <td>дополнительное образование</td>\n",
       "      <td>средний возраст</td>\n",
       "      <td>дополнительный образование</td>\n",
       "    </tr>\n",
       "    <tr>\n",
       "      <th>4</th>\n",
       "      <td>0</td>\n",
       "      <td>340266</td>\n",
       "      <td>53</td>\n",
       "      <td>среднее</td>\n",
       "      <td>1</td>\n",
       "      <td>гражданский брак</td>\n",
       "      <td>1</td>\n",
       "      <td>F</td>\n",
       "      <td>пенсионер</td>\n",
       "      <td>0</td>\n",
       "      <td>158616</td>\n",
       "      <td>сыграть свадьбу</td>\n",
       "      <td>поздний возраст</td>\n",
       "      <td>сыграть свадьба</td>\n",
       "    </tr>\n",
       "  </tbody>\n",
       "</table>\n",
       "</div>"
      ],
      "text/plain": [
       "   children  days_employed  dob_years education  education_id  \\\n",
       "0         1           8437         42    высшее             0   \n",
       "1         1           4024         36   среднее             1   \n",
       "2         0           5623         33   среднее             1   \n",
       "3         3           4124         32   среднее             1   \n",
       "4         0         340266         53   среднее             1   \n",
       "\n",
       "      family_status  family_status_id gender income_type  debt  total_income  \\\n",
       "0   женат / замужем                 0      F   сотрудник     0        253875   \n",
       "1   женат / замужем                 0      F   сотрудник     0        112080   \n",
       "2   женат / замужем                 0      M   сотрудник     0        145885   \n",
       "3   женат / замужем                 0      M   сотрудник     0        267628   \n",
       "4  гражданский брак                 1      F   пенсионер     0        158616   \n",
       "\n",
       "                      purpose        age_group               purpose_words  \n",
       "0               покупка жилья  поздний возраст               покупка жилье  \n",
       "1     приобретение автомобиля  средний возраст     приобретение автомобиль  \n",
       "2               покупка жилья  средний возраст               покупка жилье  \n",
       "3  дополнительное образование  средний возраст  дополнительный образование  \n",
       "4             сыграть свадьбу  поздний возраст             сыграть свадьба  "
      ]
     },
     "execution_count": 43,
     "metadata": {},
     "output_type": "execute_result"
    }
   ],
   "source": [
    "#Применим нашу функцию к столбцу с целями получения кредита (purpose) и запишем значения в новый столбец purpose_words:\n",
    "df['purpose_words'] = df['purpose'].apply(lemmatize_text)\n",
    "df.head()"
   ]
  },
  {
   "cell_type": "code",
   "execution_count": 44,
   "id": "451396f4-90db-40c1-a4c8-2fa427209380",
   "metadata": {
    "tags": []
   },
   "outputs": [
    {
     "data": {
      "text/plain": [
       "автомобиль                                972\n",
       "свадьба                                   791\n",
       "проведение свадьба                        768\n",
       "сыграть свадьба                           765\n",
       "операция недвижимость                     675\n",
       "покупка коммерческий недвижимость         661\n",
       "операция жилье                            652\n",
       "покупка жилье сдача                       651\n",
       "операция коммерческий недвижимость        650\n",
       "покупка жилье                             646\n",
       "жилье                                     646\n",
       "покупка жилье семья                       638\n",
       "строительство собственный недвижимость    635\n",
       "недвижимость                              633\n",
       "операция свой недвижимость                627\n",
       "строительство жилой недвижимость          624\n",
       "покупка недвижимость                      620\n",
       "покупка свой жилье                        620\n",
       "строительство недвижимость                619\n",
       "ремонт жилье                              607\n",
       "покупка жилой недвижимость                606\n",
       "покупка свой автомобиль                   505\n",
       "заниматься высокий образование            496\n",
       "сделка подержанный автомобиль             486\n",
       "покупка подержать автомобиль              478\n",
       "свой автомобиль                           478\n",
       "покупка автомобиль                        471\n",
       "приобретение автомобиль                   461\n",
       "дополнительный образование                460\n",
       "сделка автомобиль                         455\n",
       "высокий образование                       452\n",
       "образование                               447\n",
       "получение дополнительный образование      446\n",
       "получение образование                     442\n",
       "профильный образование                    436\n",
       "получение высокий образование             426\n",
       "заниматься образование                    408\n",
       "Name: purpose_words, dtype: int64"
      ]
     },
     "execution_count": 44,
     "metadata": {},
     "output_type": "execute_result"
    }
   ],
   "source": [
    "df['purpose_words'].value_counts()"
   ]
  },
  {
   "cell_type": "markdown",
   "id": "ddc6c5f8-ae4c-48d0-9f04-326110e9a4a0",
   "metadata": {},
   "source": [
    "**Вывод**"
   ]
  },
  {
   "cell_type": "markdown",
   "id": "8e6a7b52-b338-469e-92db-605919cb1a92",
   "metadata": {},
   "source": [
    "<div style=\"border:solid green 2px; padding: 20px\"> \n",
    "Мы лемматизировали значения в столбце с целями получения кредита с помощью библиотеку pymystem3 и создали новый столбец purpose_words. На основе этого столбца мы сможем категоризировать данные о цели.  "
   ]
  },
  {
   "cell_type": "markdown",
   "id": "b8941a33-5d8a-4463-bbc3-75a1c61de59a",
   "metadata": {},
   "source": [
    "### Категоризация данных"
   ]
  },
  {
   "cell_type": "code",
   "execution_count": 45,
   "id": "6e10512f-d362-4161-b9f0-31c8c3124496",
   "metadata": {},
   "outputs": [],
   "source": [
    "#Создадим функцию, которая возвращает нам категорию цели получения кредита: \n",
    "\n",
    "'''\n",
    "Функция берет на вход строковое значение, возвращает целевую категорию в зависимости от ключевого существительного.\n",
    "Там, где возможно классифицировать вид недвижимости (по наличию слов \"жилой\" и \"коммерческий\"), мы классифицируем. \n",
    "Там где это невозможно - оставляем общий термин \"недвижимость\".\n",
    "\n",
    "Аргументы функции: string (тип данных строка)\n",
    "Функция возвращает строку.\n",
    "\n",
    "'''\n",
    "\n",
    "def get_purpose_category (string):\n",
    "    \n",
    "    if 'автомобиль' in string:\n",
    "        return 'автомобиль'\n",
    "    \n",
    "    elif 'свадьба' in string:\n",
    "        return 'свадьба'\n",
    "    \n",
    "    elif 'недвижимость' in string and 'коммерческий' in string:\n",
    "        return 'коммерческая недвижимость'\n",
    "    \n",
    "    elif 'жилой' in string and 'недвижимость' in string:\n",
    "        return 'жилая недвижимость'\n",
    "    \n",
    "    elif 'жилье' in string:\n",
    "        return 'жилая недвижимость'\n",
    "    \n",
    "    elif 'образование' in string:\n",
    "        return 'образование'\n",
    "    \n",
    "    else:\n",
    "        return 'недвижимость'\n",
    "        "
   ]
  },
  {
   "cell_type": "code",
   "execution_count": 46,
   "id": "c468cd2d-7493-41f3-83e4-023afea28500",
   "metadata": {},
   "outputs": [
    {
     "name": "stdout",
     "output_type": "stream",
     "text": [
      "автомобиль\n",
      "коммерческая недвижимость\n",
      "жилая недвижимость\n",
      "жилая недвижимость\n",
      "недвижимость\n",
      "свадьба\n",
      "образование\n"
     ]
    }
   ],
   "source": [
    "#Протестируем функцию на отдельных значениях:\n",
    "print(get_purpose_category('покупка свой автомобиль'))\n",
    "print(get_purpose_category('операция коммерческий недвижимость'))\n",
    "print(get_purpose_category('покупка жилье сдача'))\n",
    "print(get_purpose_category('покупка жилой недвижимость'))   \n",
    "print(get_purpose_category('операция свой недвижимость'))\n",
    "print(get_purpose_category('сыграть свадьба'))\n",
    "print(get_purpose_category('получение дополнительный образование'))      "
   ]
  },
  {
   "cell_type": "code",
   "execution_count": 47,
   "id": "81ca65a0-5ed3-4647-88ba-b818e14c7f72",
   "metadata": {},
   "outputs": [],
   "source": [
    "# Все готово для категоризации данных о целях получения кредита: \n",
    "#вычислим целевые категории по ключевым словам из столбца 'purpose' с помощью нашей функции get_purpose_category внутри apply() и запишем новые значения в столбец purpose_category:\n",
    "df['purpose_category'] = df['purpose_words'].apply(get_purpose_category)"
   ]
  },
  {
   "cell_type": "code",
   "execution_count": 48,
   "id": "0108d4da-e2cf-43ac-a9cf-cdf1bee00c06",
   "metadata": {},
   "outputs": [
    {
     "data": {
      "text/plain": [
       "жилая недвижимость           5690\n",
       "автомобиль                   4306\n",
       "образование                  4013\n",
       "недвижимость                 3809\n",
       "свадьба                      2324\n",
       "коммерческая недвижимость    1311\n",
       "Name: purpose_category, dtype: int64"
      ]
     },
     "execution_count": 48,
     "metadata": {},
     "output_type": "execute_result"
    }
   ],
   "source": [
    "# Проверим, сколько каких значений у нас получилось в новом столбце purpose_category:\n",
    "df['purpose_category'].value_counts()"
   ]
  },
  {
   "cell_type": "code",
   "execution_count": 49,
   "id": "a6b319ea-e6e4-4076-ac77-dee2961c520b",
   "metadata": {},
   "outputs": [],
   "source": [
    "#Столбец c ключевыми словами для цели нам более не нужен - удалим его с помощью drop() \n",
    "#и сохраним изменения в исходном датафрейме с помощью параметра inplace=True:\n",
    "df.drop('purpose_words', axis=1, inplace=True)"
   ]
  },
  {
   "cell_type": "code",
   "execution_count": 50,
   "id": "3de4666f-d253-4baf-be14-c521e002dd42",
   "metadata": {},
   "outputs": [
    {
     "data": {
      "text/html": [
       "<div>\n",
       "<style scoped>\n",
       "    .dataframe tbody tr th:only-of-type {\n",
       "        vertical-align: middle;\n",
       "    }\n",
       "\n",
       "    .dataframe tbody tr th {\n",
       "        vertical-align: top;\n",
       "    }\n",
       "\n",
       "    .dataframe thead th {\n",
       "        text-align: right;\n",
       "    }\n",
       "</style>\n",
       "<table border=\"1\" class=\"dataframe\">\n",
       "  <thead>\n",
       "    <tr style=\"text-align: right;\">\n",
       "      <th></th>\n",
       "      <th>children</th>\n",
       "      <th>days_employed</th>\n",
       "      <th>dob_years</th>\n",
       "      <th>education</th>\n",
       "      <th>education_id</th>\n",
       "      <th>family_status</th>\n",
       "      <th>family_status_id</th>\n",
       "      <th>gender</th>\n",
       "      <th>income_type</th>\n",
       "      <th>debt</th>\n",
       "      <th>total_income</th>\n",
       "      <th>purpose</th>\n",
       "      <th>age_group</th>\n",
       "      <th>purpose_category</th>\n",
       "    </tr>\n",
       "  </thead>\n",
       "  <tbody>\n",
       "    <tr>\n",
       "      <th>0</th>\n",
       "      <td>1</td>\n",
       "      <td>8437</td>\n",
       "      <td>42</td>\n",
       "      <td>высшее</td>\n",
       "      <td>0</td>\n",
       "      <td>женат / замужем</td>\n",
       "      <td>0</td>\n",
       "      <td>F</td>\n",
       "      <td>сотрудник</td>\n",
       "      <td>0</td>\n",
       "      <td>253875</td>\n",
       "      <td>покупка жилья</td>\n",
       "      <td>поздний возраст</td>\n",
       "      <td>жилая недвижимость</td>\n",
       "    </tr>\n",
       "    <tr>\n",
       "      <th>1</th>\n",
       "      <td>1</td>\n",
       "      <td>4024</td>\n",
       "      <td>36</td>\n",
       "      <td>среднее</td>\n",
       "      <td>1</td>\n",
       "      <td>женат / замужем</td>\n",
       "      <td>0</td>\n",
       "      <td>F</td>\n",
       "      <td>сотрудник</td>\n",
       "      <td>0</td>\n",
       "      <td>112080</td>\n",
       "      <td>приобретение автомобиля</td>\n",
       "      <td>средний возраст</td>\n",
       "      <td>автомобиль</td>\n",
       "    </tr>\n",
       "    <tr>\n",
       "      <th>2</th>\n",
       "      <td>0</td>\n",
       "      <td>5623</td>\n",
       "      <td>33</td>\n",
       "      <td>среднее</td>\n",
       "      <td>1</td>\n",
       "      <td>женат / замужем</td>\n",
       "      <td>0</td>\n",
       "      <td>M</td>\n",
       "      <td>сотрудник</td>\n",
       "      <td>0</td>\n",
       "      <td>145885</td>\n",
       "      <td>покупка жилья</td>\n",
       "      <td>средний возраст</td>\n",
       "      <td>жилая недвижимость</td>\n",
       "    </tr>\n",
       "    <tr>\n",
       "      <th>3</th>\n",
       "      <td>3</td>\n",
       "      <td>4124</td>\n",
       "      <td>32</td>\n",
       "      <td>среднее</td>\n",
       "      <td>1</td>\n",
       "      <td>женат / замужем</td>\n",
       "      <td>0</td>\n",
       "      <td>M</td>\n",
       "      <td>сотрудник</td>\n",
       "      <td>0</td>\n",
       "      <td>267628</td>\n",
       "      <td>дополнительное образование</td>\n",
       "      <td>средний возраст</td>\n",
       "      <td>образование</td>\n",
       "    </tr>\n",
       "    <tr>\n",
       "      <th>4</th>\n",
       "      <td>0</td>\n",
       "      <td>340266</td>\n",
       "      <td>53</td>\n",
       "      <td>среднее</td>\n",
       "      <td>1</td>\n",
       "      <td>гражданский брак</td>\n",
       "      <td>1</td>\n",
       "      <td>F</td>\n",
       "      <td>пенсионер</td>\n",
       "      <td>0</td>\n",
       "      <td>158616</td>\n",
       "      <td>сыграть свадьбу</td>\n",
       "      <td>поздний возраст</td>\n",
       "      <td>свадьба</td>\n",
       "    </tr>\n",
       "  </tbody>\n",
       "</table>\n",
       "</div>"
      ],
      "text/plain": [
       "   children  days_employed  dob_years education  education_id  \\\n",
       "0         1           8437         42    высшее             0   \n",
       "1         1           4024         36   среднее             1   \n",
       "2         0           5623         33   среднее             1   \n",
       "3         3           4124         32   среднее             1   \n",
       "4         0         340266         53   среднее             1   \n",
       "\n",
       "      family_status  family_status_id gender income_type  debt  total_income  \\\n",
       "0   женат / замужем                 0      F   сотрудник     0        253875   \n",
       "1   женат / замужем                 0      F   сотрудник     0        112080   \n",
       "2   женат / замужем                 0      M   сотрудник     0        145885   \n",
       "3   женат / замужем                 0      M   сотрудник     0        267628   \n",
       "4  гражданский брак                 1      F   пенсионер     0        158616   \n",
       "\n",
       "                      purpose        age_group    purpose_category  \n",
       "0               покупка жилья  поздний возраст  жилая недвижимость  \n",
       "1     приобретение автомобиля  средний возраст          автомобиль  \n",
       "2               покупка жилья  средний возраст  жилая недвижимость  \n",
       "3  дополнительное образование  средний возраст         образование  \n",
       "4             сыграть свадьбу  поздний возраст             свадьба  "
      ]
     },
     "execution_count": 50,
     "metadata": {},
     "output_type": "execute_result"
    }
   ],
   "source": [
    "df.head()"
   ]
  },
  {
   "cell_type": "markdown",
   "id": "b7d1700c-4502-4d03-956b-09014a934074",
   "metadata": {},
   "source": [
    "**Вывод**"
   ]
  },
  {
   "cell_type": "markdown",
   "id": "ee7fcd79-4bf3-410f-bbdd-535ec7a99a22",
   "metadata": {},
   "source": [
    "<div style=\"border:solid green 2px; padding: 20px\"> \n",
    "Данные о целях получения кредита успешно категоризированы. \n",
    "    \n",
    "Мы разделили все цели на 6 категорий: \n",
    "\n",
    "* жилая недвижимость\n",
    "* коммерческая недвижимость\n",
    "* недвижимость (общая категория для тех случаев, когда не было конкретизации)\n",
    "* автомобиль\n",
    "* образование \n",
    "* свадьба \n",
    "\n",
    "Можно утверждать, что чаще всего люди берут кредиты для вложения в жилую недвижимость, автомобиль и образование."
   ]
  },
  {
   "cell_type": "markdown",
   "id": "42edabb7-cf54-4d42-89a3-81853f528a5e",
   "metadata": {},
   "source": [
    "## Шаг 3. Ответьте на вопросы"
   ]
  },
  {
   "cell_type": "markdown",
   "id": "1057a499-2ac7-4a65-9599-61803d4fd536",
   "metadata": {},
   "source": [
    "- Есть ли зависимость между наличием детей и возвратом кредита в срок?"
   ]
  },
  {
   "cell_type": "code",
   "execution_count": 51,
   "id": "d97c6ad0-3750-40c3-bd96-bb324cf1bfcf",
   "metadata": {},
   "outputs": [
    {
     "name": "stdout",
     "output_type": "stream",
     "text": [
      "Процент просроченных платежей: 8.1%\n",
      "Количество должников: 1741\n"
     ]
    }
   ],
   "source": [
    "#Для начала посмотрим, какой процент клиентов не выплачивает кредит в срок в наших данных\n",
    "print(\"Процент просроченных платежей: {:.1%}\".format(df['debt'].mean()))\n",
    "print('Количество должников:', df['debt'].sum())"
   ]
  },
  {
   "cell_type": "code",
   "execution_count": 52,
   "id": "62dd838a-44c1-464f-8f75-c82b5a95db7f",
   "metadata": {},
   "outputs": [
    {
     "data": {
      "text/html": [
       "<div>\n",
       "<style scoped>\n",
       "    .dataframe tbody tr th:only-of-type {\n",
       "        vertical-align: middle;\n",
       "    }\n",
       "\n",
       "    .dataframe tbody tr th {\n",
       "        vertical-align: top;\n",
       "    }\n",
       "\n",
       "    .dataframe thead th {\n",
       "        text-align: right;\n",
       "    }\n",
       "</style>\n",
       "<table border=\"1\" class=\"dataframe\">\n",
       "  <thead>\n",
       "    <tr style=\"text-align: right;\">\n",
       "      <th>debt</th>\n",
       "      <th>0</th>\n",
       "      <th>1</th>\n",
       "      <th>All</th>\n",
       "    </tr>\n",
       "    <tr>\n",
       "      <th>children</th>\n",
       "      <th></th>\n",
       "      <th></th>\n",
       "      <th></th>\n",
       "    </tr>\n",
       "  </thead>\n",
       "  <tbody>\n",
       "    <tr>\n",
       "      <th>0</th>\n",
       "      <td>13027</td>\n",
       "      <td>1063</td>\n",
       "      <td>14090</td>\n",
       "    </tr>\n",
       "    <tr>\n",
       "      <th>1</th>\n",
       "      <td>4410</td>\n",
       "      <td>445</td>\n",
       "      <td>4855</td>\n",
       "    </tr>\n",
       "    <tr>\n",
       "      <th>2</th>\n",
       "      <td>1926</td>\n",
       "      <td>202</td>\n",
       "      <td>2128</td>\n",
       "    </tr>\n",
       "    <tr>\n",
       "      <th>3</th>\n",
       "      <td>303</td>\n",
       "      <td>27</td>\n",
       "      <td>330</td>\n",
       "    </tr>\n",
       "    <tr>\n",
       "      <th>4</th>\n",
       "      <td>37</td>\n",
       "      <td>4</td>\n",
       "      <td>41</td>\n",
       "    </tr>\n",
       "    <tr>\n",
       "      <th>5</th>\n",
       "      <td>9</td>\n",
       "      <td>0</td>\n",
       "      <td>9</td>\n",
       "    </tr>\n",
       "    <tr>\n",
       "      <th>All</th>\n",
       "      <td>19712</td>\n",
       "      <td>1741</td>\n",
       "      <td>21453</td>\n",
       "    </tr>\n",
       "  </tbody>\n",
       "</table>\n",
       "</div>"
      ],
      "text/plain": [
       "debt          0     1    All\n",
       "children                    \n",
       "0         13027  1063  14090\n",
       "1          4410   445   4855\n",
       "2          1926   202   2128\n",
       "3           303    27    330\n",
       "4            37     4     41\n",
       "5             9     0      9\n",
       "All       19712  1741  21453"
      ]
     },
     "execution_count": 52,
     "metadata": {},
     "output_type": "execute_result"
    }
   ],
   "source": [
    "# Построим сводную таблицу методом pivot_table, сгруппировав данные по количеству детей и факту задолжности, посчитаем количество клиентов с долгами и без в зависимости от количества детей.\n",
    "# Среди должников нет клиентов с 5 детьми, поэтому заполним значение NaN с помощью параметра fill_value=0.\n",
    "# C помощью параметра margins выведем обобщенные значения по каждой группе.\n",
    "pivot_table_children = df.pivot_table(index=['children'], columns='debt', values='income_type', aggfunc='count',fill_value=0, margins=True)\n",
    "pivot_table_children "
   ]
  },
  {
   "cell_type": "code",
   "execution_count": 53,
   "id": "4637b67d-35ef-45d9-bd63-cdbc6c33c949",
   "metadata": {
    "tags": []
   },
   "outputs": [
    {
     "data": {
      "text/html": [
       "<div>\n",
       "<style scoped>\n",
       "    .dataframe tbody tr th:only-of-type {\n",
       "        vertical-align: middle;\n",
       "    }\n",
       "\n",
       "    .dataframe tbody tr th {\n",
       "        vertical-align: top;\n",
       "    }\n",
       "\n",
       "    .dataframe thead th {\n",
       "        text-align: right;\n",
       "    }\n",
       "</style>\n",
       "<table border=\"1\" class=\"dataframe\">\n",
       "  <thead>\n",
       "    <tr style=\"text-align: right;\">\n",
       "      <th></th>\n",
       "      <th>no_debts</th>\n",
       "      <th>with_debts</th>\n",
       "      <th>all</th>\n",
       "    </tr>\n",
       "    <tr>\n",
       "      <th>children</th>\n",
       "      <th></th>\n",
       "      <th></th>\n",
       "      <th></th>\n",
       "    </tr>\n",
       "  </thead>\n",
       "  <tbody>\n",
       "    <tr>\n",
       "      <th>0</th>\n",
       "      <td>13027</td>\n",
       "      <td>1063</td>\n",
       "      <td>14090</td>\n",
       "    </tr>\n",
       "    <tr>\n",
       "      <th>1</th>\n",
       "      <td>4410</td>\n",
       "      <td>445</td>\n",
       "      <td>4855</td>\n",
       "    </tr>\n",
       "    <tr>\n",
       "      <th>2</th>\n",
       "      <td>1926</td>\n",
       "      <td>202</td>\n",
       "      <td>2128</td>\n",
       "    </tr>\n",
       "    <tr>\n",
       "      <th>3</th>\n",
       "      <td>303</td>\n",
       "      <td>27</td>\n",
       "      <td>330</td>\n",
       "    </tr>\n",
       "    <tr>\n",
       "      <th>4</th>\n",
       "      <td>37</td>\n",
       "      <td>4</td>\n",
       "      <td>41</td>\n",
       "    </tr>\n",
       "    <tr>\n",
       "      <th>5</th>\n",
       "      <td>9</td>\n",
       "      <td>0</td>\n",
       "      <td>9</td>\n",
       "    </tr>\n",
       "    <tr>\n",
       "      <th>All</th>\n",
       "      <td>19712</td>\n",
       "      <td>1741</td>\n",
       "      <td>21453</td>\n",
       "    </tr>\n",
       "  </tbody>\n",
       "</table>\n",
       "</div>"
      ],
      "text/plain": [
       "          no_debts  with_debts    all\n",
       "children                             \n",
       "0            13027        1063  14090\n",
       "1             4410         445   4855\n",
       "2             1926         202   2128\n",
       "3              303          27    330\n",
       "4               37           4     41\n",
       "5                9           0      9\n",
       "All          19712        1741  21453"
      ]
     },
     "execution_count": 53,
     "metadata": {},
     "output_type": "execute_result"
    }
   ],
   "source": [
    "#Для лучшего прочтения таблицы изменим названия столбцов 0, 1 на 'no_debts','with_debts':\n",
    "pivot_table_children.set_axis(['no_debts','with_debts', 'all'],axis = 'columns',inplace = True)\n",
    "pivot_table_children "
   ]
  },
  {
   "cell_type": "code",
   "execution_count": 54,
   "id": "443d170d-ef05-460d-92b3-425bca6176a3",
   "metadata": {},
   "outputs": [],
   "source": [
    "#Добавим столбец с процентом клиентов, не имеющих задолжность, от общего числа клиентов по каждой группе в зависимости от количества детей.\n",
    "pivot_table_children['percent_no_debts'] = pivot_table_children['no_debts'] / pivot_table_children['all'] * 100\n",
    "pivot_table_children['percent_with_debts'] = pivot_table_children['with_debts'] / pivot_table_children['all'] * 100\n",
    "\n",
    "# Поменяем тип данных на целочисленный (после операции выше он стал дробным)\n",
    "pivot_table_children['percent_no_debts'] = pivot_table_children['percent_no_debts'].astype('int')\n",
    "pivot_table_children['percent_with_debts'] = pivot_table_children['percent_with_debts'].astype('int')"
   ]
  },
  {
   "cell_type": "code",
   "execution_count": 55,
   "id": "71590df8-c0b4-4dcf-962e-17c770bf93f4",
   "metadata": {},
   "outputs": [
    {
     "data": {
      "text/html": [
       "<div>\n",
       "<style scoped>\n",
       "    .dataframe tbody tr th:only-of-type {\n",
       "        vertical-align: middle;\n",
       "    }\n",
       "\n",
       "    .dataframe tbody tr th {\n",
       "        vertical-align: top;\n",
       "    }\n",
       "\n",
       "    .dataframe thead th {\n",
       "        text-align: right;\n",
       "    }\n",
       "</style>\n",
       "<table border=\"1\" class=\"dataframe\">\n",
       "  <thead>\n",
       "    <tr style=\"text-align: right;\">\n",
       "      <th></th>\n",
       "      <th>no_debts</th>\n",
       "      <th>with_debts</th>\n",
       "      <th>all</th>\n",
       "      <th>percent_no_debts</th>\n",
       "      <th>percent_with_debts</th>\n",
       "    </tr>\n",
       "    <tr>\n",
       "      <th>children</th>\n",
       "      <th></th>\n",
       "      <th></th>\n",
       "      <th></th>\n",
       "      <th></th>\n",
       "      <th></th>\n",
       "    </tr>\n",
       "  </thead>\n",
       "  <tbody>\n",
       "    <tr>\n",
       "      <th>0</th>\n",
       "      <td>13027</td>\n",
       "      <td>1063</td>\n",
       "      <td>14090</td>\n",
       "      <td>92</td>\n",
       "      <td>7</td>\n",
       "    </tr>\n",
       "    <tr>\n",
       "      <th>1</th>\n",
       "      <td>4410</td>\n",
       "      <td>445</td>\n",
       "      <td>4855</td>\n",
       "      <td>90</td>\n",
       "      <td>9</td>\n",
       "    </tr>\n",
       "    <tr>\n",
       "      <th>2</th>\n",
       "      <td>1926</td>\n",
       "      <td>202</td>\n",
       "      <td>2128</td>\n",
       "      <td>90</td>\n",
       "      <td>9</td>\n",
       "    </tr>\n",
       "    <tr>\n",
       "      <th>3</th>\n",
       "      <td>303</td>\n",
       "      <td>27</td>\n",
       "      <td>330</td>\n",
       "      <td>91</td>\n",
       "      <td>8</td>\n",
       "    </tr>\n",
       "    <tr>\n",
       "      <th>4</th>\n",
       "      <td>37</td>\n",
       "      <td>4</td>\n",
       "      <td>41</td>\n",
       "      <td>90</td>\n",
       "      <td>9</td>\n",
       "    </tr>\n",
       "    <tr>\n",
       "      <th>5</th>\n",
       "      <td>9</td>\n",
       "      <td>0</td>\n",
       "      <td>9</td>\n",
       "      <td>100</td>\n",
       "      <td>0</td>\n",
       "    </tr>\n",
       "    <tr>\n",
       "      <th>All</th>\n",
       "      <td>19712</td>\n",
       "      <td>1741</td>\n",
       "      <td>21453</td>\n",
       "      <td>91</td>\n",
       "      <td>8</td>\n",
       "    </tr>\n",
       "  </tbody>\n",
       "</table>\n",
       "</div>"
      ],
      "text/plain": [
       "          no_debts  with_debts    all  percent_no_debts  percent_with_debts\n",
       "children                                                                   \n",
       "0            13027        1063  14090                92                   7\n",
       "1             4410         445   4855                90                   9\n",
       "2             1926         202   2128                90                   9\n",
       "3              303          27    330                91                   8\n",
       "4               37           4     41                90                   9\n",
       "5                9           0      9               100                   0\n",
       "All          19712        1741  21453                91                   8"
      ]
     },
     "execution_count": 55,
     "metadata": {},
     "output_type": "execute_result"
    }
   ],
   "source": [
    "pivot_table_children"
   ]
  },
  {
   "cell_type": "code",
   "execution_count": 56,
   "id": "831f5e42-d9e4-45d3-9ad3-2013f13780f6",
   "metadata": {},
   "outputs": [],
   "source": [
    "#Столбец c обобщенными данными нам больше не нужен - удалим его с помощью drop() и отсортируем значения столбца percent_no_debts по убыванию:\n",
    "pivot_table_children = pivot_table_children.drop('all', axis=1).sort_values(by='percent_no_debts', ascending=False)"
   ]
  },
  {
   "cell_type": "code",
   "execution_count": 57,
   "id": "abfa4386-121c-4761-a926-caaeac24635c",
   "metadata": {},
   "outputs": [
    {
     "data": {
      "text/html": [
       "<div>\n",
       "<style scoped>\n",
       "    .dataframe tbody tr th:only-of-type {\n",
       "        vertical-align: middle;\n",
       "    }\n",
       "\n",
       "    .dataframe tbody tr th {\n",
       "        vertical-align: top;\n",
       "    }\n",
       "\n",
       "    .dataframe thead th {\n",
       "        text-align: right;\n",
       "    }\n",
       "</style>\n",
       "<table border=\"1\" class=\"dataframe\">\n",
       "  <thead>\n",
       "    <tr style=\"text-align: right;\">\n",
       "      <th></th>\n",
       "      <th>no_debts</th>\n",
       "      <th>with_debts</th>\n",
       "      <th>percent_no_debts</th>\n",
       "      <th>percent_with_debts</th>\n",
       "    </tr>\n",
       "    <tr>\n",
       "      <th>children</th>\n",
       "      <th></th>\n",
       "      <th></th>\n",
       "      <th></th>\n",
       "      <th></th>\n",
       "    </tr>\n",
       "  </thead>\n",
       "  <tbody>\n",
       "    <tr>\n",
       "      <th>5</th>\n",
       "      <td>9</td>\n",
       "      <td>0</td>\n",
       "      <td>100</td>\n",
       "      <td>0</td>\n",
       "    </tr>\n",
       "    <tr>\n",
       "      <th>0</th>\n",
       "      <td>13027</td>\n",
       "      <td>1063</td>\n",
       "      <td>92</td>\n",
       "      <td>7</td>\n",
       "    </tr>\n",
       "    <tr>\n",
       "      <th>3</th>\n",
       "      <td>303</td>\n",
       "      <td>27</td>\n",
       "      <td>91</td>\n",
       "      <td>8</td>\n",
       "    </tr>\n",
       "    <tr>\n",
       "      <th>All</th>\n",
       "      <td>19712</td>\n",
       "      <td>1741</td>\n",
       "      <td>91</td>\n",
       "      <td>8</td>\n",
       "    </tr>\n",
       "    <tr>\n",
       "      <th>1</th>\n",
       "      <td>4410</td>\n",
       "      <td>445</td>\n",
       "      <td>90</td>\n",
       "      <td>9</td>\n",
       "    </tr>\n",
       "    <tr>\n",
       "      <th>2</th>\n",
       "      <td>1926</td>\n",
       "      <td>202</td>\n",
       "      <td>90</td>\n",
       "      <td>9</td>\n",
       "    </tr>\n",
       "    <tr>\n",
       "      <th>4</th>\n",
       "      <td>37</td>\n",
       "      <td>4</td>\n",
       "      <td>90</td>\n",
       "      <td>9</td>\n",
       "    </tr>\n",
       "  </tbody>\n",
       "</table>\n",
       "</div>"
      ],
      "text/plain": [
       "          no_debts  with_debts  percent_no_debts  percent_with_debts\n",
       "children                                                            \n",
       "5                9           0               100                   0\n",
       "0            13027        1063                92                   7\n",
       "3              303          27                91                   8\n",
       "All          19712        1741                91                   8\n",
       "1             4410         445                90                   9\n",
       "2             1926         202                90                   9\n",
       "4               37           4                90                   9"
      ]
     },
     "execution_count": 57,
     "metadata": {},
     "output_type": "execute_result"
    }
   ],
   "source": [
    "#Посмотрим на результаты:\n",
    "pivot_table_children"
   ]
  },
  {
   "cell_type": "markdown",
   "id": "487bbb89-7e64-4503-9b20-f7e12d8b62a2",
   "metadata": {},
   "source": [
    "**Вывод**"
   ]
  },
  {
   "cell_type": "markdown",
   "id": "bed34cef-ec84-41c8-a061-3fe1529b40c2",
   "metadata": {},
   "source": [
    "<div style=\"border:solid green 2px; padding: 20px\"> \n",
    "\n",
    "Наличие ребенка влияет негативным образом на факт погашения кредита в срок. Чаще всего кредит возращают в срок люди, у которых нет детей. И среди должников наблюдаем наименьший процент тех, у кого детей нет. "
   ]
  },
  {
   "cell_type": "markdown",
   "id": "4521b5ff-dad7-4cb6-a655-2ce1331a29fd",
   "metadata": {},
   "source": [
    "- Есть ли зависимость между семейным положением и возвратом кредита в срок?"
   ]
  },
  {
   "cell_type": "code",
   "execution_count": 58,
   "id": "726166b8-5905-4a16-9cba-0fc90c92cf5e",
   "metadata": {},
   "outputs": [],
   "source": [
    "#Построим сводную таблицу, сгруппировав клиентов в зависимости от семейного положения и факта задолжности\n",
    "pivot_table_family = df.pivot_table(index='family_status', columns='debt', values='family_status_id', aggfunc='count', margins=True)\n",
    "\n",
    "#Изменим названия столбцов 0, 1:\n",
    "pivot_table_family.set_axis(['no_debts','with_debts', 'all'],axis = 'columns',inplace = True)"
   ]
  },
  {
   "cell_type": "code",
   "execution_count": 59,
   "id": "bf8ef04e-7716-4d11-a1ea-090cbac2e578",
   "metadata": {},
   "outputs": [
    {
     "data": {
      "text/html": [
       "<div>\n",
       "<style scoped>\n",
       "    .dataframe tbody tr th:only-of-type {\n",
       "        vertical-align: middle;\n",
       "    }\n",
       "\n",
       "    .dataframe tbody tr th {\n",
       "        vertical-align: top;\n",
       "    }\n",
       "\n",
       "    .dataframe thead th {\n",
       "        text-align: right;\n",
       "    }\n",
       "</style>\n",
       "<table border=\"1\" class=\"dataframe\">\n",
       "  <thead>\n",
       "    <tr style=\"text-align: right;\">\n",
       "      <th></th>\n",
       "      <th>no_debts</th>\n",
       "      <th>with_debts</th>\n",
       "      <th>all</th>\n",
       "    </tr>\n",
       "    <tr>\n",
       "      <th>family_status</th>\n",
       "      <th></th>\n",
       "      <th></th>\n",
       "      <th></th>\n",
       "    </tr>\n",
       "  </thead>\n",
       "  <tbody>\n",
       "    <tr>\n",
       "      <th>в разводе</th>\n",
       "      <td>1110</td>\n",
       "      <td>85</td>\n",
       "      <td>1195</td>\n",
       "    </tr>\n",
       "    <tr>\n",
       "      <th>вдовец / вдова</th>\n",
       "      <td>896</td>\n",
       "      <td>63</td>\n",
       "      <td>959</td>\n",
       "    </tr>\n",
       "    <tr>\n",
       "      <th>гражданский брак</th>\n",
       "      <td>3762</td>\n",
       "      <td>388</td>\n",
       "      <td>4150</td>\n",
       "    </tr>\n",
       "    <tr>\n",
       "      <th>женат / замужем</th>\n",
       "      <td>11408</td>\n",
       "      <td>931</td>\n",
       "      <td>12339</td>\n",
       "    </tr>\n",
       "    <tr>\n",
       "      <th>не женат / не замужем</th>\n",
       "      <td>2536</td>\n",
       "      <td>274</td>\n",
       "      <td>2810</td>\n",
       "    </tr>\n",
       "    <tr>\n",
       "      <th>All</th>\n",
       "      <td>19712</td>\n",
       "      <td>1741</td>\n",
       "      <td>21453</td>\n",
       "    </tr>\n",
       "  </tbody>\n",
       "</table>\n",
       "</div>"
      ],
      "text/plain": [
       "                       no_debts  with_debts    all\n",
       "family_status                                     \n",
       "в разводе                  1110          85   1195\n",
       "вдовец / вдова              896          63    959\n",
       "гражданский брак           3762         388   4150\n",
       "женат / замужем           11408         931  12339\n",
       "не женат / не замужем      2536         274   2810\n",
       "All                       19712        1741  21453"
      ]
     },
     "execution_count": 59,
     "metadata": {},
     "output_type": "execute_result"
    }
   ],
   "source": [
    "pivot_table_family"
   ]
  },
  {
   "cell_type": "code",
   "execution_count": 60,
   "id": "cebfe363-eb6d-4825-b648-ab4d443adc77",
   "metadata": {},
   "outputs": [],
   "source": [
    "#Добавим столбцы с процентом клиентов, не имеющих задолжность и имеющих, от общего числа клиентов по каждой группе в зависимости от семейного положения.\n",
    "pivot_table_family['percent_no_debts'] = pivot_table_family['no_debts'] / pivot_table_family['all'] * 100\n",
    "pivot_table_family['percent_with_debts'] = pivot_table_family['with_debts'] / pivot_table_family['all'] * 100\n",
    "\n",
    "#Поменяем тип данных в новых столбцах\n",
    "pivot_table_family['percent_no_debts'] = pivot_table_family['percent_no_debts'].astype('int')\n",
    "pivot_table_family['percent_with_debts'] = pivot_table_family['percent_with_debts'].astype('int')"
   ]
  },
  {
   "cell_type": "code",
   "execution_count": 61,
   "id": "394b3b75-043f-417d-acc0-977c890a6932",
   "metadata": {
    "tags": []
   },
   "outputs": [],
   "source": [
    "#Столбец c обобщенными данными нам больше не нужен - удалим его с помощью drop() и отсортируем значения столбца percent_no_debts по убыванию:\n",
    "pivot_table_family = pivot_table_family.drop('all', axis=1).sort_values(by='percent_no_debts', ascending=False)"
   ]
  },
  {
   "cell_type": "code",
   "execution_count": 62,
   "id": "c433cfd0-e1b4-4c6c-887d-c41a5e99ce96",
   "metadata": {
    "tags": []
   },
   "outputs": [
    {
     "data": {
      "text/html": [
       "<div>\n",
       "<style scoped>\n",
       "    .dataframe tbody tr th:only-of-type {\n",
       "        vertical-align: middle;\n",
       "    }\n",
       "\n",
       "    .dataframe tbody tr th {\n",
       "        vertical-align: top;\n",
       "    }\n",
       "\n",
       "    .dataframe thead th {\n",
       "        text-align: right;\n",
       "    }\n",
       "</style>\n",
       "<table border=\"1\" class=\"dataframe\">\n",
       "  <thead>\n",
       "    <tr style=\"text-align: right;\">\n",
       "      <th></th>\n",
       "      <th>no_debts</th>\n",
       "      <th>with_debts</th>\n",
       "      <th>percent_no_debts</th>\n",
       "      <th>percent_with_debts</th>\n",
       "    </tr>\n",
       "    <tr>\n",
       "      <th>family_status</th>\n",
       "      <th></th>\n",
       "      <th></th>\n",
       "      <th></th>\n",
       "      <th></th>\n",
       "    </tr>\n",
       "  </thead>\n",
       "  <tbody>\n",
       "    <tr>\n",
       "      <th>вдовец / вдова</th>\n",
       "      <td>896</td>\n",
       "      <td>63</td>\n",
       "      <td>93</td>\n",
       "      <td>6</td>\n",
       "    </tr>\n",
       "    <tr>\n",
       "      <th>в разводе</th>\n",
       "      <td>1110</td>\n",
       "      <td>85</td>\n",
       "      <td>92</td>\n",
       "      <td>7</td>\n",
       "    </tr>\n",
       "    <tr>\n",
       "      <th>женат / замужем</th>\n",
       "      <td>11408</td>\n",
       "      <td>931</td>\n",
       "      <td>92</td>\n",
       "      <td>7</td>\n",
       "    </tr>\n",
       "    <tr>\n",
       "      <th>All</th>\n",
       "      <td>19712</td>\n",
       "      <td>1741</td>\n",
       "      <td>91</td>\n",
       "      <td>8</td>\n",
       "    </tr>\n",
       "    <tr>\n",
       "      <th>гражданский брак</th>\n",
       "      <td>3762</td>\n",
       "      <td>388</td>\n",
       "      <td>90</td>\n",
       "      <td>9</td>\n",
       "    </tr>\n",
       "    <tr>\n",
       "      <th>не женат / не замужем</th>\n",
       "      <td>2536</td>\n",
       "      <td>274</td>\n",
       "      <td>90</td>\n",
       "      <td>9</td>\n",
       "    </tr>\n",
       "  </tbody>\n",
       "</table>\n",
       "</div>"
      ],
      "text/plain": [
       "                       no_debts  with_debts  percent_no_debts  \\\n",
       "family_status                                                   \n",
       "вдовец / вдова              896          63                93   \n",
       "в разводе                  1110          85                92   \n",
       "женат / замужем           11408         931                92   \n",
       "All                       19712        1741                91   \n",
       "гражданский брак           3762         388                90   \n",
       "не женат / не замужем      2536         274                90   \n",
       "\n",
       "                       percent_with_debts  \n",
       "family_status                              \n",
       "вдовец / вдова                          6  \n",
       "в разводе                               7  \n",
       "женат / замужем                         7  \n",
       "All                                     8  \n",
       "гражданский брак                        9  \n",
       "не женат / не замужем                   9  "
      ]
     },
     "execution_count": 62,
     "metadata": {},
     "output_type": "execute_result"
    }
   ],
   "source": [
    "#Смотрим результат\n",
    "pivot_table_family"
   ]
  },
  {
   "cell_type": "markdown",
   "id": "dc9c8e29-dc9a-453f-bfc4-186132a5411a",
   "metadata": {},
   "source": [
    "**Вывод**"
   ]
  },
  {
   "cell_type": "markdown",
   "id": "a234e86d-ec16-48bf-9e61-9855fd8bc982",
   "metadata": {},
   "source": [
    "<div style=\"border:solid green 2px; padding: 20px\"> \n",
    "Чаще всего кредит возвращают в срок вдовцы, разведенные и женатые и замужние, а не замужние и не женатые чаще всего имеют задолжность. Любопытно, что ответственность за принятие решение - узаконить отношения как будто бы влияет на платежеспособность\n"
   ]
  },
  {
   "cell_type": "markdown",
   "id": "707e2af4-91f8-4c00-b8e9-6e7fdd406d71",
   "metadata": {},
   "source": [
    "- Есть ли зависимость между уровнем дохода и возвратом кредита в срок?"
   ]
  },
  {
   "cell_type": "markdown",
   "id": "ec72c295-7bab-4ff7-a060-256a0d0170d0",
   "metadata": {},
   "source": [
    "Прежде нам нужно разбить клиентов на группы в зависимости от уровня ежемесячного дохода, тогда мы сможем сравнить каждую группу и сделать выводы. \n",
    "Размах значений большой: \"разрежем\" данные ежемесячного дохода на шесть интервалов: группа с максимально низким и группа с максимально высоким доходом (по 10% данных каждая), остальные группы с одинаковым количеством элементов. Границы относительно всех доходов: [10, 30, 50, 70, 90, 100]."
   ]
  },
  {
   "cell_type": "code",
   "execution_count": 63,
   "id": "95585d84-5896-443c-978e-9c3c578fb3d7",
   "metadata": {},
   "outputs": [
    {
     "data": {
      "text/plain": [
       "(116007.4, 142594.0]     4407\n",
       "(78719.4, 116007.4]      4290\n",
       "(179797.2, 269829.0]     4290\n",
       "(142594.0, 179797.2]     4174\n",
       "(20666.999, 78719.4]     2146\n",
       "(269829.0, 2265604.0]    2146\n",
       "Name: total_income, dtype: int64"
      ]
     },
     "execution_count": 63,
     "metadata": {},
     "output_type": "execute_result"
    }
   ],
   "source": [
    "#Разделим данные столбца total_income на 6 интервалов (параметр q) с помощью метода qcut:\n",
    "pd.qcut(df['total_income'], q=[0,.1,.3,.5,.7,.9,1]).value_counts()"
   ]
  },
  {
   "cell_type": "code",
   "execution_count": 64,
   "id": "b79fd878-caa1-48d8-b288-270604c702ba",
   "metadata": {},
   "outputs": [
    {
     "data": {
      "text/html": [
       "<div>\n",
       "<style scoped>\n",
       "    .dataframe tbody tr th:only-of-type {\n",
       "        vertical-align: middle;\n",
       "    }\n",
       "\n",
       "    .dataframe tbody tr th {\n",
       "        vertical-align: top;\n",
       "    }\n",
       "\n",
       "    .dataframe thead th {\n",
       "        text-align: right;\n",
       "    }\n",
       "</style>\n",
       "<table border=\"1\" class=\"dataframe\">\n",
       "  <thead>\n",
       "    <tr style=\"text-align: right;\">\n",
       "      <th></th>\n",
       "      <th>children</th>\n",
       "      <th>days_employed</th>\n",
       "      <th>dob_years</th>\n",
       "      <th>education</th>\n",
       "      <th>education_id</th>\n",
       "      <th>family_status</th>\n",
       "      <th>family_status_id</th>\n",
       "      <th>gender</th>\n",
       "      <th>income_type</th>\n",
       "      <th>debt</th>\n",
       "      <th>total_income</th>\n",
       "      <th>purpose</th>\n",
       "      <th>age_group</th>\n",
       "      <th>purpose_category</th>\n",
       "      <th>income_group</th>\n",
       "    </tr>\n",
       "  </thead>\n",
       "  <tbody>\n",
       "    <tr>\n",
       "      <th>0</th>\n",
       "      <td>1</td>\n",
       "      <td>8437</td>\n",
       "      <td>42</td>\n",
       "      <td>высшее</td>\n",
       "      <td>0</td>\n",
       "      <td>женат / замужем</td>\n",
       "      <td>0</td>\n",
       "      <td>F</td>\n",
       "      <td>сотрудник</td>\n",
       "      <td>0</td>\n",
       "      <td>253875</td>\n",
       "      <td>покупка жилья</td>\n",
       "      <td>поздний возраст</td>\n",
       "      <td>жилая недвижимость</td>\n",
       "      <td>(179797.2, 269829.0]</td>\n",
       "    </tr>\n",
       "    <tr>\n",
       "      <th>1</th>\n",
       "      <td>1</td>\n",
       "      <td>4024</td>\n",
       "      <td>36</td>\n",
       "      <td>среднее</td>\n",
       "      <td>1</td>\n",
       "      <td>женат / замужем</td>\n",
       "      <td>0</td>\n",
       "      <td>F</td>\n",
       "      <td>сотрудник</td>\n",
       "      <td>0</td>\n",
       "      <td>112080</td>\n",
       "      <td>приобретение автомобиля</td>\n",
       "      <td>средний возраст</td>\n",
       "      <td>автомобиль</td>\n",
       "      <td>(78719.4, 116007.4]</td>\n",
       "    </tr>\n",
       "    <tr>\n",
       "      <th>2</th>\n",
       "      <td>0</td>\n",
       "      <td>5623</td>\n",
       "      <td>33</td>\n",
       "      <td>среднее</td>\n",
       "      <td>1</td>\n",
       "      <td>женат / замужем</td>\n",
       "      <td>0</td>\n",
       "      <td>M</td>\n",
       "      <td>сотрудник</td>\n",
       "      <td>0</td>\n",
       "      <td>145885</td>\n",
       "      <td>покупка жилья</td>\n",
       "      <td>средний возраст</td>\n",
       "      <td>жилая недвижимость</td>\n",
       "      <td>(142594.0, 179797.2]</td>\n",
       "    </tr>\n",
       "    <tr>\n",
       "      <th>3</th>\n",
       "      <td>3</td>\n",
       "      <td>4124</td>\n",
       "      <td>32</td>\n",
       "      <td>среднее</td>\n",
       "      <td>1</td>\n",
       "      <td>женат / замужем</td>\n",
       "      <td>0</td>\n",
       "      <td>M</td>\n",
       "      <td>сотрудник</td>\n",
       "      <td>0</td>\n",
       "      <td>267628</td>\n",
       "      <td>дополнительное образование</td>\n",
       "      <td>средний возраст</td>\n",
       "      <td>образование</td>\n",
       "      <td>(179797.2, 269829.0]</td>\n",
       "    </tr>\n",
       "    <tr>\n",
       "      <th>4</th>\n",
       "      <td>0</td>\n",
       "      <td>340266</td>\n",
       "      <td>53</td>\n",
       "      <td>среднее</td>\n",
       "      <td>1</td>\n",
       "      <td>гражданский брак</td>\n",
       "      <td>1</td>\n",
       "      <td>F</td>\n",
       "      <td>пенсионер</td>\n",
       "      <td>0</td>\n",
       "      <td>158616</td>\n",
       "      <td>сыграть свадьбу</td>\n",
       "      <td>поздний возраст</td>\n",
       "      <td>свадьба</td>\n",
       "      <td>(142594.0, 179797.2]</td>\n",
       "    </tr>\n",
       "  </tbody>\n",
       "</table>\n",
       "</div>"
      ],
      "text/plain": [
       "   children  days_employed  dob_years education  education_id  \\\n",
       "0         1           8437         42    высшее             0   \n",
       "1         1           4024         36   среднее             1   \n",
       "2         0           5623         33   среднее             1   \n",
       "3         3           4124         32   среднее             1   \n",
       "4         0         340266         53   среднее             1   \n",
       "\n",
       "      family_status  family_status_id gender income_type  debt  total_income  \\\n",
       "0   женат / замужем                 0      F   сотрудник     0        253875   \n",
       "1   женат / замужем                 0      F   сотрудник     0        112080   \n",
       "2   женат / замужем                 0      M   сотрудник     0        145885   \n",
       "3   женат / замужем                 0      M   сотрудник     0        267628   \n",
       "4  гражданский брак                 1      F   пенсионер     0        158616   \n",
       "\n",
       "                      purpose        age_group    purpose_category  \\\n",
       "0               покупка жилья  поздний возраст  жилая недвижимость   \n",
       "1     приобретение автомобиля  средний возраст          автомобиль   \n",
       "2               покупка жилья  средний возраст  жилая недвижимость   \n",
       "3  дополнительное образование  средний возраст         образование   \n",
       "4             сыграть свадьбу  поздний возраст             свадьба   \n",
       "\n",
       "           income_group  \n",
       "0  (179797.2, 269829.0]  \n",
       "1   (78719.4, 116007.4]  \n",
       "2  (142594.0, 179797.2]  \n",
       "3  (179797.2, 269829.0]  \n",
       "4  (142594.0, 179797.2]  "
      ]
     },
     "execution_count": 64,
     "metadata": {},
     "output_type": "execute_result"
    }
   ],
   "source": [
    "#Создадим столбец income_group с интервалами ежемесячного дохода\n",
    "df['income_group'] = pd.qcut(df['total_income'], q=[0,.1,.3,.5,.7,.9,1])\n",
    "df.head()"
   ]
  },
  {
   "cell_type": "code",
   "execution_count": 65,
   "id": "1ab7d48c-466b-4ddc-a266-a3fc525c48b1",
   "metadata": {
    "tags": []
   },
   "outputs": [],
   "source": [
    "#С помощью метода pivot_table сделаем сводную таблицу:\n",
    "pivot_table_income = df.pivot_table(index='income_group', columns='debt', values='family_status_id', aggfunc='count', margins=True)\n",
    "\n",
    "#Изменим названия столбцов 0, 1:\n",
    "pivot_table_income.set_axis(['no_debts','with_debts', 'all'],axis = 'columns',inplace = True)\n"
   ]
  },
  {
   "cell_type": "code",
   "execution_count": 66,
   "id": "35f15d2b-b5ae-45ff-a337-1fe1ce87e3fe",
   "metadata": {},
   "outputs": [
    {
     "data": {
      "text/html": [
       "<div>\n",
       "<style scoped>\n",
       "    .dataframe tbody tr th:only-of-type {\n",
       "        vertical-align: middle;\n",
       "    }\n",
       "\n",
       "    .dataframe tbody tr th {\n",
       "        vertical-align: top;\n",
       "    }\n",
       "\n",
       "    .dataframe thead th {\n",
       "        text-align: right;\n",
       "    }\n",
       "</style>\n",
       "<table border=\"1\" class=\"dataframe\">\n",
       "  <thead>\n",
       "    <tr style=\"text-align: right;\">\n",
       "      <th></th>\n",
       "      <th>no_debts</th>\n",
       "      <th>with_debts</th>\n",
       "      <th>all</th>\n",
       "    </tr>\n",
       "    <tr>\n",
       "      <th>income_group</th>\n",
       "      <th></th>\n",
       "      <th></th>\n",
       "      <th></th>\n",
       "    </tr>\n",
       "  </thead>\n",
       "  <tbody>\n",
       "    <tr>\n",
       "      <th>(20666.999, 78719.4]</th>\n",
       "      <td>1989</td>\n",
       "      <td>157</td>\n",
       "      <td>2146</td>\n",
       "    </tr>\n",
       "    <tr>\n",
       "      <th>(78719.4, 116007.4]</th>\n",
       "      <td>3924</td>\n",
       "      <td>366</td>\n",
       "      <td>4290</td>\n",
       "    </tr>\n",
       "    <tr>\n",
       "      <th>(116007.4, 142594.0]</th>\n",
       "      <td>4020</td>\n",
       "      <td>387</td>\n",
       "      <td>4407</td>\n",
       "    </tr>\n",
       "    <tr>\n",
       "      <th>(142594.0, 179797.2]</th>\n",
       "      <td>3824</td>\n",
       "      <td>350</td>\n",
       "      <td>4174</td>\n",
       "    </tr>\n",
       "    <tr>\n",
       "      <th>(179797.2, 269829.0]</th>\n",
       "      <td>3960</td>\n",
       "      <td>330</td>\n",
       "      <td>4290</td>\n",
       "    </tr>\n",
       "    <tr>\n",
       "      <th>(269829.0, 2265604.0]</th>\n",
       "      <td>1995</td>\n",
       "      <td>151</td>\n",
       "      <td>2146</td>\n",
       "    </tr>\n",
       "    <tr>\n",
       "      <th>All</th>\n",
       "      <td>19712</td>\n",
       "      <td>1741</td>\n",
       "      <td>21453</td>\n",
       "    </tr>\n",
       "  </tbody>\n",
       "</table>\n",
       "</div>"
      ],
      "text/plain": [
       "                       no_debts  with_debts    all\n",
       "income_group                                      \n",
       "(20666.999, 78719.4]       1989         157   2146\n",
       "(78719.4, 116007.4]        3924         366   4290\n",
       "(116007.4, 142594.0]       4020         387   4407\n",
       "(142594.0, 179797.2]       3824         350   4174\n",
       "(179797.2, 269829.0]       3960         330   4290\n",
       "(269829.0, 2265604.0]      1995         151   2146\n",
       "All                       19712        1741  21453"
      ]
     },
     "execution_count": 66,
     "metadata": {},
     "output_type": "execute_result"
    }
   ],
   "source": [
    "pivot_table_income"
   ]
  },
  {
   "cell_type": "code",
   "execution_count": 67,
   "id": "698ad671-4e3f-4b9e-8c5d-d00b2a14aa0a",
   "metadata": {},
   "outputs": [],
   "source": [
    "#Добавим столбцы с процентом клиентов, не имеющих задолжность и имеющих, от общего числа клиентов по каждой группе.\n",
    "pivot_table_income['percent_no_debts'] = pivot_table_income['no_debts'] / pivot_table_income['all'] * 100\n",
    "pivot_table_income['percent_with_debts'] = pivot_table_income['with_debts'] / pivot_table_income['all'] * 100\n",
    "\n",
    "#Поменяем тип данных в новых столбцах\n",
    "pivot_table_income['percent_no_debts'] = pivot_table_income['percent_no_debts'].astype('int')\n",
    "pivot_table_income['percent_with_debts'] = pivot_table_income['percent_with_debts'].astype('int')"
   ]
  },
  {
   "cell_type": "code",
   "execution_count": 68,
   "id": "1ff4d2f0-b264-4285-8a79-2049c97e0e54",
   "metadata": {},
   "outputs": [],
   "source": [
    "#Столбец c обобщенными данными нам больше не нужен - удалим его с помощью drop() и отсортируем значения столбца percent_no_debts по убыванию:\n",
    "pivot_table_income = pivot_table_income.drop('all', axis=1).sort_values(by='percent_no_debts', ascending=False)"
   ]
  },
  {
   "cell_type": "code",
   "execution_count": 69,
   "id": "0a9bfed2-5865-4e42-88b1-01499c334de6",
   "metadata": {},
   "outputs": [
    {
     "data": {
      "text/html": [
       "<div>\n",
       "<style scoped>\n",
       "    .dataframe tbody tr th:only-of-type {\n",
       "        vertical-align: middle;\n",
       "    }\n",
       "\n",
       "    .dataframe tbody tr th {\n",
       "        vertical-align: top;\n",
       "    }\n",
       "\n",
       "    .dataframe thead th {\n",
       "        text-align: right;\n",
       "    }\n",
       "</style>\n",
       "<table border=\"1\" class=\"dataframe\">\n",
       "  <thead>\n",
       "    <tr style=\"text-align: right;\">\n",
       "      <th></th>\n",
       "      <th>no_debts</th>\n",
       "      <th>with_debts</th>\n",
       "      <th>percent_no_debts</th>\n",
       "      <th>percent_with_debts</th>\n",
       "    </tr>\n",
       "    <tr>\n",
       "      <th>income_group</th>\n",
       "      <th></th>\n",
       "      <th></th>\n",
       "      <th></th>\n",
       "      <th></th>\n",
       "    </tr>\n",
       "  </thead>\n",
       "  <tbody>\n",
       "    <tr>\n",
       "      <th>(20666.999, 78719.4]</th>\n",
       "      <td>1989</td>\n",
       "      <td>157</td>\n",
       "      <td>92</td>\n",
       "      <td>7</td>\n",
       "    </tr>\n",
       "    <tr>\n",
       "      <th>(179797.2, 269829.0]</th>\n",
       "      <td>3960</td>\n",
       "      <td>330</td>\n",
       "      <td>92</td>\n",
       "      <td>7</td>\n",
       "    </tr>\n",
       "    <tr>\n",
       "      <th>(269829.0, 2265604.0]</th>\n",
       "      <td>1995</td>\n",
       "      <td>151</td>\n",
       "      <td>92</td>\n",
       "      <td>7</td>\n",
       "    </tr>\n",
       "    <tr>\n",
       "      <th>(78719.4, 116007.4]</th>\n",
       "      <td>3924</td>\n",
       "      <td>366</td>\n",
       "      <td>91</td>\n",
       "      <td>8</td>\n",
       "    </tr>\n",
       "    <tr>\n",
       "      <th>(116007.4, 142594.0]</th>\n",
       "      <td>4020</td>\n",
       "      <td>387</td>\n",
       "      <td>91</td>\n",
       "      <td>8</td>\n",
       "    </tr>\n",
       "    <tr>\n",
       "      <th>(142594.0, 179797.2]</th>\n",
       "      <td>3824</td>\n",
       "      <td>350</td>\n",
       "      <td>91</td>\n",
       "      <td>8</td>\n",
       "    </tr>\n",
       "    <tr>\n",
       "      <th>All</th>\n",
       "      <td>19712</td>\n",
       "      <td>1741</td>\n",
       "      <td>91</td>\n",
       "      <td>8</td>\n",
       "    </tr>\n",
       "  </tbody>\n",
       "</table>\n",
       "</div>"
      ],
      "text/plain": [
       "                       no_debts  with_debts  percent_no_debts  \\\n",
       "income_group                                                    \n",
       "(20666.999, 78719.4]       1989         157                92   \n",
       "(179797.2, 269829.0]       3960         330                92   \n",
       "(269829.0, 2265604.0]      1995         151                92   \n",
       "(78719.4, 116007.4]        3924         366                91   \n",
       "(116007.4, 142594.0]       4020         387                91   \n",
       "(142594.0, 179797.2]       3824         350                91   \n",
       "All                       19712        1741                91   \n",
       "\n",
       "                       percent_with_debts  \n",
       "income_group                               \n",
       "(20666.999, 78719.4]                    7  \n",
       "(179797.2, 269829.0]                    7  \n",
       "(269829.0, 2265604.0]                   7  \n",
       "(78719.4, 116007.4]                     8  \n",
       "(116007.4, 142594.0]                    8  \n",
       "(142594.0, 179797.2]                    8  \n",
       "All                                     8  "
      ]
     },
     "execution_count": 69,
     "metadata": {},
     "output_type": "execute_result"
    }
   ],
   "source": [
    "pivot_table_income "
   ]
  },
  {
   "cell_type": "markdown",
   "id": "02cb925c-1d31-45e7-9054-07f6c34c89ea",
   "metadata": {},
   "source": [
    "**Вывод**\n",
    "<div style=\"border:solid green 2px; padding: 20px\"> \n",
    "Анализ данных в сводной таблице показал неожиданный результат: люди с наименьшим доходом возвращают кредит в срок так же, как и люди с самым высоким доходом. "
   ]
  },
  {
   "cell_type": "markdown",
   "id": "cfb29e62-555a-4927-ade7-cdc93e723334",
   "metadata": {},
   "source": [
    "- Как разные цели кредита влияют на его возврат в срок?"
   ]
  },
  {
   "cell_type": "code",
   "execution_count": 70,
   "id": "1e8f20ab-9087-4a3d-bec3-dc33740d99ea",
   "metadata": {},
   "outputs": [],
   "source": [
    "#Создадим сводную таблицу, в которой напротив каждой целевой категории будет указано, сколько клиентов с долгами и без\n",
    "pivot_table_purpose = df.pivot_table(index='purpose_category', columns='debt', values='family_status_id', aggfunc='count', margins=True)\n",
    "\n",
    "#Изменим названия столбцов 0, 1:\n",
    "pivot_table_purpose.set_axis(['no_debts','with_debts', 'all'],axis = 'columns',inplace = True)"
   ]
  },
  {
   "cell_type": "code",
   "execution_count": 71,
   "id": "449afc04-668f-4aef-8315-2e7efb731a4d",
   "metadata": {},
   "outputs": [
    {
     "data": {
      "text/html": [
       "<div>\n",
       "<style scoped>\n",
       "    .dataframe tbody tr th:only-of-type {\n",
       "        vertical-align: middle;\n",
       "    }\n",
       "\n",
       "    .dataframe tbody tr th {\n",
       "        vertical-align: top;\n",
       "    }\n",
       "\n",
       "    .dataframe thead th {\n",
       "        text-align: right;\n",
       "    }\n",
       "</style>\n",
       "<table border=\"1\" class=\"dataframe\">\n",
       "  <thead>\n",
       "    <tr style=\"text-align: right;\">\n",
       "      <th></th>\n",
       "      <th>no_debts</th>\n",
       "      <th>with_debts</th>\n",
       "      <th>all</th>\n",
       "    </tr>\n",
       "    <tr>\n",
       "      <th>purpose_category</th>\n",
       "      <th></th>\n",
       "      <th></th>\n",
       "      <th></th>\n",
       "    </tr>\n",
       "  </thead>\n",
       "  <tbody>\n",
       "    <tr>\n",
       "      <th>автомобиль</th>\n",
       "      <td>3903</td>\n",
       "      <td>403</td>\n",
       "      <td>4306</td>\n",
       "    </tr>\n",
       "    <tr>\n",
       "      <th>жилая недвижимость</th>\n",
       "      <td>5293</td>\n",
       "      <td>397</td>\n",
       "      <td>5690</td>\n",
       "    </tr>\n",
       "    <tr>\n",
       "      <th>коммерческая недвижимость</th>\n",
       "      <td>1212</td>\n",
       "      <td>99</td>\n",
       "      <td>1311</td>\n",
       "    </tr>\n",
       "    <tr>\n",
       "      <th>недвижимость</th>\n",
       "      <td>3523</td>\n",
       "      <td>286</td>\n",
       "      <td>3809</td>\n",
       "    </tr>\n",
       "    <tr>\n",
       "      <th>образование</th>\n",
       "      <td>3643</td>\n",
       "      <td>370</td>\n",
       "      <td>4013</td>\n",
       "    </tr>\n",
       "    <tr>\n",
       "      <th>свадьба</th>\n",
       "      <td>2138</td>\n",
       "      <td>186</td>\n",
       "      <td>2324</td>\n",
       "    </tr>\n",
       "    <tr>\n",
       "      <th>All</th>\n",
       "      <td>19712</td>\n",
       "      <td>1741</td>\n",
       "      <td>21453</td>\n",
       "    </tr>\n",
       "  </tbody>\n",
       "</table>\n",
       "</div>"
      ],
      "text/plain": [
       "                           no_debts  with_debts    all\n",
       "purpose_category                                      \n",
       "автомобиль                     3903         403   4306\n",
       "жилая недвижимость             5293         397   5690\n",
       "коммерческая недвижимость      1212          99   1311\n",
       "недвижимость                   3523         286   3809\n",
       "образование                    3643         370   4013\n",
       "свадьба                        2138         186   2324\n",
       "All                           19712        1741  21453"
      ]
     },
     "execution_count": 71,
     "metadata": {},
     "output_type": "execute_result"
    }
   ],
   "source": [
    "pivot_table_purpose"
   ]
  },
  {
   "cell_type": "code",
   "execution_count": 72,
   "id": "7c8313b2-2b2d-4a50-a7c2-bc6ba1fe4adc",
   "metadata": {},
   "outputs": [],
   "source": [
    "#Добавим столбцы с процентом клиентов, не имеющих задолжность и имеющих, от общего числа клиентов по каждой группе \n",
    "pivot_table_purpose['percent_no_debts'] = pivot_table_purpose['no_debts'] / pivot_table_purpose['all'] * 100\n",
    "pivot_table_purpose['percent_with_debts'] = pivot_table_purpose['with_debts'] / pivot_table_purpose['all'] * 100\n",
    "\n",
    "#Поменяем тип данных в новых столбцах\n",
    "pivot_table_purpose['percent_no_debts'] = pivot_table_purpose['percent_no_debts'].astype('int')\n",
    "pivot_table_purpose['percent_with_debts'] = pivot_table_purpose['percent_with_debts'].astype('int')"
   ]
  },
  {
   "cell_type": "code",
   "execution_count": 73,
   "id": "ae6c5e08-8648-40be-a98e-074fcc999156",
   "metadata": {},
   "outputs": [],
   "source": [
    "#Столбец c обобщенными данными нам больше не нужен - удалим его с помощью drop() и отсортируем значения столбца percent_no_debts по убыванию:\n",
    "pivot_table_purpose = pivot_table_purpose.drop('all', axis=1).sort_values(by='percent_no_debts', ascending=False)"
   ]
  },
  {
   "cell_type": "code",
   "execution_count": 74,
   "id": "99619935-e768-4a0f-8f1c-95ada578a15a",
   "metadata": {},
   "outputs": [
    {
     "data": {
      "text/html": [
       "<div>\n",
       "<style scoped>\n",
       "    .dataframe tbody tr th:only-of-type {\n",
       "        vertical-align: middle;\n",
       "    }\n",
       "\n",
       "    .dataframe tbody tr th {\n",
       "        vertical-align: top;\n",
       "    }\n",
       "\n",
       "    .dataframe thead th {\n",
       "        text-align: right;\n",
       "    }\n",
       "</style>\n",
       "<table border=\"1\" class=\"dataframe\">\n",
       "  <thead>\n",
       "    <tr style=\"text-align: right;\">\n",
       "      <th></th>\n",
       "      <th>no_debts</th>\n",
       "      <th>with_debts</th>\n",
       "      <th>percent_no_debts</th>\n",
       "      <th>percent_with_debts</th>\n",
       "    </tr>\n",
       "    <tr>\n",
       "      <th>purpose_category</th>\n",
       "      <th></th>\n",
       "      <th></th>\n",
       "      <th></th>\n",
       "      <th></th>\n",
       "    </tr>\n",
       "  </thead>\n",
       "  <tbody>\n",
       "    <tr>\n",
       "      <th>жилая недвижимость</th>\n",
       "      <td>5293</td>\n",
       "      <td>397</td>\n",
       "      <td>93</td>\n",
       "      <td>6</td>\n",
       "    </tr>\n",
       "    <tr>\n",
       "      <th>коммерческая недвижимость</th>\n",
       "      <td>1212</td>\n",
       "      <td>99</td>\n",
       "      <td>92</td>\n",
       "      <td>7</td>\n",
       "    </tr>\n",
       "    <tr>\n",
       "      <th>недвижимость</th>\n",
       "      <td>3523</td>\n",
       "      <td>286</td>\n",
       "      <td>92</td>\n",
       "      <td>7</td>\n",
       "    </tr>\n",
       "    <tr>\n",
       "      <th>свадьба</th>\n",
       "      <td>2138</td>\n",
       "      <td>186</td>\n",
       "      <td>91</td>\n",
       "      <td>8</td>\n",
       "    </tr>\n",
       "    <tr>\n",
       "      <th>All</th>\n",
       "      <td>19712</td>\n",
       "      <td>1741</td>\n",
       "      <td>91</td>\n",
       "      <td>8</td>\n",
       "    </tr>\n",
       "    <tr>\n",
       "      <th>автомобиль</th>\n",
       "      <td>3903</td>\n",
       "      <td>403</td>\n",
       "      <td>90</td>\n",
       "      <td>9</td>\n",
       "    </tr>\n",
       "    <tr>\n",
       "      <th>образование</th>\n",
       "      <td>3643</td>\n",
       "      <td>370</td>\n",
       "      <td>90</td>\n",
       "      <td>9</td>\n",
       "    </tr>\n",
       "  </tbody>\n",
       "</table>\n",
       "</div>"
      ],
      "text/plain": [
       "                           no_debts  with_debts  percent_no_debts  \\\n",
       "purpose_category                                                    \n",
       "жилая недвижимость             5293         397                93   \n",
       "коммерческая недвижимость      1212          99                92   \n",
       "недвижимость                   3523         286                92   \n",
       "свадьба                        2138         186                91   \n",
       "All                           19712        1741                91   \n",
       "автомобиль                     3903         403                90   \n",
       "образование                    3643         370                90   \n",
       "\n",
       "                           percent_with_debts  \n",
       "purpose_category                               \n",
       "жилая недвижимость                          6  \n",
       "коммерческая недвижимость                   7  \n",
       "недвижимость                                7  \n",
       "свадьба                                     8  \n",
       "All                                         8  \n",
       "автомобиль                                  9  \n",
       "образование                                 9  "
      ]
     },
     "execution_count": 74,
     "metadata": {},
     "output_type": "execute_result"
    }
   ],
   "source": [
    "pivot_table_purpose"
   ]
  },
  {
   "cell_type": "markdown",
   "id": "6b5dc9c7-bcb5-4f8e-8282-af12529ffcf3",
   "metadata": {},
   "source": [
    "**Вывод**"
   ]
  },
  {
   "cell_type": "markdown",
   "id": "02841291-a4df-453b-9805-52036a820724",
   "metadata": {},
   "source": [
    "<div style=\"border:solid green 2px; padding: 20px\"> \n",
    "Чаще всего клиенты возвращают кредит в срок, если берут его с целью вложиться в недвижимость: те, кто вкладывает в жилую недвижимость, - самые надежные плательщики. А самыми ненадежными являются те, кто берет кредит на образование. "
   ]
  },
  {
   "cell_type": "code",
   "execution_count": 75,
   "id": "9ad6df1f-10f6-4497-a16a-32f762fe3b99",
   "metadata": {},
   "outputs": [
    {
     "data": {
      "text/html": [
       "<div>\n",
       "<style scoped>\n",
       "    .dataframe tbody tr th:only-of-type {\n",
       "        vertical-align: middle;\n",
       "    }\n",
       "\n",
       "    .dataframe tbody tr th {\n",
       "        vertical-align: top;\n",
       "    }\n",
       "\n",
       "    .dataframe thead th {\n",
       "        text-align: right;\n",
       "    }\n",
       "</style>\n",
       "<table border=\"1\" class=\"dataframe\">\n",
       "  <thead>\n",
       "    <tr style=\"text-align: right;\">\n",
       "      <th></th>\n",
       "      <th>children</th>\n",
       "      <th>days_employed</th>\n",
       "      <th>dob_years</th>\n",
       "      <th>education</th>\n",
       "      <th>education_id</th>\n",
       "      <th>family_status</th>\n",
       "      <th>family_status_id</th>\n",
       "      <th>gender</th>\n",
       "      <th>income_type</th>\n",
       "      <th>debt</th>\n",
       "      <th>total_income</th>\n",
       "      <th>purpose</th>\n",
       "      <th>age_group</th>\n",
       "      <th>purpose_category</th>\n",
       "      <th>income_group</th>\n",
       "    </tr>\n",
       "  </thead>\n",
       "  <tbody>\n",
       "    <tr>\n",
       "      <th>0</th>\n",
       "      <td>1</td>\n",
       "      <td>8437</td>\n",
       "      <td>42</td>\n",
       "      <td>высшее</td>\n",
       "      <td>0</td>\n",
       "      <td>женат / замужем</td>\n",
       "      <td>0</td>\n",
       "      <td>F</td>\n",
       "      <td>сотрудник</td>\n",
       "      <td>0</td>\n",
       "      <td>253875</td>\n",
       "      <td>покупка жилья</td>\n",
       "      <td>поздний возраст</td>\n",
       "      <td>жилая недвижимость</td>\n",
       "      <td>(179797.2, 269829.0]</td>\n",
       "    </tr>\n",
       "    <tr>\n",
       "      <th>1</th>\n",
       "      <td>1</td>\n",
       "      <td>4024</td>\n",
       "      <td>36</td>\n",
       "      <td>среднее</td>\n",
       "      <td>1</td>\n",
       "      <td>женат / замужем</td>\n",
       "      <td>0</td>\n",
       "      <td>F</td>\n",
       "      <td>сотрудник</td>\n",
       "      <td>0</td>\n",
       "      <td>112080</td>\n",
       "      <td>приобретение автомобиля</td>\n",
       "      <td>средний возраст</td>\n",
       "      <td>автомобиль</td>\n",
       "      <td>(78719.4, 116007.4]</td>\n",
       "    </tr>\n",
       "    <tr>\n",
       "      <th>2</th>\n",
       "      <td>0</td>\n",
       "      <td>5623</td>\n",
       "      <td>33</td>\n",
       "      <td>среднее</td>\n",
       "      <td>1</td>\n",
       "      <td>женат / замужем</td>\n",
       "      <td>0</td>\n",
       "      <td>M</td>\n",
       "      <td>сотрудник</td>\n",
       "      <td>0</td>\n",
       "      <td>145885</td>\n",
       "      <td>покупка жилья</td>\n",
       "      <td>средний возраст</td>\n",
       "      <td>жилая недвижимость</td>\n",
       "      <td>(142594.0, 179797.2]</td>\n",
       "    </tr>\n",
       "    <tr>\n",
       "      <th>3</th>\n",
       "      <td>3</td>\n",
       "      <td>4124</td>\n",
       "      <td>32</td>\n",
       "      <td>среднее</td>\n",
       "      <td>1</td>\n",
       "      <td>женат / замужем</td>\n",
       "      <td>0</td>\n",
       "      <td>M</td>\n",
       "      <td>сотрудник</td>\n",
       "      <td>0</td>\n",
       "      <td>267628</td>\n",
       "      <td>дополнительное образование</td>\n",
       "      <td>средний возраст</td>\n",
       "      <td>образование</td>\n",
       "      <td>(179797.2, 269829.0]</td>\n",
       "    </tr>\n",
       "    <tr>\n",
       "      <th>4</th>\n",
       "      <td>0</td>\n",
       "      <td>340266</td>\n",
       "      <td>53</td>\n",
       "      <td>среднее</td>\n",
       "      <td>1</td>\n",
       "      <td>гражданский брак</td>\n",
       "      <td>1</td>\n",
       "      <td>F</td>\n",
       "      <td>пенсионер</td>\n",
       "      <td>0</td>\n",
       "      <td>158616</td>\n",
       "      <td>сыграть свадьбу</td>\n",
       "      <td>поздний возраст</td>\n",
       "      <td>свадьба</td>\n",
       "      <td>(142594.0, 179797.2]</td>\n",
       "    </tr>\n",
       "  </tbody>\n",
       "</table>\n",
       "</div>"
      ],
      "text/plain": [
       "   children  days_employed  dob_years education  education_id  \\\n",
       "0         1           8437         42    высшее             0   \n",
       "1         1           4024         36   среднее             1   \n",
       "2         0           5623         33   среднее             1   \n",
       "3         3           4124         32   среднее             1   \n",
       "4         0         340266         53   среднее             1   \n",
       "\n",
       "      family_status  family_status_id gender income_type  debt  total_income  \\\n",
       "0   женат / замужем                 0      F   сотрудник     0        253875   \n",
       "1   женат / замужем                 0      F   сотрудник     0        112080   \n",
       "2   женат / замужем                 0      M   сотрудник     0        145885   \n",
       "3   женат / замужем                 0      M   сотрудник     0        267628   \n",
       "4  гражданский брак                 1      F   пенсионер     0        158616   \n",
       "\n",
       "                      purpose        age_group    purpose_category  \\\n",
       "0               покупка жилья  поздний возраст  жилая недвижимость   \n",
       "1     приобретение автомобиля  средний возраст          автомобиль   \n",
       "2               покупка жилья  средний возраст  жилая недвижимость   \n",
       "3  дополнительное образование  средний возраст         образование   \n",
       "4             сыграть свадьбу  поздний возраст             свадьба   \n",
       "\n",
       "           income_group  \n",
       "0  (179797.2, 269829.0]  \n",
       "1   (78719.4, 116007.4]  \n",
       "2  (142594.0, 179797.2]  \n",
       "3  (179797.2, 269829.0]  \n",
       "4  (142594.0, 179797.2]  "
      ]
     },
     "execution_count": 75,
     "metadata": {},
     "output_type": "execute_result"
    }
   ],
   "source": [
    "#В конце исследования еще раз посмотрим на наш датасет, чтобы убедиться, что он в нужном (очищенном и обогащенном) состоянии. \n",
    "df.head()"
   ]
  },
  {
   "cell_type": "code",
   "execution_count": 76,
   "id": "3c5a1f45-8b81-4240-b5eb-01272d148f13",
   "metadata": {},
   "outputs": [],
   "source": [
    "# И сохраним его для возможных дальнейших исследований:\n",
    "df.to_csv('bank_clients_mortgage.csv')"
   ]
  },
  {
   "cell_type": "markdown",
   "id": "11a0d60b-8c8d-4cdb-a8fd-8eb403a97c05",
   "metadata": {},
   "source": [
    "Для операций со сводными таблицами можно создать отдельную функцию, чтобы оптимизировать код в данном разделе. "
   ]
  },
  {
   "cell_type": "markdown",
   "id": "54b4af94-29ba-4f4d-9ce4-526a5e6adb54",
   "metadata": {},
   "source": [
    "## Шаг 4. Общий вывод"
   ]
  },
  {
   "cell_type": "markdown",
   "id": "e89bfeba-ec3a-482b-8a6a-df3016ed05ad",
   "metadata": {},
   "source": [
    "В данном исследовании нам нужно было ответить на 4 вопроса: \n",
    "\n",
    "\n",
    "1. Есть ли зависимость между наличием детей и возвратом кредита в срок?\n",
    "\n",
    "2. Есть ли зависимость между семейным положением и возвратом кредита в срок?\n",
    "\n",
    "3. Есть ли зависимость между уровнем дохода и возвратом кредита в срок?\n",
    "\n",
    "4. Как разные цели кредита влияют на его возврат в срок?\n",
    "\n",
    "\n",
    "Мы предобработали данные, построили сводные таблицы по этим очищенным данным, провели анализ полученных данных и установили:\n",
    "\n",
    "1. Есть ли зависимость между наличием детей и возвратом кредита в срок? \n",
    "\n",
    "Есть. И зависимость такова: факт наличия детей уменьшает вероятность возвращения кредита в срок. \n",
    "\n",
    "\n",
    "2. Есть ли зависимость между семейным положением и возвратом кредита в срок?\n",
    "\n",
    "Есть. Чаще всего кредит возвращают в срок вдовцы, разведенные и женатые и замужние, а не замужние и не женатые чаще всего имеют задолжность.\n",
    "\n",
    "\n",
    "3. Есть ли зависимость между уровнем дохода и возвратом кредита в срок?\n",
    "\n",
    "По имеющимся данным зависимости нет. Плательщики с наименьшим ежемесячным доходом так же часто возвращают кредит в срок, как и люди с самым большим доходом. В данных о ежемесячном доходе были пропуски и, возможно, если бы не пропуски, результат был бы иной.  \n",
    "\n",
    "\n",
    "4. Как разные цели кредита влияют на его возврат в срок?\n",
    "\n",
    "Чаще всего кредит выплачивают, если он взят с целью вложения в: 1) жилую недвижимость, 2) коммерческую недвижимость, 3) свадьбу. И чаще всего не выплачиваются в срок кредиты на образование."
   ]
  }
 ],
 "metadata": {
  "kernelspec": {
   "display_name": "Python 3 (ipykernel)",
   "language": "python",
   "name": "python3"
  },
  "language_info": {
   "codemirror_mode": {
    "name": "ipython",
    "version": 3
   },
   "file_extension": ".py",
   "mimetype": "text/x-python",
   "name": "python",
   "nbconvert_exporter": "python",
   "pygments_lexer": "ipython3",
   "version": "3.9.7"
  }
 },
 "nbformat": 4,
 "nbformat_minor": 5
}
