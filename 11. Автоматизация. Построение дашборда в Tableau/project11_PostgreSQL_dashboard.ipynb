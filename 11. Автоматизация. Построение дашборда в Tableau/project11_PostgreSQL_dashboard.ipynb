{
 "cells": [
  {
   "cell_type": "markdown",
   "id": "680d0c10-50c3-4fd1-b474-edb16c71ca58",
   "metadata": {
    "tags": []
   },
   "source": [
    "# Часть 2. Создание дашборда"
   ]
  },
  {
   "cell_type": "markdown",
   "id": "b374f58d-092e-4314-8f3d-19c369b46e51",
   "metadata": {},
   "source": [
    "<a name='contents'></a>\n",
    "\n",
    "# Содержание исследования\n",
    "\n",
    "## [Шаг 1. Выгрузка данных](#stage_1)\n",
    "\n",
    "* Создание коннекции к БД PostgreSQL c помощью модуля Psycopg2.\n",
    "* Написание запроса к БД\n",
    "\n",
    "## [Шаг 2. Создание дашборда](#stage_2)\n",
    "\n",
    "* Макет дашборда\n",
    "* Ссылка на дашборд в Tableau Public\n",
    "\n",
    "## [Шаг 3. Создание презентации с отчетом](#stage_3) \n",
    "\n",
    "* Список вопросов от менеджеров, на которые необходимо ответить в презентации. \n",
    "* Cсылка на небольшую презентацию с отчетом - ответами на вопросы и графиками."
   ]
  },
  {
   "cell_type": "markdown",
   "id": "f4aa3e3c-275f-4a49-9b1f-d078fc76a9a2",
   "metadata": {},
   "source": [
    "<a name='stage_1'></a>\n",
    "# Шаг 1. Выгрузка данных\n",
    "[Назад к оглавлению](#contents)"
   ]
  },
  {
   "cell_type": "markdown",
   "id": "5dda61a4-866c-405f-ba32-0eba37ae9313",
   "metadata": {},
   "source": [
    "Установим модуль Psycopg2 для работы с сервером базы данных PostgreSQL в Python."
   ]
  },
  {
   "cell_type": "code",
   "execution_count": 1,
   "id": "6c9b2635-c4c5-47f0-84bc-9853a19fadc1",
   "metadata": {
    "tags": []
   },
   "outputs": [
    {
     "name": "stdout",
     "output_type": "stream",
     "text": [
      "Collecting package metadata (current_repodata.json): done\n",
      "Solving environment: done\n",
      "\n",
      "# All requested packages already installed.\n",
      "\n"
     ]
    }
   ],
   "source": [
    "!conda install -c anaconda psycopg2 --yes"
   ]
  },
  {
   "cell_type": "markdown",
   "id": "34e30f26-eaf8-43fc-a463-19a1d08a87b5",
   "metadata": {},
   "source": [
    "Импортируем библиотеки."
   ]
  },
  {
   "cell_type": "code",
   "execution_count": 2,
   "id": "2bae719c-44b4-43ee-a826-6a62a6652ec1",
   "metadata": {},
   "outputs": [],
   "source": [
    "import pandas as pd\n",
    "from sqlalchemy import create_engine"
   ]
  },
  {
   "cell_type": "markdown",
   "id": "5fc61cc5-bcf6-40ec-bf48-0dae3ba2d410",
   "metadata": {},
   "source": [
    "Создаем коннекцию к базе данных."
   ]
  },
  {
   "cell_type": "code",
   "execution_count": 3,
   "id": "50e1d645-7f01-4187-a3f0-27dc79becce0",
   "metadata": {
    "tags": []
   },
   "outputs": [],
   "source": [
    "db_config = {'user': 'praktikum_student', # имя пользователя\n",
    "            'pwd': 'Sdf4$2;d-d30pp', # пароль\n",
    "            'host': 'rc1b-wcoijxj3yxfsf3fs.mdb.yandexcloud.net',\n",
    "            'port': 6432, # порт подключения\n",
    "            'db': 'data-analyst-zen-project-db'} # название базы данных\n",
    "\n",
    "connection_string = 'postgresql://{}:{}@{}:{}/{}'.format(db_config['user'],\n",
    "                                                db_config['pwd'],\n",
    "                                                db_config['host'],\n",
    "                                                db_config['port'],\n",
    "                                                db_config['db'])\n",
    "\n",
    "engine = create_engine(connection_string)"
   ]
  },
  {
   "cell_type": "markdown",
   "id": "f70db750-7310-40d8-b45f-a6455508daf1",
   "metadata": {},
   "source": [
    "Коннекция к базе хранится в переменной engine. \n",
    "Теперь пишем и выполняем sql-запрос к базе данных  dash_visits, чтобы вытащить оттуда наши данные:"
   ]
  },
  {
   "cell_type": "code",
   "execution_count": 4,
   "id": "34a02b8d-4b20-43a0-a1ad-ecfcfb89985a",
   "metadata": {},
   "outputs": [
    {
     "name": "stdout",
     "output_type": "stream",
     "text": [
      "<class 'pandas.core.frame.DataFrame'>\n",
      "RangeIndex: 30745 entries, 0 to 30744\n",
      "Data columns (total 6 columns):\n",
      " #   Column        Non-Null Count  Dtype         \n",
      "---  ------        --------------  -----         \n",
      " 0   record_id     30745 non-null  int64         \n",
      " 1   item_topic    30745 non-null  object        \n",
      " 2   source_topic  30745 non-null  object        \n",
      " 3   age_segment   30745 non-null  object        \n",
      " 4   dt            30745 non-null  datetime64[ns]\n",
      " 5   visits        30745 non-null  int64         \n",
      "dtypes: datetime64[ns](1), int64(2), object(3)\n",
      "memory usage: 1.4+ MB\n",
      "None\n",
      "   record_id item_topic source_topic age_segment                  dt  visits\n",
      "0    1040597     Деньги         Авто       18-25 2019-09-24 18:32:00       3\n",
      "1    1040598     Деньги         Авто       18-25 2019-09-24 18:35:00       1\n",
      "2    1040599     Деньги         Авто       18-25 2019-09-24 18:54:00       4\n",
      "3    1040600     Деньги         Авто       18-25 2019-09-24 18:55:00      17\n",
      "4    1040601     Деньги         Авто       18-25 2019-09-24 18:56:00      27\n"
     ]
    }
   ],
   "source": [
    "query = ''' SELECT *\n",
    "            FROM dash_visits\n",
    "        '''\n",
    "    \n",
    "data_raw = pd.io.sql.read_sql(query, con = engine)\n",
    "\n",
    "print(data_raw.info()) \n",
    "print(data_raw.head(5))"
   ]
  },
  {
   "cell_type": "markdown",
   "id": "a75951b9-5d94-413f-a49b-0e3733b012eb",
   "metadata": {},
   "source": [
    "Сохраняем наши данные в файл dash_visits.csv."
   ]
  },
  {
   "cell_type": "code",
   "execution_count": 5,
   "id": "9d1adf3d-67ff-4bc1-9bef-7d42853f15c1",
   "metadata": {},
   "outputs": [],
   "source": [
    "data_raw.to_csv('data/dash_visits.csv', index=False)"
   ]
  },
  {
   "cell_type": "markdown",
   "id": "3b7f0bd0-d57e-4ef0-b023-c8b0b16c8adc",
   "metadata": {},
   "source": [
    "Проверим, как у нас все сохранилось. "
   ]
  },
  {
   "cell_type": "code",
   "execution_count": 6,
   "id": "e2c4f385-04fd-46eb-93b5-764c71ace45f",
   "metadata": {},
   "outputs": [
    {
     "data": {
      "text/html": [
       "<div>\n",
       "<style scoped>\n",
       "    .dataframe tbody tr th:only-of-type {\n",
       "        vertical-align: middle;\n",
       "    }\n",
       "\n",
       "    .dataframe tbody tr th {\n",
       "        vertical-align: top;\n",
       "    }\n",
       "\n",
       "    .dataframe thead th {\n",
       "        text-align: right;\n",
       "    }\n",
       "</style>\n",
       "<table border=\"1\" class=\"dataframe\">\n",
       "  <thead>\n",
       "    <tr style=\"text-align: right;\">\n",
       "      <th></th>\n",
       "      <th>record_id</th>\n",
       "      <th>item_topic</th>\n",
       "      <th>source_topic</th>\n",
       "      <th>age_segment</th>\n",
       "      <th>dt</th>\n",
       "      <th>visits</th>\n",
       "    </tr>\n",
       "  </thead>\n",
       "  <tbody>\n",
       "    <tr>\n",
       "      <th>0</th>\n",
       "      <td>1040597</td>\n",
       "      <td>Деньги</td>\n",
       "      <td>Авто</td>\n",
       "      <td>18-25</td>\n",
       "      <td>2019-09-24 18:32:00</td>\n",
       "      <td>3</td>\n",
       "    </tr>\n",
       "    <tr>\n",
       "      <th>1</th>\n",
       "      <td>1040598</td>\n",
       "      <td>Деньги</td>\n",
       "      <td>Авто</td>\n",
       "      <td>18-25</td>\n",
       "      <td>2019-09-24 18:35:00</td>\n",
       "      <td>1</td>\n",
       "    </tr>\n",
       "    <tr>\n",
       "      <th>2</th>\n",
       "      <td>1040599</td>\n",
       "      <td>Деньги</td>\n",
       "      <td>Авто</td>\n",
       "      <td>18-25</td>\n",
       "      <td>2019-09-24 18:54:00</td>\n",
       "      <td>4</td>\n",
       "    </tr>\n",
       "    <tr>\n",
       "      <th>3</th>\n",
       "      <td>1040600</td>\n",
       "      <td>Деньги</td>\n",
       "      <td>Авто</td>\n",
       "      <td>18-25</td>\n",
       "      <td>2019-09-24 18:55:00</td>\n",
       "      <td>17</td>\n",
       "    </tr>\n",
       "    <tr>\n",
       "      <th>4</th>\n",
       "      <td>1040601</td>\n",
       "      <td>Деньги</td>\n",
       "      <td>Авто</td>\n",
       "      <td>18-25</td>\n",
       "      <td>2019-09-24 18:56:00</td>\n",
       "      <td>27</td>\n",
       "    </tr>\n",
       "  </tbody>\n",
       "</table>\n",
       "</div>"
      ],
      "text/plain": [
       "   record_id item_topic source_topic age_segment                   dt  visits\n",
       "0    1040597     Деньги         Авто       18-25  2019-09-24 18:32:00       3\n",
       "1    1040598     Деньги         Авто       18-25  2019-09-24 18:35:00       1\n",
       "2    1040599     Деньги         Авто       18-25  2019-09-24 18:54:00       4\n",
       "3    1040600     Деньги         Авто       18-25  2019-09-24 18:55:00      17\n",
       "4    1040601     Деньги         Авто       18-25  2019-09-24 18:56:00      27"
      ]
     },
     "execution_count": 6,
     "metadata": {},
     "output_type": "execute_result"
    }
   ],
   "source": [
    "dash_visits = pd.read_csv('data/dash_visits.csv')\n",
    "dash_visits.head()"
   ]
  },
  {
   "cell_type": "markdown",
   "id": "b3a7bef6-ac35-485f-9f3b-c973d80be87e",
   "metadata": {},
   "source": [
    "<a name='stage_2'></a>\n",
    "# Шаг 2. Создание дашборда\n",
    "[Назад к оглавлению](#contents)"
   ]
  },
  {
   "cell_type": "markdown",
   "id": "387b092f-2222-4ff9-a430-43906a67d469",
   "metadata": {},
   "source": [
    "Изучим макет дашборда."
   ]
  },
  {
   "cell_type": "markdown",
   "id": "a8e0abc0-7ed8-4ea1-9515-8f71022b1ae7",
   "metadata": {},
   "source": [
    "![title](data/dashboard_layout.png)"
   ]
  },
  {
   "cell_type": "markdown",
   "id": "60e0655c-d6c9-426b-99aa-1c3e01c0652e",
   "metadata": {},
   "source": [
    "## Cсылка на готовый дашборд в Tableau Public"
   ]
  },
  {
   "cell_type": "markdown",
   "id": "dc9bd84b-dda9-4507-8cf2-db2bb1085c25",
   "metadata": {},
   "source": [
    "https://public.tableau.com/app/profile/anastasia8885/viz/yandex_dzen_16531974209650/Dashboard1 "
   ]
  },
  {
   "cell_type": "markdown",
   "id": "9f02d94f-6923-4d4d-b9f6-c00a3afdf75e",
   "metadata": {},
   "source": [
    "<a name='stage_3'></a>\n",
    "# Шаг 3. Создание презентации с отчетом\n",
    "[Назад к оглавлению](#contents)"
   ]
  },
  {
   "cell_type": "markdown",
   "id": "9c8c6f58-4d38-46df-b7c9-4d7cb21353e0",
   "metadata": {},
   "source": [
    "`Ответьте на вопросы менеджеров, используя дашборд`:\n",
    "\n",
    "* Cколько взаимодействий пользователей с карточками происходит в системе с разбивкой по темам карточек?\n",
    "\n",
    "* Как много карточек генерируют источники с разными темами?\n",
    "\n",
    "* Как соотносятся темы карточек и темы источников?"
   ]
  },
  {
   "cell_type": "markdown",
   "id": "82a40a09-eb15-4617-a295-71ffbe69993c",
   "metadata": {},
   "source": [
    "Подготовьте небольшую презентацию с отчётом — ответы на вопросы и графики."
   ]
  },
  {
   "cell_type": "markdown",
   "id": "79a26776-308f-4813-b030-e124860a4ed0",
   "metadata": {},
   "source": [
    "## Ссылка на презентацию по итогам исследования:"
   ]
  },
  {
   "cell_type": "markdown",
   "id": "175b33b9-d314-4b25-a111-49979ec78384",
   "metadata": {},
   "source": [
    "https://docs.google.com/presentation/d/1J66zY97OtyKM5AKE0Z7p0eMgLlkPuxCsDoW1yDWucz0/edit?usp=sharing "
   ]
  }
 ],
 "metadata": {
  "kernelspec": {
   "display_name": "Python 3 (ipykernel)",
   "language": "python",
   "name": "python3"
  },
  "language_info": {
   "codemirror_mode": {
    "name": "ipython",
    "version": 3
   },
   "file_extension": ".py",
   "mimetype": "text/x-python",
   "name": "python",
   "nbconvert_exporter": "python",
   "pygments_lexer": "ipython3",
   "version": "3.9.13"
  }
 },
 "nbformat": 4,
 "nbformat_minor": 5
}
